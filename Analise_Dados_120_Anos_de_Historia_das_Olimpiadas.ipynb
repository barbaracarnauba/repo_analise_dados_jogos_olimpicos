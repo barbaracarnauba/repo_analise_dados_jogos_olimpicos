{
  "nbformat": 4,
  "nbformat_minor": 0,
  "metadata": {
    "colab": {
      "name": "Analise Dados 120 Anos de Historia das Olimpiadas.ipynb",
      "provenance": []
    },
    "kernelspec": {
      "display_name": "Python 3",
      "name": "python3"
    },
    "language_info": {
      "name": "python"
    }
  },
  "cells": [
    {
      "cell_type": "markdown",
      "metadata": {
        "id": "12oZIemDQ8w3"
      },
      "source": [
        "# Dataset: 120 years of Olympic history: athletes and results\n",
        "basic bio data on athletes and medal results from Athens 1896 to Rio 2016 (kaggle)\n",
        "\n",
        "Fonte: https://www.kaggle.com/heesoo37/120-years-of-olympic-history-athletes-and-results"
      ]
    },
    {
      "cell_type": "markdown",
      "metadata": {
        "id": "pOEw3TUjScIw"
      },
      "source": [
        "**Importando bibliotecas**"
      ]
    },
    {
      "cell_type": "code",
      "metadata": {
        "id": "KCfFfN_ZQIP9"
      },
      "source": [
        "import pandas as pd\n",
        "import numpy as np\n",
        "import matplotlib.pyplot as plt\n",
        "import itertools  as it\n",
        "import seaborn as sns\n",
        "import statistics\n",
        "from scipy import stats"
      ],
      "execution_count": 114,
      "outputs": []
    },
    {
      "cell_type": "markdown",
      "metadata": {
        "id": "yoMWb5GhSmpZ"
      },
      "source": [
        "**Carregando Dataset**"
      ]
    },
    {
      "cell_type": "code",
      "metadata": {
        "id": "pH8-QZuOSuGz"
      },
      "source": [
        "caminho = '/content/athlete_events.csv'\n",
        "df_athlete_events = pd.read_csv(caminho)"
      ],
      "execution_count": 115,
      "outputs": []
    },
    {
      "cell_type": "markdown",
      "metadata": {
        "id": "L0eE4TtlP4n0"
      },
      "source": [
        "**Visão geral sobre o dataset**"
      ]
    },
    {
      "cell_type": "code",
      "metadata": {
        "colab": {
          "base_uri": "https://localhost:8080/",
          "height": 445
        },
        "id": "huu64KXhTGrR",
        "outputId": "a7c488ee-b463-4b15-8534-c1fc807c9aea"
      },
      "source": [
        "df_athlete_events.head()"
      ],
      "execution_count": 116,
      "outputs": [
        {
          "output_type": "execute_result",
          "data": {
            "text/html": [
              "<div>\n",
              "<style scoped>\n",
              "    .dataframe tbody tr th:only-of-type {\n",
              "        vertical-align: middle;\n",
              "    }\n",
              "\n",
              "    .dataframe tbody tr th {\n",
              "        vertical-align: top;\n",
              "    }\n",
              "\n",
              "    .dataframe thead th {\n",
              "        text-align: right;\n",
              "    }\n",
              "</style>\n",
              "<table border=\"1\" class=\"dataframe\">\n",
              "  <thead>\n",
              "    <tr style=\"text-align: right;\">\n",
              "      <th></th>\n",
              "      <th>ID</th>\n",
              "      <th>Name</th>\n",
              "      <th>Sex</th>\n",
              "      <th>Age</th>\n",
              "      <th>Height</th>\n",
              "      <th>Weight</th>\n",
              "      <th>Team</th>\n",
              "      <th>NOC</th>\n",
              "      <th>Games</th>\n",
              "      <th>Year</th>\n",
              "      <th>Season</th>\n",
              "      <th>City</th>\n",
              "      <th>Sport</th>\n",
              "      <th>Event</th>\n",
              "      <th>Medal</th>\n",
              "    </tr>\n",
              "  </thead>\n",
              "  <tbody>\n",
              "    <tr>\n",
              "      <th>0</th>\n",
              "      <td>1</td>\n",
              "      <td>A Dijiang</td>\n",
              "      <td>M</td>\n",
              "      <td>24.0</td>\n",
              "      <td>180.0</td>\n",
              "      <td>80.0</td>\n",
              "      <td>China</td>\n",
              "      <td>CHN</td>\n",
              "      <td>1992 Summer</td>\n",
              "      <td>1992</td>\n",
              "      <td>Summer</td>\n",
              "      <td>Barcelona</td>\n",
              "      <td>Basketball</td>\n",
              "      <td>Basketball Men's Basketball</td>\n",
              "      <td>NaN</td>\n",
              "    </tr>\n",
              "    <tr>\n",
              "      <th>1</th>\n",
              "      <td>2</td>\n",
              "      <td>A Lamusi</td>\n",
              "      <td>M</td>\n",
              "      <td>23.0</td>\n",
              "      <td>170.0</td>\n",
              "      <td>60.0</td>\n",
              "      <td>China</td>\n",
              "      <td>CHN</td>\n",
              "      <td>2012 Summer</td>\n",
              "      <td>2012</td>\n",
              "      <td>Summer</td>\n",
              "      <td>London</td>\n",
              "      <td>Judo</td>\n",
              "      <td>Judo Men's Extra-Lightweight</td>\n",
              "      <td>NaN</td>\n",
              "    </tr>\n",
              "    <tr>\n",
              "      <th>2</th>\n",
              "      <td>3</td>\n",
              "      <td>Gunnar Nielsen Aaby</td>\n",
              "      <td>M</td>\n",
              "      <td>24.0</td>\n",
              "      <td>NaN</td>\n",
              "      <td>NaN</td>\n",
              "      <td>Denmark</td>\n",
              "      <td>DEN</td>\n",
              "      <td>1920 Summer</td>\n",
              "      <td>1920</td>\n",
              "      <td>Summer</td>\n",
              "      <td>Antwerpen</td>\n",
              "      <td>Football</td>\n",
              "      <td>Football Men's Football</td>\n",
              "      <td>NaN</td>\n",
              "    </tr>\n",
              "    <tr>\n",
              "      <th>3</th>\n",
              "      <td>4</td>\n",
              "      <td>Edgar Lindenau Aabye</td>\n",
              "      <td>M</td>\n",
              "      <td>34.0</td>\n",
              "      <td>NaN</td>\n",
              "      <td>NaN</td>\n",
              "      <td>Denmark/Sweden</td>\n",
              "      <td>DEN</td>\n",
              "      <td>1900 Summer</td>\n",
              "      <td>1900</td>\n",
              "      <td>Summer</td>\n",
              "      <td>Paris</td>\n",
              "      <td>Tug-Of-War</td>\n",
              "      <td>Tug-Of-War Men's Tug-Of-War</td>\n",
              "      <td>Gold</td>\n",
              "    </tr>\n",
              "    <tr>\n",
              "      <th>4</th>\n",
              "      <td>5</td>\n",
              "      <td>Christine Jacoba Aaftink</td>\n",
              "      <td>F</td>\n",
              "      <td>21.0</td>\n",
              "      <td>185.0</td>\n",
              "      <td>82.0</td>\n",
              "      <td>Netherlands</td>\n",
              "      <td>NED</td>\n",
              "      <td>1988 Winter</td>\n",
              "      <td>1988</td>\n",
              "      <td>Winter</td>\n",
              "      <td>Calgary</td>\n",
              "      <td>Speed Skating</td>\n",
              "      <td>Speed Skating Women's 500 metres</td>\n",
              "      <td>NaN</td>\n",
              "    </tr>\n",
              "  </tbody>\n",
              "</table>\n",
              "</div>"
            ],
            "text/plain": [
              "   ID                      Name  ...                             Event  Medal\n",
              "0   1                 A Dijiang  ...       Basketball Men's Basketball    NaN\n",
              "1   2                  A Lamusi  ...      Judo Men's Extra-Lightweight    NaN\n",
              "2   3       Gunnar Nielsen Aaby  ...           Football Men's Football    NaN\n",
              "3   4      Edgar Lindenau Aabye  ...       Tug-Of-War Men's Tug-Of-War   Gold\n",
              "4   5  Christine Jacoba Aaftink  ...  Speed Skating Women's 500 metres    NaN\n",
              "\n",
              "[5 rows x 15 columns]"
            ]
          },
          "metadata": {
            "tags": []
          },
          "execution_count": 116
        }
      ]
    },
    {
      "cell_type": "code",
      "metadata": {
        "colab": {
          "base_uri": "https://localhost:8080/"
        },
        "id": "O08mxyT4K_3O",
        "outputId": "5776a204-a2ae-4a70-d525-db06844b1c1f"
      },
      "source": [
        "df_athlete_events.shape"
      ],
      "execution_count": 117,
      "outputs": [
        {
          "output_type": "execute_result",
          "data": {
            "text/plain": [
              "(271116, 15)"
            ]
          },
          "metadata": {
            "tags": []
          },
          "execution_count": 117
        }
      ]
    },
    {
      "cell_type": "markdown",
      "metadata": {
        "id": "oAU2Nqq1J_sn"
      },
      "source": [
        "**Observação**\n",
        "\n",
        "Há jogos olímpicos de inverso e de verão, como pode ser visto na coluna \"Season\" do dataset. Como nosso objetivo é apenas analisar os dados das olimpíadas de verão (no hemisfério norte). Filtraremos apenas os dados referentes a Season == 'Verão'"
      ]
    },
    {
      "cell_type": "code",
      "metadata": {
        "colab": {
          "base_uri": "https://localhost:8080/"
        },
        "id": "MjAH3frnKjnc",
        "outputId": "9e64a2cd-c031-4b0b-f958-3bb1ebff7b7c"
      },
      "source": [
        "df_athlete_events['Season'].value_counts() # confirmando que só a duas possibilidades nesta coluna [Winter, Summer]"
      ],
      "execution_count": 118,
      "outputs": [
        {
          "output_type": "execute_result",
          "data": {
            "text/plain": [
              "Summer    222552\n",
              "Winter     48564\n",
              "Name: Season, dtype: int64"
            ]
          },
          "metadata": {
            "tags": []
          },
          "execution_count": 118
        }
      ]
    },
    {
      "cell_type": "code",
      "metadata": {
        "id": "2zw3HZv7Kbdr"
      },
      "source": [
        "filtra_verao = df_athlete_events['Season'] == 'Summer'\n",
        "df_athlete_events=df_athlete_events[filtra_verao]"
      ],
      "execution_count": 119,
      "outputs": []
    },
    {
      "cell_type": "code",
      "metadata": {
        "colab": {
          "base_uri": "https://localhost:8080/",
          "height": 830
        },
        "id": "80ae7tQqRbUM",
        "outputId": "722cd897-fd3d-4a99-da77-1d1d1da90b1e"
      },
      "source": [
        "df_athlete_events.sort_values(by=['Age'])"
      ],
      "execution_count": 120,
      "outputs": [
        {
          "output_type": "execute_result",
          "data": {
            "text/html": [
              "<div>\n",
              "<style scoped>\n",
              "    .dataframe tbody tr th:only-of-type {\n",
              "        vertical-align: middle;\n",
              "    }\n",
              "\n",
              "    .dataframe tbody tr th {\n",
              "        vertical-align: top;\n",
              "    }\n",
              "\n",
              "    .dataframe thead th {\n",
              "        text-align: right;\n",
              "    }\n",
              "</style>\n",
              "<table border=\"1\" class=\"dataframe\">\n",
              "  <thead>\n",
              "    <tr style=\"text-align: right;\">\n",
              "      <th></th>\n",
              "      <th>ID</th>\n",
              "      <th>Name</th>\n",
              "      <th>Sex</th>\n",
              "      <th>Age</th>\n",
              "      <th>Height</th>\n",
              "      <th>Weight</th>\n",
              "      <th>Team</th>\n",
              "      <th>NOC</th>\n",
              "      <th>Games</th>\n",
              "      <th>Year</th>\n",
              "      <th>Season</th>\n",
              "      <th>City</th>\n",
              "      <th>Sport</th>\n",
              "      <th>Event</th>\n",
              "      <th>Medal</th>\n",
              "    </tr>\n",
              "  </thead>\n",
              "  <tbody>\n",
              "    <tr>\n",
              "      <th>142882</th>\n",
              "      <td>71691</td>\n",
              "      <td>Dimitrios Loundras</td>\n",
              "      <td>M</td>\n",
              "      <td>10.0</td>\n",
              "      <td>NaN</td>\n",
              "      <td>NaN</td>\n",
              "      <td>Ethnikos Gymnastikos Syllogos</td>\n",
              "      <td>GRE</td>\n",
              "      <td>1896 Summer</td>\n",
              "      <td>1896</td>\n",
              "      <td>Summer</td>\n",
              "      <td>Athina</td>\n",
              "      <td>Gymnastics</td>\n",
              "      <td>Gymnastics Men's Parallel Bars, Teams</td>\n",
              "      <td>Bronze</td>\n",
              "    </tr>\n",
              "    <tr>\n",
              "      <th>252230</th>\n",
              "      <td>126307</td>\n",
              "      <td>Liana Vicens</td>\n",
              "      <td>F</td>\n",
              "      <td>11.0</td>\n",
              "      <td>158.0</td>\n",
              "      <td>50.0</td>\n",
              "      <td>Puerto Rico</td>\n",
              "      <td>PUR</td>\n",
              "      <td>1968 Summer</td>\n",
              "      <td>1968</td>\n",
              "      <td>Summer</td>\n",
              "      <td>Mexico City</td>\n",
              "      <td>Swimming</td>\n",
              "      <td>Swimming Women's 100 metres Breaststroke</td>\n",
              "      <td>NaN</td>\n",
              "    </tr>\n",
              "    <tr>\n",
              "      <th>79024</th>\n",
              "      <td>40129</td>\n",
              "      <td>Luigina Giavotti</td>\n",
              "      <td>F</td>\n",
              "      <td>11.0</td>\n",
              "      <td>NaN</td>\n",
              "      <td>NaN</td>\n",
              "      <td>Italy</td>\n",
              "      <td>ITA</td>\n",
              "      <td>1928 Summer</td>\n",
              "      <td>1928</td>\n",
              "      <td>Summer</td>\n",
              "      <td>Amsterdam</td>\n",
              "      <td>Gymnastics</td>\n",
              "      <td>Gymnastics Women's Team All-Around</td>\n",
              "      <td>Silver</td>\n",
              "    </tr>\n",
              "    <tr>\n",
              "      <th>73461</th>\n",
              "      <td>37333</td>\n",
              "      <td>Carlos Bienvenido Front Barrera</td>\n",
              "      <td>M</td>\n",
              "      <td>11.0</td>\n",
              "      <td>NaN</td>\n",
              "      <td>NaN</td>\n",
              "      <td>Spain</td>\n",
              "      <td>ESP</td>\n",
              "      <td>1992 Summer</td>\n",
              "      <td>1992</td>\n",
              "      <td>Summer</td>\n",
              "      <td>Barcelona</td>\n",
              "      <td>Rowing</td>\n",
              "      <td>Rowing Men's Coxed Eights</td>\n",
              "      <td>NaN</td>\n",
              "    </tr>\n",
              "    <tr>\n",
              "      <th>252231</th>\n",
              "      <td>126307</td>\n",
              "      <td>Liana Vicens</td>\n",
              "      <td>F</td>\n",
              "      <td>11.0</td>\n",
              "      <td>158.0</td>\n",
              "      <td>50.0</td>\n",
              "      <td>Puerto Rico</td>\n",
              "      <td>PUR</td>\n",
              "      <td>1968 Summer</td>\n",
              "      <td>1968</td>\n",
              "      <td>Summer</td>\n",
              "      <td>Mexico City</td>\n",
              "      <td>Swimming</td>\n",
              "      <td>Swimming Women's 200 metres Breaststroke</td>\n",
              "      <td>NaN</td>\n",
              "    </tr>\n",
              "    <tr>\n",
              "      <th>...</th>\n",
              "      <td>...</td>\n",
              "      <td>...</td>\n",
              "      <td>...</td>\n",
              "      <td>...</td>\n",
              "      <td>...</td>\n",
              "      <td>...</td>\n",
              "      <td>...</td>\n",
              "      <td>...</td>\n",
              "      <td>...</td>\n",
              "      <td>...</td>\n",
              "      <td>...</td>\n",
              "      <td>...</td>\n",
              "      <td>...</td>\n",
              "      <td>...</td>\n",
              "      <td>...</td>\n",
              "    </tr>\n",
              "    <tr>\n",
              "      <th>270679</th>\n",
              "      <td>135368</td>\n",
              "      <td>Antonio A. Zucchi</td>\n",
              "      <td>M</td>\n",
              "      <td>NaN</td>\n",
              "      <td>NaN</td>\n",
              "      <td>NaN</td>\n",
              "      <td>Argentina</td>\n",
              "      <td>ARG</td>\n",
              "      <td>1948 Summer</td>\n",
              "      <td>1948</td>\n",
              "      <td>Summer</td>\n",
              "      <td>London</td>\n",
              "      <td>Hockey</td>\n",
              "      <td>Hockey Men's Hockey</td>\n",
              "      <td>NaN</td>\n",
              "    </tr>\n",
              "    <tr>\n",
              "      <th>270774</th>\n",
              "      <td>135416</td>\n",
              "      <td>Star Zulu</td>\n",
              "      <td>M</td>\n",
              "      <td>NaN</td>\n",
              "      <td>NaN</td>\n",
              "      <td>NaN</td>\n",
              "      <td>Zambia</td>\n",
              "      <td>ZAM</td>\n",
              "      <td>1984 Summer</td>\n",
              "      <td>1984</td>\n",
              "      <td>Summer</td>\n",
              "      <td>Los Angeles</td>\n",
              "      <td>Boxing</td>\n",
              "      <td>Boxing Men's Bantamweight</td>\n",
              "      <td>NaN</td>\n",
              "    </tr>\n",
              "    <tr>\n",
              "      <th>270793</th>\n",
              "      <td>135426</td>\n",
              "      <td>Max Zumstein</td>\n",
              "      <td>M</td>\n",
              "      <td>NaN</td>\n",
              "      <td>NaN</td>\n",
              "      <td>NaN</td>\n",
              "      <td>Switzerland</td>\n",
              "      <td>SUI</td>\n",
              "      <td>1928 Summer</td>\n",
              "      <td>1928</td>\n",
              "      <td>Summer</td>\n",
              "      <td>Amsterdam</td>\n",
              "      <td>Hockey</td>\n",
              "      <td>Hockey Men's Hockey</td>\n",
              "      <td>NaN</td>\n",
              "    </tr>\n",
              "    <tr>\n",
              "      <th>270804</th>\n",
              "      <td>135434</td>\n",
              "      <td>Edmundo Ziga Erraz</td>\n",
              "      <td>M</td>\n",
              "      <td>NaN</td>\n",
              "      <td>180.0</td>\n",
              "      <td>95.0</td>\n",
              "      <td>Chile</td>\n",
              "      <td>CHI</td>\n",
              "      <td>1948 Summer</td>\n",
              "      <td>1948</td>\n",
              "      <td>Summer</td>\n",
              "      <td>London</td>\n",
              "      <td>Athletics</td>\n",
              "      <td>Athletics Men's Hammer Throw</td>\n",
              "      <td>NaN</td>\n",
              "    </tr>\n",
              "    <tr>\n",
              "      <th>270805</th>\n",
              "      <td>135435</td>\n",
              "      <td>Faelo Ziga</td>\n",
              "      <td>M</td>\n",
              "      <td>NaN</td>\n",
              "      <td>NaN</td>\n",
              "      <td>NaN</td>\n",
              "      <td>Chile</td>\n",
              "      <td>CHI</td>\n",
              "      <td>1928 Summer</td>\n",
              "      <td>1928</td>\n",
              "      <td>Summer</td>\n",
              "      <td>Amsterdam</td>\n",
              "      <td>Swimming</td>\n",
              "      <td>Swimming Men's 100 metres Freestyle</td>\n",
              "      <td>NaN</td>\n",
              "    </tr>\n",
              "  </tbody>\n",
              "</table>\n",
              "<p>222552 rows × 15 columns</p>\n",
              "</div>"
            ],
            "text/plain": [
              "            ID  ...   Medal\n",
              "142882   71691  ...  Bronze\n",
              "252230  126307  ...     NaN\n",
              "79024    40129  ...  Silver\n",
              "73461    37333  ...     NaN\n",
              "252231  126307  ...     NaN\n",
              "...        ...  ...     ...\n",
              "270679  135368  ...     NaN\n",
              "270774  135416  ...     NaN\n",
              "270793  135426  ...     NaN\n",
              "270804  135434  ...     NaN\n",
              "270805  135435  ...     NaN\n",
              "\n",
              "[222552 rows x 15 columns]"
            ]
          },
          "metadata": {
            "tags": []
          },
          "execution_count": 120
        }
      ]
    },
    {
      "cell_type": "code",
      "metadata": {
        "colab": {
          "base_uri": "https://localhost:8080/"
        },
        "id": "R4sf5pDcTNsH",
        "outputId": "02feba81-68fa-4d98-eb2c-2026136773fe"
      },
      "source": [
        "df_athlete_events.dtypes"
      ],
      "execution_count": 121,
      "outputs": [
        {
          "output_type": "execute_result",
          "data": {
            "text/plain": [
              "ID          int64\n",
              "Name       object\n",
              "Sex        object\n",
              "Age       float64\n",
              "Height    float64\n",
              "Weight    float64\n",
              "Team       object\n",
              "NOC        object\n",
              "Games      object\n",
              "Year        int64\n",
              "Season     object\n",
              "City       object\n",
              "Sport      object\n",
              "Event      object\n",
              "Medal      object\n",
              "dtype: object"
            ]
          },
          "metadata": {
            "tags": []
          },
          "execution_count": 121
        }
      ]
    },
    {
      "cell_type": "markdown",
      "metadata": {
        "id": "ZQP2NkOZT6CX"
      },
      "source": [
        "**Contando NaN por coluna no df**"
      ]
    },
    {
      "cell_type": "code",
      "metadata": {
        "colab": {
          "base_uri": "https://localhost:8080/"
        },
        "id": "tyIR3n1LPpB-",
        "outputId": "bbe13b88-a4cb-4a56-b9f3-bba742c5a4f1"
      },
      "source": [
        "df_athlete_events.columns"
      ],
      "execution_count": 122,
      "outputs": [
        {
          "output_type": "execute_result",
          "data": {
            "text/plain": [
              "Index(['ID', 'Name', 'Sex', 'Age', 'Height', 'Weight', 'Team', 'NOC', 'Games',\n",
              "       'Year', 'Season', 'City', 'Sport', 'Event', 'Medal'],\n",
              "      dtype='object')"
            ]
          },
          "metadata": {
            "tags": []
          },
          "execution_count": 122
        }
      ]
    },
    {
      "cell_type": "code",
      "metadata": {
        "colab": {
          "base_uri": "https://localhost:8080/"
        },
        "id": "rt9wQ2yPThts",
        "outputId": "2752ac2c-d70f-4463-c83a-44bc1c818edc"
      },
      "source": [
        "df_athlete_events.isna().sum()"
      ],
      "execution_count": 123,
      "outputs": [
        {
          "output_type": "execute_result",
          "data": {
            "text/plain": [
              "ID             0\n",
              "Name           0\n",
              "Sex            0\n",
              "Age         9189\n",
              "Height     51857\n",
              "Weight     53854\n",
              "Team           0\n",
              "NOC            0\n",
              "Games          0\n",
              "Year           0\n",
              "Season         0\n",
              "City           0\n",
              "Sport          0\n",
              "Event          0\n",
              "Medal     188464\n",
              "dtype: int64"
            ]
          },
          "metadata": {
            "tags": []
          },
          "execution_count": 123
        }
      ]
    },
    {
      "cell_type": "code",
      "metadata": {
        "colab": {
          "base_uri": "https://localhost:8080/"
        },
        "id": "_wYJwp2FPUnp",
        "outputId": "38c77fdd-6eeb-4129-de02-5cf94c2fedbc"
      },
      "source": [
        "rows_number = df_athlete_events.shape[0]\n",
        "rows_number"
      ],
      "execution_count": 124,
      "outputs": [
        {
          "output_type": "execute_result",
          "data": {
            "text/plain": [
              "222552"
            ]
          },
          "metadata": {
            "tags": []
          },
          "execution_count": 124
        }
      ]
    },
    {
      "cell_type": "markdown",
      "metadata": {
        "id": "ETiedLVutZfg"
      },
      "source": [
        "**Após ter uma visão geral sobre o datset, quais perguntas são interessantes de saber?**\n",
        "\n",
        "1.   Qual o percentual de valores faltantes por feature?\n",
        "2.   Quais as principais métricas das variáveis numéricas?\n",
        "3.   Como se distribuem as features numéricas?\n",
        "4.   Quais as correlações entre as features?\n",
        "5.   Qual a distribuição de sexo por esporte?\n",
        "6.   Quais os maiores medalhistas da história das olímpiadas?\n",
        "7.   Quem ganhou mais medalhas de ouro?\n",
        "8.   Quem ganhou mais medalhas em uma única olimpíada?\n",
        "9.   Países com mais medalhas historicamente?\n",
        "10.  Países com mais medalhas desde 1980?\n",
        "11.  Corrida histórica de medalhas de 1896 a 2016\n"
      ]
    },
    {
      "cell_type": "markdown",
      "metadata": {
        "id": "Yi2sPOfFveEF"
      },
      "source": [
        "# 1. Qual o percentual de valores faltantes por feature?"
      ]
    },
    {
      "cell_type": "code",
      "metadata": {
        "colab": {
          "base_uri": "https://localhost:8080/"
        },
        "id": "KmUwvkjhsCst",
        "outputId": "d7b9ec17-28f3-4a21-ca73-cb5a3a33cf9c"
      },
      "source": [
        "serie = df_athlete_events.isna().sum()\n",
        "percent_nan_age = round((serie['Age']/rows_number)*100,2)\n",
        "percent_nan_age"
      ],
      "execution_count": 125,
      "outputs": [
        {
          "output_type": "execute_result",
          "data": {
            "text/plain": [
              "4.13"
            ]
          },
          "metadata": {
            "tags": []
          },
          "execution_count": 125
        }
      ]
    },
    {
      "cell_type": "code",
      "metadata": {
        "colab": {
          "base_uri": "https://localhost:8080/"
        },
        "id": "NzzkVH9tscdz",
        "outputId": "cd513685-e58d-4496-e11b-fc16ae382eba"
      },
      "source": [
        "percent_nan_altura = round((serie['Height']/rows_number)*100,2)\n",
        "percent_nan_altura"
      ],
      "execution_count": 126,
      "outputs": [
        {
          "output_type": "execute_result",
          "data": {
            "text/plain": [
              "23.3"
            ]
          },
          "metadata": {
            "tags": []
          },
          "execution_count": 126
        }
      ]
    },
    {
      "cell_type": "code",
      "metadata": {
        "colab": {
          "base_uri": "https://localhost:8080/"
        },
        "id": "XqJyc0CAsi-C",
        "outputId": "af48990b-206f-44f6-d971-187986909c10"
      },
      "source": [
        "percent_nan_peso = round((serie['Weight']/rows_number)*100,2)\n",
        "percent_nan_peso"
      ],
      "execution_count": 127,
      "outputs": [
        {
          "output_type": "execute_result",
          "data": {
            "text/plain": [
              "24.2"
            ]
          },
          "metadata": {
            "tags": []
          },
          "execution_count": 127
        }
      ]
    },
    {
      "cell_type": "code",
      "metadata": {
        "colab": {
          "base_uri": "https://localhost:8080/"
        },
        "id": "wOLWlsvFspoU",
        "outputId": "d1c38f74-f342-490a-a94d-78523dbe7e40"
      },
      "source": [
        "percent_nan_medal = round((serie['Medal']/rows_number)*100,2)\n",
        "percent_nan_medal"
      ],
      "execution_count": 128,
      "outputs": [
        {
          "output_type": "execute_result",
          "data": {
            "text/plain": [
              "84.68"
            ]
          },
          "metadata": {
            "tags": []
          },
          "execution_count": 128
        }
      ]
    },
    {
      "cell_type": "markdown",
      "metadata": {
        "id": "llCNwH3lHt91"
      },
      "source": [
        "**Observação**\n",
        "\n",
        "Analisando o percentual de dados faltantes (NaN) nas features, é razoável que haja 3,49% de de NaN na feature Age, 22,19% na feature Height e 23,19% na feature Weight. No entanto, não é razoável que haja 85,33% NaN na feature Medal. A hipótese aqui assumida é que esses NaN são na verdade os participantes que não ganharam medalha. Por isso, vamos preencher tais NaN com a string \"No Medal\"."
      ]
    },
    {
      "cell_type": "markdown",
      "metadata": {
        "id": "_yBIVm0EJOHd"
      },
      "source": [
        "**Subtituindo NaN na coluna 'Medal' por 'No Medal'**"
      ]
    },
    {
      "cell_type": "code",
      "metadata": {
        "id": "ybXDaawbI3m0"
      },
      "source": [
        "df_athlete_events['Medal'].fillna('No Medal', inplace=True)"
      ],
      "execution_count": 129,
      "outputs": []
    },
    {
      "cell_type": "markdown",
      "metadata": {
        "id": "RfJ9SPJFJfFm"
      },
      "source": [
        "**Confirmando se a substituição foi realizada**"
      ]
    },
    {
      "cell_type": "code",
      "metadata": {
        "colab": {
          "base_uri": "https://localhost:8080/"
        },
        "id": "ywifiZCHJmDd",
        "outputId": "f33b5e12-c24c-4acb-ffd1-174ee4393194"
      },
      "source": [
        "df_athlete_events.isna().sum()"
      ],
      "execution_count": 130,
      "outputs": [
        {
          "output_type": "execute_result",
          "data": {
            "text/plain": [
              "ID            0\n",
              "Name          0\n",
              "Sex           0\n",
              "Age        9189\n",
              "Height    51857\n",
              "Weight    53854\n",
              "Team          0\n",
              "NOC           0\n",
              "Games         0\n",
              "Year          0\n",
              "Season        0\n",
              "City          0\n",
              "Sport         0\n",
              "Event         0\n",
              "Medal         0\n",
              "dtype: int64"
            ]
          },
          "metadata": {
            "tags": []
          },
          "execution_count": 130
        }
      ]
    },
    {
      "cell_type": "markdown",
      "metadata": {
        "id": "tBMCs4R-QOl0"
      },
      "source": [
        "# 2. Quais as principais métricas das variáveis numéricas?"
      ]
    },
    {
      "cell_type": "code",
      "metadata": {
        "colab": {
          "base_uri": "https://localhost:8080/",
          "height": 0
        },
        "id": "0ewOtFuaP9S0",
        "outputId": "a5cb0f2c-0965-4c84-fc2a-dd5c6f4ac2aa"
      },
      "source": [
        "df_numerico = df_athlete_events[['Age', 'Height', 'Weight']]\n",
        "df_numerico.describe() # obs: não são considerados os NaN"
      ],
      "execution_count": 131,
      "outputs": [
        {
          "output_type": "execute_result",
          "data": {
            "text/html": [
              "<div>\n",
              "<style scoped>\n",
              "    .dataframe tbody tr th:only-of-type {\n",
              "        vertical-align: middle;\n",
              "    }\n",
              "\n",
              "    .dataframe tbody tr th {\n",
              "        vertical-align: top;\n",
              "    }\n",
              "\n",
              "    .dataframe thead th {\n",
              "        text-align: right;\n",
              "    }\n",
              "</style>\n",
              "<table border=\"1\" class=\"dataframe\">\n",
              "  <thead>\n",
              "    <tr style=\"text-align: right;\">\n",
              "      <th></th>\n",
              "      <th>Age</th>\n",
              "      <th>Height</th>\n",
              "      <th>Weight</th>\n",
              "    </tr>\n",
              "  </thead>\n",
              "  <tbody>\n",
              "    <tr>\n",
              "      <th>count</th>\n",
              "      <td>213363.000000</td>\n",
              "      <td>170695.000000</td>\n",
              "      <td>168698.00000</td>\n",
              "    </tr>\n",
              "    <tr>\n",
              "      <th>mean</th>\n",
              "      <td>25.674053</td>\n",
              "      <td>175.515551</td>\n",
              "      <td>70.68906</td>\n",
              "    </tr>\n",
              "    <tr>\n",
              "      <th>std</th>\n",
              "      <td>6.699839</td>\n",
              "      <td>10.914725</td>\n",
              "      <td>14.80394</td>\n",
              "    </tr>\n",
              "    <tr>\n",
              "      <th>min</th>\n",
              "      <td>10.000000</td>\n",
              "      <td>127.000000</td>\n",
              "      <td>25.00000</td>\n",
              "    </tr>\n",
              "    <tr>\n",
              "      <th>25%</th>\n",
              "      <td>21.000000</td>\n",
              "      <td>168.000000</td>\n",
              "      <td>60.00000</td>\n",
              "    </tr>\n",
              "    <tr>\n",
              "      <th>50%</th>\n",
              "      <td>24.000000</td>\n",
              "      <td>175.000000</td>\n",
              "      <td>70.00000</td>\n",
              "    </tr>\n",
              "    <tr>\n",
              "      <th>75%</th>\n",
              "      <td>28.000000</td>\n",
              "      <td>183.000000</td>\n",
              "      <td>79.00000</td>\n",
              "    </tr>\n",
              "    <tr>\n",
              "      <th>max</th>\n",
              "      <td>97.000000</td>\n",
              "      <td>226.000000</td>\n",
              "      <td>214.00000</td>\n",
              "    </tr>\n",
              "  </tbody>\n",
              "</table>\n",
              "</div>"
            ],
            "text/plain": [
              "                 Age         Height        Weight\n",
              "count  213363.000000  170695.000000  168698.00000\n",
              "mean       25.674053     175.515551      70.68906\n",
              "std         6.699839      10.914725      14.80394\n",
              "min        10.000000     127.000000      25.00000\n",
              "25%        21.000000     168.000000      60.00000\n",
              "50%        24.000000     175.000000      70.00000\n",
              "75%        28.000000     183.000000      79.00000\n",
              "max        97.000000     226.000000     214.00000"
            ]
          },
          "metadata": {
            "tags": []
          },
          "execution_count": 131
        }
      ]
    },
    {
      "cell_type": "markdown",
      "metadata": {
        "id": "Qo876wpNLWjH"
      },
      "source": [
        "**Dados esquisitos**\n",
        "\n",
        "Atleta mais velho com 97? Segunda o wikipedia o John Quincy Adams Ward competiu postumamente, tendo falecido aos 80 anos em 1910.\n",
        "\n",
        "Isto é uma alerta para não acreditar totalmente nos dados, pois podem haver mais equívocos como esse."
      ]
    },
    {
      "cell_type": "code",
      "metadata": {
        "colab": {
          "base_uri": "https://localhost:8080/",
          "height": 0
        },
        "id": "rHyGeheAIMhO",
        "outputId": "6268509f-7c51-4dba-967f-cf3451c60c09"
      },
      "source": [
        "filtro_mais_velho = df_athlete_events['Age'] == 97.0\n",
        "df_athlete_events[filtro_mais_velho]"
      ],
      "execution_count": 132,
      "outputs": [
        {
          "output_type": "execute_result",
          "data": {
            "text/html": [
              "<div>\n",
              "<style scoped>\n",
              "    .dataframe tbody tr th:only-of-type {\n",
              "        vertical-align: middle;\n",
              "    }\n",
              "\n",
              "    .dataframe tbody tr th {\n",
              "        vertical-align: top;\n",
              "    }\n",
              "\n",
              "    .dataframe thead th {\n",
              "        text-align: right;\n",
              "    }\n",
              "</style>\n",
              "<table border=\"1\" class=\"dataframe\">\n",
              "  <thead>\n",
              "    <tr style=\"text-align: right;\">\n",
              "      <th></th>\n",
              "      <th>ID</th>\n",
              "      <th>Name</th>\n",
              "      <th>Sex</th>\n",
              "      <th>Age</th>\n",
              "      <th>Height</th>\n",
              "      <th>Weight</th>\n",
              "      <th>Team</th>\n",
              "      <th>NOC</th>\n",
              "      <th>Games</th>\n",
              "      <th>Year</th>\n",
              "      <th>Season</th>\n",
              "      <th>City</th>\n",
              "      <th>Sport</th>\n",
              "      <th>Event</th>\n",
              "      <th>Medal</th>\n",
              "    </tr>\n",
              "  </thead>\n",
              "  <tbody>\n",
              "    <tr>\n",
              "      <th>257054</th>\n",
              "      <td>128719</td>\n",
              "      <td>John Quincy Adams Ward</td>\n",
              "      <td>M</td>\n",
              "      <td>97.0</td>\n",
              "      <td>NaN</td>\n",
              "      <td>NaN</td>\n",
              "      <td>United States</td>\n",
              "      <td>USA</td>\n",
              "      <td>1928 Summer</td>\n",
              "      <td>1928</td>\n",
              "      <td>Summer</td>\n",
              "      <td>Amsterdam</td>\n",
              "      <td>Art Competitions</td>\n",
              "      <td>Art Competitions Mixed Sculpturing, Statues</td>\n",
              "      <td>No Medal</td>\n",
              "    </tr>\n",
              "  </tbody>\n",
              "</table>\n",
              "</div>"
            ],
            "text/plain": [
              "            ID  ...     Medal\n",
              "257054  128719  ...  No Medal\n",
              "\n",
              "[1 rows x 15 columns]"
            ]
          },
          "metadata": {
            "tags": []
          },
          "execution_count": 132
        }
      ]
    },
    {
      "cell_type": "markdown",
      "metadata": {
        "id": "VGeL_td_L71h"
      },
      "source": [
        "**Olimpíadas no Brasil 2016**"
      ]
    },
    {
      "cell_type": "code",
      "metadata": {
        "colab": {
          "base_uri": "https://localhost:8080/",
          "height": 0
        },
        "id": "7auXeW2bLwnh",
        "outputId": "c33a1fa0-d307-4dfc-8929-bb51a0ce9082"
      },
      "source": [
        "filtro_2016 = df_athlete_events['Year'] == 2016\n",
        "df_athlete_events[filtro_2016].head()"
      ],
      "execution_count": 133,
      "outputs": [
        {
          "output_type": "execute_result",
          "data": {
            "text/html": [
              "<div>\n",
              "<style scoped>\n",
              "    .dataframe tbody tr th:only-of-type {\n",
              "        vertical-align: middle;\n",
              "    }\n",
              "\n",
              "    .dataframe tbody tr th {\n",
              "        vertical-align: top;\n",
              "    }\n",
              "\n",
              "    .dataframe thead th {\n",
              "        text-align: right;\n",
              "    }\n",
              "</style>\n",
              "<table border=\"1\" class=\"dataframe\">\n",
              "  <thead>\n",
              "    <tr style=\"text-align: right;\">\n",
              "      <th></th>\n",
              "      <th>ID</th>\n",
              "      <th>Name</th>\n",
              "      <th>Sex</th>\n",
              "      <th>Age</th>\n",
              "      <th>Height</th>\n",
              "      <th>Weight</th>\n",
              "      <th>Team</th>\n",
              "      <th>NOC</th>\n",
              "      <th>Games</th>\n",
              "      <th>Year</th>\n",
              "      <th>Season</th>\n",
              "      <th>City</th>\n",
              "      <th>Sport</th>\n",
              "      <th>Event</th>\n",
              "      <th>Medal</th>\n",
              "    </tr>\n",
              "  </thead>\n",
              "  <tbody>\n",
              "    <tr>\n",
              "      <th>80</th>\n",
              "      <td>22</td>\n",
              "      <td>Andreea Aanei</td>\n",
              "      <td>F</td>\n",
              "      <td>22.0</td>\n",
              "      <td>170.0</td>\n",
              "      <td>125.0</td>\n",
              "      <td>Romania</td>\n",
              "      <td>ROU</td>\n",
              "      <td>2016 Summer</td>\n",
              "      <td>2016</td>\n",
              "      <td>Summer</td>\n",
              "      <td>Rio de Janeiro</td>\n",
              "      <td>Weightlifting</td>\n",
              "      <td>Weightlifting Women's Super-Heavyweight</td>\n",
              "      <td>No Medal</td>\n",
              "    </tr>\n",
              "    <tr>\n",
              "      <th>139</th>\n",
              "      <td>51</td>\n",
              "      <td>Nstor Abad Sanjun</td>\n",
              "      <td>M</td>\n",
              "      <td>23.0</td>\n",
              "      <td>167.0</td>\n",
              "      <td>64.0</td>\n",
              "      <td>Spain</td>\n",
              "      <td>ESP</td>\n",
              "      <td>2016 Summer</td>\n",
              "      <td>2016</td>\n",
              "      <td>Summer</td>\n",
              "      <td>Rio de Janeiro</td>\n",
              "      <td>Gymnastics</td>\n",
              "      <td>Gymnastics Men's Individual All-Around</td>\n",
              "      <td>No Medal</td>\n",
              "    </tr>\n",
              "    <tr>\n",
              "      <th>140</th>\n",
              "      <td>51</td>\n",
              "      <td>Nstor Abad Sanjun</td>\n",
              "      <td>M</td>\n",
              "      <td>23.0</td>\n",
              "      <td>167.0</td>\n",
              "      <td>64.0</td>\n",
              "      <td>Spain</td>\n",
              "      <td>ESP</td>\n",
              "      <td>2016 Summer</td>\n",
              "      <td>2016</td>\n",
              "      <td>Summer</td>\n",
              "      <td>Rio de Janeiro</td>\n",
              "      <td>Gymnastics</td>\n",
              "      <td>Gymnastics Men's Floor Exercise</td>\n",
              "      <td>No Medal</td>\n",
              "    </tr>\n",
              "    <tr>\n",
              "      <th>141</th>\n",
              "      <td>51</td>\n",
              "      <td>Nstor Abad Sanjun</td>\n",
              "      <td>M</td>\n",
              "      <td>23.0</td>\n",
              "      <td>167.0</td>\n",
              "      <td>64.0</td>\n",
              "      <td>Spain</td>\n",
              "      <td>ESP</td>\n",
              "      <td>2016 Summer</td>\n",
              "      <td>2016</td>\n",
              "      <td>Summer</td>\n",
              "      <td>Rio de Janeiro</td>\n",
              "      <td>Gymnastics</td>\n",
              "      <td>Gymnastics Men's Parallel Bars</td>\n",
              "      <td>No Medal</td>\n",
              "    </tr>\n",
              "    <tr>\n",
              "      <th>142</th>\n",
              "      <td>51</td>\n",
              "      <td>Nstor Abad Sanjun</td>\n",
              "      <td>M</td>\n",
              "      <td>23.0</td>\n",
              "      <td>167.0</td>\n",
              "      <td>64.0</td>\n",
              "      <td>Spain</td>\n",
              "      <td>ESP</td>\n",
              "      <td>2016 Summer</td>\n",
              "      <td>2016</td>\n",
              "      <td>Summer</td>\n",
              "      <td>Rio de Janeiro</td>\n",
              "      <td>Gymnastics</td>\n",
              "      <td>Gymnastics Men's Horizontal Bar</td>\n",
              "      <td>No Medal</td>\n",
              "    </tr>\n",
              "  </tbody>\n",
              "</table>\n",
              "</div>"
            ],
            "text/plain": [
              "     ID               Name  ...                                    Event     Medal\n",
              "80   22      Andreea Aanei  ...  Weightlifting Women's Super-Heavyweight  No Medal\n",
              "139  51  Nstor Abad Sanjun  ...   Gymnastics Men's Individual All-Around  No Medal\n",
              "140  51  Nstor Abad Sanjun  ...          Gymnastics Men's Floor Exercise  No Medal\n",
              "141  51  Nstor Abad Sanjun  ...           Gymnastics Men's Parallel Bars  No Medal\n",
              "142  51  Nstor Abad Sanjun  ...          Gymnastics Men's Horizontal Bar  No Medal\n",
              "\n",
              "[5 rows x 15 columns]"
            ]
          },
          "metadata": {
            "tags": []
          },
          "execution_count": 133
        }
      ]
    },
    {
      "cell_type": "markdown",
      "metadata": {
        "id": "ul3eps3OXSiv"
      },
      "source": [
        "**Michael Phelps**"
      ]
    },
    {
      "cell_type": "code",
      "metadata": {
        "colab": {
          "base_uri": "https://localhost:8080/",
          "height": 0
        },
        "id": "CWJKmelxXVbi",
        "outputId": "4a12c824-ea42-4b7b-ddd6-eef3d5bb2886"
      },
      "source": [
        "filtro_phelps = df_athlete_events['Name'] == 'Michael Fred Phelps, II'\n",
        "df_athlete_events[filtro_phelps].head()"
      ],
      "execution_count": 134,
      "outputs": [
        {
          "output_type": "execute_result",
          "data": {
            "text/html": [
              "<div>\n",
              "<style scoped>\n",
              "    .dataframe tbody tr th:only-of-type {\n",
              "        vertical-align: middle;\n",
              "    }\n",
              "\n",
              "    .dataframe tbody tr th {\n",
              "        vertical-align: top;\n",
              "    }\n",
              "\n",
              "    .dataframe thead th {\n",
              "        text-align: right;\n",
              "    }\n",
              "</style>\n",
              "<table border=\"1\" class=\"dataframe\">\n",
              "  <thead>\n",
              "    <tr style=\"text-align: right;\">\n",
              "      <th></th>\n",
              "      <th>ID</th>\n",
              "      <th>Name</th>\n",
              "      <th>Sex</th>\n",
              "      <th>Age</th>\n",
              "      <th>Height</th>\n",
              "      <th>Weight</th>\n",
              "      <th>Team</th>\n",
              "      <th>NOC</th>\n",
              "      <th>Games</th>\n",
              "      <th>Year</th>\n",
              "      <th>Season</th>\n",
              "      <th>City</th>\n",
              "      <th>Sport</th>\n",
              "      <th>Event</th>\n",
              "      <th>Medal</th>\n",
              "    </tr>\n",
              "  </thead>\n",
              "  <tbody>\n",
              "    <tr>\n",
              "      <th>187887</th>\n",
              "      <td>94406</td>\n",
              "      <td>Michael Fred Phelps, II</td>\n",
              "      <td>M</td>\n",
              "      <td>15.0</td>\n",
              "      <td>193.0</td>\n",
              "      <td>91.0</td>\n",
              "      <td>United States</td>\n",
              "      <td>USA</td>\n",
              "      <td>2000 Summer</td>\n",
              "      <td>2000</td>\n",
              "      <td>Summer</td>\n",
              "      <td>Sydney</td>\n",
              "      <td>Swimming</td>\n",
              "      <td>Swimming Men's 200 metres Butterfly</td>\n",
              "      <td>No Medal</td>\n",
              "    </tr>\n",
              "    <tr>\n",
              "      <th>187888</th>\n",
              "      <td>94406</td>\n",
              "      <td>Michael Fred Phelps, II</td>\n",
              "      <td>M</td>\n",
              "      <td>19.0</td>\n",
              "      <td>193.0</td>\n",
              "      <td>91.0</td>\n",
              "      <td>United States</td>\n",
              "      <td>USA</td>\n",
              "      <td>2004 Summer</td>\n",
              "      <td>2004</td>\n",
              "      <td>Summer</td>\n",
              "      <td>Athina</td>\n",
              "      <td>Swimming</td>\n",
              "      <td>Swimming Men's 200 metres Freestyle</td>\n",
              "      <td>Bronze</td>\n",
              "    </tr>\n",
              "    <tr>\n",
              "      <th>187889</th>\n",
              "      <td>94406</td>\n",
              "      <td>Michael Fred Phelps, II</td>\n",
              "      <td>M</td>\n",
              "      <td>19.0</td>\n",
              "      <td>193.0</td>\n",
              "      <td>91.0</td>\n",
              "      <td>United States</td>\n",
              "      <td>USA</td>\n",
              "      <td>2004 Summer</td>\n",
              "      <td>2004</td>\n",
              "      <td>Summer</td>\n",
              "      <td>Athina</td>\n",
              "      <td>Swimming</td>\n",
              "      <td>Swimming Men's 4 x 100 metres Freestyle Relay</td>\n",
              "      <td>Bronze</td>\n",
              "    </tr>\n",
              "    <tr>\n",
              "      <th>187890</th>\n",
              "      <td>94406</td>\n",
              "      <td>Michael Fred Phelps, II</td>\n",
              "      <td>M</td>\n",
              "      <td>19.0</td>\n",
              "      <td>193.0</td>\n",
              "      <td>91.0</td>\n",
              "      <td>United States</td>\n",
              "      <td>USA</td>\n",
              "      <td>2004 Summer</td>\n",
              "      <td>2004</td>\n",
              "      <td>Summer</td>\n",
              "      <td>Athina</td>\n",
              "      <td>Swimming</td>\n",
              "      <td>Swimming Men's 4 x 200 metres Freestyle Relay</td>\n",
              "      <td>Gold</td>\n",
              "    </tr>\n",
              "    <tr>\n",
              "      <th>187891</th>\n",
              "      <td>94406</td>\n",
              "      <td>Michael Fred Phelps, II</td>\n",
              "      <td>M</td>\n",
              "      <td>19.0</td>\n",
              "      <td>193.0</td>\n",
              "      <td>91.0</td>\n",
              "      <td>United States</td>\n",
              "      <td>USA</td>\n",
              "      <td>2004 Summer</td>\n",
              "      <td>2004</td>\n",
              "      <td>Summer</td>\n",
              "      <td>Athina</td>\n",
              "      <td>Swimming</td>\n",
              "      <td>Swimming Men's 100 metres Butterfly</td>\n",
              "      <td>Gold</td>\n",
              "    </tr>\n",
              "  </tbody>\n",
              "</table>\n",
              "</div>"
            ],
            "text/plain": [
              "           ID  ...     Medal\n",
              "187887  94406  ...  No Medal\n",
              "187888  94406  ...    Bronze\n",
              "187889  94406  ...    Bronze\n",
              "187890  94406  ...      Gold\n",
              "187891  94406  ...      Gold\n",
              "\n",
              "[5 rows x 15 columns]"
            ]
          },
          "metadata": {
            "tags": []
          },
          "execution_count": 134
        }
      ]
    },
    {
      "cell_type": "markdown",
      "metadata": {
        "id": "fQTeH5QJSLYA"
      },
      "source": [
        "**Modas da Idade, Altura e Peso**"
      ]
    },
    {
      "cell_type": "code",
      "metadata": {
        "colab": {
          "base_uri": "https://localhost:8080/"
        },
        "id": "_jJCUKnjWYKi",
        "outputId": "581dc8f9-abc1-4c33-c542-3853086b8e10"
      },
      "source": [
        "idade = df_numerico['Age'].dropna()\n",
        "stats.mode(idade)"
      ],
      "execution_count": 135,
      "outputs": [
        {
          "output_type": "execute_result",
          "data": {
            "text/plain": [
              "ModeResult(mode=array([23.]), count=array([17521]))"
            ]
          },
          "metadata": {
            "tags": []
          },
          "execution_count": 135
        }
      ]
    },
    {
      "cell_type": "code",
      "metadata": {
        "colab": {
          "base_uri": "https://localhost:8080/"
        },
        "id": "Th5_xV8CW9Gb",
        "outputId": "89fc1d65-3fb2-423d-aba8-f7fb698a0887"
      },
      "source": [
        "altura = df_numerico['Height'].dropna()\n",
        "stats.mode(altura)"
      ],
      "execution_count": 136,
      "outputs": [
        {
          "output_type": "execute_result",
          "data": {
            "text/plain": [
              "ModeResult(mode=array([170.]), count=array([9696]))"
            ]
          },
          "metadata": {
            "tags": []
          },
          "execution_count": 136
        }
      ]
    },
    {
      "cell_type": "code",
      "metadata": {
        "colab": {
          "base_uri": "https://localhost:8080/"
        },
        "id": "D2-0YxWVXCSp",
        "outputId": "50a10685-a69e-4597-87c7-bf05badb07a5"
      },
      "source": [
        "peso = df_numerico['Weight'].dropna()\n",
        "stats.mode(peso)"
      ],
      "execution_count": 137,
      "outputs": [
        {
          "output_type": "execute_result",
          "data": {
            "text/plain": [
              "ModeResult(mode=array([70.]), count=array([7659]))"
            ]
          },
          "metadata": {
            "tags": []
          },
          "execution_count": 137
        }
      ]
    },
    {
      "cell_type": "markdown",
      "metadata": {
        "id": "AyupJTG0XPDw"
      },
      "source": [
        "# Como se distribuem as features numéricas? Histogramas (Densidade de Probablidade)"
      ]
    },
    {
      "cell_type": "markdown",
      "metadata": {
        "id": "GWwicWn1YXuP"
      },
      "source": [
        "Histogramas são recomendados para variáveis numéricas, tem relação com a função densidade de probabilidade"
      ]
    },
    {
      "cell_type": "code",
      "metadata": {
        "colab": {
          "base_uri": "https://localhost:8080/"
        },
        "id": "ruOf9nOKbU6o",
        "outputId": "278cdb9b-7ee7-4bec-c0e6-2c8d122371db"
      },
      "source": [
        "print('***********Idade***********')\n",
        "print('skewness: ', stats.skew(idade))\n",
        "print('kurtosis: ', stats.kurtosis(idade))\n",
        "print('***********Altura***********')\n",
        "print('skewness: ',stats.skew(altura))\n",
        "print('kurtosis: ', stats.kurtosis(altura))\n",
        "print('***********Peso***********')\n",
        "print('skewness: ', stats.skew(peso))\n",
        "print('kurtosis: ', stats.kurtosis(peso))\n"
      ],
      "execution_count": 138,
      "outputs": [
        {
          "output_type": "stream",
          "text": [
            "***********Idade***********\n",
            "skewness:  1.7741921796321827\n",
            "kurtosis:  6.062101977184664\n",
            "***********Altura***********\n",
            "skewness:  0.019154885937302486\n",
            "kurtosis:  0.1354363080733143\n",
            "***********Peso***********\n",
            "skewness:  0.8464250261851799\n",
            "kurtosis:  2.1521574363717164\n"
          ],
          "name": "stdout"
        }
      ]
    },
    {
      "cell_type": "code",
      "metadata": {
        "colab": {
          "base_uri": "https://localhost:8080/",
          "height": 0
        },
        "id": "AWBV1rd6XRJ1",
        "outputId": "0e9a0530-36be-43dd-8e12-ff3070fa9f66"
      },
      "source": [
        "hist_idade =  plt.hist(idade, bins=50, density=True, facecolor='g')"
      ],
      "execution_count": 139,
      "outputs": [
        {
          "output_type": "display_data",
          "data": {
            "image/png": "[encoded data removed]",
            "text/plain": [
              "<Figure size 432x288 with 1 Axes>"
            ]
          },
          "metadata": {
            "tags": [],
            "needs_background": "light"
          }
        }
      ]
    },
    {
      "cell_type": "code",
      "metadata": {
        "colab": {
          "base_uri": "https://localhost:8080/",
          "height": 0
        },
        "id": "g8JVEWgXYIIE",
        "outputId": "6a8ef1db-89b6-49f9-d258-55d0ae53a841"
      },
      "source": [
        "hist_altura =  plt.hist(altura, bins=50, density=True, facecolor='b')"
      ],
      "execution_count": 140,
      "outputs": [
        {
          "output_type": "display_data",
          "data": {
            "image/png": "[encoded data removed]",
            "text/plain": [
              "<Figure size 432x288 with 1 Axes>"
            ]
          },
          "metadata": {
            "tags": [],
            "needs_background": "light"
          }
        }
      ]
    },
    {
      "cell_type": "code",
      "metadata": {
        "colab": {
          "base_uri": "https://localhost:8080/",
          "height": 0
        },
        "id": "tF_Z32xWYLVy",
        "outputId": "3884b715-91dc-48ff-901b-cde3eaa1e915"
      },
      "source": [
        "hist_peso =  plt.hist(peso, bins=50, density=True, facecolor='r')"
      ],
      "execution_count": 141,
      "outputs": [
        {
          "output_type": "display_data",
          "data": {
            "image/png": "[encoded data removed]",
            "text/plain": [
              "<Figure size 432x288 with 1 Axes>"
            ]
          },
          "metadata": {
            "tags": [],
            "needs_background": "light"
          }
        }
      ]
    },
    {
      "cell_type": "markdown",
      "metadata": {
        "id": "O_hx6uSezOLy"
      },
      "source": [
        "# 4. Correlações"
      ]
    },
    {
      "cell_type": "code",
      "metadata": {
        "colab": {
          "base_uri": "https://localhost:8080/",
          "height": 0
        },
        "id": "INR3uEAXPFwg",
        "outputId": "48b79fd0-261d-49a8-9443-e9c2e5533b01"
      },
      "source": [
        "filtro_medalhas = df_athlete_events['Medal'].str.contains(\"Gold|Silver|Bronze\")\n",
        "df_medalhistas = df_athlete_events[filtro_medalhas]\n",
        "df_medalhistas.head()"
      ],
      "execution_count": 142,
      "outputs": [
        {
          "output_type": "execute_result",
          "data": {
            "text/html": [
              "<div>\n",
              "<style scoped>\n",
              "    .dataframe tbody tr th:only-of-type {\n",
              "        vertical-align: middle;\n",
              "    }\n",
              "\n",
              "    .dataframe tbody tr th {\n",
              "        vertical-align: top;\n",
              "    }\n",
              "\n",
              "    .dataframe thead th {\n",
              "        text-align: right;\n",
              "    }\n",
              "</style>\n",
              "<table border=\"1\" class=\"dataframe\">\n",
              "  <thead>\n",
              "    <tr style=\"text-align: right;\">\n",
              "      <th></th>\n",
              "      <th>ID</th>\n",
              "      <th>Name</th>\n",
              "      <th>Sex</th>\n",
              "      <th>Age</th>\n",
              "      <th>Height</th>\n",
              "      <th>Weight</th>\n",
              "      <th>Team</th>\n",
              "      <th>NOC</th>\n",
              "      <th>Games</th>\n",
              "      <th>Year</th>\n",
              "      <th>Season</th>\n",
              "      <th>City</th>\n",
              "      <th>Sport</th>\n",
              "      <th>Event</th>\n",
              "      <th>Medal</th>\n",
              "    </tr>\n",
              "  </thead>\n",
              "  <tbody>\n",
              "    <tr>\n",
              "      <th>3</th>\n",
              "      <td>4</td>\n",
              "      <td>Edgar Lindenau Aabye</td>\n",
              "      <td>M</td>\n",
              "      <td>34.0</td>\n",
              "      <td>NaN</td>\n",
              "      <td>NaN</td>\n",
              "      <td>Denmark/Sweden</td>\n",
              "      <td>DEN</td>\n",
              "      <td>1900 Summer</td>\n",
              "      <td>1900</td>\n",
              "      <td>Summer</td>\n",
              "      <td>Paris</td>\n",
              "      <td>Tug-Of-War</td>\n",
              "      <td>Tug-Of-War Men's Tug-Of-War</td>\n",
              "      <td>Gold</td>\n",
              "    </tr>\n",
              "    <tr>\n",
              "      <th>37</th>\n",
              "      <td>15</td>\n",
              "      <td>Arvo Ossian Aaltonen</td>\n",
              "      <td>M</td>\n",
              "      <td>30.0</td>\n",
              "      <td>NaN</td>\n",
              "      <td>NaN</td>\n",
              "      <td>Finland</td>\n",
              "      <td>FIN</td>\n",
              "      <td>1920 Summer</td>\n",
              "      <td>1920</td>\n",
              "      <td>Summer</td>\n",
              "      <td>Antwerpen</td>\n",
              "      <td>Swimming</td>\n",
              "      <td>Swimming Men's 200 metres Breaststroke</td>\n",
              "      <td>Bronze</td>\n",
              "    </tr>\n",
              "    <tr>\n",
              "      <th>38</th>\n",
              "      <td>15</td>\n",
              "      <td>Arvo Ossian Aaltonen</td>\n",
              "      <td>M</td>\n",
              "      <td>30.0</td>\n",
              "      <td>NaN</td>\n",
              "      <td>NaN</td>\n",
              "      <td>Finland</td>\n",
              "      <td>FIN</td>\n",
              "      <td>1920 Summer</td>\n",
              "      <td>1920</td>\n",
              "      <td>Summer</td>\n",
              "      <td>Antwerpen</td>\n",
              "      <td>Swimming</td>\n",
              "      <td>Swimming Men's 400 metres Breaststroke</td>\n",
              "      <td>Bronze</td>\n",
              "    </tr>\n",
              "    <tr>\n",
              "      <th>41</th>\n",
              "      <td>17</td>\n",
              "      <td>Paavo Johannes Aaltonen</td>\n",
              "      <td>M</td>\n",
              "      <td>28.0</td>\n",
              "      <td>175.0</td>\n",
              "      <td>64.0</td>\n",
              "      <td>Finland</td>\n",
              "      <td>FIN</td>\n",
              "      <td>1948 Summer</td>\n",
              "      <td>1948</td>\n",
              "      <td>Summer</td>\n",
              "      <td>London</td>\n",
              "      <td>Gymnastics</td>\n",
              "      <td>Gymnastics Men's Individual All-Around</td>\n",
              "      <td>Bronze</td>\n",
              "    </tr>\n",
              "    <tr>\n",
              "      <th>42</th>\n",
              "      <td>17</td>\n",
              "      <td>Paavo Johannes Aaltonen</td>\n",
              "      <td>M</td>\n",
              "      <td>28.0</td>\n",
              "      <td>175.0</td>\n",
              "      <td>64.0</td>\n",
              "      <td>Finland</td>\n",
              "      <td>FIN</td>\n",
              "      <td>1948 Summer</td>\n",
              "      <td>1948</td>\n",
              "      <td>Summer</td>\n",
              "      <td>London</td>\n",
              "      <td>Gymnastics</td>\n",
              "      <td>Gymnastics Men's Team All-Around</td>\n",
              "      <td>Gold</td>\n",
              "    </tr>\n",
              "  </tbody>\n",
              "</table>\n",
              "</div>"
            ],
            "text/plain": [
              "    ID                     Name  ...                                   Event   Medal\n",
              "3    4     Edgar Lindenau Aabye  ...             Tug-Of-War Men's Tug-Of-War    Gold\n",
              "37  15     Arvo Ossian Aaltonen  ...  Swimming Men's 200 metres Breaststroke  Bronze\n",
              "38  15     Arvo Ossian Aaltonen  ...  Swimming Men's 400 metres Breaststroke  Bronze\n",
              "41  17  Paavo Johannes Aaltonen  ...  Gymnastics Men's Individual All-Around  Bronze\n",
              "42  17  Paavo Johannes Aaltonen  ...        Gymnastics Men's Team All-Around    Gold\n",
              "\n",
              "[5 rows x 15 columns]"
            ]
          },
          "metadata": {
            "tags": []
          },
          "execution_count": 142
        }
      ]
    },
    {
      "cell_type": "markdown",
      "metadata": {
        "id": "4vHLwLAQPeQd"
      },
      "source": [
        "Procurando relação entre altura e medalha na ginástica e na natação"
      ]
    },
    {
      "cell_type": "code",
      "metadata": {
        "colab": {
          "base_uri": "https://localhost:8080/",
          "height": 0
        },
        "id": "foG_CVl0PO03",
        "outputId": "f94bf1a8-c76b-4a8f-928a-13fabc8d826e"
      },
      "source": [
        "filtro_ginastica = df_medalhistas['Sport'] == 'Gymnastics'\n",
        "df_ginastica = df_medalhistas[filtro_ginastica]\n",
        "hist_altura_gim =  plt.hist(df_ginastica['Height'].dropna(), bins=30, density=True, facecolor='b')"
      ],
      "execution_count": 143,
      "outputs": [
        {
          "output_type": "display_data",
          "data": {
            "image/png": "[encoded data removed]",
            "text/plain": [
              "<Figure size 432x288 with 1 Axes>"
            ]
          },
          "metadata": {
            "tags": [],
            "needs_background": "light"
          }
        }
      ]
    },
    {
      "cell_type": "code",
      "metadata": {
        "colab": {
          "base_uri": "https://localhost:8080/",
          "height": 0
        },
        "id": "Nt6tQHsuQCSf",
        "outputId": "45c30366-95ac-4a19-b38e-1bef182fd596"
      },
      "source": [
        "filtro_natacao = df_medalhistas['Sport'] == 'Swimming'\n",
        "df_natacao = df_medalhistas[filtro_natacao]\n",
        "hist_altura_nat =  plt.hist(df_natacao['Height'].dropna(), bins=30, density=True, facecolor='b')"
      ],
      "execution_count": 144,
      "outputs": [
        {
          "output_type": "display_data",
          "data": {
            "image/png": "[encoded data removed]",
            "text/plain": [
              "<Figure size 432x288 with 1 Axes>"
            ]
          },
          "metadata": {
            "tags": [],
            "needs_background": "light"
          }
        }
      ]
    },
    {
      "cell_type": "code",
      "metadata": {
        "colab": {
          "base_uri": "https://localhost:8080/",
          "height": 0
        },
        "id": "uCJNcz-3Qr1i",
        "outputId": "4662be08-ecec-41ef-eb1d-8e21ac92bcf7"
      },
      "source": [
        "filtro_volei= df_medalhistas['Sport'] == 'Volleyball'\n",
        "df_volei = df_medalhistas[filtro_volei]\n",
        "hist_altura_volei =  plt.hist(df_volei['Height'].dropna(), bins=30, density=True, facecolor='b')"
      ],
      "execution_count": 145,
      "outputs": [
        {
          "output_type": "display_data",
          "data": {
            "image/png": "[encoded data removed]",
            "text/plain": [
              "<Figure size 432x288 with 1 Axes>"
            ]
          },
          "metadata": {
            "tags": [],
            "needs_background": "light"
          }
        }
      ]
    },
    {
      "cell_type": "markdown",
      "metadata": {
        "id": "PyebaR1-Q6ff"
      },
      "source": [
        "É bem interessante observar a distribuição da altura dos atletas para cada cateogia do esporte. Olhando paras os atletas vencedores de medalha de ginástica, natação e volei, foi observado o esperado: concetração de atletas muito altos no vôlei, altos na natação e baixos/média estatura na ginástica."
      ]
    },
    {
      "cell_type": "markdown",
      "metadata": {
        "id": "-TNO4ZjA0iTV"
      },
      "source": [
        "# 5. Qual a distribuição de sexo por esporte (top 10)?"
      ]
    },
    {
      "cell_type": "code",
      "metadata": {
        "colab": {
          "base_uri": "https://localhost:8080/"
        },
        "id": "k8MaHxhb2FG-",
        "outputId": "d5c6ab6e-8860-49a2-bc94-009cb1098dda"
      },
      "source": [
        "df_athlete_events['Sport'].unique()"
      ],
      "execution_count": 146,
      "outputs": [
        {
          "output_type": "execute_result",
          "data": {
            "text/plain": [
              "array(['Basketball', 'Judo', 'Football', 'Tug-Of-War', 'Athletics',\n",
              "       'Swimming', 'Badminton', 'Sailing', 'Gymnastics',\n",
              "       'Art Competitions', 'Handball', 'Weightlifting', 'Wrestling',\n",
              "       'Water Polo', 'Hockey', 'Rowing', 'Fencing', 'Equestrianism',\n",
              "       'Shooting', 'Boxing', 'Taekwondo', 'Cycling', 'Diving', 'Canoeing',\n",
              "       'Tennis', 'Modern Pentathlon', 'Golf', 'Softball', 'Archery',\n",
              "       'Volleyball', 'Synchronized Swimming', 'Table Tennis', 'Baseball',\n",
              "       'Rhythmic Gymnastics', 'Rugby Sevens', 'Trampolining',\n",
              "       'Beach Volleyball', 'Triathlon', 'Rugby', 'Lacrosse', 'Polo',\n",
              "       'Cricket', 'Ice Hockey', 'Racquets', 'Motorboating', 'Croquet',\n",
              "       'Figure Skating', 'Jeu De Paume', 'Roque', 'Basque Pelota',\n",
              "       'Alpinism', 'Aeronautics'], dtype=object)"
            ]
          },
          "metadata": {
            "tags": []
          },
          "execution_count": 146
        }
      ]
    },
    {
      "cell_type": "code",
      "metadata": {
        "id": "Z4gJ-8QeBW-C"
      },
      "source": [
        "def plot_bar_cores(xval,yval,dados,ylab,xlab,titulo):  \n",
        "    \"\"\"\n",
        "    Função para plotar gráfico de barras a partir de colunas de dataframes e\n",
        "    colore de vermelho a coluna de maior valor, de azul a de menor valor e de \n",
        "    cinza as demais colunas.\n",
        "    \n",
        "    Parâmetros:\n",
        "    xval (string) : coluna do dataframe que será o eixo x\n",
        "    yval  (string) : coluna do dataframe que será o eixo y\n",
        "    dados (dataframe) : dataframe que é a base dos dados de xval e yval\n",
        "    ylab (string) : rótulo do eixo y\n",
        "    xlab (string) : rótulo do eixo x\n",
        "    titulo (string) : titulo do grafico    \n",
        "    \"\"\"   \n",
        "    cores= ['red' if (y == dados[yval].max()) else\n",
        "             'blue' if (y == dados[yval].min()) else \n",
        "             'grey' for y in dados[yval] ]      \n",
        "    plt.figure()\n",
        "    sns.barplot(x = xval, y = yval, data = dados, palette= cores ,ci=None)\n",
        "    plt.ylabel(ylab)\n",
        "    plt.xlabel(xlab)\n",
        "    plt.title(titulo)\n",
        "    plt.xticks(rotation=45)\n",
        "    plt.tight_layout()\n",
        "    plt.show()"
      ],
      "execution_count": 147,
      "outputs": []
    },
    {
      "cell_type": "code",
      "metadata": {
        "id": "lpUI2LoTFdHB"
      },
      "source": [
        "def filtra_esporte_por_sexo(df,sex):\n",
        "  filtro = df['Sex'] == sex\n",
        "  df_top10_FSports=df[filtro]['Sport'].value_counts()[0:10] # top 10 \n",
        "  df_top10_FSports=df_top10_FSports.to_frame()\n",
        "  df_top10_FSports['index'] = df_top10_FSports.index\n",
        "  df_top10_FSports.rename({'Sport': 'Counts', 'index': 'Esporte'}, axis=1, inplace=True)\n",
        "  return df_top10_FSports"
      ],
      "execution_count": 148,
      "outputs": []
    },
    {
      "cell_type": "code",
      "metadata": {
        "id": "ia6A-HLCGCw0"
      },
      "source": [
        "df_sport_F=filtra_esporte_por_sexo(df_athlete_events,'F')"
      ],
      "execution_count": 149,
      "outputs": []
    },
    {
      "cell_type": "code",
      "metadata": {
        "id": "Xl7jqF9UGXjQ"
      },
      "source": [
        "df_sport_M=filtra_esporte_por_sexo(df_athlete_events,'M')"
      ],
      "execution_count": 150,
      "outputs": []
    },
    {
      "cell_type": "code",
      "metadata": {
        "colab": {
          "base_uri": "https://localhost:8080/",
          "height": 0
        },
        "id": "1wI5YO7EBkOI",
        "outputId": "baf5d826-7c51-40e7-a749-52e122bb5398"
      },
      "source": [
        "plot_bar_cores('Esporte','Counts',df_sport_F,'Esportes','Counts','Top 10 esportes com mais mulheres')"
      ],
      "execution_count": 151,
      "outputs": [
        {
          "output_type": "display_data",
          "data": {
            "image/png": "[encoded data removed]",
            "text/plain": [
              "<Figure size 432x288 with 1 Axes>"
            ]
          },
          "metadata": {
            "tags": [],
            "needs_background": "light"
          }
        }
      ]
    },
    {
      "cell_type": "code",
      "metadata": {
        "colab": {
          "base_uri": "https://localhost:8080/",
          "height": 0
        },
        "id": "9PMgVRLdGeeK",
        "outputId": "8bf65ca2-dd9c-43e7-a33f-3b89e6bb57fa"
      },
      "source": [
        "plot_bar_cores('Esporte','Counts',df_sport_M,'Esportes','Counts','Top 10 esportes com mais homens')"
      ],
      "execution_count": 152,
      "outputs": [
        {
          "output_type": "display_data",
          "data": {
            "image/png": "[encoded data removed]",
            "text/plain": [
              "<Figure size 432x288 with 1 Axes>"
            ]
          },
          "metadata": {
            "tags": [],
            "needs_background": "light"
          }
        }
      ]
    },
    {
      "cell_type": "markdown",
      "metadata": {
        "id": "LXdvLUvbNg_s"
      },
      "source": [
        "# 6. Quais os maiores medalhistas da história das olímpiadas?"
      ]
    },
    {
      "cell_type": "code",
      "metadata": {
        "colab": {
          "base_uri": "https://localhost:8080/"
        },
        "id": "_x6P5KhFP3LT",
        "outputId": "ba8b5cef-9f3d-4244-978e-9536f44b4ee7"
      },
      "source": [
        "df_athlete_events['Medal'].value_counts()"
      ],
      "execution_count": 153,
      "outputs": [
        {
          "output_type": "execute_result",
          "data": {
            "text/plain": [
              "No Medal    188464\n",
              "Gold         11459\n",
              "Bronze       11409\n",
              "Silver       11220\n",
              "Name: Medal, dtype: int64"
            ]
          },
          "metadata": {
            "tags": []
          },
          "execution_count": 153
        }
      ]
    },
    {
      "cell_type": "code",
      "metadata": {
        "id": "L69J-ZlkBTxF"
      },
      "source": [
        "def top10_winner_athlete(df, feature, string):\n",
        "  filtro = df[feature].str.contains(string)\n",
        "  df_ouros = df[filtro]\n",
        "  df_top10=df_ouros[['Name','Sport',feature]].value_counts().to_frame()\n",
        "  df_top10.rename({0: 'Counts'}, axis=1, inplace=True)\n",
        "  df_top10.reset_index(inplace=True)\n",
        "  df_top10 = df_top10[0:10] # top 10 maiores ganhadores\n",
        "  return df_top10"
      ],
      "execution_count": 154,
      "outputs": []
    },
    {
      "cell_type": "markdown",
      "metadata": {
        "id": "AOEPo6h86vBm"
      },
      "source": [
        "**Filtrando Linhas onde o atleta estava no podium (ouro, prata ou bronze)**"
      ]
    },
    {
      "cell_type": "code",
      "metadata": {
        "colab": {
          "base_uri": "https://localhost:8080/",
          "height": 445
        },
        "id": "I4Du3PbkQFll",
        "outputId": "7d64780f-2007-4dca-8c0d-08795ac7be38"
      },
      "source": [
        "filtro_medalhas = df_athlete_events['Medal'].str.contains(\"Gold|Silver|Bronze\")\n",
        "df_medalhistas = df_athlete_events[filtro_medalhas]\n",
        "df_medalhistas.head()"
      ],
      "execution_count": 155,
      "outputs": [
        {
          "output_type": "execute_result",
          "data": {
            "text/html": [
              "<div>\n",
              "<style scoped>\n",
              "    .dataframe tbody tr th:only-of-type {\n",
              "        vertical-align: middle;\n",
              "    }\n",
              "\n",
              "    .dataframe tbody tr th {\n",
              "        vertical-align: top;\n",
              "    }\n",
              "\n",
              "    .dataframe thead th {\n",
              "        text-align: right;\n",
              "    }\n",
              "</style>\n",
              "<table border=\"1\" class=\"dataframe\">\n",
              "  <thead>\n",
              "    <tr style=\"text-align: right;\">\n",
              "      <th></th>\n",
              "      <th>ID</th>\n",
              "      <th>Name</th>\n",
              "      <th>Sex</th>\n",
              "      <th>Age</th>\n",
              "      <th>Height</th>\n",
              "      <th>Weight</th>\n",
              "      <th>Team</th>\n",
              "      <th>NOC</th>\n",
              "      <th>Games</th>\n",
              "      <th>Year</th>\n",
              "      <th>Season</th>\n",
              "      <th>City</th>\n",
              "      <th>Sport</th>\n",
              "      <th>Event</th>\n",
              "      <th>Medal</th>\n",
              "    </tr>\n",
              "  </thead>\n",
              "  <tbody>\n",
              "    <tr>\n",
              "      <th>3</th>\n",
              "      <td>4</td>\n",
              "      <td>Edgar Lindenau Aabye</td>\n",
              "      <td>M</td>\n",
              "      <td>34.0</td>\n",
              "      <td>NaN</td>\n",
              "      <td>NaN</td>\n",
              "      <td>Denmark/Sweden</td>\n",
              "      <td>DEN</td>\n",
              "      <td>1900 Summer</td>\n",
              "      <td>1900</td>\n",
              "      <td>Summer</td>\n",
              "      <td>Paris</td>\n",
              "      <td>Tug-Of-War</td>\n",
              "      <td>Tug-Of-War Men's Tug-Of-War</td>\n",
              "      <td>Gold</td>\n",
              "    </tr>\n",
              "    <tr>\n",
              "      <th>37</th>\n",
              "      <td>15</td>\n",
              "      <td>Arvo Ossian Aaltonen</td>\n",
              "      <td>M</td>\n",
              "      <td>30.0</td>\n",
              "      <td>NaN</td>\n",
              "      <td>NaN</td>\n",
              "      <td>Finland</td>\n",
              "      <td>FIN</td>\n",
              "      <td>1920 Summer</td>\n",
              "      <td>1920</td>\n",
              "      <td>Summer</td>\n",
              "      <td>Antwerpen</td>\n",
              "      <td>Swimming</td>\n",
              "      <td>Swimming Men's 200 metres Breaststroke</td>\n",
              "      <td>Bronze</td>\n",
              "    </tr>\n",
              "    <tr>\n",
              "      <th>38</th>\n",
              "      <td>15</td>\n",
              "      <td>Arvo Ossian Aaltonen</td>\n",
              "      <td>M</td>\n",
              "      <td>30.0</td>\n",
              "      <td>NaN</td>\n",
              "      <td>NaN</td>\n",
              "      <td>Finland</td>\n",
              "      <td>FIN</td>\n",
              "      <td>1920 Summer</td>\n",
              "      <td>1920</td>\n",
              "      <td>Summer</td>\n",
              "      <td>Antwerpen</td>\n",
              "      <td>Swimming</td>\n",
              "      <td>Swimming Men's 400 metres Breaststroke</td>\n",
              "      <td>Bronze</td>\n",
              "    </tr>\n",
              "    <tr>\n",
              "      <th>41</th>\n",
              "      <td>17</td>\n",
              "      <td>Paavo Johannes Aaltonen</td>\n",
              "      <td>M</td>\n",
              "      <td>28.0</td>\n",
              "      <td>175.0</td>\n",
              "      <td>64.0</td>\n",
              "      <td>Finland</td>\n",
              "      <td>FIN</td>\n",
              "      <td>1948 Summer</td>\n",
              "      <td>1948</td>\n",
              "      <td>Summer</td>\n",
              "      <td>London</td>\n",
              "      <td>Gymnastics</td>\n",
              "      <td>Gymnastics Men's Individual All-Around</td>\n",
              "      <td>Bronze</td>\n",
              "    </tr>\n",
              "    <tr>\n",
              "      <th>42</th>\n",
              "      <td>17</td>\n",
              "      <td>Paavo Johannes Aaltonen</td>\n",
              "      <td>M</td>\n",
              "      <td>28.0</td>\n",
              "      <td>175.0</td>\n",
              "      <td>64.0</td>\n",
              "      <td>Finland</td>\n",
              "      <td>FIN</td>\n",
              "      <td>1948 Summer</td>\n",
              "      <td>1948</td>\n",
              "      <td>Summer</td>\n",
              "      <td>London</td>\n",
              "      <td>Gymnastics</td>\n",
              "      <td>Gymnastics Men's Team All-Around</td>\n",
              "      <td>Gold</td>\n",
              "    </tr>\n",
              "  </tbody>\n",
              "</table>\n",
              "</div>"
            ],
            "text/plain": [
              "    ID                     Name  ...                                   Event   Medal\n",
              "3    4     Edgar Lindenau Aabye  ...             Tug-Of-War Men's Tug-Of-War    Gold\n",
              "37  15     Arvo Ossian Aaltonen  ...  Swimming Men's 200 metres Breaststroke  Bronze\n",
              "38  15     Arvo Ossian Aaltonen  ...  Swimming Men's 400 metres Breaststroke  Bronze\n",
              "41  17  Paavo Johannes Aaltonen  ...  Gymnastics Men's Individual All-Around  Bronze\n",
              "42  17  Paavo Johannes Aaltonen  ...        Gymnastics Men's Team All-Around    Gold\n",
              "\n",
              "[5 rows x 15 columns]"
            ]
          },
          "metadata": {
            "tags": []
          },
          "execution_count": 155
        }
      ]
    },
    {
      "cell_type": "code",
      "metadata": {
        "colab": {
          "base_uri": "https://localhost:8080/",
          "height": 547
        },
        "id": "_HZgjT8l8soo",
        "outputId": "2f54ae74-7210-41a3-c9fe-cc3f298e5e7e"
      },
      "source": [
        "lista = ['Yes' for i in range(df_medalhistas.shape[0])]\n",
        "df_medalhistas['Podium'] = lista\n",
        "df_medalhistas.head()"
      ],
      "execution_count": 156,
      "outputs": [
        {
          "output_type": "stream",
          "text": [
            "/usr/local/lib/python3.7/dist-packages/ipykernel_launcher.py:2: SettingWithCopyWarning: \n",
            "A value is trying to be set on a copy of a slice from a DataFrame.\n",
            "Try using .loc[row_indexer,col_indexer] = value instead\n",
            "\n",
            "See the caveats in the documentation: https://pandas.pydata.org/pandas-docs/stable/user_guide/indexing.html#returning-a-view-versus-a-copy\n",
            "  \n"
          ],
          "name": "stderr"
        },
        {
          "output_type": "execute_result",
          "data": {
            "text/html": [
              "<div>\n",
              "<style scoped>\n",
              "    .dataframe tbody tr th:only-of-type {\n",
              "        vertical-align: middle;\n",
              "    }\n",
              "\n",
              "    .dataframe tbody tr th {\n",
              "        vertical-align: top;\n",
              "    }\n",
              "\n",
              "    .dataframe thead th {\n",
              "        text-align: right;\n",
              "    }\n",
              "</style>\n",
              "<table border=\"1\" class=\"dataframe\">\n",
              "  <thead>\n",
              "    <tr style=\"text-align: right;\">\n",
              "      <th></th>\n",
              "      <th>ID</th>\n",
              "      <th>Name</th>\n",
              "      <th>Sex</th>\n",
              "      <th>Age</th>\n",
              "      <th>Height</th>\n",
              "      <th>Weight</th>\n",
              "      <th>Team</th>\n",
              "      <th>NOC</th>\n",
              "      <th>Games</th>\n",
              "      <th>Year</th>\n",
              "      <th>Season</th>\n",
              "      <th>City</th>\n",
              "      <th>Sport</th>\n",
              "      <th>Event</th>\n",
              "      <th>Medal</th>\n",
              "      <th>Podium</th>\n",
              "    </tr>\n",
              "  </thead>\n",
              "  <tbody>\n",
              "    <tr>\n",
              "      <th>3</th>\n",
              "      <td>4</td>\n",
              "      <td>Edgar Lindenau Aabye</td>\n",
              "      <td>M</td>\n",
              "      <td>34.0</td>\n",
              "      <td>NaN</td>\n",
              "      <td>NaN</td>\n",
              "      <td>Denmark/Sweden</td>\n",
              "      <td>DEN</td>\n",
              "      <td>1900 Summer</td>\n",
              "      <td>1900</td>\n",
              "      <td>Summer</td>\n",
              "      <td>Paris</td>\n",
              "      <td>Tug-Of-War</td>\n",
              "      <td>Tug-Of-War Men's Tug-Of-War</td>\n",
              "      <td>Gold</td>\n",
              "      <td>Yes</td>\n",
              "    </tr>\n",
              "    <tr>\n",
              "      <th>37</th>\n",
              "      <td>15</td>\n",
              "      <td>Arvo Ossian Aaltonen</td>\n",
              "      <td>M</td>\n",
              "      <td>30.0</td>\n",
              "      <td>NaN</td>\n",
              "      <td>NaN</td>\n",
              "      <td>Finland</td>\n",
              "      <td>FIN</td>\n",
              "      <td>1920 Summer</td>\n",
              "      <td>1920</td>\n",
              "      <td>Summer</td>\n",
              "      <td>Antwerpen</td>\n",
              "      <td>Swimming</td>\n",
              "      <td>Swimming Men's 200 metres Breaststroke</td>\n",
              "      <td>Bronze</td>\n",
              "      <td>Yes</td>\n",
              "    </tr>\n",
              "    <tr>\n",
              "      <th>38</th>\n",
              "      <td>15</td>\n",
              "      <td>Arvo Ossian Aaltonen</td>\n",
              "      <td>M</td>\n",
              "      <td>30.0</td>\n",
              "      <td>NaN</td>\n",
              "      <td>NaN</td>\n",
              "      <td>Finland</td>\n",
              "      <td>FIN</td>\n",
              "      <td>1920 Summer</td>\n",
              "      <td>1920</td>\n",
              "      <td>Summer</td>\n",
              "      <td>Antwerpen</td>\n",
              "      <td>Swimming</td>\n",
              "      <td>Swimming Men's 400 metres Breaststroke</td>\n",
              "      <td>Bronze</td>\n",
              "      <td>Yes</td>\n",
              "    </tr>\n",
              "    <tr>\n",
              "      <th>41</th>\n",
              "      <td>17</td>\n",
              "      <td>Paavo Johannes Aaltonen</td>\n",
              "      <td>M</td>\n",
              "      <td>28.0</td>\n",
              "      <td>175.0</td>\n",
              "      <td>64.0</td>\n",
              "      <td>Finland</td>\n",
              "      <td>FIN</td>\n",
              "      <td>1948 Summer</td>\n",
              "      <td>1948</td>\n",
              "      <td>Summer</td>\n",
              "      <td>London</td>\n",
              "      <td>Gymnastics</td>\n",
              "      <td>Gymnastics Men's Individual All-Around</td>\n",
              "      <td>Bronze</td>\n",
              "      <td>Yes</td>\n",
              "    </tr>\n",
              "    <tr>\n",
              "      <th>42</th>\n",
              "      <td>17</td>\n",
              "      <td>Paavo Johannes Aaltonen</td>\n",
              "      <td>M</td>\n",
              "      <td>28.0</td>\n",
              "      <td>175.0</td>\n",
              "      <td>64.0</td>\n",
              "      <td>Finland</td>\n",
              "      <td>FIN</td>\n",
              "      <td>1948 Summer</td>\n",
              "      <td>1948</td>\n",
              "      <td>Summer</td>\n",
              "      <td>London</td>\n",
              "      <td>Gymnastics</td>\n",
              "      <td>Gymnastics Men's Team All-Around</td>\n",
              "      <td>Gold</td>\n",
              "      <td>Yes</td>\n",
              "    </tr>\n",
              "  </tbody>\n",
              "</table>\n",
              "</div>"
            ],
            "text/plain": [
              "    ID                     Name  ...   Medal  Podium\n",
              "3    4     Edgar Lindenau Aabye  ...    Gold     Yes\n",
              "37  15     Arvo Ossian Aaltonen  ...  Bronze     Yes\n",
              "38  15     Arvo Ossian Aaltonen  ...  Bronze     Yes\n",
              "41  17  Paavo Johannes Aaltonen  ...  Bronze     Yes\n",
              "42  17  Paavo Johannes Aaltonen  ...    Gold     Yes\n",
              "\n",
              "[5 rows x 16 columns]"
            ]
          },
          "metadata": {
            "tags": []
          },
          "execution_count": 156
        }
      ]
    },
    {
      "cell_type": "code",
      "metadata": {
        "colab": {
          "base_uri": "https://localhost:8080/",
          "height": 359
        },
        "id": "ELxi9tXFTlyU",
        "outputId": "037cbc4d-29bc-4328-857a-8e9602c54e80"
      },
      "source": [
        "df_quantas_medalhas = top10_winner_athlete(df_medalhistas, 'Podium', 'Yes')\n",
        "df_quantas_medalhas"
      ],
      "execution_count": 157,
      "outputs": [
        {
          "output_type": "execute_result",
          "data": {
            "text/html": [
              "<div>\n",
              "<style scoped>\n",
              "    .dataframe tbody tr th:only-of-type {\n",
              "        vertical-align: middle;\n",
              "    }\n",
              "\n",
              "    .dataframe tbody tr th {\n",
              "        vertical-align: top;\n",
              "    }\n",
              "\n",
              "    .dataframe thead th {\n",
              "        text-align: right;\n",
              "    }\n",
              "</style>\n",
              "<table border=\"1\" class=\"dataframe\">\n",
              "  <thead>\n",
              "    <tr style=\"text-align: right;\">\n",
              "      <th></th>\n",
              "      <th>Name</th>\n",
              "      <th>Sport</th>\n",
              "      <th>Podium</th>\n",
              "      <th>Counts</th>\n",
              "    </tr>\n",
              "  </thead>\n",
              "  <tbody>\n",
              "    <tr>\n",
              "      <th>0</th>\n",
              "      <td>Michael Fred Phelps, II</td>\n",
              "      <td>Swimming</td>\n",
              "      <td>Yes</td>\n",
              "      <td>28</td>\n",
              "    </tr>\n",
              "    <tr>\n",
              "      <th>1</th>\n",
              "      <td>Larysa Semenivna Latynina (Diriy-)</td>\n",
              "      <td>Gymnastics</td>\n",
              "      <td>Yes</td>\n",
              "      <td>18</td>\n",
              "    </tr>\n",
              "    <tr>\n",
              "      <th>2</th>\n",
              "      <td>Nikolay Yefimovich Andrianov</td>\n",
              "      <td>Gymnastics</td>\n",
              "      <td>Yes</td>\n",
              "      <td>15</td>\n",
              "    </tr>\n",
              "    <tr>\n",
              "      <th>3</th>\n",
              "      <td>Borys Anfiyanovych Shakhlin</td>\n",
              "      <td>Gymnastics</td>\n",
              "      <td>Yes</td>\n",
              "      <td>13</td>\n",
              "    </tr>\n",
              "    <tr>\n",
              "      <th>4</th>\n",
              "      <td>Takashi Ono</td>\n",
              "      <td>Gymnastics</td>\n",
              "      <td>Yes</td>\n",
              "      <td>13</td>\n",
              "    </tr>\n",
              "    <tr>\n",
              "      <th>5</th>\n",
              "      <td>Edoardo Mangiarotti</td>\n",
              "      <td>Fencing</td>\n",
              "      <td>Yes</td>\n",
              "      <td>13</td>\n",
              "    </tr>\n",
              "    <tr>\n",
              "      <th>6</th>\n",
              "      <td>Dara Grace Torres (-Hoffman, -Minas)</td>\n",
              "      <td>Swimming</td>\n",
              "      <td>Yes</td>\n",
              "      <td>12</td>\n",
              "    </tr>\n",
              "    <tr>\n",
              "      <th>7</th>\n",
              "      <td>Birgit Fischer-Schmidt</td>\n",
              "      <td>Canoeing</td>\n",
              "      <td>Yes</td>\n",
              "      <td>12</td>\n",
              "    </tr>\n",
              "    <tr>\n",
              "      <th>8</th>\n",
              "      <td>Natalie Anne Coughlin (-Hall)</td>\n",
              "      <td>Swimming</td>\n",
              "      <td>Yes</td>\n",
              "      <td>12</td>\n",
              "    </tr>\n",
              "    <tr>\n",
              "      <th>9</th>\n",
              "      <td>Paavo Johannes Nurmi</td>\n",
              "      <td>Athletics</td>\n",
              "      <td>Yes</td>\n",
              "      <td>12</td>\n",
              "    </tr>\n",
              "  </tbody>\n",
              "</table>\n",
              "</div>"
            ],
            "text/plain": [
              "                                   Name       Sport Podium  Counts\n",
              "0               Michael Fred Phelps, II    Swimming    Yes      28\n",
              "1    Larysa Semenivna Latynina (Diriy-)  Gymnastics    Yes      18\n",
              "2          Nikolay Yefimovich Andrianov  Gymnastics    Yes      15\n",
              "3           Borys Anfiyanovych Shakhlin  Gymnastics    Yes      13\n",
              "4                           Takashi Ono  Gymnastics    Yes      13\n",
              "5                   Edoardo Mangiarotti     Fencing    Yes      13\n",
              "6  Dara Grace Torres (-Hoffman, -Minas)    Swimming    Yes      12\n",
              "7                Birgit Fischer-Schmidt    Canoeing    Yes      12\n",
              "8         Natalie Anne Coughlin (-Hall)    Swimming    Yes      12\n",
              "9                  Paavo Johannes Nurmi   Athletics    Yes      12"
            ]
          },
          "metadata": {
            "tags": []
          },
          "execution_count": 157
        }
      ]
    },
    {
      "cell_type": "markdown",
      "metadata": {
        "id": "WlzhLwzT-H4F"
      },
      "source": [
        "Foi confirmado por pesquisa rápida no Google que Michael Phelps é o maior ganhador de medalhas em olimpíadas de todos os tempos\n",
        "\n",
        "Larysa Semenivna também foi confirmada."
      ]
    },
    {
      "cell_type": "markdown",
      "metadata": {
        "id": "MOMuaTsA-yyq"
      },
      "source": [
        "# 7. Quem ganhou mais medalhas de ouro?"
      ]
    },
    {
      "cell_type": "code",
      "metadata": {
        "colab": {
          "base_uri": "https://localhost:8080/",
          "height": 359
        },
        "id": "lCyXSCUM_HN0",
        "outputId": "e264f38d-edb4-4080-840f-12dfe92e7ade"
      },
      "source": [
        "df_quantos_ouros = top10_winner_athlete(df_athlete_events,'Medal','Gold')\n",
        "df_quantos_ouros"
      ],
      "execution_count": 158,
      "outputs": [
        {
          "output_type": "execute_result",
          "data": {
            "text/html": [
              "<div>\n",
              "<style scoped>\n",
              "    .dataframe tbody tr th:only-of-type {\n",
              "        vertical-align: middle;\n",
              "    }\n",
              "\n",
              "    .dataframe tbody tr th {\n",
              "        vertical-align: top;\n",
              "    }\n",
              "\n",
              "    .dataframe thead th {\n",
              "        text-align: right;\n",
              "    }\n",
              "</style>\n",
              "<table border=\"1\" class=\"dataframe\">\n",
              "  <thead>\n",
              "    <tr style=\"text-align: right;\">\n",
              "      <th></th>\n",
              "      <th>Name</th>\n",
              "      <th>Sport</th>\n",
              "      <th>Medal</th>\n",
              "      <th>Counts</th>\n",
              "    </tr>\n",
              "  </thead>\n",
              "  <tbody>\n",
              "    <tr>\n",
              "      <th>0</th>\n",
              "      <td>Michael Fred Phelps, II</td>\n",
              "      <td>Swimming</td>\n",
              "      <td>Gold</td>\n",
              "      <td>23</td>\n",
              "    </tr>\n",
              "    <tr>\n",
              "      <th>1</th>\n",
              "      <td>Raymond Clarence \"Ray\" Ewry</td>\n",
              "      <td>Athletics</td>\n",
              "      <td>Gold</td>\n",
              "      <td>10</td>\n",
              "    </tr>\n",
              "    <tr>\n",
              "      <th>2</th>\n",
              "      <td>Larysa Semenivna Latynina (Diriy-)</td>\n",
              "      <td>Gymnastics</td>\n",
              "      <td>Gold</td>\n",
              "      <td>9</td>\n",
              "    </tr>\n",
              "    <tr>\n",
              "      <th>3</th>\n",
              "      <td>Mark Andrew Spitz</td>\n",
              "      <td>Swimming</td>\n",
              "      <td>Gold</td>\n",
              "      <td>9</td>\n",
              "    </tr>\n",
              "    <tr>\n",
              "      <th>4</th>\n",
              "      <td>Frederick Carlton \"Carl\" Lewis</td>\n",
              "      <td>Athletics</td>\n",
              "      <td>Gold</td>\n",
              "      <td>9</td>\n",
              "    </tr>\n",
              "    <tr>\n",
              "      <th>5</th>\n",
              "      <td>Paavo Johannes Nurmi</td>\n",
              "      <td>Athletics</td>\n",
              "      <td>Gold</td>\n",
              "      <td>9</td>\n",
              "    </tr>\n",
              "    <tr>\n",
              "      <th>6</th>\n",
              "      <td>Matthew Nicholas \"Matt\" Biondi</td>\n",
              "      <td>Swimming</td>\n",
              "      <td>Gold</td>\n",
              "      <td>8</td>\n",
              "    </tr>\n",
              "    <tr>\n",
              "      <th>7</th>\n",
              "      <td>Sawao Kato</td>\n",
              "      <td>Gymnastics</td>\n",
              "      <td>Gold</td>\n",
              "      <td>8</td>\n",
              "    </tr>\n",
              "    <tr>\n",
              "      <th>8</th>\n",
              "      <td>Jennifer Elisabeth \"Jenny\" Thompson (-Cumpelik)</td>\n",
              "      <td>Swimming</td>\n",
              "      <td>Gold</td>\n",
              "      <td>8</td>\n",
              "    </tr>\n",
              "    <tr>\n",
              "      <th>9</th>\n",
              "      <td>Usain St. Leo Bolt</td>\n",
              "      <td>Athletics</td>\n",
              "      <td>Gold</td>\n",
              "      <td>8</td>\n",
              "    </tr>\n",
              "  </tbody>\n",
              "</table>\n",
              "</div>"
            ],
            "text/plain": [
              "                                              Name       Sport Medal  Counts\n",
              "0                          Michael Fred Phelps, II    Swimming  Gold      23\n",
              "1                      Raymond Clarence \"Ray\" Ewry   Athletics  Gold      10\n",
              "2               Larysa Semenivna Latynina (Diriy-)  Gymnastics  Gold       9\n",
              "3                                Mark Andrew Spitz    Swimming  Gold       9\n",
              "4                   Frederick Carlton \"Carl\" Lewis   Athletics  Gold       9\n",
              "5                             Paavo Johannes Nurmi   Athletics  Gold       9\n",
              "6                   Matthew Nicholas \"Matt\" Biondi    Swimming  Gold       8\n",
              "7                                       Sawao Kato  Gymnastics  Gold       8\n",
              "8  Jennifer Elisabeth \"Jenny\" Thompson (-Cumpelik)    Swimming  Gold       8\n",
              "9                               Usain St. Leo Bolt   Athletics  Gold       8"
            ]
          },
          "metadata": {
            "tags": []
          },
          "execution_count": 158
        }
      ]
    },
    {
      "cell_type": "markdown",
      "metadata": {
        "id": "BvaPvPbyCUM3"
      },
      "source": [
        "# 8. Quem ganhou mais medalhas em um única olimpíada"
      ]
    },
    {
      "cell_type": "code",
      "metadata": {
        "colab": {
          "base_uri": "https://localhost:8080/"
        },
        "id": "E4BFsX7MCX7H",
        "outputId": "b4bb0942-1a37-4977-b9ba-bf93434e08a3"
      },
      "source": [
        "df_medalhistas[['Name','Year']].value_counts()[0:10] # Aleksandr e Phelps confirmados como os maiores vencedores"
      ],
      "execution_count": 159,
      "outputs": [
        {
          "output_type": "execute_result",
          "data": {
            "text/plain": [
              "Name                             Year\n",
              "Aleksandr Nikolayevich Dityatin  1980    8\n",
              "Michael Fred Phelps, II          2008    8\n",
              "                                 2004    8\n",
              "Borys Anfiyanovych Shakhlin      1960    7\n",
              "Lloyd Spencer Spooner            1920    7\n",
              "Mariya Kindrativna Horokhovska   1952    7\n",
              "Willis Augustus Lee, Jr.         1920    7\n",
              "Mikhail Yakovlevich Voronin      1968    7\n",
              "Mark Andrew Spitz                1972    7\n",
              "Nikolay Yefimovich Andrianov     1976    7\n",
              "dtype: int64"
            ]
          },
          "metadata": {
            "tags": []
          },
          "execution_count": 159
        }
      ]
    },
    {
      "cell_type": "markdown",
      "metadata": {
        "id": "1MutJMEHEq9r"
      },
      "source": [
        "# 9. País com mais medalhas historicamente?"
      ]
    },
    {
      "cell_type": "code",
      "metadata": {
        "colab": {
          "base_uri": "https://localhost:8080/"
        },
        "id": "b_S3r84UEuTq",
        "outputId": "7891a1cd-df58-4281-b0cb-36c71c203d59"
      },
      "source": [
        "df_medalhistas['Team'].value_counts()[0:10] "
      ],
      "execution_count": 160,
      "outputs": [
        {
          "output_type": "execute_result",
          "data": {
            "text/plain": [
              "United States    4686\n",
              "Soviet Union     2061\n",
              "Germany          1687\n",
              "Great Britain    1598\n",
              "France           1408\n",
              "Italy            1384\n",
              "Australia        1290\n",
              "Hungary          1123\n",
              "Sweden           1006\n",
              "Russia            894\n",
              "Name: Team, dtype: int64"
            ]
          },
          "metadata": {
            "tags": []
          },
          "execution_count": 160
        }
      ]
    },
    {
      "cell_type": "markdown",
      "metadata": {
        "id": "mmRzUoNgFXlS"
      },
      "source": [
        "# 10. Países com mais medalhas desde 1980?"
      ]
    },
    {
      "cell_type": "code",
      "metadata": {
        "colab": {
          "base_uri": "https://localhost:8080/"
        },
        "id": "gijWHbM-FW9i",
        "outputId": "8adbb786-9578-432e-dcd7-044e12cfe9f9"
      },
      "source": [
        "filtro_apartir1980 = df_medalhistas['Year'] >= 1980\n",
        "df_medalhistas_apartir1980 = df_medalhistas[filtro_apartir1980]\n",
        "df_medalhistas_apartir1980['Team'].value_counts()[0:10] "
      ],
      "execution_count": 161,
      "outputs": [
        {
          "output_type": "execute_result",
          "data": {
            "text/plain": [
              "United States    2338\n",
              "Australia         970\n",
              "Germany           928\n",
              "Russia            884\n",
              "China             831\n",
              "Soviet Union      742\n",
              "Great Britain     703\n",
              "France            597\n",
              "Italy             594\n",
              "Netherlands       526\n",
              "Name: Team, dtype: int64"
            ]
          },
          "metadata": {
            "tags": []
          },
          "execution_count": 161
        }
      ]
    },
    {
      "cell_type": "markdown",
      "metadata": {
        "id": "chm0rG28lpQj"
      },
      "source": [
        "# 11. Corrida histórica de medalhas de 1896 a 2016"
      ]
    },
    {
      "cell_type": "code",
      "metadata": {
        "id": "VQIz-S2xwY6W"
      },
      "source": [
        "def serie_temporal_medalhas_por_pais(df, nome_pais):\n",
        "\n",
        "  filtro_pais = df['Team'] == nome_pais\n",
        "  df_medalhistas_pais = df[filtro_pais].sort_values(by='Year')[['Year', 'Podium']]\n",
        "  df_medalhistas_pais['Podium'] = 1\n",
        "  df_medalhas_pais= df_medalhistas_pais.groupby(['Year']).sum().reset_index()\n",
        "  return df_medalhas_pais"
      ],
      "execution_count": 237,
      "outputs": []
    },
    {
      "cell_type": "code",
      "metadata": {
        "id": "WkuB0y5lq05I"
      },
      "source": [
        "df_medalhas_eua = serie_temporal_medalhas_por_pais(df_medalhistas, 'United States')\n",
        "df_medalhas_china = serie_temporal_medalhas_por_pais(df_medalhistas, 'China')\n",
        "df_medalhas_uniaosovietica = serie_temporal_medalhas_por_pais(df_medalhistas, 'Soviet Union')\n",
        "df_medalhas_russia = serie_temporal_medalhas_por_pais(df_medalhistas, 'Russia')\n",
        "df_medalhas_grabretanha = serie_temporal_medalhas_por_pais(df_medalhistas, 'Great Britain')\n",
        "df_medalhas_italia = serie_temporal_medalhas_por_pais(df_medalhistas, 'Italy')"
      ],
      "execution_count": 238,
      "outputs": []
    },
    {
      "cell_type": "code",
      "metadata": {
        "id": "hNnDDuRlydM8"
      },
      "source": [
        "plt.rcParams.update({'font.size': 18})"
      ],
      "execution_count": 248,
      "outputs": []
    },
    {
      "cell_type": "code",
      "metadata": {
        "colab": {
          "base_uri": "https://localhost:8080/",
          "height": 404
        },
        "id": "F8Afw9iYwUHn",
        "outputId": "f1df7be4-6d94-43c1-8c8c-7d07b35b77f2"
      },
      "source": [
        "plt.figure(figsize=(10,6))\n",
        "plt.plot(df_medalhas_eua['Year'],df_medalhas_eua['Podium'],label='EUA')\n",
        "plt.plot(df_medalhas_china['Year'],df_medalhas_china['Podium'], label='China')\n",
        "plt.plot(df_medalhas_uniaosovietica['Year'],df_medalhas_uniaosovietica['Podium'],label='União Soviética')\n",
        "plt.plot(df_medalhas_russia['Year'],df_medalhas_russia['Podium'], label='Rússia')\n",
        "plt.plot(df_medalhas_grabretanha['Year'],df_medalhas_grabretanha['Podium'], label='Grã-Bretanha')\n",
        "plt.plot(df_medalhas_italia['Year'],df_medalhas_italia['Podium'], label='Itália')\n",
        "plt.xlabel('Anos')\n",
        "plt.ylabel('Número de Medalhas')\n",
        "plt.legend()\n",
        "plt.show()"
      ],
      "execution_count": 249,
      "outputs": [
        {
          "output_type": "display_data",
          "data": {
            "image/png": "[encoded data removed]",
            "text/plain": [
              "<Figure size 720x432 with 1 Axes>"
            ]
          },
          "metadata": {
            "tags": [],
            "needs_background": "light"
          }
        }
      ]
    },
    {
      "cell_type": "code",
      "metadata": {
        "id": "gsh-ONQ4tbN-"
      },
      "source": [
        ""
      ],
      "execution_count": null,
      "outputs": []
    },
    {
      "cell_type": "markdown",
      "metadata": {
        "id": "OVp0Kex2Z6iH"
      },
      "source": [
        "# Referências"
      ]
    },
    {
      "cell_type": "markdown",
      "metadata": {
        "id": "7z_VzqSBZ_Dc"
      },
      "source": [
        "*   https://docs.scipy.org/doc/scipy/reference/stats.html\n",
        "*   https://matplotlib.org/stable/api/_as_gen/matplotlib.pyplot.hist.html\n",
        "*   https://olympics.com/ioc/faq/history-and-origin-of-the-games/since-when-have-the-summer-and-winter-games-no-longer-been-held-in-the-same-year\n"
      ]
    }
  ]
}
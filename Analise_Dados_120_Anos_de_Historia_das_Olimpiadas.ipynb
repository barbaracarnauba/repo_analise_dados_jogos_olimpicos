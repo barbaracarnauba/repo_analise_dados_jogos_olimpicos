{
  "nbformat": 4,
  "nbformat_minor": 0,
  "metadata": {
    "colab": {
      "name": "Analise Dados 120 Anos de Historia das Olimpiadas.ipynb",
      "provenance": [],
      "toc_visible": true,
      "authorship_tag": "ABX9TyO3+g3zjRkV2SkHMUr/7I+D",
      "include_colab_link": true
    },
    "kernelspec": {
      "display_name": "Python 3",
      "name": "python3"
    },
    "language_info": {
      "name": "python"
    }
  },
  "cells": [
    {
      "cell_type": "markdown",
      "metadata": {
        "id": "view-in-github",
        "colab_type": "text"
      },
      "source": [
        "<a href=\"https://colab.research.google.com/github/barbaracarnauba/repo_analise_dados_jogos_olimpicos/blob/main/Analise_Dados_120_Anos_de_Historia_das_Olimpiadas.ipynb\" target=\"_parent\"><img src=\"https://colab.research.google.com/assets/colab-badge.svg\" alt=\"Open In Colab\"/></a>"
      ]
    },
    {
      "cell_type": "markdown",
      "metadata": {
        "id": "12oZIemDQ8w3"
      },
      "source": [
        "# <font color=CC00CC> **Análise de Dados das Olímpiadas** </red>\n",
        "\n",
        "Fontes dos datasets: \n",
        "\n",
        "https://www.kaggle.com/heesoo37/120-years-of-olympic-history-athletes-and-results\n",
        "\n",
        "https://www.kaggle.com/berkayalan/2021-olympics-medals-in-tokyo\n",
        "\n"
      ]
    },
    {
      "cell_type": "markdown",
      "metadata": {
        "id": "ETiedLVutZfg"
      },
      "source": [
        "**Perguntas a serem respondidas com a análise dos dados**\n",
        "\n",
        "1.   Qual o percentual de valores faltantes por feature?\n",
        "2.   Quais as principais métricas das variáveis numéricas?\n",
        "3.   Como se distribuem as features numéricas?\n",
        "4.   Quais as correlações entre as features?\n",
        "5.   Qual a distribuição de sexo por esporte?\n",
        "6.   Quais os maiores medalhistas da história das olímpiadas?\n",
        "7.   Quem ganhou mais medalhas de ouro?\n",
        "8.   Quem ganhou mais medalhas em uma única olimpíada?\n",
        "9.   Países com mais medalhas historicamente?\n",
        "10.  Países com mais medalhas desde 1980?\n",
        "11.  Corrida histórica de medalhas de 1896 a 2016\n",
        "12.  Animação da corrida histórica de medalhas de 1896 a 2016\n",
        "13.  Prevendo Vencedor de Medalha: Regressão Logística [Em construção]\n",
        "14. Prevendo Vencedor de Medalha: Perceptron [Em construção]\n"
      ]
    },
    {
      "cell_type": "markdown",
      "metadata": {
        "id": "pOEw3TUjScIw"
      },
      "source": [
        "**Importando bibliotecas**"
      ]
    },
    {
      "cell_type": "code",
      "metadata": {
        "id": "KCfFfN_ZQIP9"
      },
      "source": [
        "import pandas as pd\n",
        "import numpy as np\n",
        "import matplotlib\n",
        "import matplotlib.pyplot as plt\n",
        "import seaborn as sns\n",
        "import scipy\n",
        "from scipy import stats\n",
        "import matplotlib.animation as ani\n",
        "import sklearn\n",
        "from sklearn.linear_model import LogisticRegression\n",
        "from sklearn.model_selection import train_test_split\n",
        "from sklearn.metrics import confusion_matrix, plot_confusion_matrix"
      ],
      "execution_count": 741,
      "outputs": []
    },
    {
      "cell_type": "markdown",
      "metadata": {
        "id": "p8fzj4BdK5Cp"
      },
      "source": [
        "**É garantido que o presente notebook execute adequadamente se as bibliotecas estiverem instaladas com as versões exibidas abaixo**"
      ]
    },
    {
      "cell_type": "code",
      "metadata": {
        "colab": {
          "base_uri": "https://localhost:8080/"
        },
        "id": "nTR1kG3vK4YI",
        "outputId": "1961ede8-12d5-4669-96cb-80210c60ae45"
      },
      "source": [
        "print(\"Versão Pandas: {}\".format(pd.__version__))\n",
        "print(\"Versão Numpy: {}\".format(np.__version__))\n",
        "print(\"Versão Matplotlib: {}\".format(matplotlib.__version__))\n",
        "print(\"Versão Seaborn: {}\".format(sns.__version__))\n",
        "print(\"Versão Scipy: {}\".format(scipy.__version__))\n",
        "print(\"Versão Sckit-Learn: {}\".format(sklearn.__version__))"
      ],
      "execution_count": 742,
      "outputs": [
        {
          "output_type": "stream",
          "text": [
            "Versão Pandas: 1.1.5\n",
            "Versão Numpy: 1.19.5\n",
            "Versão Matplotlib: 3.2.2\n",
            "Versão Seaborn: 0.11.1\n",
            "Versão Scipy: 1.4.1\n",
            "Versão Sckit-Learn: 0.22.2.post1\n"
          ],
          "name": "stdout"
        }
      ]
    },
    {
      "cell_type": "markdown",
      "metadata": {
        "id": "yoMWb5GhSmpZ"
      },
      "source": [
        "**Carregando os Datasets**"
      ]
    },
    {
      "cell_type": "code",
      "metadata": {
        "id": "pH8-QZuOSuGz",
        "colab": {
          "base_uri": "https://localhost:8080/"
        },
        "outputId": "08e1eb82-7b6d-4a02-ca36-75c9f372ed08"
      },
      "source": [
        "from google.colab import drive\n",
        "drive.mount('/content/drive')"
      ],
      "execution_count": 743,
      "outputs": [
        {
          "output_type": "stream",
          "text": [
            "Drive already mounted at /content/drive; to attempt to forcibly remount, call drive.mount(\"/content/drive\", force_remount=True).\n"
          ],
          "name": "stdout"
        }
      ]
    },
    {
      "cell_type": "code",
      "metadata": {
        "id": "0U7mPO4VRd-w"
      },
      "source": [
        "df_athlete_events = pd.read_csv('/content/drive/MyDrive/dataset_olimpiadas/athlete_events.csv')"
      ],
      "execution_count": 744,
      "outputs": []
    },
    {
      "cell_type": "code",
      "metadata": {
        "id": "3YGokIJJRe0S"
      },
      "source": [
        "df_medalhas_toquio_2021 = pd.read_csv('/content/drive/MyDrive/dataset_olimpiadas/Tokyo Medals 2021.csv')"
      ],
      "execution_count": 745,
      "outputs": []
    },
    {
      "cell_type": "markdown",
      "metadata": {
        "id": "L0eE4TtlP4n0"
      },
      "source": [
        "**Visão geral sobre o dataset**"
      ]
    },
    {
      "cell_type": "code",
      "metadata": {
        "colab": {
          "base_uri": "https://localhost:8080/",
          "height": 421
        },
        "id": "Sah7711ISEUH",
        "outputId": "5b56c22e-d6f5-4e0b-c29a-cd8f3985e887"
      },
      "source": [
        "df_medalhas_toquio_2021.head(12)"
      ],
      "execution_count": 746,
      "outputs": [
        {
          "output_type": "execute_result",
          "data": {
            "text/html": [
              "<div>\n",
              "<style scoped>\n",
              "    .dataframe tbody tr th:only-of-type {\n",
              "        vertical-align: middle;\n",
              "    }\n",
              "\n",
              "    .dataframe tbody tr th {\n",
              "        vertical-align: top;\n",
              "    }\n",
              "\n",
              "    .dataframe thead th {\n",
              "        text-align: right;\n",
              "    }\n",
              "</style>\n",
              "<table border=\"1\" class=\"dataframe\">\n",
              "  <thead>\n",
              "    <tr style=\"text-align: right;\">\n",
              "      <th></th>\n",
              "      <th>Country</th>\n",
              "      <th>Gold Medal</th>\n",
              "      <th>Silver Medal</th>\n",
              "      <th>Bronze Medal</th>\n",
              "      <th>Total</th>\n",
              "      <th>Rank By Total</th>\n",
              "    </tr>\n",
              "  </thead>\n",
              "  <tbody>\n",
              "    <tr>\n",
              "      <th>0</th>\n",
              "      <td>United States of America</td>\n",
              "      <td>39</td>\n",
              "      <td>41</td>\n",
              "      <td>33</td>\n",
              "      <td>113</td>\n",
              "      <td>1</td>\n",
              "    </tr>\n",
              "    <tr>\n",
              "      <th>1</th>\n",
              "      <td>People's Republic of China</td>\n",
              "      <td>38</td>\n",
              "      <td>32</td>\n",
              "      <td>18</td>\n",
              "      <td>88</td>\n",
              "      <td>2</td>\n",
              "    </tr>\n",
              "    <tr>\n",
              "      <th>2</th>\n",
              "      <td>Japan</td>\n",
              "      <td>27</td>\n",
              "      <td>14</td>\n",
              "      <td>17</td>\n",
              "      <td>58</td>\n",
              "      <td>5</td>\n",
              "    </tr>\n",
              "    <tr>\n",
              "      <th>3</th>\n",
              "      <td>Great Britain</td>\n",
              "      <td>22</td>\n",
              "      <td>21</td>\n",
              "      <td>22</td>\n",
              "      <td>65</td>\n",
              "      <td>4</td>\n",
              "    </tr>\n",
              "    <tr>\n",
              "      <th>4</th>\n",
              "      <td>ROC</td>\n",
              "      <td>20</td>\n",
              "      <td>28</td>\n",
              "      <td>23</td>\n",
              "      <td>71</td>\n",
              "      <td>3</td>\n",
              "    </tr>\n",
              "    <tr>\n",
              "      <th>5</th>\n",
              "      <td>Australia</td>\n",
              "      <td>17</td>\n",
              "      <td>7</td>\n",
              "      <td>22</td>\n",
              "      <td>46</td>\n",
              "      <td>6</td>\n",
              "    </tr>\n",
              "    <tr>\n",
              "      <th>6</th>\n",
              "      <td>Netherlands</td>\n",
              "      <td>10</td>\n",
              "      <td>12</td>\n",
              "      <td>14</td>\n",
              "      <td>36</td>\n",
              "      <td>9</td>\n",
              "    </tr>\n",
              "    <tr>\n",
              "      <th>7</th>\n",
              "      <td>France</td>\n",
              "      <td>10</td>\n",
              "      <td>12</td>\n",
              "      <td>11</td>\n",
              "      <td>33</td>\n",
              "      <td>10</td>\n",
              "    </tr>\n",
              "    <tr>\n",
              "      <th>8</th>\n",
              "      <td>Germany</td>\n",
              "      <td>10</td>\n",
              "      <td>11</td>\n",
              "      <td>16</td>\n",
              "      <td>37</td>\n",
              "      <td>8</td>\n",
              "    </tr>\n",
              "    <tr>\n",
              "      <th>9</th>\n",
              "      <td>Italy</td>\n",
              "      <td>10</td>\n",
              "      <td>10</td>\n",
              "      <td>20</td>\n",
              "      <td>40</td>\n",
              "      <td>7</td>\n",
              "    </tr>\n",
              "    <tr>\n",
              "      <th>10</th>\n",
              "      <td>Canada</td>\n",
              "      <td>7</td>\n",
              "      <td>6</td>\n",
              "      <td>11</td>\n",
              "      <td>24</td>\n",
              "      <td>11</td>\n",
              "    </tr>\n",
              "    <tr>\n",
              "      <th>11</th>\n",
              "      <td>Brazil</td>\n",
              "      <td>7</td>\n",
              "      <td>6</td>\n",
              "      <td>8</td>\n",
              "      <td>21</td>\n",
              "      <td>12</td>\n",
              "    </tr>\n",
              "  </tbody>\n",
              "</table>\n",
              "</div>"
            ],
            "text/plain": [
              "                       Country  Gold Medal  ...  Total  Rank By Total\n",
              "0     United States of America          39  ...    113              1\n",
              "1   People's Republic of China          38  ...     88              2\n",
              "2                        Japan          27  ...     58              5\n",
              "3                Great Britain          22  ...     65              4\n",
              "4                          ROC          20  ...     71              3\n",
              "5                    Australia          17  ...     46              6\n",
              "6                  Netherlands          10  ...     36              9\n",
              "7                       France          10  ...     33             10\n",
              "8                      Germany          10  ...     37              8\n",
              "9                        Italy          10  ...     40              7\n",
              "10                      Canada           7  ...     24             11\n",
              "11                      Brazil           7  ...     21             12\n",
              "\n",
              "[12 rows x 6 columns]"
            ]
          },
          "metadata": {
            "tags": []
          },
          "execution_count": 746
        }
      ]
    },
    {
      "cell_type": "code",
      "metadata": {
        "colab": {
          "base_uri": "https://localhost:8080/",
          "height": 445
        },
        "id": "huu64KXhTGrR",
        "outputId": "3474f6b6-3357-4949-d131-805c260d9156"
      },
      "source": [
        "df_athlete_events.head()"
      ],
      "execution_count": 747,
      "outputs": [
        {
          "output_type": "execute_result",
          "data": {
            "text/html": [
              "<div>\n",
              "<style scoped>\n",
              "    .dataframe tbody tr th:only-of-type {\n",
              "        vertical-align: middle;\n",
              "    }\n",
              "\n",
              "    .dataframe tbody tr th {\n",
              "        vertical-align: top;\n",
              "    }\n",
              "\n",
              "    .dataframe thead th {\n",
              "        text-align: right;\n",
              "    }\n",
              "</style>\n",
              "<table border=\"1\" class=\"dataframe\">\n",
              "  <thead>\n",
              "    <tr style=\"text-align: right;\">\n",
              "      <th></th>\n",
              "      <th>ID</th>\n",
              "      <th>Name</th>\n",
              "      <th>Sex</th>\n",
              "      <th>Age</th>\n",
              "      <th>Height</th>\n",
              "      <th>Weight</th>\n",
              "      <th>Team</th>\n",
              "      <th>NOC</th>\n",
              "      <th>Games</th>\n",
              "      <th>Year</th>\n",
              "      <th>Season</th>\n",
              "      <th>City</th>\n",
              "      <th>Sport</th>\n",
              "      <th>Event</th>\n",
              "      <th>Medal</th>\n",
              "    </tr>\n",
              "  </thead>\n",
              "  <tbody>\n",
              "    <tr>\n",
              "      <th>0</th>\n",
              "      <td>1</td>\n",
              "      <td>A Dijiang</td>\n",
              "      <td>M</td>\n",
              "      <td>24.0</td>\n",
              "      <td>180.0</td>\n",
              "      <td>80.0</td>\n",
              "      <td>China</td>\n",
              "      <td>CHN</td>\n",
              "      <td>1992 Summer</td>\n",
              "      <td>1992</td>\n",
              "      <td>Summer</td>\n",
              "      <td>Barcelona</td>\n",
              "      <td>Basketball</td>\n",
              "      <td>Basketball Men's Basketball</td>\n",
              "      <td>NaN</td>\n",
              "    </tr>\n",
              "    <tr>\n",
              "      <th>1</th>\n",
              "      <td>2</td>\n",
              "      <td>A Lamusi</td>\n",
              "      <td>M</td>\n",
              "      <td>23.0</td>\n",
              "      <td>170.0</td>\n",
              "      <td>60.0</td>\n",
              "      <td>China</td>\n",
              "      <td>CHN</td>\n",
              "      <td>2012 Summer</td>\n",
              "      <td>2012</td>\n",
              "      <td>Summer</td>\n",
              "      <td>London</td>\n",
              "      <td>Judo</td>\n",
              "      <td>Judo Men's Extra-Lightweight</td>\n",
              "      <td>NaN</td>\n",
              "    </tr>\n",
              "    <tr>\n",
              "      <th>2</th>\n",
              "      <td>3</td>\n",
              "      <td>Gunnar Nielsen Aaby</td>\n",
              "      <td>M</td>\n",
              "      <td>24.0</td>\n",
              "      <td>NaN</td>\n",
              "      <td>NaN</td>\n",
              "      <td>Denmark</td>\n",
              "      <td>DEN</td>\n",
              "      <td>1920 Summer</td>\n",
              "      <td>1920</td>\n",
              "      <td>Summer</td>\n",
              "      <td>Antwerpen</td>\n",
              "      <td>Football</td>\n",
              "      <td>Football Men's Football</td>\n",
              "      <td>NaN</td>\n",
              "    </tr>\n",
              "    <tr>\n",
              "      <th>3</th>\n",
              "      <td>4</td>\n",
              "      <td>Edgar Lindenau Aabye</td>\n",
              "      <td>M</td>\n",
              "      <td>34.0</td>\n",
              "      <td>NaN</td>\n",
              "      <td>NaN</td>\n",
              "      <td>Denmark/Sweden</td>\n",
              "      <td>DEN</td>\n",
              "      <td>1900 Summer</td>\n",
              "      <td>1900</td>\n",
              "      <td>Summer</td>\n",
              "      <td>Paris</td>\n",
              "      <td>Tug-Of-War</td>\n",
              "      <td>Tug-Of-War Men's Tug-Of-War</td>\n",
              "      <td>Gold</td>\n",
              "    </tr>\n",
              "    <tr>\n",
              "      <th>4</th>\n",
              "      <td>5</td>\n",
              "      <td>Christine Jacoba Aaftink</td>\n",
              "      <td>F</td>\n",
              "      <td>21.0</td>\n",
              "      <td>185.0</td>\n",
              "      <td>82.0</td>\n",
              "      <td>Netherlands</td>\n",
              "      <td>NED</td>\n",
              "      <td>1988 Winter</td>\n",
              "      <td>1988</td>\n",
              "      <td>Winter</td>\n",
              "      <td>Calgary</td>\n",
              "      <td>Speed Skating</td>\n",
              "      <td>Speed Skating Women's 500 metres</td>\n",
              "      <td>NaN</td>\n",
              "    </tr>\n",
              "  </tbody>\n",
              "</table>\n",
              "</div>"
            ],
            "text/plain": [
              "   ID                      Name  ...                             Event  Medal\n",
              "0   1                 A Dijiang  ...       Basketball Men's Basketball    NaN\n",
              "1   2                  A Lamusi  ...      Judo Men's Extra-Lightweight    NaN\n",
              "2   3       Gunnar Nielsen Aaby  ...           Football Men's Football    NaN\n",
              "3   4      Edgar Lindenau Aabye  ...       Tug-Of-War Men's Tug-Of-War   Gold\n",
              "4   5  Christine Jacoba Aaftink  ...  Speed Skating Women's 500 metres    NaN\n",
              "\n",
              "[5 rows x 15 columns]"
            ]
          },
          "metadata": {
            "tags": []
          },
          "execution_count": 747
        }
      ]
    },
    {
      "cell_type": "code",
      "metadata": {
        "colab": {
          "base_uri": "https://localhost:8080/"
        },
        "id": "O08mxyT4K_3O",
        "outputId": "81af5cc8-1308-4e16-bb34-0b98e6924a6b"
      },
      "source": [
        "df_athlete_events.shape"
      ],
      "execution_count": 748,
      "outputs": [
        {
          "output_type": "execute_result",
          "data": {
            "text/plain": [
              "(271116, 15)"
            ]
          },
          "metadata": {
            "tags": []
          },
          "execution_count": 748
        }
      ]
    },
    {
      "cell_type": "markdown",
      "metadata": {
        "id": "oAU2Nqq1J_sn"
      },
      "source": [
        "**Observação**\n",
        "\n",
        "Há jogos olímpicos de inverso e de verão, como pode ser visto na coluna \"Season\" do dataset. Como nosso objetivo é apenas analisar os dados das olimpíadas de verão (no hemisfério norte). Filtraremos apenas os dados referentes a Season == 'Verão'"
      ]
    },
    {
      "cell_type": "code",
      "metadata": {
        "colab": {
          "base_uri": "https://localhost:8080/"
        },
        "id": "MjAH3frnKjnc",
        "outputId": "5e2c991b-585c-4e71-ccd6-a148f82f57ca"
      },
      "source": [
        "df_athlete_events['Season'].value_counts() # confirmando que só a duas possibilidades nesta coluna [Winter, Summer]"
      ],
      "execution_count": 749,
      "outputs": [
        {
          "output_type": "execute_result",
          "data": {
            "text/plain": [
              "Summer    222552\n",
              "Winter     48564\n",
              "Name: Season, dtype: int64"
            ]
          },
          "metadata": {
            "tags": []
          },
          "execution_count": 749
        }
      ]
    },
    {
      "cell_type": "code",
      "metadata": {
        "id": "2zw3HZv7Kbdr"
      },
      "source": [
        "filtra_verao = df_athlete_events['Season'] == 'Summer'\n",
        "df_athlete_events=df_athlete_events[filtra_verao]"
      ],
      "execution_count": 750,
      "outputs": []
    },
    {
      "cell_type": "code",
      "metadata": {
        "colab": {
          "base_uri": "https://localhost:8080/",
          "height": 830
        },
        "id": "80ae7tQqRbUM",
        "outputId": "1ae586dc-7b54-4e4c-8640-0e206b333f9f"
      },
      "source": [
        "df_athlete_events.sort_values(by=['Age'])"
      ],
      "execution_count": 751,
      "outputs": [
        {
          "output_type": "execute_result",
          "data": {
            "text/html": [
              "<div>\n",
              "<style scoped>\n",
              "    .dataframe tbody tr th:only-of-type {\n",
              "        vertical-align: middle;\n",
              "    }\n",
              "\n",
              "    .dataframe tbody tr th {\n",
              "        vertical-align: top;\n",
              "    }\n",
              "\n",
              "    .dataframe thead th {\n",
              "        text-align: right;\n",
              "    }\n",
              "</style>\n",
              "<table border=\"1\" class=\"dataframe\">\n",
              "  <thead>\n",
              "    <tr style=\"text-align: right;\">\n",
              "      <th></th>\n",
              "      <th>ID</th>\n",
              "      <th>Name</th>\n",
              "      <th>Sex</th>\n",
              "      <th>Age</th>\n",
              "      <th>Height</th>\n",
              "      <th>Weight</th>\n",
              "      <th>Team</th>\n",
              "      <th>NOC</th>\n",
              "      <th>Games</th>\n",
              "      <th>Year</th>\n",
              "      <th>Season</th>\n",
              "      <th>City</th>\n",
              "      <th>Sport</th>\n",
              "      <th>Event</th>\n",
              "      <th>Medal</th>\n",
              "    </tr>\n",
              "  </thead>\n",
              "  <tbody>\n",
              "    <tr>\n",
              "      <th>142882</th>\n",
              "      <td>71691</td>\n",
              "      <td>Dimitrios Loundras</td>\n",
              "      <td>M</td>\n",
              "      <td>10.0</td>\n",
              "      <td>NaN</td>\n",
              "      <td>NaN</td>\n",
              "      <td>Ethnikos Gymnastikos Syllogos</td>\n",
              "      <td>GRE</td>\n",
              "      <td>1896 Summer</td>\n",
              "      <td>1896</td>\n",
              "      <td>Summer</td>\n",
              "      <td>Athina</td>\n",
              "      <td>Gymnastics</td>\n",
              "      <td>Gymnastics Men's Parallel Bars, Teams</td>\n",
              "      <td>Bronze</td>\n",
              "    </tr>\n",
              "    <tr>\n",
              "      <th>252230</th>\n",
              "      <td>126307</td>\n",
              "      <td>Liana Vicens</td>\n",
              "      <td>F</td>\n",
              "      <td>11.0</td>\n",
              "      <td>158.0</td>\n",
              "      <td>50.0</td>\n",
              "      <td>Puerto Rico</td>\n",
              "      <td>PUR</td>\n",
              "      <td>1968 Summer</td>\n",
              "      <td>1968</td>\n",
              "      <td>Summer</td>\n",
              "      <td>Mexico City</td>\n",
              "      <td>Swimming</td>\n",
              "      <td>Swimming Women's 100 metres Breaststroke</td>\n",
              "      <td>NaN</td>\n",
              "    </tr>\n",
              "    <tr>\n",
              "      <th>79024</th>\n",
              "      <td>40129</td>\n",
              "      <td>Luigina Giavotti</td>\n",
              "      <td>F</td>\n",
              "      <td>11.0</td>\n",
              "      <td>NaN</td>\n",
              "      <td>NaN</td>\n",
              "      <td>Italy</td>\n",
              "      <td>ITA</td>\n",
              "      <td>1928 Summer</td>\n",
              "      <td>1928</td>\n",
              "      <td>Summer</td>\n",
              "      <td>Amsterdam</td>\n",
              "      <td>Gymnastics</td>\n",
              "      <td>Gymnastics Women's Team All-Around</td>\n",
              "      <td>Silver</td>\n",
              "    </tr>\n",
              "    <tr>\n",
              "      <th>73461</th>\n",
              "      <td>37333</td>\n",
              "      <td>Carlos Bienvenido Front Barrera</td>\n",
              "      <td>M</td>\n",
              "      <td>11.0</td>\n",
              "      <td>NaN</td>\n",
              "      <td>NaN</td>\n",
              "      <td>Spain</td>\n",
              "      <td>ESP</td>\n",
              "      <td>1992 Summer</td>\n",
              "      <td>1992</td>\n",
              "      <td>Summer</td>\n",
              "      <td>Barcelona</td>\n",
              "      <td>Rowing</td>\n",
              "      <td>Rowing Men's Coxed Eights</td>\n",
              "      <td>NaN</td>\n",
              "    </tr>\n",
              "    <tr>\n",
              "      <th>252231</th>\n",
              "      <td>126307</td>\n",
              "      <td>Liana Vicens</td>\n",
              "      <td>F</td>\n",
              "      <td>11.0</td>\n",
              "      <td>158.0</td>\n",
              "      <td>50.0</td>\n",
              "      <td>Puerto Rico</td>\n",
              "      <td>PUR</td>\n",
              "      <td>1968 Summer</td>\n",
              "      <td>1968</td>\n",
              "      <td>Summer</td>\n",
              "      <td>Mexico City</td>\n",
              "      <td>Swimming</td>\n",
              "      <td>Swimming Women's 200 metres Breaststroke</td>\n",
              "      <td>NaN</td>\n",
              "    </tr>\n",
              "    <tr>\n",
              "      <th>...</th>\n",
              "      <td>...</td>\n",
              "      <td>...</td>\n",
              "      <td>...</td>\n",
              "      <td>...</td>\n",
              "      <td>...</td>\n",
              "      <td>...</td>\n",
              "      <td>...</td>\n",
              "      <td>...</td>\n",
              "      <td>...</td>\n",
              "      <td>...</td>\n",
              "      <td>...</td>\n",
              "      <td>...</td>\n",
              "      <td>...</td>\n",
              "      <td>...</td>\n",
              "      <td>...</td>\n",
              "    </tr>\n",
              "    <tr>\n",
              "      <th>270679</th>\n",
              "      <td>135368</td>\n",
              "      <td>Antonio A. Zucchi</td>\n",
              "      <td>M</td>\n",
              "      <td>NaN</td>\n",
              "      <td>NaN</td>\n",
              "      <td>NaN</td>\n",
              "      <td>Argentina</td>\n",
              "      <td>ARG</td>\n",
              "      <td>1948 Summer</td>\n",
              "      <td>1948</td>\n",
              "      <td>Summer</td>\n",
              "      <td>London</td>\n",
              "      <td>Hockey</td>\n",
              "      <td>Hockey Men's Hockey</td>\n",
              "      <td>NaN</td>\n",
              "    </tr>\n",
              "    <tr>\n",
              "      <th>270774</th>\n",
              "      <td>135416</td>\n",
              "      <td>Star Zulu</td>\n",
              "      <td>M</td>\n",
              "      <td>NaN</td>\n",
              "      <td>NaN</td>\n",
              "      <td>NaN</td>\n",
              "      <td>Zambia</td>\n",
              "      <td>ZAM</td>\n",
              "      <td>1984 Summer</td>\n",
              "      <td>1984</td>\n",
              "      <td>Summer</td>\n",
              "      <td>Los Angeles</td>\n",
              "      <td>Boxing</td>\n",
              "      <td>Boxing Men's Bantamweight</td>\n",
              "      <td>NaN</td>\n",
              "    </tr>\n",
              "    <tr>\n",
              "      <th>270793</th>\n",
              "      <td>135426</td>\n",
              "      <td>Max Zumstein</td>\n",
              "      <td>M</td>\n",
              "      <td>NaN</td>\n",
              "      <td>NaN</td>\n",
              "      <td>NaN</td>\n",
              "      <td>Switzerland</td>\n",
              "      <td>SUI</td>\n",
              "      <td>1928 Summer</td>\n",
              "      <td>1928</td>\n",
              "      <td>Summer</td>\n",
              "      <td>Amsterdam</td>\n",
              "      <td>Hockey</td>\n",
              "      <td>Hockey Men's Hockey</td>\n",
              "      <td>NaN</td>\n",
              "    </tr>\n",
              "    <tr>\n",
              "      <th>270804</th>\n",
              "      <td>135434</td>\n",
              "      <td>Edmundo Ziga Erraz</td>\n",
              "      <td>M</td>\n",
              "      <td>NaN</td>\n",
              "      <td>180.0</td>\n",
              "      <td>95.0</td>\n",
              "      <td>Chile</td>\n",
              "      <td>CHI</td>\n",
              "      <td>1948 Summer</td>\n",
              "      <td>1948</td>\n",
              "      <td>Summer</td>\n",
              "      <td>London</td>\n",
              "      <td>Athletics</td>\n",
              "      <td>Athletics Men's Hammer Throw</td>\n",
              "      <td>NaN</td>\n",
              "    </tr>\n",
              "    <tr>\n",
              "      <th>270805</th>\n",
              "      <td>135435</td>\n",
              "      <td>Faelo Ziga</td>\n",
              "      <td>M</td>\n",
              "      <td>NaN</td>\n",
              "      <td>NaN</td>\n",
              "      <td>NaN</td>\n",
              "      <td>Chile</td>\n",
              "      <td>CHI</td>\n",
              "      <td>1928 Summer</td>\n",
              "      <td>1928</td>\n",
              "      <td>Summer</td>\n",
              "      <td>Amsterdam</td>\n",
              "      <td>Swimming</td>\n",
              "      <td>Swimming Men's 100 metres Freestyle</td>\n",
              "      <td>NaN</td>\n",
              "    </tr>\n",
              "  </tbody>\n",
              "</table>\n",
              "<p>222552 rows × 15 columns</p>\n",
              "</div>"
            ],
            "text/plain": [
              "            ID  ...   Medal\n",
              "142882   71691  ...  Bronze\n",
              "252230  126307  ...     NaN\n",
              "79024    40129  ...  Silver\n",
              "73461    37333  ...     NaN\n",
              "252231  126307  ...     NaN\n",
              "...        ...  ...     ...\n",
              "270679  135368  ...     NaN\n",
              "270774  135416  ...     NaN\n",
              "270793  135426  ...     NaN\n",
              "270804  135434  ...     NaN\n",
              "270805  135435  ...     NaN\n",
              "\n",
              "[222552 rows x 15 columns]"
            ]
          },
          "metadata": {
            "tags": []
          },
          "execution_count": 751
        }
      ]
    },
    {
      "cell_type": "code",
      "metadata": {
        "colab": {
          "base_uri": "https://localhost:8080/"
        },
        "id": "R4sf5pDcTNsH",
        "outputId": "0b938654-cd8b-4a44-d59e-a34d8565f4e2"
      },
      "source": [
        "df_athlete_events.dtypes"
      ],
      "execution_count": 752,
      "outputs": [
        {
          "output_type": "execute_result",
          "data": {
            "text/plain": [
              "ID          int64\n",
              "Name       object\n",
              "Sex        object\n",
              "Age       float64\n",
              "Height    float64\n",
              "Weight    float64\n",
              "Team       object\n",
              "NOC        object\n",
              "Games      object\n",
              "Year        int64\n",
              "Season     object\n",
              "City       object\n",
              "Sport      object\n",
              "Event      object\n",
              "Medal      object\n",
              "dtype: object"
            ]
          },
          "metadata": {
            "tags": []
          },
          "execution_count": 752
        }
      ]
    },
    {
      "cell_type": "markdown",
      "metadata": {
        "id": "ZQP2NkOZT6CX"
      },
      "source": [
        "**Contando NaN por coluna no df**"
      ]
    },
    {
      "cell_type": "code",
      "metadata": {
        "colab": {
          "base_uri": "https://localhost:8080/"
        },
        "id": "tyIR3n1LPpB-",
        "outputId": "39866905-cc47-4deb-9999-0ce530f7f162"
      },
      "source": [
        "df_athlete_events.columns"
      ],
      "execution_count": 753,
      "outputs": [
        {
          "output_type": "execute_result",
          "data": {
            "text/plain": [
              "Index(['ID', 'Name', 'Sex', 'Age', 'Height', 'Weight', 'Team', 'NOC', 'Games',\n",
              "       'Year', 'Season', 'City', 'Sport', 'Event', 'Medal'],\n",
              "      dtype='object')"
            ]
          },
          "metadata": {
            "tags": []
          },
          "execution_count": 753
        }
      ]
    },
    {
      "cell_type": "code",
      "metadata": {
        "colab": {
          "base_uri": "https://localhost:8080/"
        },
        "id": "rt9wQ2yPThts",
        "outputId": "7f387df7-051f-4136-8fa7-6b00a465ab12"
      },
      "source": [
        "df_athlete_events.isna().sum()"
      ],
      "execution_count": 754,
      "outputs": [
        {
          "output_type": "execute_result",
          "data": {
            "text/plain": [
              "ID             0\n",
              "Name           0\n",
              "Sex            0\n",
              "Age         9189\n",
              "Height     51857\n",
              "Weight     53854\n",
              "Team           0\n",
              "NOC            0\n",
              "Games          0\n",
              "Year           0\n",
              "Season         0\n",
              "City           0\n",
              "Sport          0\n",
              "Event          0\n",
              "Medal     188464\n",
              "dtype: int64"
            ]
          },
          "metadata": {
            "tags": []
          },
          "execution_count": 754
        }
      ]
    },
    {
      "cell_type": "code",
      "metadata": {
        "colab": {
          "base_uri": "https://localhost:8080/"
        },
        "id": "_wYJwp2FPUnp",
        "outputId": "30438af7-10aa-457e-dca6-1d890ecbcd07"
      },
      "source": [
        "rows_number = df_athlete_events.shape[0]\n",
        "rows_number"
      ],
      "execution_count": 755,
      "outputs": [
        {
          "output_type": "execute_result",
          "data": {
            "text/plain": [
              "222552"
            ]
          },
          "metadata": {
            "tags": []
          },
          "execution_count": 755
        }
      ]
    },
    {
      "cell_type": "markdown",
      "metadata": {
        "id": "Yi2sPOfFveEF"
      },
      "source": [
        "# 1. Qual o percentual de valores faltantes por feature?"
      ]
    },
    {
      "cell_type": "code",
      "metadata": {
        "colab": {
          "base_uri": "https://localhost:8080/"
        },
        "id": "KmUwvkjhsCst",
        "outputId": "0564661d-0b41-48df-88c6-55728c95cc9a"
      },
      "source": [
        "serie = df_athlete_events.isna().sum()\n",
        "percent_nan_age = round((serie['Age']/rows_number)*100,2)\n",
        "percent_nan_age"
      ],
      "execution_count": 756,
      "outputs": [
        {
          "output_type": "execute_result",
          "data": {
            "text/plain": [
              "4.13"
            ]
          },
          "metadata": {
            "tags": []
          },
          "execution_count": 756
        }
      ]
    },
    {
      "cell_type": "code",
      "metadata": {
        "colab": {
          "base_uri": "https://localhost:8080/"
        },
        "id": "NzzkVH9tscdz",
        "outputId": "b8b33cde-1017-46c4-cc44-b74a99e475ca"
      },
      "source": [
        "percent_nan_altura = round((serie['Height']/rows_number)*100,2)\n",
        "percent_nan_altura"
      ],
      "execution_count": 757,
      "outputs": [
        {
          "output_type": "execute_result",
          "data": {
            "text/plain": [
              "23.3"
            ]
          },
          "metadata": {
            "tags": []
          },
          "execution_count": 757
        }
      ]
    },
    {
      "cell_type": "code",
      "metadata": {
        "colab": {
          "base_uri": "https://localhost:8080/"
        },
        "id": "XqJyc0CAsi-C",
        "outputId": "6388f0bb-238e-4722-bc06-e90892100ed0"
      },
      "source": [
        "percent_nan_peso = round((serie['Weight']/rows_number)*100,2)\n",
        "percent_nan_peso"
      ],
      "execution_count": 758,
      "outputs": [
        {
          "output_type": "execute_result",
          "data": {
            "text/plain": [
              "24.2"
            ]
          },
          "metadata": {
            "tags": []
          },
          "execution_count": 758
        }
      ]
    },
    {
      "cell_type": "code",
      "metadata": {
        "colab": {
          "base_uri": "https://localhost:8080/"
        },
        "id": "wOLWlsvFspoU",
        "outputId": "cd2a4a1a-35c7-432a-f1d1-c5b3fc6eb731"
      },
      "source": [
        "percent_nan_medal = round((serie['Medal']/rows_number)*100,2)\n",
        "percent_nan_medal"
      ],
      "execution_count": 759,
      "outputs": [
        {
          "output_type": "execute_result",
          "data": {
            "text/plain": [
              "84.68"
            ]
          },
          "metadata": {
            "tags": []
          },
          "execution_count": 759
        }
      ]
    },
    {
      "cell_type": "markdown",
      "metadata": {
        "id": "llCNwH3lHt91"
      },
      "source": [
        "**Observação**\n",
        "\n",
        "Analisando o percentual de dados faltantes (NaN) nas features, é razoável que haja 3,49% de de NaN na feature Age, 22,19% na feature Height e 23,19% na feature Weight. No entanto, não é razoável que haja 85,33% NaN na feature Medal. A hipótese aqui assumida é que esses NaN são na verdade os participantes que não ganharam medalha. Por isso, vamos preencher tais NaN com a string \"No Medal\"."
      ]
    },
    {
      "cell_type": "markdown",
      "metadata": {
        "id": "_yBIVm0EJOHd"
      },
      "source": [
        "**Subtituindo NaN na coluna 'Medal' por 'No Medal'**"
      ]
    },
    {
      "cell_type": "code",
      "metadata": {
        "id": "ybXDaawbI3m0"
      },
      "source": [
        "df_athlete_events['Medal'].fillna('No Medal', inplace=True)"
      ],
      "execution_count": 760,
      "outputs": []
    },
    {
      "cell_type": "markdown",
      "metadata": {
        "id": "RfJ9SPJFJfFm"
      },
      "source": [
        "**Confirmando se a substituição foi realizada**"
      ]
    },
    {
      "cell_type": "code",
      "metadata": {
        "colab": {
          "base_uri": "https://localhost:8080/"
        },
        "id": "ywifiZCHJmDd",
        "outputId": "0920c639-e15a-489c-998b-85c61f5d114a"
      },
      "source": [
        "df_athlete_events.isna().sum()"
      ],
      "execution_count": 761,
      "outputs": [
        {
          "output_type": "execute_result",
          "data": {
            "text/plain": [
              "ID            0\n",
              "Name          0\n",
              "Sex           0\n",
              "Age        9189\n",
              "Height    51857\n",
              "Weight    53854\n",
              "Team          0\n",
              "NOC           0\n",
              "Games         0\n",
              "Year          0\n",
              "Season        0\n",
              "City          0\n",
              "Sport         0\n",
              "Event         0\n",
              "Medal         0\n",
              "dtype: int64"
            ]
          },
          "metadata": {
            "tags": []
          },
          "execution_count": 761
        }
      ]
    },
    {
      "cell_type": "markdown",
      "metadata": {
        "id": "tBMCs4R-QOl0"
      },
      "source": [
        "# 2. Quais as principais métricas das variáveis numéricas?"
      ]
    },
    {
      "cell_type": "code",
      "metadata": {
        "colab": {
          "base_uri": "https://localhost:8080/",
          "height": 297
        },
        "id": "0ewOtFuaP9S0",
        "outputId": "d9a090ef-cc3c-473b-bc81-0b64571b1585"
      },
      "source": [
        "df_numerico = df_athlete_events[['Age', 'Height', 'Weight']]\n",
        "df_numerico.describe() # obs: não são considerados os NaN"
      ],
      "execution_count": 762,
      "outputs": [
        {
          "output_type": "execute_result",
          "data": {
            "text/html": [
              "<div>\n",
              "<style scoped>\n",
              "    .dataframe tbody tr th:only-of-type {\n",
              "        vertical-align: middle;\n",
              "    }\n",
              "\n",
              "    .dataframe tbody tr th {\n",
              "        vertical-align: top;\n",
              "    }\n",
              "\n",
              "    .dataframe thead th {\n",
              "        text-align: right;\n",
              "    }\n",
              "</style>\n",
              "<table border=\"1\" class=\"dataframe\">\n",
              "  <thead>\n",
              "    <tr style=\"text-align: right;\">\n",
              "      <th></th>\n",
              "      <th>Age</th>\n",
              "      <th>Height</th>\n",
              "      <th>Weight</th>\n",
              "    </tr>\n",
              "  </thead>\n",
              "  <tbody>\n",
              "    <tr>\n",
              "      <th>count</th>\n",
              "      <td>213363.000000</td>\n",
              "      <td>170695.000000</td>\n",
              "      <td>168698.00000</td>\n",
              "    </tr>\n",
              "    <tr>\n",
              "      <th>mean</th>\n",
              "      <td>25.674053</td>\n",
              "      <td>175.515551</td>\n",
              "      <td>70.68906</td>\n",
              "    </tr>\n",
              "    <tr>\n",
              "      <th>std</th>\n",
              "      <td>6.699839</td>\n",
              "      <td>10.914725</td>\n",
              "      <td>14.80394</td>\n",
              "    </tr>\n",
              "    <tr>\n",
              "      <th>min</th>\n",
              "      <td>10.000000</td>\n",
              "      <td>127.000000</td>\n",
              "      <td>25.00000</td>\n",
              "    </tr>\n",
              "    <tr>\n",
              "      <th>25%</th>\n",
              "      <td>21.000000</td>\n",
              "      <td>168.000000</td>\n",
              "      <td>60.00000</td>\n",
              "    </tr>\n",
              "    <tr>\n",
              "      <th>50%</th>\n",
              "      <td>24.000000</td>\n",
              "      <td>175.000000</td>\n",
              "      <td>70.00000</td>\n",
              "    </tr>\n",
              "    <tr>\n",
              "      <th>75%</th>\n",
              "      <td>28.000000</td>\n",
              "      <td>183.000000</td>\n",
              "      <td>79.00000</td>\n",
              "    </tr>\n",
              "    <tr>\n",
              "      <th>max</th>\n",
              "      <td>97.000000</td>\n",
              "      <td>226.000000</td>\n",
              "      <td>214.00000</td>\n",
              "    </tr>\n",
              "  </tbody>\n",
              "</table>\n",
              "</div>"
            ],
            "text/plain": [
              "                 Age         Height        Weight\n",
              "count  213363.000000  170695.000000  168698.00000\n",
              "mean       25.674053     175.515551      70.68906\n",
              "std         6.699839      10.914725      14.80394\n",
              "min        10.000000     127.000000      25.00000\n",
              "25%        21.000000     168.000000      60.00000\n",
              "50%        24.000000     175.000000      70.00000\n",
              "75%        28.000000     183.000000      79.00000\n",
              "max        97.000000     226.000000     214.00000"
            ]
          },
          "metadata": {
            "tags": []
          },
          "execution_count": 762
        }
      ]
    },
    {
      "cell_type": "markdown",
      "metadata": {
        "id": "Qo876wpNLWjH"
      },
      "source": [
        "**Dados esquisitos**\n",
        "\n",
        "Atleta mais velho com 97? Segunda o wikipedia o John Quincy Adams Ward competiu postumamente, tendo falecido aos 80 anos em 1910.\n",
        "\n",
        "Isto é uma alerta para não acreditar totalmente nos dados, pois podem haver mais equívocos como esse."
      ]
    },
    {
      "cell_type": "code",
      "metadata": {
        "colab": {
          "base_uri": "https://localhost:8080/",
          "height": 168
        },
        "id": "rHyGeheAIMhO",
        "outputId": "18e85b28-237a-4996-d833-e8569ba48b37"
      },
      "source": [
        "filtro_mais_velho = df_athlete_events['Age'] == 97.0\n",
        "df_athlete_events[filtro_mais_velho]"
      ],
      "execution_count": 763,
      "outputs": [
        {
          "output_type": "execute_result",
          "data": {
            "text/html": [
              "<div>\n",
              "<style scoped>\n",
              "    .dataframe tbody tr th:only-of-type {\n",
              "        vertical-align: middle;\n",
              "    }\n",
              "\n",
              "    .dataframe tbody tr th {\n",
              "        vertical-align: top;\n",
              "    }\n",
              "\n",
              "    .dataframe thead th {\n",
              "        text-align: right;\n",
              "    }\n",
              "</style>\n",
              "<table border=\"1\" class=\"dataframe\">\n",
              "  <thead>\n",
              "    <tr style=\"text-align: right;\">\n",
              "      <th></th>\n",
              "      <th>ID</th>\n",
              "      <th>Name</th>\n",
              "      <th>Sex</th>\n",
              "      <th>Age</th>\n",
              "      <th>Height</th>\n",
              "      <th>Weight</th>\n",
              "      <th>Team</th>\n",
              "      <th>NOC</th>\n",
              "      <th>Games</th>\n",
              "      <th>Year</th>\n",
              "      <th>Season</th>\n",
              "      <th>City</th>\n",
              "      <th>Sport</th>\n",
              "      <th>Event</th>\n",
              "      <th>Medal</th>\n",
              "    </tr>\n",
              "  </thead>\n",
              "  <tbody>\n",
              "    <tr>\n",
              "      <th>257054</th>\n",
              "      <td>128719</td>\n",
              "      <td>John Quincy Adams Ward</td>\n",
              "      <td>M</td>\n",
              "      <td>97.0</td>\n",
              "      <td>NaN</td>\n",
              "      <td>NaN</td>\n",
              "      <td>United States</td>\n",
              "      <td>USA</td>\n",
              "      <td>1928 Summer</td>\n",
              "      <td>1928</td>\n",
              "      <td>Summer</td>\n",
              "      <td>Amsterdam</td>\n",
              "      <td>Art Competitions</td>\n",
              "      <td>Art Competitions Mixed Sculpturing, Statues</td>\n",
              "      <td>No Medal</td>\n",
              "    </tr>\n",
              "  </tbody>\n",
              "</table>\n",
              "</div>"
            ],
            "text/plain": [
              "            ID  ...     Medal\n",
              "257054  128719  ...  No Medal\n",
              "\n",
              "[1 rows x 15 columns]"
            ]
          },
          "metadata": {
            "tags": []
          },
          "execution_count": 763
        }
      ]
    },
    {
      "cell_type": "markdown",
      "metadata": {
        "id": "VGeL_td_L71h"
      },
      "source": [
        "**Olimpíadas no Brasil 2016**"
      ]
    },
    {
      "cell_type": "code",
      "metadata": {
        "colab": {
          "base_uri": "https://localhost:8080/",
          "height": 408
        },
        "id": "7auXeW2bLwnh",
        "outputId": "c993c32b-6027-4695-c398-07e7f9bcde1d"
      },
      "source": [
        "filtro_2016 = df_athlete_events['Year'] == 2016\n",
        "df_athlete_events[filtro_2016].head()"
      ],
      "execution_count": 764,
      "outputs": [
        {
          "output_type": "execute_result",
          "data": {
            "text/html": [
              "<div>\n",
              "<style scoped>\n",
              "    .dataframe tbody tr th:only-of-type {\n",
              "        vertical-align: middle;\n",
              "    }\n",
              "\n",
              "    .dataframe tbody tr th {\n",
              "        vertical-align: top;\n",
              "    }\n",
              "\n",
              "    .dataframe thead th {\n",
              "        text-align: right;\n",
              "    }\n",
              "</style>\n",
              "<table border=\"1\" class=\"dataframe\">\n",
              "  <thead>\n",
              "    <tr style=\"text-align: right;\">\n",
              "      <th></th>\n",
              "      <th>ID</th>\n",
              "      <th>Name</th>\n",
              "      <th>Sex</th>\n",
              "      <th>Age</th>\n",
              "      <th>Height</th>\n",
              "      <th>Weight</th>\n",
              "      <th>Team</th>\n",
              "      <th>NOC</th>\n",
              "      <th>Games</th>\n",
              "      <th>Year</th>\n",
              "      <th>Season</th>\n",
              "      <th>City</th>\n",
              "      <th>Sport</th>\n",
              "      <th>Event</th>\n",
              "      <th>Medal</th>\n",
              "    </tr>\n",
              "  </thead>\n",
              "  <tbody>\n",
              "    <tr>\n",
              "      <th>80</th>\n",
              "      <td>22</td>\n",
              "      <td>Andreea Aanei</td>\n",
              "      <td>F</td>\n",
              "      <td>22.0</td>\n",
              "      <td>170.0</td>\n",
              "      <td>125.0</td>\n",
              "      <td>Romania</td>\n",
              "      <td>ROU</td>\n",
              "      <td>2016 Summer</td>\n",
              "      <td>2016</td>\n",
              "      <td>Summer</td>\n",
              "      <td>Rio de Janeiro</td>\n",
              "      <td>Weightlifting</td>\n",
              "      <td>Weightlifting Women's Super-Heavyweight</td>\n",
              "      <td>No Medal</td>\n",
              "    </tr>\n",
              "    <tr>\n",
              "      <th>139</th>\n",
              "      <td>51</td>\n",
              "      <td>Nstor Abad Sanjun</td>\n",
              "      <td>M</td>\n",
              "      <td>23.0</td>\n",
              "      <td>167.0</td>\n",
              "      <td>64.0</td>\n",
              "      <td>Spain</td>\n",
              "      <td>ESP</td>\n",
              "      <td>2016 Summer</td>\n",
              "      <td>2016</td>\n",
              "      <td>Summer</td>\n",
              "      <td>Rio de Janeiro</td>\n",
              "      <td>Gymnastics</td>\n",
              "      <td>Gymnastics Men's Individual All-Around</td>\n",
              "      <td>No Medal</td>\n",
              "    </tr>\n",
              "    <tr>\n",
              "      <th>140</th>\n",
              "      <td>51</td>\n",
              "      <td>Nstor Abad Sanjun</td>\n",
              "      <td>M</td>\n",
              "      <td>23.0</td>\n",
              "      <td>167.0</td>\n",
              "      <td>64.0</td>\n",
              "      <td>Spain</td>\n",
              "      <td>ESP</td>\n",
              "      <td>2016 Summer</td>\n",
              "      <td>2016</td>\n",
              "      <td>Summer</td>\n",
              "      <td>Rio de Janeiro</td>\n",
              "      <td>Gymnastics</td>\n",
              "      <td>Gymnastics Men's Floor Exercise</td>\n",
              "      <td>No Medal</td>\n",
              "    </tr>\n",
              "    <tr>\n",
              "      <th>141</th>\n",
              "      <td>51</td>\n",
              "      <td>Nstor Abad Sanjun</td>\n",
              "      <td>M</td>\n",
              "      <td>23.0</td>\n",
              "      <td>167.0</td>\n",
              "      <td>64.0</td>\n",
              "      <td>Spain</td>\n",
              "      <td>ESP</td>\n",
              "      <td>2016 Summer</td>\n",
              "      <td>2016</td>\n",
              "      <td>Summer</td>\n",
              "      <td>Rio de Janeiro</td>\n",
              "      <td>Gymnastics</td>\n",
              "      <td>Gymnastics Men's Parallel Bars</td>\n",
              "      <td>No Medal</td>\n",
              "    </tr>\n",
              "    <tr>\n",
              "      <th>142</th>\n",
              "      <td>51</td>\n",
              "      <td>Nstor Abad Sanjun</td>\n",
              "      <td>M</td>\n",
              "      <td>23.0</td>\n",
              "      <td>167.0</td>\n",
              "      <td>64.0</td>\n",
              "      <td>Spain</td>\n",
              "      <td>ESP</td>\n",
              "      <td>2016 Summer</td>\n",
              "      <td>2016</td>\n",
              "      <td>Summer</td>\n",
              "      <td>Rio de Janeiro</td>\n",
              "      <td>Gymnastics</td>\n",
              "      <td>Gymnastics Men's Horizontal Bar</td>\n",
              "      <td>No Medal</td>\n",
              "    </tr>\n",
              "  </tbody>\n",
              "</table>\n",
              "</div>"
            ],
            "text/plain": [
              "     ID               Name  ...                                    Event     Medal\n",
              "80   22      Andreea Aanei  ...  Weightlifting Women's Super-Heavyweight  No Medal\n",
              "139  51  Nstor Abad Sanjun  ...   Gymnastics Men's Individual All-Around  No Medal\n",
              "140  51  Nstor Abad Sanjun  ...          Gymnastics Men's Floor Exercise  No Medal\n",
              "141  51  Nstor Abad Sanjun  ...           Gymnastics Men's Parallel Bars  No Medal\n",
              "142  51  Nstor Abad Sanjun  ...          Gymnastics Men's Horizontal Bar  No Medal\n",
              "\n",
              "[5 rows x 15 columns]"
            ]
          },
          "metadata": {
            "tags": []
          },
          "execution_count": 764
        }
      ]
    },
    {
      "cell_type": "markdown",
      "metadata": {
        "id": "ul3eps3OXSiv"
      },
      "source": [
        "**Michael Phelps**"
      ]
    },
    {
      "cell_type": "code",
      "metadata": {
        "colab": {
          "base_uri": "https://localhost:8080/",
          "height": 493
        },
        "id": "CWJKmelxXVbi",
        "outputId": "023965c5-5eb7-4c4c-e6a7-9242d35c4622"
      },
      "source": [
        "filtro_phelps = df_athlete_events['Name'] == 'Michael Fred Phelps, II'\n",
        "df_athlete_events[filtro_phelps].head()"
      ],
      "execution_count": 765,
      "outputs": [
        {
          "output_type": "execute_result",
          "data": {
            "text/html": [
              "<div>\n",
              "<style scoped>\n",
              "    .dataframe tbody tr th:only-of-type {\n",
              "        vertical-align: middle;\n",
              "    }\n",
              "\n",
              "    .dataframe tbody tr th {\n",
              "        vertical-align: top;\n",
              "    }\n",
              "\n",
              "    .dataframe thead th {\n",
              "        text-align: right;\n",
              "    }\n",
              "</style>\n",
              "<table border=\"1\" class=\"dataframe\">\n",
              "  <thead>\n",
              "    <tr style=\"text-align: right;\">\n",
              "      <th></th>\n",
              "      <th>ID</th>\n",
              "      <th>Name</th>\n",
              "      <th>Sex</th>\n",
              "      <th>Age</th>\n",
              "      <th>Height</th>\n",
              "      <th>Weight</th>\n",
              "      <th>Team</th>\n",
              "      <th>NOC</th>\n",
              "      <th>Games</th>\n",
              "      <th>Year</th>\n",
              "      <th>Season</th>\n",
              "      <th>City</th>\n",
              "      <th>Sport</th>\n",
              "      <th>Event</th>\n",
              "      <th>Medal</th>\n",
              "    </tr>\n",
              "  </thead>\n",
              "  <tbody>\n",
              "    <tr>\n",
              "      <th>187887</th>\n",
              "      <td>94406</td>\n",
              "      <td>Michael Fred Phelps, II</td>\n",
              "      <td>M</td>\n",
              "      <td>15.0</td>\n",
              "      <td>193.0</td>\n",
              "      <td>91.0</td>\n",
              "      <td>United States</td>\n",
              "      <td>USA</td>\n",
              "      <td>2000 Summer</td>\n",
              "      <td>2000</td>\n",
              "      <td>Summer</td>\n",
              "      <td>Sydney</td>\n",
              "      <td>Swimming</td>\n",
              "      <td>Swimming Men's 200 metres Butterfly</td>\n",
              "      <td>No Medal</td>\n",
              "    </tr>\n",
              "    <tr>\n",
              "      <th>187888</th>\n",
              "      <td>94406</td>\n",
              "      <td>Michael Fred Phelps, II</td>\n",
              "      <td>M</td>\n",
              "      <td>19.0</td>\n",
              "      <td>193.0</td>\n",
              "      <td>91.0</td>\n",
              "      <td>United States</td>\n",
              "      <td>USA</td>\n",
              "      <td>2004 Summer</td>\n",
              "      <td>2004</td>\n",
              "      <td>Summer</td>\n",
              "      <td>Athina</td>\n",
              "      <td>Swimming</td>\n",
              "      <td>Swimming Men's 200 metres Freestyle</td>\n",
              "      <td>Bronze</td>\n",
              "    </tr>\n",
              "    <tr>\n",
              "      <th>187889</th>\n",
              "      <td>94406</td>\n",
              "      <td>Michael Fred Phelps, II</td>\n",
              "      <td>M</td>\n",
              "      <td>19.0</td>\n",
              "      <td>193.0</td>\n",
              "      <td>91.0</td>\n",
              "      <td>United States</td>\n",
              "      <td>USA</td>\n",
              "      <td>2004 Summer</td>\n",
              "      <td>2004</td>\n",
              "      <td>Summer</td>\n",
              "      <td>Athina</td>\n",
              "      <td>Swimming</td>\n",
              "      <td>Swimming Men's 4 x 100 metres Freestyle Relay</td>\n",
              "      <td>Bronze</td>\n",
              "    </tr>\n",
              "    <tr>\n",
              "      <th>187890</th>\n",
              "      <td>94406</td>\n",
              "      <td>Michael Fred Phelps, II</td>\n",
              "      <td>M</td>\n",
              "      <td>19.0</td>\n",
              "      <td>193.0</td>\n",
              "      <td>91.0</td>\n",
              "      <td>United States</td>\n",
              "      <td>USA</td>\n",
              "      <td>2004 Summer</td>\n",
              "      <td>2004</td>\n",
              "      <td>Summer</td>\n",
              "      <td>Athina</td>\n",
              "      <td>Swimming</td>\n",
              "      <td>Swimming Men's 4 x 200 metres Freestyle Relay</td>\n",
              "      <td>Gold</td>\n",
              "    </tr>\n",
              "    <tr>\n",
              "      <th>187891</th>\n",
              "      <td>94406</td>\n",
              "      <td>Michael Fred Phelps, II</td>\n",
              "      <td>M</td>\n",
              "      <td>19.0</td>\n",
              "      <td>193.0</td>\n",
              "      <td>91.0</td>\n",
              "      <td>United States</td>\n",
              "      <td>USA</td>\n",
              "      <td>2004 Summer</td>\n",
              "      <td>2004</td>\n",
              "      <td>Summer</td>\n",
              "      <td>Athina</td>\n",
              "      <td>Swimming</td>\n",
              "      <td>Swimming Men's 100 metres Butterfly</td>\n",
              "      <td>Gold</td>\n",
              "    </tr>\n",
              "  </tbody>\n",
              "</table>\n",
              "</div>"
            ],
            "text/plain": [
              "           ID  ...     Medal\n",
              "187887  94406  ...  No Medal\n",
              "187888  94406  ...    Bronze\n",
              "187889  94406  ...    Bronze\n",
              "187890  94406  ...      Gold\n",
              "187891  94406  ...      Gold\n",
              "\n",
              "[5 rows x 15 columns]"
            ]
          },
          "metadata": {
            "tags": []
          },
          "execution_count": 765
        }
      ]
    },
    {
      "cell_type": "markdown",
      "metadata": {
        "id": "fQTeH5QJSLYA"
      },
      "source": [
        "**Modas da Idade, Altura e Peso**"
      ]
    },
    {
      "cell_type": "code",
      "metadata": {
        "colab": {
          "base_uri": "https://localhost:8080/"
        },
        "id": "_jJCUKnjWYKi",
        "outputId": "47816998-c1f1-4b54-a14f-138b73ef2fe2"
      },
      "source": [
        "idade = df_numerico['Age'].dropna()\n",
        "stats.mode(idade)"
      ],
      "execution_count": 766,
      "outputs": [
        {
          "output_type": "execute_result",
          "data": {
            "text/plain": [
              "ModeResult(mode=array([23.]), count=array([17521]))"
            ]
          },
          "metadata": {
            "tags": []
          },
          "execution_count": 766
        }
      ]
    },
    {
      "cell_type": "code",
      "metadata": {
        "colab": {
          "base_uri": "https://localhost:8080/"
        },
        "id": "Th5_xV8CW9Gb",
        "outputId": "c4a55943-4281-43e8-de27-94532b124a33"
      },
      "source": [
        "altura = df_numerico['Height'].dropna()\n",
        "stats.mode(altura)"
      ],
      "execution_count": 767,
      "outputs": [
        {
          "output_type": "execute_result",
          "data": {
            "text/plain": [
              "ModeResult(mode=array([170.]), count=array([9696]))"
            ]
          },
          "metadata": {
            "tags": []
          },
          "execution_count": 767
        }
      ]
    },
    {
      "cell_type": "code",
      "metadata": {
        "colab": {
          "base_uri": "https://localhost:8080/"
        },
        "id": "D2-0YxWVXCSp",
        "outputId": "ec5d2241-f664-4e59-8b68-b4409cfa8fc5"
      },
      "source": [
        "peso = df_numerico['Weight'].dropna()\n",
        "stats.mode(peso)"
      ],
      "execution_count": 768,
      "outputs": [
        {
          "output_type": "execute_result",
          "data": {
            "text/plain": [
              "ModeResult(mode=array([70.]), count=array([7659]))"
            ]
          },
          "metadata": {
            "tags": []
          },
          "execution_count": 768
        }
      ]
    },
    {
      "cell_type": "markdown",
      "metadata": {
        "id": "AyupJTG0XPDw"
      },
      "source": [
        "# Como se distribuem as features numéricas? Histogramas (Densidade de Probablidade)"
      ]
    },
    {
      "cell_type": "markdown",
      "metadata": {
        "id": "GWwicWn1YXuP"
      },
      "source": [
        "Histogramas são recomendados para variáveis numéricas, tem relação com a função densidade de probabilidade"
      ]
    },
    {
      "cell_type": "code",
      "metadata": {
        "colab": {
          "base_uri": "https://localhost:8080/"
        },
        "id": "ruOf9nOKbU6o",
        "outputId": "6f2bb93b-1bf9-48ed-bc7d-a8ab918dcebe"
      },
      "source": [
        "print('***********Idade***********')\n",
        "print('skewness: ', stats.skew(idade))\n",
        "print('kurtosis: ', stats.kurtosis(idade))\n",
        "print('***********Altura***********')\n",
        "print('skewness: ',stats.skew(altura))\n",
        "print('kurtosis: ', stats.kurtosis(altura))\n",
        "print('***********Peso***********')\n",
        "print('skewness: ', stats.skew(peso))\n",
        "print('kurtosis: ', stats.kurtosis(peso))\n"
      ],
      "execution_count": 769,
      "outputs": [
        {
          "output_type": "stream",
          "text": [
            "***********Idade***********\n",
            "skewness:  1.7741921796321827\n",
            "kurtosis:  6.062101977184664\n",
            "***********Altura***********\n",
            "skewness:  0.019154885937302486\n",
            "kurtosis:  0.1354363080733143\n",
            "***********Peso***********\n",
            "skewness:  0.8464250261851799\n",
            "kurtosis:  2.1521574363717164\n"
          ],
          "name": "stdout"
        }
      ]
    },
    {
      "cell_type": "code",
      "metadata": {
        "colab": {
          "base_uri": "https://localhost:8080/",
          "height": 270
        },
        "id": "AWBV1rd6XRJ1",
        "outputId": "17c03bd2-6700-4773-f01d-115149aa9928"
      },
      "source": [
        "hist_idade =  plt.hist(idade, bins=50, density=True, facecolor='g')"
      ],
      "execution_count": 770,
      "outputs": [
        {
          "output_type": "display_data",
          "data": {
            "image/png": "[encoded data removed]",
            "text/plain": [
              "<Figure size 432x288 with 1 Axes>"
            ]
          },
          "metadata": {
            "tags": [],
            "needs_background": "light"
          }
        }
      ]
    },
    {
      "cell_type": "code",
      "metadata": {
        "colab": {
          "base_uri": "https://localhost:8080/",
          "height": 270
        },
        "id": "g8JVEWgXYIIE",
        "outputId": "2b4c05ab-17f2-4670-9f33-54248e618d73"
      },
      "source": [
        "hist_altura =  plt.hist(altura, bins=50, density=True, facecolor='b')"
      ],
      "execution_count": 771,
      "outputs": [
        {
          "output_type": "display_data",
          "data": {
            "image/png": "[encoded data removed]",
            "text/plain": [
              "<Figure size 432x288 with 1 Axes>"
            ]
          },
          "metadata": {
            "tags": [],
            "needs_background": "light"
          }
        }
      ]
    },
    {
      "cell_type": "code",
      "metadata": {
        "colab": {
          "base_uri": "https://localhost:8080/",
          "height": 270
        },
        "id": "tF_Z32xWYLVy",
        "outputId": "486c4e83-ed65-4990-accb-212db70551ec"
      },
      "source": [
        "hist_peso =  plt.hist(peso, bins=50, density=True, facecolor='r')"
      ],
      "execution_count": 772,
      "outputs": [
        {
          "output_type": "display_data",
          "data": {
            "image/png": "[encoded data removed]",
            "text/plain": [
              "<Figure size 432x288 with 1 Axes>"
            ]
          },
          "metadata": {
            "tags": [],
            "needs_background": "light"
          }
        }
      ]
    },
    {
      "cell_type": "markdown",
      "metadata": {
        "id": "O_hx6uSezOLy"
      },
      "source": [
        "# 4. Correlações"
      ]
    },
    {
      "cell_type": "code",
      "metadata": {
        "colab": {
          "base_uri": "https://localhost:8080/",
          "height": 445
        },
        "id": "INR3uEAXPFwg",
        "outputId": "2eac210e-eba6-4ba3-acdb-99e822c32f0d"
      },
      "source": [
        "filtro_medalhas = df_athlete_events['Medal'].str.contains(\"Gold|Silver|Bronze\")\n",
        "df_medalhistas = df_athlete_events[filtro_medalhas]\n",
        "df_medalhistas.head()"
      ],
      "execution_count": 773,
      "outputs": [
        {
          "output_type": "execute_result",
          "data": {
            "text/html": [
              "<div>\n",
              "<style scoped>\n",
              "    .dataframe tbody tr th:only-of-type {\n",
              "        vertical-align: middle;\n",
              "    }\n",
              "\n",
              "    .dataframe tbody tr th {\n",
              "        vertical-align: top;\n",
              "    }\n",
              "\n",
              "    .dataframe thead th {\n",
              "        text-align: right;\n",
              "    }\n",
              "</style>\n",
              "<table border=\"1\" class=\"dataframe\">\n",
              "  <thead>\n",
              "    <tr style=\"text-align: right;\">\n",
              "      <th></th>\n",
              "      <th>ID</th>\n",
              "      <th>Name</th>\n",
              "      <th>Sex</th>\n",
              "      <th>Age</th>\n",
              "      <th>Height</th>\n",
              "      <th>Weight</th>\n",
              "      <th>Team</th>\n",
              "      <th>NOC</th>\n",
              "      <th>Games</th>\n",
              "      <th>Year</th>\n",
              "      <th>Season</th>\n",
              "      <th>City</th>\n",
              "      <th>Sport</th>\n",
              "      <th>Event</th>\n",
              "      <th>Medal</th>\n",
              "    </tr>\n",
              "  </thead>\n",
              "  <tbody>\n",
              "    <tr>\n",
              "      <th>3</th>\n",
              "      <td>4</td>\n",
              "      <td>Edgar Lindenau Aabye</td>\n",
              "      <td>M</td>\n",
              "      <td>34.0</td>\n",
              "      <td>NaN</td>\n",
              "      <td>NaN</td>\n",
              "      <td>Denmark/Sweden</td>\n",
              "      <td>DEN</td>\n",
              "      <td>1900 Summer</td>\n",
              "      <td>1900</td>\n",
              "      <td>Summer</td>\n",
              "      <td>Paris</td>\n",
              "      <td>Tug-Of-War</td>\n",
              "      <td>Tug-Of-War Men's Tug-Of-War</td>\n",
              "      <td>Gold</td>\n",
              "    </tr>\n",
              "    <tr>\n",
              "      <th>37</th>\n",
              "      <td>15</td>\n",
              "      <td>Arvo Ossian Aaltonen</td>\n",
              "      <td>M</td>\n",
              "      <td>30.0</td>\n",
              "      <td>NaN</td>\n",
              "      <td>NaN</td>\n",
              "      <td>Finland</td>\n",
              "      <td>FIN</td>\n",
              "      <td>1920 Summer</td>\n",
              "      <td>1920</td>\n",
              "      <td>Summer</td>\n",
              "      <td>Antwerpen</td>\n",
              "      <td>Swimming</td>\n",
              "      <td>Swimming Men's 200 metres Breaststroke</td>\n",
              "      <td>Bronze</td>\n",
              "    </tr>\n",
              "    <tr>\n",
              "      <th>38</th>\n",
              "      <td>15</td>\n",
              "      <td>Arvo Ossian Aaltonen</td>\n",
              "      <td>M</td>\n",
              "      <td>30.0</td>\n",
              "      <td>NaN</td>\n",
              "      <td>NaN</td>\n",
              "      <td>Finland</td>\n",
              "      <td>FIN</td>\n",
              "      <td>1920 Summer</td>\n",
              "      <td>1920</td>\n",
              "      <td>Summer</td>\n",
              "      <td>Antwerpen</td>\n",
              "      <td>Swimming</td>\n",
              "      <td>Swimming Men's 400 metres Breaststroke</td>\n",
              "      <td>Bronze</td>\n",
              "    </tr>\n",
              "    <tr>\n",
              "      <th>41</th>\n",
              "      <td>17</td>\n",
              "      <td>Paavo Johannes Aaltonen</td>\n",
              "      <td>M</td>\n",
              "      <td>28.0</td>\n",
              "      <td>175.0</td>\n",
              "      <td>64.0</td>\n",
              "      <td>Finland</td>\n",
              "      <td>FIN</td>\n",
              "      <td>1948 Summer</td>\n",
              "      <td>1948</td>\n",
              "      <td>Summer</td>\n",
              "      <td>London</td>\n",
              "      <td>Gymnastics</td>\n",
              "      <td>Gymnastics Men's Individual All-Around</td>\n",
              "      <td>Bronze</td>\n",
              "    </tr>\n",
              "    <tr>\n",
              "      <th>42</th>\n",
              "      <td>17</td>\n",
              "      <td>Paavo Johannes Aaltonen</td>\n",
              "      <td>M</td>\n",
              "      <td>28.0</td>\n",
              "      <td>175.0</td>\n",
              "      <td>64.0</td>\n",
              "      <td>Finland</td>\n",
              "      <td>FIN</td>\n",
              "      <td>1948 Summer</td>\n",
              "      <td>1948</td>\n",
              "      <td>Summer</td>\n",
              "      <td>London</td>\n",
              "      <td>Gymnastics</td>\n",
              "      <td>Gymnastics Men's Team All-Around</td>\n",
              "      <td>Gold</td>\n",
              "    </tr>\n",
              "  </tbody>\n",
              "</table>\n",
              "</div>"
            ],
            "text/plain": [
              "    ID                     Name  ...                                   Event   Medal\n",
              "3    4     Edgar Lindenau Aabye  ...             Tug-Of-War Men's Tug-Of-War    Gold\n",
              "37  15     Arvo Ossian Aaltonen  ...  Swimming Men's 200 metres Breaststroke  Bronze\n",
              "38  15     Arvo Ossian Aaltonen  ...  Swimming Men's 400 metres Breaststroke  Bronze\n",
              "41  17  Paavo Johannes Aaltonen  ...  Gymnastics Men's Individual All-Around  Bronze\n",
              "42  17  Paavo Johannes Aaltonen  ...        Gymnastics Men's Team All-Around    Gold\n",
              "\n",
              "[5 rows x 15 columns]"
            ]
          },
          "metadata": {
            "tags": []
          },
          "execution_count": 773
        }
      ]
    },
    {
      "cell_type": "markdown",
      "metadata": {
        "id": "4vHLwLAQPeQd"
      },
      "source": [
        "Procurando relação entre altura e medalha na ginástica e na natação"
      ]
    },
    {
      "cell_type": "code",
      "metadata": {
        "colab": {
          "base_uri": "https://localhost:8080/",
          "height": 270
        },
        "id": "foG_CVl0PO03",
        "outputId": "491d0898-616f-4a44-d2b0-30c7c8aa2b33"
      },
      "source": [
        "filtro_ginastica = df_medalhistas['Sport'] == 'Gymnastics'\n",
        "df_ginastica = df_medalhistas[filtro_ginastica]\n",
        "hist_altura_gim =  plt.hist(df_ginastica['Height'].dropna(), bins=30, density=True, facecolor='b')"
      ],
      "execution_count": 774,
      "outputs": [
        {
          "output_type": "display_data",
          "data": {
            "image/png": "[encoded data removed]",
            "text/plain": [
              "<Figure size 432x288 with 1 Axes>"
            ]
          },
          "metadata": {
            "tags": [],
            "needs_background": "light"
          }
        }
      ]
    },
    {
      "cell_type": "code",
      "metadata": {
        "colab": {
          "base_uri": "https://localhost:8080/",
          "height": 270
        },
        "id": "Nt6tQHsuQCSf",
        "outputId": "08786faf-b31e-4ddd-dea3-16ec57a6e9ea"
      },
      "source": [
        "filtro_natacao = df_medalhistas['Sport'] == 'Swimming'\n",
        "df_natacao = df_medalhistas[filtro_natacao]\n",
        "hist_altura_nat =  plt.hist(df_natacao['Height'].dropna(), bins=30, density=True, facecolor='b')"
      ],
      "execution_count": 775,
      "outputs": [
        {
          "output_type": "display_data",
          "data": {
            "image/png": "[encoded data removed]",
            "text/plain": [
              "<Figure size 432x288 with 1 Axes>"
            ]
          },
          "metadata": {
            "tags": [],
            "needs_background": "light"
          }
        }
      ]
    },
    {
      "cell_type": "code",
      "metadata": {
        "colab": {
          "base_uri": "https://localhost:8080/",
          "height": 270
        },
        "id": "uCJNcz-3Qr1i",
        "outputId": "af47e5ce-50f6-40c3-a298-854395964e38"
      },
      "source": [
        "filtro_volei= df_medalhistas['Sport'] == 'Volleyball'\n",
        "df_volei = df_medalhistas[filtro_volei]\n",
        "hist_altura_volei =  plt.hist(df_volei['Height'].dropna(), bins=30, density=True, facecolor='b')"
      ],
      "execution_count": 776,
      "outputs": [
        {
          "output_type": "display_data",
          "data": {
            "image/png": "[encoded data removed]",
            "text/plain": [
              "<Figure size 432x288 with 1 Axes>"
            ]
          },
          "metadata": {
            "tags": [],
            "needs_background": "light"
          }
        }
      ]
    },
    {
      "cell_type": "markdown",
      "metadata": {
        "id": "PyebaR1-Q6ff"
      },
      "source": [
        "É bem interessante observar a distribuição da altura dos atletas para cada cateogia do esporte. Olhando paras os atletas vencedores de medalha de ginástica, natação e volei, foi observado o esperado: concetração de atletas muito altos no vôlei, altos na natação e baixos/média estatura na ginástica."
      ]
    },
    {
      "cell_type": "markdown",
      "metadata": {
        "id": "-TNO4ZjA0iTV"
      },
      "source": [
        "# 5. Qual a distribuição de sexo por esporte (top 10)?"
      ]
    },
    {
      "cell_type": "code",
      "metadata": {
        "colab": {
          "base_uri": "https://localhost:8080/"
        },
        "id": "k8MaHxhb2FG-",
        "outputId": "46a84718-579c-406e-a51a-ef52336a647f"
      },
      "source": [
        "df_athlete_events['Sport'].unique()"
      ],
      "execution_count": 777,
      "outputs": [
        {
          "output_type": "execute_result",
          "data": {
            "text/plain": [
              "array(['Basketball', 'Judo', 'Football', 'Tug-Of-War', 'Athletics',\n",
              "       'Swimming', 'Badminton', 'Sailing', 'Gymnastics',\n",
              "       'Art Competitions', 'Handball', 'Weightlifting', 'Wrestling',\n",
              "       'Water Polo', 'Hockey', 'Rowing', 'Fencing', 'Equestrianism',\n",
              "       'Shooting', 'Boxing', 'Taekwondo', 'Cycling', 'Diving', 'Canoeing',\n",
              "       'Tennis', 'Modern Pentathlon', 'Golf', 'Softball', 'Archery',\n",
              "       'Volleyball', 'Synchronized Swimming', 'Table Tennis', 'Baseball',\n",
              "       'Rhythmic Gymnastics', 'Rugby Sevens', 'Trampolining',\n",
              "       'Beach Volleyball', 'Triathlon', 'Rugby', 'Lacrosse', 'Polo',\n",
              "       'Cricket', 'Ice Hockey', 'Racquets', 'Motorboating', 'Croquet',\n",
              "       'Figure Skating', 'Jeu De Paume', 'Roque', 'Basque Pelota',\n",
              "       'Alpinism', 'Aeronautics'], dtype=object)"
            ]
          },
          "metadata": {
            "tags": []
          },
          "execution_count": 777
        }
      ]
    },
    {
      "cell_type": "code",
      "metadata": {
        "id": "Z4gJ-8QeBW-C"
      },
      "source": [
        "def plot_bar_cores(xval,yval,dados,ylab,xlab,titulo):  \n",
        "    \"\"\"\n",
        "    Função para plotar gráfico de barras a partir de colunas de dataframes e\n",
        "    colore de vermelho a coluna de maior valor, de azul a de menor valor e de \n",
        "    cinza as demais colunas.\n",
        "    \n",
        "    Parâmetros:\n",
        "    xval (string) : coluna do dataframe que será o eixo x\n",
        "    yval  (string) : coluna do dataframe que será o eixo y\n",
        "    dados (dataframe) : dataframe que é a base dos dados de xval e yval\n",
        "    ylab (string) : rótulo do eixo y\n",
        "    xlab (string) : rótulo do eixo x\n",
        "    titulo (string) : titulo do grafico    \n",
        "    \"\"\"   \n",
        "    cores= ['red' if (y == dados[yval].max()) else\n",
        "             'blue' if (y == dados[yval].min()) else \n",
        "             'grey' for y in dados[yval] ]      \n",
        "    plt.figure()\n",
        "    sns.barplot(x = xval, y = yval, data = dados, palette= cores ,ci=None)\n",
        "    plt.ylabel(ylab)\n",
        "    plt.xlabel(xlab)\n",
        "    plt.title(titulo)\n",
        "    plt.xticks(rotation=45)\n",
        "    plt.tight_layout()\n",
        "    plt.show()"
      ],
      "execution_count": 778,
      "outputs": []
    },
    {
      "cell_type": "code",
      "metadata": {
        "id": "lpUI2LoTFdHB"
      },
      "source": [
        "def filtra_esporte_por_sexo(df,sex):\n",
        "  filtro = df['Sex'] == sex\n",
        "  df_top10_FSports=df[filtro]['Sport'].value_counts()[0:10] # top 10 \n",
        "  df_top10_FSports=df_top10_FSports.to_frame()\n",
        "  df_top10_FSports['index'] = df_top10_FSports.index\n",
        "  df_top10_FSports.rename({'Sport': 'Counts', 'index': 'Esporte'}, axis=1, inplace=True)\n",
        "  return df_top10_FSports"
      ],
      "execution_count": 779,
      "outputs": []
    },
    {
      "cell_type": "code",
      "metadata": {
        "id": "ia6A-HLCGCw0"
      },
      "source": [
        "df_sport_F=filtra_esporte_por_sexo(df_athlete_events,'F')"
      ],
      "execution_count": 780,
      "outputs": []
    },
    {
      "cell_type": "code",
      "metadata": {
        "id": "Xl7jqF9UGXjQ"
      },
      "source": [
        "df_sport_M=filtra_esporte_por_sexo(df_athlete_events,'M')"
      ],
      "execution_count": 781,
      "outputs": []
    },
    {
      "cell_type": "code",
      "metadata": {
        "colab": {
          "base_uri": "https://localhost:8080/",
          "height": 284
        },
        "id": "1wI5YO7EBkOI",
        "outputId": "1345df98-cdfa-47cb-8efd-ea5d219f784f"
      },
      "source": [
        "plot_bar_cores('Esporte','Counts',df_sport_F,'Esportes','Counts','Top 10 esportes com mais mulheres')"
      ],
      "execution_count": 782,
      "outputs": [
        {
          "output_type": "display_data",
          "data": {
            "image/png": "[encoded data removed]",
            "text/plain": [
              "<Figure size 432x288 with 1 Axes>"
            ]
          },
          "metadata": {
            "tags": [],
            "needs_background": "light"
          }
        }
      ]
    },
    {
      "cell_type": "code",
      "metadata": {
        "colab": {
          "base_uri": "https://localhost:8080/",
          "height": 284
        },
        "id": "9PMgVRLdGeeK",
        "outputId": "1aeed04c-7159-4800-c85d-643bf78f25e4"
      },
      "source": [
        "plot_bar_cores('Esporte','Counts',df_sport_M,'Esportes','Counts','Top 10 esportes com mais homens')"
      ],
      "execution_count": 783,
      "outputs": [
        {
          "output_type": "display_data",
          "data": {
            "image/png": "[encoded data removed]",
            "text/plain": [
              "<Figure size 432x288 with 1 Axes>"
            ]
          },
          "metadata": {
            "tags": [],
            "needs_background": "light"
          }
        }
      ]
    },
    {
      "cell_type": "markdown",
      "metadata": {
        "id": "LXdvLUvbNg_s"
      },
      "source": [
        "# 6. Quais os maiores medalhistas da história das olímpiadas?"
      ]
    },
    {
      "cell_type": "code",
      "metadata": {
        "colab": {
          "base_uri": "https://localhost:8080/"
        },
        "id": "_x6P5KhFP3LT",
        "outputId": "1f89df9c-a782-427c-e0a5-f412ccd6427c"
      },
      "source": [
        "df_athlete_events['Medal'].value_counts()"
      ],
      "execution_count": 784,
      "outputs": [
        {
          "output_type": "execute_result",
          "data": {
            "text/plain": [
              "No Medal    188464\n",
              "Gold         11459\n",
              "Bronze       11409\n",
              "Silver       11220\n",
              "Name: Medal, dtype: int64"
            ]
          },
          "metadata": {
            "tags": []
          },
          "execution_count": 784
        }
      ]
    },
    {
      "cell_type": "code",
      "metadata": {
        "id": "L69J-ZlkBTxF"
      },
      "source": [
        "def top10_winner_athlete(df, feature, string):\n",
        "  filtro = df[feature].str.contains(string)\n",
        "  df_ouros = df[filtro]\n",
        "  df_top10=df_ouros[['Name','Sport',feature]].value_counts().to_frame()\n",
        "  df_top10.rename({0: 'Counts'}, axis=1, inplace=True)\n",
        "  df_top10.reset_index(inplace=True)\n",
        "  df_top10 = df_top10[0:10] # top 10 maiores ganhadores\n",
        "  return df_top10"
      ],
      "execution_count": 785,
      "outputs": []
    },
    {
      "cell_type": "markdown",
      "metadata": {
        "id": "AOEPo6h86vBm"
      },
      "source": [
        "**Filtrando Linhas onde o atleta estava no podium (ouro, prata ou bronze)**"
      ]
    },
    {
      "cell_type": "code",
      "metadata": {
        "colab": {
          "base_uri": "https://localhost:8080/",
          "height": 445
        },
        "id": "I4Du3PbkQFll",
        "outputId": "d78861e9-fadf-46b7-b19c-fc355daf016f"
      },
      "source": [
        "filtro_medalhas = df_athlete_events['Medal'].str.contains(\"Gold|Silver|Bronze\")\n",
        "df_medalhistas = df_athlete_events[filtro_medalhas]\n",
        "df_medalhistas.head()"
      ],
      "execution_count": 786,
      "outputs": [
        {
          "output_type": "execute_result",
          "data": {
            "text/html": [
              "<div>\n",
              "<style scoped>\n",
              "    .dataframe tbody tr th:only-of-type {\n",
              "        vertical-align: middle;\n",
              "    }\n",
              "\n",
              "    .dataframe tbody tr th {\n",
              "        vertical-align: top;\n",
              "    }\n",
              "\n",
              "    .dataframe thead th {\n",
              "        text-align: right;\n",
              "    }\n",
              "</style>\n",
              "<table border=\"1\" class=\"dataframe\">\n",
              "  <thead>\n",
              "    <tr style=\"text-align: right;\">\n",
              "      <th></th>\n",
              "      <th>ID</th>\n",
              "      <th>Name</th>\n",
              "      <th>Sex</th>\n",
              "      <th>Age</th>\n",
              "      <th>Height</th>\n",
              "      <th>Weight</th>\n",
              "      <th>Team</th>\n",
              "      <th>NOC</th>\n",
              "      <th>Games</th>\n",
              "      <th>Year</th>\n",
              "      <th>Season</th>\n",
              "      <th>City</th>\n",
              "      <th>Sport</th>\n",
              "      <th>Event</th>\n",
              "      <th>Medal</th>\n",
              "    </tr>\n",
              "  </thead>\n",
              "  <tbody>\n",
              "    <tr>\n",
              "      <th>3</th>\n",
              "      <td>4</td>\n",
              "      <td>Edgar Lindenau Aabye</td>\n",
              "      <td>M</td>\n",
              "      <td>34.0</td>\n",
              "      <td>NaN</td>\n",
              "      <td>NaN</td>\n",
              "      <td>Denmark/Sweden</td>\n",
              "      <td>DEN</td>\n",
              "      <td>1900 Summer</td>\n",
              "      <td>1900</td>\n",
              "      <td>Summer</td>\n",
              "      <td>Paris</td>\n",
              "      <td>Tug-Of-War</td>\n",
              "      <td>Tug-Of-War Men's Tug-Of-War</td>\n",
              "      <td>Gold</td>\n",
              "    </tr>\n",
              "    <tr>\n",
              "      <th>37</th>\n",
              "      <td>15</td>\n",
              "      <td>Arvo Ossian Aaltonen</td>\n",
              "      <td>M</td>\n",
              "      <td>30.0</td>\n",
              "      <td>NaN</td>\n",
              "      <td>NaN</td>\n",
              "      <td>Finland</td>\n",
              "      <td>FIN</td>\n",
              "      <td>1920 Summer</td>\n",
              "      <td>1920</td>\n",
              "      <td>Summer</td>\n",
              "      <td>Antwerpen</td>\n",
              "      <td>Swimming</td>\n",
              "      <td>Swimming Men's 200 metres Breaststroke</td>\n",
              "      <td>Bronze</td>\n",
              "    </tr>\n",
              "    <tr>\n",
              "      <th>38</th>\n",
              "      <td>15</td>\n",
              "      <td>Arvo Ossian Aaltonen</td>\n",
              "      <td>M</td>\n",
              "      <td>30.0</td>\n",
              "      <td>NaN</td>\n",
              "      <td>NaN</td>\n",
              "      <td>Finland</td>\n",
              "      <td>FIN</td>\n",
              "      <td>1920 Summer</td>\n",
              "      <td>1920</td>\n",
              "      <td>Summer</td>\n",
              "      <td>Antwerpen</td>\n",
              "      <td>Swimming</td>\n",
              "      <td>Swimming Men's 400 metres Breaststroke</td>\n",
              "      <td>Bronze</td>\n",
              "    </tr>\n",
              "    <tr>\n",
              "      <th>41</th>\n",
              "      <td>17</td>\n",
              "      <td>Paavo Johannes Aaltonen</td>\n",
              "      <td>M</td>\n",
              "      <td>28.0</td>\n",
              "      <td>175.0</td>\n",
              "      <td>64.0</td>\n",
              "      <td>Finland</td>\n",
              "      <td>FIN</td>\n",
              "      <td>1948 Summer</td>\n",
              "      <td>1948</td>\n",
              "      <td>Summer</td>\n",
              "      <td>London</td>\n",
              "      <td>Gymnastics</td>\n",
              "      <td>Gymnastics Men's Individual All-Around</td>\n",
              "      <td>Bronze</td>\n",
              "    </tr>\n",
              "    <tr>\n",
              "      <th>42</th>\n",
              "      <td>17</td>\n",
              "      <td>Paavo Johannes Aaltonen</td>\n",
              "      <td>M</td>\n",
              "      <td>28.0</td>\n",
              "      <td>175.0</td>\n",
              "      <td>64.0</td>\n",
              "      <td>Finland</td>\n",
              "      <td>FIN</td>\n",
              "      <td>1948 Summer</td>\n",
              "      <td>1948</td>\n",
              "      <td>Summer</td>\n",
              "      <td>London</td>\n",
              "      <td>Gymnastics</td>\n",
              "      <td>Gymnastics Men's Team All-Around</td>\n",
              "      <td>Gold</td>\n",
              "    </tr>\n",
              "  </tbody>\n",
              "</table>\n",
              "</div>"
            ],
            "text/plain": [
              "    ID                     Name  ...                                   Event   Medal\n",
              "3    4     Edgar Lindenau Aabye  ...             Tug-Of-War Men's Tug-Of-War    Gold\n",
              "37  15     Arvo Ossian Aaltonen  ...  Swimming Men's 200 metres Breaststroke  Bronze\n",
              "38  15     Arvo Ossian Aaltonen  ...  Swimming Men's 400 metres Breaststroke  Bronze\n",
              "41  17  Paavo Johannes Aaltonen  ...  Gymnastics Men's Individual All-Around  Bronze\n",
              "42  17  Paavo Johannes Aaltonen  ...        Gymnastics Men's Team All-Around    Gold\n",
              "\n",
              "[5 rows x 15 columns]"
            ]
          },
          "metadata": {
            "tags": []
          },
          "execution_count": 786
        }
      ]
    },
    {
      "cell_type": "code",
      "metadata": {
        "colab": {
          "base_uri": "https://localhost:8080/",
          "height": 547
        },
        "id": "_HZgjT8l8soo",
        "outputId": "c3c693ff-a4f1-4042-cf65-80be15f31032"
      },
      "source": [
        "lista = ['Yes' for i in range(df_medalhistas.shape[0])]\n",
        "df_medalhistas['Podium'] = lista\n",
        "df_medalhistas.head()"
      ],
      "execution_count": 787,
      "outputs": [
        {
          "output_type": "stream",
          "text": [
            "/usr/local/lib/python3.7/dist-packages/ipykernel_launcher.py:2: SettingWithCopyWarning: \n",
            "A value is trying to be set on a copy of a slice from a DataFrame.\n",
            "Try using .loc[row_indexer,col_indexer] = value instead\n",
            "\n",
            "See the caveats in the documentation: https://pandas.pydata.org/pandas-docs/stable/user_guide/indexing.html#returning-a-view-versus-a-copy\n",
            "  \n"
          ],
          "name": "stderr"
        },
        {
          "output_type": "execute_result",
          "data": {
            "text/html": [
              "<div>\n",
              "<style scoped>\n",
              "    .dataframe tbody tr th:only-of-type {\n",
              "        vertical-align: middle;\n",
              "    }\n",
              "\n",
              "    .dataframe tbody tr th {\n",
              "        vertical-align: top;\n",
              "    }\n",
              "\n",
              "    .dataframe thead th {\n",
              "        text-align: right;\n",
              "    }\n",
              "</style>\n",
              "<table border=\"1\" class=\"dataframe\">\n",
              "  <thead>\n",
              "    <tr style=\"text-align: right;\">\n",
              "      <th></th>\n",
              "      <th>ID</th>\n",
              "      <th>Name</th>\n",
              "      <th>Sex</th>\n",
              "      <th>Age</th>\n",
              "      <th>Height</th>\n",
              "      <th>Weight</th>\n",
              "      <th>Team</th>\n",
              "      <th>NOC</th>\n",
              "      <th>Games</th>\n",
              "      <th>Year</th>\n",
              "      <th>Season</th>\n",
              "      <th>City</th>\n",
              "      <th>Sport</th>\n",
              "      <th>Event</th>\n",
              "      <th>Medal</th>\n",
              "      <th>Podium</th>\n",
              "    </tr>\n",
              "  </thead>\n",
              "  <tbody>\n",
              "    <tr>\n",
              "      <th>3</th>\n",
              "      <td>4</td>\n",
              "      <td>Edgar Lindenau Aabye</td>\n",
              "      <td>M</td>\n",
              "      <td>34.0</td>\n",
              "      <td>NaN</td>\n",
              "      <td>NaN</td>\n",
              "      <td>Denmark/Sweden</td>\n",
              "      <td>DEN</td>\n",
              "      <td>1900 Summer</td>\n",
              "      <td>1900</td>\n",
              "      <td>Summer</td>\n",
              "      <td>Paris</td>\n",
              "      <td>Tug-Of-War</td>\n",
              "      <td>Tug-Of-War Men's Tug-Of-War</td>\n",
              "      <td>Gold</td>\n",
              "      <td>Yes</td>\n",
              "    </tr>\n",
              "    <tr>\n",
              "      <th>37</th>\n",
              "      <td>15</td>\n",
              "      <td>Arvo Ossian Aaltonen</td>\n",
              "      <td>M</td>\n",
              "      <td>30.0</td>\n",
              "      <td>NaN</td>\n",
              "      <td>NaN</td>\n",
              "      <td>Finland</td>\n",
              "      <td>FIN</td>\n",
              "      <td>1920 Summer</td>\n",
              "      <td>1920</td>\n",
              "      <td>Summer</td>\n",
              "      <td>Antwerpen</td>\n",
              "      <td>Swimming</td>\n",
              "      <td>Swimming Men's 200 metres Breaststroke</td>\n",
              "      <td>Bronze</td>\n",
              "      <td>Yes</td>\n",
              "    </tr>\n",
              "    <tr>\n",
              "      <th>38</th>\n",
              "      <td>15</td>\n",
              "      <td>Arvo Ossian Aaltonen</td>\n",
              "      <td>M</td>\n",
              "      <td>30.0</td>\n",
              "      <td>NaN</td>\n",
              "      <td>NaN</td>\n",
              "      <td>Finland</td>\n",
              "      <td>FIN</td>\n",
              "      <td>1920 Summer</td>\n",
              "      <td>1920</td>\n",
              "      <td>Summer</td>\n",
              "      <td>Antwerpen</td>\n",
              "      <td>Swimming</td>\n",
              "      <td>Swimming Men's 400 metres Breaststroke</td>\n",
              "      <td>Bronze</td>\n",
              "      <td>Yes</td>\n",
              "    </tr>\n",
              "    <tr>\n",
              "      <th>41</th>\n",
              "      <td>17</td>\n",
              "      <td>Paavo Johannes Aaltonen</td>\n",
              "      <td>M</td>\n",
              "      <td>28.0</td>\n",
              "      <td>175.0</td>\n",
              "      <td>64.0</td>\n",
              "      <td>Finland</td>\n",
              "      <td>FIN</td>\n",
              "      <td>1948 Summer</td>\n",
              "      <td>1948</td>\n",
              "      <td>Summer</td>\n",
              "      <td>London</td>\n",
              "      <td>Gymnastics</td>\n",
              "      <td>Gymnastics Men's Individual All-Around</td>\n",
              "      <td>Bronze</td>\n",
              "      <td>Yes</td>\n",
              "    </tr>\n",
              "    <tr>\n",
              "      <th>42</th>\n",
              "      <td>17</td>\n",
              "      <td>Paavo Johannes Aaltonen</td>\n",
              "      <td>M</td>\n",
              "      <td>28.0</td>\n",
              "      <td>175.0</td>\n",
              "      <td>64.0</td>\n",
              "      <td>Finland</td>\n",
              "      <td>FIN</td>\n",
              "      <td>1948 Summer</td>\n",
              "      <td>1948</td>\n",
              "      <td>Summer</td>\n",
              "      <td>London</td>\n",
              "      <td>Gymnastics</td>\n",
              "      <td>Gymnastics Men's Team All-Around</td>\n",
              "      <td>Gold</td>\n",
              "      <td>Yes</td>\n",
              "    </tr>\n",
              "  </tbody>\n",
              "</table>\n",
              "</div>"
            ],
            "text/plain": [
              "    ID                     Name  ...   Medal  Podium\n",
              "3    4     Edgar Lindenau Aabye  ...    Gold     Yes\n",
              "37  15     Arvo Ossian Aaltonen  ...  Bronze     Yes\n",
              "38  15     Arvo Ossian Aaltonen  ...  Bronze     Yes\n",
              "41  17  Paavo Johannes Aaltonen  ...  Bronze     Yes\n",
              "42  17  Paavo Johannes Aaltonen  ...    Gold     Yes\n",
              "\n",
              "[5 rows x 16 columns]"
            ]
          },
          "metadata": {
            "tags": []
          },
          "execution_count": 787
        }
      ]
    },
    {
      "cell_type": "code",
      "metadata": {
        "colab": {
          "base_uri": "https://localhost:8080/",
          "height": 359
        },
        "id": "ELxi9tXFTlyU",
        "outputId": "32368be6-ea41-425c-b9e4-4893a098334e"
      },
      "source": [
        "df_quantas_medalhas = top10_winner_athlete(df_medalhistas, 'Podium', 'Yes')\n",
        "df_quantas_medalhas"
      ],
      "execution_count": 788,
      "outputs": [
        {
          "output_type": "execute_result",
          "data": {
            "text/html": [
              "<div>\n",
              "<style scoped>\n",
              "    .dataframe tbody tr th:only-of-type {\n",
              "        vertical-align: middle;\n",
              "    }\n",
              "\n",
              "    .dataframe tbody tr th {\n",
              "        vertical-align: top;\n",
              "    }\n",
              "\n",
              "    .dataframe thead th {\n",
              "        text-align: right;\n",
              "    }\n",
              "</style>\n",
              "<table border=\"1\" class=\"dataframe\">\n",
              "  <thead>\n",
              "    <tr style=\"text-align: right;\">\n",
              "      <th></th>\n",
              "      <th>Name</th>\n",
              "      <th>Sport</th>\n",
              "      <th>Podium</th>\n",
              "      <th>Counts</th>\n",
              "    </tr>\n",
              "  </thead>\n",
              "  <tbody>\n",
              "    <tr>\n",
              "      <th>0</th>\n",
              "      <td>Michael Fred Phelps, II</td>\n",
              "      <td>Swimming</td>\n",
              "      <td>Yes</td>\n",
              "      <td>28</td>\n",
              "    </tr>\n",
              "    <tr>\n",
              "      <th>1</th>\n",
              "      <td>Larysa Semenivna Latynina (Diriy-)</td>\n",
              "      <td>Gymnastics</td>\n",
              "      <td>Yes</td>\n",
              "      <td>18</td>\n",
              "    </tr>\n",
              "    <tr>\n",
              "      <th>2</th>\n",
              "      <td>Nikolay Yefimovich Andrianov</td>\n",
              "      <td>Gymnastics</td>\n",
              "      <td>Yes</td>\n",
              "      <td>15</td>\n",
              "    </tr>\n",
              "    <tr>\n",
              "      <th>3</th>\n",
              "      <td>Borys Anfiyanovych Shakhlin</td>\n",
              "      <td>Gymnastics</td>\n",
              "      <td>Yes</td>\n",
              "      <td>13</td>\n",
              "    </tr>\n",
              "    <tr>\n",
              "      <th>4</th>\n",
              "      <td>Takashi Ono</td>\n",
              "      <td>Gymnastics</td>\n",
              "      <td>Yes</td>\n",
              "      <td>13</td>\n",
              "    </tr>\n",
              "    <tr>\n",
              "      <th>5</th>\n",
              "      <td>Edoardo Mangiarotti</td>\n",
              "      <td>Fencing</td>\n",
              "      <td>Yes</td>\n",
              "      <td>13</td>\n",
              "    </tr>\n",
              "    <tr>\n",
              "      <th>6</th>\n",
              "      <td>Dara Grace Torres (-Hoffman, -Minas)</td>\n",
              "      <td>Swimming</td>\n",
              "      <td>Yes</td>\n",
              "      <td>12</td>\n",
              "    </tr>\n",
              "    <tr>\n",
              "      <th>7</th>\n",
              "      <td>Birgit Fischer-Schmidt</td>\n",
              "      <td>Canoeing</td>\n",
              "      <td>Yes</td>\n",
              "      <td>12</td>\n",
              "    </tr>\n",
              "    <tr>\n",
              "      <th>8</th>\n",
              "      <td>Natalie Anne Coughlin (-Hall)</td>\n",
              "      <td>Swimming</td>\n",
              "      <td>Yes</td>\n",
              "      <td>12</td>\n",
              "    </tr>\n",
              "    <tr>\n",
              "      <th>9</th>\n",
              "      <td>Paavo Johannes Nurmi</td>\n",
              "      <td>Athletics</td>\n",
              "      <td>Yes</td>\n",
              "      <td>12</td>\n",
              "    </tr>\n",
              "  </tbody>\n",
              "</table>\n",
              "</div>"
            ],
            "text/plain": [
              "                                   Name       Sport Podium  Counts\n",
              "0               Michael Fred Phelps, II    Swimming    Yes      28\n",
              "1    Larysa Semenivna Latynina (Diriy-)  Gymnastics    Yes      18\n",
              "2          Nikolay Yefimovich Andrianov  Gymnastics    Yes      15\n",
              "3           Borys Anfiyanovych Shakhlin  Gymnastics    Yes      13\n",
              "4                           Takashi Ono  Gymnastics    Yes      13\n",
              "5                   Edoardo Mangiarotti     Fencing    Yes      13\n",
              "6  Dara Grace Torres (-Hoffman, -Minas)    Swimming    Yes      12\n",
              "7                Birgit Fischer-Schmidt    Canoeing    Yes      12\n",
              "8         Natalie Anne Coughlin (-Hall)    Swimming    Yes      12\n",
              "9                  Paavo Johannes Nurmi   Athletics    Yes      12"
            ]
          },
          "metadata": {
            "tags": []
          },
          "execution_count": 788
        }
      ]
    },
    {
      "cell_type": "markdown",
      "metadata": {
        "id": "WlzhLwzT-H4F"
      },
      "source": [
        "Foi confirmado por pesquisa rápida no Google que Michael Phelps é o maior ganhador de medalhas em olimpíadas de todos os tempos\n",
        "\n",
        "Larysa Semenivna também foi confirmada."
      ]
    },
    {
      "cell_type": "markdown",
      "metadata": {
        "id": "MOMuaTsA-yyq"
      },
      "source": [
        "# 7. Quem ganhou mais medalhas de ouro?"
      ]
    },
    {
      "cell_type": "code",
      "metadata": {
        "colab": {
          "base_uri": "https://localhost:8080/",
          "height": 359
        },
        "id": "lCyXSCUM_HN0",
        "outputId": "e21528cb-2d66-4b79-ac46-b1d616b36a12"
      },
      "source": [
        "df_quantos_ouros = top10_winner_athlete(df_athlete_events,'Medal','Gold')\n",
        "df_quantos_ouros"
      ],
      "execution_count": 789,
      "outputs": [
        {
          "output_type": "execute_result",
          "data": {
            "text/html": [
              "<div>\n",
              "<style scoped>\n",
              "    .dataframe tbody tr th:only-of-type {\n",
              "        vertical-align: middle;\n",
              "    }\n",
              "\n",
              "    .dataframe tbody tr th {\n",
              "        vertical-align: top;\n",
              "    }\n",
              "\n",
              "    .dataframe thead th {\n",
              "        text-align: right;\n",
              "    }\n",
              "</style>\n",
              "<table border=\"1\" class=\"dataframe\">\n",
              "  <thead>\n",
              "    <tr style=\"text-align: right;\">\n",
              "      <th></th>\n",
              "      <th>Name</th>\n",
              "      <th>Sport</th>\n",
              "      <th>Medal</th>\n",
              "      <th>Counts</th>\n",
              "    </tr>\n",
              "  </thead>\n",
              "  <tbody>\n",
              "    <tr>\n",
              "      <th>0</th>\n",
              "      <td>Michael Fred Phelps, II</td>\n",
              "      <td>Swimming</td>\n",
              "      <td>Gold</td>\n",
              "      <td>23</td>\n",
              "    </tr>\n",
              "    <tr>\n",
              "      <th>1</th>\n",
              "      <td>Raymond Clarence \"Ray\" Ewry</td>\n",
              "      <td>Athletics</td>\n",
              "      <td>Gold</td>\n",
              "      <td>10</td>\n",
              "    </tr>\n",
              "    <tr>\n",
              "      <th>2</th>\n",
              "      <td>Larysa Semenivna Latynina (Diriy-)</td>\n",
              "      <td>Gymnastics</td>\n",
              "      <td>Gold</td>\n",
              "      <td>9</td>\n",
              "    </tr>\n",
              "    <tr>\n",
              "      <th>3</th>\n",
              "      <td>Mark Andrew Spitz</td>\n",
              "      <td>Swimming</td>\n",
              "      <td>Gold</td>\n",
              "      <td>9</td>\n",
              "    </tr>\n",
              "    <tr>\n",
              "      <th>4</th>\n",
              "      <td>Frederick Carlton \"Carl\" Lewis</td>\n",
              "      <td>Athletics</td>\n",
              "      <td>Gold</td>\n",
              "      <td>9</td>\n",
              "    </tr>\n",
              "    <tr>\n",
              "      <th>5</th>\n",
              "      <td>Paavo Johannes Nurmi</td>\n",
              "      <td>Athletics</td>\n",
              "      <td>Gold</td>\n",
              "      <td>9</td>\n",
              "    </tr>\n",
              "    <tr>\n",
              "      <th>6</th>\n",
              "      <td>Matthew Nicholas \"Matt\" Biondi</td>\n",
              "      <td>Swimming</td>\n",
              "      <td>Gold</td>\n",
              "      <td>8</td>\n",
              "    </tr>\n",
              "    <tr>\n",
              "      <th>7</th>\n",
              "      <td>Sawao Kato</td>\n",
              "      <td>Gymnastics</td>\n",
              "      <td>Gold</td>\n",
              "      <td>8</td>\n",
              "    </tr>\n",
              "    <tr>\n",
              "      <th>8</th>\n",
              "      <td>Jennifer Elisabeth \"Jenny\" Thompson (-Cumpelik)</td>\n",
              "      <td>Swimming</td>\n",
              "      <td>Gold</td>\n",
              "      <td>8</td>\n",
              "    </tr>\n",
              "    <tr>\n",
              "      <th>9</th>\n",
              "      <td>Usain St. Leo Bolt</td>\n",
              "      <td>Athletics</td>\n",
              "      <td>Gold</td>\n",
              "      <td>8</td>\n",
              "    </tr>\n",
              "  </tbody>\n",
              "</table>\n",
              "</div>"
            ],
            "text/plain": [
              "                                              Name       Sport Medal  Counts\n",
              "0                          Michael Fred Phelps, II    Swimming  Gold      23\n",
              "1                      Raymond Clarence \"Ray\" Ewry   Athletics  Gold      10\n",
              "2               Larysa Semenivna Latynina (Diriy-)  Gymnastics  Gold       9\n",
              "3                                Mark Andrew Spitz    Swimming  Gold       9\n",
              "4                   Frederick Carlton \"Carl\" Lewis   Athletics  Gold       9\n",
              "5                             Paavo Johannes Nurmi   Athletics  Gold       9\n",
              "6                   Matthew Nicholas \"Matt\" Biondi    Swimming  Gold       8\n",
              "7                                       Sawao Kato  Gymnastics  Gold       8\n",
              "8  Jennifer Elisabeth \"Jenny\" Thompson (-Cumpelik)    Swimming  Gold       8\n",
              "9                               Usain St. Leo Bolt   Athletics  Gold       8"
            ]
          },
          "metadata": {
            "tags": []
          },
          "execution_count": 789
        }
      ]
    },
    {
      "cell_type": "markdown",
      "metadata": {
        "id": "BvaPvPbyCUM3"
      },
      "source": [
        "# 8. Quem ganhou mais medalhas em um única olimpíada"
      ]
    },
    {
      "cell_type": "code",
      "metadata": {
        "colab": {
          "base_uri": "https://localhost:8080/"
        },
        "id": "E4BFsX7MCX7H",
        "outputId": "3be82a54-de9c-4283-b6c6-b74b8d8105e4"
      },
      "source": [
        "df_medalhistas[['Name','Year']].value_counts()[0:10] # Aleksandr e Phelps confirmados como os maiores vencedores"
      ],
      "execution_count": 790,
      "outputs": [
        {
          "output_type": "execute_result",
          "data": {
            "text/plain": [
              "Name                             Year\n",
              "Aleksandr Nikolayevich Dityatin  1980    8\n",
              "Michael Fred Phelps, II          2008    8\n",
              "                                 2004    8\n",
              "Borys Anfiyanovych Shakhlin      1960    7\n",
              "Lloyd Spencer Spooner            1920    7\n",
              "Mariya Kindrativna Horokhovska   1952    7\n",
              "Willis Augustus Lee, Jr.         1920    7\n",
              "Mikhail Yakovlevich Voronin      1968    7\n",
              "Mark Andrew Spitz                1972    7\n",
              "Nikolay Yefimovich Andrianov     1976    7\n",
              "dtype: int64"
            ]
          },
          "metadata": {
            "tags": []
          },
          "execution_count": 790
        }
      ]
    },
    {
      "cell_type": "markdown",
      "metadata": {
        "id": "1MutJMEHEq9r"
      },
      "source": [
        "# 9. País com mais medalhas historicamente?"
      ]
    },
    {
      "cell_type": "markdown",
      "metadata": {
        "id": "gtSNlY4kbvOZ"
      },
      "source": [
        "Um problema que existe de contabilizar as medalhas por país e não por atleta é a existência de esportes praticados em equipe, como o futebol, o vôlei, o basquete etc. A solução para isso é criar um subconjunto do dataset de medalhista sem as colunas ['ID', 'Name', 'Sex', 'Age', 'Height', 'Weight'], pois são essas colunas que caracterizam os atletas. Assim, com o novo dataset sem as colunas mencionadas, teremos dados duplicados para atletas que ganharam medalha em equipe. Ao remover as duplicatas, e somarmos as medalhas por país ao longo da história, estaremos com a contagem correta de medalhas por país."
      ]
    },
    {
      "cell_type": "code",
      "metadata": {
        "colab": {
          "base_uri": "https://localhost:8080/",
          "height": 445
        },
        "id": "c3IidpTtJnZz",
        "outputId": "3dfc613b-2618-4306-c488-d13a6adfecd7"
      },
      "source": [
        "df_medalhistas.head()"
      ],
      "execution_count": 791,
      "outputs": [
        {
          "output_type": "execute_result",
          "data": {
            "text/html": [
              "<div>\n",
              "<style scoped>\n",
              "    .dataframe tbody tr th:only-of-type {\n",
              "        vertical-align: middle;\n",
              "    }\n",
              "\n",
              "    .dataframe tbody tr th {\n",
              "        vertical-align: top;\n",
              "    }\n",
              "\n",
              "    .dataframe thead th {\n",
              "        text-align: right;\n",
              "    }\n",
              "</style>\n",
              "<table border=\"1\" class=\"dataframe\">\n",
              "  <thead>\n",
              "    <tr style=\"text-align: right;\">\n",
              "      <th></th>\n",
              "      <th>ID</th>\n",
              "      <th>Name</th>\n",
              "      <th>Sex</th>\n",
              "      <th>Age</th>\n",
              "      <th>Height</th>\n",
              "      <th>Weight</th>\n",
              "      <th>Team</th>\n",
              "      <th>NOC</th>\n",
              "      <th>Games</th>\n",
              "      <th>Year</th>\n",
              "      <th>Season</th>\n",
              "      <th>City</th>\n",
              "      <th>Sport</th>\n",
              "      <th>Event</th>\n",
              "      <th>Medal</th>\n",
              "      <th>Podium</th>\n",
              "    </tr>\n",
              "  </thead>\n",
              "  <tbody>\n",
              "    <tr>\n",
              "      <th>3</th>\n",
              "      <td>4</td>\n",
              "      <td>Edgar Lindenau Aabye</td>\n",
              "      <td>M</td>\n",
              "      <td>34.0</td>\n",
              "      <td>NaN</td>\n",
              "      <td>NaN</td>\n",
              "      <td>Denmark/Sweden</td>\n",
              "      <td>DEN</td>\n",
              "      <td>1900 Summer</td>\n",
              "      <td>1900</td>\n",
              "      <td>Summer</td>\n",
              "      <td>Paris</td>\n",
              "      <td>Tug-Of-War</td>\n",
              "      <td>Tug-Of-War Men's Tug-Of-War</td>\n",
              "      <td>Gold</td>\n",
              "      <td>Yes</td>\n",
              "    </tr>\n",
              "    <tr>\n",
              "      <th>37</th>\n",
              "      <td>15</td>\n",
              "      <td>Arvo Ossian Aaltonen</td>\n",
              "      <td>M</td>\n",
              "      <td>30.0</td>\n",
              "      <td>NaN</td>\n",
              "      <td>NaN</td>\n",
              "      <td>Finland</td>\n",
              "      <td>FIN</td>\n",
              "      <td>1920 Summer</td>\n",
              "      <td>1920</td>\n",
              "      <td>Summer</td>\n",
              "      <td>Antwerpen</td>\n",
              "      <td>Swimming</td>\n",
              "      <td>Swimming Men's 200 metres Breaststroke</td>\n",
              "      <td>Bronze</td>\n",
              "      <td>Yes</td>\n",
              "    </tr>\n",
              "    <tr>\n",
              "      <th>38</th>\n",
              "      <td>15</td>\n",
              "      <td>Arvo Ossian Aaltonen</td>\n",
              "      <td>M</td>\n",
              "      <td>30.0</td>\n",
              "      <td>NaN</td>\n",
              "      <td>NaN</td>\n",
              "      <td>Finland</td>\n",
              "      <td>FIN</td>\n",
              "      <td>1920 Summer</td>\n",
              "      <td>1920</td>\n",
              "      <td>Summer</td>\n",
              "      <td>Antwerpen</td>\n",
              "      <td>Swimming</td>\n",
              "      <td>Swimming Men's 400 metres Breaststroke</td>\n",
              "      <td>Bronze</td>\n",
              "      <td>Yes</td>\n",
              "    </tr>\n",
              "    <tr>\n",
              "      <th>41</th>\n",
              "      <td>17</td>\n",
              "      <td>Paavo Johannes Aaltonen</td>\n",
              "      <td>M</td>\n",
              "      <td>28.0</td>\n",
              "      <td>175.0</td>\n",
              "      <td>64.0</td>\n",
              "      <td>Finland</td>\n",
              "      <td>FIN</td>\n",
              "      <td>1948 Summer</td>\n",
              "      <td>1948</td>\n",
              "      <td>Summer</td>\n",
              "      <td>London</td>\n",
              "      <td>Gymnastics</td>\n",
              "      <td>Gymnastics Men's Individual All-Around</td>\n",
              "      <td>Bronze</td>\n",
              "      <td>Yes</td>\n",
              "    </tr>\n",
              "    <tr>\n",
              "      <th>42</th>\n",
              "      <td>17</td>\n",
              "      <td>Paavo Johannes Aaltonen</td>\n",
              "      <td>M</td>\n",
              "      <td>28.0</td>\n",
              "      <td>175.0</td>\n",
              "      <td>64.0</td>\n",
              "      <td>Finland</td>\n",
              "      <td>FIN</td>\n",
              "      <td>1948 Summer</td>\n",
              "      <td>1948</td>\n",
              "      <td>Summer</td>\n",
              "      <td>London</td>\n",
              "      <td>Gymnastics</td>\n",
              "      <td>Gymnastics Men's Team All-Around</td>\n",
              "      <td>Gold</td>\n",
              "      <td>Yes</td>\n",
              "    </tr>\n",
              "  </tbody>\n",
              "</table>\n",
              "</div>"
            ],
            "text/plain": [
              "    ID                     Name  ...   Medal  Podium\n",
              "3    4     Edgar Lindenau Aabye  ...    Gold     Yes\n",
              "37  15     Arvo Ossian Aaltonen  ...  Bronze     Yes\n",
              "38  15     Arvo Ossian Aaltonen  ...  Bronze     Yes\n",
              "41  17  Paavo Johannes Aaltonen  ...  Bronze     Yes\n",
              "42  17  Paavo Johannes Aaltonen  ...    Gold     Yes\n",
              "\n",
              "[5 rows x 16 columns]"
            ]
          },
          "metadata": {
            "tags": []
          },
          "execution_count": 791
        }
      ]
    },
    {
      "cell_type": "code",
      "metadata": {
        "id": "s7lIVPf0Jug7"
      },
      "source": [
        "colunas = list(df_medalhistas.columns)"
      ],
      "execution_count": 792,
      "outputs": []
    },
    {
      "cell_type": "code",
      "metadata": {
        "colab": {
          "base_uri": "https://localhost:8080/"
        },
        "id": "wxpyR9NxJyH2",
        "outputId": "2c2e6ced-49c3-4cf4-e24a-157e24874eb5"
      },
      "source": [
        "df_medalhistas_por_pais = df_medalhistas[colunas[6::]]\n",
        "df_medalhistas_por_pais.shape"
      ],
      "execution_count": 793,
      "outputs": [
        {
          "output_type": "execute_result",
          "data": {
            "text/plain": [
              "(34088, 10)"
            ]
          },
          "metadata": {
            "tags": []
          },
          "execution_count": 793
        }
      ]
    },
    {
      "cell_type": "code",
      "metadata": {
        "colab": {
          "base_uri": "https://localhost:8080/"
        },
        "id": "bPcEDTkwJzAo",
        "outputId": "86e021a7-a200-4da5-b0d4-9ad65374e289"
      },
      "source": [
        "df_medalhistas_por_pais.drop_duplicates(inplace=True)"
      ],
      "execution_count": 794,
      "outputs": [
        {
          "output_type": "stream",
          "text": [
            "/usr/local/lib/python3.7/dist-packages/ipykernel_launcher.py:1: SettingWithCopyWarning: \n",
            "A value is trying to be set on a copy of a slice from a DataFrame\n",
            "\n",
            "See the caveats in the documentation: https://pandas.pydata.org/pandas-docs/stable/user_guide/indexing.html#returning-a-view-versus-a-copy\n",
            "  \"\"\"Entry point for launching an IPython kernel.\n"
          ],
          "name": "stderr"
        }
      ]
    },
    {
      "cell_type": "code",
      "metadata": {
        "colab": {
          "base_uri": "https://localhost:8080/"
        },
        "id": "avule4jyJ8Kr",
        "outputId": "f2f70096-9b17-4b63-eace-49adf2bae2b7"
      },
      "source": [
        "df_medalhistas_por_pais.shape"
      ],
      "execution_count": 795,
      "outputs": [
        {
          "output_type": "execute_result",
          "data": {
            "text/plain": [
              "(16074, 10)"
            ]
          },
          "metadata": {
            "tags": []
          },
          "execution_count": 795
        }
      ]
    },
    {
      "cell_type": "code",
      "metadata": {
        "colab": {
          "base_uri": "https://localhost:8080/"
        },
        "id": "EzT7w3aTKN61",
        "outputId": "7273b9a8-103b-41c7-e94a-f3c7fcd509da"
      },
      "source": [
        "df_medalhistas_por_pais['Team'].value_counts()[0:10]"
      ],
      "execution_count": 796,
      "outputs": [
        {
          "output_type": "execute_result",
          "data": {
            "text/plain": [
              "United States    2459\n",
              "Soviet Union     1004\n",
              "Great Britain     805\n",
              "Germany           753\n",
              "France            713\n",
              "Italy             596\n",
              "Hungary           504\n",
              "China             503\n",
              "Australia         499\n",
              "Sweden            486\n",
              "Name: Team, dtype: int64"
            ]
          },
          "metadata": {
            "tags": []
          },
          "execution_count": 796
        }
      ]
    },
    {
      "cell_type": "markdown",
      "metadata": {
        "id": "mmRzUoNgFXlS"
      },
      "source": [
        "# 10. Países com mais medalhas desde 1980?"
      ]
    },
    {
      "cell_type": "code",
      "metadata": {
        "colab": {
          "base_uri": "https://localhost:8080/"
        },
        "id": "BJDwKVhNwpmZ",
        "outputId": "a1408290-c575-4726-b632-ac371eddf9bc"
      },
      "source": [
        "filtro_apartir1980 = df_medalhistas_por_pais['Year'] >= 1980\n",
        "df_medalhistas_por_pais[filtro_apartir1980]['Team'].value_counts()[0:10]"
      ],
      "execution_count": 797,
      "outputs": [
        {
          "output_type": "execute_result",
          "data": {
            "text/plain": [
              "United States    983\n",
              "China            503\n",
              "Russia           450\n",
              "Germany          373\n",
              "Great Britain    351\n",
              "Australia        331\n",
              "Soviet Union     326\n",
              "France           308\n",
              "Italy            263\n",
              "Japan            239\n",
              "Name: Team, dtype: int64"
            ]
          },
          "metadata": {
            "tags": []
          },
          "execution_count": 797
        }
      ]
    },
    {
      "cell_type": "markdown",
      "metadata": {
        "id": "chm0rG28lpQj"
      },
      "source": [
        "# 11. Corrida histórica de medalhas de 1896 a 2016"
      ]
    },
    {
      "cell_type": "code",
      "metadata": {
        "id": "VQIz-S2xwY6W"
      },
      "source": [
        "def serie_temporal_medalhas_por_pais(df, nome_pais):\n",
        "\n",
        "  filtro_pais = df['Team'] == nome_pais\n",
        "  df_medalhistas_pais = df[filtro_pais].sort_values(by='Year')[['Year', 'Podium']]\n",
        "  df_medalhistas_pais['Podium'] = 1\n",
        "  df_medalhas_pais= df_medalhistas_pais.groupby(['Year']).sum().reset_index()\n",
        "  return df_medalhas_pais"
      ],
      "execution_count": 798,
      "outputs": []
    },
    {
      "cell_type": "code",
      "metadata": {
        "id": "WkuB0y5lq05I"
      },
      "source": [
        "df_medalhas_eua = serie_temporal_medalhas_por_pais(df_medalhistas_por_pais, 'United States')\n",
        "df_medalhas_china = serie_temporal_medalhas_por_pais(df_medalhistas_por_pais, 'China')\n",
        "df_medalhas_uniaosovietica = serie_temporal_medalhas_por_pais(df_medalhistas_por_pais, 'Soviet Union')\n",
        "df_medalhas_russia = serie_temporal_medalhas_por_pais(df_medalhistas_por_pais, 'Russia')\n",
        "df_medalhas_grabretanha = serie_temporal_medalhas_por_pais(df_medalhistas_por_pais, 'Great Britain')\n",
        "df_medalhas_italia = serie_temporal_medalhas_por_pais(df_medalhistas_por_pais, 'Italy')\n",
        "df_medalhas_brasil = serie_temporal_medalhas_por_pais(df_medalhistas_por_pais, 'Brazil')"
      ],
      "execution_count": 799,
      "outputs": []
    },
    {
      "cell_type": "code",
      "metadata": {
        "id": "hNnDDuRlydM8"
      },
      "source": [
        "plt.rcParams.update({'font.size': 16})"
      ],
      "execution_count": 800,
      "outputs": []
    },
    {
      "cell_type": "code",
      "metadata": {
        "colab": {
          "base_uri": "https://localhost:8080/",
          "height": 398
        },
        "id": "F8Afw9iYwUHn",
        "outputId": "b6d4b372-b09a-4a03-d01b-a2d8605ad0e1"
      },
      "source": [
        "plt.figure(figsize=(10,6))\n",
        "plt.plot(df_medalhas_eua['Year'],df_medalhas_eua['Podium'],label='EUA')\n",
        "plt.plot(df_medalhas_china['Year'],df_medalhas_china['Podium'], label='China')\n",
        "plt.plot(df_medalhas_uniaosovietica['Year'],df_medalhas_uniaosovietica['Podium'],label='União Soviética')\n",
        "plt.plot(df_medalhas_russia['Year'],df_medalhas_russia['Podium'], label='Rússia')\n",
        "plt.plot(df_medalhas_grabretanha['Year'],df_medalhas_grabretanha['Podium'], label='Grã-Bretanha')\n",
        "plt.plot(df_medalhas_italia['Year'],df_medalhas_italia['Podium'], label='Itália')\n",
        "plt.xlabel('Anos')\n",
        "plt.ylabel('Número de Medalhas')\n",
        "plt.legend()\n",
        "plt.show()"
      ],
      "execution_count": 801,
      "outputs": [
        {
          "output_type": "display_data",
          "data": {
            "image/png": "[encoded data removed]",
            "text/plain": [
              "<Figure size 720x432 with 1 Axes>"
            ]
          },
          "metadata": {
            "tags": [],
            "needs_background": "light"
          }
        }
      ]
    },
    {
      "cell_type": "markdown",
      "metadata": {
        "id": "r_WGBdl7y3MZ"
      },
      "source": [
        "# Animação da Corrida Histórica de Medalhas de 1896-2016"
      ]
    },
    {
      "cell_type": "markdown",
      "metadata": {
        "id": "TzzvJHiSzgJ9"
      },
      "source": [
        "**Passo 1: Reorganizar dados dos países escolhidos para animação em um único dataset**"
      ]
    },
    {
      "cell_type": "code",
      "metadata": {
        "colab": {
          "base_uri": "https://localhost:8080/"
        },
        "id": "dPyiiQ3Z2Pat",
        "outputId": "22c08d61-760a-4da0-9f7f-1dfae80157d4"
      },
      "source": [
        "np.array(df_medalhas_eua['Year']) # total de anos que os eua participou de olimpiada"
      ],
      "execution_count": 802,
      "outputs": [
        {
          "output_type": "execute_result",
          "data": {
            "text/plain": [
              "array([1896, 1900, 1904, 1906, 1908, 1912, 1920, 1924, 1928, 1932, 1936,\n",
              "       1948, 1952, 1956, 1960, 1964, 1968, 1972, 1976, 1984, 1988, 1992,\n",
              "       1996, 2000, 2004, 2008, 2012, 2016])"
            ]
          },
          "metadata": {
            "tags": []
          },
          "execution_count": 802
        }
      ]
    },
    {
      "cell_type": "code",
      "metadata": {
        "colab": {
          "base_uri": "https://localhost:8080/"
        },
        "id": "4Kpp9I8o2Rqo",
        "outputId": "e17b39b5-1bec-4972-dd86-43ec23df7170"
      },
      "source": [
        "np.array(df_medalhas_grabretanha['Year']) # total de anos que a gra bretanha participou de olimpiada"
      ],
      "execution_count": 803,
      "outputs": [
        {
          "output_type": "execute_result",
          "data": {
            "text/plain": [
              "array([1896, 1900, 1904, 1906, 1908, 1912, 1920, 1924, 1928, 1932, 1936,\n",
              "       1948, 1952, 1956, 1960, 1964, 1968, 1972, 1976, 1980, 1984, 1988,\n",
              "       1992, 1996, 2000, 2004, 2008, 2012, 2016])"
            ]
          },
          "metadata": {
            "tags": []
          },
          "execution_count": 803
        }
      ]
    },
    {
      "cell_type": "code",
      "metadata": {
        "colab": {
          "base_uri": "https://localhost:8080/"
        },
        "id": "w00qZ4ug21cq",
        "outputId": "0bbcb9b7-1e8d-4208-f787-bb8b2bf14318"
      },
      "source": [
        "len(df_athlete_events['Year'].unique()) # total de anos das olimpiadas "
      ],
      "execution_count": 804,
      "outputs": [
        {
          "output_type": "execute_result",
          "data": {
            "text/plain": [
              "29"
            ]
          },
          "metadata": {
            "tags": []
          },
          "execution_count": 804
        }
      ]
    },
    {
      "cell_type": "code",
      "metadata": {
        "id": "Mjm9fHXbWx4k"
      },
      "source": [
        "def conta_medalhas_pais_todos_anos(df, df_pais, nome_pais):\n",
        "\n",
        "  lista_anos = list(df['Year'].unique())\n",
        "  lista_anos = sorted(lista_anos)\n",
        "  df_novo = df_pais.copy()\n",
        "\n",
        "  for i in range(len(lista_anos)):\n",
        "    if not lista_anos[i] in list(df_pais['Year']):    \n",
        "      df_novo.loc[len(lista_anos)+i] = np.array([lista_anos[i],0])\n",
        "\n",
        "  df_novo.sort_values(by=['Year'], inplace= True)\n",
        "  df_novo = df_novo.reset_index(drop=True)\n",
        "  df_novo = df_novo.rename(columns={\"Podium\": nome_pais})\n",
        "\n",
        "  return df_novo"
      ],
      "execution_count": 805,
      "outputs": []
    },
    {
      "cell_type": "code",
      "metadata": {
        "id": "L9sXGJPmXQjh"
      },
      "source": [
        "italy = conta_medalhas_pais_todos_anos(df_medalhistas_por_pais, df_medalhas_italia,'Italy')\n",
        "grabretanha = conta_medalhas_pais_todos_anos(df_medalhistas_por_pais, df_medalhas_grabretanha,'G Britain')\n",
        "russia = conta_medalhas_pais_todos_anos(df_medalhistas_por_pais, df_medalhas_russia,'Russia')\n",
        "eua = conta_medalhas_pais_todos_anos(df_medalhistas_por_pais, df_medalhas_eua,'U States')\n",
        "china = conta_medalhas_pais_todos_anos(df_medalhistas_por_pais, df_medalhas_china,'China')\n",
        "brasil = conta_medalhas_pais_todos_anos(df_medalhistas_por_pais, df_medalhas_brasil,'Brazil')\n",
        "uniaosovietica = conta_medalhas_pais_todos_anos(df_medalhistas_por_pais, df_medalhas_uniaosovietica,'S Union')"
      ],
      "execution_count": 806,
      "outputs": []
    },
    {
      "cell_type": "code",
      "metadata": {
        "colab": {
          "base_uri": "https://localhost:8080/",
          "height": 979
        },
        "id": "IdhdpcL4ZbQ8",
        "outputId": "d5576075-b1d5-49cb-a37e-caae96fc0cf9"
      },
      "source": [
        "lst_paises_concat = [eua, \n",
        "                     russia['Russia'], \n",
        "                     italy['Italy'], \n",
        "                     grabretanha['G Britain'], \n",
        "                     china['China'],\n",
        "                     brasil['Brazil'],\n",
        "                     uniaosovietica['S Union']]\n",
        "\n",
        "result = pd.concat(lst_paises_concat, axis =1)\n",
        "result.set_index('Year', inplace=True)\n",
        "result.index = pd.to_datetime(result.index, format='%Y')\n",
        "result\n"
      ],
      "execution_count": 807,
      "outputs": [
        {
          "output_type": "execute_result",
          "data": {
            "text/html": [
              "<div>\n",
              "<style scoped>\n",
              "    .dataframe tbody tr th:only-of-type {\n",
              "        vertical-align: middle;\n",
              "    }\n",
              "\n",
              "    .dataframe tbody tr th {\n",
              "        vertical-align: top;\n",
              "    }\n",
              "\n",
              "    .dataframe thead th {\n",
              "        text-align: right;\n",
              "    }\n",
              "</style>\n",
              "<table border=\"1\" class=\"dataframe\">\n",
              "  <thead>\n",
              "    <tr style=\"text-align: right;\">\n",
              "      <th></th>\n",
              "      <th>U States</th>\n",
              "      <th>Russia</th>\n",
              "      <th>Italy</th>\n",
              "      <th>G Britain</th>\n",
              "      <th>China</th>\n",
              "      <th>Brazil</th>\n",
              "      <th>S Union</th>\n",
              "    </tr>\n",
              "    <tr>\n",
              "      <th>Year</th>\n",
              "      <th></th>\n",
              "      <th></th>\n",
              "      <th></th>\n",
              "      <th></th>\n",
              "      <th></th>\n",
              "      <th></th>\n",
              "      <th></th>\n",
              "    </tr>\n",
              "  </thead>\n",
              "  <tbody>\n",
              "    <tr>\n",
              "      <th>1896-01-01</th>\n",
              "      <td>19</td>\n",
              "      <td>0</td>\n",
              "      <td>0</td>\n",
              "      <td>7</td>\n",
              "      <td>0</td>\n",
              "      <td>0</td>\n",
              "      <td>0</td>\n",
              "    </tr>\n",
              "    <tr>\n",
              "      <th>1900-01-01</th>\n",
              "      <td>45</td>\n",
              "      <td>0</td>\n",
              "      <td>5</td>\n",
              "      <td>20</td>\n",
              "      <td>0</td>\n",
              "      <td>0</td>\n",
              "      <td>0</td>\n",
              "    </tr>\n",
              "    <tr>\n",
              "      <th>1904-01-01</th>\n",
              "      <td>193</td>\n",
              "      <td>0</td>\n",
              "      <td>0</td>\n",
              "      <td>2</td>\n",
              "      <td>0</td>\n",
              "      <td>0</td>\n",
              "      <td>0</td>\n",
              "    </tr>\n",
              "    <tr>\n",
              "      <th>1906-01-01</th>\n",
              "      <td>23</td>\n",
              "      <td>0</td>\n",
              "      <td>9</td>\n",
              "      <td>24</td>\n",
              "      <td>0</td>\n",
              "      <td>0</td>\n",
              "      <td>0</td>\n",
              "    </tr>\n",
              "    <tr>\n",
              "      <th>1908-01-01</th>\n",
              "      <td>46</td>\n",
              "      <td>3</td>\n",
              "      <td>4</td>\n",
              "      <td>108</td>\n",
              "      <td>0</td>\n",
              "      <td>0</td>\n",
              "      <td>0</td>\n",
              "    </tr>\n",
              "    <tr>\n",
              "      <th>1912-01-01</th>\n",
              "      <td>63</td>\n",
              "      <td>4</td>\n",
              "      <td>8</td>\n",
              "      <td>33</td>\n",
              "      <td>0</td>\n",
              "      <td>0</td>\n",
              "      <td>0</td>\n",
              "    </tr>\n",
              "    <tr>\n",
              "      <th>1920-01-01</th>\n",
              "      <td>95</td>\n",
              "      <td>0</td>\n",
              "      <td>25</td>\n",
              "      <td>39</td>\n",
              "      <td>0</td>\n",
              "      <td>3</td>\n",
              "      <td>0</td>\n",
              "    </tr>\n",
              "    <tr>\n",
              "      <th>1924-01-01</th>\n",
              "      <td>95</td>\n",
              "      <td>0</td>\n",
              "      <td>16</td>\n",
              "      <td>32</td>\n",
              "      <td>0</td>\n",
              "      <td>0</td>\n",
              "      <td>0</td>\n",
              "    </tr>\n",
              "    <tr>\n",
              "      <th>1928-01-01</th>\n",
              "      <td>56</td>\n",
              "      <td>0</td>\n",
              "      <td>20</td>\n",
              "      <td>22</td>\n",
              "      <td>0</td>\n",
              "      <td>0</td>\n",
              "      <td>0</td>\n",
              "    </tr>\n",
              "    <tr>\n",
              "      <th>1932-01-01</th>\n",
              "      <td>107</td>\n",
              "      <td>0</td>\n",
              "      <td>36</td>\n",
              "      <td>16</td>\n",
              "      <td>0</td>\n",
              "      <td>0</td>\n",
              "      <td>0</td>\n",
              "    </tr>\n",
              "    <tr>\n",
              "      <th>1936-01-01</th>\n",
              "      <td>57</td>\n",
              "      <td>0</td>\n",
              "      <td>26</td>\n",
              "      <td>12</td>\n",
              "      <td>0</td>\n",
              "      <td>0</td>\n",
              "      <td>0</td>\n",
              "    </tr>\n",
              "    <tr>\n",
              "      <th>1948-01-01</th>\n",
              "      <td>81</td>\n",
              "      <td>0</td>\n",
              "      <td>31</td>\n",
              "      <td>26</td>\n",
              "      <td>0</td>\n",
              "      <td>1</td>\n",
              "      <td>0</td>\n",
              "    </tr>\n",
              "    <tr>\n",
              "      <th>1952-01-01</th>\n",
              "      <td>73</td>\n",
              "      <td>0</td>\n",
              "      <td>20</td>\n",
              "      <td>11</td>\n",
              "      <td>0</td>\n",
              "      <td>3</td>\n",
              "      <td>70</td>\n",
              "    </tr>\n",
              "    <tr>\n",
              "      <th>1956-01-01</th>\n",
              "      <td>73</td>\n",
              "      <td>0</td>\n",
              "      <td>24</td>\n",
              "      <td>21</td>\n",
              "      <td>0</td>\n",
              "      <td>1</td>\n",
              "      <td>98</td>\n",
              "    </tr>\n",
              "    <tr>\n",
              "      <th>1960-01-01</th>\n",
              "      <td>69</td>\n",
              "      <td>0</td>\n",
              "      <td>35</td>\n",
              "      <td>20</td>\n",
              "      <td>0</td>\n",
              "      <td>2</td>\n",
              "      <td>102</td>\n",
              "    </tr>\n",
              "    <tr>\n",
              "      <th>1964-01-01</th>\n",
              "      <td>86</td>\n",
              "      <td>0</td>\n",
              "      <td>27</td>\n",
              "      <td>17</td>\n",
              "      <td>0</td>\n",
              "      <td>1</td>\n",
              "      <td>93</td>\n",
              "    </tr>\n",
              "    <tr>\n",
              "      <th>1968-01-01</th>\n",
              "      <td>107</td>\n",
              "      <td>0</td>\n",
              "      <td>16</td>\n",
              "      <td>13</td>\n",
              "      <td>0</td>\n",
              "      <td>3</td>\n",
              "      <td>91</td>\n",
              "    </tr>\n",
              "    <tr>\n",
              "      <th>1972-01-01</th>\n",
              "      <td>94</td>\n",
              "      <td>0</td>\n",
              "      <td>18</td>\n",
              "      <td>18</td>\n",
              "      <td>0</td>\n",
              "      <td>2</td>\n",
              "      <td>99</td>\n",
              "    </tr>\n",
              "    <tr>\n",
              "      <th>1976-01-01</th>\n",
              "      <td>94</td>\n",
              "      <td>0</td>\n",
              "      <td>13</td>\n",
              "      <td>13</td>\n",
              "      <td>0</td>\n",
              "      <td>2</td>\n",
              "      <td>125</td>\n",
              "    </tr>\n",
              "    <tr>\n",
              "      <th>1980-01-01</th>\n",
              "      <td>0</td>\n",
              "      <td>0</td>\n",
              "      <td>15</td>\n",
              "      <td>21</td>\n",
              "      <td>0</td>\n",
              "      <td>4</td>\n",
              "      <td>195</td>\n",
              "    </tr>\n",
              "    <tr>\n",
              "      <th>1984-01-01</th>\n",
              "      <td>173</td>\n",
              "      <td>0</td>\n",
              "      <td>32</td>\n",
              "      <td>37</td>\n",
              "      <td>32</td>\n",
              "      <td>8</td>\n",
              "      <td>0</td>\n",
              "    </tr>\n",
              "    <tr>\n",
              "      <th>1988-01-01</th>\n",
              "      <td>94</td>\n",
              "      <td>0</td>\n",
              "      <td>14</td>\n",
              "      <td>24</td>\n",
              "      <td>27</td>\n",
              "      <td>6</td>\n",
              "      <td>131</td>\n",
              "    </tr>\n",
              "    <tr>\n",
              "      <th>1992-01-01</th>\n",
              "      <td>107</td>\n",
              "      <td>0</td>\n",
              "      <td>19</td>\n",
              "      <td>20</td>\n",
              "      <td>47</td>\n",
              "      <td>3</td>\n",
              "      <td>0</td>\n",
              "    </tr>\n",
              "    <tr>\n",
              "      <th>1996-01-01</th>\n",
              "      <td>99</td>\n",
              "      <td>63</td>\n",
              "      <td>35</td>\n",
              "      <td>15</td>\n",
              "      <td>44</td>\n",
              "      <td>13</td>\n",
              "      <td>0</td>\n",
              "    </tr>\n",
              "    <tr>\n",
              "      <th>2000-01-01</th>\n",
              "      <td>90</td>\n",
              "      <td>89</td>\n",
              "      <td>34</td>\n",
              "      <td>27</td>\n",
              "      <td>51</td>\n",
              "      <td>9</td>\n",
              "      <td>0</td>\n",
              "    </tr>\n",
              "    <tr>\n",
              "      <th>2004-01-01</th>\n",
              "      <td>99</td>\n",
              "      <td>90</td>\n",
              "      <td>32</td>\n",
              "      <td>29</td>\n",
              "      <td>57</td>\n",
              "      <td>8</td>\n",
              "      <td>0</td>\n",
              "    </tr>\n",
              "    <tr>\n",
              "      <th>2008-01-01</th>\n",
              "      <td>106</td>\n",
              "      <td>72</td>\n",
              "      <td>27</td>\n",
              "      <td>48</td>\n",
              "      <td>93</td>\n",
              "      <td>14</td>\n",
              "      <td>0</td>\n",
              "    </tr>\n",
              "    <tr>\n",
              "      <th>2012-01-01</th>\n",
              "      <td>98</td>\n",
              "      <td>81</td>\n",
              "      <td>28</td>\n",
              "      <td>63</td>\n",
              "      <td>84</td>\n",
              "      <td>15</td>\n",
              "      <td>0</td>\n",
              "    </tr>\n",
              "    <tr>\n",
              "      <th>2016-01-01</th>\n",
              "      <td>117</td>\n",
              "      <td>55</td>\n",
              "      <td>27</td>\n",
              "      <td>67</td>\n",
              "      <td>68</td>\n",
              "      <td>17</td>\n",
              "      <td>0</td>\n",
              "    </tr>\n",
              "  </tbody>\n",
              "</table>\n",
              "</div>"
            ],
            "text/plain": [
              "            U States  Russia  Italy  G Britain  China  Brazil  S Union\n",
              "Year                                                                  \n",
              "1896-01-01        19       0      0          7      0       0        0\n",
              "1900-01-01        45       0      5         20      0       0        0\n",
              "1904-01-01       193       0      0          2      0       0        0\n",
              "1906-01-01        23       0      9         24      0       0        0\n",
              "1908-01-01        46       3      4        108      0       0        0\n",
              "1912-01-01        63       4      8         33      0       0        0\n",
              "1920-01-01        95       0     25         39      0       3        0\n",
              "1924-01-01        95       0     16         32      0       0        0\n",
              "1928-01-01        56       0     20         22      0       0        0\n",
              "1932-01-01       107       0     36         16      0       0        0\n",
              "1936-01-01        57       0     26         12      0       0        0\n",
              "1948-01-01        81       0     31         26      0       1        0\n",
              "1952-01-01        73       0     20         11      0       3       70\n",
              "1956-01-01        73       0     24         21      0       1       98\n",
              "1960-01-01        69       0     35         20      0       2      102\n",
              "1964-01-01        86       0     27         17      0       1       93\n",
              "1968-01-01       107       0     16         13      0       3       91\n",
              "1972-01-01        94       0     18         18      0       2       99\n",
              "1976-01-01        94       0     13         13      0       2      125\n",
              "1980-01-01         0       0     15         21      0       4      195\n",
              "1984-01-01       173       0     32         37     32       8        0\n",
              "1988-01-01        94       0     14         24     27       6      131\n",
              "1992-01-01       107       0     19         20     47       3        0\n",
              "1996-01-01        99      63     35         15     44      13        0\n",
              "2000-01-01        90      89     34         27     51       9        0\n",
              "2004-01-01        99      90     32         29     57       8        0\n",
              "2008-01-01       106      72     27         48     93      14        0\n",
              "2012-01-01        98      81     28         63     84      15        0\n",
              "2016-01-01       117      55     27         67     68      17        0"
            ]
          },
          "metadata": {
            "tags": []
          },
          "execution_count": 807
        }
      ]
    },
    {
      "cell_type": "markdown",
      "metadata": {
        "id": "c4-Rr0teyGDI"
      },
      "source": [
        "**Soma cumulativa das medalhas dos paises**"
      ]
    },
    {
      "cell_type": "code",
      "metadata": {
        "colab": {
          "base_uri": "https://localhost:8080/",
          "height": 979
        },
        "id": "4KOOmXruxOUK",
        "outputId": "e339acaf-6e4a-4b10-c594-3ecdacc7be1d"
      },
      "source": [
        "result2 = result.copy()\n",
        "for col in list(result2.columns):\n",
        "  result2[col] = result2[col].cumsum()\n",
        "\n",
        "result2"
      ],
      "execution_count": 808,
      "outputs": [
        {
          "output_type": "execute_result",
          "data": {
            "text/html": [
              "<div>\n",
              "<style scoped>\n",
              "    .dataframe tbody tr th:only-of-type {\n",
              "        vertical-align: middle;\n",
              "    }\n",
              "\n",
              "    .dataframe tbody tr th {\n",
              "        vertical-align: top;\n",
              "    }\n",
              "\n",
              "    .dataframe thead th {\n",
              "        text-align: right;\n",
              "    }\n",
              "</style>\n",
              "<table border=\"1\" class=\"dataframe\">\n",
              "  <thead>\n",
              "    <tr style=\"text-align: right;\">\n",
              "      <th></th>\n",
              "      <th>U States</th>\n",
              "      <th>Russia</th>\n",
              "      <th>Italy</th>\n",
              "      <th>G Britain</th>\n",
              "      <th>China</th>\n",
              "      <th>Brazil</th>\n",
              "      <th>S Union</th>\n",
              "    </tr>\n",
              "    <tr>\n",
              "      <th>Year</th>\n",
              "      <th></th>\n",
              "      <th></th>\n",
              "      <th></th>\n",
              "      <th></th>\n",
              "      <th></th>\n",
              "      <th></th>\n",
              "      <th></th>\n",
              "    </tr>\n",
              "  </thead>\n",
              "  <tbody>\n",
              "    <tr>\n",
              "      <th>1896-01-01</th>\n",
              "      <td>19</td>\n",
              "      <td>0</td>\n",
              "      <td>0</td>\n",
              "      <td>7</td>\n",
              "      <td>0</td>\n",
              "      <td>0</td>\n",
              "      <td>0</td>\n",
              "    </tr>\n",
              "    <tr>\n",
              "      <th>1900-01-01</th>\n",
              "      <td>64</td>\n",
              "      <td>0</td>\n",
              "      <td>5</td>\n",
              "      <td>27</td>\n",
              "      <td>0</td>\n",
              "      <td>0</td>\n",
              "      <td>0</td>\n",
              "    </tr>\n",
              "    <tr>\n",
              "      <th>1904-01-01</th>\n",
              "      <td>257</td>\n",
              "      <td>0</td>\n",
              "      <td>5</td>\n",
              "      <td>29</td>\n",
              "      <td>0</td>\n",
              "      <td>0</td>\n",
              "      <td>0</td>\n",
              "    </tr>\n",
              "    <tr>\n",
              "      <th>1906-01-01</th>\n",
              "      <td>280</td>\n",
              "      <td>0</td>\n",
              "      <td>14</td>\n",
              "      <td>53</td>\n",
              "      <td>0</td>\n",
              "      <td>0</td>\n",
              "      <td>0</td>\n",
              "    </tr>\n",
              "    <tr>\n",
              "      <th>1908-01-01</th>\n",
              "      <td>326</td>\n",
              "      <td>3</td>\n",
              "      <td>18</td>\n",
              "      <td>161</td>\n",
              "      <td>0</td>\n",
              "      <td>0</td>\n",
              "      <td>0</td>\n",
              "    </tr>\n",
              "    <tr>\n",
              "      <th>1912-01-01</th>\n",
              "      <td>389</td>\n",
              "      <td>7</td>\n",
              "      <td>26</td>\n",
              "      <td>194</td>\n",
              "      <td>0</td>\n",
              "      <td>0</td>\n",
              "      <td>0</td>\n",
              "    </tr>\n",
              "    <tr>\n",
              "      <th>1920-01-01</th>\n",
              "      <td>484</td>\n",
              "      <td>7</td>\n",
              "      <td>51</td>\n",
              "      <td>233</td>\n",
              "      <td>0</td>\n",
              "      <td>3</td>\n",
              "      <td>0</td>\n",
              "    </tr>\n",
              "    <tr>\n",
              "      <th>1924-01-01</th>\n",
              "      <td>579</td>\n",
              "      <td>7</td>\n",
              "      <td>67</td>\n",
              "      <td>265</td>\n",
              "      <td>0</td>\n",
              "      <td>3</td>\n",
              "      <td>0</td>\n",
              "    </tr>\n",
              "    <tr>\n",
              "      <th>1928-01-01</th>\n",
              "      <td>635</td>\n",
              "      <td>7</td>\n",
              "      <td>87</td>\n",
              "      <td>287</td>\n",
              "      <td>0</td>\n",
              "      <td>3</td>\n",
              "      <td>0</td>\n",
              "    </tr>\n",
              "    <tr>\n",
              "      <th>1932-01-01</th>\n",
              "      <td>742</td>\n",
              "      <td>7</td>\n",
              "      <td>123</td>\n",
              "      <td>303</td>\n",
              "      <td>0</td>\n",
              "      <td>3</td>\n",
              "      <td>0</td>\n",
              "    </tr>\n",
              "    <tr>\n",
              "      <th>1936-01-01</th>\n",
              "      <td>799</td>\n",
              "      <td>7</td>\n",
              "      <td>149</td>\n",
              "      <td>315</td>\n",
              "      <td>0</td>\n",
              "      <td>3</td>\n",
              "      <td>0</td>\n",
              "    </tr>\n",
              "    <tr>\n",
              "      <th>1948-01-01</th>\n",
              "      <td>880</td>\n",
              "      <td>7</td>\n",
              "      <td>180</td>\n",
              "      <td>341</td>\n",
              "      <td>0</td>\n",
              "      <td>4</td>\n",
              "      <td>0</td>\n",
              "    </tr>\n",
              "    <tr>\n",
              "      <th>1952-01-01</th>\n",
              "      <td>953</td>\n",
              "      <td>7</td>\n",
              "      <td>200</td>\n",
              "      <td>352</td>\n",
              "      <td>0</td>\n",
              "      <td>7</td>\n",
              "      <td>70</td>\n",
              "    </tr>\n",
              "    <tr>\n",
              "      <th>1956-01-01</th>\n",
              "      <td>1026</td>\n",
              "      <td>7</td>\n",
              "      <td>224</td>\n",
              "      <td>373</td>\n",
              "      <td>0</td>\n",
              "      <td>8</td>\n",
              "      <td>168</td>\n",
              "    </tr>\n",
              "    <tr>\n",
              "      <th>1960-01-01</th>\n",
              "      <td>1095</td>\n",
              "      <td>7</td>\n",
              "      <td>259</td>\n",
              "      <td>393</td>\n",
              "      <td>0</td>\n",
              "      <td>10</td>\n",
              "      <td>270</td>\n",
              "    </tr>\n",
              "    <tr>\n",
              "      <th>1964-01-01</th>\n",
              "      <td>1181</td>\n",
              "      <td>7</td>\n",
              "      <td>286</td>\n",
              "      <td>410</td>\n",
              "      <td>0</td>\n",
              "      <td>11</td>\n",
              "      <td>363</td>\n",
              "    </tr>\n",
              "    <tr>\n",
              "      <th>1968-01-01</th>\n",
              "      <td>1288</td>\n",
              "      <td>7</td>\n",
              "      <td>302</td>\n",
              "      <td>423</td>\n",
              "      <td>0</td>\n",
              "      <td>14</td>\n",
              "      <td>454</td>\n",
              "    </tr>\n",
              "    <tr>\n",
              "      <th>1972-01-01</th>\n",
              "      <td>1382</td>\n",
              "      <td>7</td>\n",
              "      <td>320</td>\n",
              "      <td>441</td>\n",
              "      <td>0</td>\n",
              "      <td>16</td>\n",
              "      <td>553</td>\n",
              "    </tr>\n",
              "    <tr>\n",
              "      <th>1976-01-01</th>\n",
              "      <td>1476</td>\n",
              "      <td>7</td>\n",
              "      <td>333</td>\n",
              "      <td>454</td>\n",
              "      <td>0</td>\n",
              "      <td>18</td>\n",
              "      <td>678</td>\n",
              "    </tr>\n",
              "    <tr>\n",
              "      <th>1980-01-01</th>\n",
              "      <td>1476</td>\n",
              "      <td>7</td>\n",
              "      <td>348</td>\n",
              "      <td>475</td>\n",
              "      <td>0</td>\n",
              "      <td>22</td>\n",
              "      <td>873</td>\n",
              "    </tr>\n",
              "    <tr>\n",
              "      <th>1984-01-01</th>\n",
              "      <td>1649</td>\n",
              "      <td>7</td>\n",
              "      <td>380</td>\n",
              "      <td>512</td>\n",
              "      <td>32</td>\n",
              "      <td>30</td>\n",
              "      <td>873</td>\n",
              "    </tr>\n",
              "    <tr>\n",
              "      <th>1988-01-01</th>\n",
              "      <td>1743</td>\n",
              "      <td>7</td>\n",
              "      <td>394</td>\n",
              "      <td>536</td>\n",
              "      <td>59</td>\n",
              "      <td>36</td>\n",
              "      <td>1004</td>\n",
              "    </tr>\n",
              "    <tr>\n",
              "      <th>1992-01-01</th>\n",
              "      <td>1850</td>\n",
              "      <td>7</td>\n",
              "      <td>413</td>\n",
              "      <td>556</td>\n",
              "      <td>106</td>\n",
              "      <td>39</td>\n",
              "      <td>1004</td>\n",
              "    </tr>\n",
              "    <tr>\n",
              "      <th>1996-01-01</th>\n",
              "      <td>1949</td>\n",
              "      <td>70</td>\n",
              "      <td>448</td>\n",
              "      <td>571</td>\n",
              "      <td>150</td>\n",
              "      <td>52</td>\n",
              "      <td>1004</td>\n",
              "    </tr>\n",
              "    <tr>\n",
              "      <th>2000-01-01</th>\n",
              "      <td>2039</td>\n",
              "      <td>159</td>\n",
              "      <td>482</td>\n",
              "      <td>598</td>\n",
              "      <td>201</td>\n",
              "      <td>61</td>\n",
              "      <td>1004</td>\n",
              "    </tr>\n",
              "    <tr>\n",
              "      <th>2004-01-01</th>\n",
              "      <td>2138</td>\n",
              "      <td>249</td>\n",
              "      <td>514</td>\n",
              "      <td>627</td>\n",
              "      <td>258</td>\n",
              "      <td>69</td>\n",
              "      <td>1004</td>\n",
              "    </tr>\n",
              "    <tr>\n",
              "      <th>2008-01-01</th>\n",
              "      <td>2244</td>\n",
              "      <td>321</td>\n",
              "      <td>541</td>\n",
              "      <td>675</td>\n",
              "      <td>351</td>\n",
              "      <td>83</td>\n",
              "      <td>1004</td>\n",
              "    </tr>\n",
              "    <tr>\n",
              "      <th>2012-01-01</th>\n",
              "      <td>2342</td>\n",
              "      <td>402</td>\n",
              "      <td>569</td>\n",
              "      <td>738</td>\n",
              "      <td>435</td>\n",
              "      <td>98</td>\n",
              "      <td>1004</td>\n",
              "    </tr>\n",
              "    <tr>\n",
              "      <th>2016-01-01</th>\n",
              "      <td>2459</td>\n",
              "      <td>457</td>\n",
              "      <td>596</td>\n",
              "      <td>805</td>\n",
              "      <td>503</td>\n",
              "      <td>115</td>\n",
              "      <td>1004</td>\n",
              "    </tr>\n",
              "  </tbody>\n",
              "</table>\n",
              "</div>"
            ],
            "text/plain": [
              "            U States  Russia  Italy  G Britain  China  Brazil  S Union\n",
              "Year                                                                  \n",
              "1896-01-01        19       0      0          7      0       0        0\n",
              "1900-01-01        64       0      5         27      0       0        0\n",
              "1904-01-01       257       0      5         29      0       0        0\n",
              "1906-01-01       280       0     14         53      0       0        0\n",
              "1908-01-01       326       3     18        161      0       0        0\n",
              "1912-01-01       389       7     26        194      0       0        0\n",
              "1920-01-01       484       7     51        233      0       3        0\n",
              "1924-01-01       579       7     67        265      0       3        0\n",
              "1928-01-01       635       7     87        287      0       3        0\n",
              "1932-01-01       742       7    123        303      0       3        0\n",
              "1936-01-01       799       7    149        315      0       3        0\n",
              "1948-01-01       880       7    180        341      0       4        0\n",
              "1952-01-01       953       7    200        352      0       7       70\n",
              "1956-01-01      1026       7    224        373      0       8      168\n",
              "1960-01-01      1095       7    259        393      0      10      270\n",
              "1964-01-01      1181       7    286        410      0      11      363\n",
              "1968-01-01      1288       7    302        423      0      14      454\n",
              "1972-01-01      1382       7    320        441      0      16      553\n",
              "1976-01-01      1476       7    333        454      0      18      678\n",
              "1980-01-01      1476       7    348        475      0      22      873\n",
              "1984-01-01      1649       7    380        512     32      30      873\n",
              "1988-01-01      1743       7    394        536     59      36     1004\n",
              "1992-01-01      1850       7    413        556    106      39     1004\n",
              "1996-01-01      1949      70    448        571    150      52     1004\n",
              "2000-01-01      2039     159    482        598    201      61     1004\n",
              "2004-01-01      2138     249    514        627    258      69     1004\n",
              "2008-01-01      2244     321    541        675    351      83     1004\n",
              "2012-01-01      2342     402    569        738    435      98     1004\n",
              "2016-01-01      2459     457    596        805    503     115     1004"
            ]
          },
          "metadata": {
            "tags": []
          },
          "execution_count": 808
        }
      ]
    },
    {
      "cell_type": "markdown",
      "metadata": {
        "id": "B40Cwj_Cb3Iv"
      },
      "source": [
        "**Animação**"
      ]
    },
    {
      "cell_type": "code",
      "metadata": {
        "colab": {
          "base_uri": "https://localhost:8080/",
          "height": 877
        },
        "id": "Pr0_Iqaeb6sl",
        "outputId": "c1ef2c8e-8c77-4af8-a0ed-984a73d21781"
      },
      "source": [
        "from IPython.display import HTML\n",
        "\n",
        "fig = plt.figure(figsize=(12,6))\n",
        "\n",
        "def drawframe(i=int):\n",
        "    iv = min(i, len(result2.index)-1) #the loop iterates an extra one time, which causes the dataframes to go out of bounds. This was the easiest (most lazy) way to solve this :)\n",
        "    objects = result2.max().index\n",
        "    y_pos = np.arange(len(objects))\n",
        "    performance = result2.iloc[[iv]].values.tolist()[0]\n",
        "    plt.barh(y_pos, performance, align='center', color=['red', 'green', 'blue', 'orange','magenta','cyan','olive'])\n",
        "    plt.yticks(y_pos, objects)\n",
        "    plt.xlabel('Medals')\n",
        "    plt.ylabel('Countries')\n",
        "    plt.title('Year \\n' + str(result2.index[iv].strftime('%Y')))\n",
        "    #plt.tight_layout()\n",
        "\n",
        "anim = ani.FuncAnimation(fig, drawframe, interval=500)\n",
        "HTML(anim.to_html5_video())"
      ],
      "execution_count": 809,
      "outputs": [
        {
          "output_type": "execute_result",
          "data": {
            "text/html": [
              "<video width=\"864\" height=\"432\" controls autoplay loop>\n",
              "  <source type=\"video/mp4\" src=\"data:video/mp4;base64,AAAAHGZ0eXBNNFYgAAACAGlzb21pc28yYXZjMQAAAAhmcmVlAADgeW1kYXQAAAKtBgX//6ncRem9\n",
              "5tlIt5Ys2CDZI+7veDI2NCAtIGNvcmUgMTUyIHIyODU0IGU5YTU5MDMgLSBILjI2NC9NUEVHLTQg\n",
              "QVZDIGNvZGVjIC0gQ29weWxlZnQgMjAwMy0yMDE3IC0gaHR0cDovL3d3dy52aWRlb2xhbi5vcmcv\n",
              "eDI2NC5odG1sIC0gb3B0aW9uczogY2FiYWM9MSByZWY9MyBkZWJsb2NrPTE6MDowIGFuYWx5c2U9\n",
              "MHgzOjB4MTEzIG1lPWhleCBzdWJtZT03IHBzeT0xIHBzeV9yZD0xLjAwOjAuMDAgbWl4ZWRfcmVm\n",
              "PTEgbWVfcmFuZ2U9MTYgY2hyb21hX21lPTEgdHJlbGxpcz0xIDh4OGRjdD0xIGNxbT0wIGRlYWR6\n",
              "b25lPTIxLDExIGZhc3RfcHNraXA9MSBjaHJvbWFfcXBfb2Zmc2V0PS0yIHRocmVhZHM9MyBsb29r\n",
              "YWhlYWRfdGhyZWFkcz0xIHNsaWNlZF90aHJlYWRzPTAgbnI9MCBkZWNpbWF0ZT0xIGludGVybGFj\n",
              "ZWQ9MCBibHVyYXlfY29tcGF0PTAgY29uc3RyYWluZWRfaW50cmE9MCBiZnJhbWVzPTMgYl9weXJh\n",
              "bWlkPTIgYl9hZGFwdD0xIGJfYmlhcz0wIGRpcmVjdD0xIHdlaWdodGI9MSBvcGVuX2dvcD0wIHdl\n",
              "aWdodHA9MiBrZXlpbnQ9MjUwIGtleWludF9taW49MiBzY2VuZWN1dD00MCBpbnRyYV9yZWZyZXNo\n",
              "PTAgcmNfbG9va2FoZWFkPTQwIHJjPWNyZiBtYnRyZWU9MSBjcmY9MjMuMCBxY29tcD0wLjYwIHFw\n",
              "bWluPTAgcXBtYXg9NjkgcXBzdGVwPTQgaXBfcmF0aW89MS40MCBhcT0xOjEuMDAAgAAAIYRliIQA\n",
              "Ff/+98nvwKbrW1u1v5PPSPwstz7CKj9uWxO06gAAAwABQD/yNPlMXEAzrAKe1OnZ1txrFN0S4iWb\n",
              "lazMQ0fcQynoWsk7vQcWXcBAiJe+K9DRyyW3ppaMNy9xMGYtkz9m3IXsHsyTcT1KuxbOYXvLK/FJ\n",
              "wGDj9fP0B6ni9dp2vfh2vcItmBC6dr+rmfX6eIMjP7Rjm/Sflb9gmUhnkYUEYuAgSvuJX+SyxPTi\n",
              "EAbukfgXleu8MBnhCJ2Px91qh602cKiXqUeioTuOlURV6th6NwvxQpjFrIbpoKlUog9Z2izFvaYe\n",
              "gGsw4AAAGCjr0YQABJ2OMNEwRrT73/uiHdqAMoVlVsu1kDbnFrSs0hapxxr+VVuE/1Bgx1z9NTDs\n",
              "aBQ/UT9yjVuWf/WN1gAxWpKPtoMkBowbj36UOGPppdAooCBIpuTjDcDV3JO8wAePHzLhOK6YtFtd\n",
              "oXfohqdwAMiaKRPHGdHLqZox47Q+IN7KZvdxzargwhdBKVSNoF4H7U6tGHKVyDPQFBnofPL2n3a+\n",
              "zeevxcPpZgaM1Nq0Z2JSF2YlwPKmqrekc5x1PfQbpF2tEZKAsoAkmB1IgWpXOvatjfwsaX7JkzJV\n",
              "ecLFsThgFj+CVT8CUwPPo8BJc6fVxeSlrbuQjBRR13R+s986Y8ABdiKrMiXL+B3FhEhSupqD/ASM\n",
              "0jKG7tyYxTC/2LBHdYVk6GEETQuiln5UGCIkc4/h0+vrgUHUJNIF+RQhRISVYS5R9P+t9RUodt3L\n",
              "Ep5f7uLScbHoCHVgCPCqPQlkOt+G/NtvuoBF1QMPXz+YnXbhz4VbWegKO/GQTJdODt3MS/Eottxz\n",
              "GaEHglBlqQ9/092gFUvX/VpBxYu7BrdbKCyXHQJvzEtSskxTprVV8WTH9b95r96+Bdn7CpvixMG0\n",
              "SLJ7/iBiE81ctZLn25G6SauHekP3bAAn3ZINMrlyfNWUTQwaFpXiARFNNduavponQ1vHG0LL7Ueu\n",
              "v0SRfd2pITI/N+nZUPnwv1NvF23phOs/bL8sIYQetp2RJ//GHWeE0qXFf/SKoYxiNJ87x4kX/M2L\n",
              "1glKtmddMQzDK/wZdqCMQM39/nLdzbIFyVdus2P4NBab33TXZ0KvI/mNoVENGsajZrv7e6P9xRII\n",
              "uV3Kk/ATUACABkdvXmjDRnmzOTucGTgCp9zoWB/PQIuzD26jil10u11ISLzQAAADAAADAAKd/3iA\n",
              "Pz3IKYg788tpTscfYDnfD1VwMVzdekQSWl2+vOEiNgZm/ngGZEYifoulzzABfNQ8J3H6a4dJuAR9\n",
              "7mASziYglyhTEtNoJWoWXxT3hcTFdtSCM1zeUllVO29p6RG91u+Ac7ne9+lMftOmS9mOD5o8DeBD\n",
              "EormMTSD5B3o5x6A80zAJZoikQAAAwGYIkAbVVgdXl9tVmEaJcR0qjkciDpRekq3zinUOgYl5/5h\n",
              "/guyB8L1k85S/Y4SHRenPQvd+Tj/I61xSWd+9Ehy6TxtaO04FDinNpozPSR0FbfKCLxKTH/4mVcX\n",
              "r2R1utl2uVQOIGvxu/pjEBISrGUXSOs3Chezcovy8aBZ/yL/07MiAzga/aEaXYgUa9zX968wmWmz\n",
              "UXuTYtDvJD+MRDOuGXJEtz2aZYhS7OJIzxYabCHqNALApaenbLHSRtsk+vZlWn679tlG9lrvrnsO\n",
              "DPkv+Ya3ifCq+OTz6Fe72dFdnu7VIVvSmVUUW/YNMpFUryVvifjth+ZStlWkFgenkNYznQSjdkDu\n",
              "iyh3FsDov1xDMGHav3tt1/EkNrcOklDafwI6D+yHhYiKwRTQS2QzCDAI+FN1PZorLHTEcYmk8ndj\n",
              "r71VqIGdDYgimakcGx2OVYaOfbWcfSsNAlB7JFIbM2hg0uDWqoIO60Exx5th07zxejVHp2Sb5dTo\n",
              "0FtP5l43TKSU/N6/rqgplI7/da5Luv/JPlL5QLVnW+VvAxM9pf3nYUG/DQXv+ccP1Op44MrAyJ8b\n",
              "rAB5ObYem7HHTcHBiWY6E1yudITsz8kSdIUBoGq6nN0CLyMhibZnlkARFQwRuZSJRgtqQJR8HpuL\n",
              "+3UzqkQAD7MAKVogewKwHuyYdVz9exPElykuFKZ7i20JpPZPQ7UG22TEiRrzStetEc88w4zENTNC\n",
              "DY3A9iQ5IJCjf1ObPq5g9A2+3oBhYeB3e4W7dM1YjEIq/+LSvh0Qh6nZf4Lt1QlQhOu6S1uNIIrp\n",
              "lL1AjTdDHlmfr4zxyE3CHhEi6eyFoenUEBZ6iSgIAhj7iUbp1YZf4ETfkzzHSaIe3BM1gTsKgU/Z\n",
              "Q4Xurw0D0FJaft8r9PfpTHEWy8O6SIQiD3W0W8DJmNhIyVbQqAhSvkXGNIrzPURXRy6FUcSfBz37\n",
              "8OsABQhMhk4ZlZZPGk7eMqYYhKCNOT50Fa/QNPvu60w/SeuKregTK7hC61GQWzga0HJDUGqS2UmH\n",
              "/ZdnhRRAqMquTil+bgE9gHr+TEYclnD781QRtOm6oVhRxzR/CwqkNyZut9Pq13koXmRLWKCYP4GT\n",
              "b2XDXEU/OGq8ZPBgiGlqkrEaPSTeYBpw1MUSmO//pTQP9m8GIz4xT4uL3t18ANhhzV/nIPVko8zL\n",
              "iJo45xsxZr0JOi+BGD78pu5DlNgZ4TtJcsdROrvG5PPZ0ScGhBk5IxeymHIfaxy7nmjH2LHbCocB\n",
              "miGV2J2H0ufvWkheN633QbyemCBMIFwZZcISsNNAZ6own1vk3022CyITt62et3q3efzduVDilYKH\n",
              "gkNlvDS8AFq60r1R1IUJYWIcIBnChjC6HMOtG8xILXDLCxb50n4AZyNmq4NFs1AkXPL6T/N8hJlI\n",
              "KoFDtChRDiIbv0Ri+VOAgRyi1Iil3zTWwukDGTNPocPm9PwnTTIiUJpETt6dGhLthnL1hQ0S09vX\n",
              "OSXsUvW2WyeFDPGMqvDcM7fyu33Gk6fkCnihBn+gCG/BVdqcdvjjCQBk1WutaJ3tOKRPYGBieog+\n",
              "2J/Jd7Y2gW5qI3SPQyq+aZgPaqYAxYchJiyeYBuSV+wdv4OTr9vyE2lu4tzFIa4QvD0GVKQ00/Uw\n",
              "J1EC0QGmZzOEKfYO8rgBTf0OnhuIwQ24x1gFMV9NCGtCp3HZzkNz8cgVbt5z8r92hSuDFI9v4yPc\n",
              "+EAUtnzGJtfm+8zwbabo7xG+72H/yMEHNrq6fL+jGOVGve7Vqa2mV+ntCppckAu/XleqNLJAAj03\n",
              "/MPwqyux4VKxPeZVXpEFT4mZE9Yy99ji4FWgVrJHopLXIMUHsAcvnpXJ7r1B1+GvFpp1jq3d6Goo\n",
              "WnRELqKbkY0T7yc45waQCpT4gVShapUC+iZTMmaJrw+Z3LBnm5WTSm0jk4V+7FBpmevmY3alDG5J\n",
              "Vkcddz8J/r2UFXFLMQcMp9DlGvqJiDtcQw8+SoH44+QBi+zW11liaqdoCfFTMBhzt5vBbKup/Mcb\n",
              "qXOy5umwnMPmOw/hksbhK36k4gQ4+8lBlqqlttrnDm/w4sBnattoLqb34oZ4PLS7s0ZE+Nb8kCzO\n",
              "HNSKNKv8VNMTrzLNmgXY1cpBHjDIjuIwOwcqifsz3/IAYERPsa8T1gEttJMumHl1C9Wf5h2WDLoE\n",
              "2bKI+DnO07fHsEp0EC3p9IeEnUd25uLcPfmHJi9gxxDSGfZQAUPdfx/1mGOpSEI6291b56I8dLlr\n",
              "dFaQMicgberijGurYfuKfUWdkkkLScSQvMpTlHKhpVsHHc9kWLICvb8LvEI8iC9cj3TR4q8Y/DHF\n",
              "bUeErl1vZuk8pzH1huSys8BHRD4BiIcjEbI9vO/jf8OEF3B79cxMDqVoT66N3x2gTt2LfG2KSniS\n",
              "P/9etRfk4uzEemZ2C8LanAQ3Ti7X6S9Z9vGFtiR1hKtQrM37+o5dwgkG5sDPH/oHYZ1hf7UUCzlU\n",
              "8Ox+BSorBnXqwAFzeJXxx6K0C8DOYzgP1n15AHD14Io9gD8pPceZf24nHkWE4cPbctpHI47Mdtxd\n",
              "A1mtMyG/6/4gxsAS/gLZ5U8cASjK8eKm7piq+lIw6gTFIfoJ8DOOUSG338R4+QAACK7f70bbM6w2\n",
              "6auqn9IHiFwFzVT9bJhppuLRoO/VE4JsRE9FyBIPCVVJEni+83i6MfPM0ECQuH3KqBP+q3WDXlTo\n",
              "uCutRtoUZKp3oluEzDTUiJAD///2vj+JFl6ayK4+ZjnSPgASV8/9haX6YY3UJnYPS+pCYWdieMlJ\n",
              "BwV6ChtFLxIeVFipFzZAK46L/Hexlbm2XcwHTsP4x5IM/Z9ym+s4TZna/30mnkFAHCYIFDPfkmaE\n",
              "JQx/Bd1yhxMABm4lcuyHRJR/j5Hfc+dZvUAPgzrjlKWOAJ//6gIYfYEElrqreViivo4or8s0MeYV\n",
              "HGdUChu/P3hVsJQr6V+7B8acsFeghD6xkpY8FVZIF30/PV0SSiniIzYZK9vVcKesEGL0gqX62Bx7\n",
              "3kd4PJozGdZNQSmvMyv5X/Ps+nf2Q5lH7NzGjUNMNl/GQ7WjQAUJ1+cguKVsKtF54oiPi0f7Hu3p\n",
              "4bzPk4A5fl+/mgish3kyHOobm4EQJRwpFqhXVkwcEBybaTdCRXA/DE8HXp92Whdog9CtOBVdKwIH\n",
              "38SSr2/61kWibTZw8UXo5fd64YtlwvyDLYi9MvE/b2UQdJM2MwFdSqDUN55Zw7m2sRDine1HT/Zx\n",
              "tbAg3rWa2xDaRAgKhjMdA1gaRNMaHb4HYKA3antTD33klvX93l//jW2InqlED5iN+rztC35hGziP\n",
              "0mnvVo5DYeUBhG+fvolTdRkAoaRp+oHRa8BhG5JuDeQaGuxXIGgAQCvsKbHubX1v1Eum5fNYe5gN\n",
              "zNo8cgAQ1k4P/QwYwwLH+axKHdTPag/nBcNgtBn0l+AxYwjF2q+KiS5NjNdeLr/Q4Aa9mJ2gtZcJ\n",
              "nHJWIhQvnaCS+oPnXd0R6CHq1qH6Qe//4AM2oKgal43GSvIjiAzTmh2gOi2UDop1MiT6XE9TeFnK\n",
              "6LUd2sWyYI4qOeAcfeket74LsB3welKw3eTkBShmvmxinmEmQfxunDBbfCq3f2wjdve29ZzWEW2+\n",
              "KW07U60c/0cnatDV15uFBXhTrtnrYIjC0ih/m6wG0ewOw0886GB4Lg3+qMfUpBmTQWohJbjU1PBF\n",
              "1RezTOaEpN/9zNLMmLow6wUkQYOPY8fWP1M5O0OMZbVStJPfDH4X67apic2bJXUHr0H+j+edcXRH\n",
              "lcj/KWSVWXzbCfK2iB1wljhOqiMv7WwlXTYuPnudYMr+w1ONYsLHMUL1QblCa+m+k48QAAUFeFMd\n",
              "k//Z6OB2/bajXJ0D3C5Hj3P+hYi7UoXS2JgXCN0ZKGOq4pVbjZUxfz67RKWInDBhcWYazz0FMyoU\n",
              "8nYDVWQ59MUFeyrAAcGQfoXIPntzA1QeJCnYAzaQYmRyLbphvQqz6vhqyxvlSSylV+QXPJ/D0qam\n",
              "7PTTVJChEsLWjR2buQbtqMjK0YLcZ6zBhSaa3FBjbB4kT5fN4AD6TD082AXFOCRdEgmmca3yTetJ\n",
              "2RLEQB1FBaZScCLj/iSOfGDrq3y+keAz852ZJfPM7gc8bvDOoFByB3SN1v2AAALRYVESPZGwC4Lm\n",
              "FebOYui+CsQ9a5jOaQEYDMpLp/ZQSBhbFpZ1uC+i2Rim0pxnXGbIHJW42hcwa56BCtaGwzPAtAlO\n",
              "m2D4D38tdItP299l93OXoMEy1XieP4RRrq9LqjghialB7ubmq5g64/urdJAKHcwoguIAJDrrpVSU\n",
              "IjxHrDqVbpfBHeW/N9vQczAaRpN5ZmSXhw+YBbPByAGq5inqm4KDrB+CegSnK6QZvplEwRpHBirA\n",
              "zQL5gHyL7z8n5AdGgQNpGXe49zRKH5NHurzfbdSTzQJGITF5qsFOh6wgkoZjEyrXYgABSBywam4N\n",
              "tD+bibNoUog9bR5if02eGqBBL6lZVbytBLSmcDPrq7Itz9wCn/oYE7mnx9gOL82wuw+zatQZuafB\n",
              "FJSFJpGNp3xg7u/14n2w/QMP7SHQ7l2cjxjSjKOyi36UxEWl8ozibrCjpeiqcEYaCG9ogf2u5fi3\n",
              "AnURboOjAy7MCeNnV4lUFP36t2AqoEqJqVmQbY/cvmQmOc3+AQ/pNWtXNhelmtetCZX6PlMXvkSL\n",
              "Myg67S5M7hGZ1yMIrxIcoBLHVPnX2FUKmp/O2pr41sA+mfmtCxUtS6sdUC8eKro7ii5ben7Txtr2\n",
              "tjSlGZf9GZq3SARmrSUPJ4a8+FfedjOrgObPPquzaXwiJ/YPkN6RrX69WwmTue/8wKqwsADNsTHL\n",
              "FWWR40NQABMBDQ7wQEjcpFtL8AAZYsprB/psgb0lt9uRxgM17tNDJIU2KEKgbjacac+KCn0Tz4NQ\n",
              "vf90kp+bMBKSUQcBYX/bVFtj0YaCLd+wpJKTBsPcB0QeWY3x03TgQhbnqCvaqMps2yx7ZJe2+qy7\n",
              "pJdkmA326RNxFBCfQqK4pvPbvw9Gfn5HWnaL1pa4/627SnY0tp/W0buS2wOemP2uqXA9VUfOfMvN\n",
              "6hPbUCE5JMe2wa7zBe30QqVQKRkivMiFgN0JQkDf0J2S4pPb2XhgUMMwbMMvPMgEvaIW72e1ju2+\n",
              "uEETMrQZHiCDi0ns43lSwDPHB1bLbZEwiX3xYv7eSYX4yRJJzWq24zhSU11lXDYPlrmMfHKYxbkc\n",
              "DnIlW0dvfwfR3MS7upUM7HNoC6rc+GyJJ7ZcR/SDz8q0qndNYsHLRJ5vZ5/ofZS4EAAe8OZbwLWq\n",
              "4XFRPohgOjAKCncpuARI5iwa8VPw1yjr8k0L31YWniZyljXz6WWIBqYiMo07Ewdnd85tkg8LOQ9W\n",
              "ajWe1I+rJfwJR5u683iENK5/GvHXdbQHFmpzNsRpf+xPUkcDyefPNN/NymAIbsWHPX2/rAYJG5FE\n",
              "SNN6f8LzgYLlDnpeeIkTpJTw7ty8Np1GNU/NKV9guvzsJ+Znz+5DDr1maycRcil21GJ2g5KkDPYb\n",
              "vu8AAAUgnelMv/bzCDMiK9Uxu2ZmOUuIZVPBc82W9oNxxUrzDWIe5ivnZ/zm1bHmMCqmYAAAWTUh\n",
              "fyjbX+h/OrFdQOm8sE6LzxTjL0tDYTTmxTAUSUD5xwyGXDAMPWTN6B4NTKkQUf5tjjocvlwQODN+\n",
              "d/iu+MONDD2isOpftEfEUhbA352pHDnLPkBc6fQ5xgmnh3Eb5jPlSlRxMkMQ9iaIjtVFgCL2SF1c\n",
              "aOrBJfuMK1F5Iy/yiId9AZOX1bSF+XUeYXIBIlI/QIL88SjRRwSmxSF+mkwoYExGDfnMmafjlDw1\n",
              "wgFH3PZmWgiFy//XQPP1pdayYAkOPFK+jsD7gWmwxfdcVmFVOwyVepytmpgmegmUWPnts6XKgTI9\n",
              "P11GVXheKvmWBEX196bWR2LwIFk0D/9hmYfIint+3qreHjuRkxLhaDB6FfCXs9BGZgrSO/CQiTKn\n",
              "/W2yjlDgWl5Pz3TMXFAbrxLAweO0+D4t+ojISsLr1s8jGTAqmv4JuqaQPM8if5DR+s1+yP3US/js\n",
              "V7WABnUBa5yp4HxK2Ok+AowolCrN34zjE1uqZ+rpQ60lMylJPqmAN3eMaA5ELZAYIPkDAnkjEI/u\n",
              "HRwdU3tixtS9SdissJt6XdXrx44qcG5LKVcYkLKUx1oe5AWJPgKKTNlQr56GU+BQD+xaXVeCyE/a\n",
              "vxt1/DkI+S9UoVgFq20h9IDioOU7RHhXZzvjYXVRXG79TlVi/kLVa+N2ij5+8fC5P0YbN+vFxG9Z\n",
              "VxIBoZJdwRFi7db8MgcGKLmVLx10coeUOJEFVERwaj7+H8pZPoWJDaHbKUuMhs2Q1bo0REQXjYZv\n",
              "bK9E4Ea/xCkZjThkihxK0AT/e9WQKldA1ZkZJ17zqUQFdZMCmnmuatNNGcU/DFDIYPtBSlUBiL+n\n",
              "vKQEPUN05mm3sOSYYNuXaCs3uENdfBVLGH1opBM+5AkxafXGLb87AA9HDO/ioyk57tgAAAMAo4FU\n",
              "n5SuIdBL0UnpwaOzO2/xUx8IQStlMyKJ3PJ9ypEh15Y5eh93ahP29CRohK4LDBzN6WvhLEJlAAEy\n",
              "lHbs8xrZrUNLkHZsZQe/cf81dQnEaHrfFOC/sIMLpiIkal8V1haZxGykn5ofORYa17nMIdxOjhyz\n",
              "CAxFqykY6Hokt2xCIkZ25qOkCJXm8i2qBHgr+nWsQ+I+/ruAXzkdSRwL37kbytxiWongUPdos0Wn\n",
              "URz+Uz1PrE+imxgw5rudirDhyDsiLa7ybh2MI/NKJ0VS2rPjPGiIGvUy5BgGj0gFaOGK9cIdS1NQ\n",
              "Vd/+BXuuCD5pPLhW4I23PNfJ86jVQzki/5Vz/pLLxbmAJHnun9u/m5IDoOTydGOoo+sFK4UB4RsT\n",
              "nj4t+uFJoJO47aeiKVDdrs2oJlMuQZgdJDz7YqGckXce/Y3o7HoFkGHUAYvzfnTQ6gA8IgF4AXvO\n",
              "WMSL//8PSbCZNQI4qYNLgwDYqa2C4Qx/f/wOVJLqkxHGTfl3MvgpMWaBMuowtoEZN5yj/7wPJlEJ\n",
              "hqY2CzwPoPK45/3vSS5jtVmeiI9G0JRZCRPRXUwJATwhY22SIUQoA9gU35Ex9XOZgueTH2bGI+pR\n",
              "N/SWuVVEZLNRB9sPsrdRbCjtaVYLfa4VXIG2fmRWoiHJRkbQ/+Y0mt3560rT4x9Ypo9oN/+jvNxl\n",
              "qcgGCEZToh1QZ6+jXawbAByTsZH03J+gg3aezWwRIBJy0/4yhPumjRyQ8Zdt/jlSkHbXo6vpF1US\n",
              "JcdE+8sVq6yPv/dKaMb61bWh/I41xxLczZLE33QBb+5YdYJimwinROkqfS59beADsrT25BG3kZwH\n",
              "jonDh0bnfwJ0zlba0ruyHSAoRN5DFCHlGQ1duDY2rPmzeXV++NlIykF0l+VXNpBDLY8oZM6eMH2p\n",
              "FeFqw34qvVkaLdTREsDTrSxZSoMfV9TPClaT4cHrfpOVE7giuoz9fynTihulp+eRXHZtfNMjW14i\n",
              "OnSsKWp8GNZUBOUs4QcVR2osQQeii1lDa4IQcf6yZqxdds4D56icMxl5BAhbrhzN/7UQeI83odpR\n",
              "CbIJb5iCjMp0GG7DMghplYzvlrr8UdT1w2tJJOrytcy9U/dA5WMG98Kt913jti948RgrDbgNRv+w\n",
              "9C9BX7GhfvhBKD3/rG+4U99JxO77Bq7p08PqT/KFpUFrWgeOuPRkiiV/My6JuEyRUyAZL//TetA+\n",
              "dn4n+NIvFYof3Z9PmVNGuPO9MLpqMjh6x66CP99O5DQBjNmuVwqvWfzIUDBc+n1H3tnSYaz4oW7A\n",
              "g7xKYEJo5Q1Z9rEcXSEbfeFMNtgx5jJQW+zj1NmfKJ6CywRQG5AH0THUgHY2UlCuDAL7F/7fAqrU\n",
              "xfAeRjfLW6Vj+2I6JrZe1WI+fTI4m/x17U0ghRNw1DnfQ6oKIIMt+QCQvmzraYY3iRafEyPNJ6Ro\n",
              "UqPx6x3ty8MzKw2yvp/H/l4HyvpuK8+PcCPfmghcONDST35L36PRIlkGhLYyhPZmCLi4yMtNfEAA\n",
              "BrqFf8kNp4TloQ0DGfyWtabzQhH8t7tG2Ks+zkHPZPP8F5xjpaU0C3Ul1V5Kk2l8yB3Fo3fnH67Q\n",
              "hCv+RG0gHZFMVqw7z4WB1ifbH6dNVC1DY/qVjcS5Xd4UiIGYRXl3AIOEHFfvfZZavi3HCV5Xyl5k\n",
              "DXNqlpvMIQA/MsGwEIy+dLlmwN3GuBe1ynw93bDCWAWQT15pIWfcUWhLweG+twOi7Iree0EtRl5H\n",
              "1YwoBouqcoUa939FYHSURjORNhahIQLCnxobyMRt1Zq1PI4vGtyR+dgoRS7Z2vAukqS8O91G3CZj\n",
              "bFhv9jRMA5m7b/Gltp0sQTvz6nwKQ/nBua97v5OPz2mGymNYScVqJD/Dl7K7qNBepQRKQiU0FgiM\n",
              "wforW+ix006V0F2wDmjaLniO0KBF5oaf0GnRw9UjHb9XW/+hk4Mtu0e/81Oo4br1+eo5YHIoCrUF\n",
              "rGQehG1ddOtTElUisJykNZcaas0+l0yusZ+pkkexQOx//vfw0CyumuuexN8QkDZDLHLCyqy6qpga\n",
              "pBMC+uVhVQPGsFHhdUrLlT5AvXgH6ZRa8tU1f8unxHBYZiGkxET/mProW/7KpjkRHeQawMG6Sxu1\n",
              "lbo6rSoUpdKLNoGZjq58C/8P/Je8CxbdYetK3i/ceTcNo98/DcHXD4NmSjNB7JHODorm9COSSamf\n",
              "6yvFmcGXSP8PAD33ZF4m6OtfjBfe46gVI0Tm0jl2OnDCna9twziFkLqyYanOF9jyyRlXp7Ncv14F\n",
              "Qw+hGvxsnzh4xtQf9bnW0JYrfo/1s9kYqY+TYQk45wmTWD7irEmiIIYxoxFjzoSwfy2/bRc4x0EP\n",
              "w2pwR7QNX597HYKlo12NNhNcoOQLeCJAycPDrOgBndzrb/j5mFfVID9pDsia/AlBCUES58xM8Nci\n",
              "TtsLwb/YhKG/AhCl9jsin+gf9rtyEQsz9FmkWpnK7PrMaMqSE7IV/HlTrPHEM/EeUQqxIxCDOf89\n",
              "cvvu5wX1vLvUc8VrUIGSGhVAyAx4z+7OdDebbcmaDBNY/5Hdbtlo1xlDWIDqsW4S0XSfPAGXQDQJ\n",
              "xVQbDbPQjV/91+fet9/o1pPmNN0YSLc1Ig37MJ2IBjKwAFP4teYkaRQyhgqbdLuBigv7YhGJD8A+\n",
              "16+2s0Fmu/qZi3PlYIreHP2M/i27v80yvPnH37Kcu0XWlKLB9dKifvQXx5yzC3CuDP4BRw5l5Wa8\n",
              "f/bXUDejdmoVbcE+fwIv4YzhTlZSFpshz4Wdyu5nUSJskVEmG6LOGFoVT56eICAbEEEPSLwtl/NP\n",
              "jpGIgs9f2//zd8IrrfTTCii9waywTcf2Po+XyIdlSJvkk182GWhmAYwG1Q9dqTH6/5BDEfjqDi09\n",
              "tMgcDgupRfp5OBX4DizAZFpwk/V4ZKG9KEzN1diyK8+13CeTTFbAu6I/QYnF5m839Zo0KelEOAKp\n",
              "5mNlvLuSLwyu6TUAy2iE0dlTb5A60SQh+/tIU37TZKKgNZyC3PuSRB/+s2XTqLFSKrNLu4Edt8gW\n",
              "Q8Dp50N7ZytrMQfHlVnjOMBNDF8o1WeE3jpdTaaH/iNF1evsNzwE//byQ80NwF7hLtf0GHPvPqoh\n",
              "cxoERxkHLJDWhZAO0vFIL/NzQOKWwSzMjyMBemgWtGl3ATB6i3sUxbHRchDGuv4JWGk0/MSURtH4\n",
              "q5SVjouRNj7jj/X0szjMaTERUw/wbCxhbeTvahlAtr64WT6Hw1bmqoFutwU8LnNZfXxnoeTL11Bl\n",
              "jTvjkKxazUv2XFt4eKgBznDmWJZ/jIKfB/kFg7yQD3k8cDWHBbxtNtj0t0f6ReUWWrW4KIkXoGE+\n",
              "EQ8tbk0xSww0Yn+EnVZH/gGdtdHLEIzWsGLKgPCpu9By7eeznjjdDn5yU70GXm49rjWMYvuWr9ko\n",
              "Aubmo1OXIscqvWhdH1P7nFe6WiCHPCYtiLcVB/nVCpQ/HRi3ExX+HeMvXx8+z2yneBYX927yTMTc\n",
              "zrRZTYhSAx3c4OhWk0+noXuLwMAADQWuEDEAAAgtQZohbEFv/talUACAORWgBWGWX+2BDUUkDlZQ\n",
              "O7oUsChBq7n+ta00Ybia2b5NijX4A/T6rlf9ygDT1elVGZcz/uyvKGcz43h4Km3e2XUtXQS0sLoE\n",
              "2R69+yQduqaA/aPnY5/+l34irS/P6lWuYEuiWPFYVdrM6NnMCe7TAF7rNYC7CorRAyAef/CV6bL4\n",
              "sobQiPpldsgJ3jJ52AXFE6lCGPiVag3EFLBlHIhvxIKu4Qtw3mCKha30JNGAWl0bZFLIqaTJjexO\n",
              "c+Hjt3zLIrciSj415qAsGtU0QL2DKVPKXbIadvcBh0xrqIGGuS+TbQiWFprUfJpOBv8+jkbQs6v8\n",
              "3WIEbUrt3UAL5MiMzlC1SOrXE1wn+IDnMQpLeX8VArdVj7Fqe9jTtkfalzBfvI3t8KqofiJ5JX8M\n",
              "a65bDsLJY3to/2UqSHpYGNGNv4uoP65TnihXaUGdwulRBny/4zleCSR5iTGF8CjQmwI/7XFp85jO\n",
              "WmZRqX/pAX4AGbYfsdHfxdMVFPm2N9+CAK0sJ9wbCbX1utk5Jud5eH4elWW7PKfmv7FwBpN8BpIA\n",
              "+JzrreXqGVtUtcO+4ni03gWjB2jKeaazT6zHHY5pAzYsIoB0zMiww9LFxnawrQF827/USWDBi0aN\n",
              "/Fthal1DkgfQySpUehrrsI21F8MinL5dvMkxyhbiXlnxqzJ7Nx9L5WzkCgExokVa/xI4QDkHchn8\n",
              "XijPyBNXCfBiXT3mJccLhXHb5dYlPr1eGuIdPDVv69BrtvMROaSpq7DLdfUpAYiPv2xMVjdKPwT1\n",
              "lmw1tzYeTR8IvoWf0vOVN1wNgZJBIhS5DBKJ5Uvjomxq+E9c7mA96bUKxH/kvh8v5+2KWQ3Qa9gc\n",
              "LKfNqCtYkQa+nBfDQoXe7QZvne7ixPemPP3Xz7KbpVir6D1e7ViW5L4x1fGZvZMOPCVQCoZ5vlmu\n",
              "eLgAFp42bl6tjxUjv/D7x9xPFPKV19uv6hZsgbBDQfS2bNrPrwXf6ILFd72iPZWWPDYAtFErsrLL\n",
              "IrEQM0vjgwPhsDY3U9SNHZ09HdcqM04/oqmZjh5mI2SOb7m9IgXvme7EX4NtZKF0MiT7vFV3GoD+\n",
              "hsJSx6CZtjsuQMmFVefHgsT9LbaPJ+BiPEZIXDezy5CFGoZXCDYwiZNqiayz+Ap9Rv7yqkvP/Fjr\n",
              "0e0Cs8Nco4zE2+fw89wUmuKXF7PHKg1DZdXGBFl9ZzDiDUvO28FHJ1ZTZNNN36DF9nhrllLHBeIP\n",
              "KNgMYQZvd8UjmELzkzFTR1QvRWQORHC2p119TyLnF8VqJNQPGJy09RXt1Y39PeW7DzuoIjjrqmF0\n",
              "rKb27wADTtjddg8X6EAA1TyGuxThqmjmlW5yHPPdvMOkrdYua2k/MEPS6pjlXEtA/QGONI3AOWEc\n",
              "dT9Wl2IoGFdiEeeXtNp+xsFN3pJZ2wUTW5TR0IGmQkH8xY3+v3+J1ECp4jZ+NHPTd2yTcHQoP+6C\n",
              "6iU1HpAR/+MPv6fHRN7BqhZv/5+FLfrkAzV66UFSGeQNlRwD5jPrWQSXyHskY/NZah6lv/Rhj8x3\n",
              "Iu2c6qyUThDBJMUoDZPjoI1CfoPToEKVoUZkN/qiqQhhsk9bzhwS2tp1EtgMaslw5FT8Ah7Aaafr\n",
              "YlUcxPOnbBYdS06GKXsb/G9yp3Tlq0CrO8Y16Te0bSd/ZLUZtHwsPB0IvIcgeLn/9UYH/M+6Zl/L\n",
              "JgZBDp2k24JW+4Q68lU6qzZiiO8DIxxRnBCeZWMMdx+I/cI1CHD1ZxYYxjuhidUjEwEq3ogVk+pj\n",
              "icTq/7q0akf5qz9kGxgkgMxhUUsJ6qYuYqNDYDCW1c8LtDsxeZABzUjb4OO0TYBnbF3H23BRdNg7\n",
              "l8KTDVvpOi+IcdNf4/Bp08u4yv08/hBv2wgt1bmT0LINP4Q0LfPviuANKLuaBKttlHnPc6RhIrMF\n",
              "3cZSyl8IaA8K8XwP50q+/UTPM0jP8mxHegie3rMR43gGyyf9TUU5VYc55hZCF3mAtT/OiTbaOwLs\n",
              "mwWGXKcXNxEfnloQMcmeq4aaC884lfIs9Bh3+So1wmvI7JybWcWwAPRQEvgCfAIvBitSUaZyINhM\n",
              "atEXyb2jCmJ5HIV2TgYJc06ItZb557NOdqb5h5RhfkC+qT/yh0/KeF3tsQ9xWFSPkmEBwuXgFC0F\n",
              "N6sjDf8+wo4Qd/fkyizvgwM7VtgfApV7/U5lIAXVs0g0M5XGzD1dY4pa055sWIklNJROOjPpQosX\n",
              "PUi2CZ9bUjjmoaUryY6cafO6Y4LtCtw0fX1XAdM8qqurxhAk8AYXRdGHAsv5mdidMOy5RGFCT24H\n",
              "nuQaID1TTQCPdNuVm1wJ47A95hUSQjZ2Jbz5W9sf/5+vYhTcn9irICC9BaqnkR1N81k5flOS1ps7\n",
              "keWYoOMA7JIbgauPyGNCqgZyv/bl9p7kBiUQM7FGKjZGCOgEOWSa2U7X86126A+J8ecvocx35lej\n",
              "D68wcmtUREUFh9EMSDZhMGbF3vXpcDbwAO+gTjb3AhK6Jdb0Rg7X7bCdUaQ2x0JrFPY2v3Z/ZJx4\n",
              "D1e97KzvAQADDoP2yKlwGHHDO6JimElM2VFJGhC2k9HbHUFULn+eVRvE3AaME6pRatrEJxqC+bkw\n",
              "ZF/0vS9Becxwq9RpUOhTADkHzQLLxE+zvhgI2VZQbAWJYmthpUz7+zy2mQY+tkzITh3WEBbo9MT8\n",
              "FaugTH5hdF5fg1Xat2dC0zaEYNFkd4N5PwjVKneT43YegBdwnFLKrz0pe60wRUKOzAgOWJ9egrtz\n",
              "Py9/iNgmvKrVY0JGXKAAAAagQZpCPCGTKYQW//7WpVAAfOK9AACWt/8PesIYMr6HmiZGigYpqjr3\n",
              "dXE2+5hyaNro4w4mJV5MAknyoafLKP5RfWyMldjpOX8EwjvrJMX8I2ddJISdwgB2VclH8/+8MNqa\n",
              "vgEPYjkr+uhdcxEVC5QwwtJtKvvUDHFbY5/c+tuFPC9CVjdt06UwJX+phKoE8Bs8mKiiyXoD/8E0\n",
              "AAEm65jr+KULdW9BjzwHK/Lx7vavxGHNWc/za//6MglLtfHwKnZDiE3CRSMYExAD8LXOHTRBI15s\n",
              "uMQgQKngACUn5xIlJs2J0ImfBs2Bz3i3OssVZrPQSEhJhN0wyF6pcgd6MR0GEQoDd4Dc8AAWx8/0\n",
              "DGrZX6YeB94NWK+eohcsjY/g8btC9OQZndYfcTzUjp/A8Y+xEqHMNMYZCd7K2o2hJHyoByKYKYtg\n",
              "UAAHc8u0SaJe9i3tN2MEQpUrAPBbTxMpRNdNxrQWPIJKNOfrC3YzduhK7VOMenqIIu3dCl//p5gC\n",
              "VRCy9wU1fwnc3eL4Oj1kuaWEQHCnKLHT/vYMtXEzY1txhmBx8ML2V542MkVDOSMF9+hKN93aFdfV\n",
              "pP5W96/QEWDnjO4jv6fjEISAzEowRtf505ub4zWYsd1M4THIZQpx8LN76AH2bBkgVC9AEZHhW468\n",
              "dEjPek/xa0Frspk0Nz3XzGYgTc/0NxAgta3V4ELP22kEwAoJD+gZB0SuAoSjWSFayUmWS354zPel\n",
              "Yqt+U1qUfKwo8oFMT5fD/eQRox17ONHLBmQzb2FIHtT/FE+AVD1FtweDlktPHJ0C2iLGkIEfy9mc\n",
              "W0+WPWkbPgcx7I3dOCo8dQvjThuitb4V+Vuc1OMt1pkcXDBWQab+dPOlUNe8iVqhsLi9YY06enNv\n",
              "3oey/527QOmsWZ6M/I7bXZVAhVCaoh/NcjBij1j5X6hzjZrngvCClMjSjWoPHRoi5TxzYOg0B3pL\n",
              "J/A+l5irIaifKhq2pi3KIIHPI8qfCdesLhIDbfJhJ5KGhP9KaNShJp87qYvJcF+w8AbTWtGpvp5l\n",
              "RklFsrABSAJ0wACtL+O4KvCjFqxuA4w3m7z0OT4DvrnqxPYSk1jkn9xMqv5ipcLH327eOGFgp+K+\n",
              "Y8fEKob6oQ79PFj2jwPyG2knoL89LHVKhpbctX2MlVpGvdvNUy/CptnACa05ex90/zr7sL3mXFBp\n",
              "0V+6XYS0jR2E3gbApOg1AMwi/8epa1BO7F3ApHEyB584j8ErEV8AXyiIhxfv3SUA9jRTQuk1xkBI\n",
              "yRkVQRYDrurVEhw2nO+ddkgYKUbeHrA27Xk1zx6pCsaXTZh5hqq0pvp40kQyG3AYy3E/yy1jN/o8\n",
              "+4qMyO9rqdiLK/nu3/N8HpHFB7yFvOlWfOKPC9mJuS9vJrMPmLVKkPBn4DSxaEaqT45unxGisNUC\n",
              "gfJMcKK/PvvBWzG6OfRWJDP52m/x3iiwc98HzKDfgTny/6pYs2/Nt2Evnql0nI6a6CwZ1jSK0ll3\n",
              "F/IAmalcGKpaXR1CS9YxdYtGtaChZwzsQEpLqRfdEichH29xxZA1YEdjI1xWEZtTyXB9pDcFsccf\n",
              "wZcAl30VbO203oy2Kgk7OeaaV9mGuCMlOI7AZxVfkAYLnvSXW9ZXmBElCpLtrjIUowc2Vd7XVDs6\n",
              "Ugj3Ca5XaG42Yu2ncVzSSphH2Rwr5+2hxkPfj1yKYkfTU8VmI0xNH9PM5tIE77xpVJ93uuc+pY23\n",
              "rsBmLKxqoneHouVbNtNQqGkW/BqJdu0DKnBcFmDx+aUS+e48dndAXCRGKDY6AO1WFbjSh19grv6Z\n",
              "pt5v7JLZ9Fpkx3c++etIIP63JPVIpGf5Gy6vsUEBy4KZRtk2ZwDj4W3QztWuc2yLG/Vli3CkFMje\n",
              "8rqnCDhziSksc7cgNfgs+xmEPfo3kUhq15Ejd7vOik4vQ6RMKkV5lA/OxfhYn74Q7pDSxCWTKoGw\n",
              "lCzZKGEEcmFO6YA7Ulna+XGbdeWuNUimbMn9gPEboHXdI+fMQDe9vnYaRXYAWKKt038MveyceDw/\n",
              "TK3ZpDWFXUuYnbAiPX06qTZTjQ8sy4wTfm1sQJ+K6jgvuEDtqmhmWPbZlnSDorNSLV7cKo2hssoH\n",
              "FkfE/CzeQ1VCq9uoJXIM+I+ksBEEkCprhhNMq61SiJet4Fz1YvanSqrL4znLUP0kuKi5nnwI8IUX\n",
              "evdfThLecwSMgYPjF01b478vTLvEgku4Jv5DrxTssKbavkrPEZyriSevNRxGJChx3Jck0nqNqZKW\n",
              "OE375wAAB0ZBmmZJ4Q8mUwILf/7WpVAAfNTqCHhU0AFmYR+6uJODcS6kcvV5SLPKW/XgOJSgLDvI\n",
              "If3KmnCJElVHBZsJw/u3OZxBwUgznFG4xtHKhj5JHnNiLzRto9QvuAYxGHyLMXyliz1PuAzuVJ6J\n",
              "9fYd4+33b4cY7i0eA+9c9JzLF3hJ89/mqrSNAxg3QRNg/kWPfZEEvXC4YPQ4jNIG5/9B07Eoci9q\n",
              "nUL4J52FkDEDOl6Y9Xwe9cG8JvB+O6Msk1OSewgwxNye21NkSaJy1hIJvLb7K2n8WZwAUDEIL+Py\n",
              "CoEkh96RlT8fgpZRn7csLDZPj6JexBmlLs7/eIOgZo09pbY+7E77FHRtF2O37hoIarRPes+Q1VJs\n",
              "YDlnrZ+3D9sW/QN7N8UYjwnsT9nHSPP0d6YNkgh3ERQCvJ/4cGOaV/3gigq+dWyDrXIrPu+IzhUc\n",
              "e1rzX8N/pqj+L9kyBIaSjXLwCtYwvURqzVDc0b/sv1trQXVgCPiYvOIkaHfoi1IU/fAdXiByUMx7\n",
              "JiS87TvI/ZnS3vZZo68jmgrKrClMiO6SVtPpWiu6Exd9onpFdnwCoslq1Lq1uJKtFFi9BNIGfgIP\n",
              "lVFBW5a8JIaAg2TpuflFefiLNGRC7KLNpgyjL5gEXYMxX9edARfl9L6/MNJW79YzczFGV1Cq6U6+\n",
              "bf8WADmwAZaFrJDHSUhRIPbcey6uE3TRVdkRa8JkOdRf/8f5Tmh+xwlNPTL25xnDAf7qZPc+sShL\n",
              "ro61n5YpaMD1QqgWCZZcSwGMlGrTkzKqLLqyzEN4K89QM5boYlk+mhKqpibXQzYimARIN69/FmwU\n",
              "mPXCDwVL0BGbJA2ggX7dDHeOJNbmNqcfDC87Cu6Hs5iAbhg8kCXHQOkiHYw/s0n62abn2iKTeuid\n",
              "OtWIZNDraOpyaOrC0n0Z3XypUKYWWY/VXpmReLoqmLfbwMOa36ddod1KOTqxzBe9VFbtfjJusUo8\n",
              "5yC5rlkFHJNUgrnqJpL49vAOkkLt8SsphVi8By3ci1IB2rBtSh0ckzhSg0FYgREuGBU0IFnbVGJU\n",
              "lU1/VAQO05S6AaoO5m7IBBppUZKWfmFVGbBbaoyTe1936dM4DbijtZuisblplkHLBmqVywc/I+5g\n",
              "8Nu9b09jN8PoirXX+xo5qYmPC3H3MjMrOgNBvHCESZQcl3P//2PPTNPOJLnXGwWVZ79L0zEpq0Sy\n",
              "YBs2hSUIxVqYoWL29uCJ+sgkwr5EwoUqy8uDG/Iak/1NC4LLgOVpU5II+Q7R862lZpXQvVlDIKdd\n",
              "LEaCWn+m+de2kOjPl9rvqiNT+geaso8dcCRkUL8URnr4JJdmgZc5yC5U/nXCs642pxJSMgj3EhHr\n",
              "UyrF0q4IR9L4ecScF5kITTNrBVSB/op6VPNz2BPL0cbxKS7IpdRpBftyUnvYlb5897NrAB5bNuEV\n",
              "kvu06cZp8D0w+LiCVqqLS2WCWBUh7yex/B9aztQS7Y+Rq4sfQyMrTxDXhTNeDenl5fi+4A0J+zZr\n",
              "zOo1zVAkI4W0DA/fPlgPIbb5koWhQtWn/qgAt/2UABEF2PxbV2zeSiWK3kwNrS56TOwtkiyIMrE5\n",
              "Tdir2Ququ9RxPcCwl6YouHLiiBoI2bFH2OyeDrdZmqUD2RmkdVN4+NQG6lz4vxlGquVx84IfjhAk\n",
              "/a/xkTUDr6HrMbjoEBj/WtB8+7ZblFQpNg0mE5csuNlGwteelqH/2M59ve36de7+6/T7cOZEY6qu\n",
              "S/zR0HgRcMNu93bA3oYQXBde4kaOUwIG7sxZTqnTPvek0W1fc0XZz4ned6yFQqecQ6AwemKTHUH1\n",
              "UPL9uE7CvFxGBUjtISURRL8cTvGJT8/1dL+7eH9mWC+qk2eA2ThRQzH72EwHSg8s4MuyhZgD58jB\n",
              "fi2q1t35T8tUeEFpRCq7ARTFXJaBMlGIKhBkf8V/MyUMClKUgQK8sryyGD192jAy6g8eg4glczaU\n",
              "T3YctZv4kpss9eICfZFCGjosOhS5K7UWfszMavpYrDW4Xv8xE6z6kG14IoM1UrzExlWTqkjK0AP5\n",
              "0aUbW5YJOMRwqHLsXxAK2eT8CgP3TndtmORa5GheuZ22t8GBGbrdD7uNdb0G8tQLm2e4VC/NgXBK\n",
              "Z9OLRhoGeKn/oEElO6zuDy4ooLUOxsbAw3fHSSUp/zCKm+YQbC4ZUk1XRS+FKlJJX3chvbQIYVrX\n",
              "W2R3Q2fQ/MBz0woQX7+8IhmM+ZLOZqT/yVJtSXljKB/aSPEXMcvKb+uTU4B38g8j15eifXYcwBf5\n",
              "hjo8bkSE6WbS5oQ0XEIw/fPrBeNr1j+LrTZh5RRdEKkdGk84DG6ysAQXNby3FbBlBXTIj15pRh6b\n",
              "YcRuyrIVcPiIj9cilakBwVadjainlvR5oty86qa62FZjmrNrQ4HtKBPTTxigH76R7VdqxrOEcVig\n",
              "ZNlOzDzxxtYAQQeL5RbYHLSOymD7MS0vdraAesWVbSC2644ENTfGmjJB4wRQ3gAABU1BnoRFETwU\n",
              "/wAAsLKLD7Deu4JqYADl42TyknIHdrSzrecVKRUTEuZV6EEOESgwQoQf0ebOpX2WuQiloMo+HB9D\n",
              "3zeutrmTlgLGXF0w5/mCjpzoQSGCNbNRu2MOKhxxaUPZ0lkysoIn5FMzUPmUJqyVuRXKf5Htm00t\n",
              "kZTSuc1bBn0cCMVJNy3sHZDwn5lZb+RGbWAhLuNdk7oZhAYM94AFVC/JXtBFPT2CtVnVVE/8/euB\n",
              "V9a3+Z2BMYc0Jqdrtl4NaVKBYWXUm4Ff3/9CETEku4yDfRaFLh8sMf/M+NbvVuc699RupC7tavV/\n",
              "9bsyn27rQoARK9kBeg96z4zjJTjjwjoTGHg+Ftn5QfA9phb/IOWfVewL5g0U7xSuRmCHQtOAQzQX\n",
              "ncUW8Hx8cN2jAFpW+9WcqvWQ5HylDQzvMhL92Ekk7Jmt3muJrfRgGEr4taI9C5UsLvhW9s/EhKYU\n",
              "SgeaCLjFJ45+VqKNhmx8lRRX0aM9FAeIvMGQ2N+SoYD74R3jdqAN1EuI5Dd310XDve9Om96Z7U5P\n",
              "YdJbwfE0oWerlRRp813SvmdtuxYzMGtX/VQ7bjXO9MbsXOhOQWCbvnRezC51g2KsaMFJf8VWOgTk\n",
              "Uz2AFKJxcG41X507AIIKGG7Brqf3uRZCRLqVa8ijpDcOMPfEy8hnVn3HAb5ErIJwjaO7Hb3bsxuf\n",
              "AAT2aUcOlwCK1pzkTdgW6toT40hMtixGL24hWgWUcebKeGrN2SnwJaSmkgIg3TUTLJUDMBvmCEI3\n",
              "gZc+HmS2SR0GNNcEhFIDZGqW4piO+RW+rizD02iRhktC9hyZ7n23XY9YDOPB8Tx+1TPXWOsMG1/i\n",
              "hsT901WFrCHIUeR5NReEQirfggRPUtkl8r7ZlNgRnijTuRx/JlQ9+Q+Wd6uS1HuLqJnHkfa1opaW\n",
              "y7EW8ppeJUV983pFvamxzYV8iZ/XsJPQzt2FmX/5SEbwAHgP+pve7nokNrH9jTDBxhvipzS5/hc6\n",
              "3dh0tkqcW8Xekv+033MbtCi33SUwsS5GzJ7pAzflaV/Ejp7e9Tw5wvSkjrFqv8PrNUKwMK3CO62S\n",
              "ka6AUgB698N38JKPMB9GsH2xPLNvNEqSrA2FRz+BoYDm94qH5XvQa/okyPnswL87nwmdEIdY677c\n",
              "VyXavLjmunaN3ZxxRbq5aIK1E8gkfhjf/9dy/Yvbmz/zmSKrMLdDwB6oz/6/Ip7HbJ+lLzNr8M3k\n",
              "eEoi/w81ZYaLqArbzfoUEKMq5UMWGTmMw5flw21YYRmQ9Tvxa3JymcSQX70501JQLst8XQxlYEv5\n",
              "JCSxO2cgBvQ80j1qBy5HELgZHMNf6aZST7Wqaj5/DqgtF2P9p6IYJK9Vgndh5NV6nMBmDAq4yTVq\n",
              "U6FU0zjkEw8pwrQ/wbrd0ar18Lmhp8q+f/o4fiKzmMj91H/6HVQia0HYIH1OFgiS/PHKKytdwFDb\n",
              "mv1gh899K/YKdfQDf+absdgaUZN9ylcL5264+3R9pzDXjsDzbdhLV1r2MFAasbyIHpv2+ChS0C6b\n",
              "MfWZK3yUX1g3mqtdnTk1xSzQWoSnRYnKbsVeyF1V3qOJ7gWEvTFFw5cUQNA0bnUaHtheLKNe5UXu\n",
              "xnAkd9BK/MY5kli6bFdEPQuoloEkydrqfOhhag/5wbCAZH6ReanVskd8eOtkZcPIj6o5l/dHRpsS\n",
              "CWOBbDMSRdNMUrjgLpRPBbJKOaIlfyamr0thjIOU/viGoF7OHWySPkgqyE+Jw3IfKmP1ovQMftUx\n",
              "PJpFtGnG0cg8dXKcbAzbJQAewi0dhWdIkTx53Ar0wBZecYZtRhEfAAAEHwGeo3RBLwAB1OlUgpYL\n",
              "/6rQAEKo855AFzmD++b5vcs5raDxPeFf4qYOrLeZniQ5JjqEd4xR+vHXal46X0amE8i2rAEThXk9\n",
              "oqJa6pskj3i+EkdVlzcwpB2LTEFMM/4UthtNOFQPSPydq/+76Jp0lNp5CJdnXPwMLhj3oZ6qAD0N\n",
              "KMHuFpxO5w34tj7dVZT6uFsCSOJ9Bj421c9vtk7d2dEJReGOAGP/ZgD6ZHBwMK2Ix1nWbPc1cez5\n",
              "AS2ip66PlugG6oYOxsl/ld8RS/v5L/qlovYwabQb1izgLy/0EjOym9JpEGYr/eORbDGgrFYq6KTN\n",
              "z+cPmCiP3dE7vyXaPvN9HN0hZ9yrRA7hybGxVRSBpJp9lVBMs1EQFUwiR4gNYBpOEc1OQydtz/N5\n",
              "cXAMpOcbpHvPpwdjdgLbUC9s1JDvyWO1ZlrciEPtWwUDMPRfddi18KEijCM+HDQq31sRCa2Elj8z\n",
              "6B5KRo7oxzDXO2HOi12sYyXEbJ3DaF7z972btr4hdRfU7M59F+FJ9Zrya959qu/KyiLQXPk899EJ\n",
              "SspS4x9S/CggkDAjBEZkJed6C2AkzkOU4jv+OuP4tvFY/wXRot2fbc2fRexToDOokbNUJ4I2yR8G\n",
              "1AQNC2jsLYoaYSKqYLnu3rP8+UGSmYs+LPEtkUlIsvzKFiR4T3qoEZtS1mnWKvCH+P2bc54GjDp7\n",
              "HlGyJ9+MSLelPdOdCuqbk+lJdGoNwrd5xjtWnNHdu/VqGW1kmQkGBZIz73Jqa93E3/R0v81Sj/5r\n",
              "YeLSM7KWFjm6QVZ6JkuPYgUYMFZ6xgFxJlpgmOJJirXwrqynfCPBiN96YSBCPb58Pvljhjojc4LE\n",
              "HJ8kl1m10+Ca9Mfc67QLnTQvR59vW62fNzAG6gXM/cXaF9rSKjUsz79VHqiDZaFT3iq/uURRfD2E\n",
              "ribuEOhusAwltBaQgAM5cl3OURrZSvUq4oWY8b63uxbBgE03ZrazOOJLlnmlAn9WVYb4bDv9D45I\n",
              "jaGSXyjyvQX/04qEuDFfRi3y0kvMEOw6gAUPWrzWnfSLJhxPNWtIRh2FwEYLhQMj2CRMAD8oj4pE\n",
              "Db6OxinDwqXRwjgA5eueQ2yFpHIBuyfOYw27Bt5estzGkrLs2tGvuYS+efh2F2APSMw0ZME9sWge\n",
              "vZflEwGBrHc49nx4BIMkCC1stkDEEF6NKM3DFHOtluZp9/Adk6AAu5KfO4uMGsMSsnh5Y3GcQVja\n",
              "opiOBEnaikUAd1yK1+wlyQQnlbyIztjaYfu7p0b/QVXReDyYIi6GH2jg+3QD6NAY/6oWZkPqIg4a\n",
              "QIJInbsPdSpTrAyMzlsEhiF7EAgbc+9bPsg/YACSULcvmO414IQ1XkAHjKhMj88pwoL7KYfiNTQ2\n",
              "3+B2oe7mAOj3hsTMIpuBAAAHkgGepWpBLwAB4DGWVXEbCgAhKyknF/CNxQZP7WiRvSXgyvYWEoP1\n",
              "/KbBMs8RRui4kLtF9epdL7oTcWt9WeDzOeVvk8z6LuDrt4twpjdV2d0mILvBD2qjD83jWh1EK1HU\n",
              "961/a4WcoUOAGBnSPxmL+qU2kIzc8CspiWEQtD16G3/Mnvt3O4fyUG62ovp9XqPlO2UGEuIuPPaz\n",
              "9+YpDVIE+o8d5h39D21gHqUPAO+xdNha2FxmCMZ7Pm1MddsoveVO3tE1V1v/J+7GDirSj8P//i/v\n",
              "9A3HJGLmpdVJfMbwj2dmiu9G5htJXIApjcXuhJ0dmzqkNAuHz9FX3rjBkT4yQZNj2fdWWvzPoDuT\n",
              "mhz6y4HwJmVYFZN6PrzJ1avUsArRauIf0IAs0SFU78ygJYaxTFWgBfcwbkBBExJxW9v9tCsMkwi8\n",
              "hDEwrclFCcCAIpZFcpc0NRyH51ThJRt6IirSPJxxz/wXlj5gssFBrVXlYAslP8s2gn13efcXuGaZ\n",
              "azG9RbAojZZjVuFSOFfB+s6MX237GrsSMsffAFXV92Mk72uAyQUqF9/TYpPtqjf92VydJS6NCVU4\n",
              "wr6/DsvLu/v8kswTgzf0f8mN5hztzaYl6PKTRu67gEdS/NFLwqk5pibRBW3sdFXXFNte1UsvcYGK\n",
              "UqIbT6yAtf141ENve79xZRItvh/UN+wCtO4qSlpZwcDl/RM02AGz0w1p+l6g6pr6Cv1hIF0URSWS\n",
              "6QHfjXC0Fg44/Yfzu5bZ2r67mEjVkhaoR43ra5TWvRGpSKaLq/KQwl4wFevqTmSpHC0AmrleP7PM\n",
              "nrI2Up5ISYcsES3U/+2/LHT9rMEZ5Zfx9DFlyDj+vHTT3go9f0r+FTkxgHm2DlqdwwaaVCLRdXPr\n",
              "6vaLEMGYgxJN+nRHa5Y8SQQw1V0OTOLWDJOtIsHfUiPSL7/BkE9jN8PpVT8ymHnhcmqU6Bp0QUmp\n",
              "mQtgX8xwKC3kfdCfP+WumaecShoBqslBQlM4eyhjVhuXg4EGyo5GajDMULF7e3A7N+hnBrC/uPy2\n",
              "RMYwqS6Vo5qtYSaoRxPN0nEogKHaPnW0rOfTVj5QyCndaN7Drmwg3nL0lb57vuY3aFFvuWTO7NdO\n",
              "htlMrY9cnNY50Qq+ep4c4M64uNy3oQtmaoVjzcHtk6IMrNQ9BNWXvhu/h5fSvo5lAZqPRaX5olZU\n",
              "EKDi85kND3Q9+DTgyapcfM0cHmJqi8bMgU0zw7AH81jeTzhZy4YT/G8bW0VY+yqAIf5Pq0PUhqyf\n",
              "Cj3YvBXWz/BTHH8Vyi7MpD61bql6eLDx4a5j8rAL6O75QWoPUXD6XET9N5AeTkiW2hg2YvzlqWdv\n",
              "qwPGvwJIHljQt2L2uoKLimoBN888wj93+BH/+Nu1CvVNqQFze2UmHSS7u+5dWVDxdga6E/xE9axc\n",
              "0rp6XSCCeapvUUKWaVATrqKzpYVpi0Nxyc2UuvEDjcB1q2UlYawYW2hixCxv25g8NCfhzUSeprHl\n",
              "w3JopG7ga+JTy70FNaPZEVgLmg5E7oBEOum6rOvxbW242vn2+M1Bx3uitk9kWZ/ctkL80RZ7xYhs\n",
              "oz2EJUEzShJUAxHLTEthz0ULEkhAQKUEC2ehA1Oz0v4ipnZWGq1YI/PZ9qdzt93m5ioBPLjX0Uq/\n",
              "cMZGRFgsLEG0aWsxCLmVTjs+vdxFgGAE1hUeQBrVPDHkQ4TPbD31rfXmMECExWbYDb0VaoFfCFOi\n",
              "iLGwv5xqCAQs7dtd3Z5guCfq04b2SFXEff6/7HoT5Cl10PmgJ5Po/l5lM7reYzkNb/8hWMer0Q4J\n",
              "4Mb6uY3wAP3ps2XpGJQ+LVaOaoxItb6q0+xn/gMyzVVQhNlcijUyChFW8MdgqoOKon4lJueBc38h\n",
              "GlAnerFlPwn6rAN2+vHvwf3ywjQR99M8SC++JICEMpilN8/NyrjKlZ3aJpBt0HxS//79P1WsifBd\n",
              "934U1YQjAPix7trPIMRr0VXrpo/rsfFFHMflYRrvN4P+DA5V2F9s1zS51wtL+7UZnhJxxxRNQ/NT\n",
              "+ZwIWRXuSIPtgYw1isFxxCq4eQRnicVamK5oMnPkeaF5gH8+pNz8zzVHH0mUOXPczB2Hb8lkn+nP\n",
              "20PM6bQUfNWJSvA40Gb5/jzPkGv28nPeizqVdGelWZIsD4zaJNahpudf1Jg3Ad2Q+B2qUYcJIo3B\n",
              "4ApvEBJiELudGaWL4jifrPLD34xZG3mH3jzcb6R2wB1itfOyX5y1FAoH9m5MbGw+NvB5oqhL/4AT\n",
              "tRY+w7BVMVMo33veGkDP8pi8/tNzU0phpBxJdGLVhYgxhaR7PNXBkAO8c4L4gnBXBgEFzGVqm0fS\n",
              "b2vSBTdXMTZTrOUHq+0FLHDNe+HKkgQN6+tETSKQTRmMIh/9J0WgQhM0xcgA+uwDGXqG4g54owQb\n",
              "lW4tsYd532hR3OCVNuI5oZ+QRobj7XsXVEvdGISIbuM6U1y+DH6h2HY5mDtjQOD6XO6pVWPNspw8\n",
              "tSGOyZ7Zyi2LGs05EWwpY28NtaVBl/rr2cCA/MxIMpbjIY3Y+hj7SQnRJnWYzRMNkM0nyjQyzr2V\n",
              "YIdbgAWXBwswpB1fCJDGuRZWQQAACk1BmqpJqEFomUwIK//+1qVQAHzig6ABuMG+/jHjerZNml6j\n",
              "yCi75qLIa8z0RCR+TOeE+dmh8FJyOWMxFa/jRCI+XPJL8jOC6rDm3MikTeOTs9l26a6WncBCGz0m\n",
              "0nNK9YpG3GDkhWxaYY38FuMezGpaRoJhN10UmC3/LpzGeA/APczllLUlwbToItXOJrSKAS91hORG\n",
              "Tr619g+mHzk2XCa0inAftpREh8R8MxEw02V7vxShMVZ1nSbnBEIw5Oidaf6NGaErjYz4fe9hmZQH\n",
              "L1hQZYWR1LSYnZx7b2M+fsaGgw/vy/Cd0suJ+FusKACnn5BT8WZPpktECAYXR5nVgojFxz7gk7Cx\n",
              "bNmLTLC8dDG80oyk7/yNxdPx6BCd7IT6Z46Ns76GHuoUWDsupAN+eaDsmswu1568WLWvfc+0GAAT\n",
              "eXo+hmOo7GaU1GcoDkgPOdRur6K1ihuLiVmn+iLD4vQNyofjolGOl8g0n28y5ksiae1B6Fgziwak\n",
              "ARILS3hCR9hocm8DOtBjZKe41OPx14Ccm+SxWZ4OSsnzdFl5FsM6VsW0A43uhJ9wPB57zQt8J1gK\n",
              "ykkENy+Ne5A3Kab25Q7dUB6ODuWzbV3dn2zUOtWVJx8/jIJvVbJwvWBcji3/5mX7xS6A3o5/BzzO\n",
              "k1qJvntqALuoZEvsqVB57JhSdgkZ+qSVPz0OvEaXWW2XqGj+wqy5lio+oRzaHqEcaQMJdiephxuB\n",
              "9w9vDhzceaSbepEoA3LRnVWIYxGB+AztUUf7kCKRN+xUMrhBN4jvf+ECSsnaNuCNtT8cH+OYVgpX\n",
              "CBFJAGKpoX+8qpLz9Tyy3d5VNl1cuF0ReQWmG8dwUmuKZ5mrOdWL7PDXIF5+uek4Uy/UkT+wp/WH\n",
              "jxaxfZ4a5HlVK5WYLpRydWOYL5g4RgwVnhrd9h4w+cfqSJ/WZ/C7C91i+zw1woii2kQGTdrMT8QU\n",
              "zxrRLaAgaS+vmXMqDGLJp46GhTVvl0T9paL1NLzHSPeooyUM9XGwNkHGIN4JKwtYFl46EI0Jx+aI\n",
              "lApx204DXhiJ0aXquvmSclAzoYlJ3ACS8Aain6dCQJC2HYe95lYdkoOnhCdiLuQOAeku5e9ZKrJ5\n",
              "d0Xd89kwaB6rwRMriEjc2/IdghsYMdxL4GnVhW89sTHpZ68r492WD9pyVfMzq2wxyxf1BWHJw/Yr\n",
              "6TNIDr5N5X48bud0qvqAN9WUQu5aXvQl7el/aAq55hby1vY61h6/8kx8/k+Chjby8Gc66D4xFnRR\n",
              "iFToWwyt3L2fH3/WE+MJZ6FDwYH7EvxR6wBYdiYoumelQ/nrjuG+e1z3u0aamXHG9ARoH6vwKkP3\n",
              "lVD4d4PZPJf1BpqZUI+eBy34ql7JdWkRbz8LNkLrGWnFjhUOmoA0iyCWKfCvXDsHvaxtizo9u0l1\n",
              "4HX9hZNDlkrJ9O/TQokSuEg2jcYp6o4YJaczWFsTu1P4J+ciVn9EpVERJ1OxmjayBv9Ch+dS7+IS\n",
              "GTwslDAaLeD8FjIApCBqo2JrzwlAIqBZ/cQP09nYK2gDVJLXqCjLL2eMzo/uovLfaZsrFrjy41Lu\n",
              "YsCBZkHG0/yJPt9gDTefVezylo8ccl3bVzFmGE73bnxqRNvSWHGsEXw7srgy9u/9yzDoIxsVAJ8g\n",
              "phoafXdv+F1HAKCH2KlNVXxu/JJVMNAeFeL4Xb1infwBT07gBoM4vE29pjq9WlgqN2rWly/H2FVK\n",
              "GbONUi34BabzjBBBjj7VIFVyE74l8vnTbViaxnSYQSd6Sw8ffo1EU+CPjSIzIRE/uLS/7w2WzBAS\n",
              "2MsvhxAQTCGzogjHIIrzM4KCBPMhNOgkyQ6Ki/56BjSNZySgiO79slrfM6wc2UmhvBClrcZ/PQ4E\n",
              "AR/ANU/fSeKrJqpS7AXrf6PeJ1QBdWcUxfAyiziBlyx8F6XiwuEVIkUjoUJWMDeC5lcsoMx9/Syh\n",
              "4+ugTZ58EUY4/Fx6I2B+Sb9hEK4gnFJb7z4bNR2eRQShp5E75MKDvd1B/b1DFuJPcHh8MbqR9IjG\n",
              "+ODUJOrRC4DJGYQ7FvDtDancIly8iVFN1V5stVX+ABGTRON2QZ8tkv53Vm/2WQczukFAiwlE0Jqu\n",
              "mRr5fqb2bs6vqh1O976WttqQrO/lfwLvPV1F3upL2/IUegTMxSPqR6kIPTm//BNrqNnFzxyPP5fV\n",
              "eY+3aMVG8PgTp3AJCGCSsJvFz5S2vVRCaiZjDpwiW80uUXyb20JWCjptAAHjI6hBpLyrWi+kD4cS\n",
              "pXKCphy0vjvuhK/0IAFj723XtWIb/Pb+uziNcGS4EMCvCAyYTExAr61ZFOso4jMGtbaTKofkUbVT\n",
              "xp02OPtpmWNsYwCzMNoEOlG6Z+zxj3mmZprvp1EV8DDszM5yQe2GX7jyQ/8q9puiUbp/2XNDgDJU\n",
              "TEDWOuba8wxhluBGyGiRnwpGxyVGxsgK/kz0MYIPSN5DD/4fwoK5T9BH9DsHCBDoHn5bZ0XuyiFu\n",
              "DPuXV7xHgZwS3xxqAd6e1z89DkhqVICo961iFsX3pWfUM67JBPwXqvdyqg78cdjLhOKorboPITyn\n",
              "Z4e8GeD4rDaFreBqVEp5flCmOT0huK5j+POUGuG+otLCtTYKtVS9mt2Nbbv6PjpxJrDFc34trbvX\n",
              "+pDsoN59d7rvpkSNWXdPZ243TMNyQ/DtS1RyjWlNoOKhVtqCKoXwEtbxTJDzMCFGIh91lMz/a61x\n",
              "O/3bPkMd5FuUMx8D5Dqiqwo3jWsewNt4iJdOBoq2NvY5Pdi9WLdYeTQxmWYPDF2HR2kwrPdfeROA\n",
              "ZkteSTTXKy7GJtGm/7AICaEYFYp4lmDV78eVtn0Sl4wA+Zwg4OIODK30jUrjfyNIFl/Ts3jTxw1x\n",
              "wfZWJ4iBtdHklzY7/uf8xtXEQENPEyxInrqbPXku4VxPQTbUikP3+vMNuUKiU+JOwF3rJrJPuCks\n",
              "9pnJp5YsxUbj7ZpxbhLfo5Q0PnbCmeo0zyi7S5IgcV8YO/F+rX5bkA+/FQ8nq8MveGgb1DCsrFmj\n",
              "t2sGDYAp+qfVYnIv/kc+Ci7tBUCcokGVMzEoYBg9idF3INHN3WG6dPZ3HeasjES7y6KIrf8QmOtT\n",
              "9wDCoJh7ITFCWrbsOjtJhVthApZvkP2t8PNiGfKiaPRmO9wE/DFtbek3v2SFXDHj/vyODp8UgIAl\n",
              "0WMc/h6qw090w3yPNn34LM9U7obX1L0i0ZaGg3Y78mFJmUSDuXRGN02PQ0dP+B6zBUn5SZOZ6/h4\n",
              "dbUhmpW6bRmJyKATWcqMo8YYirUE5w5K4hRJ/nVR5eX56+ixAwRGHM00cjoKXRaqpNsQhcWkvkaD\n",
              "euwQ44hApWmy8Qkkeo2fBUE5vn9VUmXndXfvu7OCSOlUigW2J1VFU12/IEt8W19gAA3UK2yjLAFy\n",
              "aR6fmfMW0Am77X7ywZL5Gz9FmNy0fToA1FgYUieCCs4Vhk3Y2nrDT4ZbPS8VdyVJobm9PDlrAkiZ\n",
              "X2KvkDP0o6l1K4Qkf1zI+v9tWCx2gA3cEC2L45WwMjX3chGYWkEAAAYFQZ7IRREsFP8AALCyjmfT\n",
              "zAAZWv2mDQEt+ACIZDEAWHN40Me1AUIyMpubH+Y7KbYaWWvv0CtUVMXEX58cnmn8yW9/CfglddYd\n",
              "hceqj9bZgGHyFwO7xNyRfeXEWJgOHmPJKN1H/1xUU9g9RymQAf4MagA/uOSRcIQf1Kx2BHPZAnbU\n",
              "N2qwoTo77iuKcbLDa83QAEsBhaFP/mO5/i9/SohG/t+yV8+yrbk4QQs+I1H+9jjuelyQTG/XskQy\n",
              "RBMmTQUzBWERrvzXtmoVYoNzt7kbp/u++KrjaZoYsT87PdJRa1AV9ZtbbDZdeD+IJ8KZps4xzdw2\n",
              "Q9Vi/UKJzQNu4vbo9OELxbspJ3QVHrp9MSENqIKGCJ8okLSLPgQ+GEci4nYsccwza62piwl4MXm4\n",
              "cQQp0bdN9PK3WJ9IdSaWa6PuYo3WdShvE7mZge4x/kOVtW58q42/gsVhKzKB7OJxRda2eOmNSEYJ\n",
              "MUJy9f6wHe0a2iyv+lbdu3EW0S2hDeQvW/7jz68tIouEZGRkN602qdndm/3wIzlqzGwYfYwqTfGn\n",
              "OXoT+QCxBUuO0+KOw3DvqVXVFS1REvdNTClJTi5fev3hJ/rQEwiBgqAhoTVW5NZLjgu29Zd2tcZV\n",
              "bCEwm3jJDmykaSw+nQp39C2cij40uO8F6+Dj9x08+8nm7VjUOPpwO5XlDm+6n2jgxtCYM0F+rgzF\n",
              "pm7U3TjOOW3H5W9lC0wJr3y4Tukenxcn+g1YtN34JIpX5efVyHY0tHSo10aiEBMztXJFB8Aypec0\n",
              "ZmdosvU1BWUIPTal/AZoqcrwEueCxTU0gWUoctO9MVsXYrhOTp5++FSCJbAz2hk2gNqPVmowPMFZ\n",
              "u+MGQC8+PxlREaOI92hRfGCVeYxZG3lU1GmCg1jsQ805BWE2xnEsgY3b8eRFUlybuJgLkNqoO/VT\n",
              "zq0DstvwFaJtOwhlkor0ECxYm4Aj5kxtZP1cUhO6q57q2ZSvkBVtRbdCRK2/TsQVrkx0FGsHEmaM\n",
              "xjzFzmIMl6+zytiEVA4CeYJKLiViJl6H1ZY+qWkVmZvesE3fSJd6WBg6tqYtd0YuYm9cvl4BjZl9\n",
              "gVqp6D6owkA44lJFM/5yBmVECND4CWPfPaZ8MvGZQtUQkaboLmLoMQyPnSEaMVldFGlwYKBWVJ2W\n",
              "hAqRqfWtKwjvqS4UVjFBi92BuPonKGdSzG3g7e1qd5DOCFJpG3ca5DMasduzEHsC45s9egdbEjLe\n",
              "llrKvdsrlsz7q+TCEiofjtz+T/68MhSTv6blff2UTzEfM7TOfW3Lsr4YyS9t3oltIgQoTg8J5mcB\n",
              "m5jGYM+ZMrOOL7q8Hplkrb+46C7cKAdGVJwoxF7CTmLtgcgeJvTxzpbFBaidHxd7l8rFyBsT1TRQ\n",
              "zyvfSIgwyxwK8XDuZsWam9EO4c9VAqeE3xZ92sqh5CdxOwRzEDSuDs9S3ikpOD2K51BebknE5Uoz\n",
              "6Jduk93Qg5QRXFnh8BNOFgSfb/rmcxup4HFMW+9JCadF78AWqxNRxM+ciHiXZDd9p6DBBMrZLTPl\n",
              "Tlz3FcbGgMnp/c90wyjdtnR7TRgvbA5F601ApiV7erv4s9o59b3YKumI2aOqJDmiCXkMNTMtCi0s\n",
              "Q7+uyXMBVuajbBH6SXjVkxKHATLWiDNXi/T6Cx0H8a8SRpeOd22q71+NVkclxn3GUncE6i0R0Dlv\n",
              "GVZezvejtpycOpUkmXfXWzHyHIc/D0KVjOCBi7Q5BddHMMhXKgDyOuiwfI9N8Pzx0ZhRMVhecCWP\n",
              "RKAuMAoLGmLk1ienUYP6hcSjRInyfu3Qyjwaq7f34r0ynwv2wwrNIwdsSHFUgCUZdWP4GE9GdVx8\n",
              "6JX4NaJYQwc4eXqkf1edthF2LobkcTzyOxIE/Vyo4iYrpkh/0SFbjQTo6977Vfnq5fWXN1edjD6l\n",
              "2HrEIMqaBWcqidEBz9+UOUguoZM1hGc/IogYKmVLnkYNXKfCTImjsiMbxDvVqH1RXfsO2sPigLrH\n",
              "UdKuvt3Zk5608X//W4Sit9deBFK4rCidR2yCdH6+WPplN8S6+EcX2zNOzSEAAAVfAZ7ndEEvAAHV\n",
              "A5+Pld/g156ctQAEIoSiIJ/8Imo2FCGbEIHAgJWXF6WiPNjk8OrXCp/4Q/Dlk4iRoKddL/H2+gs0\n",
              "8wvzCuRSVLoZqxrVd9KhBSM54ZeixZZEwVwcZGQDH2lxkA4Pj/UI3yCxKNHbMSiB4QidRMlQ2BTA\n",
              "5BrGfHoAvDH37BUbb7na9fANnjluu2NuEoyQib0ZYrOqvqY/bG1IFCcYcUOm+YFqBFl/kmo2mF9B\n",
              "Xzu0rYKpE54A96ZNJBEn88AsW8MjGb6nVVPDROT1BulCu9IhUYtHEcEKbmg3q1yUKMDiMsxp7pOl\n",
              "bTMIi09GqTUsS9SVZBDOw42Y3QmRcRSSc9Mkl+3Ya+2Cm/JxsxniPyUfqfC92tr0HaqBCBcd0nhh\n",
              "lqBAX3A6QPbC/KKhhv/EaxPMnEGC7qdyynoo1sq7bj1oHTypu22PMVc3iHkmvt9WOayqrRCpu3gf\n",
              "pG7jxSOUirC5WASYwGdGYEqDL5wJT67UOnTr/ufnFgcAwtxaQr95eslwOz2es9Dh5xkdAS2aYg+J\n",
              "o76f1jCrzAMhRMDN5q54w/3PwcB8XSl3WT7bSIgEH4nVOom22gmikXsCZtp1gVPoDrNte1ucBhuN\n",
              "2td8OSedY9hTbd7LgLQRyhqzxxMVuov7ZG95OJS+rDk8WZTXBOLOoiGD7/xvIFePvR3b4BDoEPYg\n",
              "d5r3XSnJY4pltUy7cYKxx10n7gKgs96EFxQHZzuutdKn3VYO/xcv7miI+z9Q5bt2qS5R9nvZuLVf\n",
              "iVnCOqNQhsSYwl9d76ENNVxjm9mQ2mhQy3Cku2FPktGd3eQwU//IQchjLX49UHPHyfMaK8TyXZvh\n",
              "WPJYbuap2ShlSkq2lxo/ai/YN7wH0sqtv8vwV0dbW94Vxf/jRPQ9wmnGzxxOeWiDD4ZTJV2Wstlu\n",
              "a6Ds293ES5eZYlQy9cXgc6IL61/Vm1NEsVXTDyeqJkpSvojJJZUrxeh2d+dNBn7XEhLkTCLEQEvh\n",
              "j9XWG9ZOu8wcbjaWGtOi8BpHo/ct0ZGoiAyUX89FN5z9VPWiWoZ1qnPpoPie6o2o0regz5GNShgA\n",
              "HstmwujiK9lhL7w9WLijPDt3DHFaAO7Sm5VvkvFetTbPrnkGr0qQJHcgtMUdINYQg9h2Ai34jre8\n",
              "TYQcXIo7O387m+9mLu+SaOFtsRxuRtfuVH10ULU4fls4uSDd7A80DB+gbQ02lbPAo0QZQVBx9H4q\n",
              "4TVYb60Y7meULcKgeN/34ChA5nIoFVsnWcCV11/NxPTaRQjxHmbtQkA7PnypDX5SvM6LB5hdy8Px\n",
              "ThtZx6lXKAZKv/PiUwXqdBBh4CJ84r64cA4EzgS61TieSLbG0m4ZwLUtY2FfWf6q5vhMlJ68bk4O\n",
              "bAzmqXH5wKOjskoOqDQ7lmnOcoW/F8jAFnUtOh3WP7WDHVCSRlZuELqViq+dzTALIpbmsKUTjAic\n",
              "7GtYcM6aSFJVInRx2yC8QebmmwA6+NDlSTINeVNiNXcTQkKzFaL5LpBL6GD4cne9dMM10tWePcO+\n",
              "M63/sxgitkIXHPoR5Wz/7yZ+yYFcBEbFiEIvRWwu1WJlfMj24gOG+TJyhU7NLInaN5xxx+3eUI8r\n",
              "ADbCpCNJKP44CueAXsBtcS7A8S2sA/IsCDo8pc4Y/SaLYaxzw/5ml/jIrgGej0wLHROflo9QHtFr\n",
              "78Uau2IQZHPcwEOfh2xfzHMdhNsRnVKu0ZIND/8hIl7+ENUQmxEATTrGUdv3mksk/Civ2CqT62VY\n",
              "kq2tE739bvFjSuxlBjqyFpalRvA/aqtFsRufVp6jYQkNJwpiTApHxk/iXCvDsCOJJKOIwKQ1IAAA\n",
              "BfEBnulqQS8AAeVLtGL6SaRfNp1Sq1AAQityQaPqXh2ulvr/UEBBQGwuA91D7wu7pjMogO5isZu4\n",
              "pVzumO9eDPeSGvjVei+BfPwHV1IXGgpzgPd9j/1+VrP2KFSn4/a9pDgsfcusWLNeK48o9zRmRPmv\n",
              "zLGrb1YdpoO0fRDq56DIozpNAiZ7gL9o6w2gvCF2cf9AYPdFLOGs1nNybUDDpSSDa/gMxpU//syQ\n",
              "38BIxD/mbXCVNIziPcbLRmNMSYO/pONcvzAyag7s9I6SIaEhgJVg6rJYztJIGFHpLBIpn24yVbpj\n",
              "A8+Ov4WNsToyvi7VSP1YC+yzQO/VA9KA2h/7boR0E7aLrXtgEDwx3P9ucU0HM4xNn7lZ63JHRvVW\n",
              "wDsh1jjTU+X++nAMKmWJeXG+hYeCpnYFZZwR1m6LZqzBaNn2xGmBp+9bpM6kC6eHUtpF2ug0EmT3\n",
              "Sw9z/+gOWFlEXnPtYekCjqy/WKM8HPAHOkSSXUUcsOqXcYljvXnWCVRDsynD22aekBI09jwBIs3j\n",
              "sqLE2Bbn/epiGprdhGk/W6bLPDIBGDafXhAw+A8GK4jz2+VT5/F2VAydrOpxf2MeT8edWU0W1jD1\n",
              "Qrwx/6+tG/g8KMetRRJxs2XbhWhG4Utq0daeiSZA08mnm44nFpYdRQPTzlA5RSdGkMdsYuJ4a7sA\n",
              "SwgYjSKCVMrp49OshM8FiCfE5yB5MS9Dquxfl9ausNw9/TuNvk6Il12x0+pGysw/ejc1CX+sxKMD\n",
              "GZm0qT17V7xsaRXo6mJgE8MHfjxFDG1bh851yp7V7B7RL+rhCaTVza+2hcMHe6Mulg8PGOqpuxTL\n",
              "wY0WONxplxTDx8d48wPrKJq+Ck+Je2Kv5L2yKm4qaBSIMCzv8dDkyomXdqGu3N8JiJCsku+AQNwB\n",
              "9J1cIOvb0TDmV+2YyTqCv9UuWnO3Kqnl4tNmICyGhjezBF8qAM1PmKGrTP8MSFmNcA67t08lLKXq\n",
              "4uvcxPFvSddhIdB5YyXubTG4ieviE2t3OrlPegaaHREUfKSk7JBAJf4phLdWsJeUC8k79oOfZZOY\n",
              "MojaVjXjRmxvVTyZgFUtCXPLf3jwVnKgIzIUKCzyXALFmXjC8AtxiOXknq7KPLnBtMz5lGb9S0VP\n",
              "Sl9U2FikM3VdHsK5BflbKzTYI+77xpYJbzi73SN1MayPcmekmda8tDSZki8sQsdnD+jW+74aklB6\n",
              "56ZfwG+f7ZQRUD5qdQC3ShLa5HFs00o8Pw5EGjggJwvW3q5mH2t9yFAd+Da7SU0F8vK1YixlEon3\n",
              "mJs3LmL+HF/bWb0K57/JpupJ6LA4u7/ox2hav9qkgBJRJS1X2VzMp6M2sI17fzSO8Ndrmslm/KUK\n",
              "vauxqNBU6dsikWWBaO1jj1HJLs0ElR0/+i0wkbhUGjvSThbfRt9UJLRLd9xiuhu5xpsL1cwSrClb\n",
              "W8+8SwFGHDINB4VoJr+k79NYwU6vmX5r8KxhO0NwUw2zr6HYLJQVZPAeDlD69QSkpnv0j8HmAXXW\n",
              "ipGBiuLlf5jmHD3e3RGHWu1rKJrbbs5jPoV2vMeSWv0xraoixHabC5qm51qzUcO0xNSUhJY8dHzr\n",
              "IbvT8T+xnZ5NBx0JFIP5ECoSzy89NrpYgMtwlD+eq2645oociUJQJjRvgj/AkqoKO7ydjqoqDQZA\n",
              "HyqgU8+FMNbHUWrYVsY9n7oHB2C3n8OmcC92JqzEAtWcH+A26byX3pfOmRAErd8MuyRvvEFM7b2g\n",
              "5XDlvBP/Lr9b0VbkIvrRY9ZpZOo4OSL/oyMH/OuZLtHHfBYSkmcvhPsSeozXbtbF5y5v8/AZMTAG\n",
              "UrLxjnVy0GFInLKIBObIa30PCdyq7SSlqm99dfqnzflrMqKvt7d35JLU1r4oU+beR2Gcu7Hs+hxj\n",
              "1ZkAsuQ9DEuDKvA4CmDJ+gqrerLL3FJiuL+iYCKoW4q7XKaiTdGxVfLQjgh5vlXA0c31KRsR3Fa7\n",
              "rYb47Aku7mTQahJMFB7H5uQQlyUnQklddsAQ5nqThQkcYbbRIY0wMOEAAAcIQZrsSahBbJlMFEwV\n",
              "//7WpVAAfNNVbbDQALYud6fwRRzed5Iu+1Pg5RJIH+Sim/O/KKi/+u+yNYE66hDHJq56KY1pjZTP\n",
              "11KX7a7jwVZr1TSAceta1YETX1yz6SKfQg97pc+v/JrY0bgJFfGoC8rYfIXgzQ4k05tonhrYyzxK\n",
              "9YclwyufreoGne1clubhGxbxlXA+vOaDBZtEumar1ijRqq6Mq/PgZi9joWkrmurTj3glppj5H7kj\n",
              "Ifbm0YPcDEZS0JWcTFV8flUY7U4PeK3WVLI8OENERKOECdbVgy+I89FwrH8SCX8VNg7j7zI0p85e\n",
              "L8WCYDXsiFPpNXMhlxjCkkjUhQCod98gBz5h4CJXDlplvvszZE98LK/RPQpxpuH/c4XmxOg1XYn8\n",
              "x54Mj4mo95G5DaMi5/aLC8EIMrCITvravwZToVkruVAyW0DQfCPyuNZlkJdu5Pye2CRaHVv3rxnY\n",
              "leCZjIFDfMXmKNnnIizzSwCAh1RT037IBdotrUOQvyzvgKTAkgjKaACK0nr+nX8T8iy2/+eLCgMX\n",
              "5yPI4hOQCn+owAcvcorfXXQKA/hgH/Crp5/rt2AtJzF8wZRj17tTvUVt9R28i06RwXCvkd5eW76r\n",
              "68MwZMTf7/7OH7ihCWgxMEWEHmA2jVL7mHeDXeWogwkgTTQwfDNQkT/HSPr2bXzOcpfE92O4AQu0\n",
              "DCKn+cbVVuHX0g/tHhh9mUjJnyqSzMoRAeAZNAXKm6R39CNucBwjiF1xmJGsp+I/Lqo24PmP+Vxy\n",
              "VCC6x1FcqSwBCklfZQ8UshbJhLuBH/0PdqBvzTKkhibGWfAjHkb9ggF73MgLBbbivhJZzZGg3VXV\n",
              "QznT7fJKLEZbHQ1UIYvU50GTmU8YMPXy8BJuDUXEeMeUbS1qWQM0TweSyhI6D0u3YqS1wULruQRo\n",
              "S+wSG2WajP04BMKCM04E5VURAOxgyIYHDJw7ma6OZ4GCjwfCUXUJ1iDEmKXWAOoLVDWQTamWt0co\n",
              "W7NPZhT3gOyd5+2Nh1WWt50rIT2RFhwwNq7l/3u7C3Cp9I44TyPfbdS3vq/xKhJmbBxMsqjdGgHi\n",
              "hL9c7D8w6n2GWZ4x2HTzvmlZ0/KmtzCdNpLlHa3tL6nwYouguxUWn7UuA9YVvRpyZ8bzLINcCBiz\n",
              "pO5YinP8jp/sG6TGb8oMCEeKzztBxuI4nfaRKAZlWW/bRDNbskaXjnfhXSfhcVZG7d2DaKsL0LHO\n",
              "IvRBFu3tzWO2VH+b05LK2N3w2g07qjX3UHTRgBWhv5rrniB/jGMnUdoB4kVDJr4PayCk/JarmfUr\n",
              "SvysZo0Mq39eL88fXWyQAGReVCwGVdQmX0GvqoiUsKdea0BnGNzUqI3ZcvJsg40VU7X+x48gT/Mk\n",
              "oO0cJgzHKFe1BP8crY+3MZlYglt53uchZoui+tvvbgEBefgbGw8MivJKedOVa2KVDQzNrDzriy1Q\n",
              "1wtXo6lNDd97Wx9SB6k9JLo74aA6mvLGMBvSjjdObN/yQGaTVfrsjpIBbK6XBwdBBI5R9CH4X110\n",
              "IUKQR897ntCKjHUlRYdzHb/FEFAR1GtcKxDz82NlQ/voraGs8QtFjqFzgnPFgdLHG+BWe8KKxa8v\n",
              "ANr3sZ2si9Lwo5E+0Lp/SKkKf4duTImShuzMaV4I0W0LIUhNk3URyNJu9I2H6/2WcGgSEZ+GN48l\n",
              "VjB3etbqnnbjVtYo+LEc1aZLA4Nu1Xhtqrgw3P9HrwlpoBQl0DKMJhO0VsDttJGQBbs2L9Vte25B\n",
              "IhozbxXJ8NCIC9omBdP5iHOyQV0z+K7NdKh3+V87UYLwsxPgMzoVdHkXSQNls7o3cgGffRoMiQXP\n",
              "gzzlE/m/yHZFKxMgxc2iItME/kmU0Eb/dFf5N+M7wNuPW1xdGUHKCuYkIlKa4WElf1BNN7IJHFKd\n",
              "5whIFimOIhxx93h9L162rb+TH6X3T3NDi98DddlVzAGuLEC05pwHOkUC/p0U8WUJ1AK+jrjfQqUi\n",
              "C51GYOcXL4ZUBrdca+oKNMX5WNPu3/zAIq27biykdZL/A14/g3MSHETTXRRzq2m2/ircAwc8PzMf\n",
              "szbUrmGG3ieQ7YJTDPg0TmNJ88yNwhRz5NeVxkKNnFG+2Vk3SLvzfvsCY9bwBymV7zb6AhfQJDRm\n",
              "1xxsu1qUbiFFXXm4zfWOL61H7qxTbuIISUMahpLCfqgqUAHrgzx8lYR4UY2I7kFOXfTGaBuCARBY\n",
              "znAo1UQLvKkHph0G4ty4rfEEcf34m4x4kLwrBuqqoFjXtBH7Bsy9NwuSRqqCBIVpVAVP6dUI/DHB\n",
              "c/7/Vmnm8LvOLgFrfWjHsFmFCu+J+uTtI0Ht8Y+i+XJDlRCJE4CuJZ7Elwr9p27fLTcvyNRg1iqC\n",
              "u+vxIBs15LDDgNAwRgWdEhZoajLAAAAEJwGfC2pBLwAB4BXRdcj8FPTW+wAbCsrlkmqFb8DONTC8\n",
              "tnDGr9m6Ayll9/k8EBf1hDINbHjtDXeIDtLaw/PozDRyGcJ6CdEuNvSVxxpxtLPc4N+fsNPQaziD\n",
              "mg2bIscyjjpKOKCR2W6CM1mgh8nrccJNu3ill/AEgbU59IqZrJAis/MBeXEj1scSQTJvQZpDc8i3\n",
              "ECSwhSTuh+qRDjOe7nVfP2pRVHganG0Z8cg4tbHsucP7VL69aCiIM9bizkAwqWodb6F3M9ti1AV3\n",
              "cXXHTuzxpCIWFhv2MoH04xmfBq771ToSLhJZry83luEfN3kSS2f+6B5hR8wlG3lbUbTM4Vu+We1f\n",
              "N/bcFe1YMPZCK/aC1urnyq1N8pabDZnJELm5AdByeTrCoLj5owUrhBJPUxqHLrG1qeoz/MJf+zsT\n",
              "Ktd+3cJjKPF2AVwIFKVQjgPo5+0INGqEVglNoGQvdeyzYQhvYj+CqxM8HumYNmR8lPio4GfxWiR6\n",
              "Sk0fCpOGoJm/GdFxYvhmtNPBK99xypyIs/w+r54dmzz2GeyFn0BXqAwDpBG8Yeppzs5ebhjXYc8R\n",
              "LQLBypHodYP3mX4NqoxL/pHa8EsWsrCRMan5XEx1HnkqZwuFCRza4PiGPiLonK/r/rYcQPmz4gX6\n",
              "5bhzyrRl63uBd9aabw/GeQSV12beEupWmN0gAQSgxPLJgs04yC15nICO9hftGaEwG/+PBBSjdiy9\n",
              "uh7+xKC3/eiaVt+BAkA6ek8OOmIkqBE1fmBlociWOpWM4IGLogbN3qn5hkK5UBtZqGeTqamYYuYR\n",
              "XisGHft4t+P25Pr3FHYHAmMfFh4/jSsT//1OIbx2yNamRZURMV0F2Y3WYucX/+Xd10VN1ulbmnHe\n",
              "zkTJffymHcrXOO1XgR2LMWSA+s+/QGqHVuLzl1X/4XxH5clREdwk5zv8SrpawidANHXIWJiiwHNn\n",
              "wAM5cNbGwwxH6X6bHfeWYWQyIaLWnE63zi7JhlbOMma3unXh/g9ajRYLOnNCkDYmHQrhnKC06hxB\n",
              "SK6u6ckTjOyXAZ61UArWUoBC5GOGA/qZEJMwtK3R1+OtJPGRIBIcWcymt+r4f81YrOT1wCJBUwmf\n",
              "725mvL/T2fbETYFRUxvmCTnkR2qZLqcdpbdYOLdP3HZxOmq9vZozz4XH/GUafb88fwhymXcpZWNm\n",
              "WSDBl+N3YdEsbBeSGH9FV9ea4Y/vpglWEKKplzjG5P63UehRElWwwcPtXjdS5db6l4yHGKJt82vu\n",
              "1TkurEUayXqPMxRPETuZEqKnrndDuExQ5RS42msN7n5zv1JJwBgsQfqFrYFb4cKePyXgOOwtwets\n",
              "rlm7CQubT5YLbEmFfImE52tOO8c4P/WL2r3vCMWcrgaihYXnQo+sZzJtZKGvUXrPfCD9TQTtgJ6w\n",
              "lQKAA/wAAAU5QZsNSeEKUmUwIK///talUAB6Eo8o0uADK2NoClkWiEpkVA7xMH8knPe0gA/Lr7Ff\n",
              "ZePIVyxBE5Hwk4mZ+OsFyWhaCQdZo/q77J6JxDlQGYfv2Z/7WQpazMw6oq6K/ZQcgj6u4VzWxor+\n",
              "zYShjVemk6dULsC9qtZb9PF0D/EXGzWx3o0WxJxctK8YRjcKf3kao2SejLwa4nt/L/CxmNSQWt/1\n",
              "98NiEE0otE7PhQ6kfH0kv7jyaOFi/ad//yiUOzFGOsnA3pEt4hjCnPtZypnef1Tx4BcVtTsu5ACy\n",
              "q+S07K+I9noMJ74uIS1NlwNbsLfQV6GcJO5Iptkln5OanZdfp79c2sEVvwQpWl5j8vKrr/5oAO1Y\n",
              "8HA88Txaj0SnquBxyjOdZC6klwUw1OrnyJ77ZZ/BSaXlddooixekEu3QU4ltF5l6cbSUrqSOTUrv\n",
              "U9wpBRjNWpj3sAGhufXLGUThoNHocbmlQnmrmRhEQxfLgEJiXQ35WZ4XU94ug7bYDLboMiNgdTJ+\n",
              "pfWOdxsibvqLOEsXVVGMlb05zF/dgwTjpnOQXsuNMqgwVnzsVi1iGCBgN1Wpa4OGfIke6yqAwYSK\n",
              "EiXToZdNvmEBXco9XWO36IEUbc+NnlbhuoCAOWzwoB2sRnDiX5oixsnJow/tVpewhzkWVp99aUoV\n",
              "6Es4sR8wPHpY+lKF7Noy4HI7Wa5b6Omwo7RUPZKoeIYzNQ18DRug91zTBoSLMwWCjk4U2EDzaA3K\n",
              "outHk3foL/hqIeQcDTZySxf7e7CuywixltrfV1dTBjsjdHKaEDTShOU0vZ1S8rpUrGIDc02+oIbn\n",
              "2d3aWkoH6YZfjqicTOTPX9ZxzcZHnFXuwXfitGE2E5XD6ygF4P/mDx11N7pBj/uP2eDDZSt/E1s7\n",
              "4BSDU1nnAjfO738quu19lpLoSePQzKE4CmGELcpIZyzwZmm16v8aalYOGXVthnmifoEQNCFlWCQi\n",
              "yPmBD9GwtywxMMKchOGo1eyoTJYbszE7vopMP1o9XNYTSBa5eDN7DMKBk/bnaH4/VvKt6EYilImF\n",
              "KzjBTt/w4APsuRzLP44Na3huDEE5n+YASOWz44+b2IPXAX8ostE/9bVwQ/K9/Z8hgmDL854HSrXi\n",
              "yhjAQk2jfhTey99otIN/raggRcNysq2prVTdk/QVz7YrZKip3zZrgjNapTVeIr8x/UKuIl2fGr4t\n",
              "dcIQ+8kYkA4Ro+dENjf6cWgq3OMF8wAkcGMWqFcjIvCrS8zXTb8jwaEw0LK3gub9DjdrjzlAr2ZZ\n",
              "+kfXkDFg0y722QkbVgRs5W5B99Ux7s0797gJiRKSF21v+OxtpK1rw1lQnox3z6RHxH62+4T2Ou40\n",
              "XMmmLsuLHoKjNvKk42Ip7quH71DvrHYnoTXnrVIq3rF+RrPeTufm3S8hebmUpzoxuHxXhoPJ9CRv\n",
              "iwa+0Mtvm4HTRUrXwkSsif/N/DQFKbnSpofEKb2+WlAtc3zT2/C2GqrbSIUUPeMA/pMX0vobj6Vo\n",
              "Xns7/zB9fkTNrQRtChVdf+aS/06MdwOEsWwcpouhHCZ+aevxF1i/1K6AIaqvC3Auihtsz/tbF9G7\n",
              "jV9adhIOuS4hyylx1IfvplZddt5z3eX9+5Pgsz9aiweQyWk/xePXVFRA1DxEn8jIHl+ReMgsAQNV\n",
              "Uw2719/5zlYMNyEpjNldzmU0Ao+/Jsjg28IengloZGOSGIOHin7ygU9PyHnQDYG7KuitFvjEkPmx\n",
              "4Rnsvmrf/0eVOgBZ4OBi+X7H+/3Vau+2LsuQglrjp02gBI0AAAYmQZsuSeEOiZTAgr/+1qVQAHzT\n",
              "/W3sQaRACxPmlvNhdD00jaUvZQ+puPSFcohvASUnyQKDHUHVlWmY5tM1Q4k1aqfRiK+sHEd+yX/Y\n",
              "GdpKe5WVgXvXenOWL7p43ZPgl+Bj3c5sl52JnzMjOZ5PxvpmGZ2ekGS25UkHHgXGWDJxWbk+53xm\n",
              "/M7RmTQvSfWwHIknnutLTJPYjFejNq8HZ2ygkndbGPd8YOILz73sFdQdlAqAo30DnR/vHKIdf9yC\n",
              "zPtYKR1pngWVKtdj7oWbfYLXh4YWQkPqNtMkPc/Z9z1QwZEE8F88nfx+U2/GLw37oUJ6AX/UH+Dm\n",
              "vQSlj1d9OS+9RQrAksrZilbcU1PBYlBMgnscVjjo26brENoG9x2imkAT5oQpQ+r8XXNMUA70B2No\n",
              "EcKDLCUJwEamGdAW0BRgXkC7uxTTvdfUXJtzqQOE1F+UVQIJWipsQM6DDRk5FFqKlH8DFHhJJoaD\n",
              "XW/hIRaq5oSWMU1AZ+Owcun7nK+4CmzJQQFQ80K69pdwlmcND51N1uPGC1Uu7LiR/JP0VLlIQqzs\n",
              "/miKjOwCKfcNEeWYntue6G+5e/WBAwpkOGGQtSq38BtTP+SdxrjNSGJYPhv3fXKzHz7RE9UDNvyA\n",
              "Q9UUoSsyjfZoPbb0len6xty8ZxzPPS2uXsmRIhkOlmj+Wlap4vyAbs07URGA8NVzLaFH96HNJWl8\n",
              "luRNKRHeHcmYM4vR2wHFcB3FZbRgrTqdcTVoZW1tKLhNX0ia0sLxnxVgQCC6I7FztmIwefZ5LRlV\n",
              "IJ4k7lXPQcB3WZWuOBN5I8tV4RlBw3hhm06pfPRTZLtguNzAgWkldrSS2fDU9C4qtMAiAe54yr9v\n",
              "oIWjDUW/WVi9odhXu4q10ntvJdRaobu4nt4/VL2hgGR/dTBgk4OKI6AVFezj6hm+FthO7NIIAl9V\n",
              "6QIUvmunsj+WOpu47tQdQv26uHIrTfxF4KDxFpo3d2fe/waEpnk/edUt+dZyGmqy3vbYtnSPRGZA\n",
              "Ro2OmsXBP85nIPG1HVLWiNWfbJSsCviPIPWigt4mX6xmaN5TOOv6efQwILcBqoBm5S4N2nFXXXFa\n",
              "Fzx9k74pw+VyTw5qtM7Ofd01mP5jZJAtSK8aEDHXHQrpngWJnWKTXebkdGD/YT8WugReYfGjTl49\n",
              "7TkCkS57iyQIyi5AnErwQCjD7KD3khe7U8r4Dvyg7dInmiv03NSb8NfQIj6d5UR6buW1oehTDcgc\n",
              "UASt6uZxa4Vl/JEgu8roHLpHX+Qe0APqo0rtfaceI56j6QscIOl9rsbtkJCpGWYGHtfk++T/m7S4\n",
              "nXSRFs3zADLETA8THoEMvIIWFW4WgWrTt86/LXc5CM5djLitJpK0btwAyMlw6GtUnCWQkYSLf9gl\n",
              "KnkJOHP+pPpcASRNiOdaITCQLzC/vohCXPEqWXKFWS99sBrEI6gmJz2YyDc7e/PcS4gx7Kw/8/su\n",
              "6iPMtAi464JZTyzf7wy75tbwXGKijGjn9A5B7Lh+H931lKPkERYbnjjN0bo8/EhtjZAwcMDcMH6R\n",
              "eM2N0UlDbQts3P2iuV8bz5EsShh2BN2McdbsA2w0V/Zzk3LAmcLeGnn4Dl6amTA2sG1vpHctFG/J\n",
              "pustzlfH9qRLxwD+fSyHui6QmEKqKMctKKOfMAUEW2ZJLbkg3MnBR9C38vNCsyUh+Jax3HWcZdOD\n",
              "pXkzjJxwCK4wrKRSMgXEih1m/bsbXJnRDdBNTQ2VBNp4/hML941NeMJ3FztGhznlUVaSg3NLlZ8u\n",
              "raTR5tcjLc+uRnWxXcfwEwNmhqPFVnebYGcQL6NYSTOTxjX155j1EXoi9BOoBhpuxDkXtkObme1w\n",
              "X81LzRafRVlZ6f3JbdrWFcdbsA2v1X/jOuYdUHYD+w++knsd/chBTXFfw5/rZCQoBx7UyjIr6ADn\n",
              "thx7PONo9R56mI4gLenh3APzxYDKDrkvjcMezxldcVdwvE0EROiw1d2x42ZlKACEB8tkLA0DgEZv\n",
              "rrNm3eKeueUz/wpoAbPCv58PPBQpSBbu/kvKTIa8qnMZXexI/dmWt5Gue+RfHWiHsCCSQUAW5ESW\n",
              "KrKnFcAyzeJsWjwfOQQOooEAAAVHQZtPSeEPJlMCC3/+1qVQAHpnMP3LwABdQ0u9sMUEXTR3XNXo\n",
              "skzV+GXJ3qWv761XJ1A7xcrWx+AIUyz60zQJPufzJdb+waBLx90xj2VhCi/ylkWithRF1OezWmw8\n",
              "STpdiJ9RUNLx+Tb+QCd7kGDYldOKGfFMo/UERfRVH410GIP+4+Dfp889yuAciVFWxxfCj/7NjN/e\n",
              "Sn/EZIO7aEA2QsOpbhCIA/PrRjwES+rKW3V3GYX4R5C0sdTrOFYCfWxpH7Y/IHEHB3P7b+Rk3/sF\n",
              "nzz6D3+BxdlZfG5we0u1fPvxcA/Ox/T36wVekr/czXeU3uQpUWvew3FNn+bIr2qJe6hy8Rf/hHwx\n",
              "SPjcbakWwTcZkrJxBhuHhacIcpadDRIG55s89ic43pa3WMWaD8/czUl0YahlcJytHCwz2XjoA2iw\n",
              "RlMuQYBpnAPkL1gpXCBpJgsACeUayRkbV4TnQcwHQcnk6Jcy6dWClcIe5q0WhRjSWphB2fsWGU1d\n",
              "ORrE5g7PYYp3+xYeA1LfEPPzKI5sMgdyqeEUicgfxpLhHeVAPSqrA3DVoefXWYms27RmS5ren+/C\n",
              "jPMZA1JIogAuLXQgPrxcJOtsbiZ2v3q7yYf4S9T942sd3vP4l3YF9ozTh0FaUe1yekW7MzEZoWX9\n",
              "XdJ0MYAQW8jRioVMF2ZyDMqbTdE+p5XxgtYvrOKqPIhUgZEEXl7eucnqGYzMzq3rKdCkC/LQWrYD\n",
              "RBlBBF631Lh4TIWK7yo8iUjAKtOJkipt1i7Ee4EBnZk6zgSuu2r6QcOzeS7wrbtXlAXM87Kau9Oc\n",
              "BpdPBvnbTn8OUQ7zioRAlVunCCh4pMGFy+pDxMqrO4T3K79a7PKypWzE5ZuzrhwJekVEyUkywFak\n",
              "qOGq+kqbs2zvvSb+dtZkV2b7bVniegJDrR4ULWC0iHhlK2cQdXoMRerX0ikCZGJwuIX52sK+309H\n",
              "U20hkK8SLuCBGxjELhokf0dMgbPt2bteNpg/rw16Mm4vRMs9venEHdu63Df6JmuoRwITogH0ni/r\n",
              "Z1rzg6MCstY9q6JvJGyXYJVPAHmZ+tXbuiK26Ttc93v4uhIs7/yerYfrbDF3OR6pGLiixOY3jWtk\n",
              "4nZioC/5CJxjm4ftuKSoM0JPXEI6wK3qniZnbLImb8y1GnBBuSAjXnQuspb2OtASPw17n4jB2k1/\n",
              "4e0nCWxLJuygYVObpflboDy/fU4AbcL6XEffC6wFzhuysyWDM+ENaIco4xR6RNRpzC0zrleNCcuc\n",
              "I4ifRJiqtnj8sRtASP4wTSgpa/7GGSGoKhfxP2WG4zZ/0ltjQU/+1voGXoGk7dZeiHumSqXtMqsG\n",
              "06DccPJWWuX+TR97S4RS+iWKp/mf/C2J+vU4f/3ZIQ9FKs/0c5FrcIRyowfJqjeR8Ewdd6DPV7Am\n",
              "amMfnd7P75RZMOZvyMQVnUxwVG0IYEio293bJgU0X+hcoGvESEDYmj9LxjjP3fVEjy18+RJ3T1DZ\n",
              "BK2ec2g72BH3NLAVq9/MSQdF2tjKowQEXH50PR8C4z3YOG5VVe1C+E1lf+wCQPT/svWk/bNQex6B\n",
              "3ZuQepSpH5fNEd9UR4MrlX3+aTKmXxOnDaS6jVCbq6TdwTS91mS4dHQaxcExGklxm2EOYxwX/7kE\n",
              "q+zQDHwsFdor2YqLEjGP29pPuD2/q6+IiL4Iz8oCkweihJcANXu6/W+J0bsr4QktU8OguKssb3Iu\n",
              "5mTaLRkqJY+/SuAekd6TmOEWxs2EBVtlB/Z/340eOzJdPbH/+r7DDAxQAkWZxstWiAjs3jb4SGKh\n",
              "NR4ErQAABntBm3BJ4Q8mUwILf/7WpVAAehPxHbtRmABaQz57jb0vVFMDaeZRtwJ69KbWF1xeNAME\n",
              "V4OHgPbLjE4O5bGYpob1if6NfihyIqNaXJmIUfHzVkS5lo/JhdkQQ2RXTxPRM/0VtA45YWH7DBtf\n",
              "uZC24rvfxXshNOd5HM1Kd0Q6HmjIkcYdaL0tadJJ+IimF3T+6+5BX/Ob4P4omaA7goJNNwQINj8W\n",
              "RNw9iIDBdvlqOC+OytU5lalZHHW07YY3nQtCIWJE1AnqNMPMB4Lh5gbIIjl1682NEMNuO1ZBVCwI\n",
              "uf4xn0J+Q/z/APOvA2i8hDok5ZjhbTnRDE4d/Rbxq2FeYZmDDPzOUQuCeO6hSafvd0MDbE+mVlm4\n",
              "0xIGcAgovAk+M+77SO631JyvIjdLOXJS93/nf/TOExqpkXcvkw38IFa5SykEGGhFmVxzuIABcZ/t\n",
              "cHsJfsImflJ/tfjJvmAEr6XMG4ClCg1YSenyi0s65uhMV8HnIviTIq0WaOYC8ZN2wOqRBVTBDRT1\n",
              "XzzdMjD98qCfMvNt64QHgBmuNibQnbYzkOUK3Sq8Fx5DkeVdaP2uygSCQHthlQvXSP8khMqor06j\n",
              "INOyMUI/k/j3xaV0bCoY5c7IVsPJbLvgtduk0uh3S5B1qcajc3y0ZzVojG2Uip0B9ANQ5sKtUMRz\n",
              "j4qxxl3rGRcFVS2pIsRk7ub+/SaWUmFTzfHfyKKVjEIIGUdOX6gYaoC3TVffA6uzAAGINdNtDRXO\n",
              "ecqBJLmgkzZXAYUeP5ZHI2dOq3L1O2PQ9owjiiekXzzk847P+cTf44ipcsfW5BYuxVrNzk7RM5Mc\n",
              "cBZg0D5Qh1u4Cq6yOMnrnSLDvIZIzLLTQ8E0CABHEJV5OyLoiEAAAy+Md2vf0H6/Nd8LII1MOxfF\n",
              "W90hg7VbMuhCMI8PEurqALvaNbniCcYcXePoeRVivEux6PU3miYZF00tlG9iF3Q/q4JxVQSScfpV\n",
              "d2iYPZe7MP0ltt1dKt8aX1H4xzbzd6NNa0hhj2m8jqKZY440hpcSn53PM6Ybh6fefHVzAS/IJWUA\n",
              "hUcBsT915Oi/yRr0v3cFf2B+3jJDzXkaXkx2UYzV1mDpWPaikkL25j0a8EfAwadUtCnYMs7anpKl\n",
              "Mp2YGIi7cE/xqmRbY6IPBnsmZPo0nMPsExuIZvAN03ir9NUf/2LQ0Vfyx6tAr5XqRZObch9LgbB7\n",
              "SKgni1p33pXCoU5U2M96/yYCSB+noNhjKfp7ZAy9aZCMj+ZmpVJd5jPvDdgYVL/0F8heXqlZZb6v\n",
              "eiS3EjFabo0f5VX13RH6YGa7tUkQQlHkRDEb9pdr9r+Exz/Pg99eN26STXyoy8wEvD0UPphGO+V/\n",
              "XBsQag45qE8kpHJTFuY0iPSb0DU/jFJsObO2dIFtpVjomu+3XSbwSFKFX54dGf3nQad8I/ZIrp2t\n",
              "v05AAcxEkEFKxqFMcXhtj6V3m0RyltA4Vi6nuRlx93wEVpkVOGgfqcOrWxjrbORkaG3G0R28f+Ba\n",
              "IpN200Huy4kKiJvRWCckRjEurAH38EEQQLQYBkiM7aCVehv6+9+wXMYUMifdAuRXab7G8KGX0pw1\n",
              "ejacutRqg2I5geQfkS0wYbpryc4EvdLHkednkp4r6Wn+MwTceAevFVPE5wUvoTGIr9jHYCCIhOd1\n",
              "hRGm1dKg6l+0UJhkZb8ZJLW4oeaMUmZWa3RgtZbKC7dca9y3l6U5V01Ak3tyTzyVvizO2oA4iY95\n",
              "r+6eLcVEZulQ/uvoIB4ZvIQfpTf0wivLvn33EWUXg3PqvnN58AyOq6p4VtNYTXn4XrtFQN1uS1Rw\n",
              "Z9b423eTfc4HgUcoFjLVXtz+6OMf8xsjaJaVd+wVcWq5Rn6N/9UsFdrFbAj5NRYM6q2tKlMfDpS6\n",
              "GUJqe6cSmdXescbuQy4VpWtGm3HiqtxsYXNBgPJ7SlUJ2E10n0ZMk1HdmWcfWAKFieAy0Y6SluzB\n",
              "vsrNETyRHLLchs7w1j58s8n+a9bqSDIPOba0PwTnTsdCNtbAzo3oI69njTF/NdQ8lOCGGqZAEHks\n",
              "CqETl6jseQGHy+nzzSKwhim02Cyasid2Qp05ZlfS8UKnWOK0VEAbvrZKd1WrbLq2Uf2Y3+XZa4oV\n",
              "F62Tstk7BvRk+j/+WzCZbPQEUXFEWCgXn3OvIKFEJLfCrABUxbObJZsFAAVrxZIMgc6RdOlQCDJ7\n",
              "SV2jeJrQOQHAuAAAQMAAAAj+QZuTSeEPJlMCC3/+1qVQAHzUVQ2Q2aACXRoVrqRoqo/xiU6+q1qF\n",
              "3QgYDc+5mtmBT8hqZJqoZb+QfK92T4gFRxhTU8iPskoT63c7IES7mINJ84qj1YjnNAQS+w4ZoVzs\n",
              "qA67OwIoEc93Hv1ICPBueAlevEEA2LxOb6zsk4Pw0S702JEFtmF9t7g6UG+U+OSEF8BhMaIuiH42\n",
              "gjczsXIqbGBjuO4cn4EWjMGu0KPl6rHQ6TkyM9LcO41bPfieNZ3W/h+EC/j6zRgoB2PtT8nZNoRc\n",
              "AAO5NkFGH8cOzocv88P9mgP/f/0Dftsd4hojGQ7jLOkgThYX0VwvaZ3i7+G4TmbqAA1qF1u2YhAS\n",
              "y7Egg8eubqrqxxQocaTXiL0GO+2j7A8s23G1dDccq4npVeWyhaK4w/oNgu0eRMWkE9l3ZFTr3dlE\n",
              "C+5wcrxEuXL+H2hEkHGFXxJs2BKDQ4cjOgJclEiHGPzGImVyrOSKDOtx0hyKomEsVr8Cs9/IP5ei\n",
              "4yzQzMfCN5wlvPaXGlbIy/sizQ2pxl6gvz0Gcwmnp1OpAGfhtmD/KGf5mUHbvcr0TxjlBQ7VseNT\n",
              "KmRBSta0HI9J8qCo1rffHi56DhIFou4ukanhp/z2fU9a6rwrKEpZvLc912HVr+nayQBEa18As9Rz\n",
              "OVPUn/Bz8kFK3FxHkKle6brUf9e0dy2w6B3bH4lPi4LHDSqqJel8I/Knmpv+/MA31vljBvivmdkL\n",
              "iNZ4BDUL/XWrKX1dufcj2ntmqvtwIcYqhVky7a28r4tynTB6DMfLotfcS5Caqke3BsAsAxTlKd7h\n",
              "srPrNiz0gvR8kyB1yEwUN6nxwtOnEZzpxB4AtIpIPyG6L5UK/rI5yYmk8vVaPU3PfMyNTpZ0flOg\n",
              "8xs2L1wEP/TRJz6ygharkqplUBe0gbwftLrzGAkQ12ML7jCouWXiFXBO9wTFMaSOHSaKs3QGFDWa\n",
              "8GuWPZ1LsjWVxTZAW06rXHVbHnPbORHzp7jAC5A9mO26C717tbmNvgm1pDN+oumE7/mkRYgjokdO\n",
              "YKoOvU1XVCDJLBbWKRqMt2quIb2EBu2pT019xxf3L+LGJ4fPsv7U4Mf6Z86eu4gqbQuy5f0S84Gi\n",
              "Ubq19F3rrdnb80OTOQE7YngsLavB41cvB6ratm+KP9zgs4lJqxJ0fjn2zGsWyu3N09W7LWcq4jkH\n",
              "AIUxcBwG1HPyqVgdlytY1HSsoGyqOjp7zCi9WvmNxZ0aRxQla5j4tAkxeKLfVnVWi0bfHgqWszKf\n",
              "ZTsH8ckMaETDgg7IvXsbUU8icJrFONIn2NrFEKJICH8YJ/U7kSdbgwo502weYauenNX/OqvoyHjO\n",
              "kg8iyzKwK/jpY4ew6iu9Opufs+Rnjx7VeqKDoPGv7M5+A2rGdOKsooTBGUBviml0BZFMQC3EPq5j\n",
              "PIV5UX+bWkN/bL/Veq2m92ofcZbrGhQJllIAGLxcpQ7Y9l0SuVBM9mTmgI4vZm6SYcb3W5CzusIe\n",
              "8IVxgvnYHAmTyUHGWnGkzvPHJ1mh0nO8+bEQrP+HKzrfU1U1j+Cxbi5lwL8P3NOQhEVM5qMdyGlC\n",
              "YjotB0EvyrS+KbT7qOWS2MBDymnoVhImHIdFy4O+h9ukYWI2hADgejEGSUiC9QMI65+XWLkvnY5U\n",
              "+5nocYtsiiQ6/WQy6Htzc6//IieDr5l+scg7VZ6MZ1LEiOo2HL1LfY0kWgkfJPbtuKzpPRzuq7Vj\n",
              "56o15IyAL79RyU9iguLqmVNFLhuZnoXTaHuXlqdb6HpA3yFcXkVeIL6MHdrYS9BJXY2Mm8pfCpXf\n",
              "dQa/QhHX01DGDvv2JqErUgxPok2MdV7jDQRBPO5aFpW3JCdoHcl6auuAkjTFv1YmJ2u3sWsbhqtt\n",
              "NcOWRqqA5N+6tcfErW34sFk5xGJnW15fH5DwnVPgfGJ+SZLm7zOdTTG4HABV46Rev9+NL9HUOW1g\n",
              "xkrhaAvGDvKCaN5+wcpQkfr5mDOrRbOFMUue9Pk9mx8nu/RsfuweqEEz5/G4ENXJqXxftJeDvMp5\n",
              "0pcUVNl10nfakJpZEgvEG12Kea8Etqztf8pea5lBeTCzfrnbMOuW2cMGTSvEBVhlrYQff1Js7KAa\n",
              "dzi+RnqhrJE6eTbocAPjcqU9y8RuDbdgkrgZzIcF2AIoF9AdFctPDaQyntN0uH7T+/i7Ektj3oaA\n",
              "k7VCnBMTLSYVLiGDepn4hf2G+Ki+tEs4ZVvEFWT0DigVGJErYNqQS5Ud/n6DgbrEzYoI3OzAzPsH\n",
              "FyScVZwptWqygdx1hnZirikBgHFawpowRvMdY5IWfmMSRcR5CTAEC2nm/IlvUfsYO9Mtxlm4uBH/\n",
              "T/ZNue6r5xXnpdLZW4HGex2rg3Q/Sph3dfeXSSCudoLZbbYqxn12ELmC3EMN6gINy00Kz7BkWFEV\n",
              "oPLsJRnrIRsJSKvkdaOtANKlSDCtxoMETv+Zyn+Bz0tLXWFjWWwY9TlGttFGbxtoRpIcksZz4rva\n",
              "LVEGISYWbqwzM5DuFw/v2CKN2pSk5GxlFbgF8WiweYokrmJy3NPPDmCMUAedChoTbIQg1fSc+ocu\n",
              "/i/ig4oCXkvymbKsjvt9eKBv5a+DjZtW2Gxi6bFsw5wzBUc3mp2OSd6AM3zuSV6SvTem6CH/voEZ\n",
              "Ni9RK680DpApzMXImLHDR2ENaetCNMMitMb1fcKvoVrXlHSSjJFjnVh97jCQBnlZ+xjGqklBUj9N\n",
              "exgB6sMyR+8EYENPWb7ipdFZo13o+Y49ySXd5nmLCLeukZIHvSQMQi/+e4m2w9sdaTXB5fBjuzJa\n",
              "AUI+ABFSU5S7/4CsH7J2FS6RCOu1TgeOw0E+SIv0C971WwQLBkg5LhLioUK+5MXR6RxvHek4J4kL\n",
              "nk4MmWCdtRIVMCeq5yPVH6GdMGUtaqAepvfGYGeiU3oe2fVy7wF77EBqGXPd3RO6wHvFUuhJPABw\n",
              "6ztkdRERFzfSKoD3UGWmgVem+dHlkVWCfND28a1/+8hxr5Id1wQuRBbCQdKUeZzRtflT5PmiSmNm\n",
              "9BmGZtLJHxqCTLBWI+wYs+tHWdv0krdnEpk5K+3kFcqsIqP/eADjgAAABSFBn7FFETwT/wABRcA9\n",
              "D4KvaLnLAB59E6JtL5J5xOp811TlKx/qHNsEj/2JJu8j42afOQTW7FqcMECh137geSSAbLkEC0Zw\n",
              "LKldXJo78pLm8VBqTz4EbBQVFSmQ+HLK0xtv5g4OXHJq0lobSVQTkiOLXCVgRqppGTdE+gmdfjVc\n",
              "EavbnQn2EB9rdqiiLD3vAL6FlXgEJt5Q+hew0rO2OTTNPT1q/7UaY5EYrnv7cxxn9e8VZ/h0wQEV\n",
              "1oewbY3HEVTJeDDprvGc9uxRWbCKvM6D0fLs6cS+i0lDctqSKwRRPRPO5JWH++Ei6SEqqbIqUtuD\n",
              "u5LwKxZgCaDmqw3ap7g/vonCflqrBASMgp/7HxrMkcdangP4B2txgOSKkAr5B7p9uG+x1490qDAT\n",
              "I/gu0Aud9ipfqnSskHaIRdsZNO2azWCIraZ6llW8OhySi8zLYPNAjNVwwWrO0wfDsYNFrXcPHJFa\n",
              "CwM1g+XYVvE/ERhSBInr/2KlU5tvP70N2q3bgpSTuKJicRaxApEY5RKD/gLuVl9VdZ/loL9yZJtG\n",
              "+B1I9B8GBqXb6QSddFCacyoE8EIVqeL7rqKVgcUOD6b7ti+9oF3hPjo6P4hGWxfx+Bg48CWy3EI7\n",
              "6qrzyGCYMvzBKKIB8xPUxJ7tmbohhkhsUuGDWv8JeS6JbKgV+Fc5ZBwGLbAwOacMvSWyik7815iN\n",
              "vSv0FWqTCpu5AEPGr4tdcKijVEgJAOEaPl3P7CH4WAnYHXdn9wDEZgeMoICjtIpIK1+z6A1GRaxB\n",
              "QVreExlar5WDvemlduUwgL3e0BkL0bc3VWaFBFuWhDEYXDVLAuUg3xZwWbBdF5rHpUYRaB8uZr13\n",
              "CEuQVHJtgm82mktPWu4yOZFsjPjSnhuv0vs0zWmVYZzK9pUp3eGzcylOgh/m9ra37t5+EarAD9Sg\n",
              "2jNtQ3xXhoPJ9CR8uqC94QH/zcDpoxLr5WGlu3/9n8+8UpudNu9DQt0L5aUDDCiz2M+jjaCyJB/X\n",
              "nziriUYK5Vw9x4BGxUTr8jSFE0Y7Xf/s4TCuXaIFqTG9Uenqk0GvEX8C3D2aOJeLmlbMJuofw6Pq\n",
              "+RLQ+3IXrdQn7pNQwn+Rf4f74FzhmF6y2pcEyjOZODDPQ6UBnp95cXSmiJROtb7rd5orgd0LCU2u\n",
              "YmvpygQBWKdVoBbsJUEO07FtCHRUUAisFQKrv221ccys9VCJPHW1O51qG7MDo9FGb5WkY8NJ5+wM\n",
              "xWDsmQ44uMQq0m+R7mYEZ7h54wPJ2zXGN8P5C9WPkNycO8n4P/Q/+wBGPJh28yD4NhWzGtobA3Gt\n",
              "JuHP1bnzsY24LOAsuefIk1IxLngPc+ln62uKI+XpSC6y8sWIKU+7mia2LE0eTVM3kkihPfXVvd05\n",
              "qoleW/D3GVbGqOyZpcAyeWj6Gz+HaS+AccgbhMLb4F/zZNOElQjvwjYX+JMvkG4tBqK9navrw5W3\n",
              "LvRetmgFq8HipYPfDmzNEMWL78GEONePnN5AuNJJ/sb+EgZqJSwQ/DcRnzpbF0yfuYk4nunffbGD\n",
              "2uFvIJxJh/rufbMGcsFCw4Q1jnaSDX+GyEjewS/T/H7tVjaJwfhcKIUWU27VXlHdxSOraDXtxTlY\n",
              "+IhnrH1Lj9iBGpJko5GnM12XhLPeG4Si3f1rX8c2ne+cnzwIsOwwMFq3FeR+dSpX07mV+0Pj0+/8\n",
              "taHuey48KeKhZieNv+hcjpj//FNt24nfwg1KEByPk95B3GxXODSQ6lvxIgCFgQAAASIBn9JqQS8A\n",
              "AeVyQYay2oO+imfWmnYAQ6tvje2to0RxUBRbBZEfBMAfmNMc6GDCl/aiDku79Dpo0MWo+okoZxIa\n",
              "QHC+7Zc2v9hIdJVuexSRFVWHyimJiw+qxJCg1cSo61mAd1X/H+Z2CunOagrF4q5jDEEgsemWzhIy\n",
              "fqnER/j8orOu5bOT6+RqjSuxl1OlZ6KzGUUypbSWpL/GqLtp5M+Q5X4rYGKPZYDlroWQg+IlE3l9\n",
              "u4V3cCfDdo1hwxxqnMymQ/5HuGozcqgozzVndjEkh4S3du85suGrf47mNCzKvc/e7EgpUSF5llyG\n",
              "ZDHcMc12TBBxcTALeaOUxDUhcd+K4BO4AwnqQk9fbC4lOA7t9rtzO9KPC0YtR3qT/9zMvgAg4AAA\n",
              "B7NBm9ZJqEFomUwILf/+1qVQAHzihIAAmnpUGVWXK/X7NDDwoqc8t1V/QTYryKw8bEmlHuGTqX9s\n",
              "vIvQmxO3sWf9h0rLUBjKkT5sGXaUD5xD7qAB3dOiquDXZ82I6klPeYsYjVXv7JxFfyy1kDX9kg95\n",
              "3dyRUQuDzBVT94JRRlodfck9fb5/l2+hxcaG+hnVuRr2zc8b9R+8bqgt+O4t7vAWXj5NUwtm4RUT\n",
              "mQGxVFxRU7FXM+X6edKvP9mP+Hdr1Hi2WGa3KdBAr/+miCvIPb/ehKE377uCqNrdqMdn4M7HVSef\n",
              "R+U2/rw7KuJgKJSZwbQFGIcfdkDS5SvtCx+F9Af+9/X8iHp8882RYQbsVlJ8aRFhVUv8x9g/Q5xC\n",
              "QXQ8dTmN3/1OgRrY96QoIDlpWeZbgFqmY79O7D+wBfc8WyenGulBY5sAQSJwFYndNh/Swh6s2DDf\n",
              "I94etfybPCg9WQZZBU9+Udrp7xQD6PD/ju5hiOQC3HdJZeKcWrNVixqm+nfyOBm+x1P2VFdrN7I4\n",
              "MpQjuBOYfxyG6JiQ1xtsWc/eW0ziInG8fj+J4fv1tbOUR2OEOHqsd9pO2zGwa6DQXT+5V7P/03/3\n",
              "CTcACgTHJ3rYJGx1r/bp/L2Vo2U92S69T7nUvO2yyipZjLZ+TLYPGVBiJ6cd6g7tGQvWRU7WVdJF\n",
              "Mn9BlMLSvA8sDI2UxgfRYo+FCb7EPDxEo0HhEY+pZthkRK17kNAwQXaaxt275pUyNFGPu47jHf6A\n",
              "r6WYfm4iYxBT676GEQ5LYCvlz3e8l21fCkN7mQRgKmNJQL+E5MRmlBETdf/FsRaB6my+BOW7L/wi\n",
              "4iOZP2XS5puhGBMJlfhSYFpEtqcKuyKQ173XW7WewhygyO4CuzadFW3x2PPWzAnx1fd6Ext//42a\n",
              "ruaaRxvMW41w3nmAf4MbxyvMDrtuo5Gpb1JvrbJeqEDqITkWp8xiVkovTcxQa+IehqcQMu3cGZIx\n",
              "wDgGFa3el6gZL68Q2BEQBAEjp7s7hPDzl5RS6a0+VZVL7y1feI+PO7aUGSXjsWYfcUSuyXsdN2UI\n",
              "rHTB7Al+owgQ4+AwSLjIDdgCCmYWCP58Cou1bKVup7NiQMCl0k5cT8+89kmywe4OBbC8HbE24wCD\n",
              "XeOsSI2aHmyPO/2k5ahLhW86JK1YctYWHtVOqpXF5W5tV6QZNCBw4SsjZP3Li2QJ8/UsoBDUjANK\n",
              "2PNxxXjDiCVXZONNYCj4e6I6Dzpdchy4p05JZXECSxhTlMye0Z/A4js8Pq87Z93g5hVi0r+BfJea\n",
              "s3MUxi7G8JXFmEdFxhpuYFvQZXJzqQPOopMvX4k6MyDtopg8tz8HY/JD+T2rBe4oynXbKoWzqVPF\n",
              "06w+AK9XkHZF4dlG8SkUFDph2IEvOOWhKejLnIqHnvYPabnfw/oB6T0Ef3hKgT1NSpGrOKXAv4Md\n",
              "bBliSLAgmTf3VcY0rCQTnq7i/MrUtTF2NfIMD0O2zeh6Bxr0a2ZfF1RveS7pkFiWqgdjoyj0891D\n",
              "QCSkc4j9RLCfmaYZfOPt1NrYY0OqWHjSUxaDjv9K4HtYpv5sgSEpnc/BWlRgUJAjs7xMF+vCbaEQ\n",
              "hIKGlc6Rlm+HuyKxGNsCWsqLOlLBOKYBgYeeBXcxqFMDc+XRjOdvepdybEe2NEGXWfQELfMJDObX\n",
              "m+sv4AfgjSnpvKjSGqQjfAceKITLK8aI6vcS9c9iqhqrwK0lfltg+sjD6PRgB0abfXoUHNBFEqWL\n",
              "J6OiJNb1mjoU8lwLBpGu6jJSob+BrmmAN5FbyXHgCbjyGFdv8DjaQBi7J1g6PZUSgzRG5x1SYVLl\n",
              "7Gxe64ztZHP5TQJdUInuU2v5mHSaMn5ub1sj2oetRAjvGx/6QjX5txrC9uytbAR4e/qHWdME0knJ\n",
              "YzeMVXDye1Il+kUoZaMVuRBtosDsOk0jzhs0kEG6+dFCO46YCoDaICOVpOnR7e0uiTc/+fkvC1oQ\n",
              "+pIY46EkHPRAERF0yPkI+JqIjcYhzWdmcYKUaSy/JzoMfvT76W9zcxvMM1ZnUhHyU1Maie+AZ7sg\n",
              "5Jphm64/V52KK6Qg1nbMWPJ9uZWWFCZq6CfBvncJS7oZmIcyRLh1s2xmMDgZkl3Ue8f2XSfDkTsT\n",
              "5h91Xt1sujeXe6tofzurN6ki1LZ3ayOCbVS6k7qa8Y1AOF49GW0MaBXRowtIE17fS3aa0a5WpzK3\n",
              "IddKZVNQJBgbsqeQbMJ8YlfSEqTofXQzEXK1m/D0Pe5vGIMuVM7jogkf2Pun8iROlizdnH4wgzwl\n",
              "1KNTaDeRCtL1K++f+MfEjQTg4OE5VnHwPIn+hnPTbjUhc4672V1iewa5W3NgDf5Y+BnouBQJZHz+\n",
              "TlQECdL8Oh6eNlNcu8su1PEnX+AbWtSAdC+1RICIl+kjHHQLPheeU/bcyTlJi6POgPix3lCctYll\n",
              "1sKGwxuw1ZnewcJTzMpSP/USfSbafcOII2lPqJehNdHyrRCbizas18X0kgVkHfDxSwdmcd2nVL9O\n",
              "v2UXi8pJvcNtIb7SwZ2xM0rd/vGRHSYLfUUHDwBCVJFrPklATGQpWCRsJ2oxGrVuw0ElvcGB4IuP\n",
              "SfNlOeusg67NH0HtsGO0ieg+o1aoACgBAqH7yoXxZYJ7QAgAAAa6QZ/0RREsE/8AAUmknHbc1Wtc\n",
              "ABy8Omc/PIDtMvArWaYRM/d+Tf1ZYyI4vhQAg9lVfd6tqVDqjTg9DTfpTUjGGZLoKXzA4e5seWwC\n",
              "HGeh/NpR1HyHvVkKSM+HEa3mYBatmSWxCgovZsqMsOhQloCp93kI+v19DuTcmy6ekFdgffVWoN44\n",
              "+CviCabEEyiJOcInBU69bxd+yxApNrmacrxq09spT3/3+WxIfFf5VxWoabsyQmdrGqbZXYq3qtn7\n",
              "alXeh8omwTtaLcI60C9fpLx6ntvCZ6mPvm9tYRUDTRk6iF8DYvkNzQwZjS8QNoIwPwUjrczCW0rm\n",
              "zU0HUpLUElEjCLUT/sfZpSedzFm2kbrtHJBWJE35Hy9d+2giZXtp4iGdM4ZuJvNgfM8iUPuO2SRv\n",
              "nMcbgxsVhLk8f6Z9M508GZe/Pp9ppm5RsmB4jvbQKjwUmGw+m6dYaui1KHwKFjp44PlpFyk61k3R\n",
              "mI0WglSY8401U1cXYB6P47mS0qpoJv19/pe1BXEnX91wJnVA9WcVHfIh4BgE/be3DThMXF1bg9Cp\n",
              "VocLKj29rc24LXFrouqJaCgqvyPTbKiGVyzUhG8tQHMK9LzCxOGbZJkW1V5iDExSENksNBLlaKnB\n",
              "vw8reVSNdO+OZIegBhTT2763GtEln/2DXuI98aIGLfyp/w6ftzEw+RhYlllxvzvagLIHQeq6Nb5Y\n",
              "EWh/UDWVIbhfzIMRmIcfmUFkYRJouthK9VJEsFSWc1VKAoUPqNHFjw8zdBQEBgjUVDclkhbcGaZm\n",
              "yUrnuBX5QJ83prYtl6d7dVD9xPcH/mSeDeDbZuamjuKGuLWaLv3MtMgR+Hp214nCFvFgGT4gFEjm\n",
              "Gtfu8wXjbC0gyN417U45C0wLM8HvIv3CF7ykgFAT9NnaAncs5TK5Nta+itKEw3aBhF6Pq97+mYw5\n",
              "Pn5OW1CTzubHlPiqlDFrHNIJrPOT74QZN9bfzuP95ufz8scL+jjdKXVlex8s2c+fIk7Y6zFUE4sE\n",
              "b4bfskQYOv+KrfckYulTiPSK2lO3oTzf5xRPgjzkqD8H6K2Uw9OrFfQOP/14pUKyZCe84YE42opb\n",
              "wCdIis6iVbqTo2f3aaS6JffhgVDF1KM15+F67RU+G+IbTsnxoW2c2r4nqLGSaoCLQtBqClODsqex\n",
              "X8d8dMBjDvUwGD6kuJV4LFMQFbx0stK7wxq1AfK7iL6DIj4R3XPVHxoDK7XjddzcgtP2DHR2uU/4\n",
              "q3w1/pc82bxFeQdOrOB62fAlb8WA3WClpVVTGlOj0450QhxGI2VTN808amU7lXfGnQo4yqCklf+V\n",
              "sbNf4O+/UHBeTvZSejvBPTPqprcO5GB5CZz7NhGXRY/LyKk0R06UwgyjUJ18c4Hwu+E4ps4r764U\n",
              "xku9rWM6UbyYGs5smc7qiJ3plvxcB9UqChJxUyWGReUX6xipW578ffQF4tCWJTtXXDbUSpDm9Qsm\n",
              "zaOIlFrCDcUxhsa7T1Wec9IqJT/fGPvL5Y3jCsn7+ha3RaubHyfjfngtd3kqkofMXl8x6sJ9lCeZ\n",
              "HDIsiZe1oGF4C6Cyu/MFEsGj671fGRmhonfRLLnGNJaDBosrg70E+zmOjdTPnxkBUDTZHuAhGvhV\n",
              "6qIv0MpterbmyddOL3LaVGDRsbIJiuxYGIKoLe4vTeG52smAhm76KxUxWw+vRr4vOLC1jNh8CXhc\n",
              "jVXRbCpFHxvZQT2tX/7f4aAxBzhIb/iNB94WDrz9eYQRqwP5ujM7ck67FUhPz+jrT2LhAUBLTjcm\n",
              "ySqdTpHf/bFf9wyoS2ei7UpPV8CcfpVooR+8z4VGbULfze3LOgVC9Quy3r/WTRBPEfZYkc1sGtBi\n",
              "migxLwY7CHTNSSJS9/y6m7i7PzcmlvkMC9yerPCmqojX6ce7/JbraVhuP3Vxeha+GiSei4x2tNxJ\n",
              "Bt5W0woDKvL3ZOI/4mkGxIkEG9BCURKTSPgFX36lJY+Cyeta8KG4Gz974V5mc23FqZZzQfNDg26w\n",
              "uLrVqO3lExFnW5srYd9Cfy9gTh+EIgS26EaAPJMf0ScLR3jYOHqKsA9SbBNARCdUIzxG1OmZPypt\n",
              "meLu8pwuGSMc5Qz+i6rwxH+Lm8mXyLW7UMmTNfPrSnbY2ZePEb2pWwZycr7J8XPr6we4gS6hrJeF\n",
              "GgT/KqnOHsuZ/J2nb7LhL/aPvZK7y0jQRJ/gYMwg8jT2hDHJ72AD5DCoDVCoRD4WWdeavvQGSOdz\n",
              "mkuOIYmcN2a7y3ZVfTPp18KLr9iDFV4TRWg2nNSlNvablgRNgx1/x/cco+XUiz4MQGjBAAAFjwGe\n",
              "FWpBLwAB5XJBiPvDbHa3HYAQ6hMacsmWZZ/h7c9sO8gOSkHcpCLfdcdaNeRIX3PYWJ01Q6S59whI\n",
              "MLf8SlkqFI5SsefE5sV9cWEBJNonCQu78slNrxWWYBBXMnrRJpLa3kvhM1ps91whP8VGLM3nusqo\n",
              "rGVx2lqbHGjXNN/9pwszVZg8IgIJ4gnIPQH2Yh4DGUUypbP4qXzm73Zxppqpmkre+QVkZsLblWne\n",
              "iSlRvD8XZGJASer747+nRjikkc0YxuGuArT5yzgM/1JfJ1FXZbsYN9TTfxa3hdO6S35qjY3L9oqi\n",
              "U+sV9uQH0LkJ6Kk6kxfVDNCF/6cUm7gJJQtDP/ir7Ee+n4KGCd8bSmfM4G2YciUBL6eQhGK7+hDO\n",
              "u4a2bulmAs0I5HeO9Z2j92Bki7P70gXjvx25HfmfNksSMAR6PJI1iNRkQxZBIutoMiK+YKnHbGKX\n",
              "csMYuoQ51i5HSXR/nmDuWhxGwrsaD/KQH0c2X7eBapr8QA9LN+C0LAFkc+UpU3N/aWr7G0tCQOUq\n",
              "cFRKjL+tIJLHxDKeU1buuhEwdDkprR77p2JX76mFemVpRrpcScOGaA365NHXyd1trcjpsHo7jk3e\n",
              "J9mgQ7FL2/4CqtCQIIMD6q7wGhj+MejX5itbHGVJkjuxOph1C8KHepp1s/dJqhxMQ6nwq16o39a+\n",
              "rjkuI0Gz4t6U5JlFfxpacDHdW7IT9+SnSFeOFd2XZe1S0xyxBARaYPDQxCWhuWHLwsJxrKJ4wY1X\n",
              "nro9+ozsm/gwgO0K+ZAk63gIM6r2cpjNIvJ2FmbQKnpzoIlFNiucfbX1q8DHFC8fIhnbUksrga9B\n",
              "52DpCtfedhZ8yDtGSwIh6yYX4zH0s2xcZKKkSn04YuPKxgMl+jtWCM4KqhbFX//+faT/MUX+Amsi\n",
              "nQ5t3ywYpmAuQXTkxq/LntQEPwGaq+melBOPDwtPdR2i2k/TT79EfUaOucjH/diNoSIunWnEygSn\n",
              "yVm0sB7idOBp/aJASYgLUkJ6iFGWwAILKa6e15azkGW/+OncrML1i3M863rhGNvFiARLPLmqBBz5\n",
              "lq9C0auc/8w+rAd43t55Vv7SJpDTUsRklGB2Ke80rxhvvqmzMJAJh4KwwLtRC3F6+rhHMOugof89\n",
              "mFd1lm1s9+BwgnXJY+qxiFmdC8Ws3EgbKzaVVGoRLBHyMaqmCBolF+LP3wKZlKgtleiHP9HX1lcW\n",
              "K1v/IfjrjQWwUNK23jIev2Nh6oAp4esQsF1e80zWUV2SI3XteRdhXl2sE+/0T6sRstGLEAeaHz0P\n",
              "WwDybi6pxGzWFroE50WU8YBwdpT0mc3C8vboOEokYHUJ+hJDdeqhM91ans/mIVMjZXtkXZx0+9Jj\n",
              "uiVYRs2Wp4ZtQ5q9UsKjgFR8WN1IH39i+EN0v8wuhhXF1D0wjIffq2QC3UAP73cjWFBV4uOvQvd1\n",
              "bZvrooZ8efnchzME/DvEBV5BgoKQdHdxfqrVMtpwUd/aGXPpx+iXNqOWRe3IKBqTYzl0WbdcutAn\n",
              "efwP592DpRAcNnbPoSelWFgTQKdXUfMXVLsLmryv/i/kD+joqxdJFmCQxbxGYvCk4Vu94x6tNTED\n",
              "wgXhl9cDC+otwvFteHXc3a52Id8742d3yxadLIXh90+t58n4XTR1X4qLaBS0E4vmnYWHSTmG53Nr\n",
              "+HmUeBzPW04P8xUz+gqiBROkBgsYC/2zSWGH7yiE5zqK6alb3rBF+b/4asOKn+jvznCA/r4GYFjO\n",
              "ev8pJg8wE6YHYiDqJNjUg8WyQvSDDF0jjX10/uU/0DaJXgjadhvo0byRSpS/8ahz03tvDmLWEJPG\n",
              "IVJzQKTPfnCGebsujHL7hblsZuoFgsFEQifSWswRQNn2xukQbgtwXBti63NNaznakqwoHHAAAApj\n",
              "QZoXSahBbJlMCC3//talUAB6E/EcD/JZQAJczUyaQhahXCLTMxOgGOmbws+TZF/2+idP/R8cyRqo\n",
              "H+63iRn1tFl/ryQmo1xS/gTaR+iuMwq2VE/+CblAMeWzUTz5yupFdSVQRv953Ff1bT4mxJUuqC/W\n",
              "JYl3QNPhOmiHYFq5nr4htkWM9vsg0HAdBj0rgjbDWrWjZE4R4EUINt28vV6gBzZsZv7iUysjJB3b\n",
              "OPADKpAKgu/Ksj5pAKUI3rM/mLaGYD1W3bVM1GRSM/j+cr1EOScTEzzBvZXSwpIAveTWxygg+Z3I\n",
              "4FaZ67R/cPf9NfvjCvc3LgsQzTweU6d851gFxflLzGL2oKEVKid1N2NvtiteK4iN3DSvfmMBmVt4\n",
              "/JqMWyTXqKtLnKBKnnfeoQ0i525Hg9G5/qhVtAfyYW5HEbKTODSWpvHG/pAQ7qpHuIwH4u/61PI8\n",
              "rg+8V/mI8pgI52Cp+bOFXq3lWby8nQrf7UVPYOt9TdANetVY64CJBW69c2XlAPDVimbmJoQMwTLX\n",
              "UvOiw2EBy3IQ6310VlS2rxI8J3/kFVGu/YeL02RvADLWu4+123/xEpYeuVRiDiOzzmCHdgr786Jh\n",
              "ycPba54YC+6SoUfCCunpwuc0LhJ3ISAXi9FzR9irOvPk5pUJpskhVLriNqUxYY+4Lh3TPGN8QwCq\n",
              "CEHJ3AlLBExahKLY3NaZ+cUuY46sbU5pvTcre+8BXDm7fQ4kZWI1FtrPQgiTog8kTkuINHklQANW\n",
              "smec44d8f4lzL29Nyt77wBqkM7cOFpFnwH4ZIEFHaGuihE5LiCfvp4YZmYWbMg/PVHg7BMt7bF2A\n",
              "9qbkKsFuzZchX/3MqSZlaGTYWu2cTdQ7Sb9sX4pAK7hNIXyFrhSLUyGyji6jinezEOiA2UiMxh2U\n",
              "afoZHM7LOxtVpxmjj8h9RisBx/+k2ipOSLnWkBoJi+za/5XUJCFT8RcvhL986Li2lKQb8TnKh8DL\n",
              "iAkq/0aZriBxOxBBqQNPelJ5SGbvY2AVP8wRwpF4XZQ+JouP4Kf99U3N4ZaQz9UR4vSBthNwrIG9\n",
              "7qlzctpSnEeXJF9YqrMMXmpWZO3yjI0/AJggcPK7xxlRonlsRv+4rmFTma4CfZEgMq6qkURNC82f\n",
              "AZqMmvjlKWM48tL7wCME5/wA9zrS9RFRFzC1J/CPi4WFjZL+z5Na46xM8pVPlOPBPzOwwnNqAqfc\n",
              "fN+V1YgrG2s0xBz14nxbO7lhUL51cNf0/KTd8MqsXxVF8qV1UD4STfSIKf7vPW0AmJx711GtaINx\n",
              "fhsowGH8FiAJS5U0/gPMCDVJ8Fs9GIMZGMdbpytbwP9DNjgza7iBzcFrnc3UR3JKJM35rBQIbyj3\n",
              "FyqFJ0PlTyLCknbDjnowdAyS6n2qqfIN/Rhgd29h4RS9vOAqAsFacQRh/b/IqE14Yo4Im/TPdUcc\n",
              "G6gJzcS206fbbXuSLtO3hgEERfVLq8kHa0lBNuI3B3Fdyyn7rj2Pokxih9BCcEsFZVUE9giReqAX\n",
              "gwo28P7IbBUhweMz0Zg3EIwpofcFjDxCnqbc6JvCQEHp/9B2BtF23oNXs1rVD61ZxoNAcFoTxYjB\n",
              "P2Gi5gCrrUkCqaWVgLWg42HF5ts4XyOOpcVgGyltMcL4rAZpui91Fu0pPOI5oBBB8yjvNbkeZdUZ\n",
              "ul68Cm1ll6t+XTYmmjLPzqewMP5ScOTezEmdfT/RfoA5qaSzMU/9autIYG5vvLPtc/p0BRpMzxa6\n",
              "oxCad4Z4+czooODQ5OZGgIW8faz43elLn3BfqxJOpgsapryUvcEP3yADB4VaVBueMny0YEKYNkB5\n",
              "lHWVHNwpeo17MNxWf7K5uF32O01mGS/+YNZ+j5h4S/RCvsM1L8IXvch954uwnabu/osOYHdt45By\n",
              "gVfvw3Fpb/IaBaXUq0zbIHK2YPEXuHePsUv1QiuRizhBc/P/SybjAYrHJApk886HMiui0JkJ7DDR\n",
              "5x69A4Em7rwAmGTekAHTnw03hvDr/nrO8J8VGzl3m/ZtjDb/eC9f0MNTP4dX7lNtW08kkcLJPSHe\n",
              "RmYGZgGxon6K3baG7OZyveHU4bNf39MMF+5MBXZ/YStxl+4zp8IYHgcLD8TwlDPafH6Hg5aar9Y4\n",
              "w/tmB2qVRDoG3FrKyoe4pUsIv8Fe+YkdyVQtx7fXRa3xXZUVENE9uRl4BM094CkI4yBn1HUFDiSB\n",
              "ii/ZVnktNo9tyIAY3IGabr5ZJkMkKeSGfFyFMZJqDD0IQkVoTYSN3inB5okA4sdWAZpnvuLMP6h1\n",
              "chJpq2JsOosYISDaVQrowgzpMtzVBd05q1Qjj/E+6SWIB8ewo3XDaoh46yI/jcBQQwN/7SvyVbbU\n",
              "BS1llgp1QV1+ZwDWNMJMdZERRARMaWYNAbJTatNrIl1wHT1+pw25BpUflRs8cBWDwUcga4hjQ3pv\n",
              "frFOBNvcut6VugbDP/DvbH3MHE0D57xs5kFH/HzLk4husEF/feaiOOKUBxyhA8W5qyIZKuNFsCn2\n",
              "rHzhV1t1HEQG+PU5PTjz0Xi35CEkII+Rk4B7QOfIYYapkAQLQ1wg9ofg6szmQkQDR3ZRkPf+vbFr\n",
              "cuArvh7w9YTq3YUATC1hk+j6Xenuxr/BIjv/ivH/+DcKm8CJnslSZmQVyQtKKidOhHyS0DS7Z5QW\n",
              "oliP0l3Em92AUoWTmxbFDUJJ0x9EcpKFgRBOUYwwbxHzyFdI52ZT63nvt+Li7fVetpuw1erASbbY\n",
              "6Rd6xvhMRcB/+3H1blvyWo53dOVRgMHw6kcUlw/g/sozBrz+n99oK5XJj7D1N3C1fQvtdAOWG7f0\n",
              "gdpIAkd5GM4VpK3TN/aL+Dn9SIqI53rLd1D8R4LSqHVriskuxZZHuLczQyjQiT8IvC4MKhtjTHyx\n",
              "mZeHD5cQZk9j+iUGppapMD5IYOTit+IyPis71QgexyjIWDkJAo7E7VJwjSByxaLopf3vHdQmeQKl\n",
              "DKTAHf3kLguecmHk0rk6v6R5wouTuxH8LzEQ8Yd50qMrd/NT6sJnvb0xtWirvslgS+92/1ivbvCv\n",
              "EyaQldmPnggYe7g1mOzGbezbq6IwzuCkGMoXyxKpdoZ/lbBSftj8Cq/xsHMG6mmKAkMdLGqWkcco\n",
              "BW+8kpl5XjYZlfpMydaGSlWZTQxLZzOpg6qYe+wmTCfc8x9h8U3ynWSd/jGOe7dA3+3yf7nWOgRb\n",
              "rPMAX+OMGNjxerEt0RBXdyPQagxeZo4A5Eyj43uts10Lck7ujqdP8pBUD1TuAG5nP4ptonP2c3uq\n",
              "A1IQl8gP42bxrinifQqai31mZOwXazIrh0A/9rLSpD3Ur9gI3xmI9zdKWS9VZJgZFRy/VsrfIBuf\n",
              "NIiBBrL704GLHEQGRIqIW3cZ5jo4mfulHlUnDRmVDC/xIIGoVmbmuoR99Pr1d5GXH3ulCToRxTho\n",
              "IkMRNjWVr4uQ+No8CMRexgqjgKBxvZ8oqMonFflBaag59szufkRlQlgq0jjrtDxKMhE3rcM5FQAk\n",
              "wc94nDiNIQAld5L1ecCJ+0aqg9p2+5xKe20DZhUKxOefMA5yTwAACN9BmjpJ4QpSZTAgt//+1qVQ\n",
              "AIAo+X4JrREgACpqxo3cb+YybtskQZWCkme3ofFzR4uQzZ2t6kt7mW0SWlMYBf18drKw4J5baJ9g\n",
              "fXolyaQiQzFo5Ec0PZBZp25IaxTYXBZBwIaqT0us5w269mZ0FbGq34mWfXcFwTgfuCInkzUWjkox\n",
              "IUVBx6upBO4w4sO5ENE05RMvQqkY7R/zb+ZduelxfeMlCqjdN7eRLuC5hSWIYhzRyl8s4h2zor9r\n",
              "3FHpXBg0EE663eBdye2tMr7OWh9dhSVLJKrsYne6pH0FhyOmFiBNL78TGanw9lewOphQiU4IirfM\n",
              "UDj4SBmeWFY7fLz8RbIQAgvMeTB/Yh5LvfvERj98R2PEpUIL4FA/lm+382jRB/lWGKsNqlk9Yfzr\n",
              "JUUuU+kA+w/Ck0P3ZhQzo8DVdnkJDDxy5na3Oo3kQeG3g6CoOgQXPmdC2ijiLBC35cYcl0ibkBHb\n",
              "mPF2ShV5q4E4AG+VnFr8hLsd2keXBG98SnskuPWfFbAxnvcDcsxkaVb9/r5KpqAraHsqsP6VNRnj\n",
              "SpaCV+HWvlvZatxfxwfS57sHElVwthMBftIEx8UcE3dxMKQxJKD1BlhN7HjpG2Gi/1z0/Cf9XXc+\n",
              "/9fdOo3ubKn/Ix14UEuOFCx1mAQFPIbUt1Gcd5u+84Azz8j/y2Xf+JlVbknMx/1Q4V0yUYkwhk9I\n",
              "37kxuaVrlU7eqaHYshW+aot86WLt19quLpckOg0zpHge6HNR97cWzw2EiRybHtPWaG7pmopwcEGD\n",
              "zZXpknTTf8js0UJ59Hhss1UG7bMWKjpatNuOkxCy0vqu+tuGXebn8J0P+GgzsOBqKCY7jvi54k8p\n",
              "Ic9mao0t5s43JQRyeLa25nAbZkxF3ERa+MwCv1LrUolA6udVMoMC6pDi0r8YEH6XnYtpA/Jpd6O7\n",
              "tz9UVdoBRuzsPO8/uIIBTsvdqITIRLYE8HcPTKv3x0xhOYcJy88mZDRVLzmodvZQACCkKeAZcXGk\n",
              "JdkIWdO0q4e4uOY5mKA+hP1+eBSE+EX576AA1qYUoCI1Ggshz9YRWNotEcbZVYU0Jl3OtuXpCPnI\n",
              "xhfZIuDghZXu/W+XLbyk2nOxsiN3sGb4bVk3fgE5Jmjkum5lnkqgi6Bj4u+/f8Cwfswuxic6n9vk\n",
              "Avp654r5Jkv6XXDE7O+87ZpAe14gnQqRDImmdwLequWxi8v3ONtndWxQ2SEXsevhx14EhsQP5XEm\n",
              "mOk5MWBXq5WnDEw/NeATRueBwkYTAZ67ZCNZSJE3vSzF4q4/jw9Bz66PkwQ4v/WRWyk0MUBnJC5W\n",
              "pCJdOdnD9nJMcr62d7fXQVsrCV3hWg10qNoSUcjS3tisRvTacy/AGmaS4YCHMjpDNKtRNecFAqgH\n",
              "MiND8n7gHk3ZVXR6xzVu+p2jngEQ6AujLHBFfSnFAk7YSODaMDCOCUREU3WiEtkt1yRrHxv9Y4S5\n",
              "4AP//SI16waRI/jBT6pmBzRBRMBXyOXPnmemj8jgpBXVqTu0kgbEPBWV0GvlaDOHo4oC2gYHD4jh\n",
              "T5qQzI99ggmGy5m+EsPlymX2NEFwrIB8sAn2vtRSb3OfHjBAX6sAZYU6A9VzLezO/JSpMxF3BPQo\n",
              "7fX7z38Km8QQ18NAQC40umgFpOrd+qyTMpFd75qTjwP/CkQEShGZQ0QHYLkEv28oS8xxneL659Pn\n",
              "sHabsAixV5lG5/JY9v1NNQEyMVM/h9qFJ5da83kIV6wcm7V3hIYbU85P0uyyLB5gegiNal7gKxj6\n",
              "n74djrYI93hni89+e0okw4Avu/X6IFc5CrgDBEsUo2Ig4B4iNHbordqUi27Q1a5cSpErdyR1Ztd+\n",
              "k3zPD+4s0BoZ+frZwQ5OHrnbjZDvcJojX9+YWw9IZu/kDiMl+G25t1KNxNWRr8326xqEqR0P7WmY\n",
              "6DojBvrQlaWOzL3p1IfJcDO8YqbJgeSnQyiyHc7M87g1DL/Cr3JuDqXWNK24zlA/huVIfHOoEPRt\n",
              "GF3SfHPUuNupUGrBJIMuutsH7jW15oSBJWc1eGP7yEEpSOo8QrMc7FEXU3Eot4QoZVXWxtjHa+ye\n",
              "ZLQwa7ot9xby5FKOm/Vxgk8+2QOxJ14yf9Dq9AJdypO0m633vFGRIoXD4YsNAidmJ5Xr4igeA2xz\n",
              "FoB1i35U0kW6k2b6IJ+yKEhM3PWr3y0ix9M/LiRVy/gKnQ0tm9PqDAg9/Jo+7fpbz8/bq+H2ctqF\n",
              "Kq6tCeWkl/gfDt/qCrTLjPleuxKJbAnSGZ0QydeOyTF4Q9hNF0fReBi4z3cIQkSziYDTv7Ok9NTC\n",
              "Oot+hNSVMVXaJCxlw6yJNtm5kOb3jVAzFhLs8HGY//9scpczGMyPKrbSnDHbVXfw3m3/dB75EsWf\n",
              "55qvKVpI6Og01JEzFct/lseWJvb5nmd9r63zxPGDzDhREsSdwSSCt3bQ+FusjEbEzV4NLV308/fU\n",
              "f6FO360LlPG5qrD4ikIKm9wzDi5vjFj3kICH+dSb+6vRkkhR5OEk74NIjWxiqhDjLz5G45pq8uij\n",
              "C18Ch3tCHSTkMzIVKNs3fcdrgeoldvVdWQBSQo0LLckon6bEdna+oukNf+Oallsd7IzAlHWVFTtr\n",
              "8tjplNZ+Cfv1pHzmkyMnlrKcFxr65bVR1J7mqbmmu+WS8MEHR4Idao9sBbYPS2objpX6DnNS0I1T\n",
              "3bNYtDzeXuH+MpkE998xa7aBSV9i0ZG/Rgl8T3yfpgE3pw4SHPPJ5yHhbvXCJD3iMmaK2lthqrYw\n",
              "TO6h0GjAQT155CDVT0kHltS1UdFpXlXkpLym4LSSjV8/jaVUY4whDZ/wabNFVxigqoK8CgibS6xn\n",
              "xBixum0AUMUlhB1EpsXz2dFWQw97FZiLytoyWPp4vPkP1Wim0CdUWjXmVxJSJHYd7MgugLy3OhkC\n",
              "sS+kg/8xeeweWdb0cxtk4SqdOn4NRJ3SlH5THqtYCotV3okqRYFNK0JvVap7igZVlR9RtcsPNRqP\n",
              "33rmcZqHKHMcsUudjpw+ZG5sajgkLANvC9Tkb4ZeUScAAAUjQZ5YRTRME/8AAVKM5FXUVs5cABzm\n",
              "W9jUx7nS9ThETsm9wIXnT9e2zrKCBHlzppvMYcn/pU7OFn2a9YDSXbZ8ckvAn7wWUtgi6e4gceKl\n",
              "ZTNlHFIbcMoXA6odtuqOWkZ2PynNu1I3GF/C1a7pjU3MfBUi22Fj1y0+o9qWkbrtp88j1zZTGCaZ\n",
              "FZsKW2HJWUpE+9HyLhWpXzZGENN8bm8e1EebCh4Q90eUsWrnaqp26IznWCy31g5iX/87HHmYvzlT\n",
              "nZwWBE8IksQN6xivNzc9v9OLRdctedc6gsx/TFW9r7iG6xvx5hMmVow7WNmsyg2aNG7eLkHdhLER\n",
              "voubdFAyzMb8l9CDsGWYg+cDA2LhYr4Kk8l1YKvDOWVQFdvYVS6TRXmvFexJFYEf9CKSBPn2HfT+\n",
              "b5+YgE8yLiHioSOSL2SII+4GLJYjwnZN33GhetASz8EBNFL0/T+uLDd4RHQum1YG1RYgmfB+NUpU\n",
              "f/gouG6Ha5wp8pqQ2wW4SwMbTTqd5mgyJ/VExlTCl/c7zQUIAVgm0r8Mdo8+OzjMU8syU5gAQYm/\n",
              "2b1iKjnOI3LqUP+eSWEqJK1uIKSNp03RTfj2jlUIw2csdDW82cncdXypZcjxoCNSN2zL7HE9TMqf\n",
              "mCWw3qsBL/4prQ88X9bMTpfYn2qNt2yR72fDUr21Ho22144/rwcYtEdojsuNt/HvQWNPt/bqscsz\n",
              "WZiz4fJZlTe6YuUTMPa9e/sjnnDiOqAE/FcjXsasD+y/tJFDiuNBHAHvEwEYbH5ciDsD/2NpgmUc\n",
              "YMBdqm96Mk/XSPlWM1Owtawn33gRDCZZ7HLVrLdwlWBxOPx1synq/F95SWbRJ25DeK/Q1Zjdtkxs\n",
              "A/N6UwXpetPygbYpz45/RIKPZEcTOGlhzCGfLM6qyGRjiWuPLqBMgoJvF4pPfRVBaa4cTKPoVGKP\n",
              "5pfeUB4zfb3BCwd7IGjQODHG6vFAWU6xHFaKXDitXISa8vd7x6LYN+2wC0sQTnAd0eBNJgSsMPVD\n",
              "JTO9mmInFZf0Z5fX0UfyRglx9FX5rKRHu23L+SAmMa8zUkSjj3QXYY1Ijc5/ANRnD1TTnYyN35T5\n",
              "IJ/Meg78CvoKM8bxmhCo+2eS90JedUhkmXgk/jrXrm3grDlWfhLRQ7b0AF0gKmFwbabwnYMO2x1E\n",
              "EwRCbp2iJHcWPdD+0G3zybtxHskPHTLSHA+eu1GcnRBbyBVlWeO/k879eLBS/OhVwnQn1FvajK2k\n",
              "cQDAN0tI/1H2lq3VFwZ80GbMDwy2UCHhxkZFnB8BUgeoGdjl6yc46hVs7a0BmyxxiHWUvmNI/xdk\n",
              "B422I8Mn9pdawqwifkuvrRL+bUfp0a5G8cfM/gurwYQ6sEhaoPjkSJcNt+qDbKYdslgwBgwQc4EB\n",
              "nZaY8s/k5jhYmVrZjziW2NbhRsPvs0xnzNVnLFUpknypoxG3Jk0IKXTm6W7ysFWryQWz04E4X666\n",
              "DVtIv9mnOjJcLNXDLxhxseP4Y8Wovy0OeS4q4QhwfcTQgOy45XGHSvZDLQ3lvNciW7Ks8q0mD+ki\n",
              "TSeQiGyTUefbSn9qdw2vYh1+TVLlLj907+1L1+U5JvarG9lSpgpJgJepVzgCf/7fO+QhBu/V88/j\n",
              "/6Wy0nwvZgBKh9GNJsn1xi/muZU/dXbGr7YzC8ahbn0LCodw8ahTXZBNLttinE9QvV5OjNpgDQSd\n",
              "Lm8jCDkyOw7/5Cudz5AYoU5zxvYJBDyBEebKJegdJPtwFfH3SNspIAAAA/8BnnlqQS8AAdhDaWxT\n",
              "uABA+IcOcGplVeobzZwOr3BUmbAZ7HkmLHQoXiGr5uUFvjPQjXL4T4hHzXAfTLjQbz8vM1qr42Jw\n",
              "++RtS9vjH0ZtNTBfKtmUs8TgRL9aMB5On4MCMo1ND2jP/6r0GTaGfjdKxsNtIde6ZIZp3mBPNeaU\n",
              "0+KCSxc7Gmqt3U1cBLr2e9MuNGoWpHUeNEGP+zg56Gq5SUetpiCZteQy9+A+n0OnrnfiZTI3Bcmv\n",
              "rfsJNOAay3aWgncIEO2QV62HtY2XySujLhhKqxHxQIk7ZdJINYVF2AzoGlMOFp8hd7l5pDh8HTvk\n",
              "YMb5OT1WOJMaxoqwxVSLILU3guPIcj0C4Lxu1sQpy1SB7kVoJwxw7MIebImUTV5LyhdLMwD0QPUf\n",
              "+R69Z7baCRP7L7OMVPUf7cJ7NJJPdft2hlNtZnBZS74Fx7zGgDc3Ea+mK7pDI3zjA6bHmZUrvU3Z\n",
              "2sUzEMvbE9qQv9YwL8I8szKxTxtI+JpfiG4pk8Ipw2dpRbqYTVOb7iYz0Lmk0kIOADk7Sg8U20r9\n",
              "qRyNMbWt/AuLPz7xG5tVhKdeOK/E4xLhM1iKkcaL0lk/ylJbBx2UeKJPis9vqXJhUyMcXQvbWiUt\n",
              "DbVsajeeL30fbIzA1xYjL9z2BtWcBTJTu7DeojoFQdHUPYcxc/ci8HUz3BHJN/IjFYqQpSDDWVfK\n",
              "hzegXhtH7ldkJndmxq3ZT/wgy4DlkPABKJNw1sxpreA07PAHUTTEYlSZchP0fMhF7P97DoGPCTLI\n",
              "08qPWo5OQCQ53m3zG0mUh3DP8YpWP9FwTdKvfPibF3AWClrolIHzy8lpqHMbGis/TSK7Ta6Q+o2s\n",
              "iIz9MqrwMqIJJMjORLDOEmmMVtMfs+K4+DJ2mnmWHUWtcHKGk19yjDc9frXV7v7/Hczl8ZiEOBfl\n",
              "Lia/NO/aKPk6tJxj4LpKKhZIecCwp01ZdUu14JxMx6sYd/iZ/+w86pobr0hmaeik2BnaexnR1cHk\n",
              "dkwvPrIo3IHIM0vgKupXt1w7sVdX7gWh2s3HjbgbM2+qHegY8Q7Fy/JRUZF3fv2f2rlZABqh1ehZ\n",
              "cjpIo/gf5wt+ouZ71yevkeRhAIlKyVfAhiggYukVK7cLK3R1qOxhegPaoFdUgP+cNgWKqxHcGDxk\n",
              "wNHdv3BD0At5S1E/r+UjoluZGmdj+SrsEZCjRyK6+Yvl7vT2zL4j0oqYquPmWdn/atLf28mUlWiB\n",
              "6xOIWB3hsJZYWtyWYxJSwdVhKBCF8eIYwHvC1tAS9qU3LdlEn9HhcXa1aK+w2aFIWNDWfitohUQW\n",
              "L1iFg+kF9EFwgFu3EG+FV4v/RUCg8BrAhPA+eCtJhf0tp+r5OQN2FcEAAAO/QZp7SahBaJlMCC//\n",
              "/tqmWAB84uhgANwZzy0YLw3352nYWUfiGtTjQR8tYVup6R9qR4cSGI42nt1e6EovPqm5L6HvFPmY\n",
              "M+UHm1fxmKkViTSmYLtFA7cp06pkcYsgblVVzH3mXQf+gfrRwbESfgdSDzue5n4Due5kzt+VDHTF\n",
              "E237NIz1tjpnvhfOMIkCPU9m1SkZDFoObeHmsg9ssx7X6KCpPm2lj8+6Kakwy52O6bTH7zBHV68w\n",
              "rBOhwkaBQZ5H8YYHkHXAdKZXzwPwJndZj17Nyptb3+di7LXqhAu6VWl15y8Jo1woSL3HB0KQBtxx\n",
              "gNu9Kj8+ivA4kowlM7yYVmcB+U2/NIovCouU1LY3Ymq4ctydD9gk2esKC0alyB/kCtizwvY5044c\n",
              "rXBWlyOB7k89QVU2/veyGwH9Y+3tyvNre8HQIcVezrdcxCoJ1r2MDpgjdw75SW1/+eOdmxFCvoRF\n",
              "iZ0hU75NQTNIsdALaoT9Cn3bVDBzPgUfYIv/MNLciuVfvCQQtiGjWyHzQTRPMJsOHFc/t9IX18f0\n",
              "tXsTq2vhsErazpd9pgSWaVjf2fo89LVFtFvd9AOFrKKfEIEJNK51bjepfBGJ4cRmNKVx9LYZfKFu\n",
              "4Z3+Qu0bzTxvQSKjgmglYKxPmTrTAqV5sEQXzpikNlwj0j+jmK7v7Msxh8sw53nNYEckwioAdy4T\n",
              "B5GgrFdqsZbd1DSoajW5ReJZfE1TdkBl36n8ssUwY3/4gEkLk/2HsYY0jVHez0TbeeYm7mYy0HEs\n",
              "vXLt08IqXNopmfCbojj9Na0cv45zHBFOz8wGVGv5gsa+iLrjCfxDJxcsuKikZn4EP0aY4yxnDhnZ\n",
              "5UzBKjGq9HH+4S5H17xLYw7WDdwiR3cgNLLcNuyUfZsaqL4KmstqpP8yWx/YzGewqm3YymibYBEy\n",
              "zobXhJaac+xKD7JfIdiLd70bZsYeyPVfX0VXlka53O23R1oJr0iBybZOuehPXWObwmIreQ9Mgjc5\n",
              "4hdxLuJapO0NYrr+tq2dWAal2HyjF4HgqabHJMsUK4XVOp5XnaNidYrZjZM2TBKXGmwU+zS0/n2w\n",
              "BiN9r0CzkDiIYe8MaIvHsZfhIw9DC/qaMVQTPZhCRX0MMBSfFaG+cdDpoY936o92pJjnD9wXr8Oy\n",
              "GiMRqQ0relPW3FXRe4KMHfSGLoWH5ebgtO3+qZaGT35vevRk/zqBd2e/zoZYUxU25IuI3hEIKyQW\n",
              "b4PQQkf4CAbCy4ntjiZ/YF8t82MqIByMAcGHZLI6C/uKB2IAAAa4QZqfSeEKUmUwIL///tqmWAB6\n",
              "Z1FFj1ACmgAT0OcsJZENFDMYQfUFGxxllSDXnL2rDFxxkdkhyRkHtz+LDaBf6qpiZWP8+/d17jxg\n",
              "5jF2Fr+dXGIZeKNyeE0v9tiNIeO/zHLK3PyFu9sqYhQHsMBMOaZnz2F2jNqokcSmdUFJLFGuMJjg\n",
              "erefMI7NCRSH55aX7+Diz8JVIMHFMeDClmFsYyyOmblq/VL1vv7wjeaj6KipdtAaHI10JIY4Z+V9\n",
              "4/j17vku3BVa6Z9bdekUzqm+znFZgsNSuJurxmt14Nm5G9R7KnVkTbae/RXBtTV9YH8QRUwiDlTF\n",
              "ub94ptjI+Aliwh76JluBochHmxp944+34ruSKwxwEv/ADMd3RMrdhjMX/SkptjC3vKB0n8F13X9P\n",
              "VqZ8tGA16LCSMgE0D86BX7BXMZsfovjugqpuB1PzxAeVwlPjTE2kEx00N62/9242SSI1Emin4pts\n",
              "ALB4y1Rh4gysj5nVKt6A2YOaUY4ENlxHp/GYY2FKY5z1Xx5vMdB6DNhm+uzvbq7YCHCeiqPHkfGg\n",
              "RToN39TlhJ2y2i6zyR8s8I7+80rGc15KlDDmOxBTbDxYAfFmGLs9xaaNGjLBeeeIkJv+kj0tS3mE\n",
              "V5eipp5dUTpso3BIs7W15Vc6ypNBH9H/GZ5QV1sUJCo+wWoJGaYGzn18ANAGY21t1ZewUjy7BZ8L\n",
              "cL/EixHi0Vbz4M4PfB+0B7YewzKLpHXE7Hfxdmq5uJ/2Zq2ExE9MZcIdSVEZvaSH5GWWilq6RIvb\n",
              "sdXdDIWjrUq9nMjjX7o3gU5It8U8rvGghHWxRSo8fCAs5te9We8pUVKoW9g8AyLPlp1M4Mmel+tz\n",
              "LQ+hMbU18UdlnjVjs4AZEuaiBFRKrHS0wgnAgeKV+8aAodr4PCtDVxAFGCR8oAYbnz8IMoS4im3+\n",
              "+wUjaRFxhhbN6YK54CdnJcgsDI9NJVP9cFM3QqISKwsECe8CxefU4CGDxKLjrC5EBjFkwtLYjy4L\n",
              "i3yjllmq0d8uhIpex6HX1cZc1LryvWOCFNTQxAbn8e3y97rYVzamtfDW9Z2mBuH0wWCfuHcDWHDB\n",
              "LIdoGflIHLMsnbuookLrwYBDbxdCTqBR8iPd2hQbHiiamWkpVOzzMtwxGHyKTYUa3w0fN8OKw+40\n",
              "TjlqPV54Kt88VK2XUPtmDWtAl6WxRszkmR55rRqlxVk4gEOsPxTZKPmWFyMUxYDu1O/IxlvlSI8g\n",
              "aF0dyEjcgeLgGsQH0jLCg7x14hwD1ZHKw1Q6iZP+A0IyDVoORA1zfW/E6XsHE0keC/x3/9KeoGbk\n",
              "LJbbslcv7G6+jOOXFWi7btOT0K46l3D2vM139IeflmhhtXN+NjSAVSPVT616yETnck296UC120/1\n",
              "/9ZA4Fas2upKo94mThhaNvwS3n1PXfycC+cqZGRS/y4uxrgAWlUvOxujBpNKF/0xcbFmXVCin8lR\n",
              "GL6vCUnhrADi8erEXfCtff5+D3uhq+4XU+wX9OIPyaoAI+2s6Cyu+b6IuKYVKqzaLtigr3+W8Iyc\n",
              "6egR/SYEbj0vELYdsr5DVApXxjAacYa4+OrseOPvV7pJ2+5hrSnAPdr+tvVbtGFij/6B2570gRbR\n",
              "wfHVfTBdmtbVLLwqFHNZCYhpt19zvw8c/G6QQJ+mWJnLgMVNHJenCApC14qj5L3uRXcVJmrB+LiD\n",
              "P9rjeaFzoVzBWmFzt7pxeXexNvR3CDTXGIzqTqH6BWmgaU+VT1bnwCQDQIX3KSTEhp7bUqIX4J+7\n",
              "Fu8GlW/v6UMGn5OXpcuM/R6YnEwOuNVVKhymjoIe51J+WYzI95VsZbyj66OwXGwSyU06eW5jc0iM\n",
              "wmk4Wci4RM+/dpBQrta4NQPOVvAeTI8Mt/YFM+wTZqo5x8TKfKiGyjoitjxCNOoWvqTxHjPlpE7n\n",
              "E1FXCM0LXqyzmw30WEhcX8BKtbqMiqghU7Xa/jghy7RLBrmIo/nH22igaL+V3tLK2YpbpjUF70EQ\n",
              "SrY1YezcX9nSalmMipfdyvA8+RxQHZXsGeQvjWDcOwE/vmiFHWrIXcYjNbKmI359SzdptRhleXCU\n",
              "E6UEpUZlgM8orFTfBtqciIaaIUu5u+VCBIlX52J4W0Rh6uJSIbGn0t1eJ/Zxm3DnkJrwvrRKY6r1\n",
              "6tARKj/gtzXmwaPsmqwR3hlL8FPFAnsOa5ePjujT0PEHA7CDOG/S0iqCCg0fFTQTEL0SNSWecRWs\n",
              "nAgtdmTZZfkxL/dUqx7mO0OwL3H7lduiRmGr8rDKbg+dR0CGk8uJRSnxIma2vh2lgQAAAHBBnr1F\n",
              "NEwU/wAArCge4FB6y0HEInlbExJW5GrKi65EZHWhRYvaiEJfC7ZtBwAJjP+iDBQRMjIV1G5Sj4zg\n",
              "BOxzkADdQXmW8rPMTcRXCK9glngphb+k2QTvLcBHP+QzbLE5E35bEv/F34+YVY1YgBgRAAAATAGe\n",
              "3HRBLwAB2lKZMgo8xyltPFDuagZnnKrm+CkYNIkRJhLGMIvoBvx2CQ+HxVP112xVkfhncb5HWx1s\n",
              "Q7m558IiWFMfzneMxoA4CwgAAAAyAZ7eakEvAAADAAADA3LmWTCVySvQqWmeJT377G9hKJu6RSDN\n",
              "MPFlCEQRSjhyIS8YAY0AAABQQZrDSahBaJlMCC///tqmWAAAAwAA1HK60gBaKj2nImBwQSSD2a81\n",
              "aB/qpn8NX6PYm+C+0Dg2tfGxa7dqdA9Sif8/dpB4CyKQZ802/kj6vTEAAAAwQZ7hRREsFP8AAAMA\n",
              "AAMBPV+mSytYSEVRsNd7f3dIWWGU/PNYrHmbU2ZDFNWrwJKAAAAAJAGfAHRBLwAAAwAAAwNysYZd\n",
              "wIO2oPUAx8X/Nd0htKUi2wEkDQAAACIBnwJqQS8AAAMAAAMDcuZZKgAc9qK+tVcb+chQYAIXJAFb\n",
              "AAAAMkGbB0moQWyZTAgv//7aplgAAAMAANRyutIAWdH9noppSCVVgeuvM/wDawNnDV8wAAqZAAAA\n",
              "LEGfJUUVLBT/AAADAAADAT1fpksrV4AHZ0Gu3LaSOLiqj/nxkNcU66+UAN6BAAAAIgGfRHRBLwAA\n",
              "AwAAAwNysYZWACKeBhHyrjDevDP9uphQDdkAAAAiAZ9GakEvAAADAAADA3LmWSoAHPaivrVXG/nI\n",
              "UGACFyQBWwAAADJBm0tJqEFsmUwIL//+2qZYAAADAADUcrrSAFoqPaciYHBBJIPZrzVoH+qmfw1f\n",
              "MAAKmAAAACxBn2lFFSwU/wAAAwAAAwE9X6ZLK1eAB2dBrty2kji4qo/58ZDXFOuvlADegAAAACIB\n",
              "n4h0QS8AAAMAAAMDcrGGVgAingYR8q4w3rwz/bqYUA3ZAAAAIgGfimpBLwAAAwAAAwNy5lkqABz2\n",
              "or61Vxv5yFBgAhckAVsAAAAyQZuPSahBbJlMCC///tqmWAAAAwAA1HK60gBZ0f2eimlIJVWB668z\n",
              "/ANrA2cNXzAACpgAAAAsQZ+tRRUsFP8AAAMAAAMBPV+mSytXgAdnQa7ctpI4uKqP+fGQ1xTrr5QA\n",
              "3oEAAAAiAZ/MdEEvAAADAAADA3KxhlYAIp4GEfKuMN68M/26mFAN2QAAACIBn85qQS8AAAMAAAMD\n",
              "cuZZKgAc9qK+tVcb+chQYAIXJAFbAAAAMkGb00moQWyZTAgv//7aplgAAAMAANRyutIAWio9pyJg\n",
              "cEEkg9mvNWgf6qZ/DV8wAAqYAAAALEGf8UUVLBT/AAADAAADAT1fpksrV4AHZ0Gu3LaSOLiqj/nx\n",
              "kNcU66+UAN6AAAAAIgGeEHRBLwAAAwAAAwNysYZWACKeBhHyrjDevDP9uphQDdkAAAAiAZ4SakEv\n",
              "AAADAAADA3LmWSoAHPaivrVXG/nIUGACFyQBWwAAADJBmhdJqEFsmUwIL//+2qZYAAADAADUcrrS\n",
              "AFnR/Z6KaUglVYHrrzP8A2sDZw1fMAAKmAAAACxBnjVFFSwU/wAAAwAAAwE9X6ZLK1eAB2dBrty2\n",
              "kji4qo/58ZDXFOuvlADegQAAACIBnlR0QS8AAAMAAAMDcrGGVgAingYR8q4w3rwz/bqYUA3YAAAA\n",
              "IgGeVmpBLwAAAwAAAwNy5lkqABz2or61Vxv5yFBgAhckAVsAAAAyQZpbSahBbJlMCC///tqmWAAA\n",
              "AwAA1HK60gBaKj2nImBwQSSD2a81aB/qpn8NXzAACpkAAAAsQZ55RRUsFP8AAAMAAAMBPV+mSytX\n",
              "gAdnQa7ctpI4uKqP+fGQ1xTrr5QA3oAAAAAiAZ6YdEEvAAADAAADA3KxhlYAIp4GEfKuMN68M/26\n",
              "mFAN2QAAACIBnppqQS8AAAMAAAMDcuZZKgAc9qK+tVcb+chQYAIXJAFbAAAAMkGan0moQWyZTAgv\n",
              "//7aplgAAAMAANRyutIAWdH9noppSCVVgeuvM/wDawNnDV8wAAqZAAAALEGevUUVLBT/AAADAAAD\n",
              "AT1fpksrV4AHZ0Gu3LaSOLiqj/nxkNcU66+UAN6BAAAAIgGe3HRBLwAAAwAAAwNysYZWACKeBhHy\n",
              "rjDevDP9uphQDdgAAAAiAZ7eakEvAAADAAADA3LmWSoAHPaivrVXG/nIUGACFyQBWwAAADJBmsNJ\n",
              "qEFsmUwIL//+2qZYAAADAADUcrrSAFoqPaciYHBBJIPZrzVoH+qmfw1fMAAKmQAAACxBnuFFFSwU\n",
              "/wAAAwAAAwE9X6ZLK1eAB2dBrty2kji4qo/58ZDXFOuvlADegAAAACIBnwB0QS8AAAMAAAMDcrGG\n",
              "VgAingYR8q4w3rwz/bqYUA3ZAAAAIgGfAmpBLwAAAwAAAwNy5lkqABz2or61Vxv5yFBgAhckAVsA\n",
              "AAAyQZsHSahBbJlMCC///tqmWAAAAwAA1HK60gBZ0f2eimlIJVWB668z/ANrA2cNXzAACpkAAAAs\n",
              "QZ8lRRUsFP8AAAMAAAMBPV+mSytXgAdnQa7ctpI4uKqP+fGQ1xTrr5QA3oEAAAAiAZ9EdEEvAAAD\n",
              "AAADA3KxhlYAIp4GEfKuMN68M/26mFAN2QAAACIBn0ZqQS8AAAMAAAMDcuZZKgAc9qK+tVcb+chQ\n",
              "YAIXJAFbAAAAMkGbS0moQWyZTAgv//7aplgAAAMAANRyutIAWio9pyJgcEEkg9mvNWgf6qZ/DV8w\n",
              "AAqYAAAALEGfaUUVLBT/AAADAAADAT1fpksrV4AHZ0Gu3LaSOLiqj/nxkNcU66+UAN6AAAAAIgGf\n",
              "iHRBLwAAAwAAAwNysYZWACKeBhHyrjDevDP9uphQDdkAAAAiAZ+KakEvAAADAAADA3LmWSoAHPai\n",
              "vrVXG/nIUGACFyQBWwAAADJBm49JqEFsmUwIL//+2qZYAAADAADUcrrSAFnR/Z6KaUglVYHrrzP8\n",
              "A2sDZw1fMAAKmAAAACxBn61FFSwU/wAAAwAAAwE9X6ZLK1eAB2dBrty2kji4qo/58ZDXFOuvlADe\n",
              "gQAAACIBn8x0QS8AAAMAAAMDcrGGVgAingYR8q4w3rwz/bqYUA3ZAAAAIgGfzmpBLwAAAwAAAwNy\n",
              "5lkqABz2or61Vxv5yFBgAhckAVsAAAAyQZvTSahBbJlMCC///tqmWAAAAwAA1HK60gBaKj2nImBw\n",
              "QSSD2a81aB/qpn8NXzAACpgAAAAsQZ/xRRUsFP8AAAMAAAMBPV+mSytXgAdnQa7ctpI4uKqP+fGQ\n",
              "1xTrr5QA3oAAAAAiAZ4QdEEvAAADAAADA3KxhlYAIp4GEfKuMN68M/26mFAN2QAAACIBnhJqQS8A\n",
              "AAMAAAMDcuZZKgAc9qK+tVcb+chQYAIXJAFbAAAAMkGaF0moQWyZTAgt//7WpVAAAAMAANRxuJQA\n",
              "sbzrCzglD8Vu3216U+/5bVLOWg6AAImAAAAALEGeNUUVLBT/AAADAAADAT1fpksrV4AHZ0Gu3LaS\n",
              "OLiqj/nxkNcU66+UAN6BAAAAIgGeVHRBLwAAAwAAAwNysYZWACKeBhHyrjDevDP9uphQDdgAAAAi\n",
              "AZ5WakEvAAADAAADA3LmWSoAHPaivrVXG/nIUGACFyQBWwAAABxBmltJqEFsmUwILf/+1qVQAAAD\n",
              "AAADAAADAD7hAAAALEGeeUUVLBT/AAADAAADAT1fpksrV4AHZ0Gu3LaSOLiqj/nxkNcU66+UAN6A\n",
              "AAAAIgGemHRBLwAAAwAAAwNysYZWACKeBhHyrjDevDP9uphQDdkAAAAiAZ6aakEvAAADAAADA3Lm\n",
              "WSoAHPaivrVXG/nIUGACFyQBWwAAABxBmp9JqEFsmUwIK//+1qVQAAADAAADAAADAD7hAAAALEGe\n",
              "vUUVLBT/AAADAAADAT1fpksrV4AHZ0Gu3LaSOLiqj/nxkNcU66+UAN6BAAAAIgGe3HRBLwAAAwAA\n",
              "AwNysYZWACKeBhHyrjDevDP9uphQDdgAAAAiAZ7eakEvAAADAAADA3LmWSoAHPaivrVXG/nIUGAC\n",
              "FyQBWwAAABtBmsNJqEFsmUwIJf/+tSqAAAADAAADAAADAesAAAAsQZ7hRRUsFP8AAAMAAAMBPV+m\n",
              "SytXgAdnQa7ctpI4uKqP+fGQ1xTrr5QA3oAAAAAiAZ8AdEEvAAADAAADA3KxhlYAIp4GEfKuMN68\n",
              "M/26mFAN2QAAACIBnwJqQS8AAAMAAAMDcuZZKgAc9qK+tVcb+chQYAIXJAFbAAAHnm1vb3YAAABs\n",
              "bXZoZAAAAAAAAAAAAAAAAAAAA+gAAMNQAAEAAAEAAAAAAAAAAAAAAAABAAAAAAAAAAAAAAAAAAAA\n",
              "AQAAAAAAAAAAAAAAAAAAQAAAAAAAAAAAAAAAAAAAAAAAAAAAAAAAAAAAAAAAAAIAAAbIdHJhawAA\n",
              "AFx0a2hkAAAAAwAAAAAAAAAAAAAAAQAAAAAAAMNQAAAAAAAAAAAAAAAAAAAAAAABAAAAAAAAAAAA\n",
              "AAAAAAAAAQAAAAAAAAAAAAAAAAAAQAAAAANgAAABsAAAAAAAJGVkdHMAAAAcZWxzdAAAAAAAAAAB\n",
              "AADDUAAAQAAAAQAAAAAGQG1kaWEAAAAgbWRoZAAAAAAAAAAAAAAAAAAAQAAADIAAVcQAAAAAAC1o\n",
              "ZGxyAAAAAAAAAAB2aWRlAAAAAAAAAAAAAAAAVmlkZW9IYW5kbGVyAAAABettaW5mAAAAFHZtaGQA\n",
              "AAABAAAAAAAAAAAAAAAkZGluZgAAABxkcmVmAAAAAAAAAAEAAAAMdXJsIAAAAAEAAAWrc3RibAAA\n",
              "ALNzdHNkAAAAAAAAAAEAAACjYXZjMQAAAAAAAAABAAAAAAAAAAAAAAAAAAAAAANgAbAASAAAAEgA\n",
              "AAAAAAAAAQAAAAAAAAAAAAAAAAAAAAAAAAAAAAAAAAAAAAAAAAAAABj//wAAADFhdmNDAWQAFv/h\n",
              "ABhnZAAWrNlA2DehAAADAAEAAAMABA8WLZYBAAZo6+PLIsAAAAAcdXVpZGtoQPJfJE/FujmlG88D\n",
              "I/MAAAAAAAAAGHN0dHMAAAAAAAAAAQAAAGQAACAAAAAAFHN0c3MAAAAAAAAAAQAAAAEAAALwY3R0\n",
              "cwAAAAAAAABcAAAAAwAAQAAAAAABAACgAAAAAAEAAEAAAAAAAQAAAAAAAAABAAAgAAAAAAEAAKAA\n",
              "AAAAAQAAQAAAAAABAAAAAAAAAAEAACAAAAAAAQAAYAAAAAABAAAgAAAAAAQAAEAAAAAAAQAAgAAA\n",
              "AAACAAAgAAAAAAEAAIAAAAAAAgAAIAAAAAABAABAAAAAAAEAAIAAAAAAAgAAIAAAAAABAABAAAAA\n",
              "AAEAAKAAAAAAAQAAQAAAAAABAAAAAAAAAAEAACAAAAAAAQAAoAAAAAABAABAAAAAAAEAAAAAAAAA\n",
              "AQAAIAAAAAABAACgAAAAAAEAAEAAAAAAAQAAAAAAAAABAAAgAAAAAAEAAKAAAAAAAQAAQAAAAAAB\n",
              "AAAAAAAAAAEAACAAAAAAAQAAoAAAAAABAABAAAAAAAEAAAAAAAAAAQAAIAAAAAABAACgAAAAAAEA\n",
              "AEAAAAAAAQAAAAAAAAABAAAgAAAAAAEAAKAAAAAAAQAAQAAAAAABAAAAAAAAAAEAACAAAAAAAQAA\n",
              "oAAAAAABAABAAAAAAAEAAAAAAAAAAQAAIAAAAAABAACgAAAAAAEAAEAAAAAAAQAAAAAAAAABAAAg\n",
              "AAAAAAEAAKAAAAAAAQAAQAAAAAABAAAAAAAAAAEAACAAAAAAAQAAoAAAAAABAABAAAAAAAEAAAAA\n",
              "AAAAAQAAIAAAAAABAACgAAAAAAEAAEAAAAAAAQAAAAAAAAABAAAgAAAAAAEAAKAAAAAAAQAAQAAA\n",
              "AAABAAAAAAAAAAEAACAAAAAAAQAAoAAAAAABAABAAAAAAAEAAAAAAAAAAQAAIAAAAAABAACgAAAA\n",
              "AAEAAEAAAAAAAQAAAAAAAAABAAAgAAAAAAEAAKAAAAAAAQAAQAAAAAABAAAAAAAAAAEAACAAAAAA\n",
              "AQAAoAAAAAABAABAAAAAAAEAAAAAAAAAAQAAIAAAAAABAACgAAAAAAEAAEAAAAAAAQAAAAAAAAAB\n",
              "AAAgAAAAABxzdHNjAAAAAAAAAAEAAAABAAAAZAAAAAEAAAGkc3RzegAAAAAAAAAAAAAAZAAAJDkA\n",
              "AAgxAAAGpAAAB0oAAAVRAAAEIwAAB5YAAApRAAAGCQAABWMAAAX1AAAHDAAABCsAAAU9AAAGKgAA\n",
              "BUsAAAZ/AAAJAgAABSUAAAEmAAAHtwAABr4AAAWTAAAKZwAACOMAAAUnAAAEAwAAA8MAAAa8AAAA\n",
              "dAAAAFAAAAA2AAAAVAAAADQAAAAoAAAAJgAAADYAAAAwAAAAJgAAACYAAAA2AAAAMAAAACYAAAAm\n",
              "AAAANgAAADAAAAAmAAAAJgAAADYAAAAwAAAAJgAAACYAAAA2AAAAMAAAACYAAAAmAAAANgAAADAA\n",
              "AAAmAAAAJgAAADYAAAAwAAAAJgAAACYAAAA2AAAAMAAAACYAAAAmAAAANgAAADAAAAAmAAAAJgAA\n",
              "ADYAAAAwAAAAJgAAACYAAAA2AAAAMAAAACYAAAAmAAAANgAAADAAAAAmAAAAJgAAADYAAAAwAAAA\n",
              "JgAAACYAAAAgAAAAMAAAACYAAAAmAAAAIAAAADAAAAAmAAAAJgAAAB8AAAAwAAAAJgAAACYAAAAU\n",
              "c3RjbwAAAAAAAAABAAAALAAAAGJ1ZHRhAAAAWm1ldGEAAAAAAAAAIWhkbHIAAAAAAAAAAG1kaXJh\n",
              "cHBsAAAAAAAAAAAAAAAALWlsc3QAAAAlqXRvbwAAAB1kYXRhAAAAAQAAAABMYXZmNTcuODMuMTAw\n",
              "\">\n",
              "  Your browser does not support the video tag.\n",
              "</video>"
            ],
            "text/plain": [
              "<IPython.core.display.HTML object>"
            ]
          },
          "metadata": {
            "tags": []
          },
          "execution_count": 809
        },
        {
          "output_type": "display_data",
          "data": {
            "image/png": "[encoded data removed]",
            "text/plain": [
              "<Figure size 864x432 with 1 Axes>"
            ]
          },
          "metadata": {
            "tags": [],
            "needs_background": "light"
          }
        }
      ]
    },
    {
      "cell_type": "markdown",
      "metadata": {
        "id": "gmdMOJqLGy85"
      },
      "source": [
        "# 13. Prevendo Vencedor de Medalha: Regressão Logística"
      ]
    },
    {
      "cell_type": "code",
      "metadata": {
        "colab": {
          "base_uri": "https://localhost:8080/",
          "height": 445
        },
        "id": "mzm9dsxYH2cW",
        "outputId": "dbbd9ed7-a626-442a-c47d-21953090511e"
      },
      "source": [
        "df_athlete_events.head()"
      ],
      "execution_count": 810,
      "outputs": [
        {
          "output_type": "execute_result",
          "data": {
            "text/html": [
              "<div>\n",
              "<style scoped>\n",
              "    .dataframe tbody tr th:only-of-type {\n",
              "        vertical-align: middle;\n",
              "    }\n",
              "\n",
              "    .dataframe tbody tr th {\n",
              "        vertical-align: top;\n",
              "    }\n",
              "\n",
              "    .dataframe thead th {\n",
              "        text-align: right;\n",
              "    }\n",
              "</style>\n",
              "<table border=\"1\" class=\"dataframe\">\n",
              "  <thead>\n",
              "    <tr style=\"text-align: right;\">\n",
              "      <th></th>\n",
              "      <th>ID</th>\n",
              "      <th>Name</th>\n",
              "      <th>Sex</th>\n",
              "      <th>Age</th>\n",
              "      <th>Height</th>\n",
              "      <th>Weight</th>\n",
              "      <th>Team</th>\n",
              "      <th>NOC</th>\n",
              "      <th>Games</th>\n",
              "      <th>Year</th>\n",
              "      <th>Season</th>\n",
              "      <th>City</th>\n",
              "      <th>Sport</th>\n",
              "      <th>Event</th>\n",
              "      <th>Medal</th>\n",
              "    </tr>\n",
              "  </thead>\n",
              "  <tbody>\n",
              "    <tr>\n",
              "      <th>0</th>\n",
              "      <td>1</td>\n",
              "      <td>A Dijiang</td>\n",
              "      <td>M</td>\n",
              "      <td>24.0</td>\n",
              "      <td>180.0</td>\n",
              "      <td>80.0</td>\n",
              "      <td>China</td>\n",
              "      <td>CHN</td>\n",
              "      <td>1992 Summer</td>\n",
              "      <td>1992</td>\n",
              "      <td>Summer</td>\n",
              "      <td>Barcelona</td>\n",
              "      <td>Basketball</td>\n",
              "      <td>Basketball Men's Basketball</td>\n",
              "      <td>No Medal</td>\n",
              "    </tr>\n",
              "    <tr>\n",
              "      <th>1</th>\n",
              "      <td>2</td>\n",
              "      <td>A Lamusi</td>\n",
              "      <td>M</td>\n",
              "      <td>23.0</td>\n",
              "      <td>170.0</td>\n",
              "      <td>60.0</td>\n",
              "      <td>China</td>\n",
              "      <td>CHN</td>\n",
              "      <td>2012 Summer</td>\n",
              "      <td>2012</td>\n",
              "      <td>Summer</td>\n",
              "      <td>London</td>\n",
              "      <td>Judo</td>\n",
              "      <td>Judo Men's Extra-Lightweight</td>\n",
              "      <td>No Medal</td>\n",
              "    </tr>\n",
              "    <tr>\n",
              "      <th>2</th>\n",
              "      <td>3</td>\n",
              "      <td>Gunnar Nielsen Aaby</td>\n",
              "      <td>M</td>\n",
              "      <td>24.0</td>\n",
              "      <td>NaN</td>\n",
              "      <td>NaN</td>\n",
              "      <td>Denmark</td>\n",
              "      <td>DEN</td>\n",
              "      <td>1920 Summer</td>\n",
              "      <td>1920</td>\n",
              "      <td>Summer</td>\n",
              "      <td>Antwerpen</td>\n",
              "      <td>Football</td>\n",
              "      <td>Football Men's Football</td>\n",
              "      <td>No Medal</td>\n",
              "    </tr>\n",
              "    <tr>\n",
              "      <th>3</th>\n",
              "      <td>4</td>\n",
              "      <td>Edgar Lindenau Aabye</td>\n",
              "      <td>M</td>\n",
              "      <td>34.0</td>\n",
              "      <td>NaN</td>\n",
              "      <td>NaN</td>\n",
              "      <td>Denmark/Sweden</td>\n",
              "      <td>DEN</td>\n",
              "      <td>1900 Summer</td>\n",
              "      <td>1900</td>\n",
              "      <td>Summer</td>\n",
              "      <td>Paris</td>\n",
              "      <td>Tug-Of-War</td>\n",
              "      <td>Tug-Of-War Men's Tug-Of-War</td>\n",
              "      <td>Gold</td>\n",
              "    </tr>\n",
              "    <tr>\n",
              "      <th>26</th>\n",
              "      <td>8</td>\n",
              "      <td>Cornelia \"Cor\" Aalten (-Strannood)</td>\n",
              "      <td>F</td>\n",
              "      <td>18.0</td>\n",
              "      <td>168.0</td>\n",
              "      <td>NaN</td>\n",
              "      <td>Netherlands</td>\n",
              "      <td>NED</td>\n",
              "      <td>1932 Summer</td>\n",
              "      <td>1932</td>\n",
              "      <td>Summer</td>\n",
              "      <td>Los Angeles</td>\n",
              "      <td>Athletics</td>\n",
              "      <td>Athletics Women's 100 metres</td>\n",
              "      <td>No Medal</td>\n",
              "    </tr>\n",
              "  </tbody>\n",
              "</table>\n",
              "</div>"
            ],
            "text/plain": [
              "    ID  ...     Medal\n",
              "0    1  ...  No Medal\n",
              "1    2  ...  No Medal\n",
              "2    3  ...  No Medal\n",
              "3    4  ...      Gold\n",
              "26   8  ...  No Medal\n",
              "\n",
              "[5 rows x 15 columns]"
            ]
          },
          "metadata": {
            "tags": []
          },
          "execution_count": 810
        }
      ]
    },
    {
      "cell_type": "code",
      "metadata": {
        "colab": {
          "base_uri": "https://localhost:8080/",
          "height": 204
        },
        "id": "4HJhVec6IvDz",
        "outputId": "bed2e390-061f-4db6-b6ac-7b8d88adab0d"
      },
      "source": [
        "df_numerico.head()"
      ],
      "execution_count": 811,
      "outputs": [
        {
          "output_type": "execute_result",
          "data": {
            "text/html": [
              "<div>\n",
              "<style scoped>\n",
              "    .dataframe tbody tr th:only-of-type {\n",
              "        vertical-align: middle;\n",
              "    }\n",
              "\n",
              "    .dataframe tbody tr th {\n",
              "        vertical-align: top;\n",
              "    }\n",
              "\n",
              "    .dataframe thead th {\n",
              "        text-align: right;\n",
              "    }\n",
              "</style>\n",
              "<table border=\"1\" class=\"dataframe\">\n",
              "  <thead>\n",
              "    <tr style=\"text-align: right;\">\n",
              "      <th></th>\n",
              "      <th>Age</th>\n",
              "      <th>Height</th>\n",
              "      <th>Weight</th>\n",
              "    </tr>\n",
              "  </thead>\n",
              "  <tbody>\n",
              "    <tr>\n",
              "      <th>0</th>\n",
              "      <td>24.0</td>\n",
              "      <td>180.0</td>\n",
              "      <td>80.0</td>\n",
              "    </tr>\n",
              "    <tr>\n",
              "      <th>1</th>\n",
              "      <td>23.0</td>\n",
              "      <td>170.0</td>\n",
              "      <td>60.0</td>\n",
              "    </tr>\n",
              "    <tr>\n",
              "      <th>2</th>\n",
              "      <td>24.0</td>\n",
              "      <td>NaN</td>\n",
              "      <td>NaN</td>\n",
              "    </tr>\n",
              "    <tr>\n",
              "      <th>3</th>\n",
              "      <td>34.0</td>\n",
              "      <td>NaN</td>\n",
              "      <td>NaN</td>\n",
              "    </tr>\n",
              "    <tr>\n",
              "      <th>26</th>\n",
              "      <td>18.0</td>\n",
              "      <td>168.0</td>\n",
              "      <td>NaN</td>\n",
              "    </tr>\n",
              "  </tbody>\n",
              "</table>\n",
              "</div>"
            ],
            "text/plain": [
              "     Age  Height  Weight\n",
              "0   24.0   180.0    80.0\n",
              "1   23.0   170.0    60.0\n",
              "2   24.0     NaN     NaN\n",
              "3   34.0     NaN     NaN\n",
              "26  18.0   168.0     NaN"
            ]
          },
          "metadata": {
            "tags": []
          },
          "execution_count": 811
        }
      ]
    },
    {
      "cell_type": "code",
      "metadata": {
        "id": "DuGCYhKGIx5G"
      },
      "source": [
        "cols_numeric = list(df_numerico.columns)\n",
        "\n",
        "for col in cols_numeric:\n",
        "  media_col = (df_athlete_events[col].mean())\n",
        "  df_athlete_events[col] = df_athlete_events[col].fillna(media_col)"
      ],
      "execution_count": 812,
      "outputs": []
    },
    {
      "cell_type": "code",
      "metadata": {
        "colab": {
          "base_uri": "https://localhost:8080/"
        },
        "id": "-RGYF2zgJlyc",
        "outputId": "5f310871-7c8c-4126-eaf8-fe887d5aa3a4"
      },
      "source": [
        "df_athlete_events.isna().sum()"
      ],
      "execution_count": 813,
      "outputs": [
        {
          "output_type": "execute_result",
          "data": {
            "text/plain": [
              "ID        0\n",
              "Name      0\n",
              "Sex       0\n",
              "Age       0\n",
              "Height    0\n",
              "Weight    0\n",
              "Team      0\n",
              "NOC       0\n",
              "Games     0\n",
              "Year      0\n",
              "Season    0\n",
              "City      0\n",
              "Sport     0\n",
              "Event     0\n",
              "Medal     0\n",
              "dtype: int64"
            ]
          },
          "metadata": {
            "tags": []
          },
          "execution_count": 813
        }
      ]
    },
    {
      "cell_type": "code",
      "metadata": {
        "colab": {
          "base_uri": "https://localhost:8080/",
          "height": 445
        },
        "id": "PPX_CwoFarAL",
        "outputId": "1cc4197d-d925-458e-cb64-2d63dfe13301"
      },
      "source": [
        "df_cat_to_num = df_athlete_events.replace(['Gold', 'Silver', 'Bronze', 'No Medal'], \n",
        "                     [3, 2, 1, 0])\n",
        "df_cat_to_num.head()"
      ],
      "execution_count": 814,
      "outputs": [
        {
          "output_type": "execute_result",
          "data": {
            "text/html": [
              "<div>\n",
              "<style scoped>\n",
              "    .dataframe tbody tr th:only-of-type {\n",
              "        vertical-align: middle;\n",
              "    }\n",
              "\n",
              "    .dataframe tbody tr th {\n",
              "        vertical-align: top;\n",
              "    }\n",
              "\n",
              "    .dataframe thead th {\n",
              "        text-align: right;\n",
              "    }\n",
              "</style>\n",
              "<table border=\"1\" class=\"dataframe\">\n",
              "  <thead>\n",
              "    <tr style=\"text-align: right;\">\n",
              "      <th></th>\n",
              "      <th>ID</th>\n",
              "      <th>Name</th>\n",
              "      <th>Sex</th>\n",
              "      <th>Age</th>\n",
              "      <th>Height</th>\n",
              "      <th>Weight</th>\n",
              "      <th>Team</th>\n",
              "      <th>NOC</th>\n",
              "      <th>Games</th>\n",
              "      <th>Year</th>\n",
              "      <th>Season</th>\n",
              "      <th>City</th>\n",
              "      <th>Sport</th>\n",
              "      <th>Event</th>\n",
              "      <th>Medal</th>\n",
              "    </tr>\n",
              "  </thead>\n",
              "  <tbody>\n",
              "    <tr>\n",
              "      <th>0</th>\n",
              "      <td>1</td>\n",
              "      <td>A Dijiang</td>\n",
              "      <td>M</td>\n",
              "      <td>24.0</td>\n",
              "      <td>180.000000</td>\n",
              "      <td>80.00000</td>\n",
              "      <td>China</td>\n",
              "      <td>CHN</td>\n",
              "      <td>1992 Summer</td>\n",
              "      <td>1992</td>\n",
              "      <td>Summer</td>\n",
              "      <td>Barcelona</td>\n",
              "      <td>Basketball</td>\n",
              "      <td>Basketball Men's Basketball</td>\n",
              "      <td>0</td>\n",
              "    </tr>\n",
              "    <tr>\n",
              "      <th>1</th>\n",
              "      <td>2</td>\n",
              "      <td>A Lamusi</td>\n",
              "      <td>M</td>\n",
              "      <td>23.0</td>\n",
              "      <td>170.000000</td>\n",
              "      <td>60.00000</td>\n",
              "      <td>China</td>\n",
              "      <td>CHN</td>\n",
              "      <td>2012 Summer</td>\n",
              "      <td>2012</td>\n",
              "      <td>Summer</td>\n",
              "      <td>London</td>\n",
              "      <td>Judo</td>\n",
              "      <td>Judo Men's Extra-Lightweight</td>\n",
              "      <td>0</td>\n",
              "    </tr>\n",
              "    <tr>\n",
              "      <th>2</th>\n",
              "      <td>3</td>\n",
              "      <td>Gunnar Nielsen Aaby</td>\n",
              "      <td>M</td>\n",
              "      <td>24.0</td>\n",
              "      <td>175.515551</td>\n",
              "      <td>70.68906</td>\n",
              "      <td>Denmark</td>\n",
              "      <td>DEN</td>\n",
              "      <td>1920 Summer</td>\n",
              "      <td>1920</td>\n",
              "      <td>Summer</td>\n",
              "      <td>Antwerpen</td>\n",
              "      <td>Football</td>\n",
              "      <td>Football Men's Football</td>\n",
              "      <td>0</td>\n",
              "    </tr>\n",
              "    <tr>\n",
              "      <th>3</th>\n",
              "      <td>4</td>\n",
              "      <td>Edgar Lindenau Aabye</td>\n",
              "      <td>M</td>\n",
              "      <td>34.0</td>\n",
              "      <td>175.515551</td>\n",
              "      <td>70.68906</td>\n",
              "      <td>Denmark/Sweden</td>\n",
              "      <td>DEN</td>\n",
              "      <td>1900 Summer</td>\n",
              "      <td>1900</td>\n",
              "      <td>Summer</td>\n",
              "      <td>Paris</td>\n",
              "      <td>Tug-Of-War</td>\n",
              "      <td>Tug-Of-War Men's Tug-Of-War</td>\n",
              "      <td>3</td>\n",
              "    </tr>\n",
              "    <tr>\n",
              "      <th>26</th>\n",
              "      <td>8</td>\n",
              "      <td>Cornelia \"Cor\" Aalten (-Strannood)</td>\n",
              "      <td>F</td>\n",
              "      <td>18.0</td>\n",
              "      <td>168.000000</td>\n",
              "      <td>70.68906</td>\n",
              "      <td>Netherlands</td>\n",
              "      <td>NED</td>\n",
              "      <td>1932 Summer</td>\n",
              "      <td>1932</td>\n",
              "      <td>Summer</td>\n",
              "      <td>Los Angeles</td>\n",
              "      <td>Athletics</td>\n",
              "      <td>Athletics Women's 100 metres</td>\n",
              "      <td>0</td>\n",
              "    </tr>\n",
              "  </tbody>\n",
              "</table>\n",
              "</div>"
            ],
            "text/plain": [
              "    ID                                Name  ...                         Event  Medal\n",
              "0    1                           A Dijiang  ...   Basketball Men's Basketball      0\n",
              "1    2                            A Lamusi  ...  Judo Men's Extra-Lightweight      0\n",
              "2    3                 Gunnar Nielsen Aaby  ...       Football Men's Football      0\n",
              "3    4                Edgar Lindenau Aabye  ...   Tug-Of-War Men's Tug-Of-War      3\n",
              "26   8  Cornelia \"Cor\" Aalten (-Strannood)  ...  Athletics Women's 100 metres      0\n",
              "\n",
              "[5 rows x 15 columns]"
            ]
          },
          "metadata": {
            "tags": []
          },
          "execution_count": 814
        }
      ]
    },
    {
      "cell_type": "code",
      "metadata": {
        "colab": {
          "base_uri": "https://localhost:8080/"
        },
        "id": "IeRJl-QtbiuH",
        "outputId": "c4dd31de-862d-4ead-cbd5-3b0e9b122036"
      },
      "source": [
        "df_athlete_events['Medal'].value_counts()"
      ],
      "execution_count": 815,
      "outputs": [
        {
          "output_type": "execute_result",
          "data": {
            "text/plain": [
              "No Medal    188464\n",
              "Gold         11459\n",
              "Bronze       11409\n",
              "Silver       11220\n",
              "Name: Medal, dtype: int64"
            ]
          },
          "metadata": {
            "tags": []
          },
          "execution_count": 815
        }
      ]
    },
    {
      "cell_type": "code",
      "metadata": {
        "colab": {
          "base_uri": "https://localhost:8080/"
        },
        "id": "4gyIhaBPb_9m",
        "outputId": "35e55084-135b-4406-d168-3476300acf8f"
      },
      "source": [
        "df_cat_to_num.dtypes"
      ],
      "execution_count": 816,
      "outputs": [
        {
          "output_type": "execute_result",
          "data": {
            "text/plain": [
              "ID          int64\n",
              "Name       object\n",
              "Sex        object\n",
              "Age       float64\n",
              "Height    float64\n",
              "Weight    float64\n",
              "Team       object\n",
              "NOC        object\n",
              "Games      object\n",
              "Year        int64\n",
              "Season     object\n",
              "City       object\n",
              "Sport      object\n",
              "Event      object\n",
              "Medal       int64\n",
              "dtype: object"
            ]
          },
          "metadata": {
            "tags": []
          },
          "execution_count": 816
        }
      ]
    },
    {
      "cell_type": "code",
      "metadata": {
        "id": "BLPHhkRGcXCZ"
      },
      "source": [
        "df_cat_to_num2 = df_cat_to_num.replace([1,2,3],[1,1,1])"
      ],
      "execution_count": 817,
      "outputs": []
    },
    {
      "cell_type": "code",
      "metadata": {
        "colab": {
          "base_uri": "https://localhost:8080/"
        },
        "id": "ehcrDjiCcfPt",
        "outputId": "97b28b84-cdeb-48b4-8c34-6ab6d1b44b37"
      },
      "source": [
        "df_cat_to_num2['Medal'].unique()"
      ],
      "execution_count": 818,
      "outputs": [
        {
          "output_type": "execute_result",
          "data": {
            "text/plain": [
              "array([0, 1])"
            ]
          },
          "metadata": {
            "tags": []
          },
          "execution_count": 818
        }
      ]
    },
    {
      "cell_type": "code",
      "metadata": {
        "id": "DU1-4RXUeBcU"
      },
      "source": [
        "countries = list(df_cat_to_num2['NOC'].unique())\n",
        "countries_cat = list(range(len(countries)))\n",
        "df_cat_to_num2 = df_cat_to_num2.replace(countries, countries_cat)"
      ],
      "execution_count": 819,
      "outputs": []
    },
    {
      "cell_type": "code",
      "metadata": {
        "id": "TfuelKtc6amI"
      },
      "source": [
        "cities = list(df_cat_to_num2['City'].unique())\n",
        "countries_cat = list(range(len(countries)))\n",
        "df_cat_to_num2 = df_cat_to_num2.replace(countries, countries_cat)"
      ],
      "execution_count": 820,
      "outputs": []
    },
    {
      "cell_type": "code",
      "metadata": {
        "id": "186rXWI26eWs"
      },
      "source": [
        "cities = list(df_cat_to_num2['City'].unique())\n",
        "cities_cat = list(range(len(cities)))\n",
        "df_cat_to_num2 = df_cat_to_num2.replace(cities,cities_cat)"
      ],
      "execution_count": 821,
      "outputs": []
    },
    {
      "cell_type": "code",
      "metadata": {
        "colab": {
          "base_uri": "https://localhost:8080/"
        },
        "id": "0e4R8NtJfI9R",
        "outputId": "39428ac3-0763-471f-de6d-b81afa77d5b3"
      },
      "source": [
        "df_cat_to_num2.dtypes"
      ],
      "execution_count": 822,
      "outputs": [
        {
          "output_type": "execute_result",
          "data": {
            "text/plain": [
              "ID          int64\n",
              "Name       object\n",
              "Sex        object\n",
              "Age       float64\n",
              "Height    float64\n",
              "Weight    float64\n",
              "Team       object\n",
              "NOC         int64\n",
              "Games      object\n",
              "Year        int64\n",
              "Season     object\n",
              "City        int64\n",
              "Sport      object\n",
              "Event      object\n",
              "Medal       int64\n",
              "dtype: object"
            ]
          },
          "metadata": {
            "tags": []
          },
          "execution_count": 822
        }
      ]
    },
    {
      "cell_type": "code",
      "metadata": {
        "colab": {
          "base_uri": "https://localhost:8080/"
        },
        "id": "89vxYAA1iFq1",
        "outputId": "ff04208a-4541-44f0-d59f-508c73d54c7a"
      },
      "source": [
        "df_cat_to_num2['Sport']"
      ],
      "execution_count": 823,
      "outputs": [
        {
          "output_type": "execute_result",
          "data": {
            "text/plain": [
              "0         Basketball\n",
              "1               Judo\n",
              "2           Football\n",
              "3         Tug-Of-War\n",
              "26         Athletics\n",
              "             ...    \n",
              "271106        Hockey\n",
              "271107      Football\n",
              "271108        Rowing\n",
              "271109        Rowing\n",
              "271110    Basketball\n",
              "Name: Sport, Length: 222552, dtype: object"
            ]
          },
          "metadata": {
            "tags": []
          },
          "execution_count": 823
        }
      ]
    },
    {
      "cell_type": "code",
      "metadata": {
        "id": "_420M6cIh7Nb"
      },
      "source": [
        "df_cat_to_num2_natacao = df_cat_to_num2[df_cat_to_num2['Sport'] == 'Swimming']"
      ],
      "execution_count": 824,
      "outputs": []
    },
    {
      "cell_type": "markdown",
      "metadata": {
        "id": "3SarmOBEcHhE"
      },
      "source": [
        "Organizando Target (y) e Features (x)\n"
      ]
    },
    {
      "cell_type": "code",
      "metadata": {
        "id": "MsFfRj9fcK94"
      },
      "source": [
        "features = ['Height','Weight','Age','NOC','City']\n",
        "y = df_cat_to_num2_natacao['Medal']\n",
        "x = df_cat_to_num2_natacao[features]"
      ],
      "execution_count": 825,
      "outputs": []
    },
    {
      "cell_type": "markdown",
      "metadata": {
        "id": "V-s1Ztdhc_ON"
      },
      "source": [
        "Setando Seed para garantir repetibilidade dos resultados"
      ]
    },
    {
      "cell_type": "code",
      "metadata": {
        "id": "v5qvXcm1KFb5"
      },
      "source": [
        "seed = 42"
      ],
      "execution_count": 826,
      "outputs": []
    },
    {
      "cell_type": "code",
      "metadata": {
        "id": "qEGYPZoeHBEV"
      },
      "source": [
        "X_train, X_test, y_train, y_test = train_test_split(x, y, test_size=0.2, random_state= seed)"
      ],
      "execution_count": 827,
      "outputs": []
    },
    {
      "cell_type": "code",
      "metadata": {
        "colab": {
          "base_uri": "https://localhost:8080/"
        },
        "id": "ocd884yldFTv",
        "outputId": "3c3d6ac7-a968-404b-88e6-dd4d6beff32c"
      },
      "source": [
        "clf = LogisticRegression()\n",
        "clf.fit(X_train, y_train)"
      ],
      "execution_count": 828,
      "outputs": [
        {
          "output_type": "execute_result",
          "data": {
            "text/plain": [
              "LogisticRegression(C=1.0, class_weight=None, dual=False, fit_intercept=True,\n",
              "                   intercept_scaling=1, l1_ratio=None, max_iter=100,\n",
              "                   multi_class='auto', n_jobs=None, penalty='l2',\n",
              "                   random_state=None, solver='lbfgs', tol=0.0001, verbose=0,\n",
              "                   warm_start=False)"
            ]
          },
          "metadata": {
            "tags": []
          },
          "execution_count": 828
        }
      ]
    },
    {
      "cell_type": "code",
      "metadata": {
        "colab": {
          "base_uri": "https://localhost:8080/"
        },
        "id": "Gj0-1YhYdOWP",
        "outputId": "1d32a1ae-e1c9-4bba-fc28-9a0e0d888d02"
      },
      "source": [
        "clf.score(X_train, y_train)"
      ],
      "execution_count": 829,
      "outputs": [
        {
          "output_type": "execute_result",
          "data": {
            "text/plain": [
              "0.8693145074369476"
            ]
          },
          "metadata": {
            "tags": []
          },
          "execution_count": 829
        }
      ]
    },
    {
      "cell_type": "code",
      "metadata": {
        "id": "Wg-rF-HQdKkD"
      },
      "source": [
        "y_pred = clf.predict(X_test)"
      ],
      "execution_count": 830,
      "outputs": []
    },
    {
      "cell_type": "code",
      "metadata": {
        "colab": {
          "base_uri": "https://localhost:8080/"
        },
        "id": "bIIwVDE5dXCj",
        "outputId": "51f8d0d0-afb5-4091-f746-6a1738b2de1e"
      },
      "source": [
        "clf.score(X_test, y_test)"
      ],
      "execution_count": 831,
      "outputs": [
        {
          "output_type": "execute_result",
          "data": {
            "text/plain": [
              "0.8657038154774735"
            ]
          },
          "metadata": {
            "tags": []
          },
          "execution_count": 831
        }
      ]
    },
    {
      "cell_type": "code",
      "metadata": {
        "colab": {
          "base_uri": "https://localhost:8080/",
          "height": 306
        },
        "id": "Eaxn8nY7dai1",
        "outputId": "445e9ade-cbb3-4722-995f-d8c870aac8cf"
      },
      "source": [
        "plot_confusion_matrix(clf, X_test, y_test , normalize= 'all')"
      ],
      "execution_count": 832,
      "outputs": [
        {
          "output_type": "execute_result",
          "data": {
            "text/plain": [
              "<sklearn.metrics._plot.confusion_matrix.ConfusionMatrixDisplay at 0x7fdd17d8cd90>"
            ]
          },
          "metadata": {
            "tags": []
          },
          "execution_count": 832
        },
        {
          "output_type": "display_data",
          "data": {
            "image/png": "[encoded data removed]",
            "text/plain": [
              "<Figure size 432x288 with 2 Axes>"
            ]
          },
          "metadata": {
            "tags": [],
            "needs_background": "light"
          }
        }
      ]
    },
    {
      "cell_type": "code",
      "metadata": {
        "colab": {
          "base_uri": "https://localhost:8080/"
        },
        "id": "mmnukpPwf7fx",
        "outputId": "c99a37b0-4c36-43e4-ad81-b1e64b90a17e"
      },
      "source": [
        "confusion_matrix(y_test, y_pred, normalize='all')"
      ],
      "execution_count": 833,
      "outputs": [
        {
          "output_type": "execute_result",
          "data": {
            "text/plain": [
              "array([[0.86570382, 0.        ],\n",
              "       [0.13429618, 0.        ]])"
            ]
          },
          "metadata": {
            "tags": []
          },
          "execution_count": 833
        }
      ]
    },
    {
      "cell_type": "markdown",
      "metadata": {
        "id": "oWOSu7Lq7VzH"
      },
      "source": [
        "Por enquanto, a regressão logística não se mostrou eficaz, por isso, a próxima tentativa de predição de vencedores será através do modelo Perceptron"
      ]
    },
    {
      "cell_type": "markdown",
      "metadata": {
        "id": "C3Lzfp6Y7i0w"
      },
      "source": [
        "# 14. Prevendo Vencedor de Medalha: Perceptron"
      ]
    },
    {
      "cell_type": "code",
      "metadata": {
        "id": "2BByY-OV7lF9"
      },
      "source": [
        "from sklearn.linear_model import Perceptron"
      ],
      "execution_count": 834,
      "outputs": []
    },
    {
      "cell_type": "code",
      "metadata": {
        "id": "-INwZQFW7q0q"
      },
      "source": [
        "clf2 = Perceptron(tol=1e-3, random_state=seed)"
      ],
      "execution_count": 835,
      "outputs": []
    },
    {
      "cell_type": "code",
      "metadata": {
        "colab": {
          "base_uri": "https://localhost:8080/"
        },
        "id": "EmWkXyZd7vGp",
        "outputId": "0bc13c30-6f7c-43f6-880a-7d0cf81ad1b9"
      },
      "source": [
        "clf2.fit(X_train, y_train)"
      ],
      "execution_count": 836,
      "outputs": [
        {
          "output_type": "execute_result",
          "data": {
            "text/plain": [
              "Perceptron(alpha=0.0001, class_weight=None, early_stopping=False, eta0=1.0,\n",
              "           fit_intercept=True, max_iter=1000, n_iter_no_change=5, n_jobs=None,\n",
              "           penalty=None, random_state=42, shuffle=True, tol=0.001,\n",
              "           validation_fraction=0.1, verbose=0, warm_start=False)"
            ]
          },
          "metadata": {
            "tags": []
          },
          "execution_count": 836
        }
      ]
    },
    {
      "cell_type": "code",
      "metadata": {
        "colab": {
          "base_uri": "https://localhost:8080/"
        },
        "id": "pBUU9l1575aS",
        "outputId": "2e475739-413b-43f3-f4fd-a31f5e06544c"
      },
      "source": [
        "clf2.score(X_train, y_train)"
      ],
      "execution_count": 837,
      "outputs": [
        {
          "output_type": "execute_result",
          "data": {
            "text/plain": [
              "0.868182798016814"
            ]
          },
          "metadata": {
            "tags": []
          },
          "execution_count": 837
        }
      ]
    },
    {
      "cell_type": "code",
      "metadata": {
        "id": "YTIqHO9H8HUX"
      },
      "source": [
        "y_pred2 = clf2.predict(X_test)"
      ],
      "execution_count": 838,
      "outputs": []
    },
    {
      "cell_type": "code",
      "metadata": {
        "colab": {
          "base_uri": "https://localhost:8080/"
        },
        "id": "Aic226Mv8NWR",
        "outputId": "8b73b7db-2754-4f53-f025-9a381313bfce"
      },
      "source": [
        "clf2.score(X_test, y_test)"
      ],
      "execution_count": 839,
      "outputs": [
        {
          "output_type": "execute_result",
          "data": {
            "text/plain": [
              "0.8641948695839621"
            ]
          },
          "metadata": {
            "tags": []
          },
          "execution_count": 839
        }
      ]
    },
    {
      "cell_type": "code",
      "metadata": {
        "colab": {
          "base_uri": "https://localhost:8080/",
          "height": 306
        },
        "id": "-KsHQgux8UnS",
        "outputId": "75ca14de-05fa-4c10-f5b9-0518830e2894"
      },
      "source": [
        "plot_confusion_matrix(clf2, X_test, y_test , normalize= 'all')"
      ],
      "execution_count": 840,
      "outputs": [
        {
          "output_type": "execute_result",
          "data": {
            "text/plain": [
              "<sklearn.metrics._plot.confusion_matrix.ConfusionMatrixDisplay at 0x7fdd17df8110>"
            ]
          },
          "metadata": {
            "tags": []
          },
          "execution_count": 840
        },
        {
          "output_type": "display_data",
          "data": {
            "image/png": "[encoded data removed]",
            "text/plain": [
              "<Figure size 432x288 with 2 Axes>"
            ]
          },
          "metadata": {
            "tags": [],
            "needs_background": "light"
          }
        }
      ]
    },
    {
      "cell_type": "markdown",
      "metadata": {
        "id": "HQHjFzT-94Ie"
      },
      "source": [
        "O Perceptron também não conseguiu realizar predições. Aparentemente o problema é que tempos poucos target 1 (ganhador de medalha) e muitos target 0 (não ganhador de medalha) o que faz com que o classificador classifica 100%, 99,9 % dos valores de teste como 0.\n",
        "\n",
        "Ver: https://towardsdatascience.com/machine-learning-target-feature-label-imbalance-problem-and-solutions-98c5ae89ad0"
      ]
    },
    {
      "cell_type": "markdown",
      "metadata": {
        "id": "OVp0Kex2Z6iH"
      },
      "source": [
        "# Referências"
      ]
    },
    {
      "cell_type": "markdown",
      "metadata": {
        "id": "7z_VzqSBZ_Dc"
      },
      "source": [
        "*   https://docs.scipy.org/doc/scipy/reference/stats.html\n",
        "*   https://matplotlib.org/stable/api/_as_gen/matplotlib.pyplot.hist.html\n",
        "*   https://olympics.com/ioc/faq/history-and-origin-of-the-games/since-when-have-the-summer-and-winter-games-no-longer-been-held-in-the-same-year\n",
        "*   https://towardsdatascience.com/learn-how-to-create-animated-graphs-in-python-fce780421afe\n",
        "*   https://matplotlib.org/stable/gallery/color/named_colors.html\n",
        "*   https://www.unm.edu/~tbeach/IT145/color.html\n",
        "*   https://olimpiadas.uol.com.br/quadro-de-medalhas/historico/\n"
      ]
    }
  ]
}
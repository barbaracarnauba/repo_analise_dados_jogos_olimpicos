{
  "nbformat": 4,
  "nbformat_minor": 0,
  "metadata": {
    "colab": {
      "name": "Analise Dados 120 Anos de Historia das Olimpiadas.ipynb",
      "provenance": [],
      "authorship_tag": "ABX9TyMAtQmiCpWAATLOELciEMDo",
      "include_colab_link": true
    },
    "kernelspec": {
      "display_name": "Python 3",
      "name": "python3"
    },
    "language_info": {
      "name": "python"
    }
  },
  "cells": [
    {
      "cell_type": "markdown",
      "metadata": {
        "id": "view-in-github",
        "colab_type": "text"
      },
      "source": [
        "<a href=\"https://colab.research.google.com/github/barbaracarnauba/repo_analise_dados_jogos_olimpicos/blob/main/Analise_Dados_120_Anos_de_Historia_das_Olimpiadas.ipynb\" target=\"_parent\"><img src=\"https://colab.research.google.com/assets/colab-badge.svg\" alt=\"Open In Colab\"/></a>"
      ]
    },
    {
      "cell_type": "markdown",
      "metadata": {
        "id": "12oZIemDQ8w3"
      },
      "source": [
        "# Dataset: 120 years of Olympic history: athletes and results\n",
        "basic bio data on athletes and medal results from Athens 1896 to Rio 2016 (kaggle)\n",
        "\n",
        "Fonte: https://www.kaggle.com/heesoo37/120-years-of-olympic-history-athletes-and-results"
      ]
    },
    {
      "cell_type": "markdown",
      "metadata": {
        "id": "pOEw3TUjScIw"
      },
      "source": [
        "**Importando bibliotecas**"
      ]
    },
    {
      "cell_type": "code",
      "metadata": {
        "id": "KCfFfN_ZQIP9"
      },
      "source": [
        "import pandas as pd\n",
        "import numpy as np\n",
        "import matplotlib.pyplot as plt\n",
        "import itertools  as it\n",
        "import seaborn as sns\n",
        "import statistics\n",
        "from scipy import stats\n",
        "import matplotlib.animation as ani"
      ],
      "execution_count": 390,
      "outputs": []
    },
    {
      "cell_type": "markdown",
      "metadata": {
        "id": "yoMWb5GhSmpZ"
      },
      "source": [
        "**Carregando Dataset**"
      ]
    },
    {
      "cell_type": "code",
      "metadata": {
        "id": "pH8-QZuOSuGz"
      },
      "source": [
        "caminho = '/content/athlete_events.csv'\n",
        "df_athlete_events = pd.read_csv(caminho)"
      ],
      "execution_count": 391,
      "outputs": []
    },
    {
      "cell_type": "markdown",
      "metadata": {
        "id": "L0eE4TtlP4n0"
      },
      "source": [
        "**Visão geral sobre o dataset**"
      ]
    },
    {
      "cell_type": "code",
      "metadata": {
        "colab": {
          "base_uri": "https://localhost:8080/",
          "height": 445
        },
        "id": "huu64KXhTGrR",
        "outputId": "918f154a-6dba-4cfc-96dd-ddcaf7ab2444"
      },
      "source": [
        "df_athlete_events.head()"
      ],
      "execution_count": 392,
      "outputs": [
        {
          "output_type": "execute_result",
          "data": {
            "text/html": [
              "<div>\n",
              "<style scoped>\n",
              "    .dataframe tbody tr th:only-of-type {\n",
              "        vertical-align: middle;\n",
              "    }\n",
              "\n",
              "    .dataframe tbody tr th {\n",
              "        vertical-align: top;\n",
              "    }\n",
              "\n",
              "    .dataframe thead th {\n",
              "        text-align: right;\n",
              "    }\n",
              "</style>\n",
              "<table border=\"1\" class=\"dataframe\">\n",
              "  <thead>\n",
              "    <tr style=\"text-align: right;\">\n",
              "      <th></th>\n",
              "      <th>ID</th>\n",
              "      <th>Name</th>\n",
              "      <th>Sex</th>\n",
              "      <th>Age</th>\n",
              "      <th>Height</th>\n",
              "      <th>Weight</th>\n",
              "      <th>Team</th>\n",
              "      <th>NOC</th>\n",
              "      <th>Games</th>\n",
              "      <th>Year</th>\n",
              "      <th>Season</th>\n",
              "      <th>City</th>\n",
              "      <th>Sport</th>\n",
              "      <th>Event</th>\n",
              "      <th>Medal</th>\n",
              "    </tr>\n",
              "  </thead>\n",
              "  <tbody>\n",
              "    <tr>\n",
              "      <th>0</th>\n",
              "      <td>1</td>\n",
              "      <td>A Dijiang</td>\n",
              "      <td>M</td>\n",
              "      <td>24.0</td>\n",
              "      <td>180.0</td>\n",
              "      <td>80.0</td>\n",
              "      <td>China</td>\n",
              "      <td>CHN</td>\n",
              "      <td>1992 Summer</td>\n",
              "      <td>1992</td>\n",
              "      <td>Summer</td>\n",
              "      <td>Barcelona</td>\n",
              "      <td>Basketball</td>\n",
              "      <td>Basketball Men's Basketball</td>\n",
              "      <td>NaN</td>\n",
              "    </tr>\n",
              "    <tr>\n",
              "      <th>1</th>\n",
              "      <td>2</td>\n",
              "      <td>A Lamusi</td>\n",
              "      <td>M</td>\n",
              "      <td>23.0</td>\n",
              "      <td>170.0</td>\n",
              "      <td>60.0</td>\n",
              "      <td>China</td>\n",
              "      <td>CHN</td>\n",
              "      <td>2012 Summer</td>\n",
              "      <td>2012</td>\n",
              "      <td>Summer</td>\n",
              "      <td>London</td>\n",
              "      <td>Judo</td>\n",
              "      <td>Judo Men's Extra-Lightweight</td>\n",
              "      <td>NaN</td>\n",
              "    </tr>\n",
              "    <tr>\n",
              "      <th>2</th>\n",
              "      <td>3</td>\n",
              "      <td>Gunnar Nielsen Aaby</td>\n",
              "      <td>M</td>\n",
              "      <td>24.0</td>\n",
              "      <td>NaN</td>\n",
              "      <td>NaN</td>\n",
              "      <td>Denmark</td>\n",
              "      <td>DEN</td>\n",
              "      <td>1920 Summer</td>\n",
              "      <td>1920</td>\n",
              "      <td>Summer</td>\n",
              "      <td>Antwerpen</td>\n",
              "      <td>Football</td>\n",
              "      <td>Football Men's Football</td>\n",
              "      <td>NaN</td>\n",
              "    </tr>\n",
              "    <tr>\n",
              "      <th>3</th>\n",
              "      <td>4</td>\n",
              "      <td>Edgar Lindenau Aabye</td>\n",
              "      <td>M</td>\n",
              "      <td>34.0</td>\n",
              "      <td>NaN</td>\n",
              "      <td>NaN</td>\n",
              "      <td>Denmark/Sweden</td>\n",
              "      <td>DEN</td>\n",
              "      <td>1900 Summer</td>\n",
              "      <td>1900</td>\n",
              "      <td>Summer</td>\n",
              "      <td>Paris</td>\n",
              "      <td>Tug-Of-War</td>\n",
              "      <td>Tug-Of-War Men's Tug-Of-War</td>\n",
              "      <td>Gold</td>\n",
              "    </tr>\n",
              "    <tr>\n",
              "      <th>4</th>\n",
              "      <td>5</td>\n",
              "      <td>Christine Jacoba Aaftink</td>\n",
              "      <td>F</td>\n",
              "      <td>21.0</td>\n",
              "      <td>185.0</td>\n",
              "      <td>82.0</td>\n",
              "      <td>Netherlands</td>\n",
              "      <td>NED</td>\n",
              "      <td>1988 Winter</td>\n",
              "      <td>1988</td>\n",
              "      <td>Winter</td>\n",
              "      <td>Calgary</td>\n",
              "      <td>Speed Skating</td>\n",
              "      <td>Speed Skating Women's 500 metres</td>\n",
              "      <td>NaN</td>\n",
              "    </tr>\n",
              "  </tbody>\n",
              "</table>\n",
              "</div>"
            ],
            "text/plain": [
              "   ID                      Name  ...                             Event  Medal\n",
              "0   1                 A Dijiang  ...       Basketball Men's Basketball    NaN\n",
              "1   2                  A Lamusi  ...      Judo Men's Extra-Lightweight    NaN\n",
              "2   3       Gunnar Nielsen Aaby  ...           Football Men's Football    NaN\n",
              "3   4      Edgar Lindenau Aabye  ...       Tug-Of-War Men's Tug-Of-War   Gold\n",
              "4   5  Christine Jacoba Aaftink  ...  Speed Skating Women's 500 metres    NaN\n",
              "\n",
              "[5 rows x 15 columns]"
            ]
          },
          "metadata": {
            "tags": []
          },
          "execution_count": 392
        }
      ]
    },
    {
      "cell_type": "code",
      "metadata": {
        "colab": {
          "base_uri": "https://localhost:8080/"
        },
        "id": "O08mxyT4K_3O",
        "outputId": "89457724-7ae5-430b-cefe-81a655479946"
      },
      "source": [
        "df_athlete_events.shape"
      ],
      "execution_count": 393,
      "outputs": [
        {
          "output_type": "execute_result",
          "data": {
            "text/plain": [
              "(271116, 15)"
            ]
          },
          "metadata": {
            "tags": []
          },
          "execution_count": 393
        }
      ]
    },
    {
      "cell_type": "markdown",
      "metadata": {
        "id": "oAU2Nqq1J_sn"
      },
      "source": [
        "**Observação**\n",
        "\n",
        "Há jogos olímpicos de inverso e de verão, como pode ser visto na coluna \"Season\" do dataset. Como nosso objetivo é apenas analisar os dados das olimpíadas de verão (no hemisfério norte). Filtraremos apenas os dados referentes a Season == 'Verão'"
      ]
    },
    {
      "cell_type": "code",
      "metadata": {
        "colab": {
          "base_uri": "https://localhost:8080/"
        },
        "id": "MjAH3frnKjnc",
        "outputId": "a1fa81cc-9816-4b37-d8da-700776f224d3"
      },
      "source": [
        "df_athlete_events['Season'].value_counts() # confirmando que só a duas possibilidades nesta coluna [Winter, Summer]"
      ],
      "execution_count": 394,
      "outputs": [
        {
          "output_type": "execute_result",
          "data": {
            "text/plain": [
              "Summer    222552\n",
              "Winter     48564\n",
              "Name: Season, dtype: int64"
            ]
          },
          "metadata": {
            "tags": []
          },
          "execution_count": 394
        }
      ]
    },
    {
      "cell_type": "code",
      "metadata": {
        "id": "2zw3HZv7Kbdr"
      },
      "source": [
        "filtra_verao = df_athlete_events['Season'] == 'Summer'\n",
        "df_athlete_events=df_athlete_events[filtra_verao]"
      ],
      "execution_count": 395,
      "outputs": []
    },
    {
      "cell_type": "code",
      "metadata": {
        "colab": {
          "base_uri": "https://localhost:8080/",
          "height": 830
        },
        "id": "80ae7tQqRbUM",
        "outputId": "4acb675b-a1c0-4d3b-bf41-ddbfa74360cd"
      },
      "source": [
        "df_athlete_events.sort_values(by=['Age'])"
      ],
      "execution_count": 396,
      "outputs": [
        {
          "output_type": "execute_result",
          "data": {
            "text/html": [
              "<div>\n",
              "<style scoped>\n",
              "    .dataframe tbody tr th:only-of-type {\n",
              "        vertical-align: middle;\n",
              "    }\n",
              "\n",
              "    .dataframe tbody tr th {\n",
              "        vertical-align: top;\n",
              "    }\n",
              "\n",
              "    .dataframe thead th {\n",
              "        text-align: right;\n",
              "    }\n",
              "</style>\n",
              "<table border=\"1\" class=\"dataframe\">\n",
              "  <thead>\n",
              "    <tr style=\"text-align: right;\">\n",
              "      <th></th>\n",
              "      <th>ID</th>\n",
              "      <th>Name</th>\n",
              "      <th>Sex</th>\n",
              "      <th>Age</th>\n",
              "      <th>Height</th>\n",
              "      <th>Weight</th>\n",
              "      <th>Team</th>\n",
              "      <th>NOC</th>\n",
              "      <th>Games</th>\n",
              "      <th>Year</th>\n",
              "      <th>Season</th>\n",
              "      <th>City</th>\n",
              "      <th>Sport</th>\n",
              "      <th>Event</th>\n",
              "      <th>Medal</th>\n",
              "    </tr>\n",
              "  </thead>\n",
              "  <tbody>\n",
              "    <tr>\n",
              "      <th>142882</th>\n",
              "      <td>71691</td>\n",
              "      <td>Dimitrios Loundras</td>\n",
              "      <td>M</td>\n",
              "      <td>10.0</td>\n",
              "      <td>NaN</td>\n",
              "      <td>NaN</td>\n",
              "      <td>Ethnikos Gymnastikos Syllogos</td>\n",
              "      <td>GRE</td>\n",
              "      <td>1896 Summer</td>\n",
              "      <td>1896</td>\n",
              "      <td>Summer</td>\n",
              "      <td>Athina</td>\n",
              "      <td>Gymnastics</td>\n",
              "      <td>Gymnastics Men's Parallel Bars, Teams</td>\n",
              "      <td>Bronze</td>\n",
              "    </tr>\n",
              "    <tr>\n",
              "      <th>252230</th>\n",
              "      <td>126307</td>\n",
              "      <td>Liana Vicens</td>\n",
              "      <td>F</td>\n",
              "      <td>11.0</td>\n",
              "      <td>158.0</td>\n",
              "      <td>50.0</td>\n",
              "      <td>Puerto Rico</td>\n",
              "      <td>PUR</td>\n",
              "      <td>1968 Summer</td>\n",
              "      <td>1968</td>\n",
              "      <td>Summer</td>\n",
              "      <td>Mexico City</td>\n",
              "      <td>Swimming</td>\n",
              "      <td>Swimming Women's 100 metres Breaststroke</td>\n",
              "      <td>NaN</td>\n",
              "    </tr>\n",
              "    <tr>\n",
              "      <th>79024</th>\n",
              "      <td>40129</td>\n",
              "      <td>Luigina Giavotti</td>\n",
              "      <td>F</td>\n",
              "      <td>11.0</td>\n",
              "      <td>NaN</td>\n",
              "      <td>NaN</td>\n",
              "      <td>Italy</td>\n",
              "      <td>ITA</td>\n",
              "      <td>1928 Summer</td>\n",
              "      <td>1928</td>\n",
              "      <td>Summer</td>\n",
              "      <td>Amsterdam</td>\n",
              "      <td>Gymnastics</td>\n",
              "      <td>Gymnastics Women's Team All-Around</td>\n",
              "      <td>Silver</td>\n",
              "    </tr>\n",
              "    <tr>\n",
              "      <th>73461</th>\n",
              "      <td>37333</td>\n",
              "      <td>Carlos Bienvenido Front Barrera</td>\n",
              "      <td>M</td>\n",
              "      <td>11.0</td>\n",
              "      <td>NaN</td>\n",
              "      <td>NaN</td>\n",
              "      <td>Spain</td>\n",
              "      <td>ESP</td>\n",
              "      <td>1992 Summer</td>\n",
              "      <td>1992</td>\n",
              "      <td>Summer</td>\n",
              "      <td>Barcelona</td>\n",
              "      <td>Rowing</td>\n",
              "      <td>Rowing Men's Coxed Eights</td>\n",
              "      <td>NaN</td>\n",
              "    </tr>\n",
              "    <tr>\n",
              "      <th>252231</th>\n",
              "      <td>126307</td>\n",
              "      <td>Liana Vicens</td>\n",
              "      <td>F</td>\n",
              "      <td>11.0</td>\n",
              "      <td>158.0</td>\n",
              "      <td>50.0</td>\n",
              "      <td>Puerto Rico</td>\n",
              "      <td>PUR</td>\n",
              "      <td>1968 Summer</td>\n",
              "      <td>1968</td>\n",
              "      <td>Summer</td>\n",
              "      <td>Mexico City</td>\n",
              "      <td>Swimming</td>\n",
              "      <td>Swimming Women's 200 metres Breaststroke</td>\n",
              "      <td>NaN</td>\n",
              "    </tr>\n",
              "    <tr>\n",
              "      <th>...</th>\n",
              "      <td>...</td>\n",
              "      <td>...</td>\n",
              "      <td>...</td>\n",
              "      <td>...</td>\n",
              "      <td>...</td>\n",
              "      <td>...</td>\n",
              "      <td>...</td>\n",
              "      <td>...</td>\n",
              "      <td>...</td>\n",
              "      <td>...</td>\n",
              "      <td>...</td>\n",
              "      <td>...</td>\n",
              "      <td>...</td>\n",
              "      <td>...</td>\n",
              "      <td>...</td>\n",
              "    </tr>\n",
              "    <tr>\n",
              "      <th>270679</th>\n",
              "      <td>135368</td>\n",
              "      <td>Antonio A. Zucchi</td>\n",
              "      <td>M</td>\n",
              "      <td>NaN</td>\n",
              "      <td>NaN</td>\n",
              "      <td>NaN</td>\n",
              "      <td>Argentina</td>\n",
              "      <td>ARG</td>\n",
              "      <td>1948 Summer</td>\n",
              "      <td>1948</td>\n",
              "      <td>Summer</td>\n",
              "      <td>London</td>\n",
              "      <td>Hockey</td>\n",
              "      <td>Hockey Men's Hockey</td>\n",
              "      <td>NaN</td>\n",
              "    </tr>\n",
              "    <tr>\n",
              "      <th>270774</th>\n",
              "      <td>135416</td>\n",
              "      <td>Star Zulu</td>\n",
              "      <td>M</td>\n",
              "      <td>NaN</td>\n",
              "      <td>NaN</td>\n",
              "      <td>NaN</td>\n",
              "      <td>Zambia</td>\n",
              "      <td>ZAM</td>\n",
              "      <td>1984 Summer</td>\n",
              "      <td>1984</td>\n",
              "      <td>Summer</td>\n",
              "      <td>Los Angeles</td>\n",
              "      <td>Boxing</td>\n",
              "      <td>Boxing Men's Bantamweight</td>\n",
              "      <td>NaN</td>\n",
              "    </tr>\n",
              "    <tr>\n",
              "      <th>270793</th>\n",
              "      <td>135426</td>\n",
              "      <td>Max Zumstein</td>\n",
              "      <td>M</td>\n",
              "      <td>NaN</td>\n",
              "      <td>NaN</td>\n",
              "      <td>NaN</td>\n",
              "      <td>Switzerland</td>\n",
              "      <td>SUI</td>\n",
              "      <td>1928 Summer</td>\n",
              "      <td>1928</td>\n",
              "      <td>Summer</td>\n",
              "      <td>Amsterdam</td>\n",
              "      <td>Hockey</td>\n",
              "      <td>Hockey Men's Hockey</td>\n",
              "      <td>NaN</td>\n",
              "    </tr>\n",
              "    <tr>\n",
              "      <th>270804</th>\n",
              "      <td>135434</td>\n",
              "      <td>Edmundo Ziga Erraz</td>\n",
              "      <td>M</td>\n",
              "      <td>NaN</td>\n",
              "      <td>180.0</td>\n",
              "      <td>95.0</td>\n",
              "      <td>Chile</td>\n",
              "      <td>CHI</td>\n",
              "      <td>1948 Summer</td>\n",
              "      <td>1948</td>\n",
              "      <td>Summer</td>\n",
              "      <td>London</td>\n",
              "      <td>Athletics</td>\n",
              "      <td>Athletics Men's Hammer Throw</td>\n",
              "      <td>NaN</td>\n",
              "    </tr>\n",
              "    <tr>\n",
              "      <th>270805</th>\n",
              "      <td>135435</td>\n",
              "      <td>Faelo Ziga</td>\n",
              "      <td>M</td>\n",
              "      <td>NaN</td>\n",
              "      <td>NaN</td>\n",
              "      <td>NaN</td>\n",
              "      <td>Chile</td>\n",
              "      <td>CHI</td>\n",
              "      <td>1928 Summer</td>\n",
              "      <td>1928</td>\n",
              "      <td>Summer</td>\n",
              "      <td>Amsterdam</td>\n",
              "      <td>Swimming</td>\n",
              "      <td>Swimming Men's 100 metres Freestyle</td>\n",
              "      <td>NaN</td>\n",
              "    </tr>\n",
              "  </tbody>\n",
              "</table>\n",
              "<p>222552 rows × 15 columns</p>\n",
              "</div>"
            ],
            "text/plain": [
              "            ID  ...   Medal\n",
              "142882   71691  ...  Bronze\n",
              "252230  126307  ...     NaN\n",
              "79024    40129  ...  Silver\n",
              "73461    37333  ...     NaN\n",
              "252231  126307  ...     NaN\n",
              "...        ...  ...     ...\n",
              "270679  135368  ...     NaN\n",
              "270774  135416  ...     NaN\n",
              "270793  135426  ...     NaN\n",
              "270804  135434  ...     NaN\n",
              "270805  135435  ...     NaN\n",
              "\n",
              "[222552 rows x 15 columns]"
            ]
          },
          "metadata": {
            "tags": []
          },
          "execution_count": 396
        }
      ]
    },
    {
      "cell_type": "code",
      "metadata": {
        "colab": {
          "base_uri": "https://localhost:8080/"
        },
        "id": "R4sf5pDcTNsH",
        "outputId": "7b16d9c1-f046-4f60-9361-1e92a0b9c99a"
      },
      "source": [
        "df_athlete_events.dtypes"
      ],
      "execution_count": 397,
      "outputs": [
        {
          "output_type": "execute_result",
          "data": {
            "text/plain": [
              "ID          int64\n",
              "Name       object\n",
              "Sex        object\n",
              "Age       float64\n",
              "Height    float64\n",
              "Weight    float64\n",
              "Team       object\n",
              "NOC        object\n",
              "Games      object\n",
              "Year        int64\n",
              "Season     object\n",
              "City       object\n",
              "Sport      object\n",
              "Event      object\n",
              "Medal      object\n",
              "dtype: object"
            ]
          },
          "metadata": {
            "tags": []
          },
          "execution_count": 397
        }
      ]
    },
    {
      "cell_type": "markdown",
      "metadata": {
        "id": "ZQP2NkOZT6CX"
      },
      "source": [
        "**Contando NaN por coluna no df**"
      ]
    },
    {
      "cell_type": "code",
      "metadata": {
        "colab": {
          "base_uri": "https://localhost:8080/"
        },
        "id": "tyIR3n1LPpB-",
        "outputId": "db1f3b50-8532-4df5-b622-5d36969cae53"
      },
      "source": [
        "df_athlete_events.columns"
      ],
      "execution_count": 398,
      "outputs": [
        {
          "output_type": "execute_result",
          "data": {
            "text/plain": [
              "Index(['ID', 'Name', 'Sex', 'Age', 'Height', 'Weight', 'Team', 'NOC', 'Games',\n",
              "       'Year', 'Season', 'City', 'Sport', 'Event', 'Medal'],\n",
              "      dtype='object')"
            ]
          },
          "metadata": {
            "tags": []
          },
          "execution_count": 398
        }
      ]
    },
    {
      "cell_type": "code",
      "metadata": {
        "colab": {
          "base_uri": "https://localhost:8080/"
        },
        "id": "rt9wQ2yPThts",
        "outputId": "7f6ffcb5-7670-4445-9737-7579205bdf04"
      },
      "source": [
        "df_athlete_events.isna().sum()"
      ],
      "execution_count": 399,
      "outputs": [
        {
          "output_type": "execute_result",
          "data": {
            "text/plain": [
              "ID             0\n",
              "Name           0\n",
              "Sex            0\n",
              "Age         9189\n",
              "Height     51857\n",
              "Weight     53854\n",
              "Team           0\n",
              "NOC            0\n",
              "Games          0\n",
              "Year           0\n",
              "Season         0\n",
              "City           0\n",
              "Sport          0\n",
              "Event          0\n",
              "Medal     188464\n",
              "dtype: int64"
            ]
          },
          "metadata": {
            "tags": []
          },
          "execution_count": 399
        }
      ]
    },
    {
      "cell_type": "code",
      "metadata": {
        "colab": {
          "base_uri": "https://localhost:8080/"
        },
        "id": "_wYJwp2FPUnp",
        "outputId": "0b735c7b-c145-4226-99cd-33b561b7f193"
      },
      "source": [
        "rows_number = df_athlete_events.shape[0]\n",
        "rows_number"
      ],
      "execution_count": 400,
      "outputs": [
        {
          "output_type": "execute_result",
          "data": {
            "text/plain": [
              "222552"
            ]
          },
          "metadata": {
            "tags": []
          },
          "execution_count": 400
        }
      ]
    },
    {
      "cell_type": "markdown",
      "metadata": {
        "id": "ETiedLVutZfg"
      },
      "source": [
        "**Após ter uma visão geral sobre o datset, quais perguntas são interessantes de saber?**\n",
        "\n",
        "1.   Qual o percentual de valores faltantes por feature?\n",
        "2.   Quais as principais métricas das variáveis numéricas?\n",
        "3.   Como se distribuem as features numéricas?\n",
        "4.   Quais as correlações entre as features?\n",
        "5.   Qual a distribuição de sexo por esporte?\n",
        "6.   Quais os maiores medalhistas da história das olímpiadas?\n",
        "7.   Quem ganhou mais medalhas de ouro?\n",
        "8.   Quem ganhou mais medalhas em uma única olimpíada?\n",
        "9.   Países com mais medalhas historicamente?\n",
        "10.  Países com mais medalhas desde 1980?\n",
        "11.  Corrida histórica de medalhas de 1896 a 2016\n",
        "12.  Animação da corrida histórica de medalhas de 1896 a 2016\n"
      ]
    },
    {
      "cell_type": "markdown",
      "metadata": {
        "id": "Yi2sPOfFveEF"
      },
      "source": [
        "# 1. Qual o percentual de valores faltantes por feature?"
      ]
    },
    {
      "cell_type": "code",
      "metadata": {
        "colab": {
          "base_uri": "https://localhost:8080/"
        },
        "id": "KmUwvkjhsCst",
        "outputId": "67274835-b545-4307-c9a6-0bb58b3e13b6"
      },
      "source": [
        "serie = df_athlete_events.isna().sum()\n",
        "percent_nan_age = round((serie['Age']/rows_number)*100,2)\n",
        "percent_nan_age"
      ],
      "execution_count": 401,
      "outputs": [
        {
          "output_type": "execute_result",
          "data": {
            "text/plain": [
              "4.13"
            ]
          },
          "metadata": {
            "tags": []
          },
          "execution_count": 401
        }
      ]
    },
    {
      "cell_type": "code",
      "metadata": {
        "colab": {
          "base_uri": "https://localhost:8080/"
        },
        "id": "NzzkVH9tscdz",
        "outputId": "b011709b-5b2f-4768-9e00-caaf2cdec394"
      },
      "source": [
        "percent_nan_altura = round((serie['Height']/rows_number)*100,2)\n",
        "percent_nan_altura"
      ],
      "execution_count": 402,
      "outputs": [
        {
          "output_type": "execute_result",
          "data": {
            "text/plain": [
              "23.3"
            ]
          },
          "metadata": {
            "tags": []
          },
          "execution_count": 402
        }
      ]
    },
    {
      "cell_type": "code",
      "metadata": {
        "colab": {
          "base_uri": "https://localhost:8080/"
        },
        "id": "XqJyc0CAsi-C",
        "outputId": "f087005d-2323-4874-e574-4fac6235d526"
      },
      "source": [
        "percent_nan_peso = round((serie['Weight']/rows_number)*100,2)\n",
        "percent_nan_peso"
      ],
      "execution_count": 403,
      "outputs": [
        {
          "output_type": "execute_result",
          "data": {
            "text/plain": [
              "24.2"
            ]
          },
          "metadata": {
            "tags": []
          },
          "execution_count": 403
        }
      ]
    },
    {
      "cell_type": "code",
      "metadata": {
        "colab": {
          "base_uri": "https://localhost:8080/"
        },
        "id": "wOLWlsvFspoU",
        "outputId": "a5b50450-a436-44cb-e288-b2bae198a386"
      },
      "source": [
        "percent_nan_medal = round((serie['Medal']/rows_number)*100,2)\n",
        "percent_nan_medal"
      ],
      "execution_count": 404,
      "outputs": [
        {
          "output_type": "execute_result",
          "data": {
            "text/plain": [
              "84.68"
            ]
          },
          "metadata": {
            "tags": []
          },
          "execution_count": 404
        }
      ]
    },
    {
      "cell_type": "markdown",
      "metadata": {
        "id": "llCNwH3lHt91"
      },
      "source": [
        "**Observação**\n",
        "\n",
        "Analisando o percentual de dados faltantes (NaN) nas features, é razoável que haja 3,49% de de NaN na feature Age, 22,19% na feature Height e 23,19% na feature Weight. No entanto, não é razoável que haja 85,33% NaN na feature Medal. A hipótese aqui assumida é que esses NaN são na verdade os participantes que não ganharam medalha. Por isso, vamos preencher tais NaN com a string \"No Medal\"."
      ]
    },
    {
      "cell_type": "markdown",
      "metadata": {
        "id": "_yBIVm0EJOHd"
      },
      "source": [
        "**Subtituindo NaN na coluna 'Medal' por 'No Medal'**"
      ]
    },
    {
      "cell_type": "code",
      "metadata": {
        "id": "ybXDaawbI3m0"
      },
      "source": [
        "df_athlete_events['Medal'].fillna('No Medal', inplace=True)"
      ],
      "execution_count": 405,
      "outputs": []
    },
    {
      "cell_type": "markdown",
      "metadata": {
        "id": "RfJ9SPJFJfFm"
      },
      "source": [
        "**Confirmando se a substituição foi realizada**"
      ]
    },
    {
      "cell_type": "code",
      "metadata": {
        "colab": {
          "base_uri": "https://localhost:8080/"
        },
        "id": "ywifiZCHJmDd",
        "outputId": "e50c9dd4-71de-4136-bf39-7a38c09bd165"
      },
      "source": [
        "df_athlete_events.isna().sum()"
      ],
      "execution_count": 406,
      "outputs": [
        {
          "output_type": "execute_result",
          "data": {
            "text/plain": [
              "ID            0\n",
              "Name          0\n",
              "Sex           0\n",
              "Age        9189\n",
              "Height    51857\n",
              "Weight    53854\n",
              "Team          0\n",
              "NOC           0\n",
              "Games         0\n",
              "Year          0\n",
              "Season        0\n",
              "City          0\n",
              "Sport         0\n",
              "Event         0\n",
              "Medal         0\n",
              "dtype: int64"
            ]
          },
          "metadata": {
            "tags": []
          },
          "execution_count": 406
        }
      ]
    },
    {
      "cell_type": "markdown",
      "metadata": {
        "id": "tBMCs4R-QOl0"
      },
      "source": [
        "# 2. Quais as principais métricas das variáveis numéricas?"
      ]
    },
    {
      "cell_type": "code",
      "metadata": {
        "colab": {
          "base_uri": "https://localhost:8080/",
          "height": 0
        },
        "id": "0ewOtFuaP9S0",
        "outputId": "32f84a90-f7f2-4935-f688-643512822d1a"
      },
      "source": [
        "df_numerico = df_athlete_events[['Age', 'Height', 'Weight']]\n",
        "df_numerico.describe() # obs: não são considerados os NaN"
      ],
      "execution_count": 407,
      "outputs": [
        {
          "output_type": "execute_result",
          "data": {
            "text/html": [
              "<div>\n",
              "<style scoped>\n",
              "    .dataframe tbody tr th:only-of-type {\n",
              "        vertical-align: middle;\n",
              "    }\n",
              "\n",
              "    .dataframe tbody tr th {\n",
              "        vertical-align: top;\n",
              "    }\n",
              "\n",
              "    .dataframe thead th {\n",
              "        text-align: right;\n",
              "    }\n",
              "</style>\n",
              "<table border=\"1\" class=\"dataframe\">\n",
              "  <thead>\n",
              "    <tr style=\"text-align: right;\">\n",
              "      <th></th>\n",
              "      <th>Age</th>\n",
              "      <th>Height</th>\n",
              "      <th>Weight</th>\n",
              "    </tr>\n",
              "  </thead>\n",
              "  <tbody>\n",
              "    <tr>\n",
              "      <th>count</th>\n",
              "      <td>213363.000000</td>\n",
              "      <td>170695.000000</td>\n",
              "      <td>168698.00000</td>\n",
              "    </tr>\n",
              "    <tr>\n",
              "      <th>mean</th>\n",
              "      <td>25.674053</td>\n",
              "      <td>175.515551</td>\n",
              "      <td>70.68906</td>\n",
              "    </tr>\n",
              "    <tr>\n",
              "      <th>std</th>\n",
              "      <td>6.699839</td>\n",
              "      <td>10.914725</td>\n",
              "      <td>14.80394</td>\n",
              "    </tr>\n",
              "    <tr>\n",
              "      <th>min</th>\n",
              "      <td>10.000000</td>\n",
              "      <td>127.000000</td>\n",
              "      <td>25.00000</td>\n",
              "    </tr>\n",
              "    <tr>\n",
              "      <th>25%</th>\n",
              "      <td>21.000000</td>\n",
              "      <td>168.000000</td>\n",
              "      <td>60.00000</td>\n",
              "    </tr>\n",
              "    <tr>\n",
              "      <th>50%</th>\n",
              "      <td>24.000000</td>\n",
              "      <td>175.000000</td>\n",
              "      <td>70.00000</td>\n",
              "    </tr>\n",
              "    <tr>\n",
              "      <th>75%</th>\n",
              "      <td>28.000000</td>\n",
              "      <td>183.000000</td>\n",
              "      <td>79.00000</td>\n",
              "    </tr>\n",
              "    <tr>\n",
              "      <th>max</th>\n",
              "      <td>97.000000</td>\n",
              "      <td>226.000000</td>\n",
              "      <td>214.00000</td>\n",
              "    </tr>\n",
              "  </tbody>\n",
              "</table>\n",
              "</div>"
            ],
            "text/plain": [
              "                 Age         Height        Weight\n",
              "count  213363.000000  170695.000000  168698.00000\n",
              "mean       25.674053     175.515551      70.68906\n",
              "std         6.699839      10.914725      14.80394\n",
              "min        10.000000     127.000000      25.00000\n",
              "25%        21.000000     168.000000      60.00000\n",
              "50%        24.000000     175.000000      70.00000\n",
              "75%        28.000000     183.000000      79.00000\n",
              "max        97.000000     226.000000     214.00000"
            ]
          },
          "metadata": {
            "tags": []
          },
          "execution_count": 407
        }
      ]
    },
    {
      "cell_type": "markdown",
      "metadata": {
        "id": "Qo876wpNLWjH"
      },
      "source": [
        "**Dados esquisitos**\n",
        "\n",
        "Atleta mais velho com 97? Segunda o wikipedia o John Quincy Adams Ward competiu postumamente, tendo falecido aos 80 anos em 1910.\n",
        "\n",
        "Isto é uma alerta para não acreditar totalmente nos dados, pois podem haver mais equívocos como esse."
      ]
    },
    {
      "cell_type": "code",
      "metadata": {
        "colab": {
          "base_uri": "https://localhost:8080/",
          "height": 0
        },
        "id": "rHyGeheAIMhO",
        "outputId": "1a4209b1-1f13-4d8b-cec0-f34ea658bb78"
      },
      "source": [
        "filtro_mais_velho = df_athlete_events['Age'] == 97.0\n",
        "df_athlete_events[filtro_mais_velho]"
      ],
      "execution_count": 408,
      "outputs": [
        {
          "output_type": "execute_result",
          "data": {
            "text/html": [
              "<div>\n",
              "<style scoped>\n",
              "    .dataframe tbody tr th:only-of-type {\n",
              "        vertical-align: middle;\n",
              "    }\n",
              "\n",
              "    .dataframe tbody tr th {\n",
              "        vertical-align: top;\n",
              "    }\n",
              "\n",
              "    .dataframe thead th {\n",
              "        text-align: right;\n",
              "    }\n",
              "</style>\n",
              "<table border=\"1\" class=\"dataframe\">\n",
              "  <thead>\n",
              "    <tr style=\"text-align: right;\">\n",
              "      <th></th>\n",
              "      <th>ID</th>\n",
              "      <th>Name</th>\n",
              "      <th>Sex</th>\n",
              "      <th>Age</th>\n",
              "      <th>Height</th>\n",
              "      <th>Weight</th>\n",
              "      <th>Team</th>\n",
              "      <th>NOC</th>\n",
              "      <th>Games</th>\n",
              "      <th>Year</th>\n",
              "      <th>Season</th>\n",
              "      <th>City</th>\n",
              "      <th>Sport</th>\n",
              "      <th>Event</th>\n",
              "      <th>Medal</th>\n",
              "    </tr>\n",
              "  </thead>\n",
              "  <tbody>\n",
              "    <tr>\n",
              "      <th>257054</th>\n",
              "      <td>128719</td>\n",
              "      <td>John Quincy Adams Ward</td>\n",
              "      <td>M</td>\n",
              "      <td>97.0</td>\n",
              "      <td>NaN</td>\n",
              "      <td>NaN</td>\n",
              "      <td>United States</td>\n",
              "      <td>USA</td>\n",
              "      <td>1928 Summer</td>\n",
              "      <td>1928</td>\n",
              "      <td>Summer</td>\n",
              "      <td>Amsterdam</td>\n",
              "      <td>Art Competitions</td>\n",
              "      <td>Art Competitions Mixed Sculpturing, Statues</td>\n",
              "      <td>No Medal</td>\n",
              "    </tr>\n",
              "  </tbody>\n",
              "</table>\n",
              "</div>"
            ],
            "text/plain": [
              "            ID  ...     Medal\n",
              "257054  128719  ...  No Medal\n",
              "\n",
              "[1 rows x 15 columns]"
            ]
          },
          "metadata": {
            "tags": []
          },
          "execution_count": 408
        }
      ]
    },
    {
      "cell_type": "markdown",
      "metadata": {
        "id": "VGeL_td_L71h"
      },
      "source": [
        "**Olimpíadas no Brasil 2016**"
      ]
    },
    {
      "cell_type": "code",
      "metadata": {
        "colab": {
          "base_uri": "https://localhost:8080/",
          "height": 0
        },
        "id": "7auXeW2bLwnh",
        "outputId": "4155d519-4cb3-4d29-e3f1-81eed0a81c65"
      },
      "source": [
        "filtro_2016 = df_athlete_events['Year'] == 2016\n",
        "df_athlete_events[filtro_2016].head()"
      ],
      "execution_count": 409,
      "outputs": [
        {
          "output_type": "execute_result",
          "data": {
            "text/html": [
              "<div>\n",
              "<style scoped>\n",
              "    .dataframe tbody tr th:only-of-type {\n",
              "        vertical-align: middle;\n",
              "    }\n",
              "\n",
              "    .dataframe tbody tr th {\n",
              "        vertical-align: top;\n",
              "    }\n",
              "\n",
              "    .dataframe thead th {\n",
              "        text-align: right;\n",
              "    }\n",
              "</style>\n",
              "<table border=\"1\" class=\"dataframe\">\n",
              "  <thead>\n",
              "    <tr style=\"text-align: right;\">\n",
              "      <th></th>\n",
              "      <th>ID</th>\n",
              "      <th>Name</th>\n",
              "      <th>Sex</th>\n",
              "      <th>Age</th>\n",
              "      <th>Height</th>\n",
              "      <th>Weight</th>\n",
              "      <th>Team</th>\n",
              "      <th>NOC</th>\n",
              "      <th>Games</th>\n",
              "      <th>Year</th>\n",
              "      <th>Season</th>\n",
              "      <th>City</th>\n",
              "      <th>Sport</th>\n",
              "      <th>Event</th>\n",
              "      <th>Medal</th>\n",
              "    </tr>\n",
              "  </thead>\n",
              "  <tbody>\n",
              "    <tr>\n",
              "      <th>80</th>\n",
              "      <td>22</td>\n",
              "      <td>Andreea Aanei</td>\n",
              "      <td>F</td>\n",
              "      <td>22.0</td>\n",
              "      <td>170.0</td>\n",
              "      <td>125.0</td>\n",
              "      <td>Romania</td>\n",
              "      <td>ROU</td>\n",
              "      <td>2016 Summer</td>\n",
              "      <td>2016</td>\n",
              "      <td>Summer</td>\n",
              "      <td>Rio de Janeiro</td>\n",
              "      <td>Weightlifting</td>\n",
              "      <td>Weightlifting Women's Super-Heavyweight</td>\n",
              "      <td>No Medal</td>\n",
              "    </tr>\n",
              "    <tr>\n",
              "      <th>139</th>\n",
              "      <td>51</td>\n",
              "      <td>Nstor Abad Sanjun</td>\n",
              "      <td>M</td>\n",
              "      <td>23.0</td>\n",
              "      <td>167.0</td>\n",
              "      <td>64.0</td>\n",
              "      <td>Spain</td>\n",
              "      <td>ESP</td>\n",
              "      <td>2016 Summer</td>\n",
              "      <td>2016</td>\n",
              "      <td>Summer</td>\n",
              "      <td>Rio de Janeiro</td>\n",
              "      <td>Gymnastics</td>\n",
              "      <td>Gymnastics Men's Individual All-Around</td>\n",
              "      <td>No Medal</td>\n",
              "    </tr>\n",
              "    <tr>\n",
              "      <th>140</th>\n",
              "      <td>51</td>\n",
              "      <td>Nstor Abad Sanjun</td>\n",
              "      <td>M</td>\n",
              "      <td>23.0</td>\n",
              "      <td>167.0</td>\n",
              "      <td>64.0</td>\n",
              "      <td>Spain</td>\n",
              "      <td>ESP</td>\n",
              "      <td>2016 Summer</td>\n",
              "      <td>2016</td>\n",
              "      <td>Summer</td>\n",
              "      <td>Rio de Janeiro</td>\n",
              "      <td>Gymnastics</td>\n",
              "      <td>Gymnastics Men's Floor Exercise</td>\n",
              "      <td>No Medal</td>\n",
              "    </tr>\n",
              "    <tr>\n",
              "      <th>141</th>\n",
              "      <td>51</td>\n",
              "      <td>Nstor Abad Sanjun</td>\n",
              "      <td>M</td>\n",
              "      <td>23.0</td>\n",
              "      <td>167.0</td>\n",
              "      <td>64.0</td>\n",
              "      <td>Spain</td>\n",
              "      <td>ESP</td>\n",
              "      <td>2016 Summer</td>\n",
              "      <td>2016</td>\n",
              "      <td>Summer</td>\n",
              "      <td>Rio de Janeiro</td>\n",
              "      <td>Gymnastics</td>\n",
              "      <td>Gymnastics Men's Parallel Bars</td>\n",
              "      <td>No Medal</td>\n",
              "    </tr>\n",
              "    <tr>\n",
              "      <th>142</th>\n",
              "      <td>51</td>\n",
              "      <td>Nstor Abad Sanjun</td>\n",
              "      <td>M</td>\n",
              "      <td>23.0</td>\n",
              "      <td>167.0</td>\n",
              "      <td>64.0</td>\n",
              "      <td>Spain</td>\n",
              "      <td>ESP</td>\n",
              "      <td>2016 Summer</td>\n",
              "      <td>2016</td>\n",
              "      <td>Summer</td>\n",
              "      <td>Rio de Janeiro</td>\n",
              "      <td>Gymnastics</td>\n",
              "      <td>Gymnastics Men's Horizontal Bar</td>\n",
              "      <td>No Medal</td>\n",
              "    </tr>\n",
              "  </tbody>\n",
              "</table>\n",
              "</div>"
            ],
            "text/plain": [
              "     ID               Name  ...                                    Event     Medal\n",
              "80   22      Andreea Aanei  ...  Weightlifting Women's Super-Heavyweight  No Medal\n",
              "139  51  Nstor Abad Sanjun  ...   Gymnastics Men's Individual All-Around  No Medal\n",
              "140  51  Nstor Abad Sanjun  ...          Gymnastics Men's Floor Exercise  No Medal\n",
              "141  51  Nstor Abad Sanjun  ...           Gymnastics Men's Parallel Bars  No Medal\n",
              "142  51  Nstor Abad Sanjun  ...          Gymnastics Men's Horizontal Bar  No Medal\n",
              "\n",
              "[5 rows x 15 columns]"
            ]
          },
          "metadata": {
            "tags": []
          },
          "execution_count": 409
        }
      ]
    },
    {
      "cell_type": "markdown",
      "metadata": {
        "id": "ul3eps3OXSiv"
      },
      "source": [
        "**Michael Phelps**"
      ]
    },
    {
      "cell_type": "code",
      "metadata": {
        "colab": {
          "base_uri": "https://localhost:8080/",
          "height": 0
        },
        "id": "CWJKmelxXVbi",
        "outputId": "07f29dbe-b143-43f8-c41b-56e69a63f6c9"
      },
      "source": [
        "filtro_phelps = df_athlete_events['Name'] == 'Michael Fred Phelps, II'\n",
        "df_athlete_events[filtro_phelps].head()"
      ],
      "execution_count": 410,
      "outputs": [
        {
          "output_type": "execute_result",
          "data": {
            "text/html": [
              "<div>\n",
              "<style scoped>\n",
              "    .dataframe tbody tr th:only-of-type {\n",
              "        vertical-align: middle;\n",
              "    }\n",
              "\n",
              "    .dataframe tbody tr th {\n",
              "        vertical-align: top;\n",
              "    }\n",
              "\n",
              "    .dataframe thead th {\n",
              "        text-align: right;\n",
              "    }\n",
              "</style>\n",
              "<table border=\"1\" class=\"dataframe\">\n",
              "  <thead>\n",
              "    <tr style=\"text-align: right;\">\n",
              "      <th></th>\n",
              "      <th>ID</th>\n",
              "      <th>Name</th>\n",
              "      <th>Sex</th>\n",
              "      <th>Age</th>\n",
              "      <th>Height</th>\n",
              "      <th>Weight</th>\n",
              "      <th>Team</th>\n",
              "      <th>NOC</th>\n",
              "      <th>Games</th>\n",
              "      <th>Year</th>\n",
              "      <th>Season</th>\n",
              "      <th>City</th>\n",
              "      <th>Sport</th>\n",
              "      <th>Event</th>\n",
              "      <th>Medal</th>\n",
              "    </tr>\n",
              "  </thead>\n",
              "  <tbody>\n",
              "    <tr>\n",
              "      <th>187887</th>\n",
              "      <td>94406</td>\n",
              "      <td>Michael Fred Phelps, II</td>\n",
              "      <td>M</td>\n",
              "      <td>15.0</td>\n",
              "      <td>193.0</td>\n",
              "      <td>91.0</td>\n",
              "      <td>United States</td>\n",
              "      <td>USA</td>\n",
              "      <td>2000 Summer</td>\n",
              "      <td>2000</td>\n",
              "      <td>Summer</td>\n",
              "      <td>Sydney</td>\n",
              "      <td>Swimming</td>\n",
              "      <td>Swimming Men's 200 metres Butterfly</td>\n",
              "      <td>No Medal</td>\n",
              "    </tr>\n",
              "    <tr>\n",
              "      <th>187888</th>\n",
              "      <td>94406</td>\n",
              "      <td>Michael Fred Phelps, II</td>\n",
              "      <td>M</td>\n",
              "      <td>19.0</td>\n",
              "      <td>193.0</td>\n",
              "      <td>91.0</td>\n",
              "      <td>United States</td>\n",
              "      <td>USA</td>\n",
              "      <td>2004 Summer</td>\n",
              "      <td>2004</td>\n",
              "      <td>Summer</td>\n",
              "      <td>Athina</td>\n",
              "      <td>Swimming</td>\n",
              "      <td>Swimming Men's 200 metres Freestyle</td>\n",
              "      <td>Bronze</td>\n",
              "    </tr>\n",
              "    <tr>\n",
              "      <th>187889</th>\n",
              "      <td>94406</td>\n",
              "      <td>Michael Fred Phelps, II</td>\n",
              "      <td>M</td>\n",
              "      <td>19.0</td>\n",
              "      <td>193.0</td>\n",
              "      <td>91.0</td>\n",
              "      <td>United States</td>\n",
              "      <td>USA</td>\n",
              "      <td>2004 Summer</td>\n",
              "      <td>2004</td>\n",
              "      <td>Summer</td>\n",
              "      <td>Athina</td>\n",
              "      <td>Swimming</td>\n",
              "      <td>Swimming Men's 4 x 100 metres Freestyle Relay</td>\n",
              "      <td>Bronze</td>\n",
              "    </tr>\n",
              "    <tr>\n",
              "      <th>187890</th>\n",
              "      <td>94406</td>\n",
              "      <td>Michael Fred Phelps, II</td>\n",
              "      <td>M</td>\n",
              "      <td>19.0</td>\n",
              "      <td>193.0</td>\n",
              "      <td>91.0</td>\n",
              "      <td>United States</td>\n",
              "      <td>USA</td>\n",
              "      <td>2004 Summer</td>\n",
              "      <td>2004</td>\n",
              "      <td>Summer</td>\n",
              "      <td>Athina</td>\n",
              "      <td>Swimming</td>\n",
              "      <td>Swimming Men's 4 x 200 metres Freestyle Relay</td>\n",
              "      <td>Gold</td>\n",
              "    </tr>\n",
              "    <tr>\n",
              "      <th>187891</th>\n",
              "      <td>94406</td>\n",
              "      <td>Michael Fred Phelps, II</td>\n",
              "      <td>M</td>\n",
              "      <td>19.0</td>\n",
              "      <td>193.0</td>\n",
              "      <td>91.0</td>\n",
              "      <td>United States</td>\n",
              "      <td>USA</td>\n",
              "      <td>2004 Summer</td>\n",
              "      <td>2004</td>\n",
              "      <td>Summer</td>\n",
              "      <td>Athina</td>\n",
              "      <td>Swimming</td>\n",
              "      <td>Swimming Men's 100 metres Butterfly</td>\n",
              "      <td>Gold</td>\n",
              "    </tr>\n",
              "  </tbody>\n",
              "</table>\n",
              "</div>"
            ],
            "text/plain": [
              "           ID  ...     Medal\n",
              "187887  94406  ...  No Medal\n",
              "187888  94406  ...    Bronze\n",
              "187889  94406  ...    Bronze\n",
              "187890  94406  ...      Gold\n",
              "187891  94406  ...      Gold\n",
              "\n",
              "[5 rows x 15 columns]"
            ]
          },
          "metadata": {
            "tags": []
          },
          "execution_count": 410
        }
      ]
    },
    {
      "cell_type": "markdown",
      "metadata": {
        "id": "fQTeH5QJSLYA"
      },
      "source": [
        "**Modas da Idade, Altura e Peso**"
      ]
    },
    {
      "cell_type": "code",
      "metadata": {
        "colab": {
          "base_uri": "https://localhost:8080/"
        },
        "id": "_jJCUKnjWYKi",
        "outputId": "a35cf2cc-3b9a-43f9-cdf3-cac1eff63bb8"
      },
      "source": [
        "idade = df_numerico['Age'].dropna()\n",
        "stats.mode(idade)"
      ],
      "execution_count": 411,
      "outputs": [
        {
          "output_type": "execute_result",
          "data": {
            "text/plain": [
              "ModeResult(mode=array([23.]), count=array([17521]))"
            ]
          },
          "metadata": {
            "tags": []
          },
          "execution_count": 411
        }
      ]
    },
    {
      "cell_type": "code",
      "metadata": {
        "colab": {
          "base_uri": "https://localhost:8080/"
        },
        "id": "Th5_xV8CW9Gb",
        "outputId": "143bd75f-1703-444f-ef39-3f825c1598fc"
      },
      "source": [
        "altura = df_numerico['Height'].dropna()\n",
        "stats.mode(altura)"
      ],
      "execution_count": 412,
      "outputs": [
        {
          "output_type": "execute_result",
          "data": {
            "text/plain": [
              "ModeResult(mode=array([170.]), count=array([9696]))"
            ]
          },
          "metadata": {
            "tags": []
          },
          "execution_count": 412
        }
      ]
    },
    {
      "cell_type": "code",
      "metadata": {
        "colab": {
          "base_uri": "https://localhost:8080/"
        },
        "id": "D2-0YxWVXCSp",
        "outputId": "01fa3837-f1ef-4404-c5cc-ff82c0b3add1"
      },
      "source": [
        "peso = df_numerico['Weight'].dropna()\n",
        "stats.mode(peso)"
      ],
      "execution_count": 413,
      "outputs": [
        {
          "output_type": "execute_result",
          "data": {
            "text/plain": [
              "ModeResult(mode=array([70.]), count=array([7659]))"
            ]
          },
          "metadata": {
            "tags": []
          },
          "execution_count": 413
        }
      ]
    },
    {
      "cell_type": "markdown",
      "metadata": {
        "id": "AyupJTG0XPDw"
      },
      "source": [
        "# Como se distribuem as features numéricas? Histogramas (Densidade de Probablidade)"
      ]
    },
    {
      "cell_type": "markdown",
      "metadata": {
        "id": "GWwicWn1YXuP"
      },
      "source": [
        "Histogramas são recomendados para variáveis numéricas, tem relação com a função densidade de probabilidade"
      ]
    },
    {
      "cell_type": "code",
      "metadata": {
        "colab": {
          "base_uri": "https://localhost:8080/"
        },
        "id": "ruOf9nOKbU6o",
        "outputId": "62ef6e4b-e81b-43d4-e7b4-28eaf8ac719c"
      },
      "source": [
        "print('***********Idade***********')\n",
        "print('skewness: ', stats.skew(idade))\n",
        "print('kurtosis: ', stats.kurtosis(idade))\n",
        "print('***********Altura***********')\n",
        "print('skewness: ',stats.skew(altura))\n",
        "print('kurtosis: ', stats.kurtosis(altura))\n",
        "print('***********Peso***********')\n",
        "print('skewness: ', stats.skew(peso))\n",
        "print('kurtosis: ', stats.kurtosis(peso))\n"
      ],
      "execution_count": 414,
      "outputs": [
        {
          "output_type": "stream",
          "text": [
            "***********Idade***********\n",
            "skewness:  1.7741921796321827\n",
            "kurtosis:  6.062101977184664\n",
            "***********Altura***********\n",
            "skewness:  0.019154885937302486\n",
            "kurtosis:  0.1354363080733143\n",
            "***********Peso***********\n",
            "skewness:  0.8464250261851799\n",
            "kurtosis:  2.1521574363717164\n"
          ],
          "name": "stdout"
        }
      ]
    },
    {
      "cell_type": "code",
      "metadata": {
        "colab": {
          "base_uri": "https://localhost:8080/",
          "height": 0
        },
        "id": "AWBV1rd6XRJ1",
        "outputId": "8482e4a5-dc1b-441f-9b60-22c1534b016d"
      },
      "source": [
        "hist_idade =  plt.hist(idade, bins=50, density=True, facecolor='g')"
      ],
      "execution_count": 415,
      "outputs": [
        {
          "output_type": "display_data",
          "data": {
            "image/png": "[encoded data removed]",
            "text/plain": [
              "<Figure size 432x288 with 1 Axes>"
            ]
          },
          "metadata": {
            "tags": [],
            "needs_background": "light"
          }
        }
      ]
    },
    {
      "cell_type": "code",
      "metadata": {
        "colab": {
          "base_uri": "https://localhost:8080/",
          "height": 0
        },
        "id": "g8JVEWgXYIIE",
        "outputId": "bc555ce3-8f16-4d88-a227-66cb9b200a2d"
      },
      "source": [
        "hist_altura =  plt.hist(altura, bins=50, density=True, facecolor='b')"
      ],
      "execution_count": 416,
      "outputs": [
        {
          "output_type": "display_data",
          "data": {
            "image/png": "[encoded data removed]",
            "text/plain": [
              "<Figure size 432x288 with 1 Axes>"
            ]
          },
          "metadata": {
            "tags": [],
            "needs_background": "light"
          }
        }
      ]
    },
    {
      "cell_type": "code",
      "metadata": {
        "colab": {
          "base_uri": "https://localhost:8080/",
          "height": 0
        },
        "id": "tF_Z32xWYLVy",
        "outputId": "b74f97b0-7f5c-4b06-87e6-cef78be7c505"
      },
      "source": [
        "hist_peso =  plt.hist(peso, bins=50, density=True, facecolor='r')"
      ],
      "execution_count": 417,
      "outputs": [
        {
          "output_type": "display_data",
          "data": {
            "image/png": "[encoded data removed]",
            "text/plain": [
              "<Figure size 432x288 with 1 Axes>"
            ]
          },
          "metadata": {
            "tags": [],
            "needs_background": "light"
          }
        }
      ]
    },
    {
      "cell_type": "markdown",
      "metadata": {
        "id": "O_hx6uSezOLy"
      },
      "source": [
        "# 4. Correlações"
      ]
    },
    {
      "cell_type": "code",
      "metadata": {
        "colab": {
          "base_uri": "https://localhost:8080/",
          "height": 0
        },
        "id": "INR3uEAXPFwg",
        "outputId": "476347d4-3f0a-4b42-b994-0ebb0835477f"
      },
      "source": [
        "filtro_medalhas = df_athlete_events['Medal'].str.contains(\"Gold|Silver|Bronze\")\n",
        "df_medalhistas = df_athlete_events[filtro_medalhas]\n",
        "df_medalhistas.head()"
      ],
      "execution_count": 418,
      "outputs": [
        {
          "output_type": "execute_result",
          "data": {
            "text/html": [
              "<div>\n",
              "<style scoped>\n",
              "    .dataframe tbody tr th:only-of-type {\n",
              "        vertical-align: middle;\n",
              "    }\n",
              "\n",
              "    .dataframe tbody tr th {\n",
              "        vertical-align: top;\n",
              "    }\n",
              "\n",
              "    .dataframe thead th {\n",
              "        text-align: right;\n",
              "    }\n",
              "</style>\n",
              "<table border=\"1\" class=\"dataframe\">\n",
              "  <thead>\n",
              "    <tr style=\"text-align: right;\">\n",
              "      <th></th>\n",
              "      <th>ID</th>\n",
              "      <th>Name</th>\n",
              "      <th>Sex</th>\n",
              "      <th>Age</th>\n",
              "      <th>Height</th>\n",
              "      <th>Weight</th>\n",
              "      <th>Team</th>\n",
              "      <th>NOC</th>\n",
              "      <th>Games</th>\n",
              "      <th>Year</th>\n",
              "      <th>Season</th>\n",
              "      <th>City</th>\n",
              "      <th>Sport</th>\n",
              "      <th>Event</th>\n",
              "      <th>Medal</th>\n",
              "    </tr>\n",
              "  </thead>\n",
              "  <tbody>\n",
              "    <tr>\n",
              "      <th>3</th>\n",
              "      <td>4</td>\n",
              "      <td>Edgar Lindenau Aabye</td>\n",
              "      <td>M</td>\n",
              "      <td>34.0</td>\n",
              "      <td>NaN</td>\n",
              "      <td>NaN</td>\n",
              "      <td>Denmark/Sweden</td>\n",
              "      <td>DEN</td>\n",
              "      <td>1900 Summer</td>\n",
              "      <td>1900</td>\n",
              "      <td>Summer</td>\n",
              "      <td>Paris</td>\n",
              "      <td>Tug-Of-War</td>\n",
              "      <td>Tug-Of-War Men's Tug-Of-War</td>\n",
              "      <td>Gold</td>\n",
              "    </tr>\n",
              "    <tr>\n",
              "      <th>37</th>\n",
              "      <td>15</td>\n",
              "      <td>Arvo Ossian Aaltonen</td>\n",
              "      <td>M</td>\n",
              "      <td>30.0</td>\n",
              "      <td>NaN</td>\n",
              "      <td>NaN</td>\n",
              "      <td>Finland</td>\n",
              "      <td>FIN</td>\n",
              "      <td>1920 Summer</td>\n",
              "      <td>1920</td>\n",
              "      <td>Summer</td>\n",
              "      <td>Antwerpen</td>\n",
              "      <td>Swimming</td>\n",
              "      <td>Swimming Men's 200 metres Breaststroke</td>\n",
              "      <td>Bronze</td>\n",
              "    </tr>\n",
              "    <tr>\n",
              "      <th>38</th>\n",
              "      <td>15</td>\n",
              "      <td>Arvo Ossian Aaltonen</td>\n",
              "      <td>M</td>\n",
              "      <td>30.0</td>\n",
              "      <td>NaN</td>\n",
              "      <td>NaN</td>\n",
              "      <td>Finland</td>\n",
              "      <td>FIN</td>\n",
              "      <td>1920 Summer</td>\n",
              "      <td>1920</td>\n",
              "      <td>Summer</td>\n",
              "      <td>Antwerpen</td>\n",
              "      <td>Swimming</td>\n",
              "      <td>Swimming Men's 400 metres Breaststroke</td>\n",
              "      <td>Bronze</td>\n",
              "    </tr>\n",
              "    <tr>\n",
              "      <th>41</th>\n",
              "      <td>17</td>\n",
              "      <td>Paavo Johannes Aaltonen</td>\n",
              "      <td>M</td>\n",
              "      <td>28.0</td>\n",
              "      <td>175.0</td>\n",
              "      <td>64.0</td>\n",
              "      <td>Finland</td>\n",
              "      <td>FIN</td>\n",
              "      <td>1948 Summer</td>\n",
              "      <td>1948</td>\n",
              "      <td>Summer</td>\n",
              "      <td>London</td>\n",
              "      <td>Gymnastics</td>\n",
              "      <td>Gymnastics Men's Individual All-Around</td>\n",
              "      <td>Bronze</td>\n",
              "    </tr>\n",
              "    <tr>\n",
              "      <th>42</th>\n",
              "      <td>17</td>\n",
              "      <td>Paavo Johannes Aaltonen</td>\n",
              "      <td>M</td>\n",
              "      <td>28.0</td>\n",
              "      <td>175.0</td>\n",
              "      <td>64.0</td>\n",
              "      <td>Finland</td>\n",
              "      <td>FIN</td>\n",
              "      <td>1948 Summer</td>\n",
              "      <td>1948</td>\n",
              "      <td>Summer</td>\n",
              "      <td>London</td>\n",
              "      <td>Gymnastics</td>\n",
              "      <td>Gymnastics Men's Team All-Around</td>\n",
              "      <td>Gold</td>\n",
              "    </tr>\n",
              "  </tbody>\n",
              "</table>\n",
              "</div>"
            ],
            "text/plain": [
              "    ID                     Name  ...                                   Event   Medal\n",
              "3    4     Edgar Lindenau Aabye  ...             Tug-Of-War Men's Tug-Of-War    Gold\n",
              "37  15     Arvo Ossian Aaltonen  ...  Swimming Men's 200 metres Breaststroke  Bronze\n",
              "38  15     Arvo Ossian Aaltonen  ...  Swimming Men's 400 metres Breaststroke  Bronze\n",
              "41  17  Paavo Johannes Aaltonen  ...  Gymnastics Men's Individual All-Around  Bronze\n",
              "42  17  Paavo Johannes Aaltonen  ...        Gymnastics Men's Team All-Around    Gold\n",
              "\n",
              "[5 rows x 15 columns]"
            ]
          },
          "metadata": {
            "tags": []
          },
          "execution_count": 418
        }
      ]
    },
    {
      "cell_type": "markdown",
      "metadata": {
        "id": "4vHLwLAQPeQd"
      },
      "source": [
        "Procurando relação entre altura e medalha na ginástica e na natação"
      ]
    },
    {
      "cell_type": "code",
      "metadata": {
        "colab": {
          "base_uri": "https://localhost:8080/",
          "height": 0
        },
        "id": "foG_CVl0PO03",
        "outputId": "e82e370f-ae52-4df6-d860-ecc50ae46a49"
      },
      "source": [
        "filtro_ginastica = df_medalhistas['Sport'] == 'Gymnastics'\n",
        "df_ginastica = df_medalhistas[filtro_ginastica]\n",
        "hist_altura_gim =  plt.hist(df_ginastica['Height'].dropna(), bins=30, density=True, facecolor='b')"
      ],
      "execution_count": 419,
      "outputs": [
        {
          "output_type": "display_data",
          "data": {
            "image/png": "[encoded data removed]",
            "text/plain": [
              "<Figure size 432x288 with 1 Axes>"
            ]
          },
          "metadata": {
            "tags": [],
            "needs_background": "light"
          }
        }
      ]
    },
    {
      "cell_type": "code",
      "metadata": {
        "colab": {
          "base_uri": "https://localhost:8080/",
          "height": 0
        },
        "id": "Nt6tQHsuQCSf",
        "outputId": "d5cb7607-951e-4e98-83e8-ed7afea8e613"
      },
      "source": [
        "filtro_natacao = df_medalhistas['Sport'] == 'Swimming'\n",
        "df_natacao = df_medalhistas[filtro_natacao]\n",
        "hist_altura_nat =  plt.hist(df_natacao['Height'].dropna(), bins=30, density=True, facecolor='b')"
      ],
      "execution_count": 420,
      "outputs": [
        {
          "output_type": "display_data",
          "data": {
            "image/png": "[encoded data removed]",
            "text/plain": [
              "<Figure size 432x288 with 1 Axes>"
            ]
          },
          "metadata": {
            "tags": [],
            "needs_background": "light"
          }
        }
      ]
    },
    {
      "cell_type": "code",
      "metadata": {
        "colab": {
          "base_uri": "https://localhost:8080/",
          "height": 0
        },
        "id": "uCJNcz-3Qr1i",
        "outputId": "fa25d986-8fb9-42f3-885e-b2d7fa006381"
      },
      "source": [
        "filtro_volei= df_medalhistas['Sport'] == 'Volleyball'\n",
        "df_volei = df_medalhistas[filtro_volei]\n",
        "hist_altura_volei =  plt.hist(df_volei['Height'].dropna(), bins=30, density=True, facecolor='b')"
      ],
      "execution_count": 421,
      "outputs": [
        {
          "output_type": "display_data",
          "data": {
            "image/png": "[encoded data removed]",
            "text/plain": [
              "<Figure size 432x288 with 1 Axes>"
            ]
          },
          "metadata": {
            "tags": [],
            "needs_background": "light"
          }
        }
      ]
    },
    {
      "cell_type": "markdown",
      "metadata": {
        "id": "PyebaR1-Q6ff"
      },
      "source": [
        "É bem interessante observar a distribuição da altura dos atletas para cada cateogia do esporte. Olhando paras os atletas vencedores de medalha de ginástica, natação e volei, foi observado o esperado: concetração de atletas muito altos no vôlei, altos na natação e baixos/média estatura na ginástica."
      ]
    },
    {
      "cell_type": "markdown",
      "metadata": {
        "id": "-TNO4ZjA0iTV"
      },
      "source": [
        "# 5. Qual a distribuição de sexo por esporte (top 10)?"
      ]
    },
    {
      "cell_type": "code",
      "metadata": {
        "colab": {
          "base_uri": "https://localhost:8080/"
        },
        "id": "k8MaHxhb2FG-",
        "outputId": "931e10d3-b1db-47db-868d-1f1cc1b98a79"
      },
      "source": [
        "df_athlete_events['Sport'].unique()"
      ],
      "execution_count": 422,
      "outputs": [
        {
          "output_type": "execute_result",
          "data": {
            "text/plain": [
              "array(['Basketball', 'Judo', 'Football', 'Tug-Of-War', 'Athletics',\n",
              "       'Swimming', 'Badminton', 'Sailing', 'Gymnastics',\n",
              "       'Art Competitions', 'Handball', 'Weightlifting', 'Wrestling',\n",
              "       'Water Polo', 'Hockey', 'Rowing', 'Fencing', 'Equestrianism',\n",
              "       'Shooting', 'Boxing', 'Taekwondo', 'Cycling', 'Diving', 'Canoeing',\n",
              "       'Tennis', 'Modern Pentathlon', 'Golf', 'Softball', 'Archery',\n",
              "       'Volleyball', 'Synchronized Swimming', 'Table Tennis', 'Baseball',\n",
              "       'Rhythmic Gymnastics', 'Rugby Sevens', 'Trampolining',\n",
              "       'Beach Volleyball', 'Triathlon', 'Rugby', 'Lacrosse', 'Polo',\n",
              "       'Cricket', 'Ice Hockey', 'Racquets', 'Motorboating', 'Croquet',\n",
              "       'Figure Skating', 'Jeu De Paume', 'Roque', 'Basque Pelota',\n",
              "       'Alpinism', 'Aeronautics'], dtype=object)"
            ]
          },
          "metadata": {
            "tags": []
          },
          "execution_count": 422
        }
      ]
    },
    {
      "cell_type": "code",
      "metadata": {
        "id": "Z4gJ-8QeBW-C"
      },
      "source": [
        "def plot_bar_cores(xval,yval,dados,ylab,xlab,titulo):  \n",
        "    \"\"\"\n",
        "    Função para plotar gráfico de barras a partir de colunas de dataframes e\n",
        "    colore de vermelho a coluna de maior valor, de azul a de menor valor e de \n",
        "    cinza as demais colunas.\n",
        "    \n",
        "    Parâmetros:\n",
        "    xval (string) : coluna do dataframe que será o eixo x\n",
        "    yval  (string) : coluna do dataframe que será o eixo y\n",
        "    dados (dataframe) : dataframe que é a base dos dados de xval e yval\n",
        "    ylab (string) : rótulo do eixo y\n",
        "    xlab (string) : rótulo do eixo x\n",
        "    titulo (string) : titulo do grafico    \n",
        "    \"\"\"   \n",
        "    cores= ['red' if (y == dados[yval].max()) else\n",
        "             'blue' if (y == dados[yval].min()) else \n",
        "             'grey' for y in dados[yval] ]      \n",
        "    plt.figure()\n",
        "    sns.barplot(x = xval, y = yval, data = dados, palette= cores ,ci=None)\n",
        "    plt.ylabel(ylab)\n",
        "    plt.xlabel(xlab)\n",
        "    plt.title(titulo)\n",
        "    plt.xticks(rotation=45)\n",
        "    plt.tight_layout()\n",
        "    plt.show()"
      ],
      "execution_count": 423,
      "outputs": []
    },
    {
      "cell_type": "code",
      "metadata": {
        "id": "lpUI2LoTFdHB"
      },
      "source": [
        "def filtra_esporte_por_sexo(df,sex):\n",
        "  filtro = df['Sex'] == sex\n",
        "  df_top10_FSports=df[filtro]['Sport'].value_counts()[0:10] # top 10 \n",
        "  df_top10_FSports=df_top10_FSports.to_frame()\n",
        "  df_top10_FSports['index'] = df_top10_FSports.index\n",
        "  df_top10_FSports.rename({'Sport': 'Counts', 'index': 'Esporte'}, axis=1, inplace=True)\n",
        "  return df_top10_FSports"
      ],
      "execution_count": 424,
      "outputs": []
    },
    {
      "cell_type": "code",
      "metadata": {
        "id": "ia6A-HLCGCw0"
      },
      "source": [
        "df_sport_F=filtra_esporte_por_sexo(df_athlete_events,'F')"
      ],
      "execution_count": 425,
      "outputs": []
    },
    {
      "cell_type": "code",
      "metadata": {
        "id": "Xl7jqF9UGXjQ"
      },
      "source": [
        "df_sport_M=filtra_esporte_por_sexo(df_athlete_events,'M')"
      ],
      "execution_count": 426,
      "outputs": []
    },
    {
      "cell_type": "code",
      "metadata": {
        "colab": {
          "base_uri": "https://localhost:8080/",
          "height": 0
        },
        "id": "1wI5YO7EBkOI",
        "outputId": "0a39e241-91eb-4361-c34e-9bf80dab0955"
      },
      "source": [
        "plot_bar_cores('Esporte','Counts',df_sport_F,'Esportes','Counts','Top 10 esportes com mais mulheres')"
      ],
      "execution_count": 427,
      "outputs": [
        {
          "output_type": "display_data",
          "data": {
            "image/png": "[encoded data removed]",
            "text/plain": [
              "<Figure size 432x288 with 1 Axes>"
            ]
          },
          "metadata": {
            "tags": [],
            "needs_background": "light"
          }
        }
      ]
    },
    {
      "cell_type": "code",
      "metadata": {
        "colab": {
          "base_uri": "https://localhost:8080/",
          "height": 0
        },
        "id": "9PMgVRLdGeeK",
        "outputId": "40048eb4-29f7-445e-f62e-26ebde1cde42"
      },
      "source": [
        "plot_bar_cores('Esporte','Counts',df_sport_M,'Esportes','Counts','Top 10 esportes com mais homens')"
      ],
      "execution_count": 428,
      "outputs": [
        {
          "output_type": "display_data",
          "data": {
            "image/png": "[encoded data removed]",
            "text/plain": [
              "<Figure size 432x288 with 1 Axes>"
            ]
          },
          "metadata": {
            "tags": [],
            "needs_background": "light"
          }
        }
      ]
    },
    {
      "cell_type": "markdown",
      "metadata": {
        "id": "LXdvLUvbNg_s"
      },
      "source": [
        "# 6. Quais os maiores medalhistas da história das olímpiadas?"
      ]
    },
    {
      "cell_type": "code",
      "metadata": {
        "colab": {
          "base_uri": "https://localhost:8080/"
        },
        "id": "_x6P5KhFP3LT",
        "outputId": "0add29a9-ff89-45e4-d1a4-88d66002aab7"
      },
      "source": [
        "df_athlete_events['Medal'].value_counts()"
      ],
      "execution_count": 429,
      "outputs": [
        {
          "output_type": "execute_result",
          "data": {
            "text/plain": [
              "No Medal    188464\n",
              "Gold         11459\n",
              "Bronze       11409\n",
              "Silver       11220\n",
              "Name: Medal, dtype: int64"
            ]
          },
          "metadata": {
            "tags": []
          },
          "execution_count": 429
        }
      ]
    },
    {
      "cell_type": "code",
      "metadata": {
        "id": "L69J-ZlkBTxF"
      },
      "source": [
        "def top10_winner_athlete(df, feature, string):\n",
        "  filtro = df[feature].str.contains(string)\n",
        "  df_ouros = df[filtro]\n",
        "  df_top10=df_ouros[['Name','Sport',feature]].value_counts().to_frame()\n",
        "  df_top10.rename({0: 'Counts'}, axis=1, inplace=True)\n",
        "  df_top10.reset_index(inplace=True)\n",
        "  df_top10 = df_top10[0:10] # top 10 maiores ganhadores\n",
        "  return df_top10"
      ],
      "execution_count": 430,
      "outputs": []
    },
    {
      "cell_type": "markdown",
      "metadata": {
        "id": "AOEPo6h86vBm"
      },
      "source": [
        "**Filtrando Linhas onde o atleta estava no podium (ouro, prata ou bronze)**"
      ]
    },
    {
      "cell_type": "code",
      "metadata": {
        "colab": {
          "base_uri": "https://localhost:8080/",
          "height": 0
        },
        "id": "I4Du3PbkQFll",
        "outputId": "61adc47f-b723-44d9-b931-ceaef2c61adf"
      },
      "source": [
        "filtro_medalhas = df_athlete_events['Medal'].str.contains(\"Gold|Silver|Bronze\")\n",
        "df_medalhistas = df_athlete_events[filtro_medalhas]\n",
        "df_medalhistas.head()"
      ],
      "execution_count": 431,
      "outputs": [
        {
          "output_type": "execute_result",
          "data": {
            "text/html": [
              "<div>\n",
              "<style scoped>\n",
              "    .dataframe tbody tr th:only-of-type {\n",
              "        vertical-align: middle;\n",
              "    }\n",
              "\n",
              "    .dataframe tbody tr th {\n",
              "        vertical-align: top;\n",
              "    }\n",
              "\n",
              "    .dataframe thead th {\n",
              "        text-align: right;\n",
              "    }\n",
              "</style>\n",
              "<table border=\"1\" class=\"dataframe\">\n",
              "  <thead>\n",
              "    <tr style=\"text-align: right;\">\n",
              "      <th></th>\n",
              "      <th>ID</th>\n",
              "      <th>Name</th>\n",
              "      <th>Sex</th>\n",
              "      <th>Age</th>\n",
              "      <th>Height</th>\n",
              "      <th>Weight</th>\n",
              "      <th>Team</th>\n",
              "      <th>NOC</th>\n",
              "      <th>Games</th>\n",
              "      <th>Year</th>\n",
              "      <th>Season</th>\n",
              "      <th>City</th>\n",
              "      <th>Sport</th>\n",
              "      <th>Event</th>\n",
              "      <th>Medal</th>\n",
              "    </tr>\n",
              "  </thead>\n",
              "  <tbody>\n",
              "    <tr>\n",
              "      <th>3</th>\n",
              "      <td>4</td>\n",
              "      <td>Edgar Lindenau Aabye</td>\n",
              "      <td>M</td>\n",
              "      <td>34.0</td>\n",
              "      <td>NaN</td>\n",
              "      <td>NaN</td>\n",
              "      <td>Denmark/Sweden</td>\n",
              "      <td>DEN</td>\n",
              "      <td>1900 Summer</td>\n",
              "      <td>1900</td>\n",
              "      <td>Summer</td>\n",
              "      <td>Paris</td>\n",
              "      <td>Tug-Of-War</td>\n",
              "      <td>Tug-Of-War Men's Tug-Of-War</td>\n",
              "      <td>Gold</td>\n",
              "    </tr>\n",
              "    <tr>\n",
              "      <th>37</th>\n",
              "      <td>15</td>\n",
              "      <td>Arvo Ossian Aaltonen</td>\n",
              "      <td>M</td>\n",
              "      <td>30.0</td>\n",
              "      <td>NaN</td>\n",
              "      <td>NaN</td>\n",
              "      <td>Finland</td>\n",
              "      <td>FIN</td>\n",
              "      <td>1920 Summer</td>\n",
              "      <td>1920</td>\n",
              "      <td>Summer</td>\n",
              "      <td>Antwerpen</td>\n",
              "      <td>Swimming</td>\n",
              "      <td>Swimming Men's 200 metres Breaststroke</td>\n",
              "      <td>Bronze</td>\n",
              "    </tr>\n",
              "    <tr>\n",
              "      <th>38</th>\n",
              "      <td>15</td>\n",
              "      <td>Arvo Ossian Aaltonen</td>\n",
              "      <td>M</td>\n",
              "      <td>30.0</td>\n",
              "      <td>NaN</td>\n",
              "      <td>NaN</td>\n",
              "      <td>Finland</td>\n",
              "      <td>FIN</td>\n",
              "      <td>1920 Summer</td>\n",
              "      <td>1920</td>\n",
              "      <td>Summer</td>\n",
              "      <td>Antwerpen</td>\n",
              "      <td>Swimming</td>\n",
              "      <td>Swimming Men's 400 metres Breaststroke</td>\n",
              "      <td>Bronze</td>\n",
              "    </tr>\n",
              "    <tr>\n",
              "      <th>41</th>\n",
              "      <td>17</td>\n",
              "      <td>Paavo Johannes Aaltonen</td>\n",
              "      <td>M</td>\n",
              "      <td>28.0</td>\n",
              "      <td>175.0</td>\n",
              "      <td>64.0</td>\n",
              "      <td>Finland</td>\n",
              "      <td>FIN</td>\n",
              "      <td>1948 Summer</td>\n",
              "      <td>1948</td>\n",
              "      <td>Summer</td>\n",
              "      <td>London</td>\n",
              "      <td>Gymnastics</td>\n",
              "      <td>Gymnastics Men's Individual All-Around</td>\n",
              "      <td>Bronze</td>\n",
              "    </tr>\n",
              "    <tr>\n",
              "      <th>42</th>\n",
              "      <td>17</td>\n",
              "      <td>Paavo Johannes Aaltonen</td>\n",
              "      <td>M</td>\n",
              "      <td>28.0</td>\n",
              "      <td>175.0</td>\n",
              "      <td>64.0</td>\n",
              "      <td>Finland</td>\n",
              "      <td>FIN</td>\n",
              "      <td>1948 Summer</td>\n",
              "      <td>1948</td>\n",
              "      <td>Summer</td>\n",
              "      <td>London</td>\n",
              "      <td>Gymnastics</td>\n",
              "      <td>Gymnastics Men's Team All-Around</td>\n",
              "      <td>Gold</td>\n",
              "    </tr>\n",
              "  </tbody>\n",
              "</table>\n",
              "</div>"
            ],
            "text/plain": [
              "    ID                     Name  ...                                   Event   Medal\n",
              "3    4     Edgar Lindenau Aabye  ...             Tug-Of-War Men's Tug-Of-War    Gold\n",
              "37  15     Arvo Ossian Aaltonen  ...  Swimming Men's 200 metres Breaststroke  Bronze\n",
              "38  15     Arvo Ossian Aaltonen  ...  Swimming Men's 400 metres Breaststroke  Bronze\n",
              "41  17  Paavo Johannes Aaltonen  ...  Gymnastics Men's Individual All-Around  Bronze\n",
              "42  17  Paavo Johannes Aaltonen  ...        Gymnastics Men's Team All-Around    Gold\n",
              "\n",
              "[5 rows x 15 columns]"
            ]
          },
          "metadata": {
            "tags": []
          },
          "execution_count": 431
        }
      ]
    },
    {
      "cell_type": "code",
      "metadata": {
        "colab": {
          "base_uri": "https://localhost:8080/",
          "height": 0
        },
        "id": "_HZgjT8l8soo",
        "outputId": "b38c3374-761b-4b9c-881a-881ed6b93301"
      },
      "source": [
        "lista = ['Yes' for i in range(df_medalhistas.shape[0])]\n",
        "df_medalhistas['Podium'] = lista\n",
        "df_medalhistas.head()"
      ],
      "execution_count": 432,
      "outputs": [
        {
          "output_type": "stream",
          "text": [
            "/usr/local/lib/python3.7/dist-packages/ipykernel_launcher.py:2: SettingWithCopyWarning: \n",
            "A value is trying to be set on a copy of a slice from a DataFrame.\n",
            "Try using .loc[row_indexer,col_indexer] = value instead\n",
            "\n",
            "See the caveats in the documentation: https://pandas.pydata.org/pandas-docs/stable/user_guide/indexing.html#returning-a-view-versus-a-copy\n",
            "  \n"
          ],
          "name": "stderr"
        },
        {
          "output_type": "execute_result",
          "data": {
            "text/html": [
              "<div>\n",
              "<style scoped>\n",
              "    .dataframe tbody tr th:only-of-type {\n",
              "        vertical-align: middle;\n",
              "    }\n",
              "\n",
              "    .dataframe tbody tr th {\n",
              "        vertical-align: top;\n",
              "    }\n",
              "\n",
              "    .dataframe thead th {\n",
              "        text-align: right;\n",
              "    }\n",
              "</style>\n",
              "<table border=\"1\" class=\"dataframe\">\n",
              "  <thead>\n",
              "    <tr style=\"text-align: right;\">\n",
              "      <th></th>\n",
              "      <th>ID</th>\n",
              "      <th>Name</th>\n",
              "      <th>Sex</th>\n",
              "      <th>Age</th>\n",
              "      <th>Height</th>\n",
              "      <th>Weight</th>\n",
              "      <th>Team</th>\n",
              "      <th>NOC</th>\n",
              "      <th>Games</th>\n",
              "      <th>Year</th>\n",
              "      <th>Season</th>\n",
              "      <th>City</th>\n",
              "      <th>Sport</th>\n",
              "      <th>Event</th>\n",
              "      <th>Medal</th>\n",
              "      <th>Podium</th>\n",
              "    </tr>\n",
              "  </thead>\n",
              "  <tbody>\n",
              "    <tr>\n",
              "      <th>3</th>\n",
              "      <td>4</td>\n",
              "      <td>Edgar Lindenau Aabye</td>\n",
              "      <td>M</td>\n",
              "      <td>34.0</td>\n",
              "      <td>NaN</td>\n",
              "      <td>NaN</td>\n",
              "      <td>Denmark/Sweden</td>\n",
              "      <td>DEN</td>\n",
              "      <td>1900 Summer</td>\n",
              "      <td>1900</td>\n",
              "      <td>Summer</td>\n",
              "      <td>Paris</td>\n",
              "      <td>Tug-Of-War</td>\n",
              "      <td>Tug-Of-War Men's Tug-Of-War</td>\n",
              "      <td>Gold</td>\n",
              "      <td>Yes</td>\n",
              "    </tr>\n",
              "    <tr>\n",
              "      <th>37</th>\n",
              "      <td>15</td>\n",
              "      <td>Arvo Ossian Aaltonen</td>\n",
              "      <td>M</td>\n",
              "      <td>30.0</td>\n",
              "      <td>NaN</td>\n",
              "      <td>NaN</td>\n",
              "      <td>Finland</td>\n",
              "      <td>FIN</td>\n",
              "      <td>1920 Summer</td>\n",
              "      <td>1920</td>\n",
              "      <td>Summer</td>\n",
              "      <td>Antwerpen</td>\n",
              "      <td>Swimming</td>\n",
              "      <td>Swimming Men's 200 metres Breaststroke</td>\n",
              "      <td>Bronze</td>\n",
              "      <td>Yes</td>\n",
              "    </tr>\n",
              "    <tr>\n",
              "      <th>38</th>\n",
              "      <td>15</td>\n",
              "      <td>Arvo Ossian Aaltonen</td>\n",
              "      <td>M</td>\n",
              "      <td>30.0</td>\n",
              "      <td>NaN</td>\n",
              "      <td>NaN</td>\n",
              "      <td>Finland</td>\n",
              "      <td>FIN</td>\n",
              "      <td>1920 Summer</td>\n",
              "      <td>1920</td>\n",
              "      <td>Summer</td>\n",
              "      <td>Antwerpen</td>\n",
              "      <td>Swimming</td>\n",
              "      <td>Swimming Men's 400 metres Breaststroke</td>\n",
              "      <td>Bronze</td>\n",
              "      <td>Yes</td>\n",
              "    </tr>\n",
              "    <tr>\n",
              "      <th>41</th>\n",
              "      <td>17</td>\n",
              "      <td>Paavo Johannes Aaltonen</td>\n",
              "      <td>M</td>\n",
              "      <td>28.0</td>\n",
              "      <td>175.0</td>\n",
              "      <td>64.0</td>\n",
              "      <td>Finland</td>\n",
              "      <td>FIN</td>\n",
              "      <td>1948 Summer</td>\n",
              "      <td>1948</td>\n",
              "      <td>Summer</td>\n",
              "      <td>London</td>\n",
              "      <td>Gymnastics</td>\n",
              "      <td>Gymnastics Men's Individual All-Around</td>\n",
              "      <td>Bronze</td>\n",
              "      <td>Yes</td>\n",
              "    </tr>\n",
              "    <tr>\n",
              "      <th>42</th>\n",
              "      <td>17</td>\n",
              "      <td>Paavo Johannes Aaltonen</td>\n",
              "      <td>M</td>\n",
              "      <td>28.0</td>\n",
              "      <td>175.0</td>\n",
              "      <td>64.0</td>\n",
              "      <td>Finland</td>\n",
              "      <td>FIN</td>\n",
              "      <td>1948 Summer</td>\n",
              "      <td>1948</td>\n",
              "      <td>Summer</td>\n",
              "      <td>London</td>\n",
              "      <td>Gymnastics</td>\n",
              "      <td>Gymnastics Men's Team All-Around</td>\n",
              "      <td>Gold</td>\n",
              "      <td>Yes</td>\n",
              "    </tr>\n",
              "  </tbody>\n",
              "</table>\n",
              "</div>"
            ],
            "text/plain": [
              "    ID                     Name  ...   Medal  Podium\n",
              "3    4     Edgar Lindenau Aabye  ...    Gold     Yes\n",
              "37  15     Arvo Ossian Aaltonen  ...  Bronze     Yes\n",
              "38  15     Arvo Ossian Aaltonen  ...  Bronze     Yes\n",
              "41  17  Paavo Johannes Aaltonen  ...  Bronze     Yes\n",
              "42  17  Paavo Johannes Aaltonen  ...    Gold     Yes\n",
              "\n",
              "[5 rows x 16 columns]"
            ]
          },
          "metadata": {
            "tags": []
          },
          "execution_count": 432
        }
      ]
    },
    {
      "cell_type": "code",
      "metadata": {
        "colab": {
          "base_uri": "https://localhost:8080/",
          "height": 0
        },
        "id": "ELxi9tXFTlyU",
        "outputId": "3e1bab4b-601c-4b35-9e3c-ebc105604be0"
      },
      "source": [
        "df_quantas_medalhas = top10_winner_athlete(df_medalhistas, 'Podium', 'Yes')\n",
        "df_quantas_medalhas"
      ],
      "execution_count": 433,
      "outputs": [
        {
          "output_type": "execute_result",
          "data": {
            "text/html": [
              "<div>\n",
              "<style scoped>\n",
              "    .dataframe tbody tr th:only-of-type {\n",
              "        vertical-align: middle;\n",
              "    }\n",
              "\n",
              "    .dataframe tbody tr th {\n",
              "        vertical-align: top;\n",
              "    }\n",
              "\n",
              "    .dataframe thead th {\n",
              "        text-align: right;\n",
              "    }\n",
              "</style>\n",
              "<table border=\"1\" class=\"dataframe\">\n",
              "  <thead>\n",
              "    <tr style=\"text-align: right;\">\n",
              "      <th></th>\n",
              "      <th>Name</th>\n",
              "      <th>Sport</th>\n",
              "      <th>Podium</th>\n",
              "      <th>Counts</th>\n",
              "    </tr>\n",
              "  </thead>\n",
              "  <tbody>\n",
              "    <tr>\n",
              "      <th>0</th>\n",
              "      <td>Michael Fred Phelps, II</td>\n",
              "      <td>Swimming</td>\n",
              "      <td>Yes</td>\n",
              "      <td>28</td>\n",
              "    </tr>\n",
              "    <tr>\n",
              "      <th>1</th>\n",
              "      <td>Larysa Semenivna Latynina (Diriy-)</td>\n",
              "      <td>Gymnastics</td>\n",
              "      <td>Yes</td>\n",
              "      <td>18</td>\n",
              "    </tr>\n",
              "    <tr>\n",
              "      <th>2</th>\n",
              "      <td>Nikolay Yefimovich Andrianov</td>\n",
              "      <td>Gymnastics</td>\n",
              "      <td>Yes</td>\n",
              "      <td>15</td>\n",
              "    </tr>\n",
              "    <tr>\n",
              "      <th>3</th>\n",
              "      <td>Borys Anfiyanovych Shakhlin</td>\n",
              "      <td>Gymnastics</td>\n",
              "      <td>Yes</td>\n",
              "      <td>13</td>\n",
              "    </tr>\n",
              "    <tr>\n",
              "      <th>4</th>\n",
              "      <td>Takashi Ono</td>\n",
              "      <td>Gymnastics</td>\n",
              "      <td>Yes</td>\n",
              "      <td>13</td>\n",
              "    </tr>\n",
              "    <tr>\n",
              "      <th>5</th>\n",
              "      <td>Edoardo Mangiarotti</td>\n",
              "      <td>Fencing</td>\n",
              "      <td>Yes</td>\n",
              "      <td>13</td>\n",
              "    </tr>\n",
              "    <tr>\n",
              "      <th>6</th>\n",
              "      <td>Dara Grace Torres (-Hoffman, -Minas)</td>\n",
              "      <td>Swimming</td>\n",
              "      <td>Yes</td>\n",
              "      <td>12</td>\n",
              "    </tr>\n",
              "    <tr>\n",
              "      <th>7</th>\n",
              "      <td>Birgit Fischer-Schmidt</td>\n",
              "      <td>Canoeing</td>\n",
              "      <td>Yes</td>\n",
              "      <td>12</td>\n",
              "    </tr>\n",
              "    <tr>\n",
              "      <th>8</th>\n",
              "      <td>Natalie Anne Coughlin (-Hall)</td>\n",
              "      <td>Swimming</td>\n",
              "      <td>Yes</td>\n",
              "      <td>12</td>\n",
              "    </tr>\n",
              "    <tr>\n",
              "      <th>9</th>\n",
              "      <td>Paavo Johannes Nurmi</td>\n",
              "      <td>Athletics</td>\n",
              "      <td>Yes</td>\n",
              "      <td>12</td>\n",
              "    </tr>\n",
              "  </tbody>\n",
              "</table>\n",
              "</div>"
            ],
            "text/plain": [
              "                                   Name       Sport Podium  Counts\n",
              "0               Michael Fred Phelps, II    Swimming    Yes      28\n",
              "1    Larysa Semenivna Latynina (Diriy-)  Gymnastics    Yes      18\n",
              "2          Nikolay Yefimovich Andrianov  Gymnastics    Yes      15\n",
              "3           Borys Anfiyanovych Shakhlin  Gymnastics    Yes      13\n",
              "4                           Takashi Ono  Gymnastics    Yes      13\n",
              "5                   Edoardo Mangiarotti     Fencing    Yes      13\n",
              "6  Dara Grace Torres (-Hoffman, -Minas)    Swimming    Yes      12\n",
              "7                Birgit Fischer-Schmidt    Canoeing    Yes      12\n",
              "8         Natalie Anne Coughlin (-Hall)    Swimming    Yes      12\n",
              "9                  Paavo Johannes Nurmi   Athletics    Yes      12"
            ]
          },
          "metadata": {
            "tags": []
          },
          "execution_count": 433
        }
      ]
    },
    {
      "cell_type": "markdown",
      "metadata": {
        "id": "WlzhLwzT-H4F"
      },
      "source": [
        "Foi confirmado por pesquisa rápida no Google que Michael Phelps é o maior ganhador de medalhas em olimpíadas de todos os tempos\n",
        "\n",
        "Larysa Semenivna também foi confirmada."
      ]
    },
    {
      "cell_type": "markdown",
      "metadata": {
        "id": "MOMuaTsA-yyq"
      },
      "source": [
        "# 7. Quem ganhou mais medalhas de ouro?"
      ]
    },
    {
      "cell_type": "code",
      "metadata": {
        "colab": {
          "base_uri": "https://localhost:8080/",
          "height": 0
        },
        "id": "lCyXSCUM_HN0",
        "outputId": "5f087e85-00ff-4bee-8f13-f3489fdf6c33"
      },
      "source": [
        "df_quantos_ouros = top10_winner_athlete(df_athlete_events,'Medal','Gold')\n",
        "df_quantos_ouros"
      ],
      "execution_count": 434,
      "outputs": [
        {
          "output_type": "execute_result",
          "data": {
            "text/html": [
              "<div>\n",
              "<style scoped>\n",
              "    .dataframe tbody tr th:only-of-type {\n",
              "        vertical-align: middle;\n",
              "    }\n",
              "\n",
              "    .dataframe tbody tr th {\n",
              "        vertical-align: top;\n",
              "    }\n",
              "\n",
              "    .dataframe thead th {\n",
              "        text-align: right;\n",
              "    }\n",
              "</style>\n",
              "<table border=\"1\" class=\"dataframe\">\n",
              "  <thead>\n",
              "    <tr style=\"text-align: right;\">\n",
              "      <th></th>\n",
              "      <th>Name</th>\n",
              "      <th>Sport</th>\n",
              "      <th>Medal</th>\n",
              "      <th>Counts</th>\n",
              "    </tr>\n",
              "  </thead>\n",
              "  <tbody>\n",
              "    <tr>\n",
              "      <th>0</th>\n",
              "      <td>Michael Fred Phelps, II</td>\n",
              "      <td>Swimming</td>\n",
              "      <td>Gold</td>\n",
              "      <td>23</td>\n",
              "    </tr>\n",
              "    <tr>\n",
              "      <th>1</th>\n",
              "      <td>Raymond Clarence \"Ray\" Ewry</td>\n",
              "      <td>Athletics</td>\n",
              "      <td>Gold</td>\n",
              "      <td>10</td>\n",
              "    </tr>\n",
              "    <tr>\n",
              "      <th>2</th>\n",
              "      <td>Larysa Semenivna Latynina (Diriy-)</td>\n",
              "      <td>Gymnastics</td>\n",
              "      <td>Gold</td>\n",
              "      <td>9</td>\n",
              "    </tr>\n",
              "    <tr>\n",
              "      <th>3</th>\n",
              "      <td>Mark Andrew Spitz</td>\n",
              "      <td>Swimming</td>\n",
              "      <td>Gold</td>\n",
              "      <td>9</td>\n",
              "    </tr>\n",
              "    <tr>\n",
              "      <th>4</th>\n",
              "      <td>Frederick Carlton \"Carl\" Lewis</td>\n",
              "      <td>Athletics</td>\n",
              "      <td>Gold</td>\n",
              "      <td>9</td>\n",
              "    </tr>\n",
              "    <tr>\n",
              "      <th>5</th>\n",
              "      <td>Paavo Johannes Nurmi</td>\n",
              "      <td>Athletics</td>\n",
              "      <td>Gold</td>\n",
              "      <td>9</td>\n",
              "    </tr>\n",
              "    <tr>\n",
              "      <th>6</th>\n",
              "      <td>Matthew Nicholas \"Matt\" Biondi</td>\n",
              "      <td>Swimming</td>\n",
              "      <td>Gold</td>\n",
              "      <td>8</td>\n",
              "    </tr>\n",
              "    <tr>\n",
              "      <th>7</th>\n",
              "      <td>Sawao Kato</td>\n",
              "      <td>Gymnastics</td>\n",
              "      <td>Gold</td>\n",
              "      <td>8</td>\n",
              "    </tr>\n",
              "    <tr>\n",
              "      <th>8</th>\n",
              "      <td>Jennifer Elisabeth \"Jenny\" Thompson (-Cumpelik)</td>\n",
              "      <td>Swimming</td>\n",
              "      <td>Gold</td>\n",
              "      <td>8</td>\n",
              "    </tr>\n",
              "    <tr>\n",
              "      <th>9</th>\n",
              "      <td>Usain St. Leo Bolt</td>\n",
              "      <td>Athletics</td>\n",
              "      <td>Gold</td>\n",
              "      <td>8</td>\n",
              "    </tr>\n",
              "  </tbody>\n",
              "</table>\n",
              "</div>"
            ],
            "text/plain": [
              "                                              Name       Sport Medal  Counts\n",
              "0                          Michael Fred Phelps, II    Swimming  Gold      23\n",
              "1                      Raymond Clarence \"Ray\" Ewry   Athletics  Gold      10\n",
              "2               Larysa Semenivna Latynina (Diriy-)  Gymnastics  Gold       9\n",
              "3                                Mark Andrew Spitz    Swimming  Gold       9\n",
              "4                   Frederick Carlton \"Carl\" Lewis   Athletics  Gold       9\n",
              "5                             Paavo Johannes Nurmi   Athletics  Gold       9\n",
              "6                   Matthew Nicholas \"Matt\" Biondi    Swimming  Gold       8\n",
              "7                                       Sawao Kato  Gymnastics  Gold       8\n",
              "8  Jennifer Elisabeth \"Jenny\" Thompson (-Cumpelik)    Swimming  Gold       8\n",
              "9                               Usain St. Leo Bolt   Athletics  Gold       8"
            ]
          },
          "metadata": {
            "tags": []
          },
          "execution_count": 434
        }
      ]
    },
    {
      "cell_type": "markdown",
      "metadata": {
        "id": "BvaPvPbyCUM3"
      },
      "source": [
        "# 8. Quem ganhou mais medalhas em um única olimpíada"
      ]
    },
    {
      "cell_type": "code",
      "metadata": {
        "colab": {
          "base_uri": "https://localhost:8080/"
        },
        "id": "E4BFsX7MCX7H",
        "outputId": "ebd6b623-7dc7-444c-a849-e0cb76218d50"
      },
      "source": [
        "df_medalhistas[['Name','Year']].value_counts()[0:10] # Aleksandr e Phelps confirmados como os maiores vencedores"
      ],
      "execution_count": 435,
      "outputs": [
        {
          "output_type": "execute_result",
          "data": {
            "text/plain": [
              "Name                             Year\n",
              "Aleksandr Nikolayevich Dityatin  1980    8\n",
              "Michael Fred Phelps, II          2008    8\n",
              "                                 2004    8\n",
              "Borys Anfiyanovych Shakhlin      1960    7\n",
              "Lloyd Spencer Spooner            1920    7\n",
              "Mariya Kindrativna Horokhovska   1952    7\n",
              "Willis Augustus Lee, Jr.         1920    7\n",
              "Mikhail Yakovlevich Voronin      1968    7\n",
              "Mark Andrew Spitz                1972    7\n",
              "Nikolay Yefimovich Andrianov     1976    7\n",
              "dtype: int64"
            ]
          },
          "metadata": {
            "tags": []
          },
          "execution_count": 435
        }
      ]
    },
    {
      "cell_type": "markdown",
      "metadata": {
        "id": "1MutJMEHEq9r"
      },
      "source": [
        "# 9. País com mais medalhas historicamente?"
      ]
    },
    {
      "cell_type": "code",
      "metadata": {
        "colab": {
          "base_uri": "https://localhost:8080/"
        },
        "id": "b_S3r84UEuTq",
        "outputId": "b1141741-a3ab-4436-df80-38008345bd03"
      },
      "source": [
        "df_medalhistas['Team'].value_counts()[0:10] "
      ],
      "execution_count": 436,
      "outputs": [
        {
          "output_type": "execute_result",
          "data": {
            "text/plain": [
              "United States    4686\n",
              "Soviet Union     2061\n",
              "Germany          1687\n",
              "Great Britain    1598\n",
              "France           1408\n",
              "Italy            1384\n",
              "Australia        1290\n",
              "Hungary          1123\n",
              "Sweden           1006\n",
              "Russia            894\n",
              "Name: Team, dtype: int64"
            ]
          },
          "metadata": {
            "tags": []
          },
          "execution_count": 436
        }
      ]
    },
    {
      "cell_type": "markdown",
      "metadata": {
        "id": "mmRzUoNgFXlS"
      },
      "source": [
        "# 10. Países com mais medalhas desde 1980?"
      ]
    },
    {
      "cell_type": "code",
      "metadata": {
        "colab": {
          "base_uri": "https://localhost:8080/"
        },
        "id": "gijWHbM-FW9i",
        "outputId": "d8b5e6c7-d576-4247-fc75-ef996abe189d"
      },
      "source": [
        "filtro_apartir1980 = df_medalhistas['Year'] >= 1980\n",
        "df_medalhistas_apartir1980 = df_medalhistas[filtro_apartir1980]\n",
        "df_medalhistas_apartir1980['Team'].value_counts()[0:10] "
      ],
      "execution_count": 437,
      "outputs": [
        {
          "output_type": "execute_result",
          "data": {
            "text/plain": [
              "United States    2338\n",
              "Australia         970\n",
              "Germany           928\n",
              "Russia            884\n",
              "China             831\n",
              "Soviet Union      742\n",
              "Great Britain     703\n",
              "France            597\n",
              "Italy             594\n",
              "Netherlands       526\n",
              "Name: Team, dtype: int64"
            ]
          },
          "metadata": {
            "tags": []
          },
          "execution_count": 437
        }
      ]
    },
    {
      "cell_type": "markdown",
      "metadata": {
        "id": "chm0rG28lpQj"
      },
      "source": [
        "# 11. Corrida histórica de medalhas de 1896 a 2016"
      ]
    },
    {
      "cell_type": "code",
      "metadata": {
        "id": "VQIz-S2xwY6W"
      },
      "source": [
        "def serie_temporal_medalhas_por_pais(df, nome_pais):\n",
        "\n",
        "  filtro_pais = df['Team'] == nome_pais\n",
        "  df_medalhistas_pais = df[filtro_pais].sort_values(by='Year')[['Year', 'Podium']]\n",
        "  df_medalhistas_pais['Podium'] = 1\n",
        "  df_medalhas_pais= df_medalhistas_pais.groupby(['Year']).sum().reset_index()\n",
        "  return df_medalhas_pais"
      ],
      "execution_count": 438,
      "outputs": []
    },
    {
      "cell_type": "code",
      "metadata": {
        "id": "WkuB0y5lq05I"
      },
      "source": [
        "df_medalhas_eua = serie_temporal_medalhas_por_pais(df_medalhistas, 'United States')\n",
        "df_medalhas_china = serie_temporal_medalhas_por_pais(df_medalhistas, 'China')\n",
        "df_medalhas_uniaosovietica = serie_temporal_medalhas_por_pais(df_medalhistas, 'Soviet Union')\n",
        "df_medalhas_russia = serie_temporal_medalhas_por_pais(df_medalhistas, 'Russia')\n",
        "df_medalhas_grabretanha = serie_temporal_medalhas_por_pais(df_medalhistas, 'Great Britain')\n",
        "df_medalhas_italia = serie_temporal_medalhas_por_pais(df_medalhistas, 'Italy')\n",
        "df_medalhas_brasil = serie_temporal_medalhas_por_pais(df_medalhistas, 'Brazil')"
      ],
      "execution_count": 439,
      "outputs": []
    },
    {
      "cell_type": "code",
      "metadata": {
        "id": "hNnDDuRlydM8"
      },
      "source": [
        "plt.rcParams.update({'font.size': 16})"
      ],
      "execution_count": 440,
      "outputs": []
    },
    {
      "cell_type": "code",
      "metadata": {
        "colab": {
          "base_uri": "https://localhost:8080/",
          "height": 398
        },
        "id": "F8Afw9iYwUHn",
        "outputId": "cc43f498-ac79-4634-f44d-bb50d62444c8"
      },
      "source": [
        "plt.figure(figsize=(10,6))\n",
        "plt.plot(df_medalhas_eua['Year'],df_medalhas_eua['Podium'],label='EUA')\n",
        "plt.plot(df_medalhas_china['Year'],df_medalhas_china['Podium'], label='China')\n",
        "plt.plot(df_medalhas_uniaosovietica['Year'],df_medalhas_uniaosovietica['Podium'],label='União Soviética')\n",
        "plt.plot(df_medalhas_russia['Year'],df_medalhas_russia['Podium'], label='Rússia')\n",
        "plt.plot(df_medalhas_grabretanha['Year'],df_medalhas_grabretanha['Podium'], label='Grã-Bretanha')\n",
        "plt.plot(df_medalhas_italia['Year'],df_medalhas_italia['Podium'], label='Itália')\n",
        "plt.xlabel('Anos')\n",
        "plt.ylabel('Número de Medalhas')\n",
        "plt.legend()\n",
        "plt.show()"
      ],
      "execution_count": 441,
      "outputs": [
        {
          "output_type": "display_data",
          "data": {
            "image/png": "[encoded data removed]",
            "text/plain": [
              "<Figure size 720x432 with 1 Axes>"
            ]
          },
          "metadata": {
            "tags": [],
            "needs_background": "light"
          }
        }
      ]
    },
    {
      "cell_type": "markdown",
      "metadata": {
        "id": "r_WGBdl7y3MZ"
      },
      "source": [
        "# Animação da Corrida Histórica de Medalhas de 1896-2016"
      ]
    },
    {
      "cell_type": "markdown",
      "metadata": {
        "id": "TzzvJHiSzgJ9"
      },
      "source": [
        "**Passo 1: Reorganizar dados dos países escolhidos para animação em um único dataset**"
      ]
    },
    {
      "cell_type": "code",
      "metadata": {
        "colab": {
          "base_uri": "https://localhost:8080/"
        },
        "id": "dPyiiQ3Z2Pat",
        "outputId": "39b5bf7d-7757-4c83-96f1-9da32276389d"
      },
      "source": [
        "np.array(df_medalhas_eua['Year']) # total de anos que os eua participou de olimpiada"
      ],
      "execution_count": 442,
      "outputs": [
        {
          "output_type": "execute_result",
          "data": {
            "text/plain": [
              "array([1896, 1900, 1904, 1906, 1908, 1912, 1920, 1924, 1928, 1932, 1936,\n",
              "       1948, 1952, 1956, 1960, 1964, 1968, 1972, 1976, 1984, 1988, 1992,\n",
              "       1996, 2000, 2004, 2008, 2012, 2016])"
            ]
          },
          "metadata": {
            "tags": []
          },
          "execution_count": 442
        }
      ]
    },
    {
      "cell_type": "code",
      "metadata": {
        "colab": {
          "base_uri": "https://localhost:8080/"
        },
        "id": "4Kpp9I8o2Rqo",
        "outputId": "b06d393e-5960-45bf-ab2c-200d9b09896f"
      },
      "source": [
        "np.array(df_medalhas_grabretanha['Year']) # total de anos que a gra bretanha participou de olimpiada"
      ],
      "execution_count": 443,
      "outputs": [
        {
          "output_type": "execute_result",
          "data": {
            "text/plain": [
              "array([1896, 1900, 1904, 1906, 1908, 1912, 1920, 1924, 1928, 1932, 1936,\n",
              "       1948, 1952, 1956, 1960, 1964, 1968, 1972, 1976, 1980, 1984, 1988,\n",
              "       1992, 1996, 2000, 2004, 2008, 2012, 2016])"
            ]
          },
          "metadata": {
            "tags": []
          },
          "execution_count": 443
        }
      ]
    },
    {
      "cell_type": "code",
      "metadata": {
        "colab": {
          "base_uri": "https://localhost:8080/"
        },
        "id": "w00qZ4ug21cq",
        "outputId": "22ca019f-4be3-4ca3-f068-ef91672f5d01"
      },
      "source": [
        "len(df_athlete_events['Year'].unique()) # total de anos das olimpiadas "
      ],
      "execution_count": 444,
      "outputs": [
        {
          "output_type": "execute_result",
          "data": {
            "text/plain": [
              "29"
            ]
          },
          "metadata": {
            "tags": []
          },
          "execution_count": 444
        }
      ]
    },
    {
      "cell_type": "code",
      "metadata": {
        "id": "Mjm9fHXbWx4k"
      },
      "source": [
        "def conta_medalhas_pais_todos_anos(df, df_pais, nome_pais):\n",
        "\n",
        "  lista_anos = list(df['Year'].unique())\n",
        "  lista_anos = sorted(lista_anos)\n",
        "  df_novo = df_pais.copy()\n",
        "\n",
        "  for i in range(len(lista_anos)):\n",
        "    if not lista_anos[i] in list(df_pais['Year']):    \n",
        "      df_novo.loc[len(lista_anos)+i] = np.array([lista_anos[i],0])\n",
        "\n",
        "  df_novo.sort_values(by=['Year'], inplace= True)\n",
        "  df_novo = df_novo.reset_index(drop=True)\n",
        "  df_novo = df_novo.rename(columns={\"Podium\": nome_pais})\n",
        "\n",
        "  return df_novo"
      ],
      "execution_count": 445,
      "outputs": []
    },
    {
      "cell_type": "code",
      "metadata": {
        "id": "L9sXGJPmXQjh"
      },
      "source": [
        "italy = conta_medalhas_pais_todos_anos(df_athlete_events, df_medalhas_italia,'Italy')\n",
        "grabretanha = conta_medalhas_pais_todos_anos(df_athlete_events, df_medalhas_grabretanha,'G Britain')\n",
        "russia = conta_medalhas_pais_todos_anos(df_athlete_events, df_medalhas_russia,'Russia')\n",
        "eua = conta_medalhas_pais_todos_anos(df_athlete_events, df_medalhas_eua,'U States')\n",
        "china = conta_medalhas_pais_todos_anos(df_athlete_events, df_medalhas_china,'China')\n",
        "brasil = conta_medalhas_pais_todos_anos(df_athlete_events, df_medalhas_brasil,'Brazil')\n",
        "uniaosovietica = conta_medalhas_pais_todos_anos(df_athlete_events, df_medalhas_uniaosovietica,'S Union')"
      ],
      "execution_count": 446,
      "outputs": []
    },
    {
      "cell_type": "code",
      "metadata": {
        "colab": {
          "base_uri": "https://localhost:8080/",
          "height": 979
        },
        "id": "IdhdpcL4ZbQ8",
        "outputId": "99bfca8f-a6e9-415a-a3c9-6011ae659feb"
      },
      "source": [
        "lst_paises_concat = [eua, \n",
        "                     russia['Russia'], \n",
        "                     italy['Italy'], \n",
        "                     grabretanha['G Britain'], \n",
        "                     china['China'],\n",
        "                     brasil['Brazil'],\n",
        "                     uniaosovietica['S Union']]\n",
        "\n",
        "result = pd.concat(lst_paises_concat, axis =1)\n",
        "result.set_index('Year', inplace=True)\n",
        "result.index = pd.to_datetime(result.index, format='%Y')\n",
        "result\n"
      ],
      "execution_count": 447,
      "outputs": [
        {
          "output_type": "execute_result",
          "data": {
            "text/html": [
              "<div>\n",
              "<style scoped>\n",
              "    .dataframe tbody tr th:only-of-type {\n",
              "        vertical-align: middle;\n",
              "    }\n",
              "\n",
              "    .dataframe tbody tr th {\n",
              "        vertical-align: top;\n",
              "    }\n",
              "\n",
              "    .dataframe thead th {\n",
              "        text-align: right;\n",
              "    }\n",
              "</style>\n",
              "<table border=\"1\" class=\"dataframe\">\n",
              "  <thead>\n",
              "    <tr style=\"text-align: right;\">\n",
              "      <th></th>\n",
              "      <th>U States</th>\n",
              "      <th>Russia</th>\n",
              "      <th>Italy</th>\n",
              "      <th>G Britain</th>\n",
              "      <th>China</th>\n",
              "      <th>Brazil</th>\n",
              "      <th>S Union</th>\n",
              "    </tr>\n",
              "    <tr>\n",
              "      <th>Year</th>\n",
              "      <th></th>\n",
              "      <th></th>\n",
              "      <th></th>\n",
              "      <th></th>\n",
              "      <th></th>\n",
              "      <th></th>\n",
              "      <th></th>\n",
              "    </tr>\n",
              "  </thead>\n",
              "  <tbody>\n",
              "    <tr>\n",
              "      <th>1896-01-01</th>\n",
              "      <td>20</td>\n",
              "      <td>0</td>\n",
              "      <td>0</td>\n",
              "      <td>7</td>\n",
              "      <td>0</td>\n",
              "      <td>0</td>\n",
              "      <td>0</td>\n",
              "    </tr>\n",
              "    <tr>\n",
              "      <th>1900-01-01</th>\n",
              "      <td>45</td>\n",
              "      <td>0</td>\n",
              "      <td>5</td>\n",
              "      <td>22</td>\n",
              "      <td>0</td>\n",
              "      <td>0</td>\n",
              "      <td>0</td>\n",
              "    </tr>\n",
              "    <tr>\n",
              "      <th>1904-01-01</th>\n",
              "      <td>199</td>\n",
              "      <td>0</td>\n",
              "      <td>0</td>\n",
              "      <td>2</td>\n",
              "      <td>0</td>\n",
              "      <td>0</td>\n",
              "      <td>0</td>\n",
              "    </tr>\n",
              "    <tr>\n",
              "      <th>1906-01-01</th>\n",
              "      <td>24</td>\n",
              "      <td>0</td>\n",
              "      <td>9</td>\n",
              "      <td>31</td>\n",
              "      <td>0</td>\n",
              "      <td>0</td>\n",
              "      <td>0</td>\n",
              "    </tr>\n",
              "    <tr>\n",
              "      <th>1908-01-01</th>\n",
              "      <td>65</td>\n",
              "      <td>3</td>\n",
              "      <td>8</td>\n",
              "      <td>167</td>\n",
              "      <td>0</td>\n",
              "      <td>0</td>\n",
              "      <td>0</td>\n",
              "    </tr>\n",
              "    <tr>\n",
              "      <th>1912-01-01</th>\n",
              "      <td>107</td>\n",
              "      <td>7</td>\n",
              "      <td>25</td>\n",
              "      <td>128</td>\n",
              "      <td>0</td>\n",
              "      <td>0</td>\n",
              "      <td>0</td>\n",
              "    </tr>\n",
              "    <tr>\n",
              "      <th>1920-01-01</th>\n",
              "      <td>194</td>\n",
              "      <td>0</td>\n",
              "      <td>84</td>\n",
              "      <td>101</td>\n",
              "      <td>0</td>\n",
              "      <td>7</td>\n",
              "      <td>0</td>\n",
              "    </tr>\n",
              "    <tr>\n",
              "      <th>1924-01-01</th>\n",
              "      <td>174</td>\n",
              "      <td>0</td>\n",
              "      <td>51</td>\n",
              "      <td>55</td>\n",
              "      <td>0</td>\n",
              "      <td>0</td>\n",
              "      <td>0</td>\n",
              "    </tr>\n",
              "    <tr>\n",
              "      <th>1928-01-01</th>\n",
              "      <td>88</td>\n",
              "      <td>0</td>\n",
              "      <td>72</td>\n",
              "      <td>58</td>\n",
              "      <td>0</td>\n",
              "      <td>0</td>\n",
              "      <td>0</td>\n",
              "    </tr>\n",
              "    <tr>\n",
              "      <th>1932-01-01</th>\n",
              "      <td>170</td>\n",
              "      <td>0</td>\n",
              "      <td>77</td>\n",
              "      <td>33</td>\n",
              "      <td>0</td>\n",
              "      <td>0</td>\n",
              "      <td>0</td>\n",
              "    </tr>\n",
              "    <tr>\n",
              "      <th>1936-01-01</th>\n",
              "      <td>96</td>\n",
              "      <td>0</td>\n",
              "      <td>70</td>\n",
              "      <td>30</td>\n",
              "      <td>0</td>\n",
              "      <td>0</td>\n",
              "      <td>0</td>\n",
              "    </tr>\n",
              "    <tr>\n",
              "      <th>1948-01-01</th>\n",
              "      <td>143</td>\n",
              "      <td>0</td>\n",
              "      <td>67</td>\n",
              "      <td>59</td>\n",
              "      <td>0</td>\n",
              "      <td>10</td>\n",
              "      <td>0</td>\n",
              "    </tr>\n",
              "    <tr>\n",
              "      <th>1952-01-01</th>\n",
              "      <td>122</td>\n",
              "      <td>0</td>\n",
              "      <td>52</td>\n",
              "      <td>31</td>\n",
              "      <td>0</td>\n",
              "      <td>3</td>\n",
              "      <td>117</td>\n",
              "    </tr>\n",
              "    <tr>\n",
              "      <th>1956-01-01</th>\n",
              "      <td>121</td>\n",
              "      <td>0</td>\n",
              "      <td>45</td>\n",
              "      <td>37</td>\n",
              "      <td>0</td>\n",
              "      <td>1</td>\n",
              "      <td>169</td>\n",
              "    </tr>\n",
              "    <tr>\n",
              "      <th>1960-01-01</th>\n",
              "      <td>120</td>\n",
              "      <td>0</td>\n",
              "      <td>85</td>\n",
              "      <td>28</td>\n",
              "      <td>0</td>\n",
              "      <td>13</td>\n",
              "      <td>167</td>\n",
              "    </tr>\n",
              "    <tr>\n",
              "      <th>1964-01-01</th>\n",
              "      <td>159</td>\n",
              "      <td>0</td>\n",
              "      <td>51</td>\n",
              "      <td>26</td>\n",
              "      <td>0</td>\n",
              "      <td>12</td>\n",
              "      <td>174</td>\n",
              "    </tr>\n",
              "    <tr>\n",
              "      <th>1968-01-01</th>\n",
              "      <td>166</td>\n",
              "      <td>0</td>\n",
              "      <td>33</td>\n",
              "      <td>19</td>\n",
              "      <td>0</td>\n",
              "      <td>4</td>\n",
              "      <td>192</td>\n",
              "    </tr>\n",
              "    <tr>\n",
              "      <th>1972-01-01</th>\n",
              "      <td>171</td>\n",
              "      <td>0</td>\n",
              "      <td>25</td>\n",
              "      <td>29</td>\n",
              "      <td>0</td>\n",
              "      <td>2</td>\n",
              "      <td>214</td>\n",
              "    </tr>\n",
              "    <tr>\n",
              "      <th>1976-01-01</th>\n",
              "      <td>164</td>\n",
              "      <td>0</td>\n",
              "      <td>31</td>\n",
              "      <td>32</td>\n",
              "      <td>0</td>\n",
              "      <td>3</td>\n",
              "      <td>286</td>\n",
              "    </tr>\n",
              "    <tr>\n",
              "      <th>1980-01-01</th>\n",
              "      <td>0</td>\n",
              "      <td>0</td>\n",
              "      <td>37</td>\n",
              "      <td>47</td>\n",
              "      <td>0</td>\n",
              "      <td>9</td>\n",
              "      <td>442</td>\n",
              "    </tr>\n",
              "    <tr>\n",
              "      <th>1984-01-01</th>\n",
              "      <td>352</td>\n",
              "      <td>0</td>\n",
              "      <td>63</td>\n",
              "      <td>71</td>\n",
              "      <td>74</td>\n",
              "      <td>36</td>\n",
              "      <td>0</td>\n",
              "    </tr>\n",
              "    <tr>\n",
              "      <th>1988-01-01</th>\n",
              "      <td>207</td>\n",
              "      <td>0</td>\n",
              "      <td>29</td>\n",
              "      <td>54</td>\n",
              "      <td>50</td>\n",
              "      <td>23</td>\n",
              "      <td>300</td>\n",
              "    </tr>\n",
              "    <tr>\n",
              "      <th>1992-01-01</th>\n",
              "      <td>222</td>\n",
              "      <td>0</td>\n",
              "      <td>45</td>\n",
              "      <td>50</td>\n",
              "      <td>70</td>\n",
              "      <td>14</td>\n",
              "      <td>0</td>\n",
              "    </tr>\n",
              "    <tr>\n",
              "      <th>1996-01-01</th>\n",
              "      <td>255</td>\n",
              "      <td>115</td>\n",
              "      <td>71</td>\n",
              "      <td>26</td>\n",
              "      <td>94</td>\n",
              "      <td>59</td>\n",
              "      <td>0</td>\n",
              "    </tr>\n",
              "    <tr>\n",
              "      <th>2000-01-01</th>\n",
              "      <td>240</td>\n",
              "      <td>187</td>\n",
              "      <td>65</td>\n",
              "      <td>52</td>\n",
              "      <td>65</td>\n",
              "      <td>42</td>\n",
              "      <td>0</td>\n",
              "    </tr>\n",
              "    <tr>\n",
              "      <th>2004-01-01</th>\n",
              "      <td>259</td>\n",
              "      <td>189</td>\n",
              "      <td>104</td>\n",
              "      <td>55</td>\n",
              "      <td>82</td>\n",
              "      <td>36</td>\n",
              "      <td>0</td>\n",
              "    </tr>\n",
              "    <tr>\n",
              "      <th>2008-01-01</th>\n",
              "      <td>309</td>\n",
              "      <td>142</td>\n",
              "      <td>42</td>\n",
              "      <td>81</td>\n",
              "      <td>170</td>\n",
              "      <td>74</td>\n",
              "      <td>0</td>\n",
              "    </tr>\n",
              "    <tr>\n",
              "      <th>2012-01-01</th>\n",
              "      <td>238</td>\n",
              "      <td>138</td>\n",
              "      <td>68</td>\n",
              "      <td>122</td>\n",
              "      <td>117</td>\n",
              "      <td>55</td>\n",
              "      <td>0</td>\n",
              "    </tr>\n",
              "    <tr>\n",
              "      <th>2016-01-01</th>\n",
              "      <td>256</td>\n",
              "      <td>113</td>\n",
              "      <td>70</td>\n",
              "      <td>145</td>\n",
              "      <td>109</td>\n",
              "      <td>46</td>\n",
              "      <td>0</td>\n",
              "    </tr>\n",
              "  </tbody>\n",
              "</table>\n",
              "</div>"
            ],
            "text/plain": [
              "            U States  Russia  Italy  G Britain  China  Brazil  S Union\n",
              "Year                                                                  \n",
              "1896-01-01        20       0      0          7      0       0        0\n",
              "1900-01-01        45       0      5         22      0       0        0\n",
              "1904-01-01       199       0      0          2      0       0        0\n",
              "1906-01-01        24       0      9         31      0       0        0\n",
              "1908-01-01        65       3      8        167      0       0        0\n",
              "1912-01-01       107       7     25        128      0       0        0\n",
              "1920-01-01       194       0     84        101      0       7        0\n",
              "1924-01-01       174       0     51         55      0       0        0\n",
              "1928-01-01        88       0     72         58      0       0        0\n",
              "1932-01-01       170       0     77         33      0       0        0\n",
              "1936-01-01        96       0     70         30      0       0        0\n",
              "1948-01-01       143       0     67         59      0      10        0\n",
              "1952-01-01       122       0     52         31      0       3      117\n",
              "1956-01-01       121       0     45         37      0       1      169\n",
              "1960-01-01       120       0     85         28      0      13      167\n",
              "1964-01-01       159       0     51         26      0      12      174\n",
              "1968-01-01       166       0     33         19      0       4      192\n",
              "1972-01-01       171       0     25         29      0       2      214\n",
              "1976-01-01       164       0     31         32      0       3      286\n",
              "1980-01-01         0       0     37         47      0       9      442\n",
              "1984-01-01       352       0     63         71     74      36        0\n",
              "1988-01-01       207       0     29         54     50      23      300\n",
              "1992-01-01       222       0     45         50     70      14        0\n",
              "1996-01-01       255     115     71         26     94      59        0\n",
              "2000-01-01       240     187     65         52     65      42        0\n",
              "2004-01-01       259     189    104         55     82      36        0\n",
              "2008-01-01       309     142     42         81    170      74        0\n",
              "2012-01-01       238     138     68        122    117      55        0\n",
              "2016-01-01       256     113     70        145    109      46        0"
            ]
          },
          "metadata": {
            "tags": []
          },
          "execution_count": 447
        }
      ]
    },
    {
      "cell_type": "markdown",
      "metadata": {
        "id": "c4-Rr0teyGDI"
      },
      "source": [
        "**Soma cumulativa das medalhas dos paises**"
      ]
    },
    {
      "cell_type": "code",
      "metadata": {
        "colab": {
          "base_uri": "https://localhost:8080/",
          "height": 979
        },
        "id": "4KOOmXruxOUK",
        "outputId": "53defaa1-aed7-480e-dd08-1421fb6e15dd"
      },
      "source": [
        "result2 = result.copy()\n",
        "for col in list(result2.columns):\n",
        "  result2[col] = result2[col].cumsum()\n",
        "\n",
        "result2"
      ],
      "execution_count": 448,
      "outputs": [
        {
          "output_type": "execute_result",
          "data": {
            "text/html": [
              "<div>\n",
              "<style scoped>\n",
              "    .dataframe tbody tr th:only-of-type {\n",
              "        vertical-align: middle;\n",
              "    }\n",
              "\n",
              "    .dataframe tbody tr th {\n",
              "        vertical-align: top;\n",
              "    }\n",
              "\n",
              "    .dataframe thead th {\n",
              "        text-align: right;\n",
              "    }\n",
              "</style>\n",
              "<table border=\"1\" class=\"dataframe\">\n",
              "  <thead>\n",
              "    <tr style=\"text-align: right;\">\n",
              "      <th></th>\n",
              "      <th>U States</th>\n",
              "      <th>Russia</th>\n",
              "      <th>Italy</th>\n",
              "      <th>G Britain</th>\n",
              "      <th>China</th>\n",
              "      <th>Brazil</th>\n",
              "      <th>S Union</th>\n",
              "    </tr>\n",
              "    <tr>\n",
              "      <th>Year</th>\n",
              "      <th></th>\n",
              "      <th></th>\n",
              "      <th></th>\n",
              "      <th></th>\n",
              "      <th></th>\n",
              "      <th></th>\n",
              "      <th></th>\n",
              "    </tr>\n",
              "  </thead>\n",
              "  <tbody>\n",
              "    <tr>\n",
              "      <th>1896-01-01</th>\n",
              "      <td>20</td>\n",
              "      <td>0</td>\n",
              "      <td>0</td>\n",
              "      <td>7</td>\n",
              "      <td>0</td>\n",
              "      <td>0</td>\n",
              "      <td>0</td>\n",
              "    </tr>\n",
              "    <tr>\n",
              "      <th>1900-01-01</th>\n",
              "      <td>65</td>\n",
              "      <td>0</td>\n",
              "      <td>5</td>\n",
              "      <td>29</td>\n",
              "      <td>0</td>\n",
              "      <td>0</td>\n",
              "      <td>0</td>\n",
              "    </tr>\n",
              "    <tr>\n",
              "      <th>1904-01-01</th>\n",
              "      <td>264</td>\n",
              "      <td>0</td>\n",
              "      <td>5</td>\n",
              "      <td>31</td>\n",
              "      <td>0</td>\n",
              "      <td>0</td>\n",
              "      <td>0</td>\n",
              "    </tr>\n",
              "    <tr>\n",
              "      <th>1906-01-01</th>\n",
              "      <td>288</td>\n",
              "      <td>0</td>\n",
              "      <td>14</td>\n",
              "      <td>62</td>\n",
              "      <td>0</td>\n",
              "      <td>0</td>\n",
              "      <td>0</td>\n",
              "    </tr>\n",
              "    <tr>\n",
              "      <th>1908-01-01</th>\n",
              "      <td>353</td>\n",
              "      <td>3</td>\n",
              "      <td>22</td>\n",
              "      <td>229</td>\n",
              "      <td>0</td>\n",
              "      <td>0</td>\n",
              "      <td>0</td>\n",
              "    </tr>\n",
              "    <tr>\n",
              "      <th>1912-01-01</th>\n",
              "      <td>460</td>\n",
              "      <td>10</td>\n",
              "      <td>47</td>\n",
              "      <td>357</td>\n",
              "      <td>0</td>\n",
              "      <td>0</td>\n",
              "      <td>0</td>\n",
              "    </tr>\n",
              "    <tr>\n",
              "      <th>1920-01-01</th>\n",
              "      <td>654</td>\n",
              "      <td>10</td>\n",
              "      <td>131</td>\n",
              "      <td>458</td>\n",
              "      <td>0</td>\n",
              "      <td>7</td>\n",
              "      <td>0</td>\n",
              "    </tr>\n",
              "    <tr>\n",
              "      <th>1924-01-01</th>\n",
              "      <td>828</td>\n",
              "      <td>10</td>\n",
              "      <td>182</td>\n",
              "      <td>513</td>\n",
              "      <td>0</td>\n",
              "      <td>7</td>\n",
              "      <td>0</td>\n",
              "    </tr>\n",
              "    <tr>\n",
              "      <th>1928-01-01</th>\n",
              "      <td>916</td>\n",
              "      <td>10</td>\n",
              "      <td>254</td>\n",
              "      <td>571</td>\n",
              "      <td>0</td>\n",
              "      <td>7</td>\n",
              "      <td>0</td>\n",
              "    </tr>\n",
              "    <tr>\n",
              "      <th>1932-01-01</th>\n",
              "      <td>1086</td>\n",
              "      <td>10</td>\n",
              "      <td>331</td>\n",
              "      <td>604</td>\n",
              "      <td>0</td>\n",
              "      <td>7</td>\n",
              "      <td>0</td>\n",
              "    </tr>\n",
              "    <tr>\n",
              "      <th>1936-01-01</th>\n",
              "      <td>1182</td>\n",
              "      <td>10</td>\n",
              "      <td>401</td>\n",
              "      <td>634</td>\n",
              "      <td>0</td>\n",
              "      <td>7</td>\n",
              "      <td>0</td>\n",
              "    </tr>\n",
              "    <tr>\n",
              "      <th>1948-01-01</th>\n",
              "      <td>1325</td>\n",
              "      <td>10</td>\n",
              "      <td>468</td>\n",
              "      <td>693</td>\n",
              "      <td>0</td>\n",
              "      <td>17</td>\n",
              "      <td>0</td>\n",
              "    </tr>\n",
              "    <tr>\n",
              "      <th>1952-01-01</th>\n",
              "      <td>1447</td>\n",
              "      <td>10</td>\n",
              "      <td>520</td>\n",
              "      <td>724</td>\n",
              "      <td>0</td>\n",
              "      <td>20</td>\n",
              "      <td>117</td>\n",
              "    </tr>\n",
              "    <tr>\n",
              "      <th>1956-01-01</th>\n",
              "      <td>1568</td>\n",
              "      <td>10</td>\n",
              "      <td>565</td>\n",
              "      <td>761</td>\n",
              "      <td>0</td>\n",
              "      <td>21</td>\n",
              "      <td>286</td>\n",
              "    </tr>\n",
              "    <tr>\n",
              "      <th>1960-01-01</th>\n",
              "      <td>1688</td>\n",
              "      <td>10</td>\n",
              "      <td>650</td>\n",
              "      <td>789</td>\n",
              "      <td>0</td>\n",
              "      <td>34</td>\n",
              "      <td>453</td>\n",
              "    </tr>\n",
              "    <tr>\n",
              "      <th>1964-01-01</th>\n",
              "      <td>1847</td>\n",
              "      <td>10</td>\n",
              "      <td>701</td>\n",
              "      <td>815</td>\n",
              "      <td>0</td>\n",
              "      <td>46</td>\n",
              "      <td>627</td>\n",
              "    </tr>\n",
              "    <tr>\n",
              "      <th>1968-01-01</th>\n",
              "      <td>2013</td>\n",
              "      <td>10</td>\n",
              "      <td>734</td>\n",
              "      <td>834</td>\n",
              "      <td>0</td>\n",
              "      <td>50</td>\n",
              "      <td>819</td>\n",
              "    </tr>\n",
              "    <tr>\n",
              "      <th>1972-01-01</th>\n",
              "      <td>2184</td>\n",
              "      <td>10</td>\n",
              "      <td>759</td>\n",
              "      <td>863</td>\n",
              "      <td>0</td>\n",
              "      <td>52</td>\n",
              "      <td>1033</td>\n",
              "    </tr>\n",
              "    <tr>\n",
              "      <th>1976-01-01</th>\n",
              "      <td>2348</td>\n",
              "      <td>10</td>\n",
              "      <td>790</td>\n",
              "      <td>895</td>\n",
              "      <td>0</td>\n",
              "      <td>55</td>\n",
              "      <td>1319</td>\n",
              "    </tr>\n",
              "    <tr>\n",
              "      <th>1980-01-01</th>\n",
              "      <td>2348</td>\n",
              "      <td>10</td>\n",
              "      <td>827</td>\n",
              "      <td>942</td>\n",
              "      <td>0</td>\n",
              "      <td>64</td>\n",
              "      <td>1761</td>\n",
              "    </tr>\n",
              "    <tr>\n",
              "      <th>1984-01-01</th>\n",
              "      <td>2700</td>\n",
              "      <td>10</td>\n",
              "      <td>890</td>\n",
              "      <td>1013</td>\n",
              "      <td>74</td>\n",
              "      <td>100</td>\n",
              "      <td>1761</td>\n",
              "    </tr>\n",
              "    <tr>\n",
              "      <th>1988-01-01</th>\n",
              "      <td>2907</td>\n",
              "      <td>10</td>\n",
              "      <td>919</td>\n",
              "      <td>1067</td>\n",
              "      <td>124</td>\n",
              "      <td>123</td>\n",
              "      <td>2061</td>\n",
              "    </tr>\n",
              "    <tr>\n",
              "      <th>1992-01-01</th>\n",
              "      <td>3129</td>\n",
              "      <td>10</td>\n",
              "      <td>964</td>\n",
              "      <td>1117</td>\n",
              "      <td>194</td>\n",
              "      <td>137</td>\n",
              "      <td>2061</td>\n",
              "    </tr>\n",
              "    <tr>\n",
              "      <th>1996-01-01</th>\n",
              "      <td>3384</td>\n",
              "      <td>125</td>\n",
              "      <td>1035</td>\n",
              "      <td>1143</td>\n",
              "      <td>288</td>\n",
              "      <td>196</td>\n",
              "      <td>2061</td>\n",
              "    </tr>\n",
              "    <tr>\n",
              "      <th>2000-01-01</th>\n",
              "      <td>3624</td>\n",
              "      <td>312</td>\n",
              "      <td>1100</td>\n",
              "      <td>1195</td>\n",
              "      <td>353</td>\n",
              "      <td>238</td>\n",
              "      <td>2061</td>\n",
              "    </tr>\n",
              "    <tr>\n",
              "      <th>2004-01-01</th>\n",
              "      <td>3883</td>\n",
              "      <td>501</td>\n",
              "      <td>1204</td>\n",
              "      <td>1250</td>\n",
              "      <td>435</td>\n",
              "      <td>274</td>\n",
              "      <td>2061</td>\n",
              "    </tr>\n",
              "    <tr>\n",
              "      <th>2008-01-01</th>\n",
              "      <td>4192</td>\n",
              "      <td>643</td>\n",
              "      <td>1246</td>\n",
              "      <td>1331</td>\n",
              "      <td>605</td>\n",
              "      <td>348</td>\n",
              "      <td>2061</td>\n",
              "    </tr>\n",
              "    <tr>\n",
              "      <th>2012-01-01</th>\n",
              "      <td>4430</td>\n",
              "      <td>781</td>\n",
              "      <td>1314</td>\n",
              "      <td>1453</td>\n",
              "      <td>722</td>\n",
              "      <td>403</td>\n",
              "      <td>2061</td>\n",
              "    </tr>\n",
              "    <tr>\n",
              "      <th>2016-01-01</th>\n",
              "      <td>4686</td>\n",
              "      <td>894</td>\n",
              "      <td>1384</td>\n",
              "      <td>1598</td>\n",
              "      <td>831</td>\n",
              "      <td>449</td>\n",
              "      <td>2061</td>\n",
              "    </tr>\n",
              "  </tbody>\n",
              "</table>\n",
              "</div>"
            ],
            "text/plain": [
              "            U States  Russia  Italy  G Britain  China  Brazil  S Union\n",
              "Year                                                                  \n",
              "1896-01-01        20       0      0          7      0       0        0\n",
              "1900-01-01        65       0      5         29      0       0        0\n",
              "1904-01-01       264       0      5         31      0       0        0\n",
              "1906-01-01       288       0     14         62      0       0        0\n",
              "1908-01-01       353       3     22        229      0       0        0\n",
              "1912-01-01       460      10     47        357      0       0        0\n",
              "1920-01-01       654      10    131        458      0       7        0\n",
              "1924-01-01       828      10    182        513      0       7        0\n",
              "1928-01-01       916      10    254        571      0       7        0\n",
              "1932-01-01      1086      10    331        604      0       7        0\n",
              "1936-01-01      1182      10    401        634      0       7        0\n",
              "1948-01-01      1325      10    468        693      0      17        0\n",
              "1952-01-01      1447      10    520        724      0      20      117\n",
              "1956-01-01      1568      10    565        761      0      21      286\n",
              "1960-01-01      1688      10    650        789      0      34      453\n",
              "1964-01-01      1847      10    701        815      0      46      627\n",
              "1968-01-01      2013      10    734        834      0      50      819\n",
              "1972-01-01      2184      10    759        863      0      52     1033\n",
              "1976-01-01      2348      10    790        895      0      55     1319\n",
              "1980-01-01      2348      10    827        942      0      64     1761\n",
              "1984-01-01      2700      10    890       1013     74     100     1761\n",
              "1988-01-01      2907      10    919       1067    124     123     2061\n",
              "1992-01-01      3129      10    964       1117    194     137     2061\n",
              "1996-01-01      3384     125   1035       1143    288     196     2061\n",
              "2000-01-01      3624     312   1100       1195    353     238     2061\n",
              "2004-01-01      3883     501   1204       1250    435     274     2061\n",
              "2008-01-01      4192     643   1246       1331    605     348     2061\n",
              "2012-01-01      4430     781   1314       1453    722     403     2061\n",
              "2016-01-01      4686     894   1384       1598    831     449     2061"
            ]
          },
          "metadata": {
            "tags": []
          },
          "execution_count": 448
        }
      ]
    },
    {
      "cell_type": "markdown",
      "metadata": {
        "id": "B40Cwj_Cb3Iv"
      },
      "source": [
        "**Animação**"
      ]
    },
    {
      "cell_type": "code",
      "metadata": {
        "colab": {
          "base_uri": "https://localhost:8080/",
          "height": 834
        },
        "id": "Pr0_Iqaeb6sl",
        "outputId": "314302f9-423d-460e-fc6b-be73529661c9"
      },
      "source": [
        "from IPython.display import HTML\n",
        "\n",
        "fig = plt.figure(figsize=(12,6))\n",
        "\n",
        "def drawframe(i=int):\n",
        "    iv = min(i, len(result2.index)-1) #the loop iterates an extra one time, which causes the dataframes to go out of bounds. This was the easiest (most lazy) way to solve this :)\n",
        "    objects = result2.max().index\n",
        "    y_pos = np.arange(len(objects))\n",
        "    performance = result2.iloc[[iv]].values.tolist()[0]\n",
        "    plt.barh(y_pos, performance, align='center', color=['red', 'green', 'blue', 'orange','magenta','cyan','olive'])\n",
        "    plt.yticks(y_pos, objects)\n",
        "    plt.xlabel('Medals')\n",
        "    plt.ylabel('Countries')\n",
        "    #plt.tight_layout()\n",
        "\n",
        "anim = ani.FuncAnimation(fig, drawframe, interval=500)\n",
        "HTML(anim.to_html5_video())"
      ],
      "execution_count": 450,
      "outputs": [
        {
          "output_type": "execute_result",
          "data": {
            "text/html": [
              "<video width=\"864\" height=\"432\" controls autoplay loop>\n",
              "  <source type=\"video/mp4\" src=\"data:video/mp4;base64,AAAAHGZ0eXBNNFYgAAACAGlzb21pc28yYXZjMQAAAAhmcmVlAADV421kYXQAAAKtBgX//6ncRem9\n",
              "5tlIt5Ys2CDZI+7veDI2NCAtIGNvcmUgMTUyIHIyODU0IGU5YTU5MDMgLSBILjI2NC9NUEVHLTQg\n",
              "QVZDIGNvZGVjIC0gQ29weWxlZnQgMjAwMy0yMDE3IC0gaHR0cDovL3d3dy52aWRlb2xhbi5vcmcv\n",
              "eDI2NC5odG1sIC0gb3B0aW9uczogY2FiYWM9MSByZWY9MyBkZWJsb2NrPTE6MDowIGFuYWx5c2U9\n",
              "MHgzOjB4MTEzIG1lPWhleCBzdWJtZT03IHBzeT0xIHBzeV9yZD0xLjAwOjAuMDAgbWl4ZWRfcmVm\n",
              "PTEgbWVfcmFuZ2U9MTYgY2hyb21hX21lPTEgdHJlbGxpcz0xIDh4OGRjdD0xIGNxbT0wIGRlYWR6\n",
              "b25lPTIxLDExIGZhc3RfcHNraXA9MSBjaHJvbWFfcXBfb2Zmc2V0PS0yIHRocmVhZHM9MyBsb29r\n",
              "YWhlYWRfdGhyZWFkcz0xIHNsaWNlZF90aHJlYWRzPTAgbnI9MCBkZWNpbWF0ZT0xIGludGVybGFj\n",
              "ZWQ9MCBibHVyYXlfY29tcGF0PTAgY29uc3RyYWluZWRfaW50cmE9MCBiZnJhbWVzPTMgYl9weXJh\n",
              "bWlkPTIgYl9hZGFwdD0xIGJfYmlhcz0wIGRpcmVjdD0xIHdlaWdodGI9MSBvcGVuX2dvcD0wIHdl\n",
              "aWdodHA9MiBrZXlpbnQ9MjUwIGtleWludF9taW49MiBzY2VuZWN1dD00MCBpbnRyYV9yZWZyZXNo\n",
              "PTAgcmNfbG9va2FoZWFkPTQwIHJjPWNyZiBtYnRyZWU9MSBjcmY9MjMuMCBxY29tcD0wLjYwIHFw\n",
              "bWluPTAgcXBtYXg9NjkgcXBzdGVwPTQgaXBfcmF0aW89MS40MCBhcT0xOjEuMDAAgAAAH7RliIQA\n",
              "Fv/+99M/zLLr9zm146j3op4mX0N1JQGblsTtOoAAAAMAAAMAAAMAAtyQKz3pk1pHMIAAAAMAE8AC\n",
              "Ajj/5CBFzAUcVMwnnF9Lhka/JOCf+aUsFpUv8cJLT1Mb3QAVb0cMLXk9ZHikp/ht8Kxu4HsRJL2t\n",
              "nTBPjqPC4wOxDcsLdoz3d5L05uu/z+r44+E8aV4E8E2cKTR0adLCkpFDJ+47tfchXwNnNbiFu0Gl\n",
              "uPtE+yHDjfU3C8/y2YzePZFYXCI5wsL7+ytBo9pRquY8m+jptp8j+chQMcQjxt9YM8EuZv3UBXT2\n",
              "LCttR6AAAG0DyYQTPKxCeP/DotZAmmlCS7X20xT3A68t8yJDoIP+GfKA/i2hidzcVBFK3K45YLFl\n",
              "2ErQ+lowazKwv3SRd8eA7PA8aNpceTpaxbik1YKpL2wvlBRx9Tpy65qXV69kdbrKWF+qBxA1+N3m\n",
              "PcsPs3RuJKqlGEZrdKLNyi/LxoFm8K78XKU8l+l7IYHS8/mdHzNv715O6Wau5/LM0HhjkI9/NvGv\n",
              "tlyRMK/NBEEfARM4oJKzYs+1OmL6ZY8GbyLoVgO9wzzyB51psDzmMAyA+i0lrAo9Lf8w1u4k5/ct\n",
              "W7Lsl4jGU07c0nAVvSmVUUTy4NMpFUryR/XHugEOsad22Fp8R/RrGfEP2lvIdweL7cWwOi/XEMwZ\n",
              "L2/ewHfbpGrVoYi/93ggcZKWdi/ah33wUsL24yWKX2XCozyonSOmI4xNJ5O5AhXELElndXxOrDd7\n",
              "PevHdO+EEnUlDJcWpofaEjXTAZ5TBpmCQ48hjG2YdF7pbV41CLgeLnZJvl1OjQW0/oUReCYnZW/m\n",
              "LCMv2phT+61yJVFm4kmy5QSJLC8wtv5xfKxN4wEnVTeTNkAGEFOp4zD2b2YobrAB5ObYem7HKeLL\n",
              "1HoBFCa5XOkJ2Z+SJOkKD1T8IqyhP5y8QxlAzyyAIioOol2QBtM4zqRAAJEHp0PapJ9SAAxYBlIb\n",
              "E0yi9Rfy5Vz9exPElykuFLTtqJP0ETsPHLh0TFA5/xJYla9aI555hxmIamR18f2Md82pgJ3xv6nN\n",
              "n1c3VQZZ+elaEWn54r5cOnLYWw4uM3FpXw6IQ9Tsv8F26oSlxRruktbjSCK6ZS9QI/7SP+77p08j\n",
              "taGmPT74cXuaea3SiZkkkS1Q/8XbS1PWMVPjbWhn1OSmaTNP77QoFypeADkLYfD6Be72Wc4Ou6lp\n",
              "ukeILDtrsHQNWVN5GtR3AllAEIU30DtouKAhSvkXJyfipuA7KPXBtgOIBO6uJbUN54gAmtchhEmJ\n",
              "XVmWUPWLlTDEJQRejr+hsLaBp993WmH6OLUqx4TyvcdVYgTjpN37QckOWup4kANG2yCvi9QAj+F/\n",
              "F6HiGdSJxIa03xMHuV8PvzVBG06bqhWFHJ3qWi6qQ3Jm630+rXeFheZEtYoJg/gZNvZcNcRTc4ar\n",
              "xk8GCIaWqSsRo9Ed5gGnDUxRKY7+06Fg/2bwYjPjFPi4vfMv4A2GslDfrcIn09jMHOxrbz5pGga8\n",
              "GPul/aeTMiVAqTY+S4yJM1T0kDS3g8qJpKtJks8O/NxZS6gYz3xFcKppZCMhPPaTdSbGV2PZ9KR1\n",
              "D5zyVfK+nLhJ0Yrxt0KZhjtb997Pw9X+5z44osNWztcxfROhDRHaUSA88Fy199gZ4xI261ly8t3/\n",
              "72j9+T9oAFKUkzjz/QGxegB5qn89ifoet4AA/X7QLAI24qLyCyrMgxUXZsNUC4vXqgW1mqNbI31T\n",
              "QQNr4xXrWP8hyiTEiAxyQl4fZXtJXVSZwGWxQyFfoJyeWeWsCBZ9YdX926pRbuEt/bMtfNZNoQhj\n",
              "bNVwoGedkpCol9S6OYMzgRu31Z/rfKaQV4Pn4rZmvBZPhR2GmTRjHkYIK5u9ZRU79unpGlgsPMeI\n",
              "nQPM5yWt4CN0j0MqvmmYD2qmALNm30ZoHGww2j/e237lS4fFjM+zrVAMxSGuELuRtccEcmLOhRKm\n",
              "mgzQIxEuo+wcnxsSQP7kuIY5m7eVJkmcopivpoQ1oVO47OchsfjaCmgruflfu0KVwYpHt/D6m2gC\n",
              "G7R1Otr833meDbTdHeI2ww+rvu2Z1egraAT+7lCDr3u1amtplfp7QqaW8q0AAp/nkZUeAB5pGY2o\n",
              "p2OuhqRbMQTeFoda3eEwyqMSmORLwK2Yr52vhWqpkDFB7AHL56VyR69QdfhrxaadY6t3ehqKFqc3\n",
              "ysi1iz+R2+TnHODSAVKfEC2aWzCdgAsVzKnby4szO5YM83KyaU2kcnCv3YfNMz18zG7UoY3JKskC\n",
              "1JAehtvZQVcUsxBwyjcVhsoNGdfLGTU5Juf4Bx8gDF9mtrrLE1U7Pqiryxaulbo9rS3A/9iKpEBp\n",
              "Aj6zJXBgHlm4HtJhAGjAlPZ9s4ST3R5tCltrqC2TiMbut7qDFTc2aBa0VlVmJm+ZBT3Vf22BT5zW\n",
              "Czwr/FTTE68yzZoF4NYMarF9jBQ9dDsHKpX7M/PM4BmwRN7jB38mkLRKiHPV0MKsAhr5qR2Rd6U+\n",
              "JC8O87XC8ewSnQQLen0iSlce0uv78Zrynm1fa8vcH1eosAA3FCDvp9DqtKQhHW3urfPRHjpRG6SA\n",
              "gBLdsI5jzPVYbLgJZ3540YpBcOnUkLzKU5Rv229epVHWv/4NKcG+f1DcPIgvXI900eKvGPwxxW2Q\n",
              "YIpdb+jZF463uzhojKz8McVxPdxDk+5nCnIkUcPhwgu4PfruJgdStCfXRu+O0Cduxb41dwu4Uyz/\n",
              "gCit9OtY/QVPxuuGbU4CG6cXa/SXrPt4rkhROerw04hMNuOw8RMgsNu1Bm7Jv+GBBEIflGdfVJLM\n",
              "WBSoruEXqwAIO7ccamiggdr2YEYBH4h64YTR84Io9gmunKN4EKT4bX4dutCh39X8bzifn9eYZVt1\n",
              "k79MhxAmfi0GftilHO/d1Vw0yK0CRkA0hf+w4pXuom4enG3pvXJmnwJGTYFOOXUEDAkh8s6WTxzL\n",
              "BCfOiQV0xou+PpdFpZT3oZKSe4Ze7R245VRXpJy3Z+Ekh2o20KMlU70S3CZtyFhN3x///wMH8SLD\n",
              "f+vK1f8WQz/cTKVEUF2G3NUmHKzg47QnB1tPXiiM/BxQEgwPlmcb5MqLFSLmyAVxEX+O9jK3Nsu5\n",
              "gOnYfw41F39z7lN9ZwmyW1/vpNPIKAOEwQRcGmekxaDNX9QXXKBUwAGbiVy7IdElH+PhB9z51m9Q\n",
              "A+DOuOaH2R49S/qAjB9gQSWuqt5WKK+jiiumdFcVu6FSI0KG78FuiOu0vJdX7sH8pywV6CEPrGSl\n",
              "jwVVkgPLeT9juwszlUHdIol/+q4U9YIMXpBUv1sGj3vI7weTRmM6yaVlNeZlfyv+fZ9O/s8PNTdp\n",
              "50vydxFI58h2tGgAoTqcotSqRzVaLzxRUfFo/2PdvHw3mfJwBy/L9/NBFZDvJltewTv8XZMd1B3R\n",
              "JvGFrEh+CbaTdCRXA/DE8ej4rzGhdog9CtOBVdKwIEKPNZrCMBE4ZehzQx5j2u/EgCj2f5pMGLDw\n",
              "84wBnUs2UQdJM2MwFUTQ9Xy5I+I7m2sRDine1HT/ZxtbAg/LWa2xDaRAgKhjMdA24aRNMaHb4HYK\n",
              "AzjrtTD33klvX93mv/jW2InunaD5iN+rzri35hGziP0mnvVo5jYeUBhGPUbolTdRkAoaRp+oHRH8\n",
              "BhG5JuDeQaGuxXIJcItCvsKbHubX1v1EumhfNYe5gNzNo8cgAQ1hYP/QwYwwLH+axIKlI8ZltPay\n",
              "pCC7xq/CZZNMDF2q+KiS5NjNdeLr/mvOXtKh2gtZcJnHJWIhQvnZ56RM2/CvIj0FVDEKP0g9//wA\n",
              "VuAMUNCEpr9lt8p9AC5M2gOi2UDop1MiT6XEYOvCzldFqO7WLZMkcVHPANfnSPW98F2A74PSlYfv\n",
              "JyApQzXzYxTzCTIP43PiABvhVbv7YRu3vbes5rCLbfFLadqdaNv6OTtWhq6829wrwp12z1sERhaR\n",
              "Q/zdYDSPYHYaeedDA8Fwb/VGPqTK3ezSe3JbjU1PBF2IA4upzx8wQEOJnaOvpNX6ylzaVs+hcqAc\n",
              "oWUXVbbmXnqLHH8VqL9dtgBA7JAIza/8jR3uU6zab4N3w3lLJKrL5thPlbRAy4SxodXa+3s894N2\n",
              "X3Hz3OsGV/YanGsEFUicNL6IPIAIaryXGif/s9HA7fttRrk6B7hcjxkvTmhdk3Buw9s+1pzcyf6n\n",
              "/vHIZiflW4EbK9yn6wfna1hwdNFys4zZqDoPCqrIcDWI0KcAlPMM0a2iX5fuymkDhCAU7AGbSDEy\n",
              "ORbdMN6FWfV8NWWN8qSWUqvyC55P4elTU3Z6aapIUIlha0aOzdyDdtRkZWjBbjPWYMKTTW4oMbYP\n",
              "EifL7JQfymvlJ654au0ViRIB2suKG/zAG+dHdg8AEGo6l0c+/Ef2wOl8RMrb6Npk6TTHm3NIZY2j\n",
              "Ms7Zi9vuD24ZKO9PDAH8YA/qoCodFtPif8OqUkp32/UDsRGNk8HpNWcaN+9bH1IjUHxPgC7rBfRb\n",
              "IxTaU4zrjNkE0rcbQuYNc9AhWtDYZngWgSnTbB8B7+WukWn7e+y+7nO+1YxooU9KJEUa6vS6o4IY\n",
              "mpQe7m5quYOuP7q3SQCh3MKILiACQ666VUlCI8R6w6lW6XwR3lvzfb0HMwGkaTeWZkl4cPmAWzwc\n",
              "gBquYp6puCg6wfgnoEpyukZBcYaHVJ89VtX3TdFQ9UiMXxVKgCqJjttP2kJNr4m2euAewN/cKAfA\n",
              "0S+IteYAP8j+zd6N3hy4v4hnQv9dQuWQAJcJ2F8vX7GeTzZs/WMHraPMT+mzbNQIXgBaDN9YeR6v\n",
              "uC7oRdNaTUeOUAzMOGFLePphxfm2F2H2bcQqfkVYIH3lw/syozqpzxzhKGNNBpDfDkTL5vrpgFeO\n",
              "SQo4rA7gS0Thf2VLWgNp9x4qnBHmghvaIG/VNCSw7x1EW6DowMuzAnjZ1eJVBT9+rdgKqBKialZk\n",
              "G2P3L5kJjnN/gEP/5q102F6Wa160Jlfo+UxdDPNzMhMqq3W8JM4kZiosDbMiFLYV/Kkz5zPHykNq\n",
              "uazOnYOzMfzjaIo6J5iWTCOaK85pLF6RobvfL5xS0zVkG73M5C1fLCuXJpdEvo1xpzr8bnLVc5kK\n",
              "WOT5GC2h9iMyzYB8Y9j1WxrHx7/8uFwbIACZALXOsfGI2N2DmeAALwDjtS0A2QN6S2+3I4wGa92m\n",
              "hkkKglCFQNxtONOfFBT6J58Godv+6SU/NmAlJKIOAsL/tr6tRCZRBFu/YUklJhnP7MegPLMb46bp\n",
              "wIQtz0tqdVGUUWRVPtyj2qGml3689OiCXD7Ox+IZ70Kit9ht2w5VzCGmksDAYUMt5f9e+bnTYe8N\n",
              "8heDwrKo0zJmXVSs43EJByGmi8xws/Y8VEmPbYNd5gvb6IVKoFIxhfmRCwFJQsaBv6E7JcUnt7Lw\n",
              "wnjUwkh4ed5QCXtMsd7Pax3bfXCCJmVoMj8edGiCNnN5UsAzxwdry22RMIl98WL+3kmF64xCXVZQ\n",
              "Gi1ZxmIlWmM/j3USsj4djeij08nQTO3D6+86gjuvLilPPx2SbUOHtizW1Z6IgHlbz0vdZA2s/TSo\n",
              "PpUmARg1ozDDXaB7YAHzdb9+kwkdNG3K1caL2VWbD0lw48SOYsGvFUFiiQYs8lo/nWDSsaMH2wQW\n",
              "lljaX3pRlGnYmDs7vnNskHhZyGqzUaz2pH1ZL+BKPN31rKMgk7P41467raA4s1OztiNL/2J6kjge\n",
              "Tz55pv4uUwfaHxYc9fb+sBgkbkURI04b7gTz+pcoc9LzxEidJhuYduXhtOoxqoDBwoljdeQ1mdH2\n",
              "jkAurvUMRUJCLbJOlTNSReGxD15rm411mAAGZO64PX/opxvL6kydR6/mPyjbaRduFZJDRx25Z9UI\n",
              "AOYwns55u/83endq21VZIAAAy6AVzMu4/3fykCm53V3YJeF2pUGp0dkCAtzkYjJZ2903I60geEnA\n",
              "Ee7E//u2cKV2YfPNy+yjLvOCBwZSkf4lSLQ67OnBmLK+UcSLF2mvdqieRx85Kh34VPtPpnwEuVF+\n",
              "WxnypSo4mSGIexNER2qrmUIVYS5U4pQhKVY1cAGN/qaekCHfQGTl9Y1QfwPMa03aFaT2ezreKbHR\n",
              "6+UpsUhfppMQGBMRg35zJmn45Q8NcegbJSbjri2xcv/10Dz9dciUDhVbjV2eE0A+4FpsxX3XFZhV\n",
              "TsMMEYNLZqYJnoJlFj57bLqioEyPT9dRlV4Xir4+GHXCcn4V8xPDECAmgf/sMzD5EU9v29VbwEse\n",
              "0xy40vYPQr3uFnoIzLtYwdOp5sXcD9jw4LGr7b7IrOq5Ne8Er5VB4KY7T4Pi36iMhKxVjnJ3KUhd\n",
              "h75coPU/62v0H9oefu1jmwHwSd3+lgt4bxdBWuw5DPEcYoGXAnXu5d7kPpSBhaCt2QK6UOtJTMpS\n",
              "T6pgDj3jGgORC2QGCD5AwJ5FzClr/aRuC3h8+Mn6na8YfDuvX4cJtSBaWbaHbLPX0n4grm3FvFZ3\n",
              "SggTm1X9c3U0xHteHtGyKc2ri9hkBTtYzdzE451s3TrgTlbnd5OQwPUkCAsJeTVhEHMPGf6/VZaa\n",
              "izVAq04KoQ8RiD4HTdlJRsOsPl8xaVmvGoLFCkA8sGjqlVSwRe6t8shnukaKCjow4QvXlmKdfOAD\n",
              "n8TZaTkgmwtFXvTbiyd6J22PMSzD6Gp31QdP857Aqak4yO7/UiaXihRdzDLj3UZzmw/MYm7j1Kts\n",
              "2TTzXNWjnMejspWCs20vQUpVAYi/qE5R1b5Bz9JdNKAwmFDEl0JJIsRDXXwVSxh9aKJ7ZWmffbUy\n",
              "BoDiM8QvZ+lTDEO5mEAAAAMBsbqjbjtYA5AsVH5ZwaOzO2/xUx8IQStlM1cj95mC7SRYCXe2w1VG\n",
              "UCHS7XQC6amX31zJetq+E0unLl4AASuYFezcsrJzWzia1kqrV84UXQFAZ3GcbEBTk+nAWhCoAjnZ\n",
              "57rh0S1GEIrehCnY6RlxWhjG6pm7xiLzrFLzUU6KVhOJWV+QC3NvANrzIbkCBbvLkAl0g5HcCzfv\n",
              "67gF85HUkcC9+5KQNjrIgJiL9cQxzT+Xv7UFy2EzL31hCwsMGdfZ+0XwY///AP3aaNyMkPrNJFRb\n",
              "md/lVIAF1//7dB+xnrFgImF83ixlVZJYmqn6/91e/Zzyo4n/qvNmdeQ8TUEdGnf+BXtUN5RF3e/i\n",
              "P101zJtdnzW36mc8w8vCj7cymO0XxRR7Hb4ZT9gW5xF6gtvdM7dpgtwh8fDCBwGnmxKkBXYlXp+F\n",
              "TnVr/O3jV2yPxD3+8OyxNbPYEE2jqn16Omf4Afv6GrvR7OmnTQLYaEn/rkHqW2q6aYhn59Vy9kyy\n",
              "O0Jg0Ocu4EF/sL8BkgvRsr8K4El9Clj4csUtvC7L31hECbMrsHoQt6eKB9oWlqejM7r+2fVz44FB\n",
              "DnfCHMfSZfiDTLMWEg5cEQXjzTM48U0VBwlncAGveEtMBAajg8rDpDxQU7MVAUCjCmW+uuQiSIVT\n",
              "OTH9uOI+pRN/SWuVVEZLNRB9sPss5Ra9DgPtYLfa4VXIG2fmRWoiHNhkzpIXotIClL+X4/7/ZYpo\n",
              "9oN/+jvNxlqcgGB5M9w6eMjalJawINgA5J2Mj6bk/QQbtPZrYIkAk5YTnlnUmhoHK2DUiFOsmX1K\n",
              "dxQRkXNpyi091E3Y4PwH2f0DYBUvKrfDTxK5ZBMBLJsyNRCSToGUaSw5Y7KDxGM11s5lczz+Pqvh\n",
              "XE5wONPOsAz3zq5SeZ0XUSBVfGO1lAfdiNdUhNzevVn3A5YBzmq/TczGaWujTr/PkRuPCKqxbXvi\n",
              "sp3cLpmAGYPDXxDHtM78hprGgq0ptzXqFxh3/ZBCR3c0OYfyFrwX1QLJmYWwCpm81cyptT/9cMeL\n",
              "zYM/HyzwYno1lsOF6OY+J+sggTYA78qunS400iINGjxccJMwLOeoWnpQBcydQwB7n/ipvsoIltMB\n",
              "a6W7edYrhxX3tdcymRx95jEzGWumtei/pJ3SXiGfLU1MAh42zHQ9OxFRWtNrJBuUPxQJhp7RNEDh\n",
              "OTKFV1ulQY2mN+tydnIe+GNf627rp7UJBRRof65mYTPNh5ZK4grpYyy3u9GBMbvzS7IdVQrMa/17\n",
              "vYEhbqyIgRUNmRfRjBTiGSEk2QqxyYUm+kCw/wY2hz6uNMqoVmKueYGU8QxRw/qVO+9Zmcs3TM7W\n",
              "JD0bTvA2hzRT4TUb8e0W640R9/V8ATAj/EZ3ThvNwjJD6PEdLXwb4tIDj66GpIVJDcMqtvIqnXg8\n",
              "RQo42VWunCwkinjAYWoQ/QMMjzGDWY7RQnljlr+D1s4Wwvd8jiQwVStBN2CQQ953GB6uzWFprYIA\n",
              "BURHD5GCG1VA7OuzqtNuZhBv3/oluYwVHFxfhVRhQnR6j/mxOYNllsOP+dgLr6jUTdrE5JmMFklq\n",
              "NA1+V+xK81r8aShlYPe+Dzi59RwNdEwI5StjfPJ4DfqeJHC4DQGP1MD3nXcoAHJ6Xog7zewTlM0Z\n",
              "9Q4eAd0EYduRujAtpeP/1YGioxKhfh7/YHkeF8cLSecsnVxjl9qdGm83GT1zn0L5C7LesrfD+hWV\n",
              "GweJQXNK8wVlz/PahGu6WMuwtVDz/umTYYadsoy30hguCC8Q1tn4SXsGN8IpFCt6+HZ524COqvoX\n",
              "R2xuOwuUfPrK5A9SClVeCx1n+B9jQyQlqax8dU5I5lxBre4llfA1DnUqTms+TDbTYpdhG4sc/zlU\n",
              "2Yr+h42o0Dwp8foseOGvn0XU4hz3JW0I7xZs+ArNi1yZZ8NSBhK1YLopQSrnyHvWiXKJiOH875vN\n",
              "3CVfyDLnnVHucI9mZpMNK4w4EmaBcrrmby9Yg9Jcqm9eI/5EqR5sUIacuceajj//Tfn3k168uexi\n",
              "pwEectZyOpVAD2KvBat9IzMkgsyprjO1iIWXV47ijOAp7/BiQqZKcfQxRb0fRmkMgZu27rheei8z\n",
              "/J/X3rTTEIFGlIJqMGAitMpNY2/lpU9CxTA4Eyw20ZsBrEqWOo6pWEWZC7GU5XV8yAAcHqr85ILo\n",
              "hinVQsvY6F4mAGgDdLr6ZYy7wNo1rrSVr1s4mbq7Qo5gJajIi6HFq8sqoWHnBd0oTPaoSQk+D/Pu\n",
              "nQVhPvRt0Bsr4MmYjcDZw/Qqvw9oG7iK/TUB7ksK5hIhJpZL1OPdGwYazBe/CPilSPHl4ME8MnnY\n",
              "gHsn0in6WjBWhkphZCwowcVtnuj9iSlxVdAu9QzHfgpKoyl+WGqJC24YdzVc3ykuePxwghfPeBc1\n",
              "kAWyXjV6LoyiZbL9+qSMtM/MhCigLUSOE0OaltpRKqdhFIfLftxNrwjY9nIndj8CTf7chAobxmVr\n",
              "5LkcNH/Pbua0MR2Z5hoRNvNMKmnMuyN1tAYVy/0O/YFTXLGDlcCDG6sT74E53dKP2e14cQ51t/DQ\n",
              "Hv4huQLuguWkklUAyYTY33sbJTUHAlnswLjzWEIpfrtOfW6HP8hh7g+E22GY/+/8RQns8gTBpzen\n",
              "0DXYBQc8pWa464DmgGICPrt9BWP8+IJjazAhERjqYORPX+g4FfqXpxKRZqe1eAm7LEW39Iz9K/9C\n",
              "pQkW6Z+qXetQOSDMN4xzXZwQI4mssy33Y4OzriZ8SAU3GWynU4kTijraDnEQhKJKwBNfSSX0cf1q\n",
              "KmxzXWqb1V7YBik8YAQzAVAiupJvaLVq3nN8iP8jyKanx6XmfiuXBDGsOddybWzBJh3rXfpvxUTr\n",
              "jO77RdPLUt9Q0jtTX70IT8sMCAwwByQdAgFkSJCHXFMF6cj4rd0iHLRoXqThDsaVMXatvQ/50A9J\n",
              "uu0fIoXT9r+4NFeBSvBYjTKufgdIH4naqs4JgP5wt77bcC/bnVWt+9+NwkZmYxxjtEddAvFLejma\n",
              "yuKxHuTVUmFNS9tdt9Qi97f52o8M5dhOMiqwgyJ3d5X7sttwqrGXjoplHaZn+m7+4o134OPUlXpi\n",
              "xUZ+M6ESL3LAEQ/be+nfkpw5g2II2ZJ4B96DxI2oDsdsspaZfs+xRr+Q8UCiTvoHwt/svhgTo4UX\n",
              "rttGjF4AceDFhOVUZPQvjOT7JaQlVSSDFypc6vwBMMFrnmTSHEsExEyrgItCVDK3Clhn+IGVihNz\n",
              "R5J/XLldD0T1lnWD6L6InGrzBb/FCr9LwcHYLKDAXZEdAjtE4xh+xKOUnnDT4zEf7rX+7u8+FgTo\n",
              "S/E/yIVYwPcR/Xnv2bsBNSGtRYMUUwQzaa0sJYWEXJvPcLsz92kdqi9U0JukXZgtSPOIdiF7fdNg\n",
              "AsZSUySj/CYbtkORIDvFONo8+y8qD+RB9JMhXCYv9bChnSO0PPAtCtTr2g0npM1AW302huidjBlW\n",
              "EHvjY+EoPuWYAVkYJeTB621SaCw/stX0EHndmawBFif/gSR2nRGwDkv9lxzifivPJhqM3uaGJ6Gz\n",
              "5gf68lw5t2f6I9l467olh8sh4BQ0ezdr5nzZIh9fMWWJHfQR2istiYxFqEGXjWOxlz/BEcZByyQ1\n",
              "oTlbqhd5N4qcasYheYmYWpSCeMAKUmECMp5SO0QUC16eguBDxLF6OabUf726Vd9Kd81UD41mJsfc\n",
              "cf6+lmcVDdEiKmH+DYWMLbyp+IpYHz5JSWVsscxSDWqGiLOEzVocuE++fyoxDPHYE8lXIGIKmnbE\n",
              "ilOXq++/dR3VLeY9Cz/f0JXlyQ7Qe+ivvHA1hwW8VQ8EG1tSHbQUGDOVG+C4lamqycrfdEj+3kSY\n",
              "76cTmLwyLOwBJmaYQOizg3NtxGd6Ylx3XwegzKSUNd6hs1UDs+6CR3WmMYvuWr9koAubmo1NLgsc\n",
              "qvWhdH1P79YuS/wkfDC17zi2WLuHUGUFhfET+lN8jwFoSlWYvsnDoDy4ND5V/bRaBRHAnc8yMHcv\n",
              "rEZERNzv8ZpjI+WCAAFeJMJzAAAGwkGaIWxBb/7WpVAAAAMADZbidQAbFAb/wRtgrrujfoNTt9Zs\n",
              "f/L8/8bVJ3/ikCUnwc6eICJfILljaDkJj0NvjexJYg9Kc/EMoEv3YhB5DKMupZO4mcUP5P9NkgML\n",
              "LnnB5ldf8S+u0BE9YvJOOOhj4X7ih3zd0ULxM5GwhT8QM72xAgCgom7RDl2v8zWfoNdt5Mm5f1NX\n",
              "YZbr6lIDER9+2JisbpR+CdmM2GtuanS7XIvQKspZxmIQNSRckiJeifu67fnnCzgWgrQHvZaZ94Hi\n",
              "HGzRqCuzdxOXMdfpT6u0epUVg/7lUVaMDVsgk2fR5vMZ9IAvB7LKUCHA65bPJDYBtMqiiq91Sbzy\n",
              "dA0d+r/S5UoAyWb5HxIOxpaWZbZKC4p7Jydz3pnHzMMY3RusbqrHK+3Z7lZArkg7EHiT/jjlSRQI\n",
              "n8HPSYGzjWhuFihMDK+gsAdKfBf7Sxa5GcgOug2IjjLV3RWSih1HDeQihERn2WJbiO4fOe/+FHg8\n",
              "5elbstWIC0ZHHGubXv4Py6EO4T3DhsEtXDRGK+OxaMc+mptajNvM6vZH6/Fc5dd9k6qgkhsA+fH+\n",
              "8Lmnq7GNX1uoShKgL5F37UJumyuVi5ZEv0Qw80pMRTj5xGHY7U/iB1FcZqo4XImP9rd7xNRTsvIN\n",
              "ozJfNB59VUj4/IvNIX+dG679fwEM9RKZRXsNE+YZVRAZKBIJBUqYPZmNUd8KzNqciRCdEvyxUMz8\n",
              "uAMRbFP4b45mbtxevlwxnkaEXw+sxzrB1xmM2t5RnB6SWtB1hb5kUzKE8kjfUst5trM3eJQW5/ce\n",
              "z/b/lDu7kgmfL0jrqmF0rKb27wADTtjddg8X6EAA1TyGuxThqmjmlW5yHPPdvMOkrdYua2k/MEPS\n",
              "6pjlXEtA/QGONI3AOWEcdT9Wl2IoGFdiEeeXtNp+xsFN3pJZ2wUTXhd84zL/1NkNhhbt1Zbsz7Kn\n",
              "GAnOyH7xuqxb3PkNmg0t1g7a9Ad7r/9C44fvj8Sp5HSLG9a85yIZmDxiZDXDklHC2Mcaa8+lWIt3\n",
              "eQelzpCBbuSC4gNn4HriyiiWRRh1rXPy0b3ZtgYXoeDxOQp/qjpnA0iTskmx8HWzYgnh4xpCdvTg\n",
              "bJyCVTsfQiFqudApmbVkyw7/agX9dU/CeSq91fuUmEULn0ktCLlaVQZRl5Fe6vOn4GBrz/3aoZ4J\n",
              "hufXhY/UX+tSuRTjnQzH6isptwhYFNPuZdTsJbCfvpdF24XtG/nZhG5XcvlOsk5fGudqh/Qu/sKm\n",
              "ImUQEHAOyqZi8Vb5fhzUY+Gv/thWSCEuZvUUfwFhAtuhF74fgML/GfLX4sJgHWGu4bwHCah+TUB4\n",
              "c6YmR9H28+CgYf68LHVEqATPuZ5cORMSPhNfQr3bL0uWwCkfIs2RBIUxpYME7lKXE+aUO3PMPiXj\n",
              "8xQMToi1fK7QYprdnu+HJ8G1L+yomKpsFg1DvyPpmNuVDTOIWsREmhYP9cRwrFwRWhwu9ZVj6cAR\n",
              "Gqau+FLJJwDXn90fbq1l9GlE/n28Kd+7rsqaoeMcsWS9PRgW/AtKeN7Qm3947n/sAZAo8L/0HOxc\n",
              "Pt/1xKTjgiYCXEFxO0CIVah8272zrRa7pwjtGwdxmz76fRLtcMgJjF7P2XmB1WuWKaeWv/I38FAX\n",
              "ZGd39tDlE0Q/B4WHCJW/nVu8Vb2o5bdsY7PSVHP5pH6fOAimcKWFfcD+qCkcF5BN5jk5kXK5wEfS\n",
              "QL2xQis8vgWEet5mtNiJ1rykeYIHrVQTc269nWQ8EGEaMnYT10Uy81VegHX5/m6MXjIYVlxxyhEg\n",
              "3xCdv1/P93GgGuKvCMyZewzYd+DIRkbWshiYzhFS85RVauQr+sixV0mgtlFMO+XtANkMtkEEKPn0\n",
              "y+sGsmsjbsxrAVN51oZSPNrkGeXNDGQQ85FtD/b38KT4QVIGLwSNqLq0zxD2a6GRxANhsGYl+nIN\n",
              "6hHPzkS6HJ3GGWXwQQKyCxvtTTPL8MxfVgKUTTrLGn06l4EtT+LEjMAjYPks0XwlaOLQZx9uoShr\n",
              "zhtAsjUPVS1W4X72etl7mDi01Pqv8sBiE96ZiQ/rFsTC+xL0nM50lnad0/qLskPpia46vcsnWvaM\n",
              "3/d6T5xo5f5MouYGtBe3oevf8pD7UKnf7ZaC+6V8is49Nr1oHCwbW4ZpFNXRyVfwdHOw4WIcER8Q\n",
              "R0rFkJokK+3vokQVD0qej8zrrzKDcN10pK0moK7iPOYKuUeu9HSFLrYqN8wE4kVSjSImb8iialbu\n",
              "p7WJFyL2OyT/I6bfdBe+FCbwBwR2CIhLiFdQJ7zxA5ZdAtCiPcNwIP8QAAAIjEGaRDwhkymEFv/+\n",
              "1qVQAAADAAlP6VAAF08PHshZaTPyPxxhn18yHwj2noJj5CZxXcgmr3A0XR/+R/ZkG5ANQbGyqoYI\n",
              "Kr+vMZE6I5+L4Wgj1hZA7r/p168/5mRsTxAbJnlili+GJw1RI0qYxYLJSpIHiqPzcP+fFRnvvr03\n",
              "5vRruDnhKJwO4Rw5hW6c4q5ynFmwYVH6FhHgbrTVInAqZf2HBy+VMdELlRKerm5sTFPpfBj1g7y+\n",
              "xadUMW58EXHwWEFpuNT78TIWhJ28QB4V6zrZZvXL91a4S4r7+fRyNCr6rO+5wFpn36p1SFp/GDS/\n",
              "QaAaQVKKp781zSJ6xKhBF5yaG/XHHzLamXGylPTBg2NjxY+9id0cM9ktVV8UAuXsdIKt5/XxXaOT\n",
              "3H3GuPwLpvBnUhclgMZKNXczXfvIXFaMsxDeCuSfJu/Q5Zr911ODWf5Or01Q7zWiWK8eW0hR9t7+\n",
              "LNgpMeuFgrDwipdNGCyPZ+9U2kqG08q+mc4cqCld+zK7EZEUi1PKpesRc49atCXD7RTW9qhjmsAG\n",
              "3FRh/ARBIsN4HPD99HjWelHwPtgwaB5CFVxvT7a9eFNhTWjd3HOVbV2TZ9eUczC9Io3mvOs8dYda\n",
              "wtCz+VDasyPnm6ZGH6ynW+zDdYp/DgEQghxFEXCHVSSp0HbwnyivYaqqLbF8/gv/ujQZfZkoA3ee\n",
              "iG/18+x0Gz6/eeoB5u92ERyFcdNSIb8QQ8it5gsipMzq0OB+siMuo0MANWaJPRYw9ysDC5pCxMnO\n",
              "51zy3ytorMOWKRf02eO/chMZf/IJA4uizCLHrJfTSLDg8vQoJqT2QkPKlrnOdFqktOh9ncGAixlY\n",
              "4MyyL3uqDJEbyemDovPsqw8gy/WwfVSUQOVNTQQviWwStzJQWPmaz3Bz2GZ6giFr03ujVxIIwOhw\n",
              "qhdaP6evIeelS0/nimBBG2yrs8uL6ypv4KS1fxFKQ4bHrOoOqRqDdJ3a1MIgGSLQtrdXxvz1gmqV\n",
              "t+bzIg3E3R6/Crsk90gQSR4GaU1g6Xvr1gT6lvdnW6/vCd0R2zwLnbNyBkb91A0N7zma9Bg33uMv\n",
              "5MVz52DxT/GEla0WpNr5fpdbPUL00X84N0NrplyOcU42gccgZzxFpoD0kmmnn/DjbD3u2c8xL5js\n",
              "htxhKQTzGK6WTKfDv1oGIaedXAWPtMJonELYbcJa+wUwj12RvxC8sCZhnKNGrXtjTWxEplSqFt8S\n",
              "gWfQjGHqNPykqzeflMrNZQbvUBabt7S37aAqMrGHFL/+AG/GkRB5786D9dkLWDaxmM4NMMFgh2qW\n",
              "Md1aBPSHaCMA0z+rziarbEdCQ6QbKUo1GRu/snzAD0DI3kddgoZDrRBvcny4JuutEg7RXE5VIlH8\n",
              "QDfCncXGkEn2VHxprEZSr8MDylFqtkHAsjTrjweJMMSGz6zL372kyaIF+mKwtIHwY7Zqy1z9tnn0\n",
              "LXKnYut6Uoj983QS0AvIQAJwXfI3RXWQWaaIUgaKM7x8ivvXC0rpCiDLfQNIyWHdGVrtLrXOf/KN\n",
              "1/ZEkB5NwlztkkgGsf2WNAudYjkA0VSPIhDvvtd7lbJmwEZX09S38mByQAyrMAFaxIcoqN9kGyLs\n",
              "KlKhCRMu+LFUDh0foG1T48JVkERHR9p5kT/EinfwQW6nHrNS8yuTw4mh+t0UfFN7+C574MdDWGFd\n",
              "xkSctUPQdEuFQxN02iMXLxROMEO25G1i05Nenzp2XWKgVZ7Df2Ho9K7neB8nhlUxGIsM99pbltV9\n",
              "ABJBmQoHG2eoeslVzhF+fpwN3NyPcWHSmhbL8r2mv7ddXttVqzk0cTid7Jc2MdsIAPTapWN+RzfC\n",
              "sh3Z9+yq2vjFYlF5v1siDX+418XCGtFUjzkpTGW+bR1f8ypZKZyzdr2FxZBktWgmv5oj1ML7hMXF\n",
              "Wa0ovE1Cxhkf4dc5eFFXrInbIIIMk5szBHolc3qyApby9ycj9k+yyEyONeIzpKWl89Zh6WdOpMHT\n",
              "fwSLZxJujfnDn0pHyVNzQob0qrFHOYSaRc7gh4fYjMfWBqFwMoo8AAGZZFQSSz17H4KE7BqywKLx\n",
              "DPvv1Ao5yIaCv2J+hYTHYIOa76+j96xMywjrFm3joy1FXM4ONXpdwg4JBTojXLBQmdHDl3xTmUEq\n",
              "fez2aOwzGK71yWJzZXCwH1ioMOT5Ic3/0cLG3Z1vDODnVWJnb7NiEnlKIT++mdxlcCy3msVd4zqV\n",
              "A40kPtFcAudJb7qq3NUEwEnRZ/z8AP7bwoj33NIxoUHG36mM+hd2yNWJn1xYpAJGkGJ0kuRx4O5C\n",
              "KrnvFlyXoY3/W1ClG/nx+2sKbOKTnKSXpQulMHa/CFSnZCmbVsD1juq/UJkLFMe5r2JNN2QbJQUU\n",
              "U8/R1ChcBpZHqCL9f6Fqu3VYuZVDed5F6oarDRm1RNZEFDdNZxWrsdUqEyHR1qJCQACPj04VTK2j\n",
              "ExvwhPDvi7Rn76kz9LMUaYSecS/qohICtCiQlODRQR1OC37PcVBCsOZPHaNpbOaL9o5yRHfnPtI+\n",
              "x6CY0IohrMGAMZUGPz+QuRo/Nj+/h8zpSSZfg/beQyT57VuQLAEpWxZtVsuOQSeLw59XkAQyEHvF\n",
              "DJNf+vmotvTY/OVUDbZBk98cqXODs0jKoVFo7vmFc2a2picZO8Rl+HK3zPwxqIuoRgB7KnNv53hG\n",
              "tBHRZZq0UclOBPkcdoqlnlbg6gu//w99okUW4nfHEN2FxH1j8fXxZozrIeUN7VbcFExcpEupN01j\n",
              "JSS+g7mRA6R8fNjNb5FmFmFb0Cb4XdMk+b5IdXw5r59vKzj+NEZOacwvhzgaqZtO7q3t9K6Oi5Vn\n",
              "qCV9w9XAdS048/dOoef7wyUmnYpG4cTDitkOr6N6kyIfX5JO7QELLbXONBsCkTuDj5qEHnx0adAC\n",
              "UZjtgixtDwd8ExEAAAVEQZ5ialPBPwAAAwAAHjFbLNM6ND0oAB/W53gjppPQTd/F9l1fbyg8GMV4\n",
              "DLrqRBjq0m7Yruh15JMok+gVNtWOxmse9P18Bw80Oq1txQAYkMtEOtOXzlaPH+fJeZ4ZMKRtUVCM\n",
              "K7psU7Jgdv0XpOA6NOZ5Yz6gFtM8Lly6XGFIwgB9Zg34zG03/gCi92z68UQ41hoMjMMyw4qBv/nt\n",
              "kwdCt4QuK4944mxfMmvUNWCjcCm34+DQg4S85aDP5dAyA7gPORiZUKv4eWOwLbFvk5X13YjeFhoH\n",
              "Il8B2a0Yrv6EM647UL8KkHDXMyvUXELwfhRz+2UJgGGgqA4T8SRDBmHNJrf0k/y/1+wIoVSneKYr\n",
              "YvyqKsJgn+BN3gXMn+TFTT5jTyAVH1pvuYIZ9wOix7WA5xKM3m+mNyfoVkVVG8V5jzSkdFlSUhnQ\n",
              "swcTl2usDh4BZFWG19lZWIVgLOe02HREZtclpoI+AICVV4kHqMGvStyPWs4FPUT/PQMiIuDHZSJQ\n",
              "KlD6tEsgiTJ1n5RREpEidxPgok7KBB9fGF6vKbPh7I7uqfToPY78ALZ2dNiCA0RQ9Au89Bd04MrX\n",
              "sR4NCxs6ViLpKnqIyBZQSsAtEr62IM+mZ8fp4sdGGZdVI87uep+yb8vDR4Sz60Bih1usUFhxhiIW\n",
              "0wMV6SpIq/DM3VA8Y5wLzeGWRgRzVxrdUtprQmZyIS3wHgiXusn0anQJo+WO3d7qiL1Wnu9JXBSA\n",
              "pgbNDUbI//4iIInxpZE8xyR43OP1Wt4wASxo0vss65jRCB2Md6OHPlS+h26FzwEGGZDzg9SrBjcz\n",
              "Ihf60gNTQ6xve/GN1hiJm/SU38TVgEH5+1WAmMFT5bS4KYsb/QCDkThg3p9cO+S2B2Vt56B32eBv\n",
              "Xca0hDzAEpAYQqv83wwFqv7sSTh1g/QEbfYucBmpuAXq+xyKRm54LRmPsU6ErqjAYU0rjZbufyB9\n",
              "naNjG0t1vNE+Taeq5ZGkRW4vG5aH5c8rz+U3nlXl0XcaX9oYS0mLBnNmfXWdZZd40cSb9j4ugKhn\n",
              "zPW26jmzn6W8QnsdZV863pr2p192Fgc2FQDy9glsE5aiulcApUXSik0nTYK360Zw7idtSlSCuVbZ\n",
              "/ujoxh/WmDWq9DiV8jxubdPwIxjnE1R2dSVQFB4vDR8OoP3rZRb8tql1jG9H5AcPgIJ1so4Z/3rb\n",
              "jY6F7AuI8Sg6rFFpriRZeCNQnW7Xw4eSqEDVbtzeR2xHx7f77Wb/O2r5Bv7l/hnx5pvFD77Oso6g\n",
              "WkokObHD5NhXawZ/na1D88tIm0HuG+nl1M15jrfYthpGCiz8JQqQrdaE8OBif7iwcgKmmH3LOSxT\n",
              "/08nI28dDW7VF+o+NCp81OvFDE0Mw+MmVyjihLeUPi57099Wwyfg1DD6+lHuCiJD5kVCOPhHwmGP\n",
              "oCT+U1kxLQFwkktAfIG6wu7BHwN/ELhU4osZhzytt+nmz0wOxE7WESyXsI8cQkuZmbQ5GvI6Iyhn\n",
              "dkx6j7xIf3uTFvdvdug2dETIVtdeV3BRYqxsWoAurZQcZodEo/hgoL1af2nXK3ZggIg7rZizaptV\n",
              "lkmgWr7WpQWU7k/Qyv4n7rIkwtVt+5VRQ+bSUCrvkAsRGBegbeviLAw7RooK+gZouabwAzJYzozl\n",
              "5n7sMST6UhGN1kVWYr7QRLH4ELBIsAkwQCbvH/NBy47LjUhgs1BIYXXgYPxs4G4zUU8tAUOms3VQ\n",
              "5Iqt1KFvInAzJQ0RT1FsoLLf9OdVvSgB9VMgUZxLYsdccdxnELYlmgUbf09Ic+EQjbILCAAABEMB\n",
              "noNqQS8AAAMAAC54gdOuaZn91y5ofjSfPbkAAAMADfp9tRJy21K/fFJ3OIAbcBXtsHmohBaUKNUy\n",
              "0ZzQO+1rX5Hb8dsRHcitGqtQ9/oS9iQecrkg8us03KveGmDqqsH9HUgol8HNb2JopQAWGvDDLiSC\n",
              "2nyt5JDLVvIg87NGRyRefxc2wH7qXvvxORzaCQ33zp0wO+atgbKO3N6TPVO7GAcNPPQ8GuAdayP2\n",
              "qgHv1MgmtgQMnk+nzX2TVr62w4zg3X2ahz27WC3hOZXIT4YxGKGSgxvc//ZOnHOXAegcifXfvVmh\n",
              "TWlcx3mE269nMnFZQH02xueji7W8UXGciGTs/uXGacMzlI9OCVnLNGZ3x5pvc1u46L5Eo49T+mUk\n",
              "wCrGYn9jQTkkMhPhIhOIu8JA9wO/fWyZkUrcoAX/7QfFnAqGH0ItAd8M+dg2eVd+mo+acl6Z4vlM\n",
              "BJVq7YwPfygB95t+dXhShkCYhXIp9sktK0SWCtnyIOGCslYJT8MaMy2gLgvVcywRtLvMsQZge8IA\n",
              "obNz0D7HIcIy7OySAHD7Xt9TFwvSqr25HcO1t/4TYYEvX/OrF8+ohValkiw3Oj9gDGGwKdcVji9J\n",
              "IUtu5HBwOpRYYUESu2DxsoJkHYpn/ZtA+N6cFUYud0LZXzWytigKQ4nIx7OxXLrOkK37S8Cttglt\n",
              "A/EoH9hK+uf/sBt4LCzDBUw0CuUky4uRacTuq5WGBlzQG3Wux2KIR7Lq1jr05hK60b2Ot+6CNmN7\n",
              "R2ue6BaC+DkW0oMYKF0hYU+yy/XCWWP6Jml/JtyIS5xxLqGhs2c3LWLEv73nJyhChB+snHlaC4hu\n",
              "Sl9xlELYfLuEeyuExiaJ/YrzyBpczQ12NfJK8ptFacgWxmxFhO+YuE8jfwBSHJ3+IDK8qikX1FIT\n",
              "0N30TlYcZO77+z9aPD0tZYgdMUAC6jTzh3YHw+rtEMkCeqyJVyNqO/fv0wpar8eGsoTvxYSt8Mjw\n",
              "PMexe+/viK1gPpCGMMQSk/6OcX3V5wGUh3dUJnfGzkM8VYzNTnec+eQjzTJAC/BkffcNGZU+SByE\n",
              "wzGj8rsDPU2CFqlnN5UCw8pdf3iu8GmiN+5XtjdX5GazUsEmVpZddzKOF6fH3CM8sHeShg2z5U8w\n",
              "qhW57Vc8eZNYQrs/kfVXHkhm6A0TNKAKlJJ1HctK1soiZidApFpZFiGl7yqwa58PlNAfNd0S6gI9\n",
              "9uGyBrFBwRpMw/MMVa5irHrvbowwiobwqUpsjoMx+ySkh70G8VcKdzp2ljkr3X8AEBFzb6BXffH6\n",
              "zLL6A8gWfWt5ODl5I+JM5qgujRC03oGxzwwVhQU1JJnyaSyJ6rqhEDOmtydiZeV4orZS4LXXRVyL\n",
              "DoCcJnjnAatPm3acKXTJxUNLWj4nzq29Q3MJ1F/dPWB3l7YgplK01Z/J90NJkve2pG6iQMycoxmG\n",
              "f5JgoigC1wAABWBBmohJqEFomUwILf/+1qVQAADZcdjAFD3EQ2dK4XXUAQ+kAsK3q8Iq96h4xEGX\n",
              "Lfol7ZvrxdyFGQ+//VjSi91eLznwbsZZEuHRgacRxf1rOTxaQBIoPNxxcah2dgnuM/xLXRJofROY\n",
              "Bxte/SWGfw+nLf2yAcc/xHvxsHQJ86nNeUgXDBNV/zB0CGZnF7bjPM+cK80PzGSeubrM0g+rHQPG\n",
              "LRkg29Ddn0MakIVVW3txycea+SgOGtx11KksezTb2fJE7dY2aXdV9J1WwuZtaGysYhkwWhfAcpTX\n",
              "BsejUTwr3ilayk1zZK4GmWurkgAKGx1VrDE5sDBKcbdAMLhV7oeIW6j6myM/EWydClE9ebO87p6k\n",
              "ocuV8kMvLZVgwfd9pDcm2sl+BVLh4o/ePnOSH9fjMfRGp2pDVgFvvRJ6E7C42IVSQCvi0eiKQyuj\n",
              "4XXjGjeFMzxrTJpG4iHsf27g5CzfWBhYMS7UtiotUJlYvOSAtGh4lEoQyKA97PTmFX9Uk275PQsh\n",
              "UogS34wc1MSDed0UY2L3hg9JDZsJ29wvZwip65h4AXFrpIFMcP+BKtXCGmdt7zLcAbMwzhV6gB4j\n",
              "ycLXNw9I2kBe30vQ7Mn0eiGUyBD4vWfiwasy0m9G985fU9UAB2k6criAexbGRRRV7Gy8kfVYoNQG\n",
              "gl8f7kvCBHGtjh5d8CVCwJW7WCANM6qzyhm6qRcPIZVb0u6numk3jDs5zWCIPn/r8P+fAqtJ4tg6\n",
              "xS3259131VobI+4t7lAVCN4JpSIvKq3RyF0krmYE9j8MmSwYeZJ7rLtTUJogXZZeuqQ0nyWxAi1s\n",
              "6i9GRgPvrMaUI0z/LVUXCZU5WMUqBiR71JOobWrQ8v2QoouL/eLmU2UnmxSjnbGBBVZbvgB8PfzC\n",
              "S+hshXYBhvYzB13fdTSiROoLt0u7vRgb3BqkGaD3u3ZZ9WR1hI12oL2yX0JUAssDJWmg2LFSBan4\n",
              "J6bbx6D46ObDIEYCM2BVS6p0/+3B+KZqT5nlDWlykxrMNaw+IvDBW1btZmV3GrCUJmVUz6sDJcpo\n",
              "z5jNv5swqGPnADjAIMpC/2Wno6X3C2K3sg583mmRF/Qlgmkhz+X0cik5Ans9QxSUP01Labi9L7d0\n",
              "qZtM1tlFJWO1VPjQ41mqwepqPZH2GzxMebXQUH2FxyruWGDLvMAVeQ0eVQ2ZWZ6sjtaXy1Ou7N0A\n",
              "AvDzLQtg4PyT6Z7X94mTAzTRrgzzr/Dbzy/zZ+MBa6ppGwxbLvDpa1Ncye4TRiYITV9WVQGiiW3A\n",
              "eyGNQ4/KGWZIbuLl4e9JFfPSqmVhPz9pusLmXm1nhjdhn5oZCV7Kr5zp0ocQlw39PAHRjRFedSx1\n",
              "71YlJkXMcbEEeDTSYBkZBfgOclekVUxJT/DlOZ+C3z+iz7+hE4DdZUajgyM+RjKz6o6qPGcSH1yB\n",
              "dIphwibYkEZtuuIdfB4Nye5k51kpJ0lCaO8TdCpDjKBzzNZSWtOZOYYScqa12+RoGsDI127zl/Dp\n",
              "06Db2HlQFbnO4Do0N4SLKQ99LtdFsUrIFIa2diTYKpNLxIrF9GylLrVxPqsHzJhBsMrhyd5Z0Zf6\n",
              "34MNgpw5vilgo0R5GSgcLCCpOqoJeHnyFmTam5VDCnbUjEj6L6SB3Xwm8b3+/Kt7LmqwfVCtI53v\n",
              "rSulKRxO2VqoKuLQHU1G+TVkIi3/vekK/uSRNxEFdv433tVaTxz1KgPWuJhv1LM2FJWu/4rOYZGq\n",
              "lSSoD70ieBBQH/675GxCk/yOgk9pFWmzvFyxiKeP2cf6fkNqiiT2/m78QxlARIwYdskptf+4zLy9\n",
              "goAN5JpRUImS87oTQACTJexWGQAABZ9BnqZFESwU/wAAAwEsrWlapFRONX8OmceTR5iaDxuy8Kmk\n",
              "P71Wn4xL0kVsVKaGkcACXPqIW/LD8str0fqAAZ6lnD32DyldygC8BZiMLpw+VvyY++ndvykM59P+\n",
              "yqNQw0TBs4HrqTypB/6UvI/ZPEROLMGF8rS4WsNsdnS6miP+pWpHYA6iZr5bxLJAtUwoglB+e111\n",
              "V+ZfVmIpnbvecn0wuSexq1CAXuxNydTSzUjTjfT2HogzaEtg+SZuuY9xK82hTCLlq6yetHKqtUje\n",
              "ohhI0006JyQtRz1xu5knFG7E1yETBAliYBc40p6xSi2EUQj3xJ9C7myc4NGb+Cr/BeDdkus5F1Er\n",
              "ddGqCBxjLmylvr6Wr9D1rpkxfuVMjFfd6GYarOacFj6veTTpqhKPNUEc7lKQCPHHHi/QCKxz7U1b\n",
              "XxA5515lqwtIcGI9D1uvLSqlzEM2jNfhqm+UXJXYjbSUx1m+XQgE7PJvWwUmmPw0wPh0SWT4ilRm\n",
              "MCYwVPOULHsitkyKSp2k8cbyPjKRCAebQsO0kdCvT8m6D3bu/BLkaIXR2PsjsO/+RMlK7ZM5KDou\n",
              "cZi92JfWKl8n/Cst6+sE+binQOJ6Qczj9s/Uoqd9mWnQWYZRzfTCNbJ/+6xJpztDzYWb0zvnuXhH\n",
              "H76Q5OmHhKkJN58xTVnql92bKO4fEWaKFjB24v1tkdqpsOBoh0zqtEDEokPTzt/XMgfE/TqnswRr\n",
              "oCEkUGp5oCBELosYnRAYRE8uF+I+cEm1o+HSkcxEQI+LGC77J1aPz/vTR3rSaUCAiC/vhWUYiSw0\n",
              "JjdVtrTQO7jGNPvGx/PS22wrJ1nImrQzgvz5eXwDUnrJ4iuUuqnUfraLAgFGbbYec6Bww12LH2Yn\n",
              "LHJdGHnTqkRMRv39NQKnFsvUVwCDJ4pLFeaWf8kOUnJ4NzGUawT7dm99O5VjXVohHolNciyOIRuX\n",
              "QOq5nPuk7Ig4adUNrvxofNrjr+ndjeEDEAdq83e7s0R0f5K5mSFH95XBACYASci4Kql4zOCcSkTP\n",
              "dHpsmC/tUV4fTB/UloKc9FalKOzgsVURZH6ochEPtXE8/LDfYnwmmub2Q/jmgkyjEp2KVd6fLhFy\n",
              "GTHBm2VSVc/2rE6B5GW56Wfzk+OmO/E+AvNG/7Ej20Pa45pzbaHRyvqspuSzB3n9XOVpVmSC0UbT\n",
              "BGYcZGiTnhcMFKzm+bj2uABsiOrQBbLSks7sY25hHmS9GUpdWKLu9AhXnrATW4KgqUD7L1WwIQAL\n",
              "yirBqO7gb4jz1FT2ZxXiXY+8oXLGjvlYPd2yocLQhh9uadqipc8a8aixg3Vqjvm6ryNAnYoqLcR4\n",
              "BdQdPEDc2+YINySkxlgdAf7jaG59smdRAV0gVoJf+72j3H/HT+EOcocinJR/LE9PIR0ibh+rIO9S\n",
              "OBMfgKSQ95ToigIL0wCN0YobQ/QmdvStPGn/rzrMeyBqPcbMzCZxmiZmK035pOUygp8rRwu3YRje\n",
              "nBCn6jfzLAOf3HcIspUvuvj2FJhDXGYWIC5f6BJEFhK/Vfvk7U/YhN/EEZcKLr/IN7O1Ly4ewCrB\n",
              "azTdMCk60Ugiqh56ieKXcCYQgGjfDAD/vsGUG2OKhdok7fUfPcvf4HsMTC4EyOgyHftSr90IKTjp\n",
              "9jkglYwvGmQ1vwUUL0zljF4ZO6JeVZFm/Du7OU5anKBrfJrwKGeuJajelFdJt/8HsBWQcu9yTL8Y\n",
              "ZusmfeMvGzKQILFla5dhSVnRa52ahyF2VSJpTqOsOJwyS42tkITcL9+DbisfSjmZ9Pnbd4WzVlPP\n",
              "9SLalikFDWVCqGJSS0afiSEA751dSInb6TTCiVDKLNBSZRBq7TudESJe+qJQ0QH1nFauKlGyxJDz\n",
              "xJn3wZH2I8DWiO6IaqC08/Pb5R+Ygsav9cvya0McYNciy2BKwQAAAtABnsV0QS8AAAMDStyhQdY7\n",
              "zjxiLYHkE8yj+yTaA5wbw5dDabz2LqL1mUqtD9KRWEvB14DtXDnMKeuBkoYnaIQAAOzL61P+ZOG4\n",
              "8GaUxZE+u9xYBRifIkGf+mzLfUaNw2nNyB927IQ/g6+PnNF51//QjHPq2xGvRaN2FmS/vU21WI2c\n",
              "bcu/dH7/uPfoiu1VN2IEIT+pOeTkrukfTlzidCQNIu7ENFcJaONffpF23m3QRd7oEdk/dRX7j09I\n",
              "XkGqumq95izWZqCJkUMW1b+vLdRqj9bM9qTvVTNGjOPfLhGVkp8Q/7ILHLKY/FkTorVo9pV9+atw\n",
              "1Si9u/50iIdq6y0C1mcwxzPdyLEcmFFm8sGCkYUagrZab2e8xCn3arpRFV1fuNi9GlrIskHZlokW\n",
              "92rZIgzWEvUtUfg557fSVcC0uOqOMZ7x1PWT8rd/VwxVZVmTWqCfYGYA6pIb0BSqrV9rfpUj1O2x\n",
              "ElJ6QVEkMTDlZn7y28oMMJ0QpMWp1euzIFh8/fBVGDhvaQsgoCrb9LVv5i7WsIbCZ+Ue/dYJ6JvZ\n",
              "hemAk6jiqwrdutTUlV0vyMG1FgJyRi14XLlUSlFBNg+Ie3Nw7PqIpF5ANkCYBhBlpKpkVvhG62Ba\n",
              "yZRwwCnGVEc4W+lxG3X6D9UBbyEhmAmCi57nTn9+1JSUjzVvAbvCYEYuim78o2m0tew6pn8jaYK+\n",
              "783ysxZg6OByR+1cJ58nAU5yrhg6txcV+8ESP/L15AuWcGUWNhMWDdwvlBAGFJ0ioD+0TL/18gC5\n",
              "EjnNinB0gH7Rj9y29k4vyL12G5Lf4CsxFq2WEpVxjHmvTHwawDFAJnJcKISweIPkhuR7rsGn5SQf\n",
              "W/OT6bNaTvPAc/dYpKDk28ROOZTURFU5TkFlGgMKqPDoEcckKu4Vag/toDZhwYQv6EPt/A0dYs3g\n",
              "u0xuKRDixDK7w2tfvdJeBAglIV8AAAamAZ7HakEvAAADAzamTABh5b2YQG+9SFakYQT+dEhexbSu\n",
              "idmvKtb58UWDXfBRdzxPFU8QAbOoBBJ8fpy9iRLU5IPLrNNyr3hpg6qp0LCKupIQid4eUqIGdxCq\n",
              "2jKVzLRJ4QVEJ780nDIzFh0jqAXhr7jwWHxU/NCrkIOjt9wbdIjQVAYM3qs02N9rIoJoRDEOgBnp\n",
              "KpjO+bDotCVEB8xPsZ5JMRj+u5Hwsr5fo2deSBTHyhNk0X55A8BrljaiU1qUOCin8X0jhYYToza0\n",
              "fIB6IGamP7PxJjpTiwwZdgJWY2IwXC/gIlRqFsax8WGLUUPL3YYgX5SaXGyy+yFcvQZ78UykYIU4\n",
              "cWQ5EYMDrc+fyUf/todi+9maJ763ec/5EFr30hBBOqZTlKJm9jPSUl6PHh7t4iWv+2v24ZqRuD5c\n",
              "wxH8w2R3jLGxIO0Rm2rjNJJeRv7eDBEehmo05jrF3NMe7glWaYNOvzgqgOoWr8Ay7678Eq8+Z5A1\n",
              "9EWUIk1jaDg75LHVG8HYGIZT3+CMNnruutrVT/nQpZvagNSF4ugqkYIQxvMwY/JmjqSplcSq9JV3\n",
              "3Mmj16eJcjgWuiQTXmwQlqP50+R4V2QrcwsooWJ4K3r+lCSqpz5/6ibgOoJB13EqinKwIl8nPv3f\n",
              "YAJG0I01zJ3luoy4Pn59ays97//xdbskBSfmXaf4sib9pWmb+SSX71CbH9rMqsLkkOK9zFJ1aZyA\n",
              "tZP+4WiHuS5tcvAkIK6uxN/x3dsoB2U/15nUnaVMR645Zz6rJv7OP1WeGcjMHOY23GTYK+E7tMJT\n",
              "Lnu8mLAd7wlUeAIpYBDYedVzFkAnRMhX1GAuoG/zcf23N+hFcBcq2K9AaXRj5R6MYTT7GRKFCJuj\n",
              "1Tw1M4gUC1laG+spwziKcEl0Hm8L7T82nGpcO8atmaniIoUGhLJ1OZrF+YLy7DD4OS8ciNjDw0+7\n",
              "fDRMbq6wSsxytisblyHBDm4NaQ/dj22EsN/B4grmy/xphEDIzrW0S/nAouXmB7HFuKrgLOkxs9G8\n",
              "GR+SYlu2SfafqQaCp99dhRKZrKlzsW41vBqZhBGCU4gmbNVv13+BsimAr48uj7nYZeAR/e1H3vLz\n",
              "GEwVjO5ACyNKn8nbYRu9W6RNI5cARY5C1g7lVnlHt/NQ47Ob3KJ+p7ZJ2o2enuVPF0UEEVxOWaFG\n",
              "P3uwKTk6zg3QjsGeFfqK/uzUFkijq1G6+FLLqTGliJ3c6VuZRAQQ3k15x156REGXRkLDyzoHqMS7\n",
              "ICVlT/MV8Yu+ug++HXcu4DMVcYhC+SwaeEEBVOoDzqzk7p7zBaRn6P9xOV+8UxjqNcFvNjL74S5H\n",
              "2SZljYCTEVh/xd5ODPB2vp5CX5iArz+B+4R5EX912D9bG9EXbbHasKe0ErewrfbNXCJMSEZA0dGw\n",
              "Vjw49IJ0Z7gtfXHAm8tjCG2TjRZSIIKO+UWoVY2ispHsW++UOeTzQD2MJbTMnRLJk2hHGkUF6Ar4\n",
              "O7tVBd89xIXmMGOYlYbdpq8+c9d+nxcAI2aPeM4MaTRQ65KMk1EPXQiSjlWPmuOcwqvyFjxhdmBf\n",
              "NqorCdvW0ZpiSwBAJf1XUkSvZRbajhGFAZnUUFfqPyh5H4hH8H2veTj5Gbgm6Y5chX507KyQZV9q\n",
              "AGhLxN91FVZznAn2jauXYQCH/V5DX2Advw9M3boqlsvn7lw3b0SJsr+IN6hBdf6Piic9o3p2HXar\n",
              "06qPv+pwJMcoIvCscPF+MoqURfmwd/qzbzCW64kSO5vpgT1i2q4HP2K4yF2uZ35uNHDhn6IDLS+h\n",
              "CxvFXMRYpSEUXiO8t6OS6b69GTajCldV4vPZ6UPpVyApji1LwvJ2kxbRDgEu1zjvmLm72Vt5aB22\n",
              "xDBKI0blCQZSi1cr10yxl1TikpjID40akP8g4yIv6pfIS8tiz7NXZZLJBhsZR7r6mk0E+XHU+/NI\n",
              "NTlQuO0LQPckPwWgvtVW2IyrLBOFxC/O1imKtjdhGn7hV/zhI85OSMuLuNnWdm7VF6DCUnpmInpM\n",
              "mU0M1NV41fBzmr0Jov+RUse1DrkY49c37aePWCXcFLTbT5ZNp+y/AQVtRkM1DPGVT6TFJxq7sd4T\n",
              "J1CUekwW/aG607RrMjdJX72A5Rn77fx0un/8tP31YchTTDRrR2bBYc+0t2RnPg2Fpd37MsNev8j7\n",
              "1+Yfsan2wY12igPvutk5tk4X6xivK124c/OlED0HxpxH6w+uRGVg5kjXdzvJZHVUrg8H4dW1nJ06\n",
              "JKqYKyoFez1V3VyRIyBqwAAABaxBmslJqEFsmUwILf/+1qVQAADVfo5uTTVaS2xoLwu/nPwAuag4\n",
              "OqYcw4JWh1ci6Y64/19MjY6+FwcD8Rnl9Knw9t6XwVJxQpaGUo8UROrDLAjhS+DDUeE4xV4qK1EH\n",
              "2UynCbz1hiyUJBwZ0UWJCBdVb6SWzHlb1uYIt+PbjYrCgPkVXzTEVnCwyWsULUFZFh9NII6m3NxS\n",
              "8vaVGyiOfHqbTPcqxNNAOykQfULCYTGnnVqOtUkTCAeohh/zI/Lzlmj1myTkgZz32gFH6nwGhNK6\n",
              "sblq0+jX2xWsELutHXlXNwJbNO4UXjvZ2OdOMxmfkAsN8+d/cjNh+vsJEDnxCSK7OGVVe7pJO6UL\n",
              "zqNr21HnfqnoucH6IRSfcjcM2C2conP2rYq/K5TM5IphlwN1af5iXTQqHe7uq6SPtYMZCrxsc8N7\n",
              "wwUZvVv/W+nPl9b9CpYy0IY/dTwIjMRlVcSwhuXv7ViAv0VBIaz8QTSOGLUEsfP/K0I9kvpbGfTD\n",
              "iKVPB65VRmABkAsmavAf5Dz1eCI1aTH/+4jcWr5sBS014YjLkVIEOf9SqimKLn8KDu/gWihdn7n+\n",
              "ckoK46O4CrCoek25Z9TB7gndVc71ZmkO2SwAv2ER9GeUCOFJ/FjSXI2szpbq9TnJ1Aw4skf5uXct\n",
              "JAOUpQxpP0PzwkHFpNaEvhnFPQ0hUVZSnES5XiguZsf82jwK8+1JrcBl5lWPyhrUsI3IfmUVKVhy\n",
              "RF+RZo3hCCZBwlOHtUtakhBxgLcNH1oghdPHRPIpOwfmsrJU5BFhRzdYLRFt9FXCgTCXJL/nKd69\n",
              "3tVgj6mBvvKA9ceCNusqjDQ6+mkkUeSwSOSzAOgrY6bwoE/K8c/qtFIyRygt8I5bLcuWIfEgNAdo\n",
              "ebBiMEcsFeuWAUSHouLd9JNiQg8Sn5bFFjPP7UtNPPPOui2n4yA6G3aI1YyXeAVd+Vg6PI3Gwgz+\n",
              "gXGE+cbRmMV/j6j4ZgqibfV6cFPysTxrk07ODFIbn6A+0X10aeOg8LzjzdMLEdlDm7TJByd4f84H\n",
              "TOkzJD+lkB3CTE84HfmjbsXttqRSbaEn1mCszMraU6T3e73q/A97sJjnpVxvSZX05UqeGwVs+bLL\n",
              "GfMoA0cFgfd35OsVZ+d/ZYuiasqIgVBDkRbWcf3E1tc+1y0PEg/s09ZOjuX7cbzXIIg6aAMKnPGL\n",
              "oiUfeRPMBOFhzf3qURfqLgRbvHElsbxlGY/HxNrNdFwjy0jQDtdTGOvJlDNCO0MRd2w83yRcuLr+\n",
              "/PXn20+jSPgF5bKaCWVvymchg4VAlg2Ozb/cmcLxcywMDxucQ55UYjkAS9Z1AcPVoFWEj/jvYs+5\n",
              "o6GbQoPzv+jSK/KmIttiXkk2BilZ+XgjFTFhU69QRmNkWTcwrZgn5vlzmKHI9euta5xPLNQmFgII\n",
              "IrRjucbnoXwMXxXOJd9tVW+KQm3dpDS2Lm2vix9m1xM1ZhZRLK3DyWPW3z64er5//ZbUvXLr9LcY\n",
              "JeQxoVdcTdTx1EkR6Y2Zg8cbS4mNWCzoPIwi6F3GQnlOsHp9oQ/K9QBhS0enWph4dY8rPBhP4N20\n",
              "fq2wI36f42S18W3DKvQTeTfi+iKEg1MQKvuwIxtPQuj6HTR/vg8r2ZNUr6f52rDW/6zmmKS2fSMJ\n",
              "Aj5isKtEbTUCBPDgyg8aFzbZtxubjfhWj02pq6K6Ew8oGUtwkw8t/c1wWQ+JLXnPeTiyGza9vxcz\n",
              "GYEdpEphlnKswy5PkQ6+fwUqGMZ54N1jYlyx62i0aqbQzJkL2SkywrjB7Xvlo7b+qyz5SaJjHTJq\n",
              "gz2sm3E/qq09l5b5WteY7JlRzM3em1i/XM77cIMunzpqEW0r0OZvcTEh0wtleVcFh+WeJE5pEfqy\n",
              "WfqprfIwMdDnZIBAbYDQhkRNCr3cpmmJQNkKp8T8og0KC71/ADYjtFCFH8Kew04AAAn/QZrtSeEK\n",
              "UmUwILf//talUAANpvjX8gu8AJ5QSidoH/WV7oFoY4L2QEX1DhDPftvq3RcKyOSAl/Fg/IWe8yNK\n",
              "fOXi9ZlrAa9kTB2rK5lYu13QmkeOMclIUKMOHkWsUpUFMfwKbwyPiRaJSIETootuKjYGbEupEtu1\n",
              "A+hiQ9gRr2/U+hKNQgqh0guvTJQe0rUXXs/VfL+E4vj+V6f7iK0hCZWMhoQho50yulyMYprndy/n\n",
              "MaSRXHmZlECrQpOlAM1RZ9GH1GgXC8fWQrjtC5rtSIzumQDDF3UFjMLkh90cmd4mK5/RQbiNba9v\n",
              "buI9ZQjIPQC2Z9yIF3dcPM37/vYlhsJRo/o6IVCAjIvTyI27hNh4U7M76vywCJ9g968pIKIcpk55\n",
              "NOL/zD3IxoU1ijOvdmXT8HBJs41njBRA4zzCADNpmA3EHbIE7iYxKaRUmOrOQBVtT5fTNfTCumdZ\n",
              "FdjrJ/HjmfFMxAF7a8+fYn8Mua+NPCqIg5wL9PEHeSuv7MvMI13OmIbqqk1qzNurKtjPyUf11Df7\n",
              "cfnYuEKNS/ILESnp/aFgeXYggMkvxGbfbsGH/mRzIqiiIM6KVTp7PskG38HdCguF1rPGaKHY55df\n",
              "Wwv7jMGtu0F13mGYIHdAMdXk6gX4Z9FNi8ulzyBBfPwkWdLY5MtMzLbe4mUKPV/vKqQANm/B58Ge\n",
              "L7PDXLujdgtiPVZD1p6oCEsXOsq2rsmwTeiCbalHCBlalG+vVp+fAMFz0U6q2cu7CcPUOqSUJ/d/\n",
              "W6ChU75UigydCYqnsD312JE67kVFvJJhbzzThJ13fILxpQiUy5LI9O2NHLDSGsIGNR343TKoNQcT\n",
              "S4k5kNPbQFnMQnL1pHKx9aufK47b02Tb98HdEWMEXQ/OUxob5CC4OkLrSsySXnDFIsv0uH6eOYZQ\n",
              "+IVEbM5TDNAo4q4pLvq3hmnVROPwt3Cv9A2xhgmHm/vwSunYkfKD5ht9tgsq3//GF0J0DEbEnhJn\n",
              "k79EXGc1ApU+ofuaNQaaMMRswPOSKbhW6NwyDby6b2DaZit/QnYk9jpcBiW3GgdADRb4s4vqHUAj\n",
              "Frbq03cpwQxWl5G+kQef++/5com7mRiI/tP8Xg+WQG8wbk9OMgw/DQRw8NPUexDH1fihH14NmoMu\n",
              "lwcput1N89+4IuRe0DYlGrv4KAIU/WIPevDfvZvUMtAZkg8ROPhliY0jkJrCovbMhvBKQTuoTC0u\n",
              "w8Ke+oYPPLo5L/6v1+o0A6ooMd293d7+Cv4mEMPGqHZCLH+ykjHkNuFiddwFBKLX6pj53aC5SDSs\n",
              "nqj1eo7YH9jhqkbLhc6eTKei4W7wgrWtRWvUQMcYyd0q3E0f4/bOoJngxFbyCUlLSnDPD54z8L9k\n",
              "C8A0d2T/tQV68PTedjSWaHW6P/j5Vt+ZjQO6BWvmUaLFvjM1W75youxIjK0bCRhXGkD03gS5nclK\n",
              "4tZhNiT+g4Wr0zGnbHLm2X0T3HLpSJDEvCLR/vCwJILw8ZXo6o2IwAcdz5Ixlv10N7oCn/KhJhvs\n",
              "R4GS3tanAyDr2ssgRNBDt55UjiiF/iGJ+U3Ils5bntOlEvm2T/V3L7dpV/+mmSmZQnDRdip7ILXA\n",
              "Mr9UT7XQfceJtza5BpU7MGFt2aVT6WDvorQEcERJ9Qn8FxupSXrLNZZ4bJm0YIh83j+7Gy3quoqG\n",
              "kwLWmYHFl6jBPwv50sMVNZyg0rxlIoUGyrg8FzfDHmED8ylq2SUDVeCw8gu+CleAXdYn/lOOROFs\n",
              "EdbrpiiHomuMtNCr+tXNaTbSsjVTp+Ba6akk4Es7CB0Cwzzb6y4wzqXV3foIiPWYq9Ty6L39lyOb\n",
              "cDimQtRcEn53opio+Wd4VZqAJNiSqaYYXDKap3VMIA4VcSq+cUbPqkfJmbD6vfaChRmG42hUY7Re\n",
              "yLaMvafvQUIjG5fNkuUYFKAV6eA/2xVTSi7OdmVOu13+6unr3AOoKLJ0AgUZFDCg2JTF5ByghV7Y\n",
              "td02VIbta6na5uJsn5kS7QxrtvHaWhx5Ozx12GO2BzrIcMe+bL456iAMCgNgqrSFOJqRD/6nPcl0\n",
              "9InPUfEFMn2Zpvkpj4gEOFBKDNLmSAez3WthxuuT0tGLG9of/M/1H0u7JimL9DyAr/d9qi8xA50l\n",
              "EKbmL/R8nYFVFxtT7kyu0w1W5ap5ByjLOTAAsWXZSTHqJPQeXB7iCsPsiXr75OnzQCSY21jic8zo\n",
              "gO8L2g62N4D+ZEZUC/XPwO81Gfm8rq4gb85YF8MMKXHdi3fPC1hKbFAwwbGWtIdcIaFQvNdBhKnG\n",
              "deYHomnacQvgU510wHZObONRdJos/vDnzheIjROpe6HjexmAq2KNf4473KKJpJx+CvNVIbWNWDYA\n",
              "VkUGMG/2Fg0Fy46vmpc/nvJUO7DC28qWsM+ZpOXh2CybD788R1LRfygr0J4S+6W+kN8kJDU3nI1M\n",
              "hGKpAwA0RYKFRqACZ7zBMJCh3Uog9hhjRaW1eDseKI99AG63AAf7Wi3ULilLjlRQCgc5Uo51d82L\n",
              "14vFzt/o18g8q3puVwwh+RbDbP/v7HqeaXFMm4yMPOkd7F1vPHXrHlvgkxGj4BWFb1fkbUAiSAaF\n",
              "ONUdUwyjL3z1JmMy7ZDMMyEnbA/F2RKh7thIKoHPRgN3474K9QgZZM4TPKELZJgdZr2v6/JsF36i\n",
              "p+qZ624wc94Dfe/NsEzoYVw66YxffWhOkwnMIIhX4/shzP4A6NQ6ioSr1vFsPUaCICgdmQCkWMpX\n",
              "+ifwelDdUvHCWCL8s0r4os/HV7OUUWa8BB75oGFdo31lG6hPntGRHsc1DsZiIssS38na4hjDQbhg\n",
              "1egH5tduxiwNZDvK53Ha+h4+/2AqHmkmQWLpeM3z0NCsv/f2jGtsvLMirTK78PCTx3afAQZ6aiMg\n",
              "M9w6QMeFBam+gaTOAwIAs1YSf8O9yB+m6m1ytf0LhDxOHoFDnEN0/F1gAYztsI38FuaX/o3vZmQK\n",
              "I9w5xHD18q28HFB/lZ82SGCDX+BTsE7PHb+gf1uQX6T+vjtVAgTL+slY9V+FcWN/72cTgvrzrTDu\n",
              "LQmJYtUyDG2HA9nKmy+oHaMwFiu/xt7n7RdKf9R0LPVGEPfLloI1LwyXv2LsnafsTexuHRBRZfQg\n",
              "JJTSTKyLAooPw6qygjlUf6g+huIqWnDKOpxRDKy+cn66AWbZWlBme/K4sgTCtfBwJglT6/yetEUW\n",
              "uXaq2oGI4IvMm8ERynRJF+dL1gvGAWXsDw1sc1rK2AADkkFFEFDxJloKUrSycRfhx9my2uJR3o7K\n",
              "V9RVmPjZOSIaUhV8fqEnG+NEqgg2LKV0/cktcaQqpMj8287WyqtnVL+P0cBILDdGdCe1ZsO9mtui\n",
              "DRgjIwOBeEFGMRiPNhyBCG6p1dmqgAzNkh8yRDK8y2SnpGiBB/fEDs63wDxhAAAE1UGfC0U0TBT/\n",
              "AAASy9fKWYo3GG7anMp4fUj3UPmEACqn+x/kT/1LG2MU3kgkLPuFdnpn/nm44Z872Y+bREQ8thZ6\n",
              "eVRE8DVqpsVIvaktbjegMXcHOf10tmYYYk93LLwXE4a0lRCsL32T62ieZyH6euM+a5waVKuPEroJ\n",
              "IbUVW3hx3T0pCJ3h5SogUVkvCpm/xoibVfn1yX05kSNLY0K/4Ck/OKBicuvHx/cNXqYM0pkF64Lr\n",
              "ye0sK4v8Sm2uLu27uhTgrNzVmk861RjyrlZ8TIu+UKqaSWpCmyf+dXxNyxZmsU0bnJaZE8rCXXHO\n",
              "2++6T0rh2VKX4hCcmfSj+ScLnvKsKKXJuw/LmLzlJa/OKO8T5Vo7a4O1B//TSzRMNuv34oikU3De\n",
              "1aBHGrokHn8UfkFefWo6L3uuarCa8+czTiSHnTt61Pv/kQnUDn1vXmeMcrLi+YQk76oxReFrHbwW\n",
              "fLojDe9vyRhqsQ+rDTM1zsFV6czO2lzWMf4OZh2CDfWXkgivBOk0iMwqTPl2Uq/Qgo7PxciYFjqz\n",
              "pDHUozCre3rGkSQ1CP6xr98MDqCvxJSttCypd8l1HLtW02nlwiD5GBC8n6WADK6M9BbBRY38nylh\n",
              "dtO3vZRM2oT180pDeG1+wYHNPLl5LdmysKHYBjbdn8158ppyJp5wcIy34ISSBJh45ySYAGmOkj/z\n",
              "fw8bT8vPn0wdT6pVTKe0PM7NAGXrSvKdN8t8wi5grhkBbh8JYwWUduUCG7HVnv1Yo3qUxhGTbdnh\n",
              "BYtO8QZmAYfwkdy/did+cQy/5RRPqD/C9DIAYaH1PvvKURaQ7689VE5QIz9b4I3qY5It+mzPJgJC\n",
              "j6Y5reDTroNNzX4C3OWpk+ORY4QuetqsGG6L9R7pIwTt0HYbUkMhwJW6rvc/Lr2Sgf39kyLeFjS5\n",
              "+4MPhWj1MSe7X//2dBazYpcMGtceJ46GUrpwQ+lS2B35HSTpCob2d/6MM3bWhrlytqBqirU/AGbO\n",
              "4ihNHnyOPcsQOw1dRJ3qryS7TPyMOEqqapS8ejNImRERCAIa9c+X4xuQZ5XK5+rXzdKgpC5g8u5+\n",
              "pnW8Cac4JYtMKeL3lyIdROuARcHpH1O63KGnEttO6wOyFmwXRebZXS/vFoHy5mvFfP2dC1pHvkxp\n",
              "CyWnrXcYmEitTr40p4br168KeSmhZflysrAze0tpi6/e4gUDqCr5ojEQ7JBvCNWHiWQnKbo0Q7+t\n",
              "WkGt6PAxBQV6D/6nXi2pLmbGZ2I1meMXxaFw95AOm0ljIec5YevJgPlF/q4hFOv7zbR2oq6qPmgv\n",
              "UWxIw+yJx3xmQvRi4CeWfc37tsFA9X1lKvZmlHSTSqu9MNzaX9W/D/FQJ/pyT8ClxjczcSo6W+i/\n",
              "sPz7yDY1+RDUIdXUY85s6W+eAs9jNUlXlzwRwYAoNrvSWONq66Y/vryu5/2eIuBfQa9BCQmAK6O+\n",
              "WJHnNGRjeHNoY16/z951DxARZB2SZy7wzTtrJWnSYg8b4TimR4e18bVkMQvUzOmnzVazCXJu4Me5\n",
              "mhU9bzHAk3R1xAkiMB+jpbjFASQIO8sp/x+Xp4FWclQd3O/NRADmTI3sOFRIgNGZXol9ahLUMT6g\n",
              "GLKXyR0zKMoCg6P6FiYSDzO4lM53FDDb15ko5I+wGnAAAASkAZ8qdEEvAAADAzbcsfQP5sTX3TBz\n",
              "GZijsyZXv1iIxj60Hqs9RtA6Dkh6JKQUB7WCy0UGxGcH94HXORoZ0WuzZ+gfUS4QAlWQ1xyqiAQm\n",
              "SFPWHjow+H1nrJzq4vrDLmZ0qoDbC8+qQ+xcVRlYSxmgnrn0eEZ1ytCNSDuv0jvhiBQF2HlrwQIg\n",
              "0tGe9BOSq6QPzDzaSvd0g3gtvPxcAyQKhdYpVK26vhPRyM7/KqQANGLLxtOQqGy5a35xnUyK7Hs7\n",
              "xKnORGbk7944if5bSuXT6GOaGhGJRnt1yC1cLS7vt6IV0YqXF8Zir3aAm596lh1+UrdKoFvRQcQv\n",
              "zMk/kuvHRy/XR3UcKSlB7WrX12vDOku2aYxnZq6FRReVqedFnAxwQ5KVzvGg8VHrhStAh6S0dhWQ\n",
              "AQoHEstT25uWkQiMljaIXb/0g5r1q0cK2hIMwtuHjEmFP5IpQVa7+iFc9ACRqiV/Deqen/tAWWOB\n",
              "JbDCnn3FDRnU1u7qwL+i1ACOf0NZMZlYpiB+5sy6QU//fDYc4hkmQFsfsrNF/DIREMfa+gsrgl17\n",
              "x+uqCTQ6mMvRULUqZ6zGO2R0PFLurwmBNEIe8UfgTt9WIA2HxA8MeROyD4FaVbPe+wfx2E9XMt5O\n",
              "wOqnuEiM4Qj0xVWQ0HP/4TQbpkGruE+UinOXU1hncsMTpLcGwuqoVIcDNogJHfPhwVLeEewTJz5X\n",
              "CMH9Pr5QitNb68R0oSNIWRqgbHOiQHwBADqx/7aHRuQ6F869B8H732L5Y09TrXr119BPJ/UmlvrA\n",
              "tnIbX5ut0fsmHO7Xib/FU+rj28Drw21I2/S9jkrye5+YgoNZuIUye0Q/BBfy5rg+yFDUhOasGqn5\n",
              "Acaly1lc3t1snhTGDrG7QGEp9Ido7bmlL0TfKsgFBIFbG5R92ZJP3rMvLSF7xhvuqyM7hica6+OT\n",
              "XHTIhhmlGXS5sHZEToWcrgwlwlt1XtJAymjngcmRJM32kbheQ9/sts6YtWtkfuaQ6BsL1HxKxbqK\n",
              "sREAqbi6KcnYVm/hYxWOs94Iaj8VsnRlQw4qErr/cpfQuZ5JDGUHmP98b139yNeBuFzOzk7fzby1\n",
              "OgUkg6oezvKumHx/9fkM4UK3zGxACMlUJWpT9DQIg9wgrO4G+jcwtxUpbSjieMiZ4REIe4vr8MXS\n",
              "uK2FD5LhL0JWg6Mytov3Ndd+NpvZrb/e3vXfmjU3jRpfrd1SVkFBUxNbdcAYEVIY4tglbtqfabb6\n",
              "typkXos18J7VBfTi6TuH12TrLn6OA/7Tus/a2cmZvOVPWf/U5RwvTVZIsPYyt42TunQCsRaEF4r5\n",
              "z2/JnDOPN5DZWZsoPAvcXx3OW+hLMhNtuWmxhvUuK+nRcE8tujXwYsxRg0krMqqXQ9AcSy595qSn\n",
              "Pdpf0qVXxDtpNU2TCLe+YsAt1UxVOesIPq+EqJTdLXrEward75WP7cNG3NweYESe/Y4AvfClkgwP\n",
              "GY2NG6YKPHn9/91+GgsO36WqlMMt0D617wup78Cz27+alldiCQGU9kNDes9ZAgkwIMMvBOX1jP+W\n",
              "kZfxhh2hwYqGkt5KiJ7GyV0TD4UEeEF4CFGdAAAGXAGfLGpBLwAANKquqACdz/tu3lN3hZdIIW05\n",
              "oVMW8lDILkACt1mEj7PjLUBc9leF2ZuXTVXNY+e4MAUOzJJl1vpPfR6qEsTsoBJ80fjkOcke77qo\n",
              "r5ABnubXDwC//oPlbbqqqRm1NHnmZSR06Rg06rj0x0XvkdzeF8Rr/2NkqKDqxWDDTzqX3yUQlVC7\n",
              "OUt8/U+DI10C0ktfQaRALcxPpDj5f04lnq1Gitj3xwoDYH9nIpYRh5ooe+CVzjGjWNh3rvvAGw8C\n",
              "lhr7ACgvRKzAYj/Mp6wwCNG7/xMwyzZTsQ/kQuaqziR2aOCMGoIehL1ST2Z5d+oPJX48dD3XZudJ\n",
              "A04rjMbkk7uyKZ7/c1MGjCSiz9JAe9eLdnfyN2xHPzwCx/1qOWdt2ePL3kqlG3CDQKBnUQ3f9ILl\n",
              "sPLDRLAv7fkw5Trh3XI4OP8wig1wdyAz6jiUIEy74bG8qHdDfs4MEK/NOJLL6Vrvb7lm3vkblXpz\n",
              "6dS2sRNniSTBnG96VB2tiiShgIBXKGYt5Z/eEGyS5N3xGwpqxooAolT0S/tjcPaTAmh21GByBMC2\n",
              "kZjNIu25dTA4rStyelJDID7SJF78/3zoLKOPVsCoqrrx62ojygblG09CznHfiT+iIJgWvbASGEaJ\n",
              "ndfeUJKg5O2QKDDM1idTt5tABD/iXGRLl0KFpeXwKg1inAHPu5mGipGEckQKaNbqEXR3hmxPomgJ\n",
              "3FLoqnnZmpCe9InEKgOdiTvd8TXrhRfx0QB4kbLobZJA+dTreoszFDUXsOxqojPi+PEGtEu2F9Sm\n",
              "VplLYtjWDjUqArils8Q47ngtZhHTJ3RgEgjKsKNPy9ElWR7aVRifrJhGpSOutVB6n1h7W97uYZXV\n",
              "Rex7yHS7hXRARrsoP254toQ1DBn9JHGIT1li+YlQzKzEEHOe8ePLKot8oMQuyA51D5W5YYceyYs6\n",
              "P8qYABB8ZGPkBRZub/tu3ngQt8NwV7ptNz/d96+bNIrxXmoCaSbLYF3m6wBjXnE6Rx009Hko9DcC\n",
              "xUxABgJAPwI7xi9QG6JRQ/nJ5M08dF9/AEk59RqV4Lh0odBYB/Pb8qDU7Ltv8kKGlpXFQ2+FAUeD\n",
              "OrI4k7PHRceofrfAYqMOWxvz1PDvQUd99242wkjwra1XwiTWb9+7n+l56BR/7aeQEWmnvQ6rvT8l\n",
              "yNeOgqvwoYtvaztkzslMXdGv+HYvDs+o475iLeh8anV6Ro1Uzdo4IHW02sxG80S50cbKLMzKiUF3\n",
              "PpaYMCenuZcwrwBhqrXFi4xPnJMLESLABfNbE6B+DEJvWyzPSWcbwSNG2TLIcjv3h2x1hV3wv8ZI\n",
              "hJ9Mlwxi/9t+PbBp8hcxXSSOmvSG8vIfQMB+43Y6XBIfyJrH+uGYzuQ1vwXX97dDN50JrUGRPfHX\n",
              "/8jXPcNwAwpkwCinCt3PGENfDvaL/hL199YyaMnetcPXDdCbARaEqI9FJje9fQ5RuNyS3xSJzUYa\n",
              "FL1V68FC+lZcG8XMgJ+W0tdOX7lNW0oG+Lr/4ur6nkVFPxWMdApB9Q/jILnUi1NwYTHzt9nnLfSH\n",
              "HyYoZT9wzkRg12IFXURk5SU4BDXIcORsv8fhalOJyUDIbxKw/NvrXrIucU1pgJBVHb6U7jLR03/j\n",
              "OuM4HQPE5BPL2O0f52ubK/OFjgT/RzJqX6A3IxC17ZG62tcCJlCA8M6iXIG89q8291zjeZJ4HEK5\n",
              "HcLejzJbmFLRuexfhe7fhnWune2RqeMd+yOLY48QEo4OUjMsSV9dTzKvo1C4ZELmV+SSbTlVDMjy\n",
              "KSUT7GM/8B0EAk+OEjBnWO8fWISPSbpgVpWwS5NDxY65FsYVkSv92kf0M62Xea0EXbmy4QJna0N+\n",
              "x45LynNGRvtabrxgjNC+IMbCUgPa09B30Q2Xpwqq1EEoay0J8FgrDqgi7zNww/HphEYyjVfDk8GU\n",
              "hALR8lhWP03dnd4wgmWBXZan3sa5Ha1sNqJjwa0ckfqdTECASptnNp0Ob4/JGxESUwTGUu/3jcfI\n",
              "TeScUMWplBVKlkVegFop7UQngvJkocsDlPuHfQ7bFBEn43YsqMIzdy7+jXy4rC9+eLZbwUxXuQIP\n",
              "U/O9JjHJ886DODRVeD+zuxh5XGMtcInN35Q6LpW53u9BMENm/e4Kri6viB85I7gXQY2Tyis/36WL\n",
              "xlJ+QFNZAAAGbkGbMUmoQWiZTAgr//7WpVAADZcdUQC15Qb/f2xNtZ586GCko+x4Qc/tnezF6IKI\n",
              "1/YBUN2P2lnTav3u8ZITmuB25OFHZecRr2eImUgJDof3QFtAoNjwIArwkW9P/7Mby1xulJF7WtKo\n",
              "vemrtt2VyPMiLPr+PQ5928Duk9YD/HXQCArE2DAx5sCx5Ti4soLgZvkBHQ5r6Wit60LysYxfL19l\n",
              "2qwCy/o+TDzycj4jtQV5cYM6IJuLQ23KwhgGq5Iqb4SWFTpXFu9IctiG9bgXLkuDtHEDVYjFU7GU\n",
              "Cqt0ZHV+PV+/6ERn8st2Nv/RW7LR5bOAsJ1NUETEQaCKPgYGQuMXWE7d4ooVQK3ZKSOqaqWpSJmc\n",
              "cEE+cQI6+6DBZtjxW6mmGftJmfhLyBNuuf/pNdWQqzk1awA6/rFbUttefHGbCl2Y7wTVCmj5w+Sg\n",
              "mcTmXvu3OFdQOpa6TDVjSFiDdLF4YMYgNx2mATG0ZcIASx3zWdro7SLDmL2BrkN+eXpAZzO8KYKf\n",
              "2cMHDbharg/kuuNzDlkI7g3Tp4cIk6Hj2X2jtTCXiG5okT+fNCNgyyfizQJuvhUEc+kHgw7R5p+I\n",
              "JzrlSD+9cgf7dTWtLv8mXh+0ZkFozuvTCAelcCP15ZZubt43khtHkB1B3nkLPMHqiBPLfahY4s+o\n",
              "USLu0PRkEZbBLg4IfPHHcFOBDbUXcyudIuc6NobldFXvkH+fVHhCY+9TfeGe4jF91T/JnZiaaVNt\n",
              "WFr+9TrQEykvvglH7sgHrTxFvI05Mfnl1xIC4kV7A5NQD+fOVSN3v68YBlwN7I8iwJ8I3BUT59Sa\n",
              "P67EpahNBCkov+Mp/f1CY97/l97ZsipcRI2Bwf/3Wo346yKtaM1QnRnvQsZkpcsEa0dU9lWMwskT\n",
              "gEiFMgIODo2xEtfWn8cYmAvCVEgMucXXAEHxoJAmIStu/TlT58mbQ+P76cRbtvE7B5aRuyJhDoxJ\n",
              "8YvKdoWnPW2pbJbbNlRGbSHfFapFLb+k6vuW46nBK426JQLDXD2yApDUcAizCAVY3PkXZQNwXInF\n",
              "4lCxC4Ee9omk55SenVnd4jK4/ppKXugBSpRCe+z6Z0Sz4Bp7TdK0MhmtAcgEKJchvEKkyeQUZnA+\n",
              "AJ7g+QMnRZKsDJa7rgRktGSFuQfJCphkiVkrIsPZ1vpKPBTqbgzd/GrV7ubtL+b12VNpYakT2SLR\n",
              "eAamxnPzCSiGiwEGH3sLmJQcm4haj1AmgoOyRZGlHDvDYT8RR+A3HJim9RIiQbB+4+StNeXaGKA3\n",
              "Kn4imfxtcBJMskDmxFZvJFBKHLiOaXnR+pT865c6vtSmRiFkVxbIP+njHjoHXd/aBUTSH3rklKqy\n",
              "BnHro4D75ysF9BW6N3e3c0lqb9uePuY0zNTLMtvl5PjPkioA6iL9+LH+FGoCMEfyQDJyAzf1F8WW\n",
              "E5T6xfdMslxBWbP/2tm7OQ0z90fo1w3DuVPRbHNGw3u2XFnzhXoxaSRm22fms6OmctNpdmu7UVmm\n",
              "wDFuKUa1YkgRcRRCiRVCQIVVRhYugAWwZPJadMEZNmmGpuofjzQ4dBEOgK0n/yP8YUiYoFjARjGI\n",
              "o1CQqfHv9Wo2AAbbhvdiK0wHeCcJtvAJa0gQqGV+C8TXhnNRKlnOpFoZRbWT/zLyuscU8pD5dGs1\n",
              "cNcuqabNI0UFz6jNFj4SVKZrXhniqtBCp/JHeuK1ddwkVqpzAAaUujtFiGkQvq3589Q2UMEofG7l\n",
              "vjUpuCnV+t6A/yT/3hwnnhTu9vpGPjJGZalVAwCp/nuK+VRXvafn12d5QejDlFISoW1+x3mwUR4a\n",
              "hxBL0TdhhsQd8YLicLbHDIHUGbClQ1oKC5J8yHabYJg5z5FY63IZA0fJO+K8D35WubieXlR6PI05\n",
              "R1e2AGAJGh0pcWXubrqo4xZOgqtIOAte3iCvu/zV8+mXQzq0HmLD3OfHZWHkkc00h2iFxU2O0pYH\n",
              "PJJFU/UDuC1Ol6CazXgxIPLZZa0PDYpt1VLcWrm9xOZVhQeOO3ej0XVOej7DmL5txXLvyUud7F50\n",
              "nC25ahj56Xgbg955obcL9e4SJoU1HccuPCkupeRfVzNSmwN/EaXw73L5GGOLdtalqju1RpW0hShB\n",
              "WjzJRRmZh4AFB15Xr04XnR+8W3/9PSFNE0mCwWqV9RLroYll2wTFeiBp7kTLNDtX0m+VHlu5gpbM\n",
              "cAStAAAIE0GfT0URLBT/AAASytb+rEYoHWaUAmCf+FqAAOUk8ejTkXEX4M9JL6hBe5QldygY1HKJ\n",
              "Bjso8PjP7bVpXtN60lHrD4b2mBmQch3L3BNFZcuyXC9o/5cfsHHArULhiaN3pC5M8KU7H/tRynW1\n",
              "/t0jY7wGV+NKhO+uH2RGEAsMu/bzOrQb/wRC0MQOVoFq+hjQFMIgZE73q3CBpimPhmH8duUjpvKs\n",
              "dMiLF7idP2UfncO5DyiSgs2bfmRtxGC9kOj9rRVBolgKpM8YMDQoy015IXlMk/GgjxUc5Sbb0KTg\n",
              "VlLvlCJegLl6ALl2V3KFK7bDGJ5XtQR9grTBO/9tlwMoShbhyJSVgdSOZd81RI5vqIXcf+FgmUE+\n",
              "cjFK+rMIpQIG/rE3eldRCujm/nFsPsuHf3ZWDUZVv64xQp46LpcEiETlic1LmbeLGWwet77Fgtks\n",
              "+i8sPpaEfl6kw1KOg7czdBwPCFh4XVz115aDfJAxr1cv1BrhBKTz3UPqmGzWD6cfqNGRtnv1RQBg\n",
              "Ixs+ee+gf9Hgc/uGfqohTqd/pa+9DHG/FKPfKK8dzhcDSlp/jLlxRvK5dJUc7qeJCXiMlIjaXazo\n",
              "LkUcQLYd+SL1Slsqf9dmvs9QKVN4hreebk0QwOcNHBpzmYsy2ZdMlsOJciVY6kAvvoEueV7Kpk/w\n",
              "MlgRNnQxv/UcmtnAlnkEHZUtXdUQRvKlBiF2XohY5qpWls/JMEuICwaegZHXgXQiTkmR90EZiE/Z\n",
              "3x08Bj23GmFap8pE0MQUHdzWPXR+U6vF/+i5U6u+qK+rnWFSD9I4tw4YQm3IXKpnzoin1HrXd31q\n",
              "l+xkprd1zOCCJpEiExdD8p9wcVB+uF5HnRdsONFue5Wf4DT1b19iTlaPT9hjRpWcWoEYJjsJhkvA\n",
              "142/d6t5GYFuwWz26/DLY/0ZaniMN2/P3iK4PDU+j26ILa/NxdgZ1ZG7TFsohet/T3/3aypgWKQm\n",
              "W/R5MAyCc8xnLPp8ziWkb9vmmbchkWPAd14296xxyGrucVBDDKNJrEwzu+URS6QBlgrXyBZaVGBQ\n",
              "kDkacs+zNJiYE/6nK/2rd5AoNiaZwKqd5ENGVFKkOysQCMFUsVTtAPbqHA3Pl0bzU+n/NGtQSiIs\n",
              "FL/eS70orRtDvo2GXZn2xGlmDgYrbRsPv7mt0OnnwyoZu07r+thEH1ug26U3pIRXWVXN2LK5QMYm\n",
              "M5blgzPvHX7R+V5q02LSYEzryTH95rJLcvOqmvTAXsOWOAmj5qaUL5nbW77FzbGxO5zAbE9iMFe5\n",
              "DyIhPjjpY7LZ9+hGfTYN/ydaj5oyDPW5b1EP8IbZIAA5DV9u4qxG/Rp9oixFgjVoCsxHh3AoQ1dO\n",
              "fmKFhtvH9Uqk2g1lmCqkJBA9k0Kaq7AWKLX86qIkYBQ60lUS0B/5f8NAnwlVJbgUw0/7aoZLKy9K\n",
              "ZZkfflMY3PBX7BjfCKROaZK+926JmY0vGrygVsvDwQ3F1bT52w1zxuCpuTYgH2M87ohoaOtGyZcm\n",
              "wT1vw+wwoB6g36fGnTGFIsIYLW0dOYyToWBx5wbPfCeStsovBb2Aey9OOnMKVlUAinOXg8pXDKGC\n",
              "X5iUrfABdLJjlod3385ZZIdZNAVhvR1+thhQusaD+IC+fUD+/C3FormGXL1Cz5RHYqZu/6cffnvp\n",
              "MlKmegvQk3zwiiwragMYE82vwxeGvoZhlJNy5E6GLdVj6yNiCJQoGQXlu4D4c+cyCqKBCvWwJlWr\n",
              "USX77Q6+gp4+VTMkmITAllyzEv56s5ubijW/mNOVD93IqGBsOtrJJOQEAC9q+fRl0A0V6b4IhACH\n",
              "2kmYjWh8M9AZaKiawuBk/UEOJ6snHdRWrtuKDNUTns1AQ6+fWbURDFQzyad/w6s/qIAmwhHHTzcP\n",
              "CQVYPOicROoLT4qtuxU7jgLP6MMlpDipQn3j20OCpo52kce5/C20am5QNgQB3vQYz+Kg1S4MxcA1\n",
              "7gyapBPnSCiJNVSvMYeouIGBvJhLpoVbMvQZDFSfUZScRLc5ocf/H+HS18/hA2wchBS24wSVwTf2\n",
              "GY/SN5Cudcd09qoaMLMABPqeL9DgDQumhIzQYz5BBsDShtY3uw0zdUbKrMrTHJUR/g94F3Xs2gFD\n",
              "mN/bzcPrUJi0D5czSf5Le9rn7d64rVssxJ7hVTblNvckNqlbmqnsb8+eobKGF11t4hktJ/io9D8Y\n",
              "qyRo0G1NAlnrL2ltMXcSgu1YlVtGckjnsnS/iXRem9SQFswWnoPlOYLgVjkhpqPsj1hIdUKfMYKD\n",
              "xNEfh6vrb8HPmsBjFrQXURidzLQ6uNvhff1vQXhluIE69zts1E09qWxNruffdXLLtRyA8yBJFsni\n",
              "JafZiTRuOYCdobSZljxFRtgvBtNYAbr4voBSZ8CeQOE13FwGDg9W4CfmYTEaXUduLme6gnfSXb7X\n",
              "dUvTciX/+y/wCfcO+6RTBJsFRN/cAThMe/9F6505M7d+MbNTSxhDGGYxArJuybWYVD/VEzag14Il\n",
              "S5+qnQqWkRPkXMFIVlFGLpPlh0oBuD7xtBmgP1na7rKjJPU0rjxq/WzoWJM7lBe4SuY7yJufYNox\n",
              "Zn7QeUYx/L8uhgW/GMapcvbWFl9u3JSY4moK3mW5vXHVRL1bM4JOACCMxpU2HqgfJ/aTrvR2P+a/\n",
              "BEKj9Fjxw19wLiBkNZYMv78WjqAAsDMhIPD1FggT7MbT4iqr24ql9p7pzsTVni8H1QX44PoMq47a\n",
              "W99T8oXVcKSGP8pfZMut47ttcoC2gQAABdoBn250QS8AADSrGPegyt818LwgAfoTkgtSdLM+c07y\n",
              "yWn/saVRYFzNt3+JEX9dYeeKmivivGj2qse8uQkibtEX1xdpqNwgtggeDv+YTnjcQAcEfGFW+5ca\n",
              "mxJ+8WinONc/L6FaN6JU3g022HNfTcAnn6H1xdpAoSKiwzIQxzw+nG6H/63Ofeim8EdUXg6MWvbr\n",
              "RDhy99XjdFy/Nd3uuS7DV6M3f04qDYWrJwhs6EathrFs2DMvzCcHv8M8+NFIfdmlvsZw3eEWtQCI\n",
              "Dw5synnyj0uOP9FdwP7mNHsZEUkPdYxZgJ3DRlJV49jitdAZN7eCeAcf5DTInaC+xNm4rdJYDVin\n",
              "4KFpFnwIkJyAY/P9H3V4eJshZuK3RZAFDX1RHBNjjRd5o2ASQVTE/EErdxSoisnyJ9XDlMuY787a\n",
              "1kU+lDzfGplwSwTe0OBJYOih2/0eWfy4cq55bliCqOWJPYoM0VVD1u1GhhKcdyI4sg47qs7QlFDg\n",
              "zhierxIWX3F7M3C2k+b3RXzg2x5ah2Wusc/e9sBYvO7GO7OwwvMZxyOjFBgSVjwz/7qLQASJMjHH\n",
              "1x/TMbRxnDwL0K5pxZU9SerPPKYdv02U7zO4wCtzZLjhHxG2XL09fvT+S8Cgn8QOe0j/BUMTBgfH\n",
              "4sDEtexAYy5E1ChUfHMJ+YGHXP1Dj2e7l/OfhsSQGIEIS9fT4lHHXK8OHMay+JR5elzvuJlsc9IJ\n",
              "2FbJHzsUmpz54Y27R49bO+6ynmiC+tIjNn8wLyDv792Y+xEHwPtVVZqjKHAxleI8YkB2aMxIW5yi\n",
              "vGC+okIZQ0dkqMFf4KqeaQjvKBpL5v597v/I+kHkPrzsX8kZ4UUk3BR8AuemMERP8aOFf0hp+5cc\n",
              "ei8RNdYKnkCmz1OW6NK3xr4tkXKzp+WdlbkESRY7AI/K122pUH1UMkFZbkRo3tqZjq9W3o1RFj7S\n",
              "6mP6iZUCPevrgLTNd0MqxWGBqYZctBq17Y04TX9CcYdbfBIabamSMUYn5Lo73R7S0n+KCF/2Mr4k\n",
              "agFoHOdMWD6sz/wGeEE7wVJHBrDeU/F6biM+dLYumMTXB1fqUVUbYwo126soSf1ze5GVSN4iPM57\n",
              "h13va2sCt0Fz6b7BL9P8fj8AllJNMYraZBWCNRUJXr2V8V1ri7sq9FX11GzsdN6v50D9RgAcN86Q\n",
              "ywK9SGiJ9/QeUa0O2APHpG3RROFNzjaXhi2gX07XnQlyc6whOGB6EbV108XmoWtzEXVFjWZEQ1Dc\n",
              "vLV1ftM7JRw4QNP/decmrAF74Avq/ghIGyGWLiaIFz0wWcX5mkxRArCo1pIw3bqm1m2CGLwFjvHn\n",
              "863GVHKFhDee5dcKbgX28YqZMLVgxK1Gif/A3u/soMO2SwLQFpbQ+/27U+oWy6owsnyKxJARhQe+\n",
              "PhP26mVul1BYo0bNZAFQmDoJ2faKbHn2RojVnrAJ4sMadpsMEcvd2r2PXixOkmdAZSvFHl3ka96W\n",
              "kSBQYEfWy4JufogYCcoVZSNSK0PK1lxT0/isCs86QnLQtbuRNu1YiAwfKu/81oDfHukWC5YmDnPj\n",
              "AMWlSHg3XXhxJ/1TuLuQJ/Im4eFyyxh8RMd4ddMSjjFCa8B1B2DjRlSZciovU5BUmj5wtlCoeVvr\n",
              "iUnuB2Ic6hs0VXk9kP3Ejc3x2iQMvdZBnvaomXrOCVAC69GFMN8UNsvd0I3xj84ORk3Qezn24NO2\n",
              "vB79/G8ab5o2m0D+anZ/QH0zhw/kmCOII/wgawvW2hyfhIjsOf+1dq934dGC5P91CFOYt0cRUcab\n",
              "gKAvgLXEiuvzDsQx7S1d4z8QS+jWA56YFJ9vi7oSctNOJnYVd8EmBmEGVq6lbJ14yzrUZeBi3ENC\n",
              "PQ9QfZuBx/9F2jvkbnjTFDlOjku20QEN1CVkrS1pFD35x0rUPZLm1w5wahLgH2ADi1u//DnW8M3m\n",
              "xFmGsqlgIgpZcHfXggvN4GTWv/vphmz2L59W2v4S1QTwN2L6pJwzGJ7QAAAI6gGfcGpBLwAAJKGB\n",
              "0vCP51FK7AAmdbkgvHTLYtb6LHPCFMWrMLRYYoizpkHEDQhK6dYF+e+XLfRFtTJ8LJRQWOHvsran\n",
              "rmHOhDPz3d0aI+n2FL9s+iWfBdqwKOFDwLL5x926YjGc2k3cplscFZYQaCUujvmibqwRK//5oXOu\n",
              "lT02oVVM8Anh6KCU/rzgEBzjuQH3NuNmqRAUqtJUGdQwqiezQq7ghZpwa5Pomv+xu/dmvjGWRh+2\n",
              "jWLpIuI7OuvaHReKHqPLDd/ZKtVHffpv8gYGZj9LYTlntPNTUSP2imoh/yrIZuFMw8Mk8g/Xu8d4\n",
              "gnc0LS3CD7oYpYDGkBgA0O2qyVZ7LIXA8rJE3EtH3MUofRLvekiNayZ5z1P/erImP7wmmB3B23p/\n",
              "F5Lf0H8GD+ZSp9Q8xUMPeZLSHxzNlGZoWmM5dyees8zsqrc4RwBnIZhh0T4brwhK3rQZN9o4bdGn\n",
              "cmM/BaLe9Aekk8dAV6Ytm5Nbq//53PzH66HBEZumqMyfs+HuASGMFO0GCKQ+B/RGPo8yiS4X+UwF\n",
              "l2V+7BSbocogUSQ2PIVtiot/tVEYaiaAIE4+m4xwaOey1oqlwM8tiCAA8R2P5PKLq4YIwx5IVfii\n",
              "bydUjEXCGACaeIp+N7CNsx+SGFqw9vhG/MayyCNzAwIHsNRJsFSYOjSD6hUFGil7n3qYezleTzcE\n",
              "LS22KGVjue2D8C+fzUEBJcI2my2lDoPVJILRObaWzXW5dn9slsfImHQOnWv3M6YjbEhRZZOAx00M\n",
              "y4/y0sNtx1fbZGq/d02YpXzlOA1xQYHd0ySkl8M1T+hDM6SNcyP2uWfYM/4yPEII82b/oMYTKdqK\n",
              "pC2jax8rL2QfcQCVSgpFsaz3kHmcRv1DBUAZzHsKCBk5+LlFzIiFeq2bERZL2uJ1jWuVeWPHFsKb\n",
              "GignnmAd+0zylkuyczHUI7ZF9XXXzEZZZ/ydx39BUuEOF5+7pf1bxzZ2KkMAa6YWtqaNt7xwLR0C\n",
              "+v8R8+VFH+nOJ/fpco5yO7TupGiA6vMPT7w8PmTIyfGFGBA5aipSLw5i4l3H7AzBBA9C+MftY6NM\n",
              "oS0Sw/GHf+j1dudsDsIy+tZabkKtwq5hG+Q97PQcNEg5z6Pj7qMvfT35ObomXnno4LiOP5LWT+NG\n",
              "sznBUhRdc8h7+shnna++6x18dObOFQitxacfcrecQPH8UB/59q++7oee0SggjA1pRIsH/unWwI6K\n",
              "YKzJSFEw4+93mV+vXrsDTy3jFWXBucx9ydcglw81dvzhkaevz7HA/G53QBnRvLLamaVtYjx6Vdav\n",
              "AXhjfjc6XQvEw/kRGwkeSXsY/JxXpIHNwisNvvGEMqO1so/V8HTWlfKxK1oaT6h/mxzO935cbNWi\n",
              "4fS9UfE3KcHldqn9JV4dW0J5Kmtq41frrOwqoqDVm/obwAfbf3yCW0+Yxp/DBPxlBz3GLOh+VeMT\n",
              "cKRx6kJ5Le5oTEpsnvWh1CHLdzUSyjPoKAvNOfWYMt3auaSK7/0w/LRKE3uCgo+Eae2Azmpo+s96\n",
              "kIFt274IfLkHyQ5FQBPvCh1WNaYRDqTfXUCr6EmmOmpIqmQzT4G64L3f7/kAcwAWepgUZuba05vO\n",
              "X/UlPI0cUza8MlMKK2ZQQMJkaT0y4aOuOys+Tyfo3+dgRU8z6b9JY4Z1AeasHG4FToRSEykvgjRM\n",
              "wNM/Zisxg/cjs7QnwLCUB358DWLNzlSbiDaxFK+mlWDcgTftHX1B5lq6hWnv/ZUyDAAhG84lHGxR\n",
              "ZFvdK9kjmL99yRku1Lt2HoBV1aq3t+eXx86q7HTtqZrU30/k7CffvT4VuwzB29QvPjS1pddp9tt8\n",
              "dO9zBt5f8j6T0N5uon9kYiV+DisKmDGr+d8AAfiFKqI2Cbkv1qkBr4H1Ipe3Zbwcl6AxYps1DBLQ\n",
              "m3bfg7Zv7oNT/aEKeOa/wk+vQR4XuEbFeDAEc50OmTwV0LrN+L2AiSfM9gH7TR/jcuxqFqi2Cm22\n",
              "aIcsZOULrj9uaB48PzO3IK8yCLJjrcmvVBnArZUOeGtvdt2nEAAYprjyQ26xPNFrN7YUYoYihXwo\n",
              "id1Zuckr/B9AE3F9h1hJ7vFf+ODeJ+U7IFMTm3ePWW99eZ1rekyRKpEQP7vajvCjh8MDJeO8Y4Li\n",
              "YpMGWnC9QCKhLWr9bgTG9YjNaE54FdJN66q90zi7KO743mmZLZ0VhqcNhZfWSYL/wnkyqFELileC\n",
              "PH7OIy7t5yuwc8RWbGzo0ZUd1eoQOJftcaSAe+jcHHdzm7h1ZYs+Ng1tQ61SQTBXD6seZcuV/8RZ\n",
              "VCXQCNuv/vr2qH4YjFxUzIca5+ty5LY/uu/UJJQ2ptj0EqdNKM1JL0mlO9SyCvRekwgwV1GaWV8B\n",
              "BI3lO1MNP6o3E8zfrZt9Ag+Xmk6ksk018QJz5Om/hsPBc/H1Xpwg4Utlg23oXeji8ZBWz3C8r0I5\n",
              "PDATx6IFlZWOPpVQ86FUJtMfntwnv73Nhh/JXX3TOsVfr0zH3tmpJvQVn4oTGEBT9klbQpgPtQD6\n",
              "l5ZodovSUy72yEgia6vpKVh3GMP/6PG0AZ6andSc/Udu2i4OuAgSoEbl5iYqOGCOfB7esawhz8ok\n",
              "OQZ79STxI8oUsLzBo4XSSMIKSYqmd/46FKo5w7JxtFJUlU+bOnjOg3u1vAlj1RSaVkmA5/Aeehg8\n",
              "rl/Olo85B/23SJBzvOfsvfN18xupgKsSlG4lS5uCGrSUo3s2mT+y4n/RRrIY8e0I294jpt5AYhMP\n",
              "OWVxNDxpM7/CxGda8vR7BnQ17LmocrqOKFQeZUws5bLwPkfLYAN1j5ft8sWpASj9bWxA7XrFyC6y\n",
              "/zZS96ii1JFuacjSqb6BcJNSq6X2CWrFxl+qmeQZjUC6IozoKw0bD5gnsciIY9+Yq5G9AGARF29Q\n",
              "C33ABjXRAStoO1Ij17+vL2Rmu+hQEn7ywZL5Gz9FmNy0fToA1FgYUieCCs4VgtqHFT3G0mq62el4\n",
              "q7kqTQ3N6eHLWBJEyvsVfIGfpR1LqVwhI/rmR9Ya2luZ6AHuZx8muXUKCk2yoIhYAAADIEGbckmo\n",
              "QWyZTAgr//7WpVAACE/jLFpEn9KbD//4XHOQAXbwd+05+f1B5hgAo9S1AjzbR7YXpnLcYDGcMU/v\n",
              "cFo9q24vH0OTk0hEey2QbeF/quIY3X8W7P3SAIitc46iYd5PCp0qpV9ioBS7+2rx6FhVNh5u4a3G\n",
              "Vg66Iru6T1tZ6seyjeZvitlth90X+Fh5rPpb3nGB/4Wf/59yfU+vmVN4fSyo3SB7iW+Tf1bJjTB0\n",
              "uV3Gl5PX4qTd6rzRGX/6/l9Mz1HcTphbb9TC0JYu4zjzN3av81+YVI03n/cwyFL4PQIoeAghkzMj\n",
              "B5PxLfZ3FCtrKwedlYWYFq67lXugU5WavsfJqp9PrHxhS87khAuh0Og61xULerjRjnJYB4bPP27S\n",
              "2kXZbJXTWXeP99CjvOEgIiC0Jdxpj2SE6j9fkCFK1FbOZn9SUHRwQOnMpMGmQPRLkFGaNp1dFXAA\n",
              "M/aw0hpZbdJsQV31wVPNvzzKP0lJSXlw34cejMhKd/hulLusIOLslM0Isbvbeg3fCjFEmyaJrD0Z\n",
              "KEtz04RrAMo+/2g8eKk3IxmM19kZAxXkvkQ1znyOFjf4qSB/xsUbeqptXdGt2a0Omrw8XP+N4aeu\n",
              "Pfd8erzh2i3w/8p2XgR3zDj3OKZuyvszYHSeDzfSnKrTTQ5/HBHpKnpW526AatydUugGvHCWh6im\n",
              "e8fLHwS0f5W1Spn8qRy3fqHpxylj4o4fFj99wmlF8ygqpNAFpJZSwvbhdXhRZ/+IYsbnRR351i6/\n",
              "YsjLJff6Msfo88nQew+/OCEN52aQhlyO5hq8PqWLuv9klfL7hn9qG3H7v80AWcHb4+BpamPW5B09\n",
              "0hQ44oT2MtrlaislgCHCNWbVAxgmDkF2PGbqrjVO4IbqsXq4AZNNg4LljH3NvLKG5oGU7BQqavnL\n",
              "QLBxDj3A102mjwdx6Xy+hl58aSq0hz/gZAgTy6x/37EmkpLqX8XC3s9fpweEOXCrEBbkefEK2H3n\n",
              "FFanCsJTF/vGxmGEyQCCvfGHoJNx9qahJTK7su/tFx8YNP8z/2/JIijIXwB0z9ZvoaQlTYe9AAAA\n",
              "s0Gbk0nhClJlMCC3//7WpVAAB3/4rDFvHNYsMj13w+hCGMvj/gxZ2mmV72xd9ZZwAEK5rMvG1bZy\n",
              "n4NiZBzVKpV76ah0W3/ESZKKwTGNR+delwHbjzZzCDNcei/I5Ad3JxJBTGx7lcCCW9qskPweL3gG\n",
              "7CS3wg2YplR7q+Fp9v1suACPxGgtvegEEEDzznJhrqXRt3fMFd2njmkMqg6zlU0SN8Eho8aIKRfl\n",
              "GSRH54yLV8pYAAAJkEGbtUnhDomUwU0TBb/+1qVQAAZ7ABcns4mHFOVIPcKoDo5UJAAADBpKcBit\n",
              "HrTSJU/BdKwl4h9OVOrhYtrwPsIMmCAWASq9fKdz7ajyvFC5wViO9Rg9MwD/uk6A7wTgBD6rjCp3\n",
              "Yvp6fY1Q4A007R/8DVOkgEph7vfCFhh9RFK08pksBbRVQydRWXKBhRJ4o8bf9z6t8YpkDVraO2lR\n",
              "1Zbby7FvVbDV1v4UZoMan/wQP3GOr8BAW1Xnk57mI2T2hNtCBzK9XTUwstukRaqmf8c7VWVrEt/Z\n",
              "uf3p09UMOB4eFut6h/0i12sK0aYWr40xVEKon+Np8PjrhitF8MSieq/WHYdRxuA+nvI4+qf8HSD6\n",
              "jP8MWMLRFj+HbVywZ78aBuIiRrb+WxektmmqW3PTYrqzcU1dKF2JKZP7/YOxN5unt38w0VrW+Iwk\n",
              "b2repYWlLIpDXvdfp+EhQHKDI7fkUk1iTJx41ATDjTPxPoiOwkOcCJ3akMlhankKm6KuWVUCsKnq\n",
              "LVpkq1/taVxgzyWLbCPyw9D1YZseo5q4V8Cmm57xnaxowanprn9uUdCYAb7rTdEy5ijC77VSQI3F\n",
              "y0UOam2Rca5FDk8xsucnN/D7/xgaKKsbP9oQCbLqIrzbEjEG3F6SDNCwlQQ/4FCQaTjFDmy4sIff\n",
              "eJlFdtwRAec5ZBl45+QZpai/pot92OR1bS9OcSVA6Geilo2PBVWjc2MAeudRnMgs0I1gWUHsD3D+\n",
              "8iG9n15GZCAXZEj2MJbIAW6YQL2OVY1iEObEGlb8hw5JxLeo5ZhIjHMrrMANedRHYPAsk9KmuAPt\n",
              "inmImzS0Qw3jRyh7Il3Nui/R7ZgaHOvyWiOZVujHHKgqRWmn3fN9BN9pokO7iEUDoohd0SXB5o0X\n",
              "p3AX6VgEpQ1F1hnFQtVz2bNAojPCjSdrX+Ks9AA7cz+abfaYA8SnetyG/dqw3Sgy7L6jnohndHrH\n",
              "1QD5y6lxel1claQ8N7VVcXMRAYpg7PKtJ8q7z0s5xDv0TdyjoCG9qnBPWT1hg1KOV9XvqywOaJ4g\n",
              "5VNZV2STqOeASSAZntA0PwxA4Rm5V1cehYrufPBi54a1AWalDOfFwNQoOCZZCJDZmM7RVXT/Y2ra\n",
              "kyVwS7V7TKw5BUvAJd0EBVv8zAGv9XZxzz7vSRG6dXenrX7k2M0jZsJjpaEDxnksWhWLl9bdTR1V\n",
              "WurlrZ90s+1yV/LsYzjrUPO0lTnCw3lqntCybMPAruI4Z6KGeFc+EYptg9abvEp+MgjdjuGvJEbE\n",
              "EDDWiXu4Lf2NvJvT4+BNywRmmw244dhiuas6PbwOAavOVotl8/eiXIyomu8lXB/qB7L1Vkdz8TP8\n",
              "LMMcq92O3bel4MMhmVY2jee4wTWZBf2hLtAhT+2I6dUurk1frmOmhfJ9lhYvrXxZaCZ/UB+hsGbK\n",
              "AjSwYVWKmz9UgcvkChT50zgyUdVeTmuaxX1bMOjipEKCnaOxnQrH9cACZNa8kseHZdVhr3v1POXp\n",
              "smpELSSA7wHiUHZzfeNM5UWz6TL20IdgKoot4Biu+EoaeUL8JpFopJbYhZ/6Ks1GBmP+LIbNwa/4\n",
              "7QJSP0WO8zhNHrbtELSgIj1NpAArkujLjWxWssE6rWNMH0usG7hLfVnfIMNW8O7cDsTPqRYmSkgY\n",
              "6G4ZA+oBszf/rT2Xle4vyhL8j9vszd6bLd8ye7dmOor4BcEGIbQcze4mJDXxgoEhGYnNnM+EO4Ef\n",
              "qyWfqpreSIbOhzsL3wmp/pOPUDGVOX3Gn/rOtmq2niDKZnNeKt5l36T+f0uC0rDIrB+WGgUuv7+o\n",
              "LP3DAekkC3LOB1ZIZG9/IoWqApyU0rK5RnDGvRUew/Ax6vprR8UllgX1V1yYde61jyxJRmBnOhUW\n",
              "xNvzKwKhmj5zouA4Zxj8ZZzMA24Q1TPpkRVMlI8eQ5IK9m/0lf7o1ck2zp/VXDWQWBEmqefSvLWe\n",
              "39b9smfbUqW2PpfHi7ysDDHMSZYMWr58uVMCvzCVU/IzXbG2KZ1TaAZYZUoierMp8Oe8bbpjoN3m\n",
              "sIRz4JCnYsNgK4H+1+Di0yHM2UeXwk3H7X3ohOzninRG8w1XnhVyJRcUecA0wceKWC46hXWdpbKW\n",
              "/5NpOe0JRSq4SOgC0g95IK36toQz3LX1xNcTdk/kCuG//RKUpAfdoYXyQIofvM4Fr8PV3uJtLdZ0\n",
              "Y3uoAB68x+q1FPCXVMCkViSb8+tOheoVBicKycBZYfBktkw8fmVH/Tn+2vsnjsjVvWW+c48cqyIe\n",
              "tnAArrxiYKpfrI6duCPXUMS1CETtNSzbxC0TiHi6skpKH3I4TrQP0dgi2M9eMo1p2FNuIs70r7++\n",
              "5P+5qhn5WBMCyMWakuwGKxyuLFbZ23QPEbVj9bKeX0/RGctBkDDDK1G4a/M30o5qZ3ykQx8eTm4D\n",
              "kqcaU6Jr/805eBfz9weQr+gYiFvohOtDHUso0+FARewJvOeIirnPrLS7MYCVfRB+xf8TgcI65u+k\n",
              "3URAPsXpO4wDxI98L8WGmlD/FmQl7t0zMU6lOMcgfMz2S1Nduzbw7JBGdFZlYd0XWP5YBetvzfjd\n",
              "gn3/LvKOrpC4R1+wBTm7rUDJZH4DI7Ie9FFXmvO9hU8qfjOWhX8WHhhR8BimLF1qkmNWFVLMZTxF\n",
              "HRJ22IONpb3d6HZnDmP8t5DvOujxv3cgFI1bNikErbpninH/EeBljg449bLvSA/5Bd6Bty4/bIQN\n",
              "3+8ooBPUVIJgQRoV72738/O4iAuYyPN18Oy1fEF55MGq+OaxVHTOUfwBrwLfUNKY0tkbjFs4Vnt0\n",
              "k9nd71KxJ7r/jfvH1hF/wvcXo4zI4FgrWqqeky2XyEfsHAdgGjMgZ/E+6OtBFwfVrX6fMa8+IjI6\n",
              "2l+TcLlh6UDC6ih9VLb4p8LNizEB+OkiX5UQ08CMIBv7WORCf+UNbe3zrruxkrVrajx/7rvxqw9I\n",
              "GqgQOwNjLvUFvhK3rYAIAvu8b8vjehTrid6HElQ7dD3ndYJz3r6BV5cz4mVDGosK31T/Px18WdTA\n",
              "kyDeO3rvsQuEYsfSnFgywOWcBWgZFCnnh2Kd7t2hIeydlRr+iEd4dlsEF+OiRGxjiOce6sl06mmm\n",
              "cbB7LHnYgHJdFfIh3ucmsMi+AhtmQHwVVHkeBjnhnZuVvC93f/CbRxka6ueFwwU8YyMjpQNQNkVM\n",
              "tIAEdUlndi6iF+DNldUbBQgkR7qFGnD1r8/RNI64/Lngj2uh5HrHYWexoHG7GiTR71Vm7Tzi9p41\n",
              "GTcPIAByJCCFkAAABhMBn9RqQS8AABrDQ6/TlbgAm91tC5/o8dalhuFOHUl5V9YJWSXG2slheBBK\n",
              "rUNzZdwz+nnUgBdaTQ6n4I40OIvH7khypplNuDYdfQCmw3dC6pIaphN4628cZn0cxV8ZUXCMD/Mr\n",
              "ppxa8JZz2DbRPxEr6bPVVFyzKV9dLkhbJaCJU/YeaX8IQAwPkMZrxf10tgB4M+WVp2XdYR4pr9M4\n",
              "QiiG6ALfCUL80h2SRO1caiM0oudCcSpMpIYePuO+ckk+HPQ04szj/rAuzbsisDyviOfQNnOlYFHK\n",
              "PbgUenroX+teya8yWb6/kCCKizGuwxn0vT6PYqjk5urGlkKNODgejG7kEXcM2EUHmz8TbeixI+J8\n",
              "tQdNkvNr3L32gZlcKuN+WIBwzY4blHMglMk+D+acYzEcUHx9Y/7I9IoJaWbPYU+cnJgtZ9pDffKv\n",
              "4xOAj3FVsMovAfs2XZldXj5os7wfsvPyWh586fvhbphZ6qdlrXSMFL8p31CCmDDVFI2u4YYMMlfD\n",
              "v+BzT0xz8ltrcDmx1fXPIxIU9w5PFl0sopDCzPw6MnYT8Lg2pQRabho4UfnJH5KQWUCu/R1opp35\n",
              "V2Oi2JOmoILgnP+XAXrLblnQGimjZoUy5l4Wh2cSXhy3Jo5ui10cxUY3pU5+HSaZMlh1xO50FHRl\n",
              "gT9fxJ68M+9vC+6rbgCwT5OOGfILJVWd5qqtJJTInkm32YtwRU39TL/rWmR8HvWMTZ/T4Gc2+jx1\n",
              "lBA/uuvA0Jf9jvr9HAg5W485S341ybYO2adtuu8DSXujBewaQARJXhhU20GQqW3PzX6AtydCcwA7\n",
              "7092EkHwyrmeidHq6YHtb+dYxR1/zcYO8qZRm2Pic9P99BVe3wZ1bsVjHoAKtLRsTmRRtv5k+7Nd\n",
              "XG0KirRb5mrIb+ayAEDH4pPz70LM7RUcPk35TXwViJ65Pmt2gtoTEBHZIP+2k8AfeTp96VdAdadX\n",
              "qBRhMAcdHpSJtwUXAYtJNCv5d34yOXBPbfitQ5Te9HjzlAymX/aenNQXqJ6PP85RSxUROiOUZI/K\n",
              "F4tjQgY/zo8F5EKsygSjeTCwX2wA26oVFfRjo+KorRPKDxOmKnzET+kshFb9XTzL6dnze+tm9MYi\n",
              "WdSAjCh3zK8XlcfmlBYjccDsT/NH49uK0JoP0w6cCV8ipnqzH4kpchlFgUUk/UEESUepe/tN8bUr\n",
              "I9viUaORydJNh4N4X/5XXkLEpZ8gheKYY3OgAJ6GF25axwXSXNbxyVmBvFvgzB4npDCRN4y0wRu2\n",
              "QMU1hjq3IVRCxwbo14G7qX0GeZxqbVRFN2jo+vl7b/YzXICrW2mq+IhvmK/8KZiXkRczX+FG4oT3\n",
              "CWOsNR6ErvSxSTFuwc2HfctbanWgV7tYGJWxtJypFOMSY5YRppZX6tRt1nIZ85DWziv3qiYVP2je\n",
              "tbufiEjd3FHkAVKtTVYo+CPgeXFE33RR3mmVkboWX63YbeJ65KuYwI0c9QA6AlDOyhCz9mweV6WN\n",
              "i9bFTn5Hnf2WDpclGIFKtf5X4FZq4a5dR5x9cdX4vS0ow2PepENzIV2sKem3D2FF4rnoG78qKw2G\n",
              "pMh+0Pr13pWRaDkIz2SeFdAnCQ112VYAjAq8qp//PwwrAAv1e3nvk61bi07jrCPRLWb69ixrUSXA\n",
              "13YLrLIBtot4SNw4iTdCKhdk6kdM47vQdTVHKS0xvq+CnKYw3/YXIXETbMEf6qhlGdJjMC7l4Csp\n",
              "5F9F8S0wBGqisWX47BjSB1DWlnl673B3J1qp6oVNtiq5UIa/hblUvW9dUV3U9aYtEL69XZTH0kvT\n",
              "9PeIgYLRCVJQzur97BWf0zDYjQlrEs+64iFIXQ5JftowNTPf8Hufe8k60ftxMmbqJt3VjmGkxWPz\n",
              "uhnCc0ry9BVskPYaIhXAIriBqaDAavrltGLpZIVm0hVoAuhzO3N3h7KhqAfUwIdhO01750BmLLG+\n",
              "S+HJPO5BnzkWVZx6viz36kZ2ZgnvzmCGuaNspz5lY1Pi/4csENJ4X8UDnvVTq4FrpGqyTXYhW24a\n",
              "i2B8Ka2pqgJ1sAWs+zLveXDU/ARu/sAk4cAXuM5BAAAL1UGb2UnhDyZTAgt//talUAAH1zV7tC1v\n",
              "awBHBpfCMq+OvPCXM0sgx2TtBaHUMBpOGD9DolBthS5l8nPyu//2KApxQmLqDWF0nRhwvh91hrlM\n",
              "yef4K1DJ/ao2hhIamSXQbxVuCEuoMymxLcSBKMJXtIwbtZM8WCLzOEJ68NIL3sxFR1nEiQS6JQbA\n",
              "PJ1rXbx/O6bGUsY9oe90Lz6CuUuTHJgDvmNkJpXtNfBD28w1Wz8LymOWbluuUATyYwBN3iObH6ao\n",
              "RXEiX/orUTxHwCmvkYgwD1cux+cld5zXZxI6CcIO4zq8AEBKAb6vnu9R5PuSUB9oPdM7yxIOGY5p\n",
              "Ob8cAASU6cACZ8MLwMGVwHUehgtXwwCsAKM9drj897EGjbihpsUdIZUWWClLuOr9ngoyQbv5bByI\n",
              "aGrOAfYsdU3ATknCXbgrnMJYeI5q5JV5lFK9gGmiFqvLlxYzR/GjxuMhV+92qRsVRpPhLw8tM3fE\n",
              "dOnbuJXFoSNraY/gMWSxe14wvNiJDigmnW2OOw1BCpHLDoPaMlWhVR/A2PQ6RnobPA0UGLuCIxYe\n",
              "mW7SlSfK/PxsbVlzhNATRzRy+lugQ1XFoON+NjBctNN+gAjgj423cO9SzIoiaZOAmm7QU9ziwIdU\n",
              "n3g882+U4mZWYj/IghjqMxCjxI3PwhfP9NXvKxXgf1EKeDAbqo9gsI+bekYl1ygw/eAD8Y/SP5j2\n",
              "zHbItyyPIRGLvvb6ucdqGnkRrrzEYwAvrpbSvQzq5qNvzJhRlWNfnVl2EdhrTfugo2KBD39yi7Ne\n",
              "ujt03axcMLq3B7BeAVUAhQFXNypgNLhC4VKYmcc5VtXZNgnVSRa4arCiN4q+/7XybhLy+BqtnLuw\n",
              "rCWTnFYtR7f1yEtmGQyPJLsIcb8kFKrgGWlFJBdxzKzhPFoVajqhFSAuHIwlnifH9fNRe/bBRN6T\n",
              "KXkKXDksX58cxDdAmOCeLDKKuNmAvvcEymJyo8ha9UOSzKysDhlJMsUdhaNWzihpDiprDfm0undV\n",
              "vjy1GB6W5scsLf2cfhUAYX4KLTW1ipDZ7pcCyQG3eEvhQtdY8HZ2LUTPSuTsHkc4nXTvb0qIYhlY\n",
              "wt8Pm7fU1p9uNwqWrcipvb+5rqmS2DTuTLGpsdxgEfZOFhfu9Q6HpkuyXCgvUFuqOHKRwmAhJ0ov\n",
              "K8iXb5ZGVZdwZiyTL5+8njOqmckY4u1ajCEV2TlCdp1sl9KY+TZ5KFNgOXmiI0FttoWPaZyxxY/f\n",
              "Tes9rjtLLzkIpB4sl6IPhfkBgbwLNrxAfzRWWivE0ublewNLhHuZCvs+BVT3K02gnCfE6tLZ6YT+\n",
              "sDad/zdfbXZQM0cdXO6t4fj+gE/BZQqO/SQ21qo0OweqBrF3gNsoRPT1XgiZXB0a2Aj3e8o2msGW\n",
              "hyV3XecDLD+Pn88rC9kA9LNHCqBtXy22p8xF7J+eMo/xe+D0WtWOVaEFFl8nIYkMJdEz6wwP6Iho\n",
              "WU/keYqic3Mzhu8iif1RO/zg+cX7N32L3tXP7IIItCyQ/ZsOUG7sXb1/1K5sufJZncyNG9PIReyx\n",
              "Pev402QDwMlY+PeQ3zk0Kbkqcwz/3JYhD1FIFA7YKlK7srPYtOqyJKzouufzt/0RNj9Gbfx4W1E/\n",
              "Mb1Jt3yXttyXHfA5YU3B3NcduO4fuWUzInpPZvyPQ5Vc15MoBf/OQtmoGbOJ28hnOupcGl4UNxRA\n",
              "ad7JLgAOr8SwDBo1vvphcC8iNnzv0kG3whW3ngbCruP8zhceG7nydi7gtJFcya32q8CqAPVIMNg2\n",
              "O1gVFVCf+Sp4AcXJpaKecqTtK9TCojod+SRRtlRae/KZZ/+Yb/+GzjU847f0xZWQg7Va4oqe4y6x\n",
              "bwLM1MHEFraV203tWUfV6ebRWvuM+2iWLyxub5klR/NouJEuTXclfsc6KLD3XKSdCoDgg+kvm+5f\n",
              "5jtMzF8LqKP5T6zIY8pv8MBPkROnzs8Z5CQvQQy6jnDaQwJ4LDxy0uZaMoeeOHSfCb6FcqdrD/sy\n",
              "AJGSUeFRtJZieZbjeZa2eRl6yPU0YCcdXavVYOSPPl7qQ/WAxddc8glkk+JggHwQA0Wi8IlMsMcY\n",
              "TzkWogpiRD8dF6k8yv9/9587QM5D/FiKYrnyhURsR3FgY6XV0VVnH4PNLWNeXAWNyc85D4hwVyoa\n",
              "GivxbkSnjPFD2OHNU3uMDpyStqE9qaVD2GOt60JqBWU4jhM+OhNyJ9uD6HNl48yAYQLG+tYCRoPb\n",
              "zcl+cXUD+uFkCZQAUX4+kQnllcVWtuyuhwoEVTpgOD0V4coqzThqlq3xadV7qpENjypLvJoznEnl\n",
              "Uqo0I0DjIpsd30s2ipCScPblLvmeArnA71wIC4X3GQHxlT2K5s+vadv6MceSXu7iFAMWa3l4C2fs\n",
              "q60p6SW2Ies81Ub4IGLw6qJuQ0I8o1kGLyDW8t2R8+8b8eOvkSyzmqB1zn5u+cC9Xs5fcTHb8HHF\n",
              "K+BIKKeh/gwP3LhGPRsl9CzVOcv7Nuuia29bla6mTBQoBsPBpp3y3+F5+N8QIfG32zb5TnySUF+1\n",
              "KFj9bqRC9NNjWDJj8usZyrQJ/ybZ0eqBda/muAXB0Pfrm7DVs0SFBs4HQtmIFaiTvIMU8y0qdT+4\n",
              "2C1dUMpcXSQjMHNhGxbq2Wgdnk1jOYXwWCpSNzUktPftRPWCj1IC+EL54yuuahtq/lVIMfG1Gw0c\n",
              "RYlY4L6qcSS1TtPGdw3WoaLZSy5k834JEjAhnuPDqsFpAwJYsRW2dtGhnf+Ogy751SItqvAhMgD9\n",
              "WpGuGrBP04INUs7Ak/I+T3fo7lBd9b/jlQHPXwAaRfmPu3jwp9yCWpBHn0mjMlomhMNR4vNDU4Vn\n",
              "DomV1LES23fAgOYgT+1azBHgYS3Z8sh+cj0VJ61xKf+HGIbQNhsXy/3gFLAhJ8aP+u5xqxNsSwAl\n",
              "ParnjzJrCqm4cL3K48fdDHpUDWv1alJlRDN8YSJsxZR+Z+y/NAeIcNuBnRRvh49O5ht/h9ML70NU\n",
              "E6g+fXuCuMmZw7LMVxt2/tivucbqKlKab2gzUrJKzzPu75nCnc6juFiV7r+ACAi5ugTOk+Uv5vOo\n",
              "5Bz//J/ycHLx8ILZerZYtCzdRDch+uVk8RNhD+vmSy2niej48UNer7cuwgn5CjhEBG14dWsVfGzA\n",
              "9B77rW2VdFdP51Y4ys8n/HT2WrWingOw/xcJMWaVITDkuDCcD8KGtumZroWaXbOgmf7PI6jdRL0A\n",
              "NaSAAG6vDtX2KA2dPhCeXQGTWUvUF6jX/z5j2k7sm6lH7OImQ2VEOy3117YiRauQMzcMcqdrbzGm\n",
              "ePCGsDOWtJJbGjYPVxfVuI2yq/RB4+6uxyrH0WmSJXYI/0ofhGAQELR5b2anZyvyZrOZ+J/OXLmr\n",
              "DRAkqz7HStbR5b6AAw6RuHcHGGkl5mDbOknrf1DI0CLOfBDJNsOv/lRBTKo9L8/3lw3d5w1KtmSr\n",
              "UPcOo2kg2W9pR3QOHq5lLO53/wyUK7vB0cZMFukS4VbZAdWJEPvw6EaWLfFwdG2XD89L1xBJVrRJ\n",
              "2Kk8uPqv7NPEthThy5izJ0aA/jQTEeTXPf1XWmy68T5QAxJCTwpO2q9PbmfpHLT4pAfBbXZWeStM\n",
              "w+uDiy/3kW50FmsBwRPPUV6pDh5Iyx7ALHMb7XjpbENy59N+6f+CVzQ5GtJWp4s86Idgv4KpyGt6\n",
              "q1nMSkFRjgl8O+0fKxgkpJSGU9rIT/X11Y3e04Uw0aeSUOiC1TVoSQne1Hux2/6BXJRwUVvMHd5B\n",
              "qfDDiNQsxQZVNVSrCWOB98qHNThYdsRBfImI3HsanQgseP4pI9S4McBxzfVsqG6LvFbuIZwKX5jS\n",
              "SG8/K9vmkhaKaEVppkTFeT50hUyb64RsT8DOnekgWcXeiff3HhSywJTEDhovKzvwHh6m4TQw/8M3\n",
              "qJs9SJeq0QcK2wt46czBfclXiX+W++srOi1GLEIH2ENcIZFuQxnOskpDarVd8L8jr3pUZBu0CfmJ\n",
              "Ft0UBSenit6YF8ecR1ztaAm/8wMc5ES0P1VVYov6hmrrS8d1Drqn8oEgAAAHzEGf90URPBT/AAAL\n",
              "CyjszMUbkc5YdEIaWgY2YEne90fsTz2kShXUFQsZBtbuJkIANQ/Xqk1GD0uKLosHn+fI65s+O71T\n",
              "nt60sonCoLR1X6JoYMG1pjFHxdwwyON69MxdvumNt0+P/7RoxvhhC9/rL++hsPq3ne0MdFosN14M\n",
              "lepL6XvMynRsmG/nX45Bw9NXkchn+aSFkalBpv2qzK2RA/G0IpOuovjieY5+foLO5Du9v8GD6QvW\n",
              "XJ4jkdr4ZtrAPrZoxdiWF+Wo++lQdt9V1b714CUf/pkhsAHA8EOVxEcVfssfLZTUwv1mq+EBNfuC\n",
              "CBy6dJs4+0mxOszTvmYwy0FzHgo4KrzWBrCu0OPCVcFGNpvJnr0BxpVwsRLlSKZITp9O46eA+lYa\n",
              "d7zTjhydFj5n1B2+b1J776FIa+8ELcl24AaPswTNeIm2EoNQ2XVw/KvRr/pZwQOw7bjR7QbTYJz3\n",
              "gSgEDYURvF8ULjsvqEaFuA2EOffYymE2Lzkp4av29361qDuw1yYLialMx/UygQtNcgDKquYiUYZo\n",
              "zbecE6BZ2Gb8iomxLRwiUE3FgUCfIFWEEKjIH3s9EqqIhK1UCE4mQ54vJlxmnWCFvfU0cqJ5cY+N\n",
              "hCIUlgNieVugbj7njSPy9qnSuVPhmE5JIiQHVDA0CqFlKbI/9wAX8+TSSQu2TKAUuBGCN1OcZltZ\n",
              "NlgwpMGkXNB4gpyQT7rRbpoJT0dvZeYnNC+s/ncCLEYxLZK4gOyv/powo8EmFjHMZrUoqd20+zgC\n",
              "J3m5+cEeVStzCr8EU6ls/bsVyva9Wf4HkkEHAcv6X+8Ej+aV8of04KUowT6higTn9WPjlqUEn9mL\n",
              "WMXneKFgjlEXJkpufDcFt01z8X21/ZrpHPvljVKg8hTiPp9VVCmEd714NCB5hX1dJl6aPiH6jeNt\n",
              "t+arcnxdaae9K3cv1EfcQa27QdPg/K9mIoiyClfe3/BnWQz0GC0LI+4/3+F+dB4P6PiRF1QC1WTd\n",
              "1tK7KPoj1S7G2GU59jfimqgplaTE7xX9u+mZ12+mA4G1YIRbmCbQCAXq2ARO/3RrmLCm/flw7NX7\n",
              "IgYNFAwb9hyWRBzR+40NkjvKTZOOqHQYl8c09ThiRRolK6N2U4p04dM8p4EGqxYAq9Llbh0mmTJY\n",
              "dl12riinza6ImoZ136eZMSK6nLyRBPk44cCNLsVVk5RpiVi35kd5RshSKjv+cGFtVOv8+HmBEU9F\n",
              "xSkXKS5/Gad2e669Pm8nsk7FF934oDYQI/fffkV8vGQFvMvbpkoGymqNIs1+5Y1tSU9149DlVzXk\n",
              "1kc+ZKxJSeHUPYbwS+ARDnrO4N1brU6p34MT7amFVL/ZMG9HxCNgKzVsAz4uItutBF5HX3iUF56L\n",
              "xCaKkfWcXa2mnxI7H8yrFAGzF25x4LDFHHxM7C+NvVMJusuxfUa1yCOFHiDbcubrL4ugnE0zAoOm\n",
              "Ao43LJkwHXobIVndWRkhrhylalaG4nQWdpQSwXIWIA5ImZrN+zdJjqi0JbPYydUs1sIoWHm9na4B\n",
              "hduFt0LAvYvFXhYIbs+cr7IpkFynwClsd7AWFAZg62zLQVyo7PQ+6zT6ytXeD878q/a4OSQXsD4W\n",
              "QY9A395VaCa/aQHUtbZqGYIVybWb6Sunj0CioZlQ3gk0o0PZX9X1vlAvrsSPEkRHV2wmQMk2IYx2\n",
              "4HwujJoomYaxw3OYs9Ii22bu+VZ5Nmwj+d+aAwvNLvnHxrpwB3y74Urcu2eYedKp10zQ2nvwfkmk\n",
              "mbyinCpAx8+v/GjK41fBcXju+J5ElYDXPkZDBYbGEooemxfrnIlvU/In86L3wLm5pavlpaMWHUGn\n",
              "5yhvlAJ9cUzJ+0k4AtBA+uTco0ztHQpoB0P4SLTZ5VJIj2i98sEcAK6J5Ui8nYzBLlr/d0Mh2WsG\n",
              "xkx93J9V7QIyep2254UzEiDOD+zgGutetEkfu3MNC5DXLFefnb9AJkcX2X9xhNPEa2hDwLwOtSSn\n",
              "e8SX4EHXu48clkf393t/5d/DaIm3Vkj0g1q26VZsG7DEVdGmFTdBzEMXeSXXqvPg4bvgwCNkzURR\n",
              "oFqETU98QpAds0V9GiR//IIKnR9pb/w354qQFXnAOanTbBWIM+i4yPM2xHpjSWjKTob4wtcYBDhI\n",
              "8V/WiE4/tRIBj6Hv6W1g5emMirFPV+WqosDyxlwOfNJJo/Dszq4d1sAyo2rnOtY0pP6fNPRt4sxV\n",
              "SWRD0hbgYoe/M7FVz2OtNCKtSWN99ZmTJsKM0C2VN/cEe9HhrgtHvmYQ2cZqP4dYBI58hir1lxdB\n",
              "hi2tbJNFuuVbj4CU5NOLnqeRM5abcgxw3JvrtnCU0Yq+0DgbBW0ATtni98/moN0CS7tVzzy5+XRO\n",
              "j8S43dBY9ku143mz2pTEmhT1TBJOsAzSUBdIMt/0YZapht7j/prvywUmgPP+Abws35hsy8uWW6eL\n",
              "iQ3py+bMbmVumgzVGfoi44n+fVs1HcTU9r8tWtIhxiaEPQKFhhPpzLzlaQNeXTJTPQkDAb11yFRt\n",
              "ZQdLhio3Vlyz9wC42FQH5nMBMzOSugKK7MV3ElQ/9DYO3dfLTZn5MaCTpitvTELMvIw7aOln39R0\n",
              "czVmAcg5oUnPAzlQ1EYCUPGI/8m52FsNOWU6Zl7jNZhJRxKmUzOrr0WiqVAaroEAAAU3AZ4WdEEv\n",
              "AAAbluUJ7938MCQRd6LwCI8LJVYulTMhK4rIdd326hD7kn5CVDqK9jQAAnYx+Gh01H7Bt0G2vJZl\n",
              "S/wGw71FaV0vp6ePScUlA34hBzP69zG0+nLqIKw0Z7zJk2BFSMBBRy1RDH/ydjubZukXlHh35Osz\n",
              "jhtVO+CL3kbZiqeTw4LcHWcm37r14MdYzkXbCpG14Lmj0r1aeEM3ZAwiivZEPUWtmMpGpvuBFeU2\n",
              "ZFjlE8MnKkmhbPN9IuI4D7OFUMEqah7MQCLs2876FzjKN9fNptYJred5IWgQftZj/HDavND9tT1y\n",
              "SuOZ8jnE2JX9HVw8oNLKLiuvpvbyfHgaMjUxU7K0tbV5MS9rMMf8HoEm55eVn6yC4ckKuDpSOE4X\n",
              "758mNnBkP87IYPx+Jz8yOdUemQemtFQ3gtbZ+9JPwu8cFmyi0ZjpzeXWQbObjCLyFYf2q9abI0KW\n",
              "9pAtDLUzxfKYHRjGBx1xMoAf7/wnZvKcMgUiiy9+05WRKhsjb70iDjXvErBKfhjRma+exZiXoFxN\n",
              "SXJdV7Lo+WeAkSL6Eyao+GIcMPkkAOH2uh8D+68JbqWu97MafRWgLW4Sa6YKTnzYXXqDAdIsvpye\n",
              "OQhA21Lz3bW3Jp8EixLyChAKSyFJLqMPfkD5wCocCsMfQr3A9ti9mfHTEjhCgfm0eXesPX/5HLue\n",
              "pTxf9BxjIXtjVKcFkc4PRpJ8qFcoRkm5hVNYv4kDttXpTnEd/MtXyGvgFbY/szdBF0+TQlUmL7ID\n",
              "OuDLQH/Rfz2bVRaARN+3qATaJW9BL4eY1T7kh5YU5hNXVFO/5HsMkI4WGM34wi0XwPwbYHkn3REX\n",
              "VHVgAyAkqTeIr5VbuaDLp7BmtBTIAVsEO1hEH+SMNbWdBZrG0rCklEI9XzeKOCFmyrz6nFZfwOih\n",
              "QcRlJZSIAZtRiE3MbKHrKQC3Zr54/tJqP0U+YCHNXztvq+XUbo02q15gMmzhXzLIeS3VWCjmJIpl\n",
              "7/4qbMWdv9S3xwGBFiq1L3bk/jmno/V5Vr+phtSGj2EqN9eBDNtXVJ/h8g9vzfqEXONQhCWbNPvX\n",
              "+Wqk407Dbqye+MT25ntIMSc6RUXoZ4AZAHoWuvmIBCx7bv6KVUkoM/MsFOXjFXd1EVAptRT/HKDo\n",
              "8aPmN65phhAheePHhEI59D+d+e5UVlhy9uNCKueVzj1S9Kg/06y1/mTzQ1p0ufB8m9JS6IAZysD7\n",
              "HW8L+56iwDLpdmpdFhBW+4oB7esr0XFuP+yo/mwLyGBO9Jqg3uxOzgs6g68nLPx21nRsdMbkSjxZ\n",
              "Q7RoNy36cDnOf0+tbr7NksKj6TuiMDfjOyR79BVKqylXHSBegnpgRdn7GyGTuCye+zNiQrEXqyRU\n",
              "6XIOiRt8MLd4IMV+CSAKHnh9FrYoVAk/U0osqJeT2AshBBzC5vxjOb5lzOtX+FEaKakw8/iQ/6Uu\n",
              "a4bLLStPeJSLrNii9y33qbWMHYl38GlRPMcBv2Gjt7UPTLR6bfIEeK+GGZ+H2Uu8x514UivkbMu/\n",
              "8WKkfA/pJld6H+TqX2AbYqzaaLP9nDcOWIl+4G4kgY/SCxoPynB21aDVI6hkah3oSwENkJuCxybE\n",
              "KLvdO7+tGxejluE7e22XFEFuONmrFxnYP8n0BA5C4FlVOWiZZIyve4g1rIGFTkBPMc56Z0mF5p3r\n",
              "+2md2sDK28Y78DwCQvuzeCdE5zhful25vEmtVYm527RDzpzSGer7u+cQGizxz8nL03DwngSkz8Ji\n",
              "yOWhm5wqru5n4G7Wbl9BgNqBAAAFpAGeGGpBLwAAHlcl1+cMnbh6oaaK+TTV9Aj7AAkTOD1nbw24\n",
              "UZF+N+YVang5eTf/d8K3Xb3fDLbmv7QiJyKjNxUoy20NwewwqrZvZT/2SkDZguG0/j2XxKt4DfCU\n",
              "gsQrvMUUHEMeHZOHXmyblw+O4K4a+2ik+FNn2wOzpi5VF1glkhnbJ0kdiJae9o85L/UgjgAdpjhJ\n",
              "FH6Va7pHCl5G3K3enO02lIKXXOmJAZvIbNWanicpr44g8XqiZ9hILG1iA9tDl3Cz4aYrdSdnmsAC\n",
              "Dmh9MhvZnUkUGWtdxUWVRQVHNMC+JocQGtJTEpKO5N0jkq6m05ImE/jwOWohW4gmctDTzAfonq8H\n",
              "eNv+hEu0dqW8S8DlqIVuIWbwdG3ztQY+P0c1lAsGqW5IdZFU8pSwNpYtFPeedJXMiEHFAuMDu70M\n",
              "dlj/O4K9XbmEGHUUmNN/RClBQPRa6Lxn6FCDOukCy3zDtm3QynMrbdg/GyPYBCQBoDZuS7iIDgxF\n",
              "y2/e8NPpMDbH5R9g69b24o7QjnP18FhsXWRrNHmMmi9xwdm9e3zeJkJM36M8z/vqLyJZ9Fc6l7r6\n",
              "2XQ4AZSAVYS15Qn+kfWPBTiENLeljRh1dM8XYML/x8Ml3axBSTMLmBCFjyadGNt3ZE8KpweLKfnZ\n",
              "o8rsLjvfVAWy9wTZureej8kvuqvo1rOIGwL3gt6oeAcKUrL/F+Y9lqbh2JWrKTt4Wwl6kO0jdK1t\n",
              "z1yv3+MLYrH5B7Ue0oAdUZU4deU7oC34SwSjRkdO08DvBAbJ7z5cdavquMcgzOdp3xBPdF2kldPm\n",
              "sHB2F8JfRdk8xilUTlwu4oqoz32ngxOkjDCr9kIiP3FnHJj7Ii6O5vmPJ+OVGADNOKxCXhUvlyhg\n",
              "tRkd7KN+NAdI3bwtZFl/cxJxDZgnv7dWpDaKMcR7O40mSFEU3+cumvZNJLscwZppyj0rDnGAH17Q\n",
              "hUaf1uPb20FMVRc10BvWurEljZcaCZ4Ypd+MKHT69H52Snzms6Ft3cLJ1Biryg9DeAbvpND6VDN+\n",
              "U86fZj87WTmqTrgmB6risH+VeRPtiQZtGzIbjsoWrZOw/CIo20seKwH6KM2r7s/G87J4SCXqFAkF\n",
              "VSeWP2eptDrqdX/uW/nMkNAmQzx0gi2izyIRE3yrUCp39wM5prH6OxI/KmvTEJhvPiA8X9B0Cop7\n",
              "/kOm/VHYUQ/844YjD9Do7QWLI6/UR0DeLI/JOnhcvCybJFQsbpP0lPU8nwKRb6cK0N3Al6VQ+IGo\n",
              "ixwS6FgM60aet91BwpzcDGsvanrl1dT2FH8breH5ziCfIrXE8OJze0E7fzqQeC0XjoYD56kuey1h\n",
              "gCk8QELCqbwaL5W1K8dcUNxmW01EkxDt/cZKwSIWUolaT/hiMSBjoyJs4rpGfzqZeE5cXuTUKEQf\n",
              "MYmOfEfSq00ErGevEoeAMHJ5TmSOGAoYb6vwzC8lHV4EvnAFvu21yFNd3CydQYq3IyOdBu+k0PpU\n",
              "M3nny8GIw4WKdpWcBQPobA08Vf7GQ8+rG3tmLPJ0CmHjx7Uif/vY7sriee7dlSMiqMbnGhlKbNLd\n",
              "+9COdQTxBJ3yK7dqGPuTsPwWK2Mc8toGCHg7JjrDQDmo5mz20IZZO9rJeycEAs1YSpjMGOcLH/zb\n",
              "3tB7134yRO73Xekif0xkyxrgt137RFj1wYXbiWZuRPeC31vt354147vNVR5hknUoGKekQtMhP6tx\n",
              "YAA/A82FV/mTou8PCVZrI7E+z5rh27vcbAQ5S336e66hrO7kSDRJJwKpAJ+6GlAjt7Qfz1dneNZx\n",
              "E5xBX5gk+B+FZ0Cg7hSx3WV5ZlnXkPQtAmKc0j5SafwIS4Sm+urf2/swMSPc/52wV1oxZZ0aNbhJ\n",
              "guhEtJxyeMWFUo43bqvGzkT1ochyJgrg+fX6BE1ka3xS8fSjFhcACagAAAfjQZoaSahBaJlMCC3/\n",
              "/talUAAIA4sp8vJ7OOUGqGbgeRYZM1iuBt07/uZT8NwXbRKhCq8gJnB8/vT8mE75bZWaDI8N2Cuc\n",
              "zY0D53rgv4Jk+8KuwL5uuc5DOuxsJMOdwJnpY4RqLByN7GJ804oNv5HP+CscwKzaqxdWpwIIej+6\n",
              "V53jmyfpZvgvg/dFSOfDh7jTLYQzcA43PJVZx/huNeZTbt+vTX4MK+BYg1ZcloWpruo93BotKYSM\n",
              "rZi3sUbNjUlaeUiWT+Y9CsT9X4KedTxhUqlRk0y/3/+MJyA9qzo3V4iaQ3j2YVybbFoczFyH1NLT\n",
              "ZlOKvDRUrQ/yL2SJXHOUCQaAEva54zVX64ALH3lHgRwc4CvDrSkDgXN9FG0wYdQndEepbRvZfJnV\n",
              "qwkL8pNMEQ4IA28iVNezILyJwkfd7de+SkB0HJ5OWtsSaXhivXB93rHNX2v8abydQ7QyMRtwRtqf\n",
              "tVOLdBKwUrhCzGvSplRXu5khvqKMINExmG4N804kMT41fiI/ZkvgLUQDorRfRvHZhvuf3v7KmwFE\n",
              "yXMnqveuiDBhFPFRj++F/OviC+BUCL9dprwM47dszWx649Y6Zs0sEjAuTlPBCNIhXgjnieJ2hhNb\n",
              "lKMsGk9mrrAE+dvlATFDv8TceT2I3XfNem+IpeHdtJNE1CdvQWKqMfUvloCnWLWhzamcg7Q80ju4\n",
              "GVR6q1uolzAzjGicokgpcSDsPDYmimSKgnHrNDaTnlZjEX/FIuXaa+KN1YSzY+pKtLKCtAz0Wj5Q\n",
              "yIPHiCxvMP5EpF0rlpJgIFnJfb7MjoeAw3SuGAB1It+Ls79jiklJLZU2rq5s+YrsAaWrx2bi18zO\n",
              "7q/jiiA0LLWOPYaKnUo4qlQRVPdd4XKKfb5OAj3K4+Y7ZcRL3v4Iva2twMNl4hzP1wEWuTmikur2\n",
              "IemoB5tUghZ0mZDej6+fUv22AE2pRjw0hM0m7zeeKUcBb7znZ2H0rfU9JNvWOXCXCfsfJDCq7NsO\n",
              "QNxoDNZKLoetgFyfJCvgw68Rs9ghusJNKjtaxJmM7+NZJW5k9DpkmQapWz50mL+cWxhyWRcIt36F\n",
              "l/iNtSPPEqulu784WIvN2zdhZT05pcBwnNNE1Y4xkymRbE3RZ6CA+6maXI151GKoH6SI1Yb9fraP\n",
              "OQHn51PwLy7QmUOl07RN1Ev9Pa1eT0zn00f42ftyTbbu/UPbZfVncutO9X4eTbIje3jZsa00auOw\n",
              "gmockp2GzYPZ+bkpCE5Gpkk35TLM6K/xefn11SpfItGjjRCIhE3MmpE1M8vhPe6uJJbW2JucUSfV\n",
              "CWMBtCdAZ+FWkoBoJWG84iwki70v5cZ0SltToCDc8r++jH6z+CHju/Zwho9KAmcs5REeIEyvXVMz\n",
              "uErzVm6pARpR5TB8PlLytC62X3bwz2ajt6E4QDQucp6dOqlf5HhFqK1oUTJqvY1Nv6MLyKhhwaqt\n",
              "1oa8FIw9fthv3AAKRvZ2hyHcUEw9jvJzqPenxFgQzhJidOuVk72/geWjpbOwlNOqvHwM5E6HOLJr\n",
              "cyB3xrdYimnMuu2Rh9FYRUaToCrOrNBhhLLcT01i3QnxnhCzJdESdRh7qhvxhILpDdVThCNtTPQl\n",
              "k0fTrBiJ6vu22kNsHeDBlau/X8qqPaocA+9omedec9F2ylTbdEX9P4So5S+EBNgCAtxa4Vl0Sbf0\n",
              "Q85Y7TTvU1XAPqo0rtilToxHOM6QxJqJ1uesBaRkQZ8W61W9lrb9NMzictJnDRvQQqyOdwcdyWzQ\n",
              "b4/fSm9Jje/3Wg6haX0RIMBkdNRx+Gd12DdRw1xs3kKQRHfIuSEXh4TKRuxheZjkbSPFqaMLCbAw\n",
              "u6sxIyJouBFctWwfMr4UOk+9Iv8ITuS+ji8hX6rBB0BsBRFWeSL/fM8knjVoKZAMUANnCaLA/GLh\n",
              "qzA+DBfvXDZrMoHo3RJsNkNBPz3+kxHIfALIbt8kGYYnp0w5GMMkFq25dPuwUYGmcPETv2dObrRA\n",
              "Bs6eQN8ktOriLdH/phyyuPCG62noASnxVUOwPAv9k1YeDynSiWI8rop3/HZXH/heC9UClabm1KzX\n",
              "OvxLyZIlq1XonfJIHLxKljldqzKF+eGMrAO6h4HCgJt55gCkAQCp/aFpcekbO0aNtVBJf84l+Amx\n",
              "lHFY97H/M0pq0WmQb5lzU1hoyyzohZtBduQ7/oQXGzFxpMahVd6TfkZ6EUj67vwEL84GuLeJYoZ+\n",
              "WMPwfBqoUmuxkUOzjPNJrg2j9rnmiCNzVrLIl9Qin0PT8aQzQlXKnncOsDU2VCIKHjA0tZtQSotX\n",
              "pWMSuIpo3M4DPtu4/ITuJDAWyqvxxh8YToJ5iC85WYW21KrZWXNy9PEQ23lycml4xKjgH7Dux+Xy\n",
              "XFEYoC07VyPaJRfVjMAX04sm06s/rhFjZByU2DyqARf8GUR86llbmxHMhV/iaeotA/p1kRX1VWaJ\n",
              "iaVp0psfUu1bIop1LRBb1uJXlsZRohrzlCAwq/mdJ4m3vrTXO0FUO8EZJUNaLl8ITXgxTd2W5Icl\n",
              "Z/y2RSbdCarjPZXx35jeFUXlgZOT+Djaa8ACv1iFiw/sF2cLp3+qdA+h4tpK0YaS6EwZSPsufpbf\n",
              "smvN2IcanjIvfK2fqyhxTerBq4bl87+CxmRxHWuXuSB+A/9w4nA79YY7R3uhFv8Jt59zAv7QJTZo\n",
              "1HswVPpeYQDBOpGBAAACeEGaO0nhClJlMCC///7aplgACEMNfsA86S3oCco0uO3bBs24AQMh0Ecl\n",
              "+K/4y6PRpqDCXTBaIB9Cb2JQqqO8rRmLOnaunQiaZsH1N4jzr2dW+dgB+Cj1ZV+tgkEfwdfK/pbA\n",
              "2p18DT/pifv4sribNh/38of/Y4dS/Kz3/I3mj7aLKAprxNX399ScXvf3J+l7m75fwrqcjw2kwV5x\n",
              "RVLek3Ms/zmqJotF5oE2c9teAvuwIXzwrSThiSxInZu0MhqEwKLmBRrxfYdR/yoFeu6dK480UD2H\n",
              "Mk1nqKXrYdY94FGWVJ2WgyDXmTElkdDM0S+DjLdTtPOhgW0ErjVacSinWCvnyxf3eL/i1ymlaXx1\n",
              "6DNmWSegbfNII7pA3JUqi/ZVf3c3G3ZgsnWMiHgO51yIviVvAiRhS7U1QrJdwhKS2c1RqUymq2tG\n",
              "lc2BUnE/0QpkaPaklMVowcezebZeD+n3EqlrLpWKxnnLa7qursEpzgVUtwDHW63IF6Jzsk7qT/Ai\n",
              "aSHZSITR8d8lDAO9dBXus+vf6SZaAyZqECeUIHqggjw+LhaRptNFvU5R345hHblhjrsEbKTerYtI\n",
              "l8aloA64YYcCGZtoY7UynG3ul6cb5eBgY3aXFU8hyc6xrCoeXokosaVpI3gh8DLXJfbV08Zv0il6\n",
              "9oMWsqhVD5y7KEBmjqSRk1/EUJyCUUHIKGaP7AIXEor9WEAOGG4q0W3tOCEL5H/EHZRW5HUarbfk\n",
              "QLF2AroSKTTzFzQK36hpByl7sa8k+P6st6aFp2FDiMyCX650Rdik/LgGgp0H0AM1DvSGpBTi4eJ4\n",
              "XwOYwza0a4T5o/tkFPnVsSM6/NCAAAADP0GaX0nhDomUwIL//tqmWAAIg58eVEABJ30D6mV+G+gf\n",
              "//64/mR709l/9zuAoyegJH3fSfuNdihCKf7wwi7W15bVDI7r5QT8josskaEcm4yb+xs1LsXh9NPa\n",
              "MbJmU/o9b3sD1XyPh9hpYyJ3P5O078vebt2v10+2YpgCAHcvKFtLXaADRZVC20swTTFmWFp1dZ/p\n",
              "MQ0oTbunBYXRm7NOOhuVen4hcnX5ZMZuQaVg9MSxd+lacd4tcjdjT9XSJnvUcaTUSBPIULvkEuum\n",
              "J+pMQ873OUwcQGHFhPDwCquNX2z6U4y+XKACG6+7qwjoCKzNh8s4Ij0X7erb+LGlyrN0M6wrvMU1\n",
              "u1jDGcNPni9Jl/kdBuICHr8CBNkm2OJ/fSj+ao/bEWzu3FCqGSi56NzKC72YSwAmCYd9p7tgRgWT\n",
              "VdgEoktP09b9Uv9gB/WrsIfE/Pw/dgVW3zzDlN1aooxTRci7nkgPefuSJKSFKwm7h0u3NxE3VO3L\n",
              "JMO3rYfy/GO9hlkxRrUCjpm9tPZzmXj6l1iRADbbjXo2nn3nXGuFiWBmvyOLwNKOhZH0qT2S7osS\n",
              "EBrKpE6ntNPKWqln/BWx0dBYsdHXm7bD94sNn7vp62rupZ4C31Pu5fT+m6mYTNr952oA3feBPtHO\n",
              "Kp3NUtgsU2jX0BXTxe+vx8Hu3VIOhAlVpCpvw6Eo233GQfKsbc8sFGmqSR9GxmGHmk1PJ5/deI4p\n",
              "qOXCDQn+3pfIh05iMYwcWnOVmD3q/kfr235g7wyYpfHtUZRJ2TQC4Y28M84okC4Psu3YwoxWod82\n",
              "KUii2gi2RyjSxkrX2iONkuAoIBslFApsfni48oPelKDsvPLjmIcNKzO9cIXL2V/bjBjwZ1cfjVI8\n",
              "7qTi7p7qymwPzK+S0POyYj+zNrkWRtBz2RKMxiSkLdnBJ1MhYPa3Bf1Dw86XSGpIW5hZzoT5EphN\n",
              "ABgnVnkVAZqWxabmCG4i51NVxRO6OZljwhxye93c5ENHLItfK5Z40H0S6YN5fUIowcjwzxksx+uE\n",
              "zK2o0nDJQAts5y1K+E3EdKpvIGF6E9EaCc7YxwhhPJBfbkQA6kAEBFwzWeVaILu3kAHPKKdjlXTH\n",
              "gQAAAEZBnn1FETwU/wAAC+ZB7gSUUIzlKyCvWxYq20wzzSDI9cwpkvEPZyVb8+PHzUEqoTYx7FWh\n",
              "hdBSV1xzI8Nlsww4RA0PHnnBAAAAPAGenHRBLwAAIKIc3H9vq+TNHqhahVR4Z59a+AFipiPsUT3M\n",
              "zl05M8bAG1saezsRjzkWtRvobz/yxRBkJAAAABsBnp5qQS8AAAMAAAMAAAMALDv9qamoKQuz0EAA\n",
              "AAAiQZqDSahBaJlMCC///tqmWAAAAwAJg87ZoBVLBgMAAAMCHwAAAB5BnqFFESwU/wAAAwAAAwAA\n",
              "AwAPfrJZDF0ag0E4VkAAAAAbAZ7AdEEvAAADAAADAAADACw5HZmog+n30qCBAAAAGwGewmpBLwAA\n",
              "AwAAAwAAAwAsO/2pqagpC7PQQAAAACJBmsdJqEFsmUwIL//+2qZYAAADAAmDztmgFUY4AwAAAwIf\n",
              "AAAAHkGe5UUVLBT/AAADAAADAAADAA9+slkMXRqDQThWQQAAABsBnwR0QS8AAAMAAAMAAAMALDkd\n",
              "maiD6ffSoIEAAAAbAZ8GakEvAAADAAADAAADACw7/ampqCkLs9BBAAAAIkGbC0moQWyZTAgv//7a\n",
              "plgAAAMACYPO2aAVSwYDAAADAh4AAAAeQZ8pRRUsFP8AAAMAAAMAAAMAD36yWQxdGoNBOFZAAAAA\n",
              "GwGfSHRBLwAAAwAAAwAAAwAsOR2ZqIPp99KggQAAABsBn0pqQS8AAAMAAAMAAAMALDv9qamoKQuz\n",
              "0EAAAAAiQZtPSahBbJlMCC///tqmWAAAAwAJg87ZoBVGOAMAAAMCHgAAAB5Bn21FFSwU/wAAAwAA\n",
              "AwAAAwAPfrJZDF0ag0E4VkEAAAAbAZ+MdEEvAAADAAADAAADACw5HZmog+n30qCBAAAAGwGfjmpB\n",
              "LwAAAwAAAwAAAwAsO/2pqagpC7PQQQAAACJBm5NJqEFsmUwIL//+2qZYAAADAAmDztmgFUsGAwAA\n",
              "AwIeAAAAHkGfsUUVLBT/AAADAAADAAADAA9+slkMXRqDQThWQAAAABsBn9B0QS8AAAMAAAMAAAMA\n",
              "LDkdmaiD6ffSoIEAAAAbAZ/SakEvAAADAAADAAADACw7/ampqCkLs9BAAAAAIkGb10moQWyZTAgv\n",
              "//7aplgAAAMACYPO2aAVRjgDAAADAh4AAAAeQZ/1RRUsFP8AAAMAAAMAAAMAD36yWQxdGoNBOFZB\n",
              "AAAAGwGeFHRBLwAAAwAAAwAAAwAsOR2ZqIPp99KggAAAABsBnhZqQS8AAAMAAAMAAAMALDv9qamo\n",
              "KQuz0EEAAAAiQZobSahBbJlMCC///tqmWAAAAwAJg87ZoBVLBgMAAAMCHwAAAB5BnjlFFSwU/wAA\n",
              "AwAAAwAAAwAPfrJZDF0ag0E4VkAAAAAbAZ5YdEEvAAADAAADAAADACw5HZmog+n30qCBAAAAGwGe\n",
              "WmpBLwAAAwAAAwAAAwAsO/2pqagpC7PQQAAAACJBml9JqEFsmUwIL//+2qZYAAADAAmDztmgFUY4\n",
              "AwAAAwIfAAAAHkGefUUVLBT/AAADAAADAAADAA9+slkMXRqDQThWQQAAABsBnpx0QS8AAAMAAAMA\n",
              "AAMALDkdmaiD6ffSoIAAAAAbAZ6eakEvAAADAAADAAADACw7/ampqCkLs9BAAAAAIUGag0moQWyZ\n",
              "TAgv//7aplgAAAMACYPO2aAPh2S7gAABlQAAAB5BnqFFFSwU/wAAAwAAAwAAAwAPfrJZDF0ag0E4\n",
              "VkAAAAAbAZ7AdEEvAAADAAADAAADACw5HZmog+n30qCBAAAAGwGewmpBLwAAAwAAAwAAAwAsO/2p\n",
              "qagpC7PQQAAAACFBmsdJqEFsmUwIL//+2qZYAAADAAmDztmgD4Rzu4AAAZUAAAAeQZ7lRRUsFP8A\n",
              "AAMAAAMAAAMAD36yWQxdGoNBOFZBAAAAGwGfBHRBLwAAAwAAAwAAAwAsOR2ZqIPp99KggQAAABsB\n",
              "nwZqQS8AAAMAAAMAAAMALDv9qamoKQuz0EEAAAAhQZsLSahBbJlMCC///tqmWAAAAwAJg87ZoA+H\n",
              "ZLuAAAGVAAAAHkGfKUUVLBT/AAADAAADAAADAA9+slkMXRqDQThWQAAAABsBn0h0QS8AAAMAAAMA\n",
              "AAMALDkdmaiD6ffSoIEAAAAbAZ9KakEvAAADAAADAAADACw7/ampqCkLs9BAAAAAHEGbT0moQWyZ\n",
              "TAgv//7aplgAAAMAAAMAAAMAPuAAAAAeQZ9tRRUsFP8AAAMAAAMAAAMAD36yWQxdGoNBOFZBAAAA\n",
              "GwGfjHRBLwAAAwAAAwAAAwAsOR2ZqIPp99KggQAAABsBn45qQS8AAAMAAAMAAAMALDv9qamoKQuz\n",
              "0EEAAAAcQZuTSahBbJlMCC///tqmWAAAAwAAAwAAAwA+4AAAAB5Bn7FFFSwU/wAAAwAAAwAAAwAP\n",
              "frJZDF0ag0E4VkAAAAAbAZ/QdEEvAAADAAADAAADACw5HZmog+n30qCBAAAAGwGf0mpBLwAAAwAA\n",
              "AwAAAwAsO/2pqagpC7PQQAAAABxBm9dJqEFsmUwILf/+1qVQAAADAAADAAADAD7gAAAAHkGf9UUV\n",
              "LBT/AAADAAADAAADAA9+slkMXRqDQThWQQAAABsBnhR0QS8AAAMAAAMAAAMALDkdmaiD6ffSoIAA\n",
              "AAAbAZ4WakEvAAADAAADAAADACw7/ampqCkLs9BBAAAAHEGaG0moQWyZTAgt//7WpVAAAAMAAAMA\n",
              "AAMAPuEAAAAeQZ45RRUsFP8AAAMAAAMAAAMAD36yWQxdGoNBOFZAAAAAGwGeWHRBLwAAAwAAAwAA\n",
              "AwAsOR2ZqIPp99KggQAAABsBnlpqQS8AAAMAAAMAAAMALDv9qamoKQuz0EAAAAAcQZpfSahBbJlM\n",
              "CCv//talUAAAAwAAAwAAAwA+4QAAAB5Bnn1FFSwU/wAAAwAAAwAAAwAPfrJZDF0ag0E4VkEAAAAb\n",
              "AZ6cdEEvAAADAAADAAADACw5HZmog+n30qCAAAAAGwGenmpBLwAAAwAAAwAAAwAsO/2pqagpC7PQ\n",
              "QAAAABtBmoNJqEFsmUwIJf/+tSqAAAADAAADAAADAesAAAAeQZ6hRRUsFP8AAAMAAAMAAAMAD36y\n",
              "WQxdGoNBOFZAAAAAGwGewHRBLwAAAwAAAwAAAwAsOR2ZqIPp99KggQAAABsBnsJqQS8AAAMAAAMA\n",
              "AAMALDv9qamoKQuz0EAAAAe+bW9vdgAAAGxtdmhkAAAAAAAAAAAAAAAAAAAD6AAAw1AAAQAAAQAA\n",
              "AAAAAAAAAAAAAAEAAAAAAAAAAAAAAAAAAAABAAAAAAAAAAAAAAAAAABAAAAAAAAAAAAAAAAAAAAA\n",
              "AAAAAAAAAAAAAAAAAAAAAgAABuh0cmFrAAAAXHRraGQAAAADAAAAAAAAAAAAAAABAAAAAAAAw1AA\n",
              "AAAAAAAAAAAAAAAAAAAAAAEAAAAAAAAAAAAAAAAAAAABAAAAAAAAAAAAAAAAAABAAAAAA2AAAAGw\n",
              "AAAAAAAkZWR0cwAAABxlbHN0AAAAAAAAAAEAAMNQAABAAAABAAAAAAZgbWRpYQAAACBtZGhkAAAA\n",
              "AAAAAAAAAAAAAABAAAAMgABVxAAAAAAALWhkbHIAAAAAAAAAAHZpZGUAAAAAAAAAAAAAAABWaWRl\n",
              "b0hhbmRsZXIAAAAGC21pbmYAAAAUdm1oZAAAAAEAAAAAAAAAAAAAACRkaW5mAAAAHGRyZWYAAAAA\n",
              "AAAAAQAAAAx1cmwgAAAAAQAABctzdGJsAAAAs3N0c2QAAAAAAAAAAQAAAKNhdmMxAAAAAAAAAAEA\n",
              "AAAAAAAAAAAAAAAAAAAAA2ABsABIAAAASAAAAAAAAAABAAAAAAAAAAAAAAAAAAAAAAAAAAAAAAAA\n",
              "AAAAAAAAAAAAGP//AAAAMWF2Y0MBZAAW/+EAGGdkABas2UDYN6EAAAMAAQAAAwAEDxYtlgEABmjr\n",
              "48siwAAAABx1dWlka2hA8l8kT8W6OaUbzwMj8wAAAAAAAAAYc3R0cwAAAAAAAAABAAAAZAAAIAAA\n",
              "AAAUc3RzcwAAAAAAAAABAAAAAQAAAxBjdHRzAAAAAAAAAGAAAAACAABAAAAAAAEAAIAAAAAAAgAA\n",
              "IAAAAAABAACgAAAAAAEAAEAAAAAAAQAAAAAAAAABAAAgAAAAAAEAAEAAAAAAAQAAoAAAAAABAABA\n",
              "AAAAAAEAAAAAAAAAAQAAIAAAAAABAACgAAAAAAEAAEAAAAAAAQAAAAAAAAABAAAgAAAAAAIAAEAA\n",
              "AAAAAQAAYAAAAAABAAAgAAAAAAEAAKAAAAAAAQAAQAAAAAABAAAAAAAAAAEAACAAAAAAAgAAQAAA\n",
              "AAABAACgAAAAAAEAAEAAAAAAAQAAAAAAAAABAAAgAAAAAAEAAKAAAAAAAQAAQAAAAAABAAAAAAAA\n",
              "AAEAACAAAAAAAQAAoAAAAAABAABAAAAAAAEAAAAAAAAAAQAAIAAAAAABAACgAAAAAAEAAEAAAAAA\n",
              "AQAAAAAAAAABAAAgAAAAAAEAAKAAAAAAAQAAQAAAAAABAAAAAAAAAAEAACAAAAAAAQAAoAAAAAAB\n",
              "AABAAAAAAAEAAAAAAAAAAQAAIAAAAAABAACgAAAAAAEAAEAAAAAAAQAAAAAAAAABAAAgAAAAAAEA\n",
              "AKAAAAAAAQAAQAAAAAABAAAAAAAAAAEAACAAAAAAAQAAoAAAAAABAABAAAAAAAEAAAAAAAAAAQAA\n",
              "IAAAAAABAACgAAAAAAEAAEAAAAAAAQAAAAAAAAABAAAgAAAAAAEAAKAAAAAAAQAAQAAAAAABAAAA\n",
              "AAAAAAEAACAAAAAAAQAAoAAAAAABAABAAAAAAAEAAAAAAAAAAQAAIAAAAAABAACgAAAAAAEAAEAA\n",
              "AAAAAQAAAAAAAAABAAAgAAAAAAEAAKAAAAAAAQAAQAAAAAABAAAAAAAAAAEAACAAAAAAAQAAoAAA\n",
              "AAABAABAAAAAAAEAAAAAAAAAAQAAIAAAAAABAACgAAAAAAEAAEAAAAAAAQAAAAAAAAABAAAgAAAA\n",
              "AAEAAKAAAAAAAQAAQAAAAAABAAAAAAAAAAEAACAAAAAAAQAAoAAAAAABAABAAAAAAAEAAAAAAAAA\n",
              "AQAAIAAAAAAcc3RzYwAAAAAAAAABAAAAAQAAAGQAAAABAAABpHN0c3oAAAAAAAAAAAAAAGQAACJp\n",
              "AAAGxgAACJAAAAVIAAAERwAABWQAAAWjAAAC1AAABqoAAAWwAAAKAwAABNkAAASoAAAGYAAABnIA\n",
              "AAgXAAAF3gAACO4AAAMkAAAAtwAACZQAAAYXAAAL2QAAB9AAAAU7AAAFqAAAB+cAAAJ8AAADQwAA\n",
              "AEoAAABAAAAAHwAAACYAAAAiAAAAHwAAAB8AAAAmAAAAIgAAAB8AAAAfAAAAJgAAACIAAAAfAAAA\n",
              "HwAAACYAAAAiAAAAHwAAAB8AAAAmAAAAIgAAAB8AAAAfAAAAJgAAACIAAAAfAAAAHwAAACYAAAAi\n",
              "AAAAHwAAAB8AAAAmAAAAIgAAAB8AAAAfAAAAJQAAACIAAAAfAAAAHwAAACUAAAAiAAAAHwAAAB8A\n",
              "AAAlAAAAIgAAAB8AAAAfAAAAIAAAACIAAAAfAAAAHwAAACAAAAAiAAAAHwAAAB8AAAAgAAAAIgAA\n",
              "AB8AAAAfAAAAIAAAACIAAAAfAAAAHwAAACAAAAAiAAAAHwAAAB8AAAAfAAAAIgAAAB8AAAAfAAAA\n",
              "FHN0Y28AAAAAAAAAAQAAACwAAABidWR0YQAAAFptZXRhAAAAAAAAACFoZGxyAAAAAAAAAABtZGly\n",
              "YXBwbAAAAAAAAAAAAAAAAC1pbHN0AAAAJal0b28AAAAdZGF0YQAAAAEAAAAATGF2ZjU3LjgzLjEw\n",
              "MA==\n",
              "\">\n",
              "  Your browser does not support the video tag.\n",
              "</video>"
            ],
            "text/plain": [
              "<IPython.core.display.HTML object>"
            ]
          },
          "metadata": {
            "tags": []
          },
          "execution_count": 450
        },
        {
          "output_type": "display_data",
          "data": {
            "image/png": "[encoded data removed]",
            "text/plain": [
              "<Figure size 864x432 with 1 Axes>"
            ]
          },
          "metadata": {
            "tags": [],
            "needs_background": "light"
          }
        }
      ]
    },
    {
      "cell_type": "markdown",
      "metadata": {
        "id": "OVp0Kex2Z6iH"
      },
      "source": [
        "# Referências"
      ]
    },
    {
      "cell_type": "markdown",
      "metadata": {
        "id": "7z_VzqSBZ_Dc"
      },
      "source": [
        "*   https://docs.scipy.org/doc/scipy/reference/stats.html\n",
        "*   https://matplotlib.org/stable/api/_as_gen/matplotlib.pyplot.hist.html\n",
        "*   https://olympics.com/ioc/faq/history-and-origin-of-the-games/since-when-have-the-summer-and-winter-games-no-longer-been-held-in-the-same-year\n",
        "*   https://towardsdatascience.com/learn-how-to-create-animated-graphs-in-python-fce780421afe\n"
      ]
    }
  ]
}
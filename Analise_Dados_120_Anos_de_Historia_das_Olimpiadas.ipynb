{
  "nbformat": 4,
  "nbformat_minor": 0,
  "metadata": {
    "colab": {
      "name": "Analise Dados 120 Anos de Historia das Olimpiadas.ipynb",
      "provenance": [],
      "authorship_tag": "ABX9TyN0nbIiVHjyqX+Wruycsmer",
      "include_colab_link": true
    },
    "kernelspec": {
      "display_name": "Python 3",
      "name": "python3"
    },
    "language_info": {
      "name": "python"
    }
  },
  "cells": [
    {
      "cell_type": "markdown",
      "metadata": {
        "id": "view-in-github",
        "colab_type": "text"
      },
      "source": [
        "<a href=\"https://colab.research.google.com/github/barbaracarnauba/repo_analise_dados_jogos_olimpicos/blob/main/Analise_Dados_120_Anos_de_Historia_das_Olimpiadas.ipynb\" target=\"_parent\"><img src=\"https://colab.research.google.com/assets/colab-badge.svg\" alt=\"Open In Colab\"/></a>"
      ]
    },
    {
      "cell_type": "markdown",
      "metadata": {
        "id": "12oZIemDQ8w3"
      },
      "source": [
        "# Dataset: 120 years of Olympic history: athletes and results\n",
        "basic bio data on athletes and medal results from Athens 1896 to Rio 2016 (kaggle)\n",
        "\n",
        "Fonte: https://www.kaggle.com/heesoo37/120-years-of-olympic-history-athletes-and-results"
      ]
    },
    {
      "cell_type": "markdown",
      "metadata": {
        "id": "pOEw3TUjScIw"
      },
      "source": [
        "**Importando bibliotecas**"
      ]
    },
    {
      "cell_type": "code",
      "metadata": {
        "id": "KCfFfN_ZQIP9"
      },
      "source": [
        "import pandas as pd\n",
        "import numpy as np\n",
        "import matplotlib.pyplot as plt\n",
        "import itertools  as it\n",
        "import seaborn as sns\n",
        "import statistics\n",
        "from scipy import stats\n",
        "import matplotlib.animation as ani"
      ],
      "execution_count": 390,
      "outputs": []
    },
    {
      "cell_type": "markdown",
      "metadata": {
        "id": "yoMWb5GhSmpZ"
      },
      "source": [
        "**Carregando Dataset**"
      ]
    },
    {
      "cell_type": "code",
      "metadata": {
        "id": "pH8-QZuOSuGz"
      },
      "source": [
        "caminho = '/content/athlete_events.csv'\n",
        "df_athlete_events = pd.read_csv(caminho)"
      ],
      "execution_count": 391,
      "outputs": []
    },
    {
      "cell_type": "markdown",
      "metadata": {
        "id": "L0eE4TtlP4n0"
      },
      "source": [
        "**Visão geral sobre o dataset**"
      ]
    },
    {
      "cell_type": "code",
      "metadata": {
        "colab": {
          "base_uri": "https://localhost:8080/",
          "height": 445
        },
        "id": "huu64KXhTGrR",
        "outputId": "918f154a-6dba-4cfc-96dd-ddcaf7ab2444"
      },
      "source": [
        "df_athlete_events.head()"
      ],
      "execution_count": 392,
      "outputs": [
        {
          "output_type": "execute_result",
          "data": {
            "text/html": [
              "<div>\n",
              "<style scoped>\n",
              "    .dataframe tbody tr th:only-of-type {\n",
              "        vertical-align: middle;\n",
              "    }\n",
              "\n",
              "    .dataframe tbody tr th {\n",
              "        vertical-align: top;\n",
              "    }\n",
              "\n",
              "    .dataframe thead th {\n",
              "        text-align: right;\n",
              "    }\n",
              "</style>\n",
              "<table border=\"1\" class=\"dataframe\">\n",
              "  <thead>\n",
              "    <tr style=\"text-align: right;\">\n",
              "      <th></th>\n",
              "      <th>ID</th>\n",
              "      <th>Name</th>\n",
              "      <th>Sex</th>\n",
              "      <th>Age</th>\n",
              "      <th>Height</th>\n",
              "      <th>Weight</th>\n",
              "      <th>Team</th>\n",
              "      <th>NOC</th>\n",
              "      <th>Games</th>\n",
              "      <th>Year</th>\n",
              "      <th>Season</th>\n",
              "      <th>City</th>\n",
              "      <th>Sport</th>\n",
              "      <th>Event</th>\n",
              "      <th>Medal</th>\n",
              "    </tr>\n",
              "  </thead>\n",
              "  <tbody>\n",
              "    <tr>\n",
              "      <th>0</th>\n",
              "      <td>1</td>\n",
              "      <td>A Dijiang</td>\n",
              "      <td>M</td>\n",
              "      <td>24.0</td>\n",
              "      <td>180.0</td>\n",
              "      <td>80.0</td>\n",
              "      <td>China</td>\n",
              "      <td>CHN</td>\n",
              "      <td>1992 Summer</td>\n",
              "      <td>1992</td>\n",
              "      <td>Summer</td>\n",
              "      <td>Barcelona</td>\n",
              "      <td>Basketball</td>\n",
              "      <td>Basketball Men's Basketball</td>\n",
              "      <td>NaN</td>\n",
              "    </tr>\n",
              "    <tr>\n",
              "      <th>1</th>\n",
              "      <td>2</td>\n",
              "      <td>A Lamusi</td>\n",
              "      <td>M</td>\n",
              "      <td>23.0</td>\n",
              "      <td>170.0</td>\n",
              "      <td>60.0</td>\n",
              "      <td>China</td>\n",
              "      <td>CHN</td>\n",
              "      <td>2012 Summer</td>\n",
              "      <td>2012</td>\n",
              "      <td>Summer</td>\n",
              "      <td>London</td>\n",
              "      <td>Judo</td>\n",
              "      <td>Judo Men's Extra-Lightweight</td>\n",
              "      <td>NaN</td>\n",
              "    </tr>\n",
              "    <tr>\n",
              "      <th>2</th>\n",
              "      <td>3</td>\n",
              "      <td>Gunnar Nielsen Aaby</td>\n",
              "      <td>M</td>\n",
              "      <td>24.0</td>\n",
              "      <td>NaN</td>\n",
              "      <td>NaN</td>\n",
              "      <td>Denmark</td>\n",
              "      <td>DEN</td>\n",
              "      <td>1920 Summer</td>\n",
              "      <td>1920</td>\n",
              "      <td>Summer</td>\n",
              "      <td>Antwerpen</td>\n",
              "      <td>Football</td>\n",
              "      <td>Football Men's Football</td>\n",
              "      <td>NaN</td>\n",
              "    </tr>\n",
              "    <tr>\n",
              "      <th>3</th>\n",
              "      <td>4</td>\n",
              "      <td>Edgar Lindenau Aabye</td>\n",
              "      <td>M</td>\n",
              "      <td>34.0</td>\n",
              "      <td>NaN</td>\n",
              "      <td>NaN</td>\n",
              "      <td>Denmark/Sweden</td>\n",
              "      <td>DEN</td>\n",
              "      <td>1900 Summer</td>\n",
              "      <td>1900</td>\n",
              "      <td>Summer</td>\n",
              "      <td>Paris</td>\n",
              "      <td>Tug-Of-War</td>\n",
              "      <td>Tug-Of-War Men's Tug-Of-War</td>\n",
              "      <td>Gold</td>\n",
              "    </tr>\n",
              "    <tr>\n",
              "      <th>4</th>\n",
              "      <td>5</td>\n",
              "      <td>Christine Jacoba Aaftink</td>\n",
              "      <td>F</td>\n",
              "      <td>21.0</td>\n",
              "      <td>185.0</td>\n",
              "      <td>82.0</td>\n",
              "      <td>Netherlands</td>\n",
              "      <td>NED</td>\n",
              "      <td>1988 Winter</td>\n",
              "      <td>1988</td>\n",
              "      <td>Winter</td>\n",
              "      <td>Calgary</td>\n",
              "      <td>Speed Skating</td>\n",
              "      <td>Speed Skating Women's 500 metres</td>\n",
              "      <td>NaN</td>\n",
              "    </tr>\n",
              "  </tbody>\n",
              "</table>\n",
              "</div>"
            ],
            "text/plain": [
              "   ID                      Name  ...                             Event  Medal\n",
              "0   1                 A Dijiang  ...       Basketball Men's Basketball    NaN\n",
              "1   2                  A Lamusi  ...      Judo Men's Extra-Lightweight    NaN\n",
              "2   3       Gunnar Nielsen Aaby  ...           Football Men's Football    NaN\n",
              "3   4      Edgar Lindenau Aabye  ...       Tug-Of-War Men's Tug-Of-War   Gold\n",
              "4   5  Christine Jacoba Aaftink  ...  Speed Skating Women's 500 metres    NaN\n",
              "\n",
              "[5 rows x 15 columns]"
            ]
          },
          "metadata": {
            "tags": []
          },
          "execution_count": 392
        }
      ]
    },
    {
      "cell_type": "code",
      "metadata": {
        "colab": {
          "base_uri": "https://localhost:8080/"
        },
        "id": "O08mxyT4K_3O",
        "outputId": "89457724-7ae5-430b-cefe-81a655479946"
      },
      "source": [
        "df_athlete_events.shape"
      ],
      "execution_count": 393,
      "outputs": [
        {
          "output_type": "execute_result",
          "data": {
            "text/plain": [
              "(271116, 15)"
            ]
          },
          "metadata": {
            "tags": []
          },
          "execution_count": 393
        }
      ]
    },
    {
      "cell_type": "markdown",
      "metadata": {
        "id": "oAU2Nqq1J_sn"
      },
      "source": [
        "**Observação**\n",
        "\n",
        "Há jogos olímpicos de inverso e de verão, como pode ser visto na coluna \"Season\" do dataset. Como nosso objetivo é apenas analisar os dados das olimpíadas de verão (no hemisfério norte). Filtraremos apenas os dados referentes a Season == 'Verão'"
      ]
    },
    {
      "cell_type": "code",
      "metadata": {
        "colab": {
          "base_uri": "https://localhost:8080/"
        },
        "id": "MjAH3frnKjnc",
        "outputId": "a1fa81cc-9816-4b37-d8da-700776f224d3"
      },
      "source": [
        "df_athlete_events['Season'].value_counts() # confirmando que só a duas possibilidades nesta coluna [Winter, Summer]"
      ],
      "execution_count": 394,
      "outputs": [
        {
          "output_type": "execute_result",
          "data": {
            "text/plain": [
              "Summer    222552\n",
              "Winter     48564\n",
              "Name: Season, dtype: int64"
            ]
          },
          "metadata": {
            "tags": []
          },
          "execution_count": 394
        }
      ]
    },
    {
      "cell_type": "code",
      "metadata": {
        "id": "2zw3HZv7Kbdr"
      },
      "source": [
        "filtra_verao = df_athlete_events['Season'] == 'Summer'\n",
        "df_athlete_events=df_athlete_events[filtra_verao]"
      ],
      "execution_count": 395,
      "outputs": []
    },
    {
      "cell_type": "code",
      "metadata": {
        "colab": {
          "base_uri": "https://localhost:8080/",
          "height": 830
        },
        "id": "80ae7tQqRbUM",
        "outputId": "4acb675b-a1c0-4d3b-bf41-ddbfa74360cd"
      },
      "source": [
        "df_athlete_events.sort_values(by=['Age'])"
      ],
      "execution_count": 396,
      "outputs": [
        {
          "output_type": "execute_result",
          "data": {
            "text/html": [
              "<div>\n",
              "<style scoped>\n",
              "    .dataframe tbody tr th:only-of-type {\n",
              "        vertical-align: middle;\n",
              "    }\n",
              "\n",
              "    .dataframe tbody tr th {\n",
              "        vertical-align: top;\n",
              "    }\n",
              "\n",
              "    .dataframe thead th {\n",
              "        text-align: right;\n",
              "    }\n",
              "</style>\n",
              "<table border=\"1\" class=\"dataframe\">\n",
              "  <thead>\n",
              "    <tr style=\"text-align: right;\">\n",
              "      <th></th>\n",
              "      <th>ID</th>\n",
              "      <th>Name</th>\n",
              "      <th>Sex</th>\n",
              "      <th>Age</th>\n",
              "      <th>Height</th>\n",
              "      <th>Weight</th>\n",
              "      <th>Team</th>\n",
              "      <th>NOC</th>\n",
              "      <th>Games</th>\n",
              "      <th>Year</th>\n",
              "      <th>Season</th>\n",
              "      <th>City</th>\n",
              "      <th>Sport</th>\n",
              "      <th>Event</th>\n",
              "      <th>Medal</th>\n",
              "    </tr>\n",
              "  </thead>\n",
              "  <tbody>\n",
              "    <tr>\n",
              "      <th>142882</th>\n",
              "      <td>71691</td>\n",
              "      <td>Dimitrios Loundras</td>\n",
              "      <td>M</td>\n",
              "      <td>10.0</td>\n",
              "      <td>NaN</td>\n",
              "      <td>NaN</td>\n",
              "      <td>Ethnikos Gymnastikos Syllogos</td>\n",
              "      <td>GRE</td>\n",
              "      <td>1896 Summer</td>\n",
              "      <td>1896</td>\n",
              "      <td>Summer</td>\n",
              "      <td>Athina</td>\n",
              "      <td>Gymnastics</td>\n",
              "      <td>Gymnastics Men's Parallel Bars, Teams</td>\n",
              "      <td>Bronze</td>\n",
              "    </tr>\n",
              "    <tr>\n",
              "      <th>252230</th>\n",
              "      <td>126307</td>\n",
              "      <td>Liana Vicens</td>\n",
              "      <td>F</td>\n",
              "      <td>11.0</td>\n",
              "      <td>158.0</td>\n",
              "      <td>50.0</td>\n",
              "      <td>Puerto Rico</td>\n",
              "      <td>PUR</td>\n",
              "      <td>1968 Summer</td>\n",
              "      <td>1968</td>\n",
              "      <td>Summer</td>\n",
              "      <td>Mexico City</td>\n",
              "      <td>Swimming</td>\n",
              "      <td>Swimming Women's 100 metres Breaststroke</td>\n",
              "      <td>NaN</td>\n",
              "    </tr>\n",
              "    <tr>\n",
              "      <th>79024</th>\n",
              "      <td>40129</td>\n",
              "      <td>Luigina Giavotti</td>\n",
              "      <td>F</td>\n",
              "      <td>11.0</td>\n",
              "      <td>NaN</td>\n",
              "      <td>NaN</td>\n",
              "      <td>Italy</td>\n",
              "      <td>ITA</td>\n",
              "      <td>1928 Summer</td>\n",
              "      <td>1928</td>\n",
              "      <td>Summer</td>\n",
              "      <td>Amsterdam</td>\n",
              "      <td>Gymnastics</td>\n",
              "      <td>Gymnastics Women's Team All-Around</td>\n",
              "      <td>Silver</td>\n",
              "    </tr>\n",
              "    <tr>\n",
              "      <th>73461</th>\n",
              "      <td>37333</td>\n",
              "      <td>Carlos Bienvenido Front Barrera</td>\n",
              "      <td>M</td>\n",
              "      <td>11.0</td>\n",
              "      <td>NaN</td>\n",
              "      <td>NaN</td>\n",
              "      <td>Spain</td>\n",
              "      <td>ESP</td>\n",
              "      <td>1992 Summer</td>\n",
              "      <td>1992</td>\n",
              "      <td>Summer</td>\n",
              "      <td>Barcelona</td>\n",
              "      <td>Rowing</td>\n",
              "      <td>Rowing Men's Coxed Eights</td>\n",
              "      <td>NaN</td>\n",
              "    </tr>\n",
              "    <tr>\n",
              "      <th>252231</th>\n",
              "      <td>126307</td>\n",
              "      <td>Liana Vicens</td>\n",
              "      <td>F</td>\n",
              "      <td>11.0</td>\n",
              "      <td>158.0</td>\n",
              "      <td>50.0</td>\n",
              "      <td>Puerto Rico</td>\n",
              "      <td>PUR</td>\n",
              "      <td>1968 Summer</td>\n",
              "      <td>1968</td>\n",
              "      <td>Summer</td>\n",
              "      <td>Mexico City</td>\n",
              "      <td>Swimming</td>\n",
              "      <td>Swimming Women's 200 metres Breaststroke</td>\n",
              "      <td>NaN</td>\n",
              "    </tr>\n",
              "    <tr>\n",
              "      <th>...</th>\n",
              "      <td>...</td>\n",
              "      <td>...</td>\n",
              "      <td>...</td>\n",
              "      <td>...</td>\n",
              "      <td>...</td>\n",
              "      <td>...</td>\n",
              "      <td>...</td>\n",
              "      <td>...</td>\n",
              "      <td>...</td>\n",
              "      <td>...</td>\n",
              "      <td>...</td>\n",
              "      <td>...</td>\n",
              "      <td>...</td>\n",
              "      <td>...</td>\n",
              "      <td>...</td>\n",
              "    </tr>\n",
              "    <tr>\n",
              "      <th>270679</th>\n",
              "      <td>135368</td>\n",
              "      <td>Antonio A. Zucchi</td>\n",
              "      <td>M</td>\n",
              "      <td>NaN</td>\n",
              "      <td>NaN</td>\n",
              "      <td>NaN</td>\n",
              "      <td>Argentina</td>\n",
              "      <td>ARG</td>\n",
              "      <td>1948 Summer</td>\n",
              "      <td>1948</td>\n",
              "      <td>Summer</td>\n",
              "      <td>London</td>\n",
              "      <td>Hockey</td>\n",
              "      <td>Hockey Men's Hockey</td>\n",
              "      <td>NaN</td>\n",
              "    </tr>\n",
              "    <tr>\n",
              "      <th>270774</th>\n",
              "      <td>135416</td>\n",
              "      <td>Star Zulu</td>\n",
              "      <td>M</td>\n",
              "      <td>NaN</td>\n",
              "      <td>NaN</td>\n",
              "      <td>NaN</td>\n",
              "      <td>Zambia</td>\n",
              "      <td>ZAM</td>\n",
              "      <td>1984 Summer</td>\n",
              "      <td>1984</td>\n",
              "      <td>Summer</td>\n",
              "      <td>Los Angeles</td>\n",
              "      <td>Boxing</td>\n",
              "      <td>Boxing Men's Bantamweight</td>\n",
              "      <td>NaN</td>\n",
              "    </tr>\n",
              "    <tr>\n",
              "      <th>270793</th>\n",
              "      <td>135426</td>\n",
              "      <td>Max Zumstein</td>\n",
              "      <td>M</td>\n",
              "      <td>NaN</td>\n",
              "      <td>NaN</td>\n",
              "      <td>NaN</td>\n",
              "      <td>Switzerland</td>\n",
              "      <td>SUI</td>\n",
              "      <td>1928 Summer</td>\n",
              "      <td>1928</td>\n",
              "      <td>Summer</td>\n",
              "      <td>Amsterdam</td>\n",
              "      <td>Hockey</td>\n",
              "      <td>Hockey Men's Hockey</td>\n",
              "      <td>NaN</td>\n",
              "    </tr>\n",
              "    <tr>\n",
              "      <th>270804</th>\n",
              "      <td>135434</td>\n",
              "      <td>Edmundo Ziga Erraz</td>\n",
              "      <td>M</td>\n",
              "      <td>NaN</td>\n",
              "      <td>180.0</td>\n",
              "      <td>95.0</td>\n",
              "      <td>Chile</td>\n",
              "      <td>CHI</td>\n",
              "      <td>1948 Summer</td>\n",
              "      <td>1948</td>\n",
              "      <td>Summer</td>\n",
              "      <td>London</td>\n",
              "      <td>Athletics</td>\n",
              "      <td>Athletics Men's Hammer Throw</td>\n",
              "      <td>NaN</td>\n",
              "    </tr>\n",
              "    <tr>\n",
              "      <th>270805</th>\n",
              "      <td>135435</td>\n",
              "      <td>Faelo Ziga</td>\n",
              "      <td>M</td>\n",
              "      <td>NaN</td>\n",
              "      <td>NaN</td>\n",
              "      <td>NaN</td>\n",
              "      <td>Chile</td>\n",
              "      <td>CHI</td>\n",
              "      <td>1928 Summer</td>\n",
              "      <td>1928</td>\n",
              "      <td>Summer</td>\n",
              "      <td>Amsterdam</td>\n",
              "      <td>Swimming</td>\n",
              "      <td>Swimming Men's 100 metres Freestyle</td>\n",
              "      <td>NaN</td>\n",
              "    </tr>\n",
              "  </tbody>\n",
              "</table>\n",
              "<p>222552 rows × 15 columns</p>\n",
              "</div>"
            ],
            "text/plain": [
              "            ID  ...   Medal\n",
              "142882   71691  ...  Bronze\n",
              "252230  126307  ...     NaN\n",
              "79024    40129  ...  Silver\n",
              "73461    37333  ...     NaN\n",
              "252231  126307  ...     NaN\n",
              "...        ...  ...     ...\n",
              "270679  135368  ...     NaN\n",
              "270774  135416  ...     NaN\n",
              "270793  135426  ...     NaN\n",
              "270804  135434  ...     NaN\n",
              "270805  135435  ...     NaN\n",
              "\n",
              "[222552 rows x 15 columns]"
            ]
          },
          "metadata": {
            "tags": []
          },
          "execution_count": 396
        }
      ]
    },
    {
      "cell_type": "code",
      "metadata": {
        "colab": {
          "base_uri": "https://localhost:8080/"
        },
        "id": "R4sf5pDcTNsH",
        "outputId": "7b16d9c1-f046-4f60-9361-1e92a0b9c99a"
      },
      "source": [
        "df_athlete_events.dtypes"
      ],
      "execution_count": 397,
      "outputs": [
        {
          "output_type": "execute_result",
          "data": {
            "text/plain": [
              "ID          int64\n",
              "Name       object\n",
              "Sex        object\n",
              "Age       float64\n",
              "Height    float64\n",
              "Weight    float64\n",
              "Team       object\n",
              "NOC        object\n",
              "Games      object\n",
              "Year        int64\n",
              "Season     object\n",
              "City       object\n",
              "Sport      object\n",
              "Event      object\n",
              "Medal      object\n",
              "dtype: object"
            ]
          },
          "metadata": {
            "tags": []
          },
          "execution_count": 397
        }
      ]
    },
    {
      "cell_type": "markdown",
      "metadata": {
        "id": "ZQP2NkOZT6CX"
      },
      "source": [
        "**Contando NaN por coluna no df**"
      ]
    },
    {
      "cell_type": "code",
      "metadata": {
        "colab": {
          "base_uri": "https://localhost:8080/"
        },
        "id": "tyIR3n1LPpB-",
        "outputId": "db1f3b50-8532-4df5-b622-5d36969cae53"
      },
      "source": [
        "df_athlete_events.columns"
      ],
      "execution_count": 398,
      "outputs": [
        {
          "output_type": "execute_result",
          "data": {
            "text/plain": [
              "Index(['ID', 'Name', 'Sex', 'Age', 'Height', 'Weight', 'Team', 'NOC', 'Games',\n",
              "       'Year', 'Season', 'City', 'Sport', 'Event', 'Medal'],\n",
              "      dtype='object')"
            ]
          },
          "metadata": {
            "tags": []
          },
          "execution_count": 398
        }
      ]
    },
    {
      "cell_type": "code",
      "metadata": {
        "colab": {
          "base_uri": "https://localhost:8080/"
        },
        "id": "rt9wQ2yPThts",
        "outputId": "7f6ffcb5-7670-4445-9737-7579205bdf04"
      },
      "source": [
        "df_athlete_events.isna().sum()"
      ],
      "execution_count": 399,
      "outputs": [
        {
          "output_type": "execute_result",
          "data": {
            "text/plain": [
              "ID             0\n",
              "Name           0\n",
              "Sex            0\n",
              "Age         9189\n",
              "Height     51857\n",
              "Weight     53854\n",
              "Team           0\n",
              "NOC            0\n",
              "Games          0\n",
              "Year           0\n",
              "Season         0\n",
              "City           0\n",
              "Sport          0\n",
              "Event          0\n",
              "Medal     188464\n",
              "dtype: int64"
            ]
          },
          "metadata": {
            "tags": []
          },
          "execution_count": 399
        }
      ]
    },
    {
      "cell_type": "code",
      "metadata": {
        "colab": {
          "base_uri": "https://localhost:8080/"
        },
        "id": "_wYJwp2FPUnp",
        "outputId": "0b735c7b-c145-4226-99cd-33b561b7f193"
      },
      "source": [
        "rows_number = df_athlete_events.shape[0]\n",
        "rows_number"
      ],
      "execution_count": 400,
      "outputs": [
        {
          "output_type": "execute_result",
          "data": {
            "text/plain": [
              "222552"
            ]
          },
          "metadata": {
            "tags": []
          },
          "execution_count": 400
        }
      ]
    },
    {
      "cell_type": "markdown",
      "metadata": {
        "id": "ETiedLVutZfg"
      },
      "source": [
        "**Após ter uma visão geral sobre o datset, quais perguntas são interessantes de saber?**\n",
        "\n",
        "1.   Qual o percentual de valores faltantes por feature?\n",
        "2.   Quais as principais métricas das variáveis numéricas?\n",
        "3.   Como se distribuem as features numéricas?\n",
        "4.   Quais as correlações entre as features?\n",
        "5.   Qual a distribuição de sexo por esporte?\n",
        "6.   Quais os maiores medalhistas da história das olímpiadas?\n",
        "7.   Quem ganhou mais medalhas de ouro?\n",
        "8.   Quem ganhou mais medalhas em uma única olimpíada?\n",
        "9.   Países com mais medalhas historicamente?\n",
        "10.  Países com mais medalhas desde 1980?\n",
        "11.  Corrida histórica de medalhas de 1896 a 2016\n",
        "12.  Animação da corrida histórica de medalhas de 1896 a 2016\n"
      ]
    },
    {
      "cell_type": "markdown",
      "metadata": {
        "id": "Yi2sPOfFveEF"
      },
      "source": [
        "# 1. Qual o percentual de valores faltantes por feature?"
      ]
    },
    {
      "cell_type": "code",
      "metadata": {
        "colab": {
          "base_uri": "https://localhost:8080/"
        },
        "id": "KmUwvkjhsCst",
        "outputId": "67274835-b545-4307-c9a6-0bb58b3e13b6"
      },
      "source": [
        "serie = df_athlete_events.isna().sum()\n",
        "percent_nan_age = round((serie['Age']/rows_number)*100,2)\n",
        "percent_nan_age"
      ],
      "execution_count": 401,
      "outputs": [
        {
          "output_type": "execute_result",
          "data": {
            "text/plain": [
              "4.13"
            ]
          },
          "metadata": {
            "tags": []
          },
          "execution_count": 401
        }
      ]
    },
    {
      "cell_type": "code",
      "metadata": {
        "colab": {
          "base_uri": "https://localhost:8080/"
        },
        "id": "NzzkVH9tscdz",
        "outputId": "b011709b-5b2f-4768-9e00-caaf2cdec394"
      },
      "source": [
        "percent_nan_altura = round((serie['Height']/rows_number)*100,2)\n",
        "percent_nan_altura"
      ],
      "execution_count": 402,
      "outputs": [
        {
          "output_type": "execute_result",
          "data": {
            "text/plain": [
              "23.3"
            ]
          },
          "metadata": {
            "tags": []
          },
          "execution_count": 402
        }
      ]
    },
    {
      "cell_type": "code",
      "metadata": {
        "colab": {
          "base_uri": "https://localhost:8080/"
        },
        "id": "XqJyc0CAsi-C",
        "outputId": "f087005d-2323-4874-e574-4fac6235d526"
      },
      "source": [
        "percent_nan_peso = round((serie['Weight']/rows_number)*100,2)\n",
        "percent_nan_peso"
      ],
      "execution_count": 403,
      "outputs": [
        {
          "output_type": "execute_result",
          "data": {
            "text/plain": [
              "24.2"
            ]
          },
          "metadata": {
            "tags": []
          },
          "execution_count": 403
        }
      ]
    },
    {
      "cell_type": "code",
      "metadata": {
        "colab": {
          "base_uri": "https://localhost:8080/"
        },
        "id": "wOLWlsvFspoU",
        "outputId": "a5b50450-a436-44cb-e288-b2bae198a386"
      },
      "source": [
        "percent_nan_medal = round((serie['Medal']/rows_number)*100,2)\n",
        "percent_nan_medal"
      ],
      "execution_count": 404,
      "outputs": [
        {
          "output_type": "execute_result",
          "data": {
            "text/plain": [
              "84.68"
            ]
          },
          "metadata": {
            "tags": []
          },
          "execution_count": 404
        }
      ]
    },
    {
      "cell_type": "markdown",
      "metadata": {
        "id": "llCNwH3lHt91"
      },
      "source": [
        "**Observação**\n",
        "\n",
        "Analisando o percentual de dados faltantes (NaN) nas features, é razoável que haja 3,49% de de NaN na feature Age, 22,19% na feature Height e 23,19% na feature Weight. No entanto, não é razoável que haja 85,33% NaN na feature Medal. A hipótese aqui assumida é que esses NaN são na verdade os participantes que não ganharam medalha. Por isso, vamos preencher tais NaN com a string \"No Medal\"."
      ]
    },
    {
      "cell_type": "markdown",
      "metadata": {
        "id": "_yBIVm0EJOHd"
      },
      "source": [
        "**Subtituindo NaN na coluna 'Medal' por 'No Medal'**"
      ]
    },
    {
      "cell_type": "code",
      "metadata": {
        "id": "ybXDaawbI3m0"
      },
      "source": [
        "df_athlete_events['Medal'].fillna('No Medal', inplace=True)"
      ],
      "execution_count": 405,
      "outputs": []
    },
    {
      "cell_type": "markdown",
      "metadata": {
        "id": "RfJ9SPJFJfFm"
      },
      "source": [
        "**Confirmando se a substituição foi realizada**"
      ]
    },
    {
      "cell_type": "code",
      "metadata": {
        "colab": {
          "base_uri": "https://localhost:8080/"
        },
        "id": "ywifiZCHJmDd",
        "outputId": "e50c9dd4-71de-4136-bf39-7a38c09bd165"
      },
      "source": [
        "df_athlete_events.isna().sum()"
      ],
      "execution_count": 406,
      "outputs": [
        {
          "output_type": "execute_result",
          "data": {
            "text/plain": [
              "ID            0\n",
              "Name          0\n",
              "Sex           0\n",
              "Age        9189\n",
              "Height    51857\n",
              "Weight    53854\n",
              "Team          0\n",
              "NOC           0\n",
              "Games         0\n",
              "Year          0\n",
              "Season        0\n",
              "City          0\n",
              "Sport         0\n",
              "Event         0\n",
              "Medal         0\n",
              "dtype: int64"
            ]
          },
          "metadata": {
            "tags": []
          },
          "execution_count": 406
        }
      ]
    },
    {
      "cell_type": "markdown",
      "metadata": {
        "id": "tBMCs4R-QOl0"
      },
      "source": [
        "# 2. Quais as principais métricas das variáveis numéricas?"
      ]
    },
    {
      "cell_type": "code",
      "metadata": {
        "colab": {
          "base_uri": "https://localhost:8080/",
          "height": 0
        },
        "id": "0ewOtFuaP9S0",
        "outputId": "32f84a90-f7f2-4935-f688-643512822d1a"
      },
      "source": [
        "df_numerico = df_athlete_events[['Age', 'Height', 'Weight']]\n",
        "df_numerico.describe() # obs: não são considerados os NaN"
      ],
      "execution_count": 407,
      "outputs": [
        {
          "output_type": "execute_result",
          "data": {
            "text/html": [
              "<div>\n",
              "<style scoped>\n",
              "    .dataframe tbody tr th:only-of-type {\n",
              "        vertical-align: middle;\n",
              "    }\n",
              "\n",
              "    .dataframe tbody tr th {\n",
              "        vertical-align: top;\n",
              "    }\n",
              "\n",
              "    .dataframe thead th {\n",
              "        text-align: right;\n",
              "    }\n",
              "</style>\n",
              "<table border=\"1\" class=\"dataframe\">\n",
              "  <thead>\n",
              "    <tr style=\"text-align: right;\">\n",
              "      <th></th>\n",
              "      <th>Age</th>\n",
              "      <th>Height</th>\n",
              "      <th>Weight</th>\n",
              "    </tr>\n",
              "  </thead>\n",
              "  <tbody>\n",
              "    <tr>\n",
              "      <th>count</th>\n",
              "      <td>213363.000000</td>\n",
              "      <td>170695.000000</td>\n",
              "      <td>168698.00000</td>\n",
              "    </tr>\n",
              "    <tr>\n",
              "      <th>mean</th>\n",
              "      <td>25.674053</td>\n",
              "      <td>175.515551</td>\n",
              "      <td>70.68906</td>\n",
              "    </tr>\n",
              "    <tr>\n",
              "      <th>std</th>\n",
              "      <td>6.699839</td>\n",
              "      <td>10.914725</td>\n",
              "      <td>14.80394</td>\n",
              "    </tr>\n",
              "    <tr>\n",
              "      <th>min</th>\n",
              "      <td>10.000000</td>\n",
              "      <td>127.000000</td>\n",
              "      <td>25.00000</td>\n",
              "    </tr>\n",
              "    <tr>\n",
              "      <th>25%</th>\n",
              "      <td>21.000000</td>\n",
              "      <td>168.000000</td>\n",
              "      <td>60.00000</td>\n",
              "    </tr>\n",
              "    <tr>\n",
              "      <th>50%</th>\n",
              "      <td>24.000000</td>\n",
              "      <td>175.000000</td>\n",
              "      <td>70.00000</td>\n",
              "    </tr>\n",
              "    <tr>\n",
              "      <th>75%</th>\n",
              "      <td>28.000000</td>\n",
              "      <td>183.000000</td>\n",
              "      <td>79.00000</td>\n",
              "    </tr>\n",
              "    <tr>\n",
              "      <th>max</th>\n",
              "      <td>97.000000</td>\n",
              "      <td>226.000000</td>\n",
              "      <td>214.00000</td>\n",
              "    </tr>\n",
              "  </tbody>\n",
              "</table>\n",
              "</div>"
            ],
            "text/plain": [
              "                 Age         Height        Weight\n",
              "count  213363.000000  170695.000000  168698.00000\n",
              "mean       25.674053     175.515551      70.68906\n",
              "std         6.699839      10.914725      14.80394\n",
              "min        10.000000     127.000000      25.00000\n",
              "25%        21.000000     168.000000      60.00000\n",
              "50%        24.000000     175.000000      70.00000\n",
              "75%        28.000000     183.000000      79.00000\n",
              "max        97.000000     226.000000     214.00000"
            ]
          },
          "metadata": {
            "tags": []
          },
          "execution_count": 407
        }
      ]
    },
    {
      "cell_type": "markdown",
      "metadata": {
        "id": "Qo876wpNLWjH"
      },
      "source": [
        "**Dados esquisitos**\n",
        "\n",
        "Atleta mais velho com 97? Segunda o wikipedia o John Quincy Adams Ward competiu postumamente, tendo falecido aos 80 anos em 1910.\n",
        "\n",
        "Isto é uma alerta para não acreditar totalmente nos dados, pois podem haver mais equívocos como esse."
      ]
    },
    {
      "cell_type": "code",
      "metadata": {
        "colab": {
          "base_uri": "https://localhost:8080/",
          "height": 0
        },
        "id": "rHyGeheAIMhO",
        "outputId": "1a4209b1-1f13-4d8b-cec0-f34ea658bb78"
      },
      "source": [
        "filtro_mais_velho = df_athlete_events['Age'] == 97.0\n",
        "df_athlete_events[filtro_mais_velho]"
      ],
      "execution_count": 408,
      "outputs": [
        {
          "output_type": "execute_result",
          "data": {
            "text/html": [
              "<div>\n",
              "<style scoped>\n",
              "    .dataframe tbody tr th:only-of-type {\n",
              "        vertical-align: middle;\n",
              "    }\n",
              "\n",
              "    .dataframe tbody tr th {\n",
              "        vertical-align: top;\n",
              "    }\n",
              "\n",
              "    .dataframe thead th {\n",
              "        text-align: right;\n",
              "    }\n",
              "</style>\n",
              "<table border=\"1\" class=\"dataframe\">\n",
              "  <thead>\n",
              "    <tr style=\"text-align: right;\">\n",
              "      <th></th>\n",
              "      <th>ID</th>\n",
              "      <th>Name</th>\n",
              "      <th>Sex</th>\n",
              "      <th>Age</th>\n",
              "      <th>Height</th>\n",
              "      <th>Weight</th>\n",
              "      <th>Team</th>\n",
              "      <th>NOC</th>\n",
              "      <th>Games</th>\n",
              "      <th>Year</th>\n",
              "      <th>Season</th>\n",
              "      <th>City</th>\n",
              "      <th>Sport</th>\n",
              "      <th>Event</th>\n",
              "      <th>Medal</th>\n",
              "    </tr>\n",
              "  </thead>\n",
              "  <tbody>\n",
              "    <tr>\n",
              "      <th>257054</th>\n",
              "      <td>128719</td>\n",
              "      <td>John Quincy Adams Ward</td>\n",
              "      <td>M</td>\n",
              "      <td>97.0</td>\n",
              "      <td>NaN</td>\n",
              "      <td>NaN</td>\n",
              "      <td>United States</td>\n",
              "      <td>USA</td>\n",
              "      <td>1928 Summer</td>\n",
              "      <td>1928</td>\n",
              "      <td>Summer</td>\n",
              "      <td>Amsterdam</td>\n",
              "      <td>Art Competitions</td>\n",
              "      <td>Art Competitions Mixed Sculpturing, Statues</td>\n",
              "      <td>No Medal</td>\n",
              "    </tr>\n",
              "  </tbody>\n",
              "</table>\n",
              "</div>"
            ],
            "text/plain": [
              "            ID  ...     Medal\n",
              "257054  128719  ...  No Medal\n",
              "\n",
              "[1 rows x 15 columns]"
            ]
          },
          "metadata": {
            "tags": []
          },
          "execution_count": 408
        }
      ]
    },
    {
      "cell_type": "markdown",
      "metadata": {
        "id": "VGeL_td_L71h"
      },
      "source": [
        "**Olimpíadas no Brasil 2016**"
      ]
    },
    {
      "cell_type": "code",
      "metadata": {
        "colab": {
          "base_uri": "https://localhost:8080/",
          "height": 0
        },
        "id": "7auXeW2bLwnh",
        "outputId": "4155d519-4cb3-4d29-e3f1-81eed0a81c65"
      },
      "source": [
        "filtro_2016 = df_athlete_events['Year'] == 2016\n",
        "df_athlete_events[filtro_2016].head()"
      ],
      "execution_count": 409,
      "outputs": [
        {
          "output_type": "execute_result",
          "data": {
            "text/html": [
              "<div>\n",
              "<style scoped>\n",
              "    .dataframe tbody tr th:only-of-type {\n",
              "        vertical-align: middle;\n",
              "    }\n",
              "\n",
              "    .dataframe tbody tr th {\n",
              "        vertical-align: top;\n",
              "    }\n",
              "\n",
              "    .dataframe thead th {\n",
              "        text-align: right;\n",
              "    }\n",
              "</style>\n",
              "<table border=\"1\" class=\"dataframe\">\n",
              "  <thead>\n",
              "    <tr style=\"text-align: right;\">\n",
              "      <th></th>\n",
              "      <th>ID</th>\n",
              "      <th>Name</th>\n",
              "      <th>Sex</th>\n",
              "      <th>Age</th>\n",
              "      <th>Height</th>\n",
              "      <th>Weight</th>\n",
              "      <th>Team</th>\n",
              "      <th>NOC</th>\n",
              "      <th>Games</th>\n",
              "      <th>Year</th>\n",
              "      <th>Season</th>\n",
              "      <th>City</th>\n",
              "      <th>Sport</th>\n",
              "      <th>Event</th>\n",
              "      <th>Medal</th>\n",
              "    </tr>\n",
              "  </thead>\n",
              "  <tbody>\n",
              "    <tr>\n",
              "      <th>80</th>\n",
              "      <td>22</td>\n",
              "      <td>Andreea Aanei</td>\n",
              "      <td>F</td>\n",
              "      <td>22.0</td>\n",
              "      <td>170.0</td>\n",
              "      <td>125.0</td>\n",
              "      <td>Romania</td>\n",
              "      <td>ROU</td>\n",
              "      <td>2016 Summer</td>\n",
              "      <td>2016</td>\n",
              "      <td>Summer</td>\n",
              "      <td>Rio de Janeiro</td>\n",
              "      <td>Weightlifting</td>\n",
              "      <td>Weightlifting Women's Super-Heavyweight</td>\n",
              "      <td>No Medal</td>\n",
              "    </tr>\n",
              "    <tr>\n",
              "      <th>139</th>\n",
              "      <td>51</td>\n",
              "      <td>Nstor Abad Sanjun</td>\n",
              "      <td>M</td>\n",
              "      <td>23.0</td>\n",
              "      <td>167.0</td>\n",
              "      <td>64.0</td>\n",
              "      <td>Spain</td>\n",
              "      <td>ESP</td>\n",
              "      <td>2016 Summer</td>\n",
              "      <td>2016</td>\n",
              "      <td>Summer</td>\n",
              "      <td>Rio de Janeiro</td>\n",
              "      <td>Gymnastics</td>\n",
              "      <td>Gymnastics Men's Individual All-Around</td>\n",
              "      <td>No Medal</td>\n",
              "    </tr>\n",
              "    <tr>\n",
              "      <th>140</th>\n",
              "      <td>51</td>\n",
              "      <td>Nstor Abad Sanjun</td>\n",
              "      <td>M</td>\n",
              "      <td>23.0</td>\n",
              "      <td>167.0</td>\n",
              "      <td>64.0</td>\n",
              "      <td>Spain</td>\n",
              "      <td>ESP</td>\n",
              "      <td>2016 Summer</td>\n",
              "      <td>2016</td>\n",
              "      <td>Summer</td>\n",
              "      <td>Rio de Janeiro</td>\n",
              "      <td>Gymnastics</td>\n",
              "      <td>Gymnastics Men's Floor Exercise</td>\n",
              "      <td>No Medal</td>\n",
              "    </tr>\n",
              "    <tr>\n",
              "      <th>141</th>\n",
              "      <td>51</td>\n",
              "      <td>Nstor Abad Sanjun</td>\n",
              "      <td>M</td>\n",
              "      <td>23.0</td>\n",
              "      <td>167.0</td>\n",
              "      <td>64.0</td>\n",
              "      <td>Spain</td>\n",
              "      <td>ESP</td>\n",
              "      <td>2016 Summer</td>\n",
              "      <td>2016</td>\n",
              "      <td>Summer</td>\n",
              "      <td>Rio de Janeiro</td>\n",
              "      <td>Gymnastics</td>\n",
              "      <td>Gymnastics Men's Parallel Bars</td>\n",
              "      <td>No Medal</td>\n",
              "    </tr>\n",
              "    <tr>\n",
              "      <th>142</th>\n",
              "      <td>51</td>\n",
              "      <td>Nstor Abad Sanjun</td>\n",
              "      <td>M</td>\n",
              "      <td>23.0</td>\n",
              "      <td>167.0</td>\n",
              "      <td>64.0</td>\n",
              "      <td>Spain</td>\n",
              "      <td>ESP</td>\n",
              "      <td>2016 Summer</td>\n",
              "      <td>2016</td>\n",
              "      <td>Summer</td>\n",
              "      <td>Rio de Janeiro</td>\n",
              "      <td>Gymnastics</td>\n",
              "      <td>Gymnastics Men's Horizontal Bar</td>\n",
              "      <td>No Medal</td>\n",
              "    </tr>\n",
              "  </tbody>\n",
              "</table>\n",
              "</div>"
            ],
            "text/plain": [
              "     ID               Name  ...                                    Event     Medal\n",
              "80   22      Andreea Aanei  ...  Weightlifting Women's Super-Heavyweight  No Medal\n",
              "139  51  Nstor Abad Sanjun  ...   Gymnastics Men's Individual All-Around  No Medal\n",
              "140  51  Nstor Abad Sanjun  ...          Gymnastics Men's Floor Exercise  No Medal\n",
              "141  51  Nstor Abad Sanjun  ...           Gymnastics Men's Parallel Bars  No Medal\n",
              "142  51  Nstor Abad Sanjun  ...          Gymnastics Men's Horizontal Bar  No Medal\n",
              "\n",
              "[5 rows x 15 columns]"
            ]
          },
          "metadata": {
            "tags": []
          },
          "execution_count": 409
        }
      ]
    },
    {
      "cell_type": "markdown",
      "metadata": {
        "id": "ul3eps3OXSiv"
      },
      "source": [
        "**Michael Phelps**"
      ]
    },
    {
      "cell_type": "code",
      "metadata": {
        "colab": {
          "base_uri": "https://localhost:8080/",
          "height": 0
        },
        "id": "CWJKmelxXVbi",
        "outputId": "07f29dbe-b143-43f8-c41b-56e69a63f6c9"
      },
      "source": [
        "filtro_phelps = df_athlete_events['Name'] == 'Michael Fred Phelps, II'\n",
        "df_athlete_events[filtro_phelps].head()"
      ],
      "execution_count": 410,
      "outputs": [
        {
          "output_type": "execute_result",
          "data": {
            "text/html": [
              "<div>\n",
              "<style scoped>\n",
              "    .dataframe tbody tr th:only-of-type {\n",
              "        vertical-align: middle;\n",
              "    }\n",
              "\n",
              "    .dataframe tbody tr th {\n",
              "        vertical-align: top;\n",
              "    }\n",
              "\n",
              "    .dataframe thead th {\n",
              "        text-align: right;\n",
              "    }\n",
              "</style>\n",
              "<table border=\"1\" class=\"dataframe\">\n",
              "  <thead>\n",
              "    <tr style=\"text-align: right;\">\n",
              "      <th></th>\n",
              "      <th>ID</th>\n",
              "      <th>Name</th>\n",
              "      <th>Sex</th>\n",
              "      <th>Age</th>\n",
              "      <th>Height</th>\n",
              "      <th>Weight</th>\n",
              "      <th>Team</th>\n",
              "      <th>NOC</th>\n",
              "      <th>Games</th>\n",
              "      <th>Year</th>\n",
              "      <th>Season</th>\n",
              "      <th>City</th>\n",
              "      <th>Sport</th>\n",
              "      <th>Event</th>\n",
              "      <th>Medal</th>\n",
              "    </tr>\n",
              "  </thead>\n",
              "  <tbody>\n",
              "    <tr>\n",
              "      <th>187887</th>\n",
              "      <td>94406</td>\n",
              "      <td>Michael Fred Phelps, II</td>\n",
              "      <td>M</td>\n",
              "      <td>15.0</td>\n",
              "      <td>193.0</td>\n",
              "      <td>91.0</td>\n",
              "      <td>United States</td>\n",
              "      <td>USA</td>\n",
              "      <td>2000 Summer</td>\n",
              "      <td>2000</td>\n",
              "      <td>Summer</td>\n",
              "      <td>Sydney</td>\n",
              "      <td>Swimming</td>\n",
              "      <td>Swimming Men's 200 metres Butterfly</td>\n",
              "      <td>No Medal</td>\n",
              "    </tr>\n",
              "    <tr>\n",
              "      <th>187888</th>\n",
              "      <td>94406</td>\n",
              "      <td>Michael Fred Phelps, II</td>\n",
              "      <td>M</td>\n",
              "      <td>19.0</td>\n",
              "      <td>193.0</td>\n",
              "      <td>91.0</td>\n",
              "      <td>United States</td>\n",
              "      <td>USA</td>\n",
              "      <td>2004 Summer</td>\n",
              "      <td>2004</td>\n",
              "      <td>Summer</td>\n",
              "      <td>Athina</td>\n",
              "      <td>Swimming</td>\n",
              "      <td>Swimming Men's 200 metres Freestyle</td>\n",
              "      <td>Bronze</td>\n",
              "    </tr>\n",
              "    <tr>\n",
              "      <th>187889</th>\n",
              "      <td>94406</td>\n",
              "      <td>Michael Fred Phelps, II</td>\n",
              "      <td>M</td>\n",
              "      <td>19.0</td>\n",
              "      <td>193.0</td>\n",
              "      <td>91.0</td>\n",
              "      <td>United States</td>\n",
              "      <td>USA</td>\n",
              "      <td>2004 Summer</td>\n",
              "      <td>2004</td>\n",
              "      <td>Summer</td>\n",
              "      <td>Athina</td>\n",
              "      <td>Swimming</td>\n",
              "      <td>Swimming Men's 4 x 100 metres Freestyle Relay</td>\n",
              "      <td>Bronze</td>\n",
              "    </tr>\n",
              "    <tr>\n",
              "      <th>187890</th>\n",
              "      <td>94406</td>\n",
              "      <td>Michael Fred Phelps, II</td>\n",
              "      <td>M</td>\n",
              "      <td>19.0</td>\n",
              "      <td>193.0</td>\n",
              "      <td>91.0</td>\n",
              "      <td>United States</td>\n",
              "      <td>USA</td>\n",
              "      <td>2004 Summer</td>\n",
              "      <td>2004</td>\n",
              "      <td>Summer</td>\n",
              "      <td>Athina</td>\n",
              "      <td>Swimming</td>\n",
              "      <td>Swimming Men's 4 x 200 metres Freestyle Relay</td>\n",
              "      <td>Gold</td>\n",
              "    </tr>\n",
              "    <tr>\n",
              "      <th>187891</th>\n",
              "      <td>94406</td>\n",
              "      <td>Michael Fred Phelps, II</td>\n",
              "      <td>M</td>\n",
              "      <td>19.0</td>\n",
              "      <td>193.0</td>\n",
              "      <td>91.0</td>\n",
              "      <td>United States</td>\n",
              "      <td>USA</td>\n",
              "      <td>2004 Summer</td>\n",
              "      <td>2004</td>\n",
              "      <td>Summer</td>\n",
              "      <td>Athina</td>\n",
              "      <td>Swimming</td>\n",
              "      <td>Swimming Men's 100 metres Butterfly</td>\n",
              "      <td>Gold</td>\n",
              "    </tr>\n",
              "  </tbody>\n",
              "</table>\n",
              "</div>"
            ],
            "text/plain": [
              "           ID  ...     Medal\n",
              "187887  94406  ...  No Medal\n",
              "187888  94406  ...    Bronze\n",
              "187889  94406  ...    Bronze\n",
              "187890  94406  ...      Gold\n",
              "187891  94406  ...      Gold\n",
              "\n",
              "[5 rows x 15 columns]"
            ]
          },
          "metadata": {
            "tags": []
          },
          "execution_count": 410
        }
      ]
    },
    {
      "cell_type": "markdown",
      "metadata": {
        "id": "fQTeH5QJSLYA"
      },
      "source": [
        "**Modas da Idade, Altura e Peso**"
      ]
    },
    {
      "cell_type": "code",
      "metadata": {
        "colab": {
          "base_uri": "https://localhost:8080/"
        },
        "id": "_jJCUKnjWYKi",
        "outputId": "a35cf2cc-3b9a-43f9-cdf3-cac1eff63bb8"
      },
      "source": [
        "idade = df_numerico['Age'].dropna()\n",
        "stats.mode(idade)"
      ],
      "execution_count": 411,
      "outputs": [
        {
          "output_type": "execute_result",
          "data": {
            "text/plain": [
              "ModeResult(mode=array([23.]), count=array([17521]))"
            ]
          },
          "metadata": {
            "tags": []
          },
          "execution_count": 411
        }
      ]
    },
    {
      "cell_type": "code",
      "metadata": {
        "colab": {
          "base_uri": "https://localhost:8080/"
        },
        "id": "Th5_xV8CW9Gb",
        "outputId": "143bd75f-1703-444f-ef39-3f825c1598fc"
      },
      "source": [
        "altura = df_numerico['Height'].dropna()\n",
        "stats.mode(altura)"
      ],
      "execution_count": 412,
      "outputs": [
        {
          "output_type": "execute_result",
          "data": {
            "text/plain": [
              "ModeResult(mode=array([170.]), count=array([9696]))"
            ]
          },
          "metadata": {
            "tags": []
          },
          "execution_count": 412
        }
      ]
    },
    {
      "cell_type": "code",
      "metadata": {
        "colab": {
          "base_uri": "https://localhost:8080/"
        },
        "id": "D2-0YxWVXCSp",
        "outputId": "01fa3837-f1ef-4404-c5cc-ff82c0b3add1"
      },
      "source": [
        "peso = df_numerico['Weight'].dropna()\n",
        "stats.mode(peso)"
      ],
      "execution_count": 413,
      "outputs": [
        {
          "output_type": "execute_result",
          "data": {
            "text/plain": [
              "ModeResult(mode=array([70.]), count=array([7659]))"
            ]
          },
          "metadata": {
            "tags": []
          },
          "execution_count": 413
        }
      ]
    },
    {
      "cell_type": "markdown",
      "metadata": {
        "id": "AyupJTG0XPDw"
      },
      "source": [
        "# Como se distribuem as features numéricas? Histogramas (Densidade de Probablidade)"
      ]
    },
    {
      "cell_type": "markdown",
      "metadata": {
        "id": "GWwicWn1YXuP"
      },
      "source": [
        "Histogramas são recomendados para variáveis numéricas, tem relação com a função densidade de probabilidade"
      ]
    },
    {
      "cell_type": "code",
      "metadata": {
        "colab": {
          "base_uri": "https://localhost:8080/"
        },
        "id": "ruOf9nOKbU6o",
        "outputId": "62ef6e4b-e81b-43d4-e7b4-28eaf8ac719c"
      },
      "source": [
        "print('***********Idade***********')\n",
        "print('skewness: ', stats.skew(idade))\n",
        "print('kurtosis: ', stats.kurtosis(idade))\n",
        "print('***********Altura***********')\n",
        "print('skewness: ',stats.skew(altura))\n",
        "print('kurtosis: ', stats.kurtosis(altura))\n",
        "print('***********Peso***********')\n",
        "print('skewness: ', stats.skew(peso))\n",
        "print('kurtosis: ', stats.kurtosis(peso))\n"
      ],
      "execution_count": 414,
      "outputs": [
        {
          "output_type": "stream",
          "text": [
            "***********Idade***********\n",
            "skewness:  1.7741921796321827\n",
            "kurtosis:  6.062101977184664\n",
            "***********Altura***********\n",
            "skewness:  0.019154885937302486\n",
            "kurtosis:  0.1354363080733143\n",
            "***********Peso***********\n",
            "skewness:  0.8464250261851799\n",
            "kurtosis:  2.1521574363717164\n"
          ],
          "name": "stdout"
        }
      ]
    },
    {
      "cell_type": "code",
      "metadata": {
        "colab": {
          "base_uri": "https://localhost:8080/",
          "height": 0
        },
        "id": "AWBV1rd6XRJ1",
        "outputId": "8482e4a5-dc1b-441f-9b60-22c1534b016d"
      },
      "source": [
        "hist_idade =  plt.hist(idade, bins=50, density=True, facecolor='g')"
      ],
      "execution_count": 415,
      "outputs": [
        {
          "output_type": "display_data",
          "data": {
            "image/png": "[encoded data removed]",
            "text/plain": [
              "<Figure size 432x288 with 1 Axes>"
            ]
          },
          "metadata": {
            "tags": [],
            "needs_background": "light"
          }
        }
      ]
    },
    {
      "cell_type": "code",
      "metadata": {
        "colab": {
          "base_uri": "https://localhost:8080/",
          "height": 0
        },
        "id": "g8JVEWgXYIIE",
        "outputId": "bc555ce3-8f16-4d88-a227-66cb9b200a2d"
      },
      "source": [
        "hist_altura =  plt.hist(altura, bins=50, density=True, facecolor='b')"
      ],
      "execution_count": 416,
      "outputs": [
        {
          "output_type": "display_data",
          "data": {
            "image/png": "[encoded data removed]",
            "text/plain": [
              "<Figure size 432x288 with 1 Axes>"
            ]
          },
          "metadata": {
            "tags": [],
            "needs_background": "light"
          }
        }
      ]
    },
    {
      "cell_type": "code",
      "metadata": {
        "colab": {
          "base_uri": "https://localhost:8080/",
          "height": 0
        },
        "id": "tF_Z32xWYLVy",
        "outputId": "b74f97b0-7f5c-4b06-87e6-cef78be7c505"
      },
      "source": [
        "hist_peso =  plt.hist(peso, bins=50, density=True, facecolor='r')"
      ],
      "execution_count": 417,
      "outputs": [
        {
          "output_type": "display_data",
          "data": {
            "image/png": "[encoded data removed]",
            "text/plain": [
              "<Figure size 432x288 with 1 Axes>"
            ]
          },
          "metadata": {
            "tags": [],
            "needs_background": "light"
          }
        }
      ]
    },
    {
      "cell_type": "markdown",
      "metadata": {
        "id": "O_hx6uSezOLy"
      },
      "source": [
        "# 4. Correlações"
      ]
    },
    {
      "cell_type": "code",
      "metadata": {
        "colab": {
          "base_uri": "https://localhost:8080/",
          "height": 0
        },
        "id": "INR3uEAXPFwg",
        "outputId": "476347d4-3f0a-4b42-b994-0ebb0835477f"
      },
      "source": [
        "filtro_medalhas = df_athlete_events['Medal'].str.contains(\"Gold|Silver|Bronze\")\n",
        "df_medalhistas = df_athlete_events[filtro_medalhas]\n",
        "df_medalhistas.head()"
      ],
      "execution_count": 418,
      "outputs": [
        {
          "output_type": "execute_result",
          "data": {
            "text/html": [
              "<div>\n",
              "<style scoped>\n",
              "    .dataframe tbody tr th:only-of-type {\n",
              "        vertical-align: middle;\n",
              "    }\n",
              "\n",
              "    .dataframe tbody tr th {\n",
              "        vertical-align: top;\n",
              "    }\n",
              "\n",
              "    .dataframe thead th {\n",
              "        text-align: right;\n",
              "    }\n",
              "</style>\n",
              "<table border=\"1\" class=\"dataframe\">\n",
              "  <thead>\n",
              "    <tr style=\"text-align: right;\">\n",
              "      <th></th>\n",
              "      <th>ID</th>\n",
              "      <th>Name</th>\n",
              "      <th>Sex</th>\n",
              "      <th>Age</th>\n",
              "      <th>Height</th>\n",
              "      <th>Weight</th>\n",
              "      <th>Team</th>\n",
              "      <th>NOC</th>\n",
              "      <th>Games</th>\n",
              "      <th>Year</th>\n",
              "      <th>Season</th>\n",
              "      <th>City</th>\n",
              "      <th>Sport</th>\n",
              "      <th>Event</th>\n",
              "      <th>Medal</th>\n",
              "    </tr>\n",
              "  </thead>\n",
              "  <tbody>\n",
              "    <tr>\n",
              "      <th>3</th>\n",
              "      <td>4</td>\n",
              "      <td>Edgar Lindenau Aabye</td>\n",
              "      <td>M</td>\n",
              "      <td>34.0</td>\n",
              "      <td>NaN</td>\n",
              "      <td>NaN</td>\n",
              "      <td>Denmark/Sweden</td>\n",
              "      <td>DEN</td>\n",
              "      <td>1900 Summer</td>\n",
              "      <td>1900</td>\n",
              "      <td>Summer</td>\n",
              "      <td>Paris</td>\n",
              "      <td>Tug-Of-War</td>\n",
              "      <td>Tug-Of-War Men's Tug-Of-War</td>\n",
              "      <td>Gold</td>\n",
              "    </tr>\n",
              "    <tr>\n",
              "      <th>37</th>\n",
              "      <td>15</td>\n",
              "      <td>Arvo Ossian Aaltonen</td>\n",
              "      <td>M</td>\n",
              "      <td>30.0</td>\n",
              "      <td>NaN</td>\n",
              "      <td>NaN</td>\n",
              "      <td>Finland</td>\n",
              "      <td>FIN</td>\n",
              "      <td>1920 Summer</td>\n",
              "      <td>1920</td>\n",
              "      <td>Summer</td>\n",
              "      <td>Antwerpen</td>\n",
              "      <td>Swimming</td>\n",
              "      <td>Swimming Men's 200 metres Breaststroke</td>\n",
              "      <td>Bronze</td>\n",
              "    </tr>\n",
              "    <tr>\n",
              "      <th>38</th>\n",
              "      <td>15</td>\n",
              "      <td>Arvo Ossian Aaltonen</td>\n",
              "      <td>M</td>\n",
              "      <td>30.0</td>\n",
              "      <td>NaN</td>\n",
              "      <td>NaN</td>\n",
              "      <td>Finland</td>\n",
              "      <td>FIN</td>\n",
              "      <td>1920 Summer</td>\n",
              "      <td>1920</td>\n",
              "      <td>Summer</td>\n",
              "      <td>Antwerpen</td>\n",
              "      <td>Swimming</td>\n",
              "      <td>Swimming Men's 400 metres Breaststroke</td>\n",
              "      <td>Bronze</td>\n",
              "    </tr>\n",
              "    <tr>\n",
              "      <th>41</th>\n",
              "      <td>17</td>\n",
              "      <td>Paavo Johannes Aaltonen</td>\n",
              "      <td>M</td>\n",
              "      <td>28.0</td>\n",
              "      <td>175.0</td>\n",
              "      <td>64.0</td>\n",
              "      <td>Finland</td>\n",
              "      <td>FIN</td>\n",
              "      <td>1948 Summer</td>\n",
              "      <td>1948</td>\n",
              "      <td>Summer</td>\n",
              "      <td>London</td>\n",
              "      <td>Gymnastics</td>\n",
              "      <td>Gymnastics Men's Individual All-Around</td>\n",
              "      <td>Bronze</td>\n",
              "    </tr>\n",
              "    <tr>\n",
              "      <th>42</th>\n",
              "      <td>17</td>\n",
              "      <td>Paavo Johannes Aaltonen</td>\n",
              "      <td>M</td>\n",
              "      <td>28.0</td>\n",
              "      <td>175.0</td>\n",
              "      <td>64.0</td>\n",
              "      <td>Finland</td>\n",
              "      <td>FIN</td>\n",
              "      <td>1948 Summer</td>\n",
              "      <td>1948</td>\n",
              "      <td>Summer</td>\n",
              "      <td>London</td>\n",
              "      <td>Gymnastics</td>\n",
              "      <td>Gymnastics Men's Team All-Around</td>\n",
              "      <td>Gold</td>\n",
              "    </tr>\n",
              "  </tbody>\n",
              "</table>\n",
              "</div>"
            ],
            "text/plain": [
              "    ID                     Name  ...                                   Event   Medal\n",
              "3    4     Edgar Lindenau Aabye  ...             Tug-Of-War Men's Tug-Of-War    Gold\n",
              "37  15     Arvo Ossian Aaltonen  ...  Swimming Men's 200 metres Breaststroke  Bronze\n",
              "38  15     Arvo Ossian Aaltonen  ...  Swimming Men's 400 metres Breaststroke  Bronze\n",
              "41  17  Paavo Johannes Aaltonen  ...  Gymnastics Men's Individual All-Around  Bronze\n",
              "42  17  Paavo Johannes Aaltonen  ...        Gymnastics Men's Team All-Around    Gold\n",
              "\n",
              "[5 rows x 15 columns]"
            ]
          },
          "metadata": {
            "tags": []
          },
          "execution_count": 418
        }
      ]
    },
    {
      "cell_type": "markdown",
      "metadata": {
        "id": "4vHLwLAQPeQd"
      },
      "source": [
        "Procurando relação entre altura e medalha na ginástica e na natação"
      ]
    },
    {
      "cell_type": "code",
      "metadata": {
        "colab": {
          "base_uri": "https://localhost:8080/",
          "height": 0
        },
        "id": "foG_CVl0PO03",
        "outputId": "e82e370f-ae52-4df6-d860-ecc50ae46a49"
      },
      "source": [
        "filtro_ginastica = df_medalhistas['Sport'] == 'Gymnastics'\n",
        "df_ginastica = df_medalhistas[filtro_ginastica]\n",
        "hist_altura_gim =  plt.hist(df_ginastica['Height'].dropna(), bins=30, density=True, facecolor='b')"
      ],
      "execution_count": 419,
      "outputs": [
        {
          "output_type": "display_data",
          "data": {
            "image/png": "[encoded data removed]",
            "text/plain": [
              "<Figure size 432x288 with 1 Axes>"
            ]
          },
          "metadata": {
            "tags": [],
            "needs_background": "light"
          }
        }
      ]
    },
    {
      "cell_type": "code",
      "metadata": {
        "colab": {
          "base_uri": "https://localhost:8080/",
          "height": 0
        },
        "id": "Nt6tQHsuQCSf",
        "outputId": "d5cb7607-951e-4e98-83e8-ed7afea8e613"
      },
      "source": [
        "filtro_natacao = df_medalhistas['Sport'] == 'Swimming'\n",
        "df_natacao = df_medalhistas[filtro_natacao]\n",
        "hist_altura_nat =  plt.hist(df_natacao['Height'].dropna(), bins=30, density=True, facecolor='b')"
      ],
      "execution_count": 420,
      "outputs": [
        {
          "output_type": "display_data",
          "data": {
            "image/png": "[encoded data removed]",
            "text/plain": [
              "<Figure size 432x288 with 1 Axes>"
            ]
          },
          "metadata": {
            "tags": [],
            "needs_background": "light"
          }
        }
      ]
    },
    {
      "cell_type": "code",
      "metadata": {
        "colab": {
          "base_uri": "https://localhost:8080/",
          "height": 0
        },
        "id": "uCJNcz-3Qr1i",
        "outputId": "fa25d986-8fb9-42f3-885e-b2d7fa006381"
      },
      "source": [
        "filtro_volei= df_medalhistas['Sport'] == 'Volleyball'\n",
        "df_volei = df_medalhistas[filtro_volei]\n",
        "hist_altura_volei =  plt.hist(df_volei['Height'].dropna(), bins=30, density=True, facecolor='b')"
      ],
      "execution_count": 421,
      "outputs": [
        {
          "output_type": "display_data",
          "data": {
            "image/png": "[encoded data removed]",
            "text/plain": [
              "<Figure size 432x288 with 1 Axes>"
            ]
          },
          "metadata": {
            "tags": [],
            "needs_background": "light"
          }
        }
      ]
    },
    {
      "cell_type": "markdown",
      "metadata": {
        "id": "PyebaR1-Q6ff"
      },
      "source": [
        "É bem interessante observar a distribuição da altura dos atletas para cada cateogia do esporte. Olhando paras os atletas vencedores de medalha de ginástica, natação e volei, foi observado o esperado: concetração de atletas muito altos no vôlei, altos na natação e baixos/média estatura na ginástica."
      ]
    },
    {
      "cell_type": "markdown",
      "metadata": {
        "id": "-TNO4ZjA0iTV"
      },
      "source": [
        "# 5. Qual a distribuição de sexo por esporte (top 10)?"
      ]
    },
    {
      "cell_type": "code",
      "metadata": {
        "colab": {
          "base_uri": "https://localhost:8080/"
        },
        "id": "k8MaHxhb2FG-",
        "outputId": "931e10d3-b1db-47db-868d-1f1cc1b98a79"
      },
      "source": [
        "df_athlete_events['Sport'].unique()"
      ],
      "execution_count": 422,
      "outputs": [
        {
          "output_type": "execute_result",
          "data": {
            "text/plain": [
              "array(['Basketball', 'Judo', 'Football', 'Tug-Of-War', 'Athletics',\n",
              "       'Swimming', 'Badminton', 'Sailing', 'Gymnastics',\n",
              "       'Art Competitions', 'Handball', 'Weightlifting', 'Wrestling',\n",
              "       'Water Polo', 'Hockey', 'Rowing', 'Fencing', 'Equestrianism',\n",
              "       'Shooting', 'Boxing', 'Taekwondo', 'Cycling', 'Diving', 'Canoeing',\n",
              "       'Tennis', 'Modern Pentathlon', 'Golf', 'Softball', 'Archery',\n",
              "       'Volleyball', 'Synchronized Swimming', 'Table Tennis', 'Baseball',\n",
              "       'Rhythmic Gymnastics', 'Rugby Sevens', 'Trampolining',\n",
              "       'Beach Volleyball', 'Triathlon', 'Rugby', 'Lacrosse', 'Polo',\n",
              "       'Cricket', 'Ice Hockey', 'Racquets', 'Motorboating', 'Croquet',\n",
              "       'Figure Skating', 'Jeu De Paume', 'Roque', 'Basque Pelota',\n",
              "       'Alpinism', 'Aeronautics'], dtype=object)"
            ]
          },
          "metadata": {
            "tags": []
          },
          "execution_count": 422
        }
      ]
    },
    {
      "cell_type": "code",
      "metadata": {
        "id": "Z4gJ-8QeBW-C"
      },
      "source": [
        "def plot_bar_cores(xval,yval,dados,ylab,xlab,titulo):  \n",
        "    \"\"\"\n",
        "    Função para plotar gráfico de barras a partir de colunas de dataframes e\n",
        "    colore de vermelho a coluna de maior valor, de azul a de menor valor e de \n",
        "    cinza as demais colunas.\n",
        "    \n",
        "    Parâmetros:\n",
        "    xval (string) : coluna do dataframe que será o eixo x\n",
        "    yval  (string) : coluna do dataframe que será o eixo y\n",
        "    dados (dataframe) : dataframe que é a base dos dados de xval e yval\n",
        "    ylab (string) : rótulo do eixo y\n",
        "    xlab (string) : rótulo do eixo x\n",
        "    titulo (string) : titulo do grafico    \n",
        "    \"\"\"   \n",
        "    cores= ['red' if (y == dados[yval].max()) else\n",
        "             'blue' if (y == dados[yval].min()) else \n",
        "             'grey' for y in dados[yval] ]      \n",
        "    plt.figure()\n",
        "    sns.barplot(x = xval, y = yval, data = dados, palette= cores ,ci=None)\n",
        "    plt.ylabel(ylab)\n",
        "    plt.xlabel(xlab)\n",
        "    plt.title(titulo)\n",
        "    plt.xticks(rotation=45)\n",
        "    plt.tight_layout()\n",
        "    plt.show()"
      ],
      "execution_count": 423,
      "outputs": []
    },
    {
      "cell_type": "code",
      "metadata": {
        "id": "lpUI2LoTFdHB"
      },
      "source": [
        "def filtra_esporte_por_sexo(df,sex):\n",
        "  filtro = df['Sex'] == sex\n",
        "  df_top10_FSports=df[filtro]['Sport'].value_counts()[0:10] # top 10 \n",
        "  df_top10_FSports=df_top10_FSports.to_frame()\n",
        "  df_top10_FSports['index'] = df_top10_FSports.index\n",
        "  df_top10_FSports.rename({'Sport': 'Counts', 'index': 'Esporte'}, axis=1, inplace=True)\n",
        "  return df_top10_FSports"
      ],
      "execution_count": 424,
      "outputs": []
    },
    {
      "cell_type": "code",
      "metadata": {
        "id": "ia6A-HLCGCw0"
      },
      "source": [
        "df_sport_F=filtra_esporte_por_sexo(df_athlete_events,'F')"
      ],
      "execution_count": 425,
      "outputs": []
    },
    {
      "cell_type": "code",
      "metadata": {
        "id": "Xl7jqF9UGXjQ"
      },
      "source": [
        "df_sport_M=filtra_esporte_por_sexo(df_athlete_events,'M')"
      ],
      "execution_count": 426,
      "outputs": []
    },
    {
      "cell_type": "code",
      "metadata": {
        "colab": {
          "base_uri": "https://localhost:8080/",
          "height": 0
        },
        "id": "1wI5YO7EBkOI",
        "outputId": "0a39e241-91eb-4361-c34e-9bf80dab0955"
      },
      "source": [
        "plot_bar_cores('Esporte','Counts',df_sport_F,'Esportes','Counts','Top 10 esportes com mais mulheres')"
      ],
      "execution_count": 427,
      "outputs": [
        {
          "output_type": "display_data",
          "data": {
            "image/png": "[encoded data removed]",
            "text/plain": [
              "<Figure size 432x288 with 1 Axes>"
            ]
          },
          "metadata": {
            "tags": [],
            "needs_background": "light"
          }
        }
      ]
    },
    {
      "cell_type": "code",
      "metadata": {
        "colab": {
          "base_uri": "https://localhost:8080/",
          "height": 0
        },
        "id": "9PMgVRLdGeeK",
        "outputId": "40048eb4-29f7-445e-f62e-26ebde1cde42"
      },
      "source": [
        "plot_bar_cores('Esporte','Counts',df_sport_M,'Esportes','Counts','Top 10 esportes com mais homens')"
      ],
      "execution_count": 428,
      "outputs": [
        {
          "output_type": "display_data",
          "data": {
            "image/png": "[encoded data removed]",
            "text/plain": [
              "<Figure size 432x288 with 1 Axes>"
            ]
          },
          "metadata": {
            "tags": [],
            "needs_background": "light"
          }
        }
      ]
    },
    {
      "cell_type": "markdown",
      "metadata": {
        "id": "LXdvLUvbNg_s"
      },
      "source": [
        "# 6. Quais os maiores medalhistas da história das olímpiadas?"
      ]
    },
    {
      "cell_type": "code",
      "metadata": {
        "colab": {
          "base_uri": "https://localhost:8080/"
        },
        "id": "_x6P5KhFP3LT",
        "outputId": "0add29a9-ff89-45e4-d1a4-88d66002aab7"
      },
      "source": [
        "df_athlete_events['Medal'].value_counts()"
      ],
      "execution_count": 429,
      "outputs": [
        {
          "output_type": "execute_result",
          "data": {
            "text/plain": [
              "No Medal    188464\n",
              "Gold         11459\n",
              "Bronze       11409\n",
              "Silver       11220\n",
              "Name: Medal, dtype: int64"
            ]
          },
          "metadata": {
            "tags": []
          },
          "execution_count": 429
        }
      ]
    },
    {
      "cell_type": "code",
      "metadata": {
        "id": "L69J-ZlkBTxF"
      },
      "source": [
        "def top10_winner_athlete(df, feature, string):\n",
        "  filtro = df[feature].str.contains(string)\n",
        "  df_ouros = df[filtro]\n",
        "  df_top10=df_ouros[['Name','Sport',feature]].value_counts().to_frame()\n",
        "  df_top10.rename({0: 'Counts'}, axis=1, inplace=True)\n",
        "  df_top10.reset_index(inplace=True)\n",
        "  df_top10 = df_top10[0:10] # top 10 maiores ganhadores\n",
        "  return df_top10"
      ],
      "execution_count": 430,
      "outputs": []
    },
    {
      "cell_type": "markdown",
      "metadata": {
        "id": "AOEPo6h86vBm"
      },
      "source": [
        "**Filtrando Linhas onde o atleta estava no podium (ouro, prata ou bronze)**"
      ]
    },
    {
      "cell_type": "code",
      "metadata": {
        "colab": {
          "base_uri": "https://localhost:8080/",
          "height": 0
        },
        "id": "I4Du3PbkQFll",
        "outputId": "61adc47f-b723-44d9-b931-ceaef2c61adf"
      },
      "source": [
        "filtro_medalhas = df_athlete_events['Medal'].str.contains(\"Gold|Silver|Bronze\")\n",
        "df_medalhistas = df_athlete_events[filtro_medalhas]\n",
        "df_medalhistas.head()"
      ],
      "execution_count": 431,
      "outputs": [
        {
          "output_type": "execute_result",
          "data": {
            "text/html": [
              "<div>\n",
              "<style scoped>\n",
              "    .dataframe tbody tr th:only-of-type {\n",
              "        vertical-align: middle;\n",
              "    }\n",
              "\n",
              "    .dataframe tbody tr th {\n",
              "        vertical-align: top;\n",
              "    }\n",
              "\n",
              "    .dataframe thead th {\n",
              "        text-align: right;\n",
              "    }\n",
              "</style>\n",
              "<table border=\"1\" class=\"dataframe\">\n",
              "  <thead>\n",
              "    <tr style=\"text-align: right;\">\n",
              "      <th></th>\n",
              "      <th>ID</th>\n",
              "      <th>Name</th>\n",
              "      <th>Sex</th>\n",
              "      <th>Age</th>\n",
              "      <th>Height</th>\n",
              "      <th>Weight</th>\n",
              "      <th>Team</th>\n",
              "      <th>NOC</th>\n",
              "      <th>Games</th>\n",
              "      <th>Year</th>\n",
              "      <th>Season</th>\n",
              "      <th>City</th>\n",
              "      <th>Sport</th>\n",
              "      <th>Event</th>\n",
              "      <th>Medal</th>\n",
              "    </tr>\n",
              "  </thead>\n",
              "  <tbody>\n",
              "    <tr>\n",
              "      <th>3</th>\n",
              "      <td>4</td>\n",
              "      <td>Edgar Lindenau Aabye</td>\n",
              "      <td>M</td>\n",
              "      <td>34.0</td>\n",
              "      <td>NaN</td>\n",
              "      <td>NaN</td>\n",
              "      <td>Denmark/Sweden</td>\n",
              "      <td>DEN</td>\n",
              "      <td>1900 Summer</td>\n",
              "      <td>1900</td>\n",
              "      <td>Summer</td>\n",
              "      <td>Paris</td>\n",
              "      <td>Tug-Of-War</td>\n",
              "      <td>Tug-Of-War Men's Tug-Of-War</td>\n",
              "      <td>Gold</td>\n",
              "    </tr>\n",
              "    <tr>\n",
              "      <th>37</th>\n",
              "      <td>15</td>\n",
              "      <td>Arvo Ossian Aaltonen</td>\n",
              "      <td>M</td>\n",
              "      <td>30.0</td>\n",
              "      <td>NaN</td>\n",
              "      <td>NaN</td>\n",
              "      <td>Finland</td>\n",
              "      <td>FIN</td>\n",
              "      <td>1920 Summer</td>\n",
              "      <td>1920</td>\n",
              "      <td>Summer</td>\n",
              "      <td>Antwerpen</td>\n",
              "      <td>Swimming</td>\n",
              "      <td>Swimming Men's 200 metres Breaststroke</td>\n",
              "      <td>Bronze</td>\n",
              "    </tr>\n",
              "    <tr>\n",
              "      <th>38</th>\n",
              "      <td>15</td>\n",
              "      <td>Arvo Ossian Aaltonen</td>\n",
              "      <td>M</td>\n",
              "      <td>30.0</td>\n",
              "      <td>NaN</td>\n",
              "      <td>NaN</td>\n",
              "      <td>Finland</td>\n",
              "      <td>FIN</td>\n",
              "      <td>1920 Summer</td>\n",
              "      <td>1920</td>\n",
              "      <td>Summer</td>\n",
              "      <td>Antwerpen</td>\n",
              "      <td>Swimming</td>\n",
              "      <td>Swimming Men's 400 metres Breaststroke</td>\n",
              "      <td>Bronze</td>\n",
              "    </tr>\n",
              "    <tr>\n",
              "      <th>41</th>\n",
              "      <td>17</td>\n",
              "      <td>Paavo Johannes Aaltonen</td>\n",
              "      <td>M</td>\n",
              "      <td>28.0</td>\n",
              "      <td>175.0</td>\n",
              "      <td>64.0</td>\n",
              "      <td>Finland</td>\n",
              "      <td>FIN</td>\n",
              "      <td>1948 Summer</td>\n",
              "      <td>1948</td>\n",
              "      <td>Summer</td>\n",
              "      <td>London</td>\n",
              "      <td>Gymnastics</td>\n",
              "      <td>Gymnastics Men's Individual All-Around</td>\n",
              "      <td>Bronze</td>\n",
              "    </tr>\n",
              "    <tr>\n",
              "      <th>42</th>\n",
              "      <td>17</td>\n",
              "      <td>Paavo Johannes Aaltonen</td>\n",
              "      <td>M</td>\n",
              "      <td>28.0</td>\n",
              "      <td>175.0</td>\n",
              "      <td>64.0</td>\n",
              "      <td>Finland</td>\n",
              "      <td>FIN</td>\n",
              "      <td>1948 Summer</td>\n",
              "      <td>1948</td>\n",
              "      <td>Summer</td>\n",
              "      <td>London</td>\n",
              "      <td>Gymnastics</td>\n",
              "      <td>Gymnastics Men's Team All-Around</td>\n",
              "      <td>Gold</td>\n",
              "    </tr>\n",
              "  </tbody>\n",
              "</table>\n",
              "</div>"
            ],
            "text/plain": [
              "    ID                     Name  ...                                   Event   Medal\n",
              "3    4     Edgar Lindenau Aabye  ...             Tug-Of-War Men's Tug-Of-War    Gold\n",
              "37  15     Arvo Ossian Aaltonen  ...  Swimming Men's 200 metres Breaststroke  Bronze\n",
              "38  15     Arvo Ossian Aaltonen  ...  Swimming Men's 400 metres Breaststroke  Bronze\n",
              "41  17  Paavo Johannes Aaltonen  ...  Gymnastics Men's Individual All-Around  Bronze\n",
              "42  17  Paavo Johannes Aaltonen  ...        Gymnastics Men's Team All-Around    Gold\n",
              "\n",
              "[5 rows x 15 columns]"
            ]
          },
          "metadata": {
            "tags": []
          },
          "execution_count": 431
        }
      ]
    },
    {
      "cell_type": "code",
      "metadata": {
        "colab": {
          "base_uri": "https://localhost:8080/",
          "height": 0
        },
        "id": "_HZgjT8l8soo",
        "outputId": "b38c3374-761b-4b9c-881a-881ed6b93301"
      },
      "source": [
        "lista = ['Yes' for i in range(df_medalhistas.shape[0])]\n",
        "df_medalhistas['Podium'] = lista\n",
        "df_medalhistas.head()"
      ],
      "execution_count": 432,
      "outputs": [
        {
          "output_type": "stream",
          "text": [
            "/usr/local/lib/python3.7/dist-packages/ipykernel_launcher.py:2: SettingWithCopyWarning: \n",
            "A value is trying to be set on a copy of a slice from a DataFrame.\n",
            "Try using .loc[row_indexer,col_indexer] = value instead\n",
            "\n",
            "See the caveats in the documentation: https://pandas.pydata.org/pandas-docs/stable/user_guide/indexing.html#returning-a-view-versus-a-copy\n",
            "  \n"
          ],
          "name": "stderr"
        },
        {
          "output_type": "execute_result",
          "data": {
            "text/html": [
              "<div>\n",
              "<style scoped>\n",
              "    .dataframe tbody tr th:only-of-type {\n",
              "        vertical-align: middle;\n",
              "    }\n",
              "\n",
              "    .dataframe tbody tr th {\n",
              "        vertical-align: top;\n",
              "    }\n",
              "\n",
              "    .dataframe thead th {\n",
              "        text-align: right;\n",
              "    }\n",
              "</style>\n",
              "<table border=\"1\" class=\"dataframe\">\n",
              "  <thead>\n",
              "    <tr style=\"text-align: right;\">\n",
              "      <th></th>\n",
              "      <th>ID</th>\n",
              "      <th>Name</th>\n",
              "      <th>Sex</th>\n",
              "      <th>Age</th>\n",
              "      <th>Height</th>\n",
              "      <th>Weight</th>\n",
              "      <th>Team</th>\n",
              "      <th>NOC</th>\n",
              "      <th>Games</th>\n",
              "      <th>Year</th>\n",
              "      <th>Season</th>\n",
              "      <th>City</th>\n",
              "      <th>Sport</th>\n",
              "      <th>Event</th>\n",
              "      <th>Medal</th>\n",
              "      <th>Podium</th>\n",
              "    </tr>\n",
              "  </thead>\n",
              "  <tbody>\n",
              "    <tr>\n",
              "      <th>3</th>\n",
              "      <td>4</td>\n",
              "      <td>Edgar Lindenau Aabye</td>\n",
              "      <td>M</td>\n",
              "      <td>34.0</td>\n",
              "      <td>NaN</td>\n",
              "      <td>NaN</td>\n",
              "      <td>Denmark/Sweden</td>\n",
              "      <td>DEN</td>\n",
              "      <td>1900 Summer</td>\n",
              "      <td>1900</td>\n",
              "      <td>Summer</td>\n",
              "      <td>Paris</td>\n",
              "      <td>Tug-Of-War</td>\n",
              "      <td>Tug-Of-War Men's Tug-Of-War</td>\n",
              "      <td>Gold</td>\n",
              "      <td>Yes</td>\n",
              "    </tr>\n",
              "    <tr>\n",
              "      <th>37</th>\n",
              "      <td>15</td>\n",
              "      <td>Arvo Ossian Aaltonen</td>\n",
              "      <td>M</td>\n",
              "      <td>30.0</td>\n",
              "      <td>NaN</td>\n",
              "      <td>NaN</td>\n",
              "      <td>Finland</td>\n",
              "      <td>FIN</td>\n",
              "      <td>1920 Summer</td>\n",
              "      <td>1920</td>\n",
              "      <td>Summer</td>\n",
              "      <td>Antwerpen</td>\n",
              "      <td>Swimming</td>\n",
              "      <td>Swimming Men's 200 metres Breaststroke</td>\n",
              "      <td>Bronze</td>\n",
              "      <td>Yes</td>\n",
              "    </tr>\n",
              "    <tr>\n",
              "      <th>38</th>\n",
              "      <td>15</td>\n",
              "      <td>Arvo Ossian Aaltonen</td>\n",
              "      <td>M</td>\n",
              "      <td>30.0</td>\n",
              "      <td>NaN</td>\n",
              "      <td>NaN</td>\n",
              "      <td>Finland</td>\n",
              "      <td>FIN</td>\n",
              "      <td>1920 Summer</td>\n",
              "      <td>1920</td>\n",
              "      <td>Summer</td>\n",
              "      <td>Antwerpen</td>\n",
              "      <td>Swimming</td>\n",
              "      <td>Swimming Men's 400 metres Breaststroke</td>\n",
              "      <td>Bronze</td>\n",
              "      <td>Yes</td>\n",
              "    </tr>\n",
              "    <tr>\n",
              "      <th>41</th>\n",
              "      <td>17</td>\n",
              "      <td>Paavo Johannes Aaltonen</td>\n",
              "      <td>M</td>\n",
              "      <td>28.0</td>\n",
              "      <td>175.0</td>\n",
              "      <td>64.0</td>\n",
              "      <td>Finland</td>\n",
              "      <td>FIN</td>\n",
              "      <td>1948 Summer</td>\n",
              "      <td>1948</td>\n",
              "      <td>Summer</td>\n",
              "      <td>London</td>\n",
              "      <td>Gymnastics</td>\n",
              "      <td>Gymnastics Men's Individual All-Around</td>\n",
              "      <td>Bronze</td>\n",
              "      <td>Yes</td>\n",
              "    </tr>\n",
              "    <tr>\n",
              "      <th>42</th>\n",
              "      <td>17</td>\n",
              "      <td>Paavo Johannes Aaltonen</td>\n",
              "      <td>M</td>\n",
              "      <td>28.0</td>\n",
              "      <td>175.0</td>\n",
              "      <td>64.0</td>\n",
              "      <td>Finland</td>\n",
              "      <td>FIN</td>\n",
              "      <td>1948 Summer</td>\n",
              "      <td>1948</td>\n",
              "      <td>Summer</td>\n",
              "      <td>London</td>\n",
              "      <td>Gymnastics</td>\n",
              "      <td>Gymnastics Men's Team All-Around</td>\n",
              "      <td>Gold</td>\n",
              "      <td>Yes</td>\n",
              "    </tr>\n",
              "  </tbody>\n",
              "</table>\n",
              "</div>"
            ],
            "text/plain": [
              "    ID                     Name  ...   Medal  Podium\n",
              "3    4     Edgar Lindenau Aabye  ...    Gold     Yes\n",
              "37  15     Arvo Ossian Aaltonen  ...  Bronze     Yes\n",
              "38  15     Arvo Ossian Aaltonen  ...  Bronze     Yes\n",
              "41  17  Paavo Johannes Aaltonen  ...  Bronze     Yes\n",
              "42  17  Paavo Johannes Aaltonen  ...    Gold     Yes\n",
              "\n",
              "[5 rows x 16 columns]"
            ]
          },
          "metadata": {
            "tags": []
          },
          "execution_count": 432
        }
      ]
    },
    {
      "cell_type": "code",
      "metadata": {
        "colab": {
          "base_uri": "https://localhost:8080/",
          "height": 0
        },
        "id": "ELxi9tXFTlyU",
        "outputId": "3e1bab4b-601c-4b35-9e3c-ebc105604be0"
      },
      "source": [
        "df_quantas_medalhas = top10_winner_athlete(df_medalhistas, 'Podium', 'Yes')\n",
        "df_quantas_medalhas"
      ],
      "execution_count": 433,
      "outputs": [
        {
          "output_type": "execute_result",
          "data": {
            "text/html": [
              "<div>\n",
              "<style scoped>\n",
              "    .dataframe tbody tr th:only-of-type {\n",
              "        vertical-align: middle;\n",
              "    }\n",
              "\n",
              "    .dataframe tbody tr th {\n",
              "        vertical-align: top;\n",
              "    }\n",
              "\n",
              "    .dataframe thead th {\n",
              "        text-align: right;\n",
              "    }\n",
              "</style>\n",
              "<table border=\"1\" class=\"dataframe\">\n",
              "  <thead>\n",
              "    <tr style=\"text-align: right;\">\n",
              "      <th></th>\n",
              "      <th>Name</th>\n",
              "      <th>Sport</th>\n",
              "      <th>Podium</th>\n",
              "      <th>Counts</th>\n",
              "    </tr>\n",
              "  </thead>\n",
              "  <tbody>\n",
              "    <tr>\n",
              "      <th>0</th>\n",
              "      <td>Michael Fred Phelps, II</td>\n",
              "      <td>Swimming</td>\n",
              "      <td>Yes</td>\n",
              "      <td>28</td>\n",
              "    </tr>\n",
              "    <tr>\n",
              "      <th>1</th>\n",
              "      <td>Larysa Semenivna Latynina (Diriy-)</td>\n",
              "      <td>Gymnastics</td>\n",
              "      <td>Yes</td>\n",
              "      <td>18</td>\n",
              "    </tr>\n",
              "    <tr>\n",
              "      <th>2</th>\n",
              "      <td>Nikolay Yefimovich Andrianov</td>\n",
              "      <td>Gymnastics</td>\n",
              "      <td>Yes</td>\n",
              "      <td>15</td>\n",
              "    </tr>\n",
              "    <tr>\n",
              "      <th>3</th>\n",
              "      <td>Borys Anfiyanovych Shakhlin</td>\n",
              "      <td>Gymnastics</td>\n",
              "      <td>Yes</td>\n",
              "      <td>13</td>\n",
              "    </tr>\n",
              "    <tr>\n",
              "      <th>4</th>\n",
              "      <td>Takashi Ono</td>\n",
              "      <td>Gymnastics</td>\n",
              "      <td>Yes</td>\n",
              "      <td>13</td>\n",
              "    </tr>\n",
              "    <tr>\n",
              "      <th>5</th>\n",
              "      <td>Edoardo Mangiarotti</td>\n",
              "      <td>Fencing</td>\n",
              "      <td>Yes</td>\n",
              "      <td>13</td>\n",
              "    </tr>\n",
              "    <tr>\n",
              "      <th>6</th>\n",
              "      <td>Dara Grace Torres (-Hoffman, -Minas)</td>\n",
              "      <td>Swimming</td>\n",
              "      <td>Yes</td>\n",
              "      <td>12</td>\n",
              "    </tr>\n",
              "    <tr>\n",
              "      <th>7</th>\n",
              "      <td>Birgit Fischer-Schmidt</td>\n",
              "      <td>Canoeing</td>\n",
              "      <td>Yes</td>\n",
              "      <td>12</td>\n",
              "    </tr>\n",
              "    <tr>\n",
              "      <th>8</th>\n",
              "      <td>Natalie Anne Coughlin (-Hall)</td>\n",
              "      <td>Swimming</td>\n",
              "      <td>Yes</td>\n",
              "      <td>12</td>\n",
              "    </tr>\n",
              "    <tr>\n",
              "      <th>9</th>\n",
              "      <td>Paavo Johannes Nurmi</td>\n",
              "      <td>Athletics</td>\n",
              "      <td>Yes</td>\n",
              "      <td>12</td>\n",
              "    </tr>\n",
              "  </tbody>\n",
              "</table>\n",
              "</div>"
            ],
            "text/plain": [
              "                                   Name       Sport Podium  Counts\n",
              "0               Michael Fred Phelps, II    Swimming    Yes      28\n",
              "1    Larysa Semenivna Latynina (Diriy-)  Gymnastics    Yes      18\n",
              "2          Nikolay Yefimovich Andrianov  Gymnastics    Yes      15\n",
              "3           Borys Anfiyanovych Shakhlin  Gymnastics    Yes      13\n",
              "4                           Takashi Ono  Gymnastics    Yes      13\n",
              "5                   Edoardo Mangiarotti     Fencing    Yes      13\n",
              "6  Dara Grace Torres (-Hoffman, -Minas)    Swimming    Yes      12\n",
              "7                Birgit Fischer-Schmidt    Canoeing    Yes      12\n",
              "8         Natalie Anne Coughlin (-Hall)    Swimming    Yes      12\n",
              "9                  Paavo Johannes Nurmi   Athletics    Yes      12"
            ]
          },
          "metadata": {
            "tags": []
          },
          "execution_count": 433
        }
      ]
    },
    {
      "cell_type": "markdown",
      "metadata": {
        "id": "WlzhLwzT-H4F"
      },
      "source": [
        "Foi confirmado por pesquisa rápida no Google que Michael Phelps é o maior ganhador de medalhas em olimpíadas de todos os tempos\n",
        "\n",
        "Larysa Semenivna também foi confirmada."
      ]
    },
    {
      "cell_type": "markdown",
      "metadata": {
        "id": "MOMuaTsA-yyq"
      },
      "source": [
        "# 7. Quem ganhou mais medalhas de ouro?"
      ]
    },
    {
      "cell_type": "code",
      "metadata": {
        "colab": {
          "base_uri": "https://localhost:8080/",
          "height": 0
        },
        "id": "lCyXSCUM_HN0",
        "outputId": "5f087e85-00ff-4bee-8f13-f3489fdf6c33"
      },
      "source": [
        "df_quantos_ouros = top10_winner_athlete(df_athlete_events,'Medal','Gold')\n",
        "df_quantos_ouros"
      ],
      "execution_count": 434,
      "outputs": [
        {
          "output_type": "execute_result",
          "data": {
            "text/html": [
              "<div>\n",
              "<style scoped>\n",
              "    .dataframe tbody tr th:only-of-type {\n",
              "        vertical-align: middle;\n",
              "    }\n",
              "\n",
              "    .dataframe tbody tr th {\n",
              "        vertical-align: top;\n",
              "    }\n",
              "\n",
              "    .dataframe thead th {\n",
              "        text-align: right;\n",
              "    }\n",
              "</style>\n",
              "<table border=\"1\" class=\"dataframe\">\n",
              "  <thead>\n",
              "    <tr style=\"text-align: right;\">\n",
              "      <th></th>\n",
              "      <th>Name</th>\n",
              "      <th>Sport</th>\n",
              "      <th>Medal</th>\n",
              "      <th>Counts</th>\n",
              "    </tr>\n",
              "  </thead>\n",
              "  <tbody>\n",
              "    <tr>\n",
              "      <th>0</th>\n",
              "      <td>Michael Fred Phelps, II</td>\n",
              "      <td>Swimming</td>\n",
              "      <td>Gold</td>\n",
              "      <td>23</td>\n",
              "    </tr>\n",
              "    <tr>\n",
              "      <th>1</th>\n",
              "      <td>Raymond Clarence \"Ray\" Ewry</td>\n",
              "      <td>Athletics</td>\n",
              "      <td>Gold</td>\n",
              "      <td>10</td>\n",
              "    </tr>\n",
              "    <tr>\n",
              "      <th>2</th>\n",
              "      <td>Larysa Semenivna Latynina (Diriy-)</td>\n",
              "      <td>Gymnastics</td>\n",
              "      <td>Gold</td>\n",
              "      <td>9</td>\n",
              "    </tr>\n",
              "    <tr>\n",
              "      <th>3</th>\n",
              "      <td>Mark Andrew Spitz</td>\n",
              "      <td>Swimming</td>\n",
              "      <td>Gold</td>\n",
              "      <td>9</td>\n",
              "    </tr>\n",
              "    <tr>\n",
              "      <th>4</th>\n",
              "      <td>Frederick Carlton \"Carl\" Lewis</td>\n",
              "      <td>Athletics</td>\n",
              "      <td>Gold</td>\n",
              "      <td>9</td>\n",
              "    </tr>\n",
              "    <tr>\n",
              "      <th>5</th>\n",
              "      <td>Paavo Johannes Nurmi</td>\n",
              "      <td>Athletics</td>\n",
              "      <td>Gold</td>\n",
              "      <td>9</td>\n",
              "    </tr>\n",
              "    <tr>\n",
              "      <th>6</th>\n",
              "      <td>Matthew Nicholas \"Matt\" Biondi</td>\n",
              "      <td>Swimming</td>\n",
              "      <td>Gold</td>\n",
              "      <td>8</td>\n",
              "    </tr>\n",
              "    <tr>\n",
              "      <th>7</th>\n",
              "      <td>Sawao Kato</td>\n",
              "      <td>Gymnastics</td>\n",
              "      <td>Gold</td>\n",
              "      <td>8</td>\n",
              "    </tr>\n",
              "    <tr>\n",
              "      <th>8</th>\n",
              "      <td>Jennifer Elisabeth \"Jenny\" Thompson (-Cumpelik)</td>\n",
              "      <td>Swimming</td>\n",
              "      <td>Gold</td>\n",
              "      <td>8</td>\n",
              "    </tr>\n",
              "    <tr>\n",
              "      <th>9</th>\n",
              "      <td>Usain St. Leo Bolt</td>\n",
              "      <td>Athletics</td>\n",
              "      <td>Gold</td>\n",
              "      <td>8</td>\n",
              "    </tr>\n",
              "  </tbody>\n",
              "</table>\n",
              "</div>"
            ],
            "text/plain": [
              "                                              Name       Sport Medal  Counts\n",
              "0                          Michael Fred Phelps, II    Swimming  Gold      23\n",
              "1                      Raymond Clarence \"Ray\" Ewry   Athletics  Gold      10\n",
              "2               Larysa Semenivna Latynina (Diriy-)  Gymnastics  Gold       9\n",
              "3                                Mark Andrew Spitz    Swimming  Gold       9\n",
              "4                   Frederick Carlton \"Carl\" Lewis   Athletics  Gold       9\n",
              "5                             Paavo Johannes Nurmi   Athletics  Gold       9\n",
              "6                   Matthew Nicholas \"Matt\" Biondi    Swimming  Gold       8\n",
              "7                                       Sawao Kato  Gymnastics  Gold       8\n",
              "8  Jennifer Elisabeth \"Jenny\" Thompson (-Cumpelik)    Swimming  Gold       8\n",
              "9                               Usain St. Leo Bolt   Athletics  Gold       8"
            ]
          },
          "metadata": {
            "tags": []
          },
          "execution_count": 434
        }
      ]
    },
    {
      "cell_type": "markdown",
      "metadata": {
        "id": "BvaPvPbyCUM3"
      },
      "source": [
        "# 8. Quem ganhou mais medalhas em um única olimpíada"
      ]
    },
    {
      "cell_type": "code",
      "metadata": {
        "colab": {
          "base_uri": "https://localhost:8080/"
        },
        "id": "E4BFsX7MCX7H",
        "outputId": "ebd6b623-7dc7-444c-a849-e0cb76218d50"
      },
      "source": [
        "df_medalhistas[['Name','Year']].value_counts()[0:10] # Aleksandr e Phelps confirmados como os maiores vencedores"
      ],
      "execution_count": 435,
      "outputs": [
        {
          "output_type": "execute_result",
          "data": {
            "text/plain": [
              "Name                             Year\n",
              "Aleksandr Nikolayevich Dityatin  1980    8\n",
              "Michael Fred Phelps, II          2008    8\n",
              "                                 2004    8\n",
              "Borys Anfiyanovych Shakhlin      1960    7\n",
              "Lloyd Spencer Spooner            1920    7\n",
              "Mariya Kindrativna Horokhovska   1952    7\n",
              "Willis Augustus Lee, Jr.         1920    7\n",
              "Mikhail Yakovlevich Voronin      1968    7\n",
              "Mark Andrew Spitz                1972    7\n",
              "Nikolay Yefimovich Andrianov     1976    7\n",
              "dtype: int64"
            ]
          },
          "metadata": {
            "tags": []
          },
          "execution_count": 435
        }
      ]
    },
    {
      "cell_type": "markdown",
      "metadata": {
        "id": "1MutJMEHEq9r"
      },
      "source": [
        "# 9. País com mais medalhas historicamente?"
      ]
    },
    {
      "cell_type": "code",
      "metadata": {
        "colab": {
          "base_uri": "https://localhost:8080/"
        },
        "id": "b_S3r84UEuTq",
        "outputId": "b1141741-a3ab-4436-df80-38008345bd03"
      },
      "source": [
        "df_medalhistas['Team'].value_counts()[0:10] "
      ],
      "execution_count": 436,
      "outputs": [
        {
          "output_type": "execute_result",
          "data": {
            "text/plain": [
              "United States    4686\n",
              "Soviet Union     2061\n",
              "Germany          1687\n",
              "Great Britain    1598\n",
              "France           1408\n",
              "Italy            1384\n",
              "Australia        1290\n",
              "Hungary          1123\n",
              "Sweden           1006\n",
              "Russia            894\n",
              "Name: Team, dtype: int64"
            ]
          },
          "metadata": {
            "tags": []
          },
          "execution_count": 436
        }
      ]
    },
    {
      "cell_type": "markdown",
      "metadata": {
        "id": "mmRzUoNgFXlS"
      },
      "source": [
        "# 10. Países com mais medalhas desde 1980?"
      ]
    },
    {
      "cell_type": "code",
      "metadata": {
        "colab": {
          "base_uri": "https://localhost:8080/"
        },
        "id": "gijWHbM-FW9i",
        "outputId": "d8b5e6c7-d576-4247-fc75-ef996abe189d"
      },
      "source": [
        "filtro_apartir1980 = df_medalhistas['Year'] >= 1980\n",
        "df_medalhistas_apartir1980 = df_medalhistas[filtro_apartir1980]\n",
        "df_medalhistas_apartir1980['Team'].value_counts()[0:10] "
      ],
      "execution_count": 437,
      "outputs": [
        {
          "output_type": "execute_result",
          "data": {
            "text/plain": [
              "United States    2338\n",
              "Australia         970\n",
              "Germany           928\n",
              "Russia            884\n",
              "China             831\n",
              "Soviet Union      742\n",
              "Great Britain     703\n",
              "France            597\n",
              "Italy             594\n",
              "Netherlands       526\n",
              "Name: Team, dtype: int64"
            ]
          },
          "metadata": {
            "tags": []
          },
          "execution_count": 437
        }
      ]
    },
    {
      "cell_type": "markdown",
      "metadata": {
        "id": "chm0rG28lpQj"
      },
      "source": [
        "# 11. Corrida histórica de medalhas de 1896 a 2016"
      ]
    },
    {
      "cell_type": "code",
      "metadata": {
        "id": "VQIz-S2xwY6W"
      },
      "source": [
        "def serie_temporal_medalhas_por_pais(df, nome_pais):\n",
        "\n",
        "  filtro_pais = df['Team'] == nome_pais\n",
        "  df_medalhistas_pais = df[filtro_pais].sort_values(by='Year')[['Year', 'Podium']]\n",
        "  df_medalhistas_pais['Podium'] = 1\n",
        "  df_medalhas_pais= df_medalhistas_pais.groupby(['Year']).sum().reset_index()\n",
        "  return df_medalhas_pais"
      ],
      "execution_count": 438,
      "outputs": []
    },
    {
      "cell_type": "code",
      "metadata": {
        "id": "WkuB0y5lq05I"
      },
      "source": [
        "df_medalhas_eua = serie_temporal_medalhas_por_pais(df_medalhistas, 'United States')\n",
        "df_medalhas_china = serie_temporal_medalhas_por_pais(df_medalhistas, 'China')\n",
        "df_medalhas_uniaosovietica = serie_temporal_medalhas_por_pais(df_medalhistas, 'Soviet Union')\n",
        "df_medalhas_russia = serie_temporal_medalhas_por_pais(df_medalhistas, 'Russia')\n",
        "df_medalhas_grabretanha = serie_temporal_medalhas_por_pais(df_medalhistas, 'Great Britain')\n",
        "df_medalhas_italia = serie_temporal_medalhas_por_pais(df_medalhistas, 'Italy')\n",
        "df_medalhas_brasil = serie_temporal_medalhas_por_pais(df_medalhistas, 'Brazil')"
      ],
      "execution_count": 439,
      "outputs": []
    },
    {
      "cell_type": "code",
      "metadata": {
        "id": "hNnDDuRlydM8"
      },
      "source": [
        "plt.rcParams.update({'font.size': 16})"
      ],
      "execution_count": 440,
      "outputs": []
    },
    {
      "cell_type": "code",
      "metadata": {
        "colab": {
          "base_uri": "https://localhost:8080/",
          "height": 398
        },
        "id": "F8Afw9iYwUHn",
        "outputId": "cc43f498-ac79-4634-f44d-bb50d62444c8"
      },
      "source": [
        "plt.figure(figsize=(10,6))\n",
        "plt.plot(df_medalhas_eua['Year'],df_medalhas_eua['Podium'],label='EUA')\n",
        "plt.plot(df_medalhas_china['Year'],df_medalhas_china['Podium'], label='China')\n",
        "plt.plot(df_medalhas_uniaosovietica['Year'],df_medalhas_uniaosovietica['Podium'],label='União Soviética')\n",
        "plt.plot(df_medalhas_russia['Year'],df_medalhas_russia['Podium'], label='Rússia')\n",
        "plt.plot(df_medalhas_grabretanha['Year'],df_medalhas_grabretanha['Podium'], label='Grã-Bretanha')\n",
        "plt.plot(df_medalhas_italia['Year'],df_medalhas_italia['Podium'], label='Itália')\n",
        "plt.xlabel('Anos')\n",
        "plt.ylabel('Número de Medalhas')\n",
        "plt.legend()\n",
        "plt.show()"
      ],
      "execution_count": 441,
      "outputs": [
        {
          "output_type": "display_data",
          "data": {
            "image/png": "[encoded data removed]",
            "text/plain": [
              "<Figure size 720x432 with 1 Axes>"
            ]
          },
          "metadata": {
            "tags": [],
            "needs_background": "light"
          }
        }
      ]
    },
    {
      "cell_type": "markdown",
      "metadata": {
        "id": "r_WGBdl7y3MZ"
      },
      "source": [
        "# Animação da Corrida Histórica de Medalhas de 1896-2016"
      ]
    },
    {
      "cell_type": "markdown",
      "metadata": {
        "id": "TzzvJHiSzgJ9"
      },
      "source": [
        "**Passo 1: Reorganizar dados dos países escolhidos para animação em um único dataset**"
      ]
    },
    {
      "cell_type": "code",
      "metadata": {
        "colab": {
          "base_uri": "https://localhost:8080/"
        },
        "id": "dPyiiQ3Z2Pat",
        "outputId": "39b5bf7d-7757-4c83-96f1-9da32276389d"
      },
      "source": [
        "np.array(df_medalhas_eua['Year']) # total de anos que os eua participou de olimpiada"
      ],
      "execution_count": 442,
      "outputs": [
        {
          "output_type": "execute_result",
          "data": {
            "text/plain": [
              "array([1896, 1900, 1904, 1906, 1908, 1912, 1920, 1924, 1928, 1932, 1936,\n",
              "       1948, 1952, 1956, 1960, 1964, 1968, 1972, 1976, 1984, 1988, 1992,\n",
              "       1996, 2000, 2004, 2008, 2012, 2016])"
            ]
          },
          "metadata": {
            "tags": []
          },
          "execution_count": 442
        }
      ]
    },
    {
      "cell_type": "code",
      "metadata": {
        "colab": {
          "base_uri": "https://localhost:8080/"
        },
        "id": "4Kpp9I8o2Rqo",
        "outputId": "b06d393e-5960-45bf-ab2c-200d9b09896f"
      },
      "source": [
        "np.array(df_medalhas_grabretanha['Year']) # total de anos que a gra bretanha participou de olimpiada"
      ],
      "execution_count": 443,
      "outputs": [
        {
          "output_type": "execute_result",
          "data": {
            "text/plain": [
              "array([1896, 1900, 1904, 1906, 1908, 1912, 1920, 1924, 1928, 1932, 1936,\n",
              "       1948, 1952, 1956, 1960, 1964, 1968, 1972, 1976, 1980, 1984, 1988,\n",
              "       1992, 1996, 2000, 2004, 2008, 2012, 2016])"
            ]
          },
          "metadata": {
            "tags": []
          },
          "execution_count": 443
        }
      ]
    },
    {
      "cell_type": "code",
      "metadata": {
        "colab": {
          "base_uri": "https://localhost:8080/"
        },
        "id": "w00qZ4ug21cq",
        "outputId": "22ca019f-4be3-4ca3-f068-ef91672f5d01"
      },
      "source": [
        "len(df_athlete_events['Year'].unique()) # total de anos das olimpiadas "
      ],
      "execution_count": 444,
      "outputs": [
        {
          "output_type": "execute_result",
          "data": {
            "text/plain": [
              "29"
            ]
          },
          "metadata": {
            "tags": []
          },
          "execution_count": 444
        }
      ]
    },
    {
      "cell_type": "code",
      "metadata": {
        "id": "Mjm9fHXbWx4k"
      },
      "source": [
        "def conta_medalhas_pais_todos_anos(df, df_pais, nome_pais):\n",
        "\n",
        "  lista_anos = list(df['Year'].unique())\n",
        "  lista_anos = sorted(lista_anos)\n",
        "  df_novo = df_pais.copy()\n",
        "\n",
        "  for i in range(len(lista_anos)):\n",
        "    if not lista_anos[i] in list(df_pais['Year']):    \n",
        "      df_novo.loc[len(lista_anos)+i] = np.array([lista_anos[i],0])\n",
        "\n",
        "  df_novo.sort_values(by=['Year'], inplace= True)\n",
        "  df_novo = df_novo.reset_index(drop=True)\n",
        "  df_novo = df_novo.rename(columns={\"Podium\": nome_pais})\n",
        "\n",
        "  return df_novo"
      ],
      "execution_count": 445,
      "outputs": []
    },
    {
      "cell_type": "code",
      "metadata": {
        "id": "L9sXGJPmXQjh"
      },
      "source": [
        "italy = conta_medalhas_pais_todos_anos(df_athlete_events, df_medalhas_italia,'Italy')\n",
        "grabretanha = conta_medalhas_pais_todos_anos(df_athlete_events, df_medalhas_grabretanha,'G Britain')\n",
        "russia = conta_medalhas_pais_todos_anos(df_athlete_events, df_medalhas_russia,'Russia')\n",
        "eua = conta_medalhas_pais_todos_anos(df_athlete_events, df_medalhas_eua,'U States')\n",
        "china = conta_medalhas_pais_todos_anos(df_athlete_events, df_medalhas_china,'China')\n",
        "brasil = conta_medalhas_pais_todos_anos(df_athlete_events, df_medalhas_brasil,'Brazil')\n",
        "uniaosovietica = conta_medalhas_pais_todos_anos(df_athlete_events, df_medalhas_uniaosovietica,'S Union')"
      ],
      "execution_count": 446,
      "outputs": []
    },
    {
      "cell_type": "code",
      "metadata": {
        "colab": {
          "base_uri": "https://localhost:8080/",
          "height": 979
        },
        "id": "IdhdpcL4ZbQ8",
        "outputId": "99bfca8f-a6e9-415a-a3c9-6011ae659feb"
      },
      "source": [
        "lst_paises_concat = [eua, \n",
        "                     russia['Russia'], \n",
        "                     italy['Italy'], \n",
        "                     grabretanha['G Britain'], \n",
        "                     china['China'],\n",
        "                     brasil['Brazil'],\n",
        "                     uniaosovietica['S Union']]\n",
        "\n",
        "result = pd.concat(lst_paises_concat, axis =1)\n",
        "result.set_index('Year', inplace=True)\n",
        "result.index = pd.to_datetime(result.index, format='%Y')\n",
        "result\n"
      ],
      "execution_count": 447,
      "outputs": [
        {
          "output_type": "execute_result",
          "data": {
            "text/html": [
              "<div>\n",
              "<style scoped>\n",
              "    .dataframe tbody tr th:only-of-type {\n",
              "        vertical-align: middle;\n",
              "    }\n",
              "\n",
              "    .dataframe tbody tr th {\n",
              "        vertical-align: top;\n",
              "    }\n",
              "\n",
              "    .dataframe thead th {\n",
              "        text-align: right;\n",
              "    }\n",
              "</style>\n",
              "<table border=\"1\" class=\"dataframe\">\n",
              "  <thead>\n",
              "    <tr style=\"text-align: right;\">\n",
              "      <th></th>\n",
              "      <th>U States</th>\n",
              "      <th>Russia</th>\n",
              "      <th>Italy</th>\n",
              "      <th>G Britain</th>\n",
              "      <th>China</th>\n",
              "      <th>Brazil</th>\n",
              "      <th>S Union</th>\n",
              "    </tr>\n",
              "    <tr>\n",
              "      <th>Year</th>\n",
              "      <th></th>\n",
              "      <th></th>\n",
              "      <th></th>\n",
              "      <th></th>\n",
              "      <th></th>\n",
              "      <th></th>\n",
              "      <th></th>\n",
              "    </tr>\n",
              "  </thead>\n",
              "  <tbody>\n",
              "    <tr>\n",
              "      <th>1896-01-01</th>\n",
              "      <td>20</td>\n",
              "      <td>0</td>\n",
              "      <td>0</td>\n",
              "      <td>7</td>\n",
              "      <td>0</td>\n",
              "      <td>0</td>\n",
              "      <td>0</td>\n",
              "    </tr>\n",
              "    <tr>\n",
              "      <th>1900-01-01</th>\n",
              "      <td>45</td>\n",
              "      <td>0</td>\n",
              "      <td>5</td>\n",
              "      <td>22</td>\n",
              "      <td>0</td>\n",
              "      <td>0</td>\n",
              "      <td>0</td>\n",
              "    </tr>\n",
              "    <tr>\n",
              "      <th>1904-01-01</th>\n",
              "      <td>199</td>\n",
              "      <td>0</td>\n",
              "      <td>0</td>\n",
              "      <td>2</td>\n",
              "      <td>0</td>\n",
              "      <td>0</td>\n",
              "      <td>0</td>\n",
              "    </tr>\n",
              "    <tr>\n",
              "      <th>1906-01-01</th>\n",
              "      <td>24</td>\n",
              "      <td>0</td>\n",
              "      <td>9</td>\n",
              "      <td>31</td>\n",
              "      <td>0</td>\n",
              "      <td>0</td>\n",
              "      <td>0</td>\n",
              "    </tr>\n",
              "    <tr>\n",
              "      <th>1908-01-01</th>\n",
              "      <td>65</td>\n",
              "      <td>3</td>\n",
              "      <td>8</td>\n",
              "      <td>167</td>\n",
              "      <td>0</td>\n",
              "      <td>0</td>\n",
              "      <td>0</td>\n",
              "    </tr>\n",
              "    <tr>\n",
              "      <th>1912-01-01</th>\n",
              "      <td>107</td>\n",
              "      <td>7</td>\n",
              "      <td>25</td>\n",
              "      <td>128</td>\n",
              "      <td>0</td>\n",
              "      <td>0</td>\n",
              "      <td>0</td>\n",
              "    </tr>\n",
              "    <tr>\n",
              "      <th>1920-01-01</th>\n",
              "      <td>194</td>\n",
              "      <td>0</td>\n",
              "      <td>84</td>\n",
              "      <td>101</td>\n",
              "      <td>0</td>\n",
              "      <td>7</td>\n",
              "      <td>0</td>\n",
              "    </tr>\n",
              "    <tr>\n",
              "      <th>1924-01-01</th>\n",
              "      <td>174</td>\n",
              "      <td>0</td>\n",
              "      <td>51</td>\n",
              "      <td>55</td>\n",
              "      <td>0</td>\n",
              "      <td>0</td>\n",
              "      <td>0</td>\n",
              "    </tr>\n",
              "    <tr>\n",
              "      <th>1928-01-01</th>\n",
              "      <td>88</td>\n",
              "      <td>0</td>\n",
              "      <td>72</td>\n",
              "      <td>58</td>\n",
              "      <td>0</td>\n",
              "      <td>0</td>\n",
              "      <td>0</td>\n",
              "    </tr>\n",
              "    <tr>\n",
              "      <th>1932-01-01</th>\n",
              "      <td>170</td>\n",
              "      <td>0</td>\n",
              "      <td>77</td>\n",
              "      <td>33</td>\n",
              "      <td>0</td>\n",
              "      <td>0</td>\n",
              "      <td>0</td>\n",
              "    </tr>\n",
              "    <tr>\n",
              "      <th>1936-01-01</th>\n",
              "      <td>96</td>\n",
              "      <td>0</td>\n",
              "      <td>70</td>\n",
              "      <td>30</td>\n",
              "      <td>0</td>\n",
              "      <td>0</td>\n",
              "      <td>0</td>\n",
              "    </tr>\n",
              "    <tr>\n",
              "      <th>1948-01-01</th>\n",
              "      <td>143</td>\n",
              "      <td>0</td>\n",
              "      <td>67</td>\n",
              "      <td>59</td>\n",
              "      <td>0</td>\n",
              "      <td>10</td>\n",
              "      <td>0</td>\n",
              "    </tr>\n",
              "    <tr>\n",
              "      <th>1952-01-01</th>\n",
              "      <td>122</td>\n",
              "      <td>0</td>\n",
              "      <td>52</td>\n",
              "      <td>31</td>\n",
              "      <td>0</td>\n",
              "      <td>3</td>\n",
              "      <td>117</td>\n",
              "    </tr>\n",
              "    <tr>\n",
              "      <th>1956-01-01</th>\n",
              "      <td>121</td>\n",
              "      <td>0</td>\n",
              "      <td>45</td>\n",
              "      <td>37</td>\n",
              "      <td>0</td>\n",
              "      <td>1</td>\n",
              "      <td>169</td>\n",
              "    </tr>\n",
              "    <tr>\n",
              "      <th>1960-01-01</th>\n",
              "      <td>120</td>\n",
              "      <td>0</td>\n",
              "      <td>85</td>\n",
              "      <td>28</td>\n",
              "      <td>0</td>\n",
              "      <td>13</td>\n",
              "      <td>167</td>\n",
              "    </tr>\n",
              "    <tr>\n",
              "      <th>1964-01-01</th>\n",
              "      <td>159</td>\n",
              "      <td>0</td>\n",
              "      <td>51</td>\n",
              "      <td>26</td>\n",
              "      <td>0</td>\n",
              "      <td>12</td>\n",
              "      <td>174</td>\n",
              "    </tr>\n",
              "    <tr>\n",
              "      <th>1968-01-01</th>\n",
              "      <td>166</td>\n",
              "      <td>0</td>\n",
              "      <td>33</td>\n",
              "      <td>19</td>\n",
              "      <td>0</td>\n",
              "      <td>4</td>\n",
              "      <td>192</td>\n",
              "    </tr>\n",
              "    <tr>\n",
              "      <th>1972-01-01</th>\n",
              "      <td>171</td>\n",
              "      <td>0</td>\n",
              "      <td>25</td>\n",
              "      <td>29</td>\n",
              "      <td>0</td>\n",
              "      <td>2</td>\n",
              "      <td>214</td>\n",
              "    </tr>\n",
              "    <tr>\n",
              "      <th>1976-01-01</th>\n",
              "      <td>164</td>\n",
              "      <td>0</td>\n",
              "      <td>31</td>\n",
              "      <td>32</td>\n",
              "      <td>0</td>\n",
              "      <td>3</td>\n",
              "      <td>286</td>\n",
              "    </tr>\n",
              "    <tr>\n",
              "      <th>1980-01-01</th>\n",
              "      <td>0</td>\n",
              "      <td>0</td>\n",
              "      <td>37</td>\n",
              "      <td>47</td>\n",
              "      <td>0</td>\n",
              "      <td>9</td>\n",
              "      <td>442</td>\n",
              "    </tr>\n",
              "    <tr>\n",
              "      <th>1984-01-01</th>\n",
              "      <td>352</td>\n",
              "      <td>0</td>\n",
              "      <td>63</td>\n",
              "      <td>71</td>\n",
              "      <td>74</td>\n",
              "      <td>36</td>\n",
              "      <td>0</td>\n",
              "    </tr>\n",
              "    <tr>\n",
              "      <th>1988-01-01</th>\n",
              "      <td>207</td>\n",
              "      <td>0</td>\n",
              "      <td>29</td>\n",
              "      <td>54</td>\n",
              "      <td>50</td>\n",
              "      <td>23</td>\n",
              "      <td>300</td>\n",
              "    </tr>\n",
              "    <tr>\n",
              "      <th>1992-01-01</th>\n",
              "      <td>222</td>\n",
              "      <td>0</td>\n",
              "      <td>45</td>\n",
              "      <td>50</td>\n",
              "      <td>70</td>\n",
              "      <td>14</td>\n",
              "      <td>0</td>\n",
              "    </tr>\n",
              "    <tr>\n",
              "      <th>1996-01-01</th>\n",
              "      <td>255</td>\n",
              "      <td>115</td>\n",
              "      <td>71</td>\n",
              "      <td>26</td>\n",
              "      <td>94</td>\n",
              "      <td>59</td>\n",
              "      <td>0</td>\n",
              "    </tr>\n",
              "    <tr>\n",
              "      <th>2000-01-01</th>\n",
              "      <td>240</td>\n",
              "      <td>187</td>\n",
              "      <td>65</td>\n",
              "      <td>52</td>\n",
              "      <td>65</td>\n",
              "      <td>42</td>\n",
              "      <td>0</td>\n",
              "    </tr>\n",
              "    <tr>\n",
              "      <th>2004-01-01</th>\n",
              "      <td>259</td>\n",
              "      <td>189</td>\n",
              "      <td>104</td>\n",
              "      <td>55</td>\n",
              "      <td>82</td>\n",
              "      <td>36</td>\n",
              "      <td>0</td>\n",
              "    </tr>\n",
              "    <tr>\n",
              "      <th>2008-01-01</th>\n",
              "      <td>309</td>\n",
              "      <td>142</td>\n",
              "      <td>42</td>\n",
              "      <td>81</td>\n",
              "      <td>170</td>\n",
              "      <td>74</td>\n",
              "      <td>0</td>\n",
              "    </tr>\n",
              "    <tr>\n",
              "      <th>2012-01-01</th>\n",
              "      <td>238</td>\n",
              "      <td>138</td>\n",
              "      <td>68</td>\n",
              "      <td>122</td>\n",
              "      <td>117</td>\n",
              "      <td>55</td>\n",
              "      <td>0</td>\n",
              "    </tr>\n",
              "    <tr>\n",
              "      <th>2016-01-01</th>\n",
              "      <td>256</td>\n",
              "      <td>113</td>\n",
              "      <td>70</td>\n",
              "      <td>145</td>\n",
              "      <td>109</td>\n",
              "      <td>46</td>\n",
              "      <td>0</td>\n",
              "    </tr>\n",
              "  </tbody>\n",
              "</table>\n",
              "</div>"
            ],
            "text/plain": [
              "            U States  Russia  Italy  G Britain  China  Brazil  S Union\n",
              "Year                                                                  \n",
              "1896-01-01        20       0      0          7      0       0        0\n",
              "1900-01-01        45       0      5         22      0       0        0\n",
              "1904-01-01       199       0      0          2      0       0        0\n",
              "1906-01-01        24       0      9         31      0       0        0\n",
              "1908-01-01        65       3      8        167      0       0        0\n",
              "1912-01-01       107       7     25        128      0       0        0\n",
              "1920-01-01       194       0     84        101      0       7        0\n",
              "1924-01-01       174       0     51         55      0       0        0\n",
              "1928-01-01        88       0     72         58      0       0        0\n",
              "1932-01-01       170       0     77         33      0       0        0\n",
              "1936-01-01        96       0     70         30      0       0        0\n",
              "1948-01-01       143       0     67         59      0      10        0\n",
              "1952-01-01       122       0     52         31      0       3      117\n",
              "1956-01-01       121       0     45         37      0       1      169\n",
              "1960-01-01       120       0     85         28      0      13      167\n",
              "1964-01-01       159       0     51         26      0      12      174\n",
              "1968-01-01       166       0     33         19      0       4      192\n",
              "1972-01-01       171       0     25         29      0       2      214\n",
              "1976-01-01       164       0     31         32      0       3      286\n",
              "1980-01-01         0       0     37         47      0       9      442\n",
              "1984-01-01       352       0     63         71     74      36        0\n",
              "1988-01-01       207       0     29         54     50      23      300\n",
              "1992-01-01       222       0     45         50     70      14        0\n",
              "1996-01-01       255     115     71         26     94      59        0\n",
              "2000-01-01       240     187     65         52     65      42        0\n",
              "2004-01-01       259     189    104         55     82      36        0\n",
              "2008-01-01       309     142     42         81    170      74        0\n",
              "2012-01-01       238     138     68        122    117      55        0\n",
              "2016-01-01       256     113     70        145    109      46        0"
            ]
          },
          "metadata": {
            "tags": []
          },
          "execution_count": 447
        }
      ]
    },
    {
      "cell_type": "markdown",
      "metadata": {
        "id": "c4-Rr0teyGDI"
      },
      "source": [
        "**Soma cumulativa das medalhas dos paises**"
      ]
    },
    {
      "cell_type": "code",
      "metadata": {
        "colab": {
          "base_uri": "https://localhost:8080/",
          "height": 979
        },
        "id": "4KOOmXruxOUK",
        "outputId": "53defaa1-aed7-480e-dd08-1421fb6e15dd"
      },
      "source": [
        "result2 = result.copy()\n",
        "for col in list(result2.columns):\n",
        "  result2[col] = result2[col].cumsum()\n",
        "\n",
        "result2"
      ],
      "execution_count": 448,
      "outputs": [
        {
          "output_type": "execute_result",
          "data": {
            "text/html": [
              "<div>\n",
              "<style scoped>\n",
              "    .dataframe tbody tr th:only-of-type {\n",
              "        vertical-align: middle;\n",
              "    }\n",
              "\n",
              "    .dataframe tbody tr th {\n",
              "        vertical-align: top;\n",
              "    }\n",
              "\n",
              "    .dataframe thead th {\n",
              "        text-align: right;\n",
              "    }\n",
              "</style>\n",
              "<table border=\"1\" class=\"dataframe\">\n",
              "  <thead>\n",
              "    <tr style=\"text-align: right;\">\n",
              "      <th></th>\n",
              "      <th>U States</th>\n",
              "      <th>Russia</th>\n",
              "      <th>Italy</th>\n",
              "      <th>G Britain</th>\n",
              "      <th>China</th>\n",
              "      <th>Brazil</th>\n",
              "      <th>S Union</th>\n",
              "    </tr>\n",
              "    <tr>\n",
              "      <th>Year</th>\n",
              "      <th></th>\n",
              "      <th></th>\n",
              "      <th></th>\n",
              "      <th></th>\n",
              "      <th></th>\n",
              "      <th></th>\n",
              "      <th></th>\n",
              "    </tr>\n",
              "  </thead>\n",
              "  <tbody>\n",
              "    <tr>\n",
              "      <th>1896-01-01</th>\n",
              "      <td>20</td>\n",
              "      <td>0</td>\n",
              "      <td>0</td>\n",
              "      <td>7</td>\n",
              "      <td>0</td>\n",
              "      <td>0</td>\n",
              "      <td>0</td>\n",
              "    </tr>\n",
              "    <tr>\n",
              "      <th>1900-01-01</th>\n",
              "      <td>65</td>\n",
              "      <td>0</td>\n",
              "      <td>5</td>\n",
              "      <td>29</td>\n",
              "      <td>0</td>\n",
              "      <td>0</td>\n",
              "      <td>0</td>\n",
              "    </tr>\n",
              "    <tr>\n",
              "      <th>1904-01-01</th>\n",
              "      <td>264</td>\n",
              "      <td>0</td>\n",
              "      <td>5</td>\n",
              "      <td>31</td>\n",
              "      <td>0</td>\n",
              "      <td>0</td>\n",
              "      <td>0</td>\n",
              "    </tr>\n",
              "    <tr>\n",
              "      <th>1906-01-01</th>\n",
              "      <td>288</td>\n",
              "      <td>0</td>\n",
              "      <td>14</td>\n",
              "      <td>62</td>\n",
              "      <td>0</td>\n",
              "      <td>0</td>\n",
              "      <td>0</td>\n",
              "    </tr>\n",
              "    <tr>\n",
              "      <th>1908-01-01</th>\n",
              "      <td>353</td>\n",
              "      <td>3</td>\n",
              "      <td>22</td>\n",
              "      <td>229</td>\n",
              "      <td>0</td>\n",
              "      <td>0</td>\n",
              "      <td>0</td>\n",
              "    </tr>\n",
              "    <tr>\n",
              "      <th>1912-01-01</th>\n",
              "      <td>460</td>\n",
              "      <td>10</td>\n",
              "      <td>47</td>\n",
              "      <td>357</td>\n",
              "      <td>0</td>\n",
              "      <td>0</td>\n",
              "      <td>0</td>\n",
              "    </tr>\n",
              "    <tr>\n",
              "      <th>1920-01-01</th>\n",
              "      <td>654</td>\n",
              "      <td>10</td>\n",
              "      <td>131</td>\n",
              "      <td>458</td>\n",
              "      <td>0</td>\n",
              "      <td>7</td>\n",
              "      <td>0</td>\n",
              "    </tr>\n",
              "    <tr>\n",
              "      <th>1924-01-01</th>\n",
              "      <td>828</td>\n",
              "      <td>10</td>\n",
              "      <td>182</td>\n",
              "      <td>513</td>\n",
              "      <td>0</td>\n",
              "      <td>7</td>\n",
              "      <td>0</td>\n",
              "    </tr>\n",
              "    <tr>\n",
              "      <th>1928-01-01</th>\n",
              "      <td>916</td>\n",
              "      <td>10</td>\n",
              "      <td>254</td>\n",
              "      <td>571</td>\n",
              "      <td>0</td>\n",
              "      <td>7</td>\n",
              "      <td>0</td>\n",
              "    </tr>\n",
              "    <tr>\n",
              "      <th>1932-01-01</th>\n",
              "      <td>1086</td>\n",
              "      <td>10</td>\n",
              "      <td>331</td>\n",
              "      <td>604</td>\n",
              "      <td>0</td>\n",
              "      <td>7</td>\n",
              "      <td>0</td>\n",
              "    </tr>\n",
              "    <tr>\n",
              "      <th>1936-01-01</th>\n",
              "      <td>1182</td>\n",
              "      <td>10</td>\n",
              "      <td>401</td>\n",
              "      <td>634</td>\n",
              "      <td>0</td>\n",
              "      <td>7</td>\n",
              "      <td>0</td>\n",
              "    </tr>\n",
              "    <tr>\n",
              "      <th>1948-01-01</th>\n",
              "      <td>1325</td>\n",
              "      <td>10</td>\n",
              "      <td>468</td>\n",
              "      <td>693</td>\n",
              "      <td>0</td>\n",
              "      <td>17</td>\n",
              "      <td>0</td>\n",
              "    </tr>\n",
              "    <tr>\n",
              "      <th>1952-01-01</th>\n",
              "      <td>1447</td>\n",
              "      <td>10</td>\n",
              "      <td>520</td>\n",
              "      <td>724</td>\n",
              "      <td>0</td>\n",
              "      <td>20</td>\n",
              "      <td>117</td>\n",
              "    </tr>\n",
              "    <tr>\n",
              "      <th>1956-01-01</th>\n",
              "      <td>1568</td>\n",
              "      <td>10</td>\n",
              "      <td>565</td>\n",
              "      <td>761</td>\n",
              "      <td>0</td>\n",
              "      <td>21</td>\n",
              "      <td>286</td>\n",
              "    </tr>\n",
              "    <tr>\n",
              "      <th>1960-01-01</th>\n",
              "      <td>1688</td>\n",
              "      <td>10</td>\n",
              "      <td>650</td>\n",
              "      <td>789</td>\n",
              "      <td>0</td>\n",
              "      <td>34</td>\n",
              "      <td>453</td>\n",
              "    </tr>\n",
              "    <tr>\n",
              "      <th>1964-01-01</th>\n",
              "      <td>1847</td>\n",
              "      <td>10</td>\n",
              "      <td>701</td>\n",
              "      <td>815</td>\n",
              "      <td>0</td>\n",
              "      <td>46</td>\n",
              "      <td>627</td>\n",
              "    </tr>\n",
              "    <tr>\n",
              "      <th>1968-01-01</th>\n",
              "      <td>2013</td>\n",
              "      <td>10</td>\n",
              "      <td>734</td>\n",
              "      <td>834</td>\n",
              "      <td>0</td>\n",
              "      <td>50</td>\n",
              "      <td>819</td>\n",
              "    </tr>\n",
              "    <tr>\n",
              "      <th>1972-01-01</th>\n",
              "      <td>2184</td>\n",
              "      <td>10</td>\n",
              "      <td>759</td>\n",
              "      <td>863</td>\n",
              "      <td>0</td>\n",
              "      <td>52</td>\n",
              "      <td>1033</td>\n",
              "    </tr>\n",
              "    <tr>\n",
              "      <th>1976-01-01</th>\n",
              "      <td>2348</td>\n",
              "      <td>10</td>\n",
              "      <td>790</td>\n",
              "      <td>895</td>\n",
              "      <td>0</td>\n",
              "      <td>55</td>\n",
              "      <td>1319</td>\n",
              "    </tr>\n",
              "    <tr>\n",
              "      <th>1980-01-01</th>\n",
              "      <td>2348</td>\n",
              "      <td>10</td>\n",
              "      <td>827</td>\n",
              "      <td>942</td>\n",
              "      <td>0</td>\n",
              "      <td>64</td>\n",
              "      <td>1761</td>\n",
              "    </tr>\n",
              "    <tr>\n",
              "      <th>1984-01-01</th>\n",
              "      <td>2700</td>\n",
              "      <td>10</td>\n",
              "      <td>890</td>\n",
              "      <td>1013</td>\n",
              "      <td>74</td>\n",
              "      <td>100</td>\n",
              "      <td>1761</td>\n",
              "    </tr>\n",
              "    <tr>\n",
              "      <th>1988-01-01</th>\n",
              "      <td>2907</td>\n",
              "      <td>10</td>\n",
              "      <td>919</td>\n",
              "      <td>1067</td>\n",
              "      <td>124</td>\n",
              "      <td>123</td>\n",
              "      <td>2061</td>\n",
              "    </tr>\n",
              "    <tr>\n",
              "      <th>1992-01-01</th>\n",
              "      <td>3129</td>\n",
              "      <td>10</td>\n",
              "      <td>964</td>\n",
              "      <td>1117</td>\n",
              "      <td>194</td>\n",
              "      <td>137</td>\n",
              "      <td>2061</td>\n",
              "    </tr>\n",
              "    <tr>\n",
              "      <th>1996-01-01</th>\n",
              "      <td>3384</td>\n",
              "      <td>125</td>\n",
              "      <td>1035</td>\n",
              "      <td>1143</td>\n",
              "      <td>288</td>\n",
              "      <td>196</td>\n",
              "      <td>2061</td>\n",
              "    </tr>\n",
              "    <tr>\n",
              "      <th>2000-01-01</th>\n",
              "      <td>3624</td>\n",
              "      <td>312</td>\n",
              "      <td>1100</td>\n",
              "      <td>1195</td>\n",
              "      <td>353</td>\n",
              "      <td>238</td>\n",
              "      <td>2061</td>\n",
              "    </tr>\n",
              "    <tr>\n",
              "      <th>2004-01-01</th>\n",
              "      <td>3883</td>\n",
              "      <td>501</td>\n",
              "      <td>1204</td>\n",
              "      <td>1250</td>\n",
              "      <td>435</td>\n",
              "      <td>274</td>\n",
              "      <td>2061</td>\n",
              "    </tr>\n",
              "    <tr>\n",
              "      <th>2008-01-01</th>\n",
              "      <td>4192</td>\n",
              "      <td>643</td>\n",
              "      <td>1246</td>\n",
              "      <td>1331</td>\n",
              "      <td>605</td>\n",
              "      <td>348</td>\n",
              "      <td>2061</td>\n",
              "    </tr>\n",
              "    <tr>\n",
              "      <th>2012-01-01</th>\n",
              "      <td>4430</td>\n",
              "      <td>781</td>\n",
              "      <td>1314</td>\n",
              "      <td>1453</td>\n",
              "      <td>722</td>\n",
              "      <td>403</td>\n",
              "      <td>2061</td>\n",
              "    </tr>\n",
              "    <tr>\n",
              "      <th>2016-01-01</th>\n",
              "      <td>4686</td>\n",
              "      <td>894</td>\n",
              "      <td>1384</td>\n",
              "      <td>1598</td>\n",
              "      <td>831</td>\n",
              "      <td>449</td>\n",
              "      <td>2061</td>\n",
              "    </tr>\n",
              "  </tbody>\n",
              "</table>\n",
              "</div>"
            ],
            "text/plain": [
              "            U States  Russia  Italy  G Britain  China  Brazil  S Union\n",
              "Year                                                                  \n",
              "1896-01-01        20       0      0          7      0       0        0\n",
              "1900-01-01        65       0      5         29      0       0        0\n",
              "1904-01-01       264       0      5         31      0       0        0\n",
              "1906-01-01       288       0     14         62      0       0        0\n",
              "1908-01-01       353       3     22        229      0       0        0\n",
              "1912-01-01       460      10     47        357      0       0        0\n",
              "1920-01-01       654      10    131        458      0       7        0\n",
              "1924-01-01       828      10    182        513      0       7        0\n",
              "1928-01-01       916      10    254        571      0       7        0\n",
              "1932-01-01      1086      10    331        604      0       7        0\n",
              "1936-01-01      1182      10    401        634      0       7        0\n",
              "1948-01-01      1325      10    468        693      0      17        0\n",
              "1952-01-01      1447      10    520        724      0      20      117\n",
              "1956-01-01      1568      10    565        761      0      21      286\n",
              "1960-01-01      1688      10    650        789      0      34      453\n",
              "1964-01-01      1847      10    701        815      0      46      627\n",
              "1968-01-01      2013      10    734        834      0      50      819\n",
              "1972-01-01      2184      10    759        863      0      52     1033\n",
              "1976-01-01      2348      10    790        895      0      55     1319\n",
              "1980-01-01      2348      10    827        942      0      64     1761\n",
              "1984-01-01      2700      10    890       1013     74     100     1761\n",
              "1988-01-01      2907      10    919       1067    124     123     2061\n",
              "1992-01-01      3129      10    964       1117    194     137     2061\n",
              "1996-01-01      3384     125   1035       1143    288     196     2061\n",
              "2000-01-01      3624     312   1100       1195    353     238     2061\n",
              "2004-01-01      3883     501   1204       1250    435     274     2061\n",
              "2008-01-01      4192     643   1246       1331    605     348     2061\n",
              "2012-01-01      4430     781   1314       1453    722     403     2061\n",
              "2016-01-01      4686     894   1384       1598    831     449     2061"
            ]
          },
          "metadata": {
            "tags": []
          },
          "execution_count": 448
        }
      ]
    },
    {
      "cell_type": "markdown",
      "metadata": {
        "id": "B40Cwj_Cb3Iv"
      },
      "source": [
        "**Animação**"
      ]
    },
    {
      "cell_type": "code",
      "metadata": {
        "colab": {
          "base_uri": "https://localhost:8080/",
          "height": 877
        },
        "id": "Pr0_Iqaeb6sl",
        "outputId": "736418e5-12a6-41d6-9ae7-d35813a15735"
      },
      "source": [
        "from IPython.display import HTML\n",
        "\n",
        "fig = plt.figure(figsize=(12,6))\n",
        "\n",
        "def drawframe(i=int):\n",
        "    iv = min(i, len(result2.index)-1) #the loop iterates an extra one time, which causes the dataframes to go out of bounds. This was the easiest (most lazy) way to solve this :)\n",
        "    objects = result2.max().index\n",
        "    y_pos = np.arange(len(objects))\n",
        "    performance = result2.iloc[[iv]].values.tolist()[0]\n",
        "    plt.barh(y_pos, performance, align='center', color=['red', 'green', 'blue', 'orange','magenta','cyan','olive'])\n",
        "    plt.yticks(y_pos, objects)\n",
        "    plt.xlabel('Medals')\n",
        "    plt.ylabel('Countries')\n",
        "    plt.title('Ano \\n' + str(result2.index[iv].strftime('%Y')))\n",
        "    #plt.tight_layout()\n",
        "\n",
        "anim = ani.FuncAnimation(fig, drawframe, interval=500)\n",
        "HTML(anim.to_html5_video())"
      ],
      "execution_count": 452,
      "outputs": [
        {
          "output_type": "execute_result",
          "data": {
            "text/html": [
              "<video width=\"864\" height=\"432\" controls autoplay loop>\n",
              "  <source type=\"video/mp4\" src=\"data:video/mp4;base64,AAAAHGZ0eXBNNFYgAAACAGlzb21pc28yYXZjMQAAAAhmcmVlAADqGG1kYXQAAAKtBgX//6ncRem9\n",
              "5tlIt5Ys2CDZI+7veDI2NCAtIGNvcmUgMTUyIHIyODU0IGU5YTU5MDMgLSBILjI2NC9NUEVHLTQg\n",
              "QVZDIGNvZGVjIC0gQ29weWxlZnQgMjAwMy0yMDE3IC0gaHR0cDovL3d3dy52aWRlb2xhbi5vcmcv\n",
              "eDI2NC5odG1sIC0gb3B0aW9uczogY2FiYWM9MSByZWY9MyBkZWJsb2NrPTE6MDowIGFuYWx5c2U9\n",
              "MHgzOjB4MTEzIG1lPWhleCBzdWJtZT03IHBzeT0xIHBzeV9yZD0xLjAwOjAuMDAgbWl4ZWRfcmVm\n",
              "PTEgbWVfcmFuZ2U9MTYgY2hyb21hX21lPTEgdHJlbGxpcz0xIDh4OGRjdD0xIGNxbT0wIGRlYWR6\n",
              "b25lPTIxLDExIGZhc3RfcHNraXA9MSBjaHJvbWFfcXBfb2Zmc2V0PS0yIHRocmVhZHM9MyBsb29r\n",
              "YWhlYWRfdGhyZWFkcz0xIHNsaWNlZF90aHJlYWRzPTAgbnI9MCBkZWNpbWF0ZT0xIGludGVybGFj\n",
              "ZWQ9MCBibHVyYXlfY29tcGF0PTAgY29uc3RyYWluZWRfaW50cmE9MCBiZnJhbWVzPTMgYl9weXJh\n",
              "bWlkPTIgYl9hZGFwdD0xIGJfYmlhcz0wIGRpcmVjdD0xIHdlaWdodGI9MSBvcGVuX2dvcD0wIHdl\n",
              "aWdodHA9MiBrZXlpbnQ9MjUwIGtleWludF9taW49MiBzY2VuZWN1dD00MCBpbnRyYV9yZWZyZXNo\n",
              "PTAgcmNfbG9va2FoZWFkPTQwIHJjPWNyZiBtYnRyZWU9MSBjcmY9MjMuMCBxY29tcD0wLjYwIHFw\n",
              "bWluPTAgcXBtYXg9NjkgcXBzdGVwPTQgaXBfcmF0aW89MS40MCBhcT0xOjEuMDAAgAAAIwxliIQA\n",
              "Fv/+99M/zLLr9zm146j3op4mX0N1JQGblsTtOoAAAAMAUC/8+9wc3wALyOldOCMUqy0yrZcQszUP\n",
              "Q51pqy6KAud017mMeh/KIBLza6D43K0d7Zg2MMqZW9W4Hit+EZLM4uvLXvkMEG2dfc8L60zYzBva\n",
              "f8MGVMjcAWV6iaNxnwPGw72OTcBUqQp+wLPRnk1CDjlwIVbBS4VPUJRfeqlX83Cgn1eUe7S8W0Rn\n",
              "xYdD49ovHWJDY52JItb0A+oxcGk+U7NyYzBW6CcIsUAAACkEysGl0y4RWEUAC2LnLkfTyxoSbMpy\n",
              "K15HXvEdUux7xTSYKyucGdoXy9X4FJdbJzavLTB6y8Y0sXLnQeuzwwkxq3XCaDBht0zq/EjEieLm\n",
              "5HDkqzFqxcejiWZHJOHeaHNDkedVcwF0teGb1u+/3k/QjU/XoKFhiFgzim4eh+n+I2RQs0BqcPpa\n",
              "ykXrjP1qlFwOkNBiowvuEbJDnfv0OzJxzw6g+SlUtv55EJintXM0mVxSJfDA7xGf+IblLm5FiNPH\n",
              "gOAqolOfeT/ZozB79Lz/Ptvc7xuQfAeM6Pp6Xb6xWlLHL5buqBzf8DiFZ2CJYtG01RHU/3BwX+Zy\n",
              "LK90SXeAAz4ZNHhsHIUzmXNSsvZqwMirLyH/PZi35I//Z25v/RylqeM91HnqLikLPorl6GgX7EzG\n",
              "iH3BIbFblDMijIED1crzF9mNikU6TM74MV73mrkuUqYjwZl7CurU2e6zaqjdaUAGrQOFAwVy2Eu4\n",
              "GxJM/U1KbIEpjgiIwmHTZ6k84V7y1cJKnqrHuUKYpREBVLfDB6kCVakjlSuj4xBUM1f8yGqtqQid\n",
              "CCM/jhWmyvVd7JFW3q0UshmWYQReYIBMoPS7kRJKjFAydQLfl8IgqsIUZ2b5CJBB3NerZDMkULlP\n",
              "Df4hcKF1FEXsZFbnD1FMFJ7xtbqIbUTi9sGISCzELj1Pbl9Zss8LjB9HHDCGlXPRSXMiTiDCIMgk\n",
              "/46KTt4XU4j2sUOlWaoZkoIhd57g4AxaGhN9HkOnbgPj/eGv4Y1wk0OR1O81nXo9AO3yiFBfU+Z6\n",
              "XnrF0KFPM/8KC6HjPvIkTjCuK6Hml7mEqttbuoCsXb29ik4hgZOtQSmEZaxnT34E3zNucwCd79yv\n",
              "LSqAJ7es3PAn1h7mgMlvj9vrmyfd2+/X2Hg6ZVtVUC5OYaXt4ht0xZ37heO98abp0AAKvO44IsQV\n",
              "X3CPxKX6+ObUMpgaYSfNZmx74FwwSsJvb5ukFRmN8lAQ1ZBcJjruzyglLVGhfn4gshs9dmD7i7Oa\n",
              "pcGZUr0L+2gbSoByq8QQttyiPbkP34KT13/XuKEkSbeB1nCMPYjE2eV/q6EV5FPFperlYGvE5sty\n",
              "MYEfZhxSOpFUSCzJLPHZ6h7d6Rv2vvJOMQqFWT4ZflRmraO54oLl5ryt9YM8EuZv3UBXT2LCk+OW\n",
              "AAAGWmRSQTDdWPW66NQfX1AeIce+pg+kxaIXgfmlIYFqAmoyieUiXjYO6R4/kqFvZfJT6i1o9/+n\n",
              "X6fkKMgATlFfS4RS95jrllBaMp7CNmJDh7WION1olJc9XpFrldJeVi6nOrSn2i/P0W9Y4GDHVgvE\n",
              "lVSjCM16XYtyi/LxoFm8MH/p9A+k04VaBZGtlhAKYlsE9qZS6mzeabJ7yiOLDkJE6gfhlyRLcu/E\n",
              "ua2XZxJG1mw03OvUT5PnTYM3kXQrAd7hnnkEdZJ5PZ2DGZa9Fuq/tUArfiZxSnwDfVI8+hXu9uRX\n",
              "aD+BxQL0plVFE8uDTKRVK8kD6AR8mScoXLJt568Xq10iGbRCNg0x56HvZHTvcUjZs6ua9P6WtB/V\n",
              "6hVeiGHQa4Af92EWAvzE8vnVBYXtxkpbF1OZnP6idI6YjjE0nk7qEKU5UafiEvk6sN3s9/TFwRZi\n",
              "5MkoZLi1OxKCyRSGzNoYNMuKtj1DutBMcebX7I88Xo1R6dkm+XU6NBbU++Xfy72BK38xYfrj44E/\n",
              "utckIH/knyl8oJElh4zC384vlYm8YCTqpvLCyADCCnU8Zh7N7oWN1gA8nNsPTdjlAqumPwO1QjmY\n",
              "Kh0LBJOAP4i0OiYhuD6LEBUhjKBnlkARFQdHMfjbEPx9e1fQjrQFptv9e914gAagA5QPWCb9MkTp\n",
              "cq5+vYniS5SXCkiMZbaE0nsnodqDbbJiQg1BpWvWiOeeYcZiGpf4fHrsPUkOSCQo39Tmz6uRGsMs\n",
              "/PStCLT88V8uHTlsLfzkV59ymqGHpLRBGzzkVC70gZ9GXtXNuJ4ClsEnDQH5sO77p08jtaGmPT4A\n",
              "VDw49qS/BUxdKebDEqZlVM9YxU+NtaGfU5KZpM0/y4QgXKl4AOQth8PoF7vZZzg87qWm6R4gsO2u\n",
              "wdA1ZU3ka1HcCWUAQhTfQO2i4oCFK+Rb5iOFyXt+/woNsBxAJ3VxLahifrqABZxq6upyUc6/Wy7o\n",
              "ZMAiDaj0oNn8e3MsaYKAVZJ3D/ylWPCeV7jqrECcdJW/aDkhxHFEm00Q/7Ls8KKIFRlVyaUvzcAn\n",
              "sA9fyYjDqlc2WkFLDIe3VCsKOMzUtF1UhuTN1vp9Wu8bC8yJaxQTB/Aybey4a4iq5w1XjJ4MEQ0t\n",
              "UlYjR6PbzANOGpiiUx3+hKaB/s3gxGfGKfFxe+OfwBsM1+L/OQerFMFQ52NbcfOeTNehKkEstQfy\n",
              "2/7HbDcDPCdpLljqJ1d43J55OiTg0IMnJGL2Uw5D7ZLwBNvVlk2ubLSbqTYyuxdEKTv/rDhEutIg\n",
              "FeOfDFeNuhTMMdrfvvZ+nqN37zo9jmEJWynn+MHUSnvQ6JE9+TfwYaX8YkbdazBFL8f+Pe/JS1vN\n",
              "iAVh0xFJf44tg5LoDbVP57Fl1cyWvxbNDrYrr0RX9vNBZbVzsvV4aoFxevVAtrNUa2RvrKggbXxi\n",
              "vWsf5DlEmI1hrkhLw+yvaSuqkzgMryISs4q/ZX+n1Mb/GZ8iCeXD6bgSk6Z20xwmw+WXvPSwFCgZ\n",
              "52SkKiX1LpE/7OBG7fVn+t8ppBXg+fitma8F0FtR3DBNGMeRggrm71khbg0xZ9v9JNbKcGi+8znJ\n",
              "ZXoI3SPQyq+aZgPaqYAr2bfRmgcbDDaL97bfuZLh8WN65GEb+ZR9mmBxKa1X1v00/UwJ1EC0QGl5\n",
              "NuEKeZu8rgBTf0OnhuIwQ2wUWvdT8xBgsNCLDSzb3rp9bYqfRj3oMNHyujeyGfvsdTD9wNL7aPvw\n",
              "l4APqgV/6ToxGsVH1d92zOr0FbQCf3cZIde92rU1tMr9PaFTS19RswXqXHuxf1kQDamMxvkzBJ2P\n",
              "CpWJ7zKq9IgqfEzYnrGXvscXAq0CtZI9AJa5Big9gDl89K4/deoOvw14tNOsdW7vQ1FC1Cb5WRcY\n",
              "LfI7fJzjnBpAKlPiBLKFqlQL6JlMyZomvnZncsGeblZNKbSOThX7sQmmZ6+ZjdqUMbklWSBYkgPQ\n",
              "23soKuKWYg4ZTuKw2UGjOvljJqck3R8A4+QBi+zW11liaqdoFRV5YtXSt0e1pbgZ+3f9KWZGYRtp\n",
              "0epOUfUUvVhqlkwMF+KI/xXku1reqZqBBIF15bDp10j53h3p8KGeowUSTdn83uq/tsCnzmsFnhX+\n",
              "KmmJ15lmzQMIawY1WL7GCh66HYOVSf2Z7OrgGbBE3uMHfyaQtEqIinAdQvWERlkXgy6BNmyiPg7z\n",
              "tcLx7BKdBAt6fSI2T4iWWxGIBa5hyYvYMcQ0hozGxUAxjK/j9c0htSkIR1t7q3z0R46VwW6K0gZE\n",
              "5A29XFGNdWw/0U+os7JJIWk4kheZSnKN+23r1Ko61//BpTg3z+odx5EF65HumjxV4x+GOK2xcJXL\n",
              "rf1h7GINOwKj+AAhXLRni5bpg8k2R7ed/G/4cILuD367iYHUrQn10bvjtAnbsW+NsMvqKJB/161F\n",
              "+Ti7MR6ZnaLwtqcBDdOLtfpL1n28VWzxOSnAacQmG3HYeImQWG3agzdk3/DAgiEPyjOvqklmLApU\n",
              "V3CL1YAEHduONTRQQO17MCMAj9FegmE6hKg/qDdRFtH5zk3Tthtfh260KHf1fxu0J+f15hlW3WTv\n",
              "0yHECZ+LQZ+2KUc793VXP7HyQCFiD42/3o22PUEqD0429N65M0+BIybApxy6ggYEkPlnSyeOZYIT\n",
              "50SCumNF3x9LotLKe9DJQ3nbL3aO3HKqK9JOW7PwkkO1G2hRkqneiW4TNeQsSO+P//+Bg/iRU5f1\n",
              "5Wr/iyGf7iZSoiguw28dNeDWcHHaE4Otp68URn4OKAkGB8szjeplRYqRc2QCuIi/x3sZW5tl3MB0\n",
              "7D+HIwu/ufcpvrOE2S2v99Jp5BQBwmB3Mz35JmhCUMfwXdcoFTAAZuJXLsh0SUf4+EH3PnWb1AD4\n",
              "M645ofZHj1L+oC3ZGy+jc+VvKxRX0cUV0zorit3QqRGhQ3fgt0R12l5Lq/dg/lOWCvQQh9YyUseC\n",
              "qskB5byfsd2Fmcqg7pFEv/1XCnrBBi9IKl+tg0e95HeDyaMxnWTSsprzMr+V/z7Pp39nh5qbtPOl\n",
              "+TswpHPkO1o0AFCdTlGoP2azNdMPyPhVuP9j3b08N5nycAcvy/fzQRWQ7yZaLUNzcCIEo4Ui1Qrq\n",
              "yYRUNjcZ7sNtaF1+/0RhhVdloXaIPQrTgVXSsCBCjzWawjAROGXoc0MeY9rvxIAo9n+aTBiw8POM\n",
              "AZ1LNlEHSTNjMBVVEPV8uSPiO5trEQ4p3tR0/2cbWwIPy1mtsQ2kQICoYzHQNuGkTTGh2+B2CgL2\n",
              "p7Uw995Jb1/d5r/41tiJ7p2g+Yjfq864t+YRs4j9Jp71aOY2HlAYRt1G6JU3UZAKGkafqB0R/AYR\n",
              "uSbg3kGhrsVyCXCLQr7Cmx7m19b9RLpoXzWHuYDczaPHIAENYWD/0MGMMCx/msR5iEeMy2ntZUhB\n",
              "d41fhMsmmBi7VfFRJcmxmuvF1/zXnL2lQ7QWsuEzjkrEQoXztA9ImbfhXkR6CqVFqH6Qe//4AK2o\n",
              "Kgal43GSvIjiAzTlh2gOi2UDop1MiT6XEYOvCzldFqO7WLZMkcVHPAOVnSPW98F2A74PSlYfvJyA\n",
              "pQzXzYxTzCTIP43Phg3ndXZPqjyhRcHlAE821qd6kRpwxUNv6OTtWhq6829wrwp12z1sERhaRQ/z\n",
              "dYDSPYHYaeedDA8Fwb/VGPqT9zJoLUQktxqangi6nXZpnNCUm/+5mlmTF0YdTKSIMHHsePrH6mcn\n",
              "SHGMtqpWknvhs8L9dtgBCLJAIza/8jR3uU6zab4N3x/lLJKrL5thPlbRAy4Sxst76+3u894N2X3H\n",
              "z3OsGV/YanGsWFUeB+adc+gkABPV1pyFvf2D0cDt+21GuToHuFyPGS9OaF2TcG7D2z7WnNzJ/qf+\n",
              "8chmJ+VbgRsr3KfrB+drWHB00XKzjNmoOa8Kqshyb0Vre0WY8wzRraJfl+7KaQOEIBTsAZtIMTI5\n",
              "Ft0w3oVZ9Xw1ZY3ypJZSq/ILnk/h6VNTdnppqkhQiWFrRo7N3IN21GRlaMFuM9ZgwpNNbigxtg8S\n",
              "J8vsjjQ9J9rRoLxf+5f8F2duCZ4WiNKZvo7sHgAg1HUujn34j+2B3/wEH5a0mwWk0x5v4GGWNozL\n",
              "O2Yvb7g9uGTNxdiAAa6QQGqAqHc6XotXDqlJKd9v1A7ERjZPB6TVnGjfvWx9SI1B8T4Au6wX0WyM\n",
              "U2lOM64zZBNK3G0LmDXPQIVrQ2GZ4FoEp02wfAe/lrpFp+3vsvu5zftWMaKFMSiRFGur0uqOCGJq\n",
              "UHu5uarmDrj+6t0kAodzCiC4gAkOuulVJQiPEesOpVul8Ed5b8329BzMBpGk3lmZJeHD5gFs8HIA\n",
              "armKeqbgoOsH4J6BKcrpGPI6JGYcJsdJDsHtSKK5Rtk63Jc9uEFPp6672/7WbQfXAPYG/uFAPhCX\n",
              "fEWvMAH+R/Zu9G7w5cX8QsZ0mU4uWQAJcHGF8vX7GZ7EZs/WMHraPMT+mzbNQIXgBaDN9YeR6vuC\n",
              "7oRdNaTUeOUAzMOGFLePphxfm2F2H2bcQqfkVYIH3lw/syozqpzxzhKGNNBpDfDkTL5vrpgFeOSQ\n",
              "o4rA7gS0Thf2VLWgNp9x4qnBHmghvaIH3ruX4twJ1EW6DowMuzAnjZ1eJVBT9+rdgKqBKialZkG2\n",
              "P3L5kJjnN/gEP/5q102F6Wa160Jlfo+UxdDPNzMhMqq3W8JM4kZiosDbMiFLYV/Kkz5zPHykNqua\n",
              "zOnYOzMfzjaIo6J5iWTCOaK85pLF6RobvfL5xS0zVkG73M5JjfLCuXJpdEvo1xpzr8bnLVc5kKWO\n",
              "T5GC2h9iMyzYB8Y9j1WxrHx7/8uHwbMACRbQgNUkQ+MRsc19meAALwDjtS0A2QN6S2+3I4wGa92m\n",
              "hkkKglCFQNxtONOfFBT6J58Godv+6SU/NmAlJKIOAsL/tr6tRCZRBFu/YUklJhnP7MegPLMb46bp\n",
              "wIQtz0tqdVGUrWRVPtyj2qGml3689OiCXD7Ox+IZ70Kit9ht2w5VzCGmksDAYUMt5f9e+bnTYe8N\n",
              "8heDwrKo0zJmXVSs43EJByGmi8xws/Y8VEmPbYNd5gvb6IVKoFIxhfmRCwGGWsaBv6E7JcUnt7Lw\n",
              "wnjUwkh4ed5QCXtMsd7Pax3bfXCCJmVoMj8edGiCNnN5UsAzxwdry22RMIl98WL+3kmF64xCXVZQ\n",
              "Gi1ZxmIlWmM/j3USsj4djeij08nQTO3D6+86gjuwnVFPPx2SbUOHtizW1Z6IgHlbz0vdZA2s/TSo\n",
              "PpUmARg1ozDDXavHwAF6HMtK+0cuFzR3Dt07Ivwkp0lw48SOYsGvFUFiiQYs8lo/nWDSsaMH2wQW\n",
              "lljT1AfjN7Ub6DbtVQAatCGFEoU3JtN1hgol6JSWxpJkRbFYaiCxn467raA4s1OztiNL/2J6kjge\n",
              "Tz55pv4uUwApeQR8Rm6mZBgkbkURI04b7gTz+pcoc9LzxEidJhuYduXhtOoxqoDBwoljdeQ1mdH2\n",
              "jkAurvUMRUX+LbJOlTNSReGxD15rm411nAAGZO7Eo8bvR4cbJ1RBfaEeAiXv8fDC55JDRx25Z9UI\n",
              "AOYwns55u/9Berdq21VZIAAAy6AVzMvMP5P008lCu7FYJeF2pUGp0dkCAtzkYjJZ2903I60geEnA\n",
              "Ee7E//u2cKV2YfPNy+yjTPOCBwZWkf4lSLQ67OnBmLK+UcSLF2mvdqieRx85Kh34VPtPpnwEuVF+\n",
              "WxnypSo4mSGIexNER2qrmUIVYS5U4pQhKVY1cAGN/qaekCHfQGTl9Vcl/y6jzC5AJEwjYsI2Q7+K\n",
              "neUpsUhfppMQGBMRg35zJmn45Q8NcegbJSbjri2xcv/10Dz9dciUDhVbjV2eE0A+4FpsxX3XFZhV\n",
              "TsMMEYNLZqYJnoJlFj57bLqioEyPT9dRlV4Xir4+GHXCcn4V8xPDECAmgf/sMzD5EU9v29VbwEse\n",
              "0xy40vYPQr3uFnoIzLtYwdOp5sXcD9jw4LGr7b7IrOq5Ne8Er5VB4KY7T4Pi36iMhKxVjnJ3KUhd\n",
              "h75coPU/62v0H9oefu1jmwHwSd3+lgt4bxdBWuw5DPEcYoGXAnXu5d7kPpSBhaCt2QK6UOtJTMpS\n",
              "T6pgDj3jGgORC2QGCD5AwJ5FzClr/aRuC3h8+Mn6na8YfDuvX4cJtSBaWbaHbLPX0n4grm3FvFZ3\n",
              "SggR+1X9c3U0xHteHtGyKc2ri9hkBTtYzdzE451s3TrgTlbnd5OQwPUkCAsJeTVhEHMPGf6/VZaa\n",
              "izVAq04KoQ8RiD4HTdlJRsOsPl8xaVmvGoLFCkA8sGjqlVSwRe6t8shnukaKCjow4QvXlmKdfOAD\n",
              "n8TZaTkgmwtFXvTbiyd6J22PMSzD6Gp31QdP857Aqak4yO7/UiaXihRdzDLj3UZzmw/MYm7j1Kts\n",
              "2TTzXNWjnMejspWCs20vQUpVAYi/qE5R1b5Bz9JdNKAwmFDEl0JJIsRDXXwVSxh9aKJ7ZWmffbUy\n",
              "BoDiM8QvZ+lTDENZmEAAAAMBsbqprjtYA5JcVH5ZwaOzO2/xUx8IQStlM1cj95mC7SRYCXe2w1VG\n",
              "UCHS7XQC6amX31zJetq+AmebVsEAATKYFezc2rJzWzia1kqrV84UXQFAZ3GcbEBTk+nAWhCoAjnZ\n",
              "57rh0S1GEIrehCnY6RlxWhjG6pm7xiLzrFLzUU6KVhOJWWmQC3dvANrzIbkCBbvLkAl0g5HcCzfv\n",
              "67gF85HUkcC9+5KINjrIgJiL9cQxzT+Xv7UFy2EzL31hCwsMGdfZ+0XwY///AP3aaNyMkPrNJFRb\n",
              "md/lVIAF1//7dB+xnrFgImF83ixlVZJYnbv3/9rHYOLK17/exNn7TLJy/mS4X/2wCaP8EXj7MTN4\n",
              "sZVQaV2VtbfqFv5h5eFH23QWKrQpS8ggjozz9gjAcv7dZQzPEfrprj9zr0OPFIGJcL7DQn0pn/36\n",
              "YSfOmkykYK+xBrgEgDIMtVPA6xJPqv8S/gR7t+3jB684M6acZoqnCtErA+1fdpNI211XrkN9i1LI\n",
              "5QmDQ5y7djQHF+YacPJCluoeUwZKIpZEA6XFLbwbLOOQD++ug5SqF+bs5EfSZsZCs7uv7Z9XPi8u\n",
              "Q3SxrcRSnApHUB4I07n6472L4ZBeXTRCX2xLkaEa5ksLNqpRELHbGW8Z0HaN8QtJ2JJso8ehiZMT\n",
              "v6DmExqcdbJbtfDLbDt2RDp4W+H8dsKS7LJGgdVe48tNEEZ+v2Q7ZxwEaBrctm9Y1GpPyPmttIkR\n",
              "+cHN58vvWybwKHICg1wFwUoAzzDn2i5z0BGSdjI+m5P0EG7T2a2CJAJOWA8u09ZpFO+H/T2SYdI3\n",
              "TGp5hQRkWlwThPj3dXW4PwH1q2QrISyQx4uNT7uWQTASybMXp6AHXmvAvOBobUMo4KFS2TsN95+m\n",
              "lXwridRlb5nTYCplVj8hY/Nv4E6Zytt4p3ZDpAUIm6AMGlcGENXbg2Noi3uNLXRp1/nyI1oLPixI\n",
              "BEQFOLvvwj7T5yUooShhUL8hp89c98PNW1SwTtv+yCEpWCIcw/kLXgvqNEPMwtgFTNsj3NbZkxUA\n",
              "Lxjg+knD63OFv+qvIcRWFpWI2sggTYA5Rua+jdOZLpY/OwccJMwLOeoWcJyFLVUlJwGvjdVf5Ncj\n",
              "rXrk0t286v5wid3Ae4Is+195jZdvP2tei/pJ3VPEPZJwHgOz9Y7dQ9NxSwlWm1kg3KNJ25Yae0TR\n",
              "A4TkyhFdbpUGNpjfrZ3ZyHvhjX+tsk571Ciam6uTm6tTl4ayz6JbGWJmL0woEXVChMGDJLnyApGv\n",
              "9e7sTRg1XXoEVDTfP0YwU4hkgorzn2LuIvvnswsQMbQ+amU2VUKzFXPMCIuQYo4f1KnPU8zOWbig\n",
              "nYD2pTrxDehzRT4TUb8dgW640R9/V8ASee+UZ3ThvNwSj5KlONLXwb4tItG1YZyFxaBuGVW3EoqZ\n",
              "KcIoUcbKotBpYSRTxgMLQtuUBVE5xprMdoDZyxy1/B62cLX4O+RxIYKpWda9gNDfNNqQers1haa2\n",
              "B/9xzvC4YY1ia2MzEu6rTbmYQeh/6JbmMFRxTOuVUYUJ0eo/5sT0ntJbDj/nYC6+nx13axOSZjBZ\n",
              "JXjQNflfsSvNa+ukoZWD3vg8SutAcDXRL0OUrY3zyeA8aniRwtUAB6FTQ5kpEkIPk9L0QbRvYJym\n",
              "aM+ocPAO53mO3I3RgWyPH/58DRUYlQvw9/sDyPAtQzmTcog9ORg6vIHW83GTMTh0PZC7LesrfD+h\n",
              "WVGweJQXNK4wVns36WhGt54K1xd33GOBeTYYadbAy30hguCC8Q1tpsl3DSp2LpFCtS+LZ524COqv\n",
              "oXR2xuOwuUgI8Sb39SClVeDR1n+B9jQyq8pcGO/pKZf/dvhbgAPp+w5fnjCfrRDkX9++PEFtAMfT\n",
              "H7tn28BghNoHhT4/RY8cNVK9WpxDnuStlMze2z4Cs2LW9lnw1IGErVgwv5BKufIe0UFj9vUDgQy+\n",
              "61Vi6CLxYdi9gu56Ha9vtztOn/S9gb4meprFFyh0Ycyxw6UzhSc00gJ1E3zzSXSJP/yv4aA8RI5y\n",
              "GnuKwjzluOR6bdW5ruk8RSkuO20gGGQkApqdGv4llpzpmIeINaaUbBXo3kHLwgsVCkuDZBMLVITn\n",
              "LzJ9D5fetNMQgTVFBVfa9wj7tXfIkD1FT0LDDIETLDbRmwGrxjzG4bGOZU0XsZTldXzIABwfWzzk\n",
              "guiGKdVCy9jl3iYAaAN0uvpljK/GbRrXWkrXrZv/ad2hRzAS1GLTEOLV5ZVQsM3YsKgme0t3hx5l\n",
              "a/PH49JxtcroDZXwZMxG4Gzh+gWnh7QN2/EJKVQHuTL6Sys1gRqEKce6Nsw1mC9+EfFKkdvKnY54\n",
              "ZPK2APZPpFP0pGCtDJTCyFhRg4rbPdH7AxLiq6Bd6hmO/BRo4dL8sNUSFtww7m+5vlJc8fjhBCzy\n",
              "8C5rIAtkvG4kXRlEy2X79VEZaZ+ZCFFAWokcJoc1LbSiVU7CKQ+W2vdZtVzMYWIndj8CTf7chAob\n",
              "xmVr5LkcNG/Pbua0MR2Z5hoRNvNMLGnMuyN1tAYVk/0O/YFTXLGDlcCDG6sT74E53UKP2e14cQ51\n",
              "tO+K/s2huQLuguWkklUAyYTY33sbJTUHAlnqwLjzWEIpfrtOfW1HP8hh7g+E22GJ/+/8RRRBjOmg\n",
              "euQjQGuwCg55Ss181wHNAMQEfXb6CMf58QTGtmBCIjHUwcCev9BwK/UvTiVJoPml2ANpdplt/SM/\n",
              "Ov/QqUJFumfml3rUDkgzDeMc12cECOJrLMt906YkXVgMhAU2iWynU4kzijraDnEQhKJCwBNfSSX0\n",
              "cjHxZ9oN3tU3qsawDFJ4vaMYQUV6usdKukl7bnN8iP8jwHH0akA39iuXBDGsOddybViTDw71rv03\n",
              "4qJ1xnd9ounlqW+4aR2pr96EJ+WF+AYYA5IOgQCw1QDy/cvVeqYyyu6RDlo0L+Jwh2NKmLtf+of8\n",
              "6Aek3goPkULp+8/cGivApXgsRoFXPwPrEvWG0HRm4D+cLe+23Av251VrfvfjcJGZmMcY7RHXQLxS\n",
              "3o5msrisR7k1VJhTU27XbfUIve3+dqPDOXYTjIqsQkbhjrKviSBaFCsZeOimUdpmf6bv7ijXfg49\n",
              "yVemLFRn4zrQaKgryqOvBMWX2veHMfb63N4ig4iXlcDDG4c1RZwKZ0F4YYSxigUWlIDcLf7L4YFO\n",
              "OFF67bRoxeAYHgxYTlVGT0F5fDSe1pCceHIMXLMO4O1vNAUdzg9thywTG6E2Ai0JOwxwpYZ/iBlY\n",
              "lgCAPMf1y5XQPtv6uds9sML0sV5gwUoCAOzfkHYLMbmVLIjoEdocpz0BadH577r0mP1oRVd73q3v\n",
              "1B0rE36MzF7lwXoarXZwgKMow1gpFlnWweWlhLDJu3Q2tGUuP3aR2qL1TQm6tx2CtepssfM1xnx+\n",
              "HgxzxlqhWgkHfZ3VnKna2tZbEYyKZS2lu9UKQrhMX+thQzpGzg5bHtpy3+L4QcwU31DqMl3+Dt3V\n",
              "jdZNErHNUH3LMAKyMEvJg9bX5NBYf2Wr6CDzuzNYAiwH/1ynBH3nLGOpBQGL2Sjp2p1k054p/E7j\n",
              "NkIH+vJcObdn+iOKhXBlAMc4kp8vU0c3WeZ82SIfXzFkgR30EdorLYmMRahBl4xbsZc/wRHGQcsk\n",
              "NaEZSK2hYja/NzQOJtDxHMjyMBemgWtGl3AS7ojlbUxbHRchDGuv4JMZqj/TWA522hguRwfGsxNj\n",
              "7jj/X0szia7okRUw/wbCxhbeVQxFLA/Aj7fatljmKQa1Q0OtIQGhHy6myB2A0oN5+6WwHCI4eU07\n",
              "YkUpy80p5DG0+3SnypUNqBruA6l3aD30V944GsOC3iiHgg2tqQ7aCgwZyo34tErU1WTlb7okf28i\n",
              "R9fTicxeGRZ2AGV7TCB0WcG5tuIz0AS4O6+D0GZSShrvUNmqgdn58aMa0xjF9y1fslAFzc1GplTR\n",
              "al+IBStOEh5ti5L/CR8MLXvOLZYu4dQ6QWF8RP6U3yPAWhHVZi+ycOgPLg0PlX9s+oFEcCdzzIwd\n",
              "y+sRkRE3O8atWcnxLAABbCTCcwAAB99BmiFsQX/+2qZYAIA6mYAEQ+VA5dcVjyc/6fRwjMOtjkCf\n",
              "IUFCJwG24mtm+TYpEWK/59t0NM4t3mf3cW9Y8ii9Vvj1+2BkTje3dfOXOK/fypUHebIHoC0lcsGn\n",
              "GseMQUd0tkHCm+8Xxm1UZhqJEDq1yIul/37AG4YMv6TkZzGB6zfjKtxaZpbQedx8IJ/0zC93D8TL\n",
              "C9rU2MQlMZpNtYkXz43/M0BdKkOBgsUX7CbEtTDxgANrFJBqe7zYT63zg+Cq6Xsxo+iWt/OuvudL\n",
              "McB2JBQUApOxPTi0uAY92/3cqY7GF0zZvV8Ov1lkh8GwBI3UHI2snO6B83UNnudR8CKCbCphOsLb\n",
              "V1tjlaMMRWkwP0L4Fmjt0Pp6pTadwSWtrFrVU93D57T4p2r09imU4mPbAH3HFeQS6u9DoDz+FnC+\n",
              "8Dph10H7QF+ABm5f64Ac6BCCQ4J0B2eIJvjH69/xrCP/FR/0c1f9X/DjC+TnR8Oy8/81z+U1vX77\n",
              "e+K94GqS1dM6PKcPnJHaXCvEJLOJ/x5l9pXPbONSiFjS8+hj4XxITYt/vc1G02hvdFNLDLSLOi/i\n",
              "odbFAoDkQPoPtRUpjzEqrmFGRFCwzjjZX7YmK+5AtWOdLAQbqqopTu0iTHdbDtL6ck+Nqc6XQyEN\n",
              "GeNaLA8Yz4mqZwvoxkfE6KlnqZxN8f/5qyqYbu/7lSix9X47vn0Y22v6y24nVpL5A2eqrbHciMFK\n",
              "jLIa5Fffwc28txD6f56c45CUadVAl/G3d1JxDlx4SqAVDPaPnlz3EBTuHNKJLX3VW5DF1NzrDuPF\n",
              "IgCtN0lqxsf7mK2fzurL5HoJaYFXrmcT2LXI1JHcJyMzgfOoMsZP6f6MtkfehjCgtFqp56skD4n8\n",
              "iXV0WdQ4D0/O4xyWDE+JtS8lHAlMgSZASnTH8fYpYTWc2PqGvt6slgj+2CP5EpaxEpY9BM1vvxQ+\n",
              "CF3AGSnWoMbYK4dcDWBM4eGaVjk/mpxGHY7U/lAwUKXxcU9uW+1u94mop2Xfrn/NB59UeEEoxtil\n",
              "WfIkXI/85/9JXeAcScZW4fcBDTXvrdxvUY5mIhov5MLVL0+KWo/c5mpfnZC4gJcTDFSSDJv9dyTt\n",
              "t+SK3OYcl3DSHxnkaEXw+sx0cAG67rWTPOcPlvXpsJ3QcckPNmRI31LLebWmXAYOhcoTTPLU37ZE\n",
              "Ilp8kzoR0D3Hnqi2bIHeeinccMKmLCl3E39cEg6OBKDiepJwxuq/ghmQR1/WmTazmy2073vqZsSk\n",
              "XL4QkcQALSpuRMSnNN05iMbDIu+nsjbmhHDZ5EN7y9GuTXNnLFkHeDAyxDYYW7eO8eu1rWxx9qTQ\n",
              "q22YsRKYrpJHTT3j2isq0LVRJKNWfBB5UOiGPDRFYZrCh3Tl/wW0oJ8jLe3ZGrY8Cr/r0LNXnUvS\n",
              "DKCkSC4gNpedXEh/9rNKpIaeRhhnts1EohP6ABVjBv1sI4yVWgkpc3HuGLUf66/ONQeQEL/OVxCu\n",
              "LC0mSKf78+kX2HKN8LQ+uuqgjbJddUX7lJhFC6O9TRnptKoMoy8kENw+8bMWwuf+5zV9BMNz68LH\n",
              "7Q6KurkU450MyE2/Pq0MlKsymj8HU7CTB1UW5duF7Rv53IVIxx65s035YyX81Q/pIH42wjtuKAg4\n",
              "B2VTMWrRF8A7TXPvh+3+nVFk+/dcvQqZMJ2PBD9VuHuuXctf+DZkNzyP461GlONa6b3TAzPLeu+z\n",
              "UqUDNRC/QYROtYYqsI64ciYkfCa+hXu2XpctgFI+RX7VBLMo4uIfei/P7bZRsErk6MHOK7GM1xGo\n",
              "+Cp2IpjrbzSUl9zVzM2HVYWuh0Dwo3K02ISJgyfUoo2FaD2i4pkZko0JZLNjylaRdi56YjlTvZJM\n",
              "jyVoS4pkz0rSr2cQKRiglcmirLHUA+BWbXRwuK15d8t9+UXaoXtDE9YZrR+aVqg+atQ29XNP3dtM\n",
              "KU8tGzinimhfiDZS7q3/LFDwEiTRnWxK7Gwl8zEW1FWG/0c0jb5hFURwMBcCzYTQTUQekh/RkQsR\n",
              "u9bWmu/EjsvwsIIn+fgzcN/zkpiAX3V6EOh85GAUOjjkHWqIbacEztkZYKItujElhko9yKwI1SsB\n",
              "Bs/cGGf52E6+1/mOvrispXkSTSl5gGXpVOGnCH+2zhQtPcs3yV94kUWjKvfrvhCs2lm/Z8r3N+g3\n",
              "KJFzSH8Yy/YWxkk5MEbb0bi17sauIIEHk61XDEnaeAAKrV56z9yKJkmimRiyoD+MBypWUUD+PcN1\n",
              "ScPrF2pxs5K9kqQr6mGRAJ7zyJ/XlizlRyLaIT1dtYq9FMsErFgsUfL6QPe9nqy2cfyOlJQWG6mL\n",
              "S5zI71lXcSrjDLL4IIFZAlcV5qtUQYGfzhilFK3Qrc+1TE+XVet+9ZAI2D412oYav5OBwnh2hCyp\n",
              "V+bNdWD4MEesqm1dF9NEhcdpMdsR/95W/x1TylYfr3ZCf7EvScznSWdp2FEsuyQ+mJrjn9yyda9o\n",
              "zf93pPnGDl/kyi5ga0F7en6BklHW3Mqd/tlg5aUKWk+ppSFjTfncj/EF6GleK/m/B0c9WSvxLltv\n",
              "Mw4qcQNEhX299EiCqrJT0fmddhLf0BuulJWlFwXcR5zBVyj13saQpdbFRvmAnFsdeDGk8Mdmy/rq\n",
              "njCJI5xYCekawkesyVCbrIV2hKVaCj81ujz46NNBHtRFU6eO/pObYL2twAAABrNBmkU8IZMphBb/\n",
              "/talUAB9M8CoAAgxin4fCvVJO5L43ClesOmDItPoo9N6mGoSJK8X+4RnegcZK5VB80nz8S/EEKIm\n",
              "KQi/eqsTm/vqjqpnZZgr41GakQERADWUGIdWjO7LcszFUk00g0Sz6xM4VX3qvKdyxSMRRy1m311V\n",
              "r/ijmqZcOMgCgA3k6v18t7XyxSk5SE/Trx0vHQ3oc2RYgamK/orZWSfsCtzjqb25UGf8NwcEzPbk\n",
              "Mz7XGodqS9LIj3QzM1Rv8uw9DoGvMGUBK8RH7HNbMiJN0kFn+hfGAHSk7OzYARavon1Yh/7MwnV6\n",
              "OPNS2jquBIg26Jasql05PGWCJLp69SYwtT22Bxqblf5+uVlT7bTe93S3rtTc12YUJ9/4FoATxAbJ\n",
              "nlilr2Ll9rDuEpxocDWH94XkUfGidvY6U7fUEeojDete3W0WBTiERPZGkZuKEtPbOO628ws4TodH\n",
              "0ybWjC3JPAxCYdn4YYSMphShhhl2QgwOPyBWEAAkyWVESb7xk+HzxEPPkxZzId2zzQFH5fPb5A/O\n",
              "Pa5u0xnJxrx0N/Pn3waD83YHIBn8RdIUOJSFjxHKT9wjSB665Gd1Z7vqR8ifLXEXRCtYkGPOUisr\n",
              "WD6+y88DKDlAs/zLud6cSzbIMs3YnHTwEnMoISOly35Q23i+j1cyxHYKArlAAlERANpmBQ5n1cRD\n",
              "A/8Ux72Uz4effAitQG76ZhUVqS2zb1mZDT0qmswU73Rorch+edsS1ymX38Yy7h//fl8APowah1R0\n",
              "i8wgsGj93KUhSNxwC14yw2lCeejqmNoQ3YRdcLqm2ROb4r+NI7cCiPvvtAT4a8JF6NmKjiuSvFtr\n",
              "qyymv/dIhTDZPnAba3FRdYNwtgnAJ15RqT4tZbvQOqdI5siD94yEdfIVney3nyOU7vOBWLydDXY8\n",
              "VZoU4kkvpkzxq3ZerWNDjH0307lWdNdhvlIzAmMcXXyuoJxmO2kcWdkNVxI+ybntko86D6+y9Znt\n",
              "H76F2VPbymz+uOWPNHZIbUYE4EmtXERLC4w4S8v3yq+pYyh7D340RTKoYKI05FKpLqHsMSZDDzvT\n",
              "JZndmS6myXMI4h5byNRWyMHWMh+3dzDrcfX3+xe8s/E1zZiLrj+0cieX5S2RbLnBZ5nnCYHx3VHA\n",
              "SrNcIzPs8DaQT1GpyPsq9/340HJSSZYyWS/QXsMMdzNBgWcBguGK+FBbU7mko/dYboNUg0LQsv4U\n",
              "luXwhzcShWslOnbObxzjQChudpyuSp9uB5FOt+oNU7C2X+zq5kfFU/Dhv+szqyuNhxldqLL3zZuw\n",
              "sRG2D7jo7VEdUtBgj4jWhBFmZ8ebojR8hE/XqAiTH9oxv+hutmwL+T2bpKUwNI/TwzJgdF15BU6p\n",
              "gGpRsSEnGCHBfu2QlCOjBG/pvjNe46i/6zZ+ZR0G64g2CTYw5cbPzQjLhbIqryUxVUF8QzPuYKh+\n",
              "SOe8ztwcU3iJ7perqQfsA+dCive0n+/hJOB7OS3/fVXHHgaOzIv+om0lbvep+gqSMn/1rnaJA7zB\n",
              "NuNhym6roShny7548384DY/enJfbnqWFgfuT3awRH2lJx18yn9C8/4YJSL/1ryvh9TMJzcQ8B8+M\n",
              "cFDEOoVgnbLW4zrOPg7wm8lF73CDdi8zpVwBpROv/mHrKRZYRVtrGmI22bg0yLRTNwH8XlMmTAcX\n",
              "1rrZAF/UHeWLpPb1mPQ03X/sHmw68VZY/dqhHscBb8AtNSv/mlJ7SdQMkY2bLhfL45Hwp4Ec9ZZU\n",
              "Sy9L0It8qA3dfwLCYcnInRGtLWz0cRFRI+L9ZM8YPm2lCDnPdAt4sVK9usy4I0rNYadhhKW16/PR\n",
              "P+vAlhJt7+AZS9DuspiA8Nc2EtEXjiqZCwDwaYr2RQl/jUfSeGfQZTQvCCiUN10hYyhQp/Q0ue2K\n",
              "7lJ+4U7oiOZpxWLNCseFWSG5pOjoLcBBG3UzOXRilaslTprT1Y4pwOlcLCeY/AL52zchuj1yZHc9\n",
              "htfm//w5tMhAEEVHiMERHk1bpAxYTSchzZ4xMNgs2ZA+BHCgspEMtJiBchHKOJXb4x/wg7/9m6a9\n",
              "j3rdRCM1jYfs628KAulKjJ+nScG15DCCtqegafMAuw9X1U0tc/vh7cnpxyzWRFo7bsmQb5VNg4ZS\n",
              "JNqFzhIia6hB6cmA6LUW2ojRFwg1SUiAXQC6lCPA4yd6nTm85Edp5JtREuyyA2P79mfEcxCqUW5D\n",
              "DKNgAhwrAAMYJ6fmidHB2BDuBA81QR0x5Tqrv2779njQRoh5Teu0WSPcDe/QlqAAXUmrYwAABpFB\n",
              "nmNqU8FPAACwso5nsqMAB18bbVwMPDf/oUtDXordgXozeqRTFrs5s0mNqbclg+s2yycXIKTOSQ3a\n",
              "IH1Z72oFZqSb6Dot2Z6gPiHUAZE+vwhxkaCLJfenpmxLhzmH581vMUwiKUKPkH66wfjm/JhHd7+x\n",
              "GKitj9Bj43jkGq1ln4GWi91eQOAxt/+FoPp1NyFtoISfcQODIRGcqFpJ+j6vN35iSkDdfLxilEAF\n",
              "CC/+qRJ8g4/p/lNv3mqbGlVupKsUPA5gn6pUuN3l6UloMXkZPknKH6hvCGtpcwLVD+LgxsVPgf1f\n",
              "52ljz1f8JO9jOH+MXTQ2+wLgTRY1X5/oSffSJIeMt/Ojcd7F4D/iPwXtItfoXA2U/j5E02Y1moSj\n",
              "t3gnaDE0xfMckAIZi9MpG+NC0r6TU4o1u1pyRGf+9J3Cp3Emkjjz1DCH5/VBl5iXPeLICfzOa2Nc\n",
              "P3kBtVPJBpH/kk4MsJ1i2YEI2hxnB80dAlcvHXj8vnwu4E/rM/2NSjpNlQ2XVyvUdG6TW6I2gCeh\n",
              "8gD6ciwOrQljrbp8Ey4yYD9E6p92U87BPgpGZbWQrnYWvmQLqg2tiyOzLgHSu+JJyC3FDUyOFqHC\n",
              "JxkuCo7e+UusPcWmBMIl7jZDZC4zFL2oA+qCHdW4TcOh4TlQ6DIaom/fV3omJUpBUGppyGbQASrc\n",
              "rig8Bk8sNHBQlgadz5PIeq90Ij0aLq6uigRxCsYrumuRl++LBUOZB2tZCSktRO2e8Bt01Zc8HXEO\n",
              "aQ9jYG7Zi+lhTYVw4W1nYOIrsgEnFVUkKCRI45ej4k4battKcsSu0BzzhspQe5NdEOJl16gbaVs+\n",
              "oUByS/QiYfU2JbP2WP0GbXx6bOXCizRvQGKHIXDZYrwaU9LW3stUo0sxLTscuEmkPZHa0146g4Py\n",
              "fPOKBFkiftFJnm2Vbg5Vb76xbe80q6lWXSLk5QUzIJJTyFkf9Ob+PMGWAx8zgf5R7F85PfrKkRJx\n",
              "JKwD7O34w5e2RxWCjthzvVbvI8vyfKrXsAR21eQKQ/dC8/9RwDlZL5CqUC/gJ7+tG31evGK4uTPI\n",
              "3cMzwA+Bo323kmS0Ik9NS4D9M40HfUsIguhgqWd7zoxDTxLKRLtsMa2DIqA0cSjvdMQGz2aSpr6r\n",
              "FAcuojO15JpweP5JTwY0Nm902WCtCMN32LyBaci/f6YFeMLy307x8bAIOZZMv5FmEGzIQ6x8T50c\n",
              "OXo3e6twJh/1JykQOOHUYygpYb+5UPrmMuHrSCSOmltATj3zl80f2rJo5vId/TOuQkgEo9774haP\n",
              "d34m9Tgd7DIqP+zNJydYCuH7DS1ylimk3QLsNqTgVeyvuE3W8pKmmmRyHMhY482IBX7I1OVm6np/\n",
              "GQuGcTASTbITM0zVnAi0en7Ek2+qEXvb840KWG2ZzoP4d8Qb3tEyhjhlY0NodGl46KZR6mSEpvyH\n",
              "sCsrTi7e/ylO5sAlmOC/6R/Ko18EnAplUuupXiwRLkaq+c2BWox9nx3sI09Xn+UGpCt2wzLaQbIQ\n",
              "y0AImrNhe3K5MUCBCgT6zaZR+ZDPUURAixGmlKTnNzAopsXMVWJY0Uwq+Rlky7dSNyYBPEPK+6PM\n",
              "TfVNCSWUFS+JrWb3+qgt9Eoa0TeqEUaxWvsA/UObrfv2eNBGiHll86l5xQ3I3wT2AMivDP4BIUOY\n",
              "frRYaxaCj5d5TqqKHSIupll9KfncaQVzcof30p2c/v/CMxDKSXZpZTwYJAFYB9rHj7vK0oSbKgZr\n",
              "lU4SvrL5MmtgjdUOCopyfLyMJPX3AyAdttbRTwZq44aktpEPgQnwT1+cu0ZaJHX/razehXfhQOeR\n",
              "x5Y4xV/y7lC49EMSkgUrCtmO9CAgk+YnK5/ylX+OD/3UmpG3l5TuNDbmshHAnLqtyQyeytDZPJme\n",
              "T/1UCHKaP0LPOVlEUdPB2aRUuuJeNI4oJM6K3AQZU/NXPI8dQaJy9D8NRcMW6xneDiJQibXjHA9M\n",
              "hfiAmJbaeVyYdNtJQvIoLwxoNwCvAM6v0PCPIVAI5x/MmYXW+g5dZmEK56cSY6SA48p3V0ORt6D+\n",
              "2b+9UDQo/NoqO3VpPu/ochDwXvKcgl2j0FBEHBkF4rjr08qY3q+UBboE6vUKHIlWbUeeYbCSg0r3\n",
              "TD5zKXGWC5h9OfLnAwjltK8L3eXZyiMgDXnvnHnpOULx+Ki3ZNdkaBsVfAOQRDA8B9W7YucLJvBM\n",
              "oUf2VCL/J7C/9j6mB2Azh1pZJBhhlfJxgBcwAAAEjwGegnRBLwAB1QOfkdAgP6amsfQAEIi+8pgv\n",
              "5fV1IIMPbSBTSiEhzelktvW5yNjLw6zueqwiqA0twxrtMiLiLKq+knpzmS/NojedgA5VdlL7+o0A\n",
              "Xq948PU9tdrgLfNzCscys1qvj5nyTe3IU2Ao7t7/BBZuJqEuudZGrAmX/YJwCKrzxC65syIUKvxk\n",
              "SH4cnWmMov6/TPe6i9KYapl58FrxUPocm3nb2JLalG48XZzZ5soapJLGzfoFTcbi/yrZ9NC3ivUC\n",
              "ZQNcXfzN6BrgqJqr0daTGUUcoSyTMK6/PqAREuXv94ondoasJSEYnybzNJuKuB1K5y+efuUhr7Jl\n",
              "NwSzQWpERZKnVOea/4hQHFe3KiYYsNS+6Lpy/Q0rEqCz/qfm1Z8Hg1HUO9X8YLiSq9gdOVQ6MTg6\n",
              "fD1/+vJtRwQ56BNKZZjt1WE/4lcR0vfTYewhgMC66IBmiv6pRG7JRe1bUdUtplrtlz80ntxVGqvd\n",
              "fcmSK/HJUGt0pinFNDt+vz/Us/zZu8DgmXp1KLNZTcK6znU3iLwe+M5pCdT16XXIiwSRbsKZ554p\n",
              "mBmYHsVRyjOyIRGwuLarRZa5KKmkCIny/tQvNED8yI/FY+yQPGpZ2RW79bytvz4J99utdDMduhth\n",
              "TxH20tXUtOsuDlyctA7WZgp2kfkIIcPHFMaj9tscD6QdlT+x4kdvDvFYk60Pw8LoRGkR7OhJurgJ\n",
              "8QO9wKb4B80LnmPasztcKw1YyoF25kDP3PcNSYkwkgoLvG3jU6M4/UqZ3kdb1BvDsFpJ8YaBHwgL\n",
              "OSGZMWE6SqbVvkhxsHrSA1NDop8OpANWGIgT8NNH3HRv+7E+1WAmMFTu/api3lhGXiVvjMpJJQfA\n",
              "LHTPaOt6UscCZyVVkyssN8v/V4RIXfe2PGzM8MStXr+fewVFmZp73HXSIFRYxKabbe/yWFZw44WH\n",
              "TmyYTihe7hHHxjDDSu/jwRLfYAbjk46eLEZTdoOnFK6cZUsT2ESwZPtof+DuytO7K5CJtJQEHFdS\n",
              "pXtW3W+gO81hiLij9dsmwro1RNPl9KNlagbZx6Rbv7s9fL20U28PdRgFtNW2pmYRyMPEuLGggcEw\n",
              "AX/btW30Vz0eMsifTNzuZkCN6gR/cBfSIfAELizfuGD7mEKj0LeNjDfQll+A1kuVMgZzyV5u9O79\n",
              "qBkjZLbsF8ARLD5oVPRr+umdsoitJR6gMjlx955S3czwxGJpBQbq/q/y8nKnS4TueGsTqBvnFILz\n",
              "bKX3Xnu11lzC2FOhilZDKfBP8eXws+h4NyrCnwbat680fCbThVKGQBexrlmNNpkrqNmf6NFFEDo8\n",
              "yhwlo2e7766R6wgCborGN0c9hYfLzSu3uM/hdjwjmoU61yhi7GizD4xKy/9GIIAljMkvCaElHS1z\n",
              "7njx0NY+44WdBfvM/diG9WeIRjdsgiJ3TmVsfgSd462rd8PzNxyxinz6bZa0ic3qJ0wUEEfzzyJ4\n",
              "UI1PP1kINygbeQmu+Ci13COnlT5SMQx0RMR7nEkEVw0WrRHaNCl/uYThQ+V0r2FN4j1xhDYqFXZh\n",
              "9wAAB4oBnoRqQS8AAeVyQYk5yK5XCQAQ6tyOiY4w/oDeEWqhibW+/5XTwKQqx5ffsObbJaLpx64C\n",
              "v3sKfe9aVCfmxvTNbXHWldjTCshBZnIleprRizDXTOXKadFfkT1mV7nBdTkKcJwRp1LQqDFZNy2t\n",
              "LFkysU2pqrm5OSbJvJts1nIrQ9CEeqYV0oLRR/AwoAOefeLuVk6TnJ35EwKvklUBc600etEevi/v\n",
              "+yfYUKHiKqAnAgMz+w+1TTfZdO6pyjdlQXxb2RdYzcA1d5F3LQLSiVRsZnxg4ZOZnxgCgIHPlVl0\n",
              "uH+F9RR9fBTp2Uj3iZT/lXMkINpXhjL6C7/j2vEu/oI424lEfFeBM48vvKblyE9aJkgFrNK13RuO\n",
              "CqFwfcd1kJdQM8LQOBXDHFr3nTkZopwHX2iTUvQi9cMuB0+kzouT58zjqp9KZ1rGZhkgqt/tK4vv\n",
              "TyoGgdkkwB4OVQaEU4sB9ZCqTZICWVwD7AafH1SoAyG89AV/QtgXs50YR2vL/QNoBHqe9xgfzoTY\n",
              "doku570xvD4VWKYotPImmXGMON0KaNhrUGxPOiYxqdne/BqDJJmFBv/lu20DHodwGGVxoqrl+2hj\n",
              "R7N7esDkplXulIcIxJT3TzX7yjbmR9wH2UGkGF8Zcq5BHjQgY635/X2osIxWielKDi8d+5CbbR4N\n",
              "OcJIxnLrqIzSld+yUBlfVKf4GPz2Ez1dHGoeYDBidfmF4wB3I2V5DUl57satZyHgvNN2d4BLVSO0\n",
              "yIOlnDLCixlp448eyXMXQApTEy1c5dnzaJkbv0Go/QAp4OV5r0raw4Z0rEIP/uWA10TVoRen+h3m\n",
              "G1ukhEaXHnxbvnxL9gsTyECM/akerv75m1mQThTpWPFc3wf/haoTWa7ueAb9j1SacodRJEpspcDN\n",
              "l73nl9gKNEKHo4rRS5X/3/g9OpZqYee/3YzWzmHPSUdg8U/xhJWrDyTa+X6XWz08RFGbtFDoQj7i\n",
              "NaPfx9Vd42B9AH94yX/gsp1vf3Ik2g/pmLL6U7a0tGZlYZKNARM2TwzzrLoxMxjO+E80B3BsM/+D\n",
              "I4BlN/9Ryu0EZ2FGuf4ec4qVMqtVl19XiXoO43ufreQM7rpX0uJ4bPHiMGbmwMiU1NE03dWWmlE2\n",
              "oA2z4z+U9VREGKVVjdppWpwA9mRPCMqPBGidZqbxCicbeAFztHEGaGKgvmIWM2ecDwMkH1iCF+/I\n",
              "A9MRoGospC8c0qwO/JDZlOHZmA9AyqW873MGsHE3uClP490kaypFy8DyLP0OD1f2JXmtVntuziwJ\n",
              "R2sUnNJvetV7HPTj9NqaHMalnVZ2uukKOqc65xKzIVNi/qQ/BbasPz4a9gYAQ2JrI//37A0u+Cnc\n",
              "Y/subtyZyLh9P+H/Ugm3ySBuZ9FBthtxviLHuhAH0GKzy/G1psHoXLCsKK2tz2wTuYNU0wpFq2Qz\n",
              "TyODZKRBRSH6ewwq7DK0EEkuZIcoqN9kWNz/CTjtgjUFZ4qpa4xwFG+0xhv+vLV2BR5uSu91qHkr\n",
              "mcDyd+M5jp9L2G46h+qGpRcaRcD93wY6GsCIAtYSctUPQdE9F9O/4O5tco4sQViF36segAygavnT\n",
              "s0o19CWUaT/uVH103fF6eehl2DuLHOYq9eq+gAkhB/fxTnG6FeSj/isZKniist7RvqHLWTIJKWKI\n",
              "aTYEz3Vs4se39AZDRvu48du/FOt/Owpi94QPqRy1lfgFjcrfwc/cAoQIU8KjVnX9O0gx0VtfawIJ\n",
              "GwcO4L88AYCfLkfKFAiXJgh6xiSmxGJtNU0HaVFZJlOVc/OBtxxdtvWPGwX6g47AwMYzlZ7YyRI9\n",
              "S94IoREMYkfe93pD/pbBdW7sHknp1a4tCLgb9XqZ00Q/y3giAbO/tOvG/r4WY7C8/I+l6PkPnwme\n",
              "SqdZQpMp5QDVGC5yQg6W6JN5PGcjFcux6i8uO78039XulbnJ8VIqFQRzUgEKsbHWiRfkU5C6Hp9o\n",
              "r2m6mAcQzs8D9XH5RbOSoqAW4MPD6LWxQqBQsoZMErwhTaAFSJ7tTm/GM5n+8kJxHs2UeAPUCsey\n",
              "H2BiMD39XMIQVbVxj0HlGo78fhYtvZgwumDaeEqccx4YtmpPxPAhrp/bLTgzEpMw5OZrToiXXegA\n",
              "5BLTf0sxuYcojcJVmI+oXBwx+QtqPzV2iu7+VxBhFTg1R2tDNZTfL2ye7rEeHHIK77a48rRuvsC4\n",
              "ARz+hraSrDvdD9Ke0y+qWXjWBVGUR9YzupqvXTPqyeJ0U0h6Qa9Zaa9Hyey+v/69qgxbBz0nwBT0\n",
              "7gT8RMy21f/nThrm74FavsTTXc+b1vkwvmEXHMrWSmlpsF7MtzLVzGittVgfbrDDdfYZycBcuXem\n",
              "TkyIlca5kC+DDGEHGiDtEtnq8V2zHjPIdW6Z6IPMSosfd8YXnKsrCmYj+hROgpWsuwGJ6XnsYhkX\n",
              "ZqXCItdxXn/j7N2CWhnRiY0rrrR4bcqdpGq5usZN/QVGVrA1MgXlGX/JgtCIWyYBm49WDl2i5tIG\n",
              "669HqgLLl27JNggOSjxKuJpRrkl+ht+3sLtTP1eOh10x34ye3Tnwa4JxXc6OJlFZGZmBjRwRAAAF\n",
              "WUGaiEmoQWiZTAgt//7WpVAAfOKEgACE/U0mXRdhWxkWeVZrifwnjyUMfnRLOZ3CNNHEebCVuAC7\n",
              "yq9OWZ9MNephC3p7yrZomSZS65D60HQ5Z2e2oa5sSWBpgTA2WfbCxVxhD5KHMx0WI/A91rbV7Fnm\n",
              "tN9Qpye9R/v7h0ySMzzH8UQeVBEraGHX14amJkwyIyuv/YQLBKYYrMIn86G1OAp7JmKJsZtyNmYJ\n",
              "62QmmRhPPkGzB/pE7r9sAAtcoOV7EJHYVBYjkDJqCUWdX9XJ/KllV9G87k6AKDU4U6nQhEn0yLZB\n",
              "VKtmpgX+DmKoZPty7WZKQnGnCgaRrh1HGXiHNUbWSBFz1MVtX7lzp9F9uSUwPEUCdUbza+12GVmn\n",
              "aTiIE1OQJqMRsWir3qHjEQZct+iXtm+vF3IUZD7/9WNKL3V4vOfBuxlkS4cyIPBDo7/Qgo1qjiig\n",
              "PbgVCrxdmv0UBUvQ5jlJXHilvyQfyExR856hGvfpLQqYC3BIDM62s/aKyzjR8ifJjkvSU2LmpxEo\n",
              "q5Bv6ci/kysonQerB1keAzNQI2tR39taz0GaQsfoRUAlA323VvZMWOcpf+CiZ4MrpRtVMYpiQ1li\n",
              "xMPnsazmysR5dhcMl/YyoFDtJVu7T5p29Ny+0NmrDqRuMo+Em8e4X9b05hrbYLDGMtUuiAkSh0BA\n",
              "CIq8lYUakTLHykoBWxq10pxA4ZJxWkW+xz7TuzL+40+IntRKEkUCIMbUdE9/o9rm5/7VvTXM5sYM\n",
              "t0bBe6UCMjkQ/ldWRApRRrPrEt/vU62Tu5dG/yw9DPIL135Gp8yiqzmQ6iPHA7EZrYT+dq/6yPj+\n",
              "QJIiduwJmAAAiuBH0DFnm9zmnPlKqkY9XGqpcl9e3LwQsa2o4ZhgIJ+z3m3+5vTz+BOIq/AqOHci\n",
              "9vy/xJSjDYZrVTMQPVLebGUr+g7cqYLsQUvKH41E1+MzHiddQteGrOZDqfTZMuQ20P0fj8BhdQCg\n",
              "IRH6WOQiex3aGAiJH+QeMUrLiE7+AalvgBAUokg4lCEZw47LzFK5scsiigxHzszB/mhvvyOh2FZL\n",
              "cho3yEPGhTeMppv1T/ik6Dka9f8buWPdK4uId4XsKsKRFfY1D1uGA/XhcyPBRB/8/97qizivkBkC\n",
              "99wfOwcerEeUyZ3XSTV9tMsVFa6JeR3qDAX7HQ8R7kZt0Jr8wT53oGKUZrT3yUnxZzYTV7EG0D9M\n",
              "Rib1p1o9uqDcBQp1xnCpHb3ssua4VA5V056QJYt2BS1pWcoAJNER42viN2ewlmlCkA/OPkmmT8/7\n",
              "JmgLwI4PCXt2Lc4dB3vIpABYDy+oJemUkem4i6fRq0b7LuU9SUbXS5X42ooA4uNh5ZnOYbkN31lT\n",
              "tA8NVHs8xePVYa2WXHLUDjUFXLMhXNRGvCHxbTBpIa2nRJ2i/w4B3JtBCjMZvhaLYuhpmm/z7M1n\n",
              "86dnQCxzfbYmf+y8i/EGaaXmdlJp77gy1vZqLkTi0j2FvIIu2eOrctfNkmkrxPwzp/BmP02+6BAZ\n",
              "DzSncwQu6/GutMe9KHDbo4p25aK6qlh7n3JqH87xNfD583OLDGnyOrcn3C9LBZrm4TSACo7jkMnb\n",
              "AkoCvKqcIeyFa8ERo8rAoLgnrI6P0AYMM4TgdPU64TdnPZOtzVWB8YshNnkCHkksvGBR2jq10nb6\n",
              "uGajY1DBkUpc4L4WD0HBs/mXpViY3sJRkO0CuJ0OAFWnpxF9fw1LLjzwVQfrva57taoTd2iQxdp/\n",
              "m66z5nyXJubsb8u9fxhs1V9ESpjqIWW6klWeRBCdo1ksR9MJc/fc6GkAnb6ZbdTu8fjQYtsLFuIv\n",
              "CUEAAAZcQZ6mRREsE/8AAUmM0AI3ABe67xFzRUw0Equ1FFAZ6vg5kPcTZ5ha9Uyrt+Kmwe7fOWKR\n",
              "z+qUArX1BBVippwZqy0yh06FSIu9U/SGZfICOV3vhfjLBhDWSvCs0/tMou7tWp1ydSfj/4KUsGn7\n",
              "Z3LekNvOdp7fGXPELay+Z0QAvAJjb8w2yz9/4v/FLx06YH5I/4aQJr1a/wYc4Wc7EwX5l9SDLuD2\n",
              "unDuPMgjodgUFldtcDdDfLko9+f0n3S8Eo18aupqrX19GCmPBTwybOtBW0/Guw57musqzv5QGFDW\n",
              "nhc3IZc5QlBs+f7iHFan1Lu1ietsQ1t/3Vs5G964QrGPmX42PF6zrMo0sPMLZtQYLzltpUY39J/V\n",
              "PEw+U3RL0M5YFrnPvDNkR40pwSjJVFG87/aJopBIBdv8HXqD7lRXBo6+vSnlXyPxiYXwQ4A+UkTR\n",
              "m0Xn3fq/YwZ1yiwivHwsYoWnSdCZ/G1Sl8ly+4+qLQZKPQPclq07UjdwXU9Mm2VfqWPS4/BLepEB\n",
              "fis7CTTJajEfm54X71goLM8FaVM/Gd29eUhu+wOO8icOsMx7Zt9M7233bgzeDnRPwlK9KgGpoc8b\n",
              "i4WKFYYh2v4xm/UqnJlzt7n4JGFzrfC5PEbWEZdbi7GZSSfXDuAJUDsrb6W5YhUzCDA9mhDzAENd\n",
              "Evkpbb4YCzx3xZZRPvYQq4NfKhBjhYdOalRDWh5jl23EG5dLqT+e0aEcoa4IoMEviucTbJ+XOvvi\n",
              "U817m8jtiTo01pPNrTuyuQgLAaCDiupUsWxH+hQO81hh5sNqohY4N0aWrT5fSjZWoG2rzWO7+7PX\n",
              "y9sg5yD3UYBbTV5MPF/Hcj0rUE5Cmm3ZHi+9lpT/jqzAUWgLPjQmwQ+dd2ZrL3J/+eWhemXJ8rcD\n",
              "E+Ipxe8yHayb6Sm3FaoG6nAucAIK8/09lNvDTTPxaZeS/i9068U/V5Tc0CvWQ0KBn+WSchYaA2/q\n",
              "/Jye8RWbPDkPUz4DMXwvEzL0kHabvAUsr3Ygy8dp/a/HMi3a3S7rXaHULcTy1oLTYtq4W67AqHNM\n",
              "5Guv225GOoYcSILrhhPljTry9SFWID1HxpT+4KUE9+iCnSiol4dduAquZdma87H+3KozyP2EOnp8\n",
              "lKtJHN0HYU5uj1XgDCvJzZaMd7YhkJcS2FiVv1wuhhyZox2G9Ho3yWUQ88wAH3eRI7Q1aY/uKteX\n",
              "VdbRK+jW7UE/Cpq83VWOZcTQ77f68tXFZIKyKIAQfD5zyTavgF6ySZTCDi6B31iWkpdmaOA7k1DM\n",
              "mScrWQkb1i3WS0sNg5lfIy7CDCGNjea/oYXkIl959oHhqo9nmMNxn/OWXHLUDkV0zEfwHT1CMJAv\n",
              "jhalJQvhbwS2Pjgr6q9Tl3vWnkyoOnQrGSpk/2SrYeihm6p/OT46Y8JKMjzRv+xI9tD9/ZyCOKPq\n",
              "dES6s5yWYO9HwduKEmHCgveQQSR1ihok54XDBTYIZMaILafUOM3EAo0BtU7sY25hHmS9ZZJSgEkr\n",
              "ire6RBEvc4r0ZrcmhrjkX697igQhljRn+sJUZyIM+qYoWeJQFX7/XQKa8pnPIcFABqyvvALMoSt8\n",
              "+3uMMorfW75uq9khJgEkXbiPAOOBom67m3zBBuUSGSrRvPUDk1/r83zo21F0WtBNnT6sLdWhhpzg\n",
              "4G9oGYqx8/DEmhHSK+3oCN9gRoZnEMS0tViwTQAymO80Suu/5n3BItUYVkNbxk+M2MqTf3InyEvq\n",
              "ZBvuD99rEisa4akZDAdzNRD4qw174/C7tTjOT7hjNAoRxzi6oRvVMcLyRT7byLhl09BxE27+xr7x\n",
              "/K8CDkMfiiBYGbJmAk03zKkTE528Aj0SOVanC6BIygszulHHIlYGakKgnJaIyAADubohqCxIJDlo\n",
              "M47DgI8xl6pBHxOhPz0tGlVE01FVkR2UuK0+/Et7MHedJTiwXUCXNea6wBwAKGNCB8iHtblgd25O\n",
              "UtZXEpY9WDbQ3HeB60rO19TMvf+q7yF6VPVM28UWi5J7UxJdscVr/SXsWpgO08nzoHaBoZz+Qitd\n",
              "e6OiPrC3WYhaeGFSfYMHNDsZXTvl2OXg12y257lp53YLklj9aK3+naiSU8h82H1Kh0RK1yapKmfq\n",
              "aw6IWgGKFiwZe0d6q6xNmtunB9VSn0cpN7nAo/ql0kOmbpwE6YEAAAdcAZ7HakEvAAHVA5+oq7/B\n",
              "rz05agAIRWz4ctiEIE341KF5FwSUvEqMcM0uY+hyXkBPtDX6CGAsnCfznjZeu+5LjoOyczLLuI9C\n",
              "9eEFHXe/InaFXKq9rpd2LmoK7gu6eKJO01zSkllZ3p9m1blDyPEzmlhYZ8xT1+CnVRzrCdZ4G8Yy\n",
              "4MffsFRF5fsSYMnKTe6iCLBXKT2VW4Bt87i9vZ6EYf/UKBuq2IM5VG1cz1zkTiK58egqYvng9nOU\n",
              "21RgoDu5f+nL2HFhgKvKwKhY+yWWBJF/86ZZp1KDZvosOpmeQNffTccGhBEBc3PhVdw9bzyYwvFf\n",
              "9B7kxLmHShDBB96OKTruvJHWbhT/SR1jkleARYwGdCRnpsAXslJk6pbmBPHEdBTaaOvXCBqUX9jP\n",
              "XVq3FzpfYqVxB48nplVO87DpcYj+/18xiarCsBc5Cdp0+QD0QRqdzzWfN9MAhy0IhzAVIpNGwptK\n",
              "gbmD5HUo7KomdcJ93h3lMeUonwofiiGHFR2RHWSVZxWF967YJd3CziIwQO0KA7xRSONpOMyEpRE1\n",
              "/r/ncUx96CCdT/JM1fq0I1HSXrIXY7ZhfDg86ws3vE/VWU2r9H+gEi6MsbEg7RGcF+ARNEyLXGDM\n",
              "NlXHaVvQvs9ettNYkQjaiqdSKBUB1C8zttRTV7xlGmmRHc+SVaB18JTbWBYyBVyjsRSyAxfAb4f0\n",
              "PEN63NkpToUs5CYK7W3Mjq5V0WKzsa5zi6N5upGcTm1yA/uZOISoRJcjgWu4+mzdUQlqP51c1PEl\n",
              "+A/9w4rLScJVX9KElYGV6K8V4GaQO1RmqW4TOtZgEDn3fgXkahIdIChE3W83uhImNLyVBOWSwtFS\n",
              "sBAeUAnRxTya4L8j74qg14JZX/BekufFvVImpXERBVHBv/Wfqt9lC4/CUq5fDn+gqwCUjOdOgKQY\n",
              "F85EHhkwcC9GmlDmGPvC6tDs+1XfsfVQxsHqV85SaI9PH0hgIZRmEaWXa2/MOPGwUtJsqhZb6Okl\n",
              "JJ6M08o2ZtOHqTvAxbQtWwSigm6D7Q3RAid0FjvC/icfe/R6YtUnuKADzA4kpavrb0od/hiEzFt+\n",
              "Wj9+5eoiEE/Wfa0lFeO9lM4R/t1e79pTtknVpTZV5im1VljBz8THeWc+qA4eos048U9U/ppo4WWx\n",
              "8/Xz7spmKZc93kxX5yMSqPAEUsAhsRVPRhnLbcmQE5LDXUbj+7GqD/l17cDLbUTt6MfKPLPCb/uS\n",
              "eJMDrfW2KoNst+gWsrQ31lOGcRUnbgyuvC+0/NqUHx577Vsze0CezlfMpL1y9FZqC8uw3GkiDP8C\n",
              "Yw8TcnTw0TG6v4cEYPjyQXv3nJG4KFjnN8LTSrfG/hGVfzZf40whd+vMraJf026VmYgCDsYBQz3V\n",
              "G9766f8yQBAFLlaZAvuQ+VY8x8anNMLegzUGb9vS3pMJWTYb9fRgLINjIXucKEXAzrPZs0dlgUAR\n",
              "UmM/fJGKyQs67L4Nmv55tNQaGX//Bc986Kkhn0iPmng9oVtCr0h/r7ClxJ8ft8UogFDQvJAsuLya\n",
              "RhXuqmdA6GD1lYIOdOSEbgFoXQO5l8OThpw7exbebvArsg6vVxsm4UJSibOsuAE1+L+bgRh6rpe2\n",
              "jJJJVUigmGjdtORU/sV4AedxHpXwM8rN8wrlcK51DBPRUlU/LniY9TiQG63LXNUUsqLcK8F5O59E\n",
              "99T8iJEsx+jAtBsDzRGHTnNqTuer+ui91U7nkTr1Lj+Ub+OzcVjKH/vXqj9MEsBtB/9aGZtxbJ+P\n",
              "37X9tHJjmkWq9FvwECxA/0Pz8Mbw9LR6itfwX09QQvNayyOKZ89g0jTf042nrUEiXXeUjoQQAwqO\n",
              "GDJUda2JsDvXGNwS69EKjCyhPcUgeK65myAz5vP+lFmkSUj+Lcf6egRLNjCIb8nBPZDONwj5JMml\n",
              "KM9bzPBWEyoRUUVEtbxPakl3meI2ppNiO9CXHWvrP1ZVYj5tDGOgJvQFgn8TPqXyB58HiqbcZiqW\n",
              "y+fiOOImxemvFTF7S/e+vcqd2LyLA9RjjxJZ/jVfIWARKC7WegW8gZFmRAydyN6IRkItVF3qlPgt\n",
              "VZSoJuOrsSDIdeUBggL0ITfQgQxEQfAa+xjrwrb1XAFcSpUtehB2PsiCeB0LB5MZADL4qFnX9U7D\n",
              "GTJvKl+f5b3dJxstCnUiNEUCsLN6IElPBDpL+daHfqfjeQBgiE2fHbnLat25WL4TdS+8dpDNbYpN\n",
              "fn5e7tCN3PPOgPF3Gz4sswVxcPXZNpmW9s9CiSbEucw+3AtV3hCY2kBLL96A5iL1R4ULgnVrywLh\n",
              "ZVMcZbAItnPUQWV3wITAZtxusdqKL9es9C35qOdByXUR7qt7B7iePwDqfRzkiiLu0fmgqCx3eDw5\n",
              "uBIdGBemX4TEbqCx1014aYKEi28hV72TS23s0mP29DOSJq4Ptuagqd0RvOGw/qIdunB5u+Dy/H5Q\n",
              "a2/QRme6zksFqgcOjwp4NpVnRO7nqqP+nW7pnf27UzorJlX45RQKt5S8ABywAAAHoUGay0moQWyZ\n",
              "TAgt//7WpVAAfSc41NFcAD9DS+EQv9RvI35/jHa0nC9U5BUak0U9Wz+Hb1pMPW0ONaxOxaE4UqRC\n",
              "6Y2Ves//8WmsKsVxwQsTHOJDr5vr19oRHzcRjImylEL65rZJhuxFFuvvhyKindNtgirmsrDukNLt\n",
              "z4zmSMv3T7PBRbzxPPLg/9c2m5ffcXUZhExkf064ZzLwF4M3urUV6z3BmHtBXhkcIfCJXM35X9N8\n",
              "kEtd3tVwUCHpk8r/VH0f/wTQUaF8F62S0LVQv7sgeERIY2bIwXyBmL2XJOoWzUEOnYpqhngfQ2bQ\n",
              "YtkbnmZAYJM8C4Hqh6V7AByKjeB6BxlJVIDBFQXxWrl5pHCUmdeCW/8khoCpy6cD25WtWGONAj97\n",
              "RWux/HJdoaDW7HKbRurr8IX2ljgRo3fNxAox+xqTeegaEk7slqFgnz5OYVcOs4ffUegfwQFHirtT\n",
              "YbhWTBanzbdyYNjrKkDJ8FHkg/Eexv30VaSq5H3AxsFrsdhUsP4p8YL27BgLihwk493+y7UfBlzh\n",
              "ORgk/VQf3wFj6UsrowZGcZ0vzP5a68ypZMbuTXskv1B1T5Bn6hOMSZMiq2n/MQ8bZTS7Wu5nazVc\n",
              "W6NuYOcBAI5XIilMbsnoWBDFOSN5cX7WareiL3rJf7nT+ssXarduClIoFbiG3MaPFsgO6sXayAPc\n",
              "H9PmSPy+K8YnJSfa5RIN4rq6jz3b0P2HCYdCiXkR9ilrZdHrVsJV7NeZ0RNA5myBu4207gVNuwg+\n",
              "ndHubAc52W2ur52ViSxiUf5+syy1QvibtO77VxZFVoHhcKQtez6xoFO7fIZ7Dckmgau5ifEVlgxv\n",
              "Qxys1AO7OouBnYlzSBe1TfDirz5U6Fb46OPTOlSQF0pLRWuk6Wnz7FqEboY9l700lYRBF6p/cLXJ\n",
              "uwpSpxLg1TMxGEFH0cMeVQbJlZTVidvwucnD7ArXKWX6O+JmC/vQfsWiymF9f4ECHbVewntAm8z8\n",
              "E6CCRA520HqAPTmFEifqD9MMgRF9QV1uZ6/rOOXhEDMoJVFCM0lRG9eTHkwk8iv3GrWelgxfhsIS\n",
              "SRsvnxug8nc3IVB+mzXHhIoUh0sfYWKC78kXHZfhNGsKEbyIg2MYr629g2t6QQu+pZQsgGdjmn8D\n",
              "KMBq9qWW2tUMFhCJKhSe4z1xZokZuG69omU05Ga3f4u8oqyhhq/ODCQPrScQSbrMQ25us4aLq020\n",
              "hwQwzlLLtqAb7SO9D0W4hTuR0inmvni4THU+44revGSn4Za5Z988Ltyrhn0fUfJi9GBOkUldIY3p\n",
              "jtyukcGOR7gUsdCyeTc+lxEonJNTfIWFFqH+gHH5BkCtjIgI5TiDItq3GmtvQtWDN9Oqimmbw5eI\n",
              "5I9l4R6K5LcDu5LNMjuRip4M80kWxYzeNlAfgtFmIQE53BP01PHjW6zz6MyftovxrkfiSSuwDiJy\n",
              "YWzdePulu1Mqy7Kqi8Zepjbpnykumzu6duC5dzW28CJ4TZ8YV4ig/dhFpc1ApWMpN9WzqeNBYKpB\n",
              "/4aWref5tx48suQhdDq6biK4QBulwSSsRMI/Hd6c+eeIXtVxssyNqogqRD1sQ+eclDBHKeGbFr+i\n",
              "QHiBAoeYFOJ+1oHBF+A2cox5KM/s5MK8wQ52fGryTspipZpTICRGGV6e2myY5w8cgyXQdOmiQDBP\n",
              "GafNQnTQlamkrM1wsITFHgSFyxj7MOcaCoRARleporfyzyhhJ4pnjwWv/tW+28OCCjb7Jd2adirh\n",
              "7YO2dY82TUb+8WZ614avs8cXtJ5my5WHT6SkRa7jITzVXI+I/ROVgOTwtSRwhEAckTBpvaW0xdfg\n",
              "uyM04Pngq155W9jsUrjTjE3QRZ3axhCijTXilerBHBDl7Qoxv854J0pbD13qvpWan0QYrUvtZO77\n",
              "wcp9kQqNA+xxfkcLaswdWU1pE0EDLcC/k5NeWSftHoUa5zNLPqLCROG5vx17ePTjZA7vDTonU53L\n",
              "TIbS268OFQTFept3d+UzUYTQC3lg2JBiEbhSLhTJPG9uA3lEAbNtnLV1GzbfxjjYiylT8552Uj82\n",
              "/NwLNE6hO8+aTB+D+YdIxeSL52M9IT95er6oKaYe7w52Ls9gSW2QrzGsEPz7J+unGsnBmePsIlZr\n",
              "PvoSTck+WfGCmX4+Ch0E1vEGCQPer3qgMCcqRg5FMbSdVYgDwuXeksR/GkbpZAx+SRfm9sbx8tzW\n",
              "6c4eGiofq9Ag3iyUdbNUT35uQHqSV9hFIPN7FRAcHaJne3V6tBFMUUKM/YZ08frEXBonVqVR0xcB\n",
              "yWhYE1H91VkrfpdPPkTVTfHb0ghTqEmVjsr56HXopGtI1JaZpalbGVfEKQw3S/O52L7BuFNGB0ze\n",
              "jkE2Uig87gBWk7S84nUTDkuJAnIDGF6AhFQ7nuAqISGSJxD4M17ZmYl8yh83TU900oRcc1p5T7xd\n",
              "h9OZne1890RDY9obpKxYcsxJSQyMNR1H1sqqoSPOLWgiQ6Zosy8XliG8qOrqf4RBy4JW/qsdibQ7\n",
              "TP0NcLTnvNoOocXzexqKJuu6kuXq62BahIYtbF0DeytEJ0LzLFzO27ChQiPAwR87oPVxO5jBu8kY\n",
              "S9X5KCY24AAABPhBnulFFSwT/wABSSEQlgA+JlYJvND0Ss86uSWPoLJNrYIp493HrjI0sF7jhx4o\n",
              "N1558d9E3/wq3OD/nR4AbCp9G1mGukVn/gw5HlO1zlAUEiwyAopcY0vmrMXbiFDFQekUJNXiY1QP\n",
              "TswQuzc57fHzyZV0HBlCHMe3nM++jc9tVY87b/AZQx3zVU++Q2jkHDd7s76UCsw5zrDXQ6zCKYTZ\n",
              "UUAKXhXmITIppkhUULMV2uTHGDzXgbR/qqlRgn9L0+YbjOCFkgIXpSKvWbT4bQaPJcOBKULGZziY\n",
              "Eso4wE+5jIXGpgObV+cvjj6Eeyip+zBsbuFfoRjOzbNburO5Ch3h2JynuiPifw0L1D2+e9CGJ+/B\n",
              "11iSm0RZlFew/tqN4C+nzJBIJzUmJReoZBiEuemtYHiyGN7udilednr0LEFcO8TP9on1MzFLOdyL\n",
              "CDOQjqnZBPPCUWyPp8rlZyYIRw/K58fUBWBgmdIXbNm7IFiYyyUPu4XpS3AH+gdMuFIsRc26+skj\n",
              "kF27uJPNxZTaFnla6k/9gcT/g5fLOGOKczRA+Rb4vyq3DlO+T5IpsbNRWngrizq0MBxQoIYfW9jZ\n",
              "9YqIVIBqOHyLTJSfyzDcOLj5iTILNnd4QQNuMt/PrISLyvZ3V1lU3Fg2pwvqADW7gN4bFxunBIac\n",
              "GR+yJuP8ew2H7z01FNBDZJXbxFIfm5Ot3xRlduu0u9wjbnXe8eguUNwwBJ7vqy5/fRDzRY6EGXvI\n",
              "AXBIzKv+SmotSRG79Hf5u83dxeURZXdM2pfkL/nZY4H13sXr4XesO+Y+0sKUfQn0vxaANh1aI8Ps\n",
              "U90WWBMEXreTfoliGLEE2yIVieoSFYTkND2pjDqom9PRR4O4YI2wuz0AroOVBfytxRAlExKMcV4T\n",
              "eA3B/WhgU4AwdOgsrKoSPo897NJC1+0gJx9DVRGXhMq0QQiS79W4b8/nL9I+xCRkd5mW0V1lfSq4\n",
              "smR8BdZunXMK1ojvd4Vg/+xW7z7cIBlQoRhs/UGM3YBtaLaPEirxCtjDr6zuUnx4voWMYWbgzQ/x\n",
              "j8FIQIEwq2NHD+JcCcD2EOQjsm6Yx6xLp0L74kJsf2KwV1AileH200dP1jd5iCoh9lhvTatjXbs3\n",
              "fRsB+fiDnTp5pjNxJULVCSjsllHpF9+6xhXhNbJszgLwPImeYoXpqL4cUL7qDezjMk23BUSNUVsx\n",
              "54GrlnenLP9A6t+G7KJvvxD1D+tCY+1gi3Lj+3TYph9HF04aG48/WlfKkhmGMRmAp4c7FKWYLWec\n",
              "WtP4S5ZenlFMZIeqC1XZgtpWaPHV8IcrZeLN6X6r+y+oJtgQ9cgPTn5Ra+E8tF9L2CcKpW875wWh\n",
              "JmFVEV/R0sRc9kCa9NNQpgNLnXABeM2230MSY4IrLkJGDFqofYnfAFUJBEmPPRy8tAjy8AATI95v\n",
              "cleARhPzsIs8ppmIyZAO5qFFGSDfSF0gaO6RqiknHWNCl4fhu+sPPmV1VhzmWNNUIpGv9yqq3sYo\n",
              "VyOKgm3mqK4HQeibqP5Mq1CNMHRlIHvxZ77yZzq3VEuQGe1n7nUsRTXRr5nZMg0jyaXNxFxjQiIN\n",
              "yAiDsOoL5m0oGMHIKYeVrHNdFHLFiqKL0vwUrgM+ZQQoReus6qO5Z1V3FNpIXHj50tYc4NznnwbJ\n",
              "sKcUUPGlQmylHiVUl7bQjAWDib8O5XF//siTyucAAAXkAZ8KakEvAAHlclk1JJgAIRW5IHprWU4l\n",
              "Cu8m55f1X4yiMIlrL6PpCsTTgmQXF3NRjg7+jQhbhd2iLhvN8n8D3H/yD/V4WVaFPn1dgijW/2NP\n",
              "zGMeA4/9303KJF0JVbefD5WVM7h0rLmQN3Nk4FX1DJNjnPIE/oGH8ujZ/xe3vZ4KWyGZm29zT3V0\n",
              "hrJqQIyhTh/yhuak9OTodWFTnoXn3TJt/72WLXUjOHlNPEjW1gQpix/9KX1frXK/f+W7DdXsCnAL\n",
              "4uXR4bY8TKlnnMAVtcnT/lhKH36Z9RWTmAX95q03FRBNVfgJT/P2u91QMoEZKsvtSTqxhaTWtCJ4\n",
              "C7IEFOOfTvFwZprSFuRdCCca9XIYs3DynAd3dmwZ7RMZyINK85tRTtw3lonzP1Y2/JHwUJtm46Lq\n",
              "/Kf7yqkADOtK84PsFZ4a5BYxP24b3CGMD9frY9NubeCgYEVkHZycZ0VQSnWh2N57wsaeG1r7xuvO\n",
              "9ve+N9ecuavsQ0+5N6U93VTxaEdnGcZZx9gUD2isunknCYZswMtqld4pQMjH06PIniUGjE1yFGDD\n",
              "7AiuszBknrLa/+3gwMhP9+4EwoS6o1Dn/0Bf4kX1+cisZKqqBWZUPt2hQb4i2UWCzL6q0eQnbrD2\n",
              "h5egav5Tvu2rJs8yN3W1U1Qea4gqDGS/DoShTTmkuc07eEebHkeIiu7Q1odXLW5heYkTK+R7L+HH\n",
              "qhn0IJ3DHQW7NUzcaERWLmfLtgweOjBqnOHVImv8SE1O2Aq9RLbKHQGoyjimp2gKtaviVdHPQqff\n",
              "F1BI9oQK60oh2z48TDP4MSAaxyayc1O59Q7IQGLKNBWj43k7K2HMN0VHU0ObHCIQnPUn2KALjkZA\n",
              "dOylI9R/+W4uVjBifTM2K3JqIyn1L05USMrA4dc8myhG7KcUXQW088BZEvzUoLCqniJ8IVRxpjHH\n",
              "VGHwA/y1Q/9pGsHIdC+e8mcB7vmJeYSepzmYSEB662k6FCYEKYlhBg6gyt76wgTtMCpw5JqUa6i3\n",
              "gk+ylbSyScAQsQeAur/7BU7WcJMXeOnDh0t6GEJHo/ciAQ0ShGzz6vZmvRzP3y6uQ8YRc8Y8AOBu\n",
              "4wE4ngLRvbHv4xwaEAQP+6nH3z8uSCGTUF2+Q6qkQ4NOJgIMXqpfK42mWyJpY2A2v5fnbTHxJo0i\n",
              "vVd3dyu+FigmgJ6YvJb7BCetBPrTN+RepPnObO53ERAKm4uiz+aFZv4WMV+Dq5wjUfitlUJxv1io\n",
              "Su/9AVZC5nkkMZQYXABNTOfu7n2G4XM7OQ2hWtIuO9R/5Fl6rlbwi099v+NvzjeQDht32IStkDT4\n",
              "j7BLSDMBmQXJVlAkKmsI5qoMtynjd8I72bW9wxZZr4rYRx/FFs0iqhqFYNU/qJKs6ZbUlkAsLo82\n",
              "fmjU1W9eKQadVLmnXThvNPgAX9eKfuHkH19/OndKJcsIQEUaHxkRTRvriVCVV8aOssUxMCz4L1kV\n",
              "c1a/vtXF1gxepyjhpQsiq62dErdZ3tdPeOLYgqZyb26uKCUxPO0471mtokEcJcebRs1vkjNbblps\n",
              "YdB2n0Towy4J5bdFSMLwBo93lC3X7+2tCDuML4UAOisUrUBqufCSHYMh5/HHzWVKE2+qQjHNrV8G\n",
              "3mcSPj0hxAx1t1jdpU19s4R6sDIAsClI9359/au0CqMEBR6fMgFfScxJ76CBw+4c26kgbRXwD+5b\n",
              "CbHUX7BucqTtEdtsCleLxc7f+u63pB/+AiovhHz6u5h7mZdJHnmEhQtIrWSYjn69Wfu18KZzM8kK\n",
              "I/xSxDb80bfZwNo8ZaJZF532OZp/mMVTO9qCL+0AUu5RinJQVedkoHOUXU/VOdsxkW0e/p0qVzzy\n",
              "sPyzXEr/RJE47SPfBCnA49pEs9lcA9LSM5fZBsIgp2/tXe9SFYUfeoxELaLf94nyUIrBTq+6aDE2\n",
              "iRgWBvJQs/YvIti7jZEeX5O8iMXns/ssXtfFLaRXbiDnDuuwLJa1L/zfcRph1CFDcMAj5nU6Njyg\n",
              "xoAAAAsqQZsPSahBbJlMCC3//talUAB81P1V6BK2gAgdKoNwyac8BgiJbQr8KrXQ/MIa8MvpS8l8\n",
              "iNNLLUZLyoa89a0uajXbRx8J6ImWKYj0VvVM8p2KITSpft0HFuVB0oh3QN/96KU0ut/wdH8cbI6Y\n",
              "2HwPPUODsSAIxn/wdfuO/1uLJU4L0bobQahktrw9qHVfkNhNXo8MLAGK4wNUYNO9wkcVtC++0ckV\n",
              "pqjx+Ne/vSN3pdE4iRaa4YPACqFJnxFw7pNUCkyYJDyIHGvg/CxTeSTuqAmfCO2Q9JwEnMNIzYAX\n",
              "rFlCnuJK8e4EWLlBvqQb390kMxvIL0B585dpz+CaqN6T15rMpUSTREDcZmXl9NKH0yYHPBfouFZH\n",
              "JAS/iwfkLPeZGlPnLxesy1gNeyJg7VlcysXUpq8FFBWwQkcEsspxb9u3ohRQaRg/wiB0d78IjAUh\n",
              "SqenhlWYOGtZpXVEzKlmJeBBAKQJNIcAJD49fs9yiB8otlig1n0Wzrce51/+oASCrm+m3mBBvotM\n",
              "98J03ATkTAhXg5V7lRMlFzz3j4zBoa5hwt6p3rhy+JEUD/NgJ057sfmCgjSTfCjTbg3oKuyMSWwA\n",
              "lHIYXK1jy1G3A0TrET+EUYPUtkFTb237DvgNv30kZGDvVjQ3gLhOOXfV2DVy0onAWf8bWHDzZiaK\n",
              "5G8UWkLbIj80QxtWzXG0rx132s8uj+/PeZQWyO0UVbLwOpf8S3WCVf5b26Mr9UtUb83DWx3mQhUn\n",
              "DVqWLzMa+YeS8nU2D7n9vupWq9QGeo+XUBybdMTVVBmgOoEERMhp1kAfKUlr7EKYQVIYdk7kfkVe\n",
              "bcX1/Y+mHVzheIefhP/R2I0sStBoXhxFaYZHR7tW0Da8GlvMt3vX95AZNOJ0POTm0UoPsgUR+7J4\n",
              "bZNzf0jeKb1TyShzJ+rfeKxudo8cqi8KrXS7NeapjifkJaXpBmgEiEK3aBmP+b4YasPezH8iriG7\n",
              "8AVf87E3WFdcwfR03kLRimcbtxcmLquHpnoTUyFuw3bxgdudpeesVUSZ4XW7WkdEX9wzFm0X+h3E\n",
              "KfIAmSRjEQkfG/LbIHam7btrTanWluYvgJ2GwC4ocdC1BVX+JGhEf6AJdT8HM2U6DvTLkyn8GD+Z\n",
              "gWiN6jVQEwlwvsTZuK3RxDz1s84DbCE2B56IGBotoLkHZ6RKFsW4PlmW/O4G+vNB+BIv8HhW+1Nu\n",
              "xL9FVlj8C6NhOuP655W3+iy+Jr1X9Qhzjw8nWoVoUlBRghQNhxPJZW1rqRieJC3Zyo4pKgpya7SC\n",
              "gKPlNwRN+AHLv2khj5yJY6/nvk73UvR6AiOvXCBWyIZVekbgwNU0MSbHZ5+5Mfk/3hYmGKGbhetm\n",
              "pK4aKqOiCxpQlkWTaRNViZgni42TY3nBuchUFyiylyTcwNu8dORx6zA2Ki2WLrftWvuwobj9z/XC\n",
              "be72yIW9Y9XtFeVWJjOV8Q5Xm1f/ooS/DR05i7J4zzg+8b9T+PtIRASOfiTYeJRxVxGPBQ42aKiO\n",
              "nChM8jXzPp02CnG0elNYkFhcWTXlWKAV+r6QMFs99VTbbMiQZdYPKgU0/8Z5ODkH+PMTEAur1hrG\n",
              "OVzIVr5SJEH0ifzKrh+kzr7fvxH7n/xvtSiqQRj7DF52bZh485+kgKUtnY6Hjc91ZNsZGP3aYjF9\n",
              "GCajWyts3A/ruK37i4XN3S/ELk6ast6v4WnDCNjHJaAkAbCPz6CLYSIJ/qPgy4OCrAeHZWdPCJPL\n",
              "4foYcnxH7IkO9vEZvyOzJkEVmNWQ/kvnMT9FELlhhJbLUEJmgcD0uYdQPK1ZNaFlsXDhOq9qtg/U\n",
              "rp/zYLw7Sj+Vg6R1ERXL7uMQ6rVtp/jyruuQpO/Kf73fOy9fIhHvW0dPaPb6hq3Byif6JGg7Y/oD\n",
              "IaZHXl7llZ2doWzwkdBnFS9/DcPSsLpohnfJgAyO41cXLpibrscbjL6Zy/1ET6LATLWCxd9Pn/QL\n",
              "ujcie5yed1Ws7gZhESPnusRuHENJk8T+NDCNcU4yyeHD00UqY5domsKVoQjGzs0cIoJuD96YsMH7\n",
              "DwUh8e2GSOoKBk83c//YqYEiWqHdGSyk6QXL5/FUABOmv2gXXkZGvR5nIS72AnebgBNJUWGhd9oa\n",
              "UH92Wo0xmJpZb0JPASlQ6ZNezg5DfB2E6xx4IucvToYt9wpnF2reD1ZfyF9mhL1JBmE04yRp0XW4\n",
              "BRnC3bi3r5WrX7DUol4/m4HehnmK718HjUopqZJnF1cE+7WXRWXnmhTiqc1VRPw1eHuzjnLsh6NB\n",
              "HYWj5xjsDZ8CIaE0AVWOi+JO6UKFfphcFa4ndQpq6YXSD05EU8CH/t/+YA1OuTa+CL73GX9NwbRL\n",
              "guCj4Bc+cQBFP0HaesEPhH8F8nBp+YKSK8EQYsFaElELZM9Rn2Oj6KLRk/NC4JMmGtzw3CCLL0uk\n",
              "ylhSHNRYP/7HXcNVuNVvmOZAe820xpF32+UYq9V53aUGJA1i2HP6MEh7lMVVbgDVoUYlZKOwAMMt\n",
              "0An5yIGh75oeFb4hceM0V5kv3b4tnRJz0PsB3tQldQ9j1rmcopFn9zZY4EE02gJbGg85JTj1xwpG\n",
              "ruDCblPswwTzvGhGHne+c50ry9DOKj+k6v/FT9+nE3+j4L4SyUnL7b205Fd0Py7sRzPEu9R4Cx4H\n",
              "VKBvi1mhIKgGTXj/WppXHva92XsCdVEyNcewrCzmMsPhXC9eioefqJzHRz5QAR0UszDk0DLStPTF\n",
              "NvaG9b1z5PofWuLsRrMBE+f4BS7388sVVh1MhcEuSclG/pD+y4BTZsEC/fI+JCYJ5l0ueqxxOjNd\n",
              "wERaK48UfVzyZxGwzosf7Yur6hbqYbMl9Q4U3xdVycA0DlpFUMp1stugdSGHCP4hNc7tCvIJ9Mrd\n",
              "1IjQExrexlQTyepqBdGOP0f0zdMUurUpLP4+J2FJP7j5D3biveTj0P5gF4PlSnxG5ywG4rtoW/Tr\n",
              "xQD5dLiCMHd/6g7zMEG5bzC15Ax+v13Cbv88aD8qpYtJVd2fQdkI/rVlPRgu5daqiJX4+dPyLc9Z\n",
              "OvIvOHfzBwLW2oUhMrcpE8IN0KrUYahTJSPMw1gjJsZ4kr6rfuLzoeNKNHN9t/+v/zxQlf8Pfto2\n",
              "EED+EPZFQ/Dx6QJ9EcobWhY+fCGjCzdAHaGQtqtZ0KEH5QISWxcmI3kpgkNYm7ZfLWOLIFquFEna\n",
              "G0gKNVfs5ggfKWYzYxQqKlR1rw0MN9wm1z9u9cVq7CL8fNdOauhx25ybZ1x1Q7mHYW1VE3ykAJic\n",
              "meS4xTnVW7lfDkuXptVcYLO4XktTF1aEty4Fmce6JTmtccYCnc11fQzs+KB8IdCH+o6je61GmtbS\n",
              "cgd6VNmqw3q8YIGcZoVRvOYpXtWJ8bn1iLI1vcgiYZfyCV0fe9nuDf2im4TNkukKepqsJh3cHeQb\n",
              "Cj/bKGYX4J6owDPoNvkVcA3QVfGC63BYZr1YlUL6PTFWK1WdAS7r9Tvrbrr3arbKTLTrhyTS0R1g\n",
              "1TdmCn/5X+IVT2eRfuQ3g5gGJg6krZ3QhxLpVpvqB42V9UJh85UNQCwR6Hu0QCDOSgq5/dnMxc2G\n",
              "yngKk14/s1JHJkcplJHD+Uge9O+fcr0zegU4Cgv/BaosC6MkTH2k54p5ASnzlWrljJRwe3RbxZBg\n",
              "tBz5RwIzMVUJbOj7c6G6qWwkQ0CdHyS303za15C8agK5vXctDIFxkPuDFXY0EHsXZRMgnOzRc/7X\n",
              "9fT1DAEcXE5l05cAX8DQKSmkJcioMitCXP2VPVMXW9/uMyjPqtfhekCHrs8eAITEe8Am6HM3s9nz\n",
              "2a5f4hyFzJkQV3tgCPgAAAloQZ8tRRUsFP8AAK7g/R6H0MQANUlPGi1WqtFBczJMPdK9SEgYRrz/\n",
              "R+1Dym1yMj/oSkz5HUbyn4n0bGuGGT/RlhM4XTQcwf/IfJilCIChNEVvBcyNOuc5nto6o77zAY1T\n",
              "YuMtSkuagFQRVJv1mxhavZsX4MyiL2lufY43C9iKbgxHCIOhJTfeS4+trkbvZ2ByEqzb13tt4rxA\n",
              "20W98xOs9+lHQv+jARlb3Ln0F6xj0PLuoNAbu79w685TA0Tq4UxCLSxhTrrACKHrwcdP5l2XvZEX\n",
              "9BejUi2Yz/8MIB7yw9GvsEEg2SN06luHmGIOun12lIH719RIr6gVC1IPigkELwqvWDfg6PB0E6Ed\n",
              "G1nw/ug9ThU0EOGRbUhhGRouHr4s1KiTvQYqL8iMEwDpIRYm7ms4f/Cy8iBY6zAfS4zkUaCXQ++f\n",
              "epxZdw87JZl7YdU7sKNEDlS1CAJifLQ4ZQfRvPFUyX7C0rkeufHTuLr9NlMnVa1UQ/0Cl4AGu3Kh\n",
              "uc9AXwcSeocEF6XNgz2KLn+5FbL2qrt0a1HVMMOupql9qSRPVD1Lq2jCIZyLlCLI5PerpUuhsnkb\n",
              "tGb1yLa2B3mg4uc0az4BzppN01/ZCx2Uq0FyY71m0g68X2O41cuugAvvPwXkicdmMQW2GGsEOYWb\n",
              "MrDg4iFfV0xwFVmQ6Wz9RBEmoJKmqQz1SCxUtURZfYBYV1dYEHimpzdW+YBgqUY+UlnMu8OlSzVn\n",
              "SGAgtlmlD+RM+IAZxxufBI7AWBQLeJ87U+HG39451t8Lx/N7aGG3LNby5OcTXmYpnKvqQK6pTW7O\n",
              "0yDXAGZZ97OAuWa4elrlB9Q9eZooHLgV7uOGWkt6n31F/C4GV4WxOwinpPk3EObgx3AImMI4xT5A\n",
              "lmERZIv8ZOUKX3Yqu1dv9LJOQrsH73il42SDIvnpmH3fdRXfB0Cs22xkBkIe/yAtGy14nTh+VFje\n",
              "L0HXZRlahi4b+45MvjGViFoOaDEL+Ac9W+FYtwY3VP5WzJ/ml7F3HTJu609Azwzk76sBO6pQJ0es\n",
              "CeKgGpVItQ11Ct8qmkHIs1S6msptrIV5WoqqTWprB9u5dvAennr6nliMqEw8K5Xfoeuw53fsxoua\n",
              "D7NaJ/MsJQQO6D43IT03XqDItkmLs0Z0Yx1fj+AUIuCcxtpvtFju1g5ySejl0X6BKH1zqAPpL6et\n",
              "hHTql1jGIcFhcDYvRMxqGKhTyZDzfZBIhXtYVyUHUnXT6Xi3AAov4nJSbRevwTeR7dnB032LGbX8\n",
              "1aFZqT6A/Oyjxgexmq/+8N0778qpsZdNzAzS2UyDYRcbdWOR6db9bQmtStOyYlOPZoeWmr/wMEhr\n",
              "AUUyYcvlwXh7X0rLf+GUVncoifzFcHbHG87Nhlp8/vNE30uxl/v+i2r1vrh9nWjWmjR7XAvhvfNA\n",
              "XGQEuU35KnI0YSLLXHVfnbOtk92jt4WInxaNaQanUn1kPmBBBjbi8o/f/Lj0CdGCEi+aYGBLSpWI\n",
              "g33jmiWpJbAN9+t2jTziWPDkC1MAhBN/dZIQ6zoRweZxO2WMze1se7ekkji7OrgRGEpsNKhZGVGh\n",
              "91ZFfUapM82SyIZfsd5MocBGXzVbwUVUCJ2nCJ8FOqcjo7q0ESJp/gpPyaBmrBugd9IHfS6eDhp8\n",
              "1moqncSnyOriG4h1g86ERehx7QevrMoC+U27Btd39VIIBSlS9AwSb3VEWs5EktSJcgqfq4Ne0j19\n",
              "HIC0WH302doyZr8hRFBd0hBg/6YAMvSWFvFSFr+TXRQIafIoqlYQmEz8BZOycO4wXfa9UGUw+Ewc\n",
              "fzmi1drQZCGFeJViyOtRm5PxRrgfMftiwavlkZ/k9IxCwI1Kpg/ZBcIowONG0lHII3o+/vP6Gsh1\n",
              "Td5plWG6BBPAGQlqaMqVoxCeSw/EyE199D9JgJLHVL6PHkW8nA4ID56tYu1GjMrII9rkDsc5/wBl\n",
              "Ea89xNSFXAAamfHOe6eoNif6WPIZgbYW8Dk/3Rw/CtmaHpFnpvbQf7Dbbe1B3x9PQwquGJrDeEfX\n",
              "xSz7/mnO7asAPmSc/7X0Tf2xdyK0khCVEESlRors1a2Tp/Rvt0RIp6X0Sx5HKeSbJJ7O0KvpS/kV\n",
              "xJVAs0OM8MZGL3Lqgm1fGG2AQLTQJmX+3s3FlffNm8eK55Ey9imqSa8pv1lSvCHsoOs1YjYXEKGV\n",
              "zHsochouWs7zi/FdvbUJrQ4a94YLC4KdYZOGMlTDaM90bp/gFN1WEjytFg6oWRhgXorYI2sWN51g\n",
              "4kRCOuXqBUKRpXMELK4RF2RVbLRkHT0x6Hh3zbjI4+HdSo+G9mxttqoRyIDb2saEulHgkFMmL4qA\n",
              "k2mJXQSDJi6s8FSuWB+HumqkKSlxcWAKyDwGssohAH0edoml4IV7f/iqaAT3O8rgJIMgmW5GWriT\n",
              "qaEREqQCVmKCxOGJUy4yhkPcBoC5YjuyRrEOFPMqj2u/4d1Zgo7hEHS/Xjb8T4KJiHBGvP/K/xhp\n",
              "kysHLkppohIfhIgGYYvreMcn2OLKpkPwIUP5JMraj+K5DjtuNq0Z44Pt+jAqfTzsSfs0W8lKH4Lx\n",
              "n9XSgYTB/IKfhQWOZErRK7/A9IhO4R6vRbBIzKWhA22TWnPYx5xxyqR8CnPRPVHQritDf3HiK/V2\n",
              "1/C6xB3ZQxmVpGsXtKvrQwKH+FzgYSX1buL1ngK0CvkhGG6HqKt/TuutIaMuO2cfY0iNI47d7e7s\n",
              "lN1354xVL7YtPhCrtetm7lwspMBmcQNQbqmZmMcON/7REvCBAY5O3+Z5UhM0eSIHqIP8MjeotdG2\n",
              "fnIxGqpYrkvckJjsVhh1B4IvbIbDo3+vC5ku+3hTSedHBjkvmpQTj7f80hR6c+OfgLlPjlH/RVgE\n",
              "fr7ERTGNOjI9e1B4zS77MAP4+1fB0b+mkTe/p8GAbrKerMypkeJv0jm5WJ1HJMA5KSljeT5M862d\n",
              "vqpeI4avSTAIN8Bl8bATbltaKn752a5zSqFIi1Ec/1InaJgCBRZ+2z26bYgs/HTgboNHa92awz0I\n",
              "ekvHL+M0CGFgAAI5H6Xmr9Ol0aT+hyPJ6g7whg84Ryk4gef68uhePRimdINgUdLl/Q0WrtebVpw5\n",
              "P0b0N3lkADd2NtgV2ngZvQjLMPkqzOKC2wA3s03JFbSBMW4dpNp4+V5Lt0AUkIjrzsGAGV/VMnsC\n",
              "dt7yzrUg+VlFBUApxAaCuGATSUDTtWLI3IiCAlNkZ8EAAATuAZ9MdEEvAAHlUoM5NgqJOvp/CAAQ\n",
              "nm2YO/kh2LUTOXiKWuZLmEhyG05DrFqPs56/Jy3YtsdxM2jdYA63ldQzX4E9A/GgNgtJAvbcx5RV\n",
              "BDdFhaMq/unRsY35HR4SRx8NGoJhFqbikJu0mMdYwusb0PHSfY3tLEVHyYLTVYseZqHw0H/7ww+G\n",
              "mxmX9BTMozq5EUm1g/MAEM3V2D1oM8pyFVB9lzur1kBp6+NIUKBp4V5rjzOcDyqB6nWGveLK+Gy4\n",
              "O/3bDL27e7YfnsBrZV2NbMfX8lzl19O7ShxzCFV5xgKyUvYSsv4cpDdnXaziq3e5c5PEj+VFX1Fj\n",
              "qi2gTFqVij3lhfAvjbXhl1vqv4eqThKqNABraO5Yh6na6OQKQeaKWDGgRmq57uvz3FhyUNwGXYmN\n",
              "2T0LAgj/cx4J+IjCkCCP9lYiWFbFBbP1Lm0bkTfsaB0Yi6n2+Wx5UxdI83DFmVIr5ZN0xIqgmc5h\n",
              "XS7UAnFE1b/Tk0hpI2nwuqyHB/qgE6fKJFGRfgxE90hOZXWGyIPlKU8YfqosFDhJcXay0Wc7G7OC\n",
              "lryz1GoR8TCjx+Pu+RpGf66ku9EZu9ob9bWuvPURxh2DY2vyGIIoURRBsltQegdH5Bo/i4i3HYAR\n",
              "Asc/Kn0ipowvc9Kcm84MakVhl+pgwp+H9ZfUYOwsn24vrMvyususjN0oaliL8Ac64rxF6gwOUlKm\n",
              "FJiuiTGQU2X1JAzgVgFAysTZE5gCs+b99LZyl5GM+FHSALgXWwL4wiN/dEVr2cXL3fai+Z87d80V\n",
              "nBKMUSxoeI3y/6V1hsOJyR4T8MOR5MznMPV/iT/9RhP7/vi6EWoorRzSKdeKdSxrne/Fz8xT3pzM\n",
              "1tvVuLsbWFrvanLAg+LQ+rrRsJLyUi1uTldkalGhMB65tJ7bAWUGL1KFjysHIttttlsdpdwsVvIE\n",
              "4gqhm+yiJ5lVEaUzuRZmBwLlUfPCsWsm4OWE81KDktu7LTpWu3XNk5i/f4gD51yqwTKU6GWWqXjk\n",
              "udyWZR2fvAcmUkoFtCnds54MXRAyty4wfWWeTD4Uy0M7BrInkA034HKAKzFgTDjh/pbvvEaq7mxF\n",
              "z6kTrc++jwxt9vhbAfskgWMPC6JxfTpudDL6LWmJOQnTXDhMiZtJxX1k0bNhxVO4dPT+gEyLKKEu\n",
              "AIaKfYQ0wXE/dG+pcXHkEsFPJ7Sf81dEb0rQ484SYXltYyRzhtCZdsGZc6dj/t6KTv1DD/dXWQuq\n",
              "FlbOKKtmqqSimk4BpnG3uLYsGFcGZ0Sx2GtVLXdKmQL9FchuCNMhkLdfnqgvLkG+ASlOW5bl9hXe\n",
              "YTrrITCsZg7A0znvHNrOvO6Ict/0x2+gOCRRkQ4OBJMcsRy1VpmqGLo3ji+JvYM+22gI940ntiIo\n",
              "11uIrIo7NkY0MPgUMnY4RQ+tHZgqzZNVDDcoOKQKb0vdOjWHbnr6UG1Aut0JWX+eFSVbwTAs3HxP\n",
              "UcHpRuamImvtLDNk2MrOFXcCfMLYjCnln3K2kdQRV1yvb5OscULimdKf7ZAjtJomNg0TwOzxwNMa\n",
              "KTyTdIb3fQjYjUqJnRUN1uHaavcQNVtHPy7Co2ewNZuKcHs8u6LKwUg8gPH+XKqIKlxwuyglrixy\n",
              "QuwY+mKak920t+0DHGqgep1m5bTBLK65bnpuV8vXQqrgxEOZqw+iCLNkDNkAAAabAZ9OakEvAAHl\n",
              "S7RjbbThg7LMkAEOrcj+FgwquzWS5NgcWzxvB0zKs7MZfJ6aDbkRwq5rz8TMsmZvZFBXeLYP0sV0\n",
              "5Pa7p7VLtGnKHiatwiMEMbtYYQ0+N4vTk7/00TEqPPUwV4TZatXJ7ZfzxY3JdX3U3qAeGua7bjdR\n",
              "6YNE0lIqKhkO93oes5cz1b8MeGDhJq/P/zRpXK5KzMNj1hvKtSgakisa4kxYabYGCLhKYpwHAypF\n",
              "CZbrQP+3aMOjAqmXaGYf+l792JgSzuEM5WsGOia0jyQc+XB5mYJ+rolhSCRZNt3ke7Xw+SUwQu/i\n",
              "AT8X+dWiQ5bquoeyAL1oTQnYtsiSPUGfrHMqfp8oPhT7zTLgaJ0rORwftvhzZB3MGyock+r0Bjmz\n",
              "+btLkpjTDAPS8+PR2FatZUcSGV1VDuQSECNeadwqRrXztOdB/7weq1YwSrccrOv0ekDQDssMx6Sv\n",
              "T9Y21rdBOlHnoeDW8M7QDTwphTUYpTOtYzMF1QQQ7H9KwDw3gTzEMqStroWKw+BbWL7dp1noxLdv\n",
              "jxbdknjINtn5SQirozBZZlgogdMUdPoBUyJf+oSmZvyZnhJTNlRSQ43siojwtVJyqgKxZvT+oZxm\n",
              "0rn86yrLmgENCF04MKKB3uuAYRWrDb7gwIxvFvfLEwF0hS97YCw6JaktJ+Z3MEu4xDfHbH3qZFlR\n",
              "G8l14TPQKSXi//y7N3wvTb8fuacZ6vgcuO4gQJO5pWlV3qSmzBNxF6wSyM6+CG2G4/IIUHsqgjGa\n",
              "U8YaWg+ddAUdzt54LqSWNTbA2Mi03BJXsF/wqlCZcg4t4zDTCyKYegS3LugIp2TjbW1RLBWOBNjM\n",
              "l4rwrvp3hkJ4M7zXEry8syepmKkAn1el/TcTm2G8nutER/HI4fXwe6spWsNB+BKf3yyIKjlO9Xr/\n",
              "MkfXUkbngUpzr4i7WG7Fpf6FI9+Fq+waw4h+uoASN8YJeOAblBQIuyAxfFjwWMYplQdVMuaUoXtk\n",
              "gdV5Tr6g7zKsn44FyD0y7IoxQ8pzkSFnAkjAshN52CU4VkO4FAQ+OTvPl5vlrXoY1Ha212Se6bqu\n",
              "p55zCOnag9RJEpspb5PfWDvAZ58+13kNleBUdA/y/8YVHQurp12KvOxfzysasyoIO0SD30cOC5z9\n",
              "fpdbPUd4SmsZPugvMtvfAmSCEklRpWAlKzV586TxK4rsbYfFF2r1y+Y7I0V3moXXo0FWVDFDv1oG\n",
              "IaedcaD4EqQ2zmYAJFGsjgfSPt+J5MVOAjl0CqNGrXtjTahO5HKoW3xKy6cJmZ0os2Ymw+Ce3t0p\n",
              "uBloOrGV88xQC0B/QXhhxV/p5qAwKcbfN2+Du0xbtfaYKIYyKAM4rfbqbIIH6i7mHOpT8tNea7eF\n",
              "eWi0s+rX0EE//3LNp3HSyNS2NRU/x+u9CWUk0xitpkH4QTqjFFLxDjGLE+nph4ndurvvwsqJf9jq\n",
              "5B/P3KFvUbrCW6wbkrT44Yt8rvfNCnI3L21Ks9q62JxipZ7OHrUrC4snCLFueTY1W/rftJykNZca\n",
              "Rier2WuI2jAwW0twD5n/6/welWnTr3CdX8EJA2QyxuXRAuemNXS4S/C1f5+doPSR46b70BbOFiFg\n",
              "1cwHSe2imtkSUZ0EUnVlnZ9zCNW5dalSURD3i4uBWjTgoV120JVs8pbQ/M9ko+oWy6owsnyNHIUb\n",
              "golHWRIWIEh0R3k++jiVZAFQnJcQaMRtq1WXJRHoxoIal9mwbS7CNpbwcRVB5Eo3STOgMpXijy7d\n",
              "8t+WHXboSAOwKS+T0Q7/jaSEBa3AuVZW//oBDY7quZHCO4I1QvJMrQgfrf5Sx5C5XEbc5niAOwt8\n",
              "nRYpNQPInEYajNvIyhpkiPMwefO/u+KtBiU6dP/XcHBqeQgwfrReh41tP9qzkxpm5bPuodG9aeuN\n",
              "F0cBUkdJ1Zksafrav+/QK1ff7zEMWaNQBtCcBuHSHZ8hrEseoH9XD4VzSc2WAqxWxT39/E+p7V+d\n",
              "NJHqxf5uNReD7mtIWQx9y5QwlB8d2yo9pKfVpE+qeG46YF0sY0Whs49uHE75AvyRXzxBtUwtkYOe\n",
              "H7o/TWGXbkL2SK1kW7a/Y5OC6p8dFBUtvO45wnZcXg324vKbFE5j3ypfDlWLLwZd/RfG1VeFPh5t\n",
              "CNCBcb85QvmdhA4s5B+YzhdO1unr0uOcYo60EY/aHQdH1iQX7xFKg+XtcdvJU3K7PUXcMbCbr9OP\n",
              "bUPUf9db9neyzRzEIsA9c6+rM48Rj3u6BYWyCukAAAYWQZtRSahBbJlMFEwW//7WpVAAfNRCOaTW\n",
              "qtBpMAArAAA3yN4YfafxU02tbI92XFUKKUqv8LiM6ixJO4rihNTK77EOMAkQVFcyis3fGZTHBfup\n",
              "XPDNhnX8QiEpy6jL9WJ5pkEOCt0+8c5truAriJplDRtRM1ATqG6O0Y4y7xaKxRIplHbkBumKDp7r\n",
              "9bSsVn4s3w32nHaxiU4h5jRr2zGyo5FyFzRqj08J2msHlvp0KK0PXeHynql27qtvwhlpRI8RSRBo\n",
              "SkDXOUjN7c+Vhy+0QwZfvofsXDswlH3nt6+IgkC2CqnLGoUv7A0XjQjLSgcXbbO0/GfE+bILTNYU\n",
              "I7AIqzSFbBhXd8XAwpk9Plj5P0WcAxYNIToiOqEB7UF6Xci35lka4ulPAol/mp6sm52RAgCvCSx0\n",
              "//syy0R3Oy1qfdsFNEKhuASqdf6Nmr+IzAKOU7YdzZDBXB8uleoaBar3kfS0NnU16nfPAcn6GO0w\n",
              "ljGIK1YUdu7jsxOSPHQad48qleCnAh9Iqxa+JjOZiCj/T+RbmhvF9WVz/Sw58pzFP/wFfCcle1Ee\n",
              "kEU2S10HKfwedhIxUSDMsLq5XaH5Vb+lJQVUeZPqCzp++qKo4tWYt/gdRyZg+Nu8ESeZ9HAHbG5s\n",
              "chEs+AkIihbMpMovisiKABFImunLaIegol+NexunpG2MvAIgf5oTP00Qksu7Aes99dLfMHrMknAK\n",
              "kX50ftIqk/CUnbbKDXysig5xmCB1ZXUMDP60whA0DKazMnHUGwirCo2PJtHHPgH6BJKCUfuyAetP\n",
              "EW8rPKl83XeWPBQmWIF4lyLcnA20dgg6MAk4JAMXG210X3R8kdtEq1y4p23QY+INQrTbyIZlnoZt\n",
              "/5c3Cd1RLfytxSiewOFUyW1Uq1q82p0Z72HxJKXLBGtHVPj3yuCWJlaUl/KeGdCVe6VZz5lijea2\n",
              "Z5pIJYbFrgCD40EgTESRYNEYnidBsykUldxXeYPSeM3tsYAt45s2XGpS15DbnIHX+1QXNTxmmAbM\n",
              "+f4OwUnKrJ5jDqhw80L6NNTW9vhBnNnfp13vdqE6/jaUlo0RW+dRA3oJGb2NG9Zrj3MXqoF7ZQWs\n",
              "jK4/okiI9HOIUohPfY/+Nn/k8+Rklx4IBxV+IesKB7Lzh5MW13b5Q0OZPy32Z/ZmmZtPdpWe1uw8\n",
              "DJS0Ge+zu7hXsrEfAoOVjbZL8PthKUY9bQgJVFyQuePX2MRrZAuOUxdiN0ViSL6VmFusAZT/q554\n",
              "Lq78iWnKDWat0tFSB31SjUIObIbY6cjWEcR3+Jbir5sCq1WVPUp1asyqeycWZMTNsBw1ES2QN8wu\n",
              "C2yTCFS+5GV7hxQE973GtDlA6kpjorbAud7twk4R2fqHmUrHGzxA/kxCz0gyaNOWFtShtjykHXVz\n",
              "1wgJe0cO3zSPuI6LoUUujFj46F3L/SZm17d3gMX/rUd+rZiq4RiSpO2mC9q6Ntzs47RDWW5NiYEV\n",
              "Tce5uE7aGTJVTCqVbj/Do9vVXcLIo7ihI/+Ty6oQLm89O7DQcx7PneFvhJsOOzqU4TviW0mLt3YM\n",
              "kNgBmYk1LghsUZNuDBcq+z5a9paPxReaAA2QKgNwcOOW8rdPTEOChP9IS8LBjXSl39hfA0c6TuGx\n",
              "JebJAQGX5sQg4fiwcIX/tRv9Hbuaci2GhGac+e1saLSKoV5lXgqRTZR8IIDN/6g8cX6D81bNnV9Z\n",
              "4y9FJ0Qs1pOcfbN4t8B+NKWh+iSbxg9w0c11LDDABokSqIWODdGilKZWOgzzONTOzhLdo6Pr5e2U\n",
              "ajOcgKtbaaroqEJMfn2NRP9xYN4hx1dgVk5oYJKFx+d6/uXXw+dd2ZoztziIDaAWgzGS2OHW+fXc\n",
              "HoagwjTSyv1ajbrMtI3kGtnFfvUxTU/aN61sVA0p13cUeZbntHnf00jC/PWfDVu6KO800Em2bAhV\n",
              "qKB3/xKt3fkj5pZBeAsQ+JPx3Gm08u36/+YgneAbMUkJDPvB5N9doLfC+8VXYnNZHzWTMFmDWJbY\n",
              "vqzlUZ7dcqH5BeiDEvRDmc38FHLPXnHbhLRtk+xBVIwigVvIOjiNlsjjAgi52re1R2MVEAAACD8B\n",
              "n3BqQS8AAeVyQYjxk8MAgAIRQlAu2zWCJjuhKzGQ1UYOfkGRDSr46ZLspsqG2ffUSHSDMnG1P9o2\n",
              "k4hBChHCOnypbaBrLSDXApXse5Uo+zs3LtmIhlmOH4h0ytrO61gl8jvsoGXQo9422KAT+mhNl2Pn\n",
              "Eji4ofrGjwm7kaPGP9P4Gp5+MggfIaGO4wy9ov9iKpNKOao2ZL7pgaD61TAGyBNeXeKV9EYlHald\n",
              "f1heaiG8Dpj5THHh1Ta4bPOeOHBoQFsvgyfdhvHQiDCxwPuBp+SoFGzPkl1e+yrrk2h5aMhfI39l\n",
              "bKs3vo7zZyzdu/+Fd0EV4aRYiCcUAgOQXT7Hry3AdQicM8PPAhrPYAD+YOHqgs/6yCFyG7ruZd2K\n",
              "Bff4drARUt+QEZkuSzCXkf2nhNBC7kBPxBOdcxjMc1IOsb+UNunKz/uG4MaeuIaWQ4Xv9bUjEaUX\n",
              "VBdAgLgsA5LYzmOMv4wA3gZtQUkDSbB4Av/V6AjBeqEh8f4p5krqP0l+nzz/dgHcSnGYrhLTH4De\n",
              "qhRp4jdqebg72tlAYAaDUu5PPWd1jppT70/uJ0+OZsmE43MsLl3J56zQDRIgmd5ZLqNkwcVCZuLA\n",
              "DDECd+XoTXrbNU56wTXkmVnD4l45Ldwbef2xITbuZtNUp51NPUN3ziMPc1w/QnKO289wxYz5XAsg\n",
              "nab63378Ta5C/VxwuzdTD3TIUaLMd4qB+RH1X204ZDmTyaCDNh5jWTbU4ld+fZWR16eu+buyEcdl\n",
              "3bLj/W3aTj1RcZwOMJ7UwV7vS2PN6ieTSHkO0F748Z+esJt4AAMHu7rpmej/meEI0k8U3vbwNg0/\n",
              "hOfy7C1mw4uYTBWKEYP82RmO+AEXFsvIR5yRA1w0R8Zr7cUhUKA0LEsot3gSzuwpEqJbBPYw4NG/\n",
              "v3fpAXF3mVxeP+J5MB90aI9/v3VyA8rTzkH2DhG/y5VEaGOvaoyHjKTVhSvNcqVmlvPXIJCi0J+R\n",
              "OnsYhwviZ4fC0XvLI6oKRgf+/WuKmq3NZAkI1tGav4pmpB7Hrn6WxXbSq016t3fdc8+cweANRyyO\n",
              "fO6moda+rjlCSWVHDRQAH3+lD3+43zPpJHuWwVpimPjy2UvnV/zEypekKX7kLZfP3NgDEBxua8VI\n",
              "mdF+93WZzCSGzXaknkeObp6vQ+GHj4qFMz2aZtFfrvojIcmEBfFsSeIdeNff6tTj57ShJKRedUDJ\n",
              "HU2mDSVQo+HCtewvHZGCcF5GPl9AFbvZavcnIQP38cOt3cDfSHaYI/Z1n8+/2ZSRTrXFGAsn4QRF\n",
              "WTm4K6af3IdU6eKZw8NJ5oixy6vK8ZuEMSREUzwru2Qk/U8EZPjU2YYoJ7u1QFcjbksSrCK4VCp4\n",
              "yy07p3waA7aK3WF9bsHGIciyQruTDQ5eQ3lJUyBnNpcX4uxnE8sSBG7sN+YhHRNTaGg0wd4Jqgaw\n",
              "5qBUJdmQ+3liFMdH8ahtHfiQ6klLpAmu95gPVPUp/KiKa3eu3Xrb3ov4bba8SgrmTnj+j9aogb9K\n",
              "qEp/pDefk/HyZq1TXrTitnVfulf+fdi/muSvQG17jGlUSfwv6dxTU+n/pjKIURPuGi0ZEhdymMFK\n",
              "iYdJAvn0R/ZbSsAPPWXLb1nZ+EoVlkfRNVu/KLilKgSmaHkhADvsMB0XdVCN6mWpvYIs3kHFkcKE\n",
              "8KBfS2g5WsvgNUpERjjQVnJ3xpUDDbZGsmCi4WPJpmTf22A1S7L5jKTOWmvHv31eEGUmH5XPV/lR\n",
              "+PmUsYyX3ydZQfcsXVJLuyZSxyhk6bv0Hd9xkBBc5i3xUEmZd7JDP3JXRV2/cCqvCt7fa36qJCHL\n",
              "7TWktT7xWVdXEQKJT0hmLt11s4+G0zxVaqYFtpHUlXGWt0xpxuI39IsN/EIckMlc/HPcudq/ueZi\n",
              "jeh94AA4rugJ3aYtVDUX2bAwBIWSVeTExydsuXf+7F4TMc0GNl4BtGYAMMlIzI1hpInuv0AvZJ8r\n",
              "V4SU9ijfcv+KsU10YBINUFRq4M9vyZxNYW+w4pVJuXlAgamx3OW74EWFl+nF7095WJRswEWMbaRW\n",
              "ZTE9pdq1oJ3NL/LdLJx/p4q6WVhIuhGtne0KxUHiKPn5c8ubDLbWGxAQrwtM0j8L838yOSPpGqSv\n",
              "kWg5sQRx/6M+hDZ7xZ7gf0rVfcxE4nDZb5lBYZDvgL6GC+/63JoN+faDvbCfFkXdaFK5hPENxc6q\n",
              "koTr1umyicHFux10rICmW51zN6j4TGtnuwqJ4ikcyKYdJptVvfGCjI0fOFPXC5457pJk3l7lGlfx\n",
              "e3EOHfYMOYvgqdS5SfvE5TnfXEzdhiV7Bbnrz8T+2FyfgKTMf8QVtayjfjh/GVG0/qTFKLrJGStc\n",
              "PYR4wG+UL7eI4aTQQvo2ArA9i5Jx3ktnXLOEk4TXhckVsg9Ps0Tdy88uk8cNwkMsXASt8dm3zXiB\n",
              "+loNV19cnmKKd3FCy3x5uxEoPTRDH9yZwjGNiKLGb/pUZ3WvuM9DzXPpE+RqimOgn+9C5RbUjZzD\n",
              "qj4iGpS9e92ZkHPyw6kDKwKyCbxpUZ21MIzZge5WUXHSruPcgdzmPYvfThiXf6LBXr5RCAymLNAx\n",
              "R80e6PI8dMNm4lrZLerIAjtiVb94TQQ3DLqt5XFLC1DsDI2M1XdR/NV/XJZoPKIT5uTA2laUFvot\n",
              "AVBCbmVM7LedpdWAXvIM2GCChAB6bIf8DnXPrXcITqp6CI7ixZS9lNYTX/rdov1PGZFQU7mmyMjY\n",
              "KcnF79g8F57lzJi+rMNADaByH/wYM+P/DLWI/Jr4F85oNEe7i5JD/uR8L2GrQPFjffedwEGweuY/\n",
              "wAAAA6pBm3NJ4QpSZTBSwW/+1qVQAH0Y9sCACy6bMaJnKorJb4HHO0bNQZb4Y+5a2cxcLh6Wka2i\n",
              "+5vdK/UBzZZ/fQSGwe3zkhfUrA4lbGXOGzEQ7uUM8XcEcKnwFZz3nQdfef+yvc/PpahyjYiO15S9\n",
              "M4yiKBYKv4W69eo6DEk1rk7fyLulAPh78+fu79+PFZKZAzV2k5OlG0b7H3gDPZOrNmeAOKdRmF6z\n",
              "Acpyqtbh3Zv507tLS2FfBd7OiX9C0ue1MTh9p5pbsRQ9BRrKZhd4dMTQkbN2imyiufJMkrzK85Yf\n",
              "a/d7DO8ufKXTUAL/Z2n4k36aHbegFfM+amaZRf118/gMsFBpJO0ClnB6qE6wUrlRjUVxazPp+dy+\n",
              "IcWXY6js5K0BOsR3NQB3OYb0IVR46FHS2ZBuD/0ZBeVl7k7oEIMhikKgiHVfSE6bCAvQXW7fav3k\n",
              "nnT+DCLvqB8Zak9IHNMSLOZTwQGpb8fQ0nKFT8D9ZbY3caf8dmzv4WYvKIDqhMDFFXQn7OE/yGQn\n",
              "OsoDeyqtOSFjdGmrIwhMzKzKkYRKbj+NF+morxlxKYjlinKQqVfkmGn0oagIIjp6X7C+w3C6r/EA\n",
              "qZnVZbffcpwY9Z3379XBQwI7BsNwjRlF2TtO+r8gG9gVoHh23DlJF1VwaRKksJeiOddBrdsF9FZ4\n",
              "5MWm+XxGf1ax2w6XQaoGuH7XC5FGCclE3WA0juIfPYY6Ahb2FPZBR+xy68cX4pU+Y1T48gyA55RB\n",
              "oYWiWH7nu7yChtW4A0J/Z3FSL2TASwj4bKDoPapnHRoulPxCunGfMabtLXFDhGXD1rUCEsVM0e34\n",
              "okRsL+YsyD/AY1kIAHkoUYVESPE36LWQLPHmYMoP9W8HfDRdKL2UJbhK6DvHyx8LCNU6bCwZwGs7\n",
              "om8Jm+BkatV5bQ+FGf5vRSGE4IAtKUsDORPh4F1aGky21eGWa3tqxAJXcr1tMQ8Qx7JU+C6bknMW\n",
              "tO+7hYpCMxYIdCYBWopEKIg2zm2Yh4ukTzQzn8pleOYaLrr+IzeLJMHJxEybgO+0qLylj/dlp0F7\n",
              "2ZqEY2Mx1aW04vfeLa3FMfUFr4hDZm1XppWxlmVMytwRq3w+NndnRkw5POPHCb3LHVQGt1t0g9Pj\n",
              "zVZ6z71iVm1OoSHQBNcW7701QW63m84Ottha1fTctXqgO1oB0v+4l68393sU3U3vi1TXkEEmEV4a\n",
              "V1Gq1b+i06zrsUNwoyQDazPfe6x9HdeAozI2hMnm6QAAAUQBn5JqQS8AAeDe7np++0zouGkGegA2\n",
              "WHJA9NaynSh8BRbBY/fBMAfmNMc50oMYvRjzDgPz6Q2UHOMPbSYDxJR7QMaL0t+O8lM4ChRilt2C\n",
              "Ug9sbfQPnXi95plv1HKCyr8UyCOYKhE0CYPC7rSIUWzVXYJn7oLpY9chG2ybW3nD6/ganFZZD9VQ\n",
              "8ra/jaHtP8OVlTs9OFp0thnjMQVlYtve2ElDbTGuhRLiEGH+gmnIJLFWh0GvWWEcU57OrZ/Dm9qR\n",
              "MUtKXrp/kS6GUM9egFOe7547pwMUN+/PZvmdh4NsI9rmqZcRAMww1Rz8LM0g5RQ35YdKpjPjXF2u\n",
              "Bt8YjVTjkC4z9pl9n+6v8iAM3igk9Rgjl8+sGNncp786JZImFe7eKADQHJkSrbWP9lYbxL0YF5ge\n",
              "a+5jjmlCFyKt5Wc/pQ9AATMAAAmmQZuVSeEOiZTBRMFv/talUAB6ZohoAEuZqWvQmzc8zz27dy3Y\n",
              "GWE+B2M9X8fUD6bHKJ6PTQcRYXkkDnqeu1JjoXUEay1aK3ctMLfrzkBW+RwG4MNv4CxxM+p9xm5E\n",
              "HFxokwb8tIT9x8ppeZK7Woj6JetwpxC6BVx4fPcrYk839NHaQCVIaIMac+jNXM74UnINw9PNUN3z\n",
              "P9mwK/14u0B3BQSabggQbH4sAP/Pmwu1SMFH1VkpXCPyjeOvJWj1ppEqfgv0wVDYhPd39PHYd4pL\n",
              "Hvqmv4hBJq/tEDFGsRW4rxgpFAKTEkwmoyfv3wvybB/+SaiI7fsv5P7l1m/zlk3g22FfakqwClxb\n",
              "loHyC6Xlf2W+IaUH+aPQqe3CnGxBa7HpeGdHOd+hThnlZQ/2srrfE193RZ/8ED/EF2hwGfllvyoI\n",
              "hVrjgqdVgqtwLyNOUSejmZsbxbbixgrsS39ULlqCyLBGLVTlqC8oO8dakqwVqVR1CT3WhI3k+q9A\n",
              "zZo3F2WVxhuWgcIgJgz0ryunoXf2bbgdCwr+oz+5yL5qgseqywv2C+7jQNxDYaaqWkw7JuxnQ3Ui\n",
              "6g2dgLijUESSUqX8YluJ5+09n14leoGRWWuA8Xv073Lwt8xPYD0pAAbqmOJFyjm7+LRXVRqAjWfH\n",
              "BbYOTeeeTdMf4fykzY1d4lb7bHZYaoHzELpnXf/d2wYS6TUsW6b6pGU/lu9dM1ULmLldyrUeVYoB\n",
              "PDat2g6Ea5nrUV2AK8gbqO+ZxZ043uEXBBNkb8qoBoiJ8Ok9f5nn3kZ/sIbuCef+RmB7gHtNnW3b\n",
              "iW7yFhp4Td0J9De46wWmaPmotkPywU+BZFNTvX5zEPjqHRw85DZKCXpm6MRSTXbv1LjYFUZ49MQR\n",
              "Nzz7cjT1gwA7PqyWBXt+xCmBnmacpbIUckbGQYlFoMVXeyqnv3mqPLfiBxsgUjdTH4jzb+gXAGqw\n",
              "a+ahc4tKsBiv8iNt4Tj+NqpztOiRjVxhX6PzzwE3M8RPTV0kzjE21yYUl7X3JzvY6HttxWJJKAb0\n",
              "7/OK4M8I5XNaFIcNip5Pin1GmtQscqREBcJsAj3l1QzM5+4ZQvKJ04V+NE2WkwBX9VQsuQtQf/GL\n",
              "jjiqEKNj0znDlQVI1IFu+b6Cb7TRGl2y71y1pTokuDzRovTt26sNNLZV27mucUucYdJHaah6AgoP\n",
              "wQhbdwM2wtMsp2LOFZ6AB9LBggCcKrOZnkgUz/4NdMAIueDmPY+SIdELLPOaPMFwi8XRVP+zJdov\n",
              "ZvOv4lXiGU56dXRBHoGHiQIL+HtQPsRYibWfAgn6Q5HVNi4JnrFcUdhPe4uqDVp8RKmInHft6v/5\n",
              "xlcScPtIzwFsZn3XiDVUTwYueH+AgQAdHrjlEPkHCeIfl3dhGD8qrqBVRuQ300Rt1l8KP6MgqXgE\n",
              "vQgRVv8zAGv9XaBGHB+3sMPN5Xma7JaB/eKwNHtuII86NX2N5CIod7dTR1VWurnAT10s+11GHUKU\n",
              "n3lUPO0lTnCw9IrO+AJNmHgfAc8M9FDPCwbQ8K6wjcO6LF1Np2oC1YCVOAJnKR7Ujs+HEI+3k3p8\n",
              "gq/rzsQTsNvN1RJL3peoO8EQuSuiqWy+fvRJN4wTXeSrjFlA9l6dHP/BWecnB9rn2fgh23peDDIZ\n",
              "lWLpiCU8Y1mQX9oS7OEFftiOnVLq5NXXsggguIKIsZvFpcWWgmevruznD/Wbz0sGnVips/VIKXg4\n",
              "oU+dM4Mk+lM6Oxbth9C6wxxUiGzjwjsZ0Kx/XAAmTVYlmBTrm5tDqQgTzl3pSQLJa0sXzRrRurMs\n",
              "drI0VfjArl17Xuy3kNwP+FIc0V3JKdfhNIspyLbELP/RVs0Cfe3MNlfyW00WmC5kljbji3FuLCYN\n",
              "obwER6mV4AR0+0Zj7rdrLBOq3zTB9LrBu4S31ywQNuAlgu3jENmsOUlMkltOhuGQSAx15z1Vaey8\n",
              "q5B+UJfkft9mbvTZcvnT3bsx1FHMbgb6FYZYfRNAcssbHFfUmFH2czoUKAR+rJZ+qmt44hs6HOwv\n",
              "fCanq5zczaAmrQLteus62araeIMj78cHt3q2h1gus+VQ8mKQKpLKZHS6/v6gs/cMB6jwLcs4HVkh\n",
              "kb38ieQRGyJTSsrlGcMa9FR6wSNtq+mtHxSWWBfVXn+p9dapzJrXksDOdCotibfGVgVDNHznRcBw\n",
              "zen4jIeYBtwhqkfTIiqZKR5BhyQV7N/pK/3RYjNXSF/VXDWcsqXgqnCnX+JmkOqJ/DgBna3hCgzt\n",
              "Xy9n1uqT4aztJt94zw2Xd546Vy7YGdX/jGlOnNeAK9BICsl/DLk6Ka8+/cL0bgZzo5DTx4vFX1sa\n",
              "7e0u0grS0AKElkixStFEIzknG6BZHfS8QUCg0x3NoBTZr37BrK5v/LfQOyyWcWSKn3is7I7KrHvo\n",
              "RXKeKS662Ze9kJK0xHvJ/uXqjkO6UWGcBha8P4C8xi2kASsz83y0M122vnvoEQjWYfbJCiLvIAb6\n",
              "IVo2wCefFbxuSfkyLD+PCOeW8DnTJ4/HaMhPVimw8v5dWr/hsLZDeu+RG1UNk0HqTD3SQPd0X/sw\n",
              "KfpvGwvFXekErEx1BH9WrMDtkG9+npl9dHReM1HfiO/j8AefYXeClbMgwh/T35Yea9So4JCy/T58\n",
              "yo4mok56tomY/PqCodq8Bjvyo3tjhHaTtsQcfsz9oS0BHuJCOBzJwFwo1RtdVg2PSmgV/WvsUzcu\n",
              "v1qyU10dZFC76D0p57P4bSb/qdPXOZcT65mDK8GR0dWyyCNDJugKqwIeVPmlJBUfzPcT6DBkbX5X\n",
              "U+BVGkM3OJl3sQNpV5f/vFizVaXymaP6nmJSVsIRypdV9joAYXNdRuMoAIheG5NimVajBOlWnWQ/\n",
              "GnpW/dDKpAXAiReQeh+OCP6vvxilQooEZImZXccIbN4u7b/Ax3m80dqN6tpU5ws2LMQH40HCohFW\n",
              "DqKSC6ZVHWLtRQF53BxwTWARIyHFgePMZdQZSTSBqkGKeDYGFVB7HYHbaAx8z4+s7LdwMIZRmYDE\n",
              "IBZa8OXe+DtrCsqyFPmOefttvkmU+lMNYBBX52cybwr0LbzC+S2lN8E7ms7LZXYPrz7wXUIhN3Yp\n",
              "3u2tzTdGO6ev6EODPTxhburUA9DGNirtpbxLp1NNM42D154IWznJdFfIh3sEFuWbdEjtdr6CmCfY\n",
              "eBXQi7QqzheC95BCJBx8ysE5HjiQsqAJ4vWHYLOgcZAAZmAHH2MbcwjzJedNs36CRHuoUacTh7av\n",
              "Nso0S63IKyAWrxS84A32NAvEuZVORSLLNZOHP5DDkY4/dwAV6Ypy6gAABYkBn7RqQS8AAdUIPA4I\n",
              "2up2SNZ8tYANMJqYMihetrSi7H3G+tdMDa8oM8iQFqVVQJrv+mKsOqWywinRcw+ujDM+EPk32lD4\n",
              "mxlmg2MUMKJEx3GIoN569nVXikOy63KLOOxvAySO8O0GIcqP7vy7CBdCNlgo1neIhJ6PqxH86PG1\n",
              "qw8IAKbGSvn+NqvgtqbShsq+hCSQKFU4XW0Ln+jx1qWG4U4dSXlX1glZJaNjwmipUqkc5hdC5vaf\n",
              "Mk4wVt7eiu7650DqBGOxfi23Lw5xABKsOWtILTK1Z1c1OBUFdVX8ZjrFP6MPVn4OnTGccvYbO561\n",
              "B/wQR+ukyMDHQT2PpAGoB1Rc9WiuUJul4niqaPUOfISKO04TfV90+vBPFT5i8Hy3Rf9MBxoRBAYB\n",
              "9fZX9YHDfdPRYHQcP+RFkBI5l/M3MVaifGYbJ1mEOK47hE1+YzXwbqY8oPP3pNn1h+lmE97ez5xO\n",
              "Ce1Ealkx+TzHhmaBRB6dnQ2Q9HH1tOVRRHxPlobhncnHu9kUIzAE3cRAbG1U4kzIoESVVajCgxvG\n",
              "jhh0CB/1B+qsIJLe54nbM+oqlQqROGK/5bBnUYvQt75PMVr1W+f2miHcEzlFtBkKltz9buoTyJVF\n",
              "xYxZTXAs+YCPfwrZ8QeTciCEth2VjKaJ9/Mf7yplGbY+Jzv7jinffjDIKTLGFAiRZQkPgSzGUHcA\n",
              "y5xBo3m2ptU+YilW4V88UagMoHObPm4PMd3hu9fXR1ErDB9vHeH6gu2gQEdiawRUjjHatNSyj8QB\n",
              "63CT3Bb4aQKx6U8wnbgot9fvUBBv5d34yLOqvWvays7zsF3MFi9Uhv36FiHmoL1E9ER9g3ZNUxtS\n",
              "QNkoXPbUWqZX2eLttRjLD7lpNAlG8mFZ7/MxRuBUV9GOVPMzNLsoPDDXQ/MTYPxg0E6AgiZcIPuK\n",
              "Hw1qwwcLQv/Yf82P4iVp/9xUK3DKCumtq3WMerDjKY0ieC9g8i3g6yXiD0X0KzZSwYbU8x1vaC2S\n",
              "Uepe/upNL8lme3xKNHI5FLWCdXgGWcThyA2BvmJxvKrahwa9wolXblrHBcUL/xT4GYG8W+C4PbBq\n",
              "4JE3jNv6H6F1L2sMekTpXbJsK6NW+KZWOgzzONTalOtfqdczXmPECEAEZOltdqvTE/SEPYR5iXkR\n",
              "c03rKH3ou6Dd032aljR44uBTFuwc2HfctbanTPgZngjGrXf74RFOMSYC/xppZX6tRt1m3dR5BrZx\n",
              "X71LH/L8aPWtoFDEg3O0fnVQf0ed/TSML8dnFE33RR3mmVkvZujkE72ESqZKuYwJQ12pUC8XedlC\n",
              "Aaya+bplLGxfJPemDGR/2WGHMepIEyZ95X4FZq4a5dR5t9cdX4vS0okBT265UQLM6L6pJGp65bUV\n",
              "z0Dd+WDaiPtk+xBVIwjT4rhwaFLCvr0ZEMBi6MLElTMf7cMTrs9rtiY4lO8plY8sa2tzVREMKQyu\n",
              "fZRTEEvvdgussgG2i0BI3DiJN0IqF+6wuFsHMC2hR0pj6WGu8/dK0KkhNsm+pBcv/Ewb+KJFSlma\n",
              "eIR7tL5epZlvmK40uLYs7S7n+J/H/gH1kUXmqN5QVCYQNLBmFNm1C14het66orup4/KmIX16uymP\n",
              "oMq/8AOvi5jG5n6yjeMpbZF/Twwrz6S1iWmK4iFIXQ5JftoawWui4ykBdWsTj0+jjQYmfF0ijELU\n",
              "cBI5gru4NAbly4Ps1bF7wdVuxqL0FwQ8tMnpHCbWueN7NLYlkUlLBdWdLgaOfA3c3hMbFCqKRDgh\n",
              "ziN+8pxnku2eKwPzJpMajKVfFoWujzszBK3AUKbfaNspyC6Nxp9SOyeCc0TOm8DPtI+h4qgaGUG/\n",
              "1hsjMU1SuiVyyL4hfnYS4l4Is/NFlwSYgGWyWRi+2XFkxomBAAANDEGbuUnhDyZTAgt//talUACA\n",
              "KPl+Ca0RIAAqasaN3G/mMm7bJEGVgpJnt6Hxc0eLkM2drepLe5ltElpTGAX9fHaysOCeW2ifYH16\n",
              "JcmkIkMxaORHND2QWaduSImkLBqBqD802KUsBoobctqOLTiPtLl1M+L9UYJwP23hr4tIz1Bc5IWZ\n",
              "BxuTcSmqjpaGWuStSVuQed+kckKCKa1qOjTmXaBnQ4ijC3RgVseACCoVoJDTzUsm3kizyBVt3bGG\n",
              "jfYV9RNS0+DjxKwKIsU3ThGx5cZluJaodpMk9/49Kx+gPwFSW5Y2EwSv/gidqiX22qLcs2aBPZMX\n",
              "LzT0bHYz4xsodquIWxBhMrCDrLf7G1H+HvjskV557x/kNfFkWXDaYV6QUnNtADiUu5grPBPFq5sk\n",
              "etmVb8CSr9dquMvFOMMDghxL2PtosnOrE6vsMPCxLIcFwc7TkxplBOis8KKyOMEq6DAaCU7vNJps\n",
              "9isSb12CD2XKdiw1ZGzCz+VTshwWHPfZIwi692wdJzWUJiz9mX95fwh2CXlt0piWsJCDy9xzIR4H\n",
              "jDkhCXute2k+WWNurDTmA3nsW57T5ynb1X6pxSEsNTYjv5tAN7JPXhhrL64t4D65bxRej0+nj/AL\n",
              "/wXZ3NjvIqWnBqtvzqsBE3y4x9gFI7dbh+doWh1DAaTq7411x+En3gx/SDES1Ds//2DApxOG9oDV\n",
              "eNhQ2vF/vGuTU4hkCrzf9tIrcazX8c89yEyMfISaWdNRSFYDY0oif4iMwgidUqjknSRouEZMNVEo\n",
              "NlMn6COYC9T+C00bouz3wRDvaBC8357MAVcw5d7R8Qgki7pBXO7gq2ZTcmd6j5nAqDdF4WnmNiSv\n",
              "PDEjk70Jw9EkNt7yem/WIZuFHSuLdZeW2ToaDJ+A/A2NIPBNsw1mNftKafdx9RuKuIKQ/fvudiXh\n",
              "EOQ7ng2qzTNw8i4hFs3tVH6Ohit3Asmjczgq/YYcu4ykIH/YZzWnvTH3c0W1o65ArqWDJ86bkTVI\n",
              "FVie+sSzOzUJJ7+fqn8IwH/StBE92co6QDsr2OelZX8mXPCerN0OuXDR7E3tYowkBJBL0cGwlxOG\n",
              "GwWfDxlDOgPeDK0cY8gbNs9QmJ/iHyHSb+nFvIhdP7AzqE7lv/IiM7kxpvnG7CzBUkPoJaJ2mRqC\n",
              "CU72xTHNrKI0LONN9nzg1TzJ2bB87Z7vwBLb5guymBVqMYcYUl9D6MbXvxpKdkv74saZKEppNXOh\n",
              "l8NH1nqFaUNJ5Lz2SgPg98pyPgWnbKi8z62ybXoTn3+EHxL5buZusWXqmyNhaRcEmGzMI8DzPTtm\n",
              "HNAN5IH/xo8B/Z8VCxEZwPvBUb2uWDrxD8iWn3YRUDd7bGOdzTRuWAP3aMQpXHyfDvk0dQgUKjkZ\n",
              "84C++xxQZnzmXPxCSYF72jxoxEcxu2+GgdtwsXGZC/9xq8voyX09jZdh1RAw+CqnagUtPVOPfX60\n",
              "9VhJjt7bvqqEP3wmZWVL3mHjhMvX1ksMkDBD00gEdA+eXnfVrv7V+dXJfI7QciBWihwl3FQxQjPy\n",
              "Ob+HOCPX1RaXodcx/LST1IjB7WSfjKmsEdU2hgSQ6GV1pOHPx87u9GBb7jU/3TKHjFQiLF79tR0i\n",
              "h9+RV3vzctEc+j0crnYtRNRLnXJo0HJOPvko2MLLg+VnV0X0iH48zWy5XhlNg7vD/JqibhWGPNJP\n",
              "Jg8xmmhrVhVYvFYtq/IYLkE/xrBCX7/G4krxpczpfCx7e0AvJtQDuyFyTq3CA7QZy//fePCphilC\n",
              "aZGYJ+43JoEz452XbAGumxERAocPheGWY5fga2tjfuYumMIPyWz1aeCJl7XQJe9LzUnzB57sIm3w\n",
              "PauUBxcTS/OxL65sUTgifgJruelC6TaCcJ8Vq/iIzVBV7BlLZwJS2tkNdMTaud9gp/H9AJ8eS3jO\n",
              "oRThCAe4bI9UDWLvAbdAkenqvBEyuDQwuCbXzWs5QT70vouD97PnAyw8aaaRMjI7NCMZpJ+hIPi1\n",
              "zlRKr83PYgzochFmKN21vlWRTWOaI7D9j0EAVzuxKx+uLYUWf+1L0mq7dphAc6e0d7szgzO50Sg+\n",
              "9xu70Q7uvlaVOzC+5/XeYPO8sfCiEjUH9Es9QZ9g179Kx96ZNJzoD+16SY3fxwfl2KaFVbNFE3Wr\n",
              "ksDmI6jqUBYXrSvgLQ1zex820rvVLNlTf2TiQdQaZX/C2on5jodeeLqIaeA379bfsuKJcIaO0eEa\n",
              "Pp+xQLj8BQn2q78rKHkE//toXzUIfyb4MhnOupcGmKlpNenr55GzwE4CxLbZrO7RfG9T+20cnoJp\n",
              "INvhCtvPO6XcqovKmuPDdz6soKwWkiuZNc8JKrybBkGb9y2O1gVFY8f+Sp2kw98jXqa7xLRYxF47\n",
              "Fpqs95/F961fadAPwP8w3/7/b74M3e0EKangUty79sgT0AL6bjzeAUf3obAIGfPcuY1gIc+SthVj\n",
              "9NpQtYr2ZMFFbI82++6atlZ7Tvbdvi0Tr+78/crDDdDQlv7FYg9GrFqvs1Zhci2EJg3o6Pda1xON\n",
              "d3A+1EAg2WtgbZKeUQ9+NW+Jgy9f7TtMUfbSrWcAcDcO4qe7E0WbcEuruyInh2YH3YwV7ZEFOJ4P\n",
              "vpZqKPz/Art65KxwowVPkEYvfJBqLRqR7DyLDUIiXrOTKm2wAp9e3aIknDAzu0WLn/3nhtAzkP8W\n",
              "IpiufKFRGs074oYYN2eo4J5vhDmPt5cBY3JzzkPiGyXpAa9BkfNPCf4WzD2OHLQ3uMDpyStqE9qa\n",
              "VEWGOt60JqBWU4jhM+LIHWn24Poc2XjzIBgmp561gJGg9vNyX5xZQP64WQJlAAIMX0iE8sriq1t2\n",
              "V37gDHASMBGLhsl6jV1JvgbAq5ZaB6oyv6G85VJFbrVzOHAk60FKWgy6GBl/v9Vyi22KQDex2O7Q\n",
              "AoCQwQsZZY5Xa5BbK9TW/jvUT7fppYewjdOSt+oQu/JNciwC3MUIA7zn8E5Fct6NksP2rf6oI5d+\n",
              "OATq0xq2VzTCeHc3Dpgqigp52zt00vPpzEMwPAaotOPNeZk9emW3RG1TBP0yu4Q76iWYM/pS3Rl7\n",
              "NutYp79hz53tHmKrX8gpXpQuUS0bsLGxWvAls2+aEhuQ2QsDt2A8WziVjgDj92eeXYnyIbf62oYF\n",
              "PYHRpaK4BcHQ9+v6MQfgsBeg9x1+Ue/aQqie+QDbWeUg/1bAIKO8J1XHwkDaofvpVIrAHEtAqg4+\n",
              "6TEUiMoUXKZv2ooWEeLSYjlZXLttv4LO+3riQpcvcKIBdX2Ymk6dolNvXtPYj5BQdNNSoknK/Dzf\n",
              "gk9iN49x3MikZ1cyrFtRa/vsb5RzdCWNAfExzbyj3kAkxN7gqwLjxeeC4uc7cCnlyvJ7v0dyg4fx\n",
              "/xxwIEH4AVnnbck3jyXIyiYEdNFfiRcs6fVuHyQ2yDVLmspg4quAzoToV+5ccQZ3yeUNlXtbnHnA\n",
              "qaRhHwtgjeuzYy7cw8utEg728xW0t+Z7DOmybXfsxLNli+r+IzJL5ufQuYcL3K48fdEAs8DWv1al\n",
              "Jx4NL8YSJs0flav9pMmrLPyG3Azoo3w8yuhjlXKqGdAbjmBAOzd5Dds2f1mcOyzFcbd0Kwr7nG6i\n",
              "pSmnQkZjHj6uCHjbV8xWidDALEr3X8AEBFzdAH9J8pfzedRyFUBYz/k4OXk5qWy9Wy6a5XaiG5D9\n",
              "csWrybCH9fMlltR78/x4oa9X8epx1uXnWl7B2IAUq60MfxnmeCB+gI00cecWokMOCYaRMtTJBTwH\n",
              "YdUAwBfE65J2WL5ov9A/0Cc0AZBvcuXtf+yH6x2kHDVlFTHOCAAF6YZ/+ltRETo9B7o8319vCXHY\n",
              "C+Ujyw9dgIXo0f4LNMHdC47Zu3X7CJMBArEaDew307/3SEPYQ1gde4yeOmHd/9XF9W4jcR8y3FL7\n",
              "q7HKtRp6J9h1gj/Sh+Ao4wIWjy3s1Ozkk/s1nM/E/aREf9sHld1DLAzDatZ/Sn7b8DPwMU4xm29N\n",
              "lQN96VpZaYN4qLuc24g5GxBlz2v50+1PD9kW+0z3yzMTclcfJxJ0lITrBR1m2XFnKR7VZrlToa/d\n",
              "aS1GpPGNJuw852YWeHStNqsyy/DXcS0MKVJKfgyfdv7Z2Yx57v6qpFR6n/tsJoJ1Y1JACWmvxQvu\n",
              "BkZ6g5yKUy8u9ZAS4NavLs4qUjcENEfU7w2MoNdnhgKrLupYBjZaI8brAcqqHPvxF43f902npMnh\n",
              "eQWe+w+JcxzfVtPiJwCoDBjhjqzksT5E5iWidU0LOUIRWh+5hBbIi3vA5onsVwo4vEvZDprov99V\n",
              "UkHSFVKbTpUShjfsby1DYft24oJOJrIHCm6jzMslcW9dWJwN324i/RxxfSaJJ+tldudXnTzZyGLc\n",
              "unaaVK8IyJd5MF0UzXIEmXfZDd7Wnx2zca/zks6tcVsKn+2Z6Y8Sa4JySYu1NgDa+ugtXodAebkz\n",
              "TB0xzzKpF0Ap5Y9xBCJJ7vAAAAibQZ/XRRE8FP8AALUyjhvLJT0gAISOonYGgGMRrbtRmQ2JpFng\n",
              "G0pMosFshIzC03YFkHoWvzdA3+uYEKL1OxtSipUN+LofsAnL3NHUTGoKPttOOU+YYpe2AbZju0R6\n",
              "2fv+PnbAi29b47Y54ZLzkcY18aaOTkO9lgQbZBQ5CbVwgIx2U2BmGL13unavgrXGC8yAi4EF0OHr\n",
              "5N6lKW2iDviC+simP+oSseOfPbKHDX/6kjm4Yreft2DApTr1DT5gz7t0QRTJzL/72sPSDX2vKILO\n",
              "X4joFNxKS7EAq8Zf9elOVjhVwocxEkrrMLwXDhwXO1H9abpHByeIDUZ4nvrcCStNtVmMmNB7a9Um\n",
              "owelxRdFg8/z5GpDbGnothZihqEW5nYkJHyKXyTBJ/+FVhpcL3XFHeP5JFBJtl2iQ//Cve0Ybhww\n",
              "XGWh6HfV+r1urK+D2TMlq4FqOJmUrJ5Pg397zSQsjVU0A4yI+lS0zSxibTu7tiuyH8KM4c0z7zUL\n",
              "6htgCgYkGeHJ5P0sONbOSwGW16MefqwN4/95RwO0pn+zGcp7GdVXNBt1ffefEF31vmvvihDo7f9V\n",
              "S+dJOOWqsRgduRRp36EcXgQ2jApvUpiARZJALfQZoUN3K2Jd8GlVtwH9XzDp0azMw8sAWpI+kFef\n",
              "PE//9+ATrM+UotjQmk9I7UfDUDp0snL+ZLiaDulhZUNl1cwRNooJzyncKbbvu0oRQ+afZbgMigzC\n",
              "DeqhEA06QkPCEqpH7UEEXp3f0MHH56ousHsLDW0UAdr1e//8QLNjoELKQGaV29E0igaM23nBOgWd\n",
              "3beifwXxxVWIiAc/aee5lbvB3T5w3vLha3lI5nLDAsQ7fFCZcdd1JXx9TRyonlxj42bsKSwGxPK3\n",
              "QNx9z7NYr2qdK5U+GYYNDZU58Zm9EJIcpTZH/uAC/nyyxZpWyZQDBrnjEtW2hROWWGDJMFLINcLI\n",
              "kqOAIzlPD4MfPsdYI74dcafrxhLEEfhNe0sEdkuqDYYS8U5s49U8N+4jV6mcJbI3kd8V6lj8pag+\n",
              "Ylwq/BGDcH9gPfJuHdJTwfY6FChsC6b+ss1A++r4T4yLmJudtZsGcMGLtsXSBe8p1+B5Dauc1x5G\n",
              "Gnyt3t75EDZxKWX1/NDZ11wmx6EhfXNJPkfUb+cFET5fXg0IHuE5N/nUqaYh+o3jwyYUN/8+4BSH\n",
              "JHVYZxmOEgSOaVULcsRh9cHysngk75+pR7diU1ZtDP4jLOXMJF0bjFbHJqvXIijMhfqM+ydjkIyE\n",
              "9Zy8e8P0MG5TqZKV/F7v0bKGv7yj3rBSR+hhVXys3GBCinFNisLBFl6p/lZve3oAWJNcXp9vgIDs\n",
              "uINRFfC73lKNLCmKO3PE/UKLL+iTPTBrk30poK32yUkoxeul0ndn2sz53Qr7BSENNulyjXaNiMT6\n",
              "Rca6wdTYT8xpP01N8IWy5o939wMfMxtCUh38qmw4RlT45UN7jP+abKmRP64Fmpf6uRGIqU8lTMNi\n",
              "8/Ps1WPED5KERw5kxGVVIBdXXPnSUa6uR5YR4nvdkqTnntBMEeDvpvpfd134piXjCrMNESFhARmN\n",
              "rzMgx51lzBaxar/D6zVCtsjuSq8Nj5BHfzQA9e+G7+Ji6uBABKBgGGo31zRLZY7JlPlr0RgMjsdr\n",
              "IGUqllT/8z8BoaH+RozOS2myfo9TnaD5G2hkjT60gsoIuxnwUmmH4Gu8WYAbwebQ9+GDpE0La26w\n",
              "dzbhhdhLybIh7idbUzWquRm2T93jUqQhhrFMDz+cRnYUZ15KgGmvamZrN+zdJjqFgvbYcI/2YOhj\n",
              "jKSXHemDxNfWvh0CS+OXuoVxAVo+UkSmfzM78bsuY6XpP+fEPqE+HRqrG4wvR6NkyS6fQ0yK95WQ\n",
              "lQAHvNP8aTXdCpZv23F6I9gUDRDGUF3mJi4q0J7mUbgMPHoFFgqQQ3gk0o1j4PcgQcoF9diR2QTo\n",
              "7K2EyBkmyOE5mJ6/tEi8+/915pId8PTUo/8xlRuo6wMnz+LzOkbAV3zwpqp/1TYJb4IY8+2ff66u\n",
              "cmGYHtyBAh/83GOzN2kXjN89ej36rzJlYUckQCeU1ZybYYEcCezpXeel6i+9UMRFuQ1jPy3lW5c3\n",
              "NLV7PvJixRPBiaob5Rje01Mygb5NO3TGTNCbmVM7SBDeRo5n/qPATH5xP5m7pdbwcYXaFRyuKM9K\n",
              "OXCBAKN9DKew/G/Ds6VuKDLHG253sYMHkhj+zgGutetEsndlHP0C2TldfhqW/Qv+elZaKaW735Yq\n",
              "Wq1g27ZREAjPQL8CDr3ceOoOQ+yNz5+Xh9UKFg01nhjHqtulWbBuzoQ1J12391Av1HKWcdc8Re/j\n",
              "m1GftkQlBBoFqETlZ8Qtw9s0V9GkU/+Wz9ey52rNVoOj67G+AEALnTbBWIM+i4S4C2xHpjSWjL6y\n",
              "b4wtccBDhI8V/Whyuo8zWc9wxV1oaRO71eP5inq/LVUWB5X/bHPmkk0czPiM4CYkf3xmyr9mb8Ro\n",
              "2qE/R74ZtWYE3ag7NSsvSAlG8ATPgBlNXggPu8nrGn0cKM0DMPt/sEe9HSEmGAw/VIbOM1Hv+sAk\n",
              "U2xBV6y4ugwvVbVTnyXXKtx8Z3lNpCKPuyPTFzCPSifayAll9K1P1tWRb3Mvq6G8myif9qSxmZHu\n",
              "3dxXzuGbOtKQjBFw+h2M/Z7c16lGmRpT9VHAgvYsCk17MlcQqlKLqQfLaGpCEHt1xSkCSYVVScLg\n",
              "iXG4d24k8moPDLVhw9HE0P3H6x6J5uWgHyMoKntMPuSY6DLSvXtqmpN2VmS/eIeVDJQN/gGbfUzo\n",
              "EIqX8vgssXty0mHeGkJsZm7vTskMiKh0z0ZYrD3fasAYhJ4cHurcshPLvyESt/XPSx8mxx5wGl/c\n",
              "T0fQO3Lywl9lL0rW5mM+6g1uQA0rwBfjvsXTEubgK6ALdg+8T31JiYN+I+W9ZvoTgYi87YX3dC3e\n",
              "sQAABeIBn/Z0QS8AAeVSejG+GW+3/SUnnYAQ6tzHSgI88JKdAllWxMg4VY83TuWN65fkc3UfxwUI\n",
              "AM1PZhg4h1wgLTYXolpF9X5Ldn+u6YXYvlOZ7nV9DNo8/NOLvN/5D99NkN+CNyK+NaqlTpVTY8KS\n",
              "TIMAcqOzoBmFxpg3W2kLd8//AfxLhEzotQ4JaNBZl+vOS1ymF+6McudE1zWbxYfZjVRG1gPV+UQS\n",
              "qKpPNQQqBCUDAl5369sltyQVyKPQmoheMMQSTgYLZovqU93yq4SMAFuwsl5qXAMfSzcQZluSE9IO\n",
              "1IB7xu8ijbD9CXRzACprT2BfEYtXQKszUT2a+k6Ei8I5GdXyZSJ8CxTjBdrpIOYVxvRBOX3388Gk\n",
              "eREfoi3eCNTWQlhTj17TysAWScMpuzJ9d3mlRbdZzTTkVKh5Wl4hzHfjt0lkh/5ZVJ51IhM8UKbt\n",
              "DymtZnvXWXlH0DXnuz43CBvfmBuSSmGRCjQuvpH7GYjwyly9v01Md8VDnqgVh2PByGZxt2txlDdR\n",
              "7qnfMEuyXao8NffuTkLt84MwFnyl2MEk45rnIdkuVyLZZMbbWKtKRpuD0kBRrql64DnVHpkSSdh6\n",
              "YSjc+Swt99AIm9sNSMLmIti6p8LhAehFonbeTdwhShm/bB9y63EZ4vlMD1Bng464mUAQgHDzJK3W\n",
              "ZA8Iphz7ZJbRGuoFBWRB2Df6NPxA+o1tRcBS+bpFXHVdvKZey6PlngIhAddnXoMchq87qoAOH2uq\n",
              "uZ6oAoztDLV29PAH8V4TYYNiLibaXz6iJ0PRVg4ntEQFVpzOwdcEPMV1lPg6eu4E23IIMN8K5BC/\n",
              "1REtmYUjoUHSz6wb+ONe4P3vIXO7ASE15iqMpWvMOUbo0J/3Re1oPsaoxeo0zB0vfC8ClEK+gNh7\n",
              "/OhXmvDSyMGALeEqYtOVIB/gHROuWW7xthnA7Mnbwabk7+EO4LaUztnS54xyVJXduGZzP4t1gtz3\n",
              "VO6Xz5I6NJbVOTomE9F3ykEhqfw3NI1aoZyE9m66rotRdm8YgN16UHu+58IhE+GIfSNimCWmHlt6\n",
              "aCJTjCERON1GAJ6kR3wRqaP+xEV8k7Q/uFsHE9oimPuHYBqP+5jyK9QKejWax5EViexlJy+kEpnG\n",
              "56qER9c8ys4PkpnLh5ALgNqSWfYPzzW+hrfeUtt4YSuXP6eEyVDGt+2068dnXfcuyfEW/HdqaCAu\n",
              "61v5pWJP4l8SRTMCTQAQJyFJnLPmieZZSclU0pJAXG//8zQmG+HVPcH3dySG2vHdzBzcy0TKZXxx\n",
              "WW9Jzv6+5hKsnVEH/bNayNsRLbvi7xGv/pysrnvPd36PJ5/btHuyjafs8DfOaqZcLp/vKBzgJy+3\n",
              "6fl7glsEhGYsCBZkHGtJ9BI+Et9IH35qvTyAztSRnuU7W59uIBo1iu/PU9UvSoP9OsuP62z93ZWT\n",
              "j6vbfzgxCtcJe/NjMYKn2dbLKe4TtsR4TC1U2m8QITE/tAQyG1WAqhye76hRSZCgNQirgrtyiPVL\n",
              "PxsLkGEVoOjKwnTrmUp3hfS5J97+n1rdfZslhWNpYN6C78Z2SPfuolTx/XGMbmej0k0Ls/Y2UPfx\n",
              "qLEZmbqbJK3qyRU6XIOiSB1MLd4IKskvfRZWeVNvul2mgtK+jXcSvCN2gBtIn72WquH0Te9zrav8\n",
              "NumXF5+sD3ZQuCdFSxrhbHn9auWU+rjfJd8+AvkiHYl35n6FdKAmcuka7D0SSl3X7n65rrcPtepy\n",
              "CmNKVsKNwPya9R2W196OD8KFnAiHeFm4Uv9u7LdgnGNyHMJ8AUU94zqidMvxrj84A1DpgEkL0e5I\n",
              "RmMuSdIBQENyT7yd9da7p+/nO5QvRX5+jlr30G/OJGevP9x0p6uS/Xp+g67jQ1yxysiMP70mTiyW\n",
              "wHmfuEysRqV5wnBb9hbPO+3eSld5+IZTerjLl55PqGG93vxe8+nLXqS41GNLEeDZdz9yIX7NjTHO\n",
              "Agvr7E8qb+I0AOh7UnS0MB4l2x+13aKfeAHgsIEAAAXqAZ/4akEvAAHwS/Oj6iy8BCFxhMAEPy9W\n",
              "kHfWY8Ja0hL0VWO7E4CDr4iRetazYiJCcyAY3lGWJV9f1UIi+nOIqnNfSodUL1DWIifMqodjPNhu\n",
              "51MwaD7EPWFPTnxnD6ZAB+f+FIjdRVg07MgPk0WfxI8vPMa4kxYZ1vZ7y5z90MxTR3fp/MV3k0EW\n",
              "qbC9SDdi8vopdnLilwv7lYquOdhajVtHWhBGDaHzgJVuzQV6v++z4WD98W4oOQmtj9DSMISx+vHt\n",
              "JGzwyBo2D2PlcxYRVnNg8ic4XLa79w7KXhtTm6dirMfGPVNSR7wmwxAXchenqWfMcIECTwIfnvlD\n",
              "HHIC2lZ1katCgH0kPSt5XpEcTgVSCnwT4gmjEumt7TEZc5gTOyyFyK2JUXaE4T3hVr2aM6G+UHPf\n",
              "AyJXcEtvzSg2MqWc/rTCFQKTabN22RWb2CTkcKmXIMAy8Lz3MKqGVwgY55Vuwc9TNOb17GAJg24I\n",
              "21Pwgx9BIGK9cIQybXluhp8qtz/UiqINuCNtT8IZyDEDFeuEKw4jTkNoS+nhBBtwRtqfhFJ2qlgp\n",
              "XCED6L7ALxRNIwqZPMlvDctfK16tSF/q8E5naGWfwniLpH61Oi+brH97FvZAua5PbxZs6sz9fZm2\n",
              "EvK3KX+AtTEw28iD+luSBhpdG2Oohebrm93H4Lr7SqGq+6vt6licV7XdbWI+eJxIHauKBw+qIrvS\n",
              "7UxO7kRBL8sqds4XBQmqGYIAPYt7adT+CdW6aHHsP6ZQLLzCQHapYe3D3WElrCMeVbkhvj6U3v6T\n",
              "zm8SrMYSjp5GjXW0m07O1G8Kc18uL6FMT2/NmwAGz37ImrdrvTKbUihofo3Lx7ruZSRr1JqtH20s\n",
              "rkWfhdtXTaTsQ2u//TJHNwuMGMA/GqvMIv4YjoxJqk0mFIKcG5ZNiDJzClE37+iCHZYm9nXvqT0k\n",
              "qPmobGaYlY9UBjKwIgqdrYAnLLMz/EAtXdHdXY6bOuvZxqx/pHdWhqUZI36TU/3CyEJ9XH6mINpA\n",
              "44d1EmEJQKmwg2id7KKMGdqYx+d9WnYNIrK+6CHw+XEtNllFREAbNWE/wTy4kkaAPtxkHn69zY2o\n",
              "ZwPxcWSD2FTrz5tyHE3gLyBYEGRvKjMk2FwZVpWudRUrcjzEC8KnRBMvMJYRdFFuoQBTHAsNtN1u\n",
              "/6QmxCs4uj1U0RGLgDm2ZuNQvZzR/3OSlGcYOK9EutMzm+g2lhf15wTZXnRgD9ikv9MR+/a6jeBv\n",
              "w41+89wgvbBBNAMDvRP5W63/9IdwnEYhVGRFex7iXVWUCIMB3jkp3S3E+92tGsWpefWf+prHBUCQ\n",
              "s2erK21UKA49Q4bAsDo4Ya9Oz3ODoZgnFhBD23scUEMiP6QHLSE+2Zc5MeE1KigyisVrLdh0lT6N\n",
              "YAmGLV1bQ/8aSiVuBark3b3C/ae8mRBMCWOoe4OXv7r2OXbMyCcfMRLzjqaKPhf0+xUdiEhbzCE+\n",
              "g1uoFrXdUx3FL+0EQJkxV7jGHHAx/UUNfKZIdlzXxaqhmyPKD2pFMcqUFVdq73i2wT6N2GC4i4//\n",
              "yB6zggbF08zcIolVhYi6o02rnxHYAvnvFeTbuQuii3UIApjgWQl+VjRLACJx1GwiH+FrQzWa9oF1\n",
              "8U+moRN140Jdf5zZS1FX0ef3CTWHYRHxcw8W8sliK6ZDwFDFgvK2g553IT6/RaDIG/9tl5hfCExG\n",
              "H47KxrqGKI1156WkaY08GLcekmM4RtlYpacvlikqWPCUWobny+8cDeMN/YtmXPM6QZPjHV5ig58Z\n",
              "ze30H1BkcURZ7IfFD3g92lRbrR8BRTsQ9sLhZ6K8k4wGvKp4bijkYo/9X7mNUcRAEJia0heaXCNW\n",
              "J5RXcGjYP9e5qRacvlOh8MY7KwNSUTv1QyUjaOnQVAEnoZtN/n+LYTvxsF00UG4IC9U1dbkkzSHO\n",
              "mcVx1j9G6P85oL0RcQz7lSrsmx/QGQ0yWqhdJtzs7QtpqXJTmCOP4bmtVD2gfu01LmzXbSZnaXwe\n",
              "rps6MTpAC2gAAAeWQZv6SahBaJlMCC3//talUAB6XodXoAETK+SZ9NZh7Ju6cvbCyzVtDj1NQ1sb\n",
              "EGQcQQqVWsF249RmGa2Lgt9JEph8b0B9izgAPEv4CwCTJdauaf6zaj4lCNvoewC///ISukk/lc4n\n",
              "JAj18QQG63AN+aZCF9OzoqwDCc/2GX4AAGo3P/+S54TkmzZQYUs+c8nAGPL800yhrOtlOfGvb2KK\n",
              "4kXv25UcKTTRnVe90rzVDHNqgPc416lhLYwof1EeDxeKSI3cSNpOZWLHfTFfDfF6NdnNAw4t/alb\n",
              "a+AgcfsYmuDg387CqKZCTnbIqw7xeXRqf9EBbqFC/eoaukHbQQ73DeUF9bMBbH7jltI/Ln69/jD8\n",
              "WBaiNVv/nD0ZuC32MfqAlo5FdDMBlH9p7e6dxqCczWCxGT8BlZpezKes/K7Wp1P6bLNq6JduDeUw\n",
              "9+Tl7OocMiHrx8/YVBBAD5bbwGGFt8w8hLRznsW2sHhMNuoOt17pkMV+SPkPz61vL2OzsM3RzntM\n",
              "l414jEmUy5BgGaWVXvSrBSuEKZpa6dkwjo4wHS8oKmXIMA0rrs02QYqGcke50mSnp8yKW3P24+Ql\n",
              "Mw3BtybPkuNqJTWpBQvOFf7SuKVoQfDsw33P738yOBepEuZPVe9dEGE2X8lrN+9kgcVGMZtO/8Bj\n",
              "pZpfejkHHxOtj1x6x0zZpYJGFPbPX79pEK8DcsZ5wGzGtErOvXW6jaaYaPnbjyrp7Xqp40jARMT7\n",
              "HrzSrxksSHlFpF0IT4dSqMzL7gxOe3NMdR2hoyiKYqHZqh3fEGSrXWZYUAbBmOdSquCB2ZNkmvjT\n",
              "3UnHrNDaTmWFcjWpbOjoFNotHqmkItwGapSJg4T6HJJCP9vBueRqg/VbpQ754aOazxrTk9qpT6jO\n",
              "YLog/DIYDqHto0JP6G6HKQGrgzT+4Xh6zQeQ1JUkt5VBrrvFTzA5EWABEdCSP6kEX6DKDABx4qLp\n",
              "P9pAqwZPSS7DG8mHiYgMQO5iRtXPDMRLS1OPSlR4pJSWiknw+4SnyNKxL8ut5Ys75cvbLqhZTf4p\n",
              "gNwgPVmQPSOevu4LAMmQ+61Y1CvYhw5WYuCAgNm8mRrf7+VjHf3mvPPg1TNoWmkjikNwbGEpoTyX\n",
              "alTAc4+CSoes++wHSaVR2fuLL8HWcp6thJFxPx6aZQ0rnt2BgOisTNfRgcag05H3CsBpguskzLmh\n",
              "5APx5IXNooJgB+yRgpiYDGfIGyNVlxFNdwGC7RaHkf4x/OhGLvu2hZnB5tK8agQw9qgcLNlfl9og\n",
              "U/wTP14fhpSCM6s3VICNKMLELB8peVoXWy+7QI/ayLjvElgNBUPaYtdVK/yPCLMLmSfbTfoackD4\n",
              "xxki0KZwrKky2Y+jlv8rcgYPWbUdkKGW8zUHKRCXOnygpj7YcENc9zmmcbptHsW2VDeKK8uXDjf9\n",
              "LU5cJiuHK3vBhHfGt1iFxOa6hsjD6Kwio0mSuX9WaDDCWW4mxjiXw/jPCFnw7NKXNV9a8jI8C/V+\n",
              "8XBykrdpCCHP9TUva4nqot3degnryMVkFJOj3N/D07VlhyKBJ9Nc41+iLuD5Q/E5OzSmqXwaE15J\n",
              "EBJ5XX+K99G39Wp55sGgHvxBkXMvN2kqBpHTbqoX7qj26P1Spcza6X5fd8kf7dtRYD8oTsldE8Ai\n",
              "9trXOCGkrzcL29RKy26+I/TuJElGBsUKFON/W4zOsHyYe0EHWAKGDsxFZOU4HaXVfoRfGCy6ip2Z\n",
              "TSpczed+Pn6AqyEetOy14HDWA+D4q+FDpPvSL+/5rE5e4vIV+qwMczlmKIqzyRf6rG6djVqlOQDE\n",
              "aHJM2xdvhBsU/QvgwX71w2ataoWJ7lPllYwOmCHJMRyHlBZfr68tzZkyHcORjDJBatuXP79aaQo5\n",
              "z22pu9OuqmZVQWkuevklp1bqDgkZmOUpvmmnoQ74CQIu5F+get+6WFh4POhp8hHldDvyJRKTH2Af\n",
              "yPmMUomlDpgEc+gdqfCGkGgdzd8G8Tbs1AZM9MZYWRflFkak76xMVYGvjwQLKrh1uTE34BeMvXsZ\n",
              "Bav9BOhNMzMsemrEbtILZ/J6SIvkGd6AlIyyzsM+ti7ch2wr4lf3kdoDjyHyeUfkZqipWHuW/ZVb\n",
              "X/kZFvsEalGIrYxGgZ2kGOitflbDbkphwa7XPepM3kz/ZFu4k0AuJfJcF61n6h8x/c8ZfLob5pDx\n",
              "gaWs2oOChFDurLPtysn3gQJC1TthhbYfGQIlX44w+MJz1cxBecrMK0nEP/JUty9PJZbzy5OTS8Yl\n",
              "RwD2xGKMqeHHlmziJ6S2/ESi+rGYAvpmriR0YW7G55oTyHb5wkAi/31wyYlLK3NiQzP6SF0w3iB/\n",
              "TfKmnCqs0TE0usLvfhOjHzMV2zSKqztQMQvsZRohaklCAwq/mdJ4qVLTve71Rgl4IySoa0QlwQmv\n",
              "Bim7styQ5cFXlsikz6daDGeyfmfzG8KovOwycn8HG014AFfrm7Fh/YLs4XTvtU6B9DxbSZoz4AiJ\n",
              "r7MSTufpbfsmvI2IcanjIvfK2eAyhxTerBq4bF87+CxmRxHWvauSB+A/9w4nA7/cWm79vyGBVnkL\n",
              "qzXhRR8+fCBVbSQ+AySjOQAAAz1BmhtJ4QpSZTAgv//+2qZYAHzi6GAA3CVKFugvENxjT5Bkc2Ul\n",
              "SM1+tThUSTAjSuLLk1l+UjLQvPd4CppqegKzkJrDUb6yyxx46nmGg8Q/AQD4+q2miu34vWFKoQzn\n",
              "i7UrUPp6UteI9aHa/CCUDvweE3DWrVPdXA+3iHAj1UMs53RjUW1dbeaNIoX/zqoiqYADHYbvrQkt\n",
              "42ncDlnMNViFr3LpI8rXidKbegMY4HdbiqkafJ1evMKwTR8JGgUGeR/GFpwDVwHSmV88D8UPa/yS\n",
              "9JEhM1Z9kyRKNOs/vM4RW+LdcZjOLYcRsx7AY+1S7hR3WczfJVdmyD/bWMS574k6gmmbO6Ys7s1c\n",
              "nLjEupj/3GO/44tCd8MXN2X9XjLo8FBsV8mo/wnakaFTEPRnteAibd5QwvBZgKIKz+O6pfqjs492\n",
              "skKI3usDhOcvZAon57kZVjk6XMxpfj+8aip8WIE1N/2OKd3uHkUoNZ6LxSn7EbD43kyFosIWlwhT\n",
              "Y8RwqiLGfywsn7VvsC5yeTZ7MZVDgvl7JxykAEmkCWjb3cruliJRRC9fILl/Ei9MzlHeJPeVxQ9Z\n",
              "RfNvRt3WwCdVTPEIhDtJGvM+YfrhFYKzQqJXF35KOcYx7wGANzk9k0IN8hg6KavDtfQyYH2V8bjV\n",
              "fSvufKXlQlQEAvSmQbun1WeNP+IuaXr7ia6HmwccxWlH7VyqISissRh3ZJO/UchwAOoNqYW3o/TQ\n",
              "Ou86CybYLJdV0aqy002BeLkOi+O1qrQCrhNt5OKKSo0X65hHbISbALOYDuOnAMhTaoykRhw2IrKD\n",
              "pYlP90G0MmahAnlCB6qRGNlLt14EYq/lOUc/27rUu3BG8q8xFMcOt+Z22Fo9bo2AO4I2YLiBXOQe\n",
              "MUVrNs31lGsthS1tlhutMireSHa1vavvMLM8Mece9bfr3X7Ro1ImqS8iXwmajVKmWO+v7A/w4RwW\n",
              "il8TRxpc6cOoEEJPOjaJdb+RbhBmhuH0sLD6uzoV2qwkY9Yts3wufpAY4M4DQ5X1E/zd4mpIeo+x\n",
              "cQHdYX5Dg+lz+EsUxaSDpATjEZYQPRTwPzKBKZAY34iVshAiaQD615u99vZ6yRoLj/V8AAADvEGa\n",
              "P0nhDomUwIL//tqmWAB6Z1FFekANiFEbb7OS87GZ8h8FyL+KWb0DtEjem3u6hOuBAJFBX4EUcdtf\n",
              "SEPL0vhGXNFF0lzVi3uy3+wvc8r1gcq1W/lXaIixmJKonHylXOtm3GYy05TfIyb+Y4k+wa76fP4A\n",
              "YjOT3V8TtKvKwkbFZBo3/a6+VAnhIoMRMg9FHQgwK+IYGupRVa2QmOs4aC5e3vZ2TbXUFUsWcGen\n",
              "bCVBgeW4aWB+6lzQv49eqJq0h0yhoCs1PpWD8of//4ISqc+82VeP3XPQVSOxuucHCIl1NDlh+5z3\n",
              "9CZJjVjQWTIwiwSFj4h1QXn9IzXlku+Cywp6JCMqZkqxXT8Y2H9wHjFnDN3qEyXl+58lnDNv7KRN\n",
              "/fCoFdzafyxBLfY+z2ugJCwgwSBdjuNuPjJVhafW+wTC5GdLZmpzzTfVkcRAbHD6uB+6SlFrwe7O\n",
              "JUoV5H78/s4IVaiv9phUon6vSAfm8rpBySUwXY1iFZ3NIEH91GWmZxaucsbYEVRAU0gVzKBkLQfU\n",
              "aorro1VwgCQTW4h/T1+mQeFdRsjVD8WGL8DCXHTJ/1QF526dn76wcOjbjWLLqfz7le8UqPQ2i1mm\n",
              "NxmTODuSN+EzbeYUQhjKy5uO6bIZwUxn7fQXURNEgRM6SxIY8qg07c9bxtnaB0lQW6NQ1/h0zUcK\n",
              "ogrELOOTET4Zjqes7bdMRG/Fj/YTz7+zO7v60+1eiCuDc9CYA9CpkrzYfhIPZgMbqjHcIcwjtN5A\n",
              "BKmu7xOiR6Cz86qKAmJEANtkMlsv9e641wsSwM1Zmwoc167JbpwsQagmJs4eHcYTOTXqVGuuyB3t\n",
              "4R1C56OBObtsP9jLsY/Eb2Vyk/lWN4eayw8+qQssOUTfouTBYL5XCWLF+kowph6+f8JKdafLClDJ\n",
              "itGYvd/Ey2c7H0+ffQAIYPfh6aQfWtUvJJH0bGYYeaXv29Y/deI4pqN5tXQh7el82ZyMrz5kHXY4\n",
              "VE3y0BhkPnEYqi0tCCysuntnwG1afNUGfI3ZwoWAaViyZ5JB3JcMkHvaIBbwZ0pCPtVLCChUklNM\n",
              "RQ+dimWs0yzEWT1GSCQEv8ireFGXxhO40AWWZSoo+MqxWsMBtUyJu9iPTsIiIRwFcHUkoQJ+Icfs\n",
              "zZTBJCCgmny+tl9wJZSOHoqyb3OUeBurmge/dpLfVun7A5s0yCWlfAakefsCYx/0hdtfWpXpkvji\n",
              "Y1APJGlxGIsVe1E50A4H8aJ9m2owkixMuF/O0MymFFl13RNGv0C2gkwJAAAATUGeXUURPBT/AACs\n",
              "KB7gUHiLJhf03Uxhl7Czx4Amgv6VVgcFumS0ZOpppOk6VWdtNJIglXAgPpTNb7bvHajLflmdarfa\n",
              "gkS4FOX3tVMPAAAAPwGefHRBLwAB2lKZMgo1cEO6RJuGUi+rhV6mYsVUsiKPov9uDROzj7P8O5hg\n",
              "lPm28X8vBvfserRUb1hFmEPsgAAAABsBnn5qQS8AAAMAAAMAAAMALDv9qdWoUWlbUoAAAABCQZpj\n",
              "SahBaJlMCC///tqmWAAAAwAJg87ZoBZDVYF3Uc56jB5WckC1UKt5gZcx62VADPfMfhMXK0q0tQPb\n",
              "6rohNiCBAAAAKUGegUURLBT/AAAI5cfodrYLQfMoAAOjyseiyL8fjLOlrA3xONltDTKgAAAAGwGe\n",
              "oHRBLwAAAwAAAwAAAwAsOR2Z1IQWgIVSgQAAABsBnqJqQS8AAAMAAAMAAAMALDv9qdWoUWlbUoAA\n",
              "AAAyQZqnSahBbJlMCC///tqmWAAAAwAJg87ZoBZM8YF5vZzwAuu14gk2DZlQA1F9asHn+bkAAAAp\n",
              "QZ7FRRUsFP8AAAjlx+h2tgtB8ygAA6PKx6Lavt60NdLpBvicbLaGmVEAAAAbAZ7kdEEvAAADAAAD\n",
              "AAADACw5HZnUhBaAhVKBAAAAGwGe5mpBLwAAAwAAAwAAAwAsO/2p1ahRaVtSgQAAADBBmutJqEFs\n",
              "mUwIL//+2qZYAAADAAmDztmgFkNVgXm9nPbln9UzO/MgC+9Os7vI4YAAAAApQZ8JRRUsFP8AAAjl\n",
              "x+h2tgtB8ygAA6PKx6Lsvqz0VARhBvicbLaGmVAAAAAbAZ8odEEvAAADAAADAAADACw5HZnUhBaA\n",
              "hVKBAAAAGwGfKmpBLwAAAwAAAwAAAwAsO/2p1ahRaVtSgAAAACtBmy9JqEFsmUwIL//+2qZYAAAD\n",
              "AAmDztmgFkzxgXdRznty0Zf+4wmQAAccAAAAJkGfTUUVLBT/AAAI5cfodrYLQfMoAAOjyseiTose\n",
              "Q/tgXef9gLaBAAAAGwGfbHRBLwAAAwAAAwAAAwAsOR2Z1IQWgIVSgQAAABsBn25qQS8AAAMAAAMA\n",
              "AAMALDv9qdWoUWlbUoEAAAArQZtzSahBbJlMCC///tqmWAAAAwAJg87ZoBZDVYF5vZzxhZ/VMzvz\n",
              "IAAOOAAAACZBn5FFFSwU/wAACOXH6Ha2C0HzKAADo8rHok6LHkP7YF3n/YC2gAAAABsBn7B0QS8A\n",
              "AAMAAAMAAAMALDkdmdSEFoCFUoEAAAAbAZ+yakEvAAADAAADAAADACw7/anVqFFpW1KAAAAAK0Gb\n",
              "t0moQWyZTAgv//7aplgAAAMACYPO2aAWTPGBeb2c9uWf1TPmEyAADjgAAAAmQZ/VRRUsFP8AAAjl\n",
              "x+h2tgtB8ygAA6PKx6JOix5D+2Bd5/2AtoEAAAAbAZ/0dEEvAAADAAADAAADACw5HZnUhBaAhVKA\n",
              "AAAAGwGf9mpBLwAAAwAAAwAAAwAsO/2p1ahRaVtSgQAAACtBm/tJqEFsmUwIL//+2qZYAAADAAmD\n",
              "ztmgFkNVgXdRznty0Zf+jfmQAAcdAAAAJkGeGUUVLBT/AAAI5cfodrYLQfMoAAOjyseiToseQ/tg\n",
              "Xef9gLaAAAAAGwGeOHRBLwAAAwAAAwAAAwAsOR2Z1IQWgIVSgQAAABsBnjpqQS8AAAMAAAMAAAMA\n",
              "LDv9qdWoUWlbUoAAAAArQZo/SahBbJlMCC///tqmWAAAAwAJg87ZoBZM8YF5vZzxhZ/VM+YTIAAO\n",
              "OQAAACZBnl1FFSwU/wAACOXH6Ha2C0HzKAADo8rHok6LHkP7YF3n/YC2gQAAABsBnnx0QS8AAAMA\n",
              "AAMAAAMALDkdmdSEFoCFUoAAAAAbAZ5+akEvAAADAAADAAADACw7/anVqFFpW1KAAAAAK0GaY0mo\n",
              "QWyZTAgv//7aplgAAAMACYPO2aAQMETnd7FToPiPA/o35kAAHHEAAAAmQZ6BRRUsFP8AAAjlx+h2\n",
              "tgtB8ygAA6PKx6JOix5D+2Bd5/2AtoAAAAAbAZ6gdEEvAAADAAADAAADACw5HZnUhBaAhVKBAAAA\n",
              "GwGeompBLwAAAwAAAwAAAwAsO/2p1ahRaVtSgAAAACFBmqdJqEFsmUwIL//+2qZYAAADAADUYj1p\n",
              "ACw5xNAAAdMAAAAmQZ7FRRUsFP8AAAjlx+h2tgtB8ygAA6PKx6JOix5D+2Bd5/2AtoEAAAAbAZ7k\n",
              "dEEvAAADAAADAAADACw5HZnUhBaAhVKBAAAAGwGe5mpBLwAAAwAAAwAAAwAsO/2p1ahRaVtSgQAA\n",
              "ACFBmutJqEFsmUwIL//+2qZYAAADAADUcrrSAFg9KaAAA6YAAAAmQZ8JRRUsFP8AAAjlx+h2tgtB\n",
              "8ygAA6PKx6JOix5D+2Bd5/2AtoAAAAAbAZ8odEEvAAADAAADAAADACw5HZnUhBaAhVKBAAAAGwGf\n",
              "KmpBLwAAAwAAAwAAAwAsO/2p1ahRaVtSgAAAACFBmy9JqEFsmUwIL//+2qZYAAADAADUcrrSAFhz\n",
              "iaAAA6YAAAAmQZ9NRRUsFP8AAAjlx+h2tgtB8ygAA6PKx6JOix5D+2Bd5/2AtoEAAAAbAZ9sdEEv\n",
              "AAADAAADAAADACw5HZnUhBaAhVKBAAAAGwGfbmpBLwAAAwAAAwAAAwAsO/2p1ahRaVtSgQAAACFB\n",
              "m3NJqEFsmUwIL//+2qZYAAADAADUYj1pACw5xNAAAdMAAAAmQZ+RRRUsFP8AAAjlx+h2tgtB8ygA\n",
              "A6PKx6JOix5D+2Bd5/2AtoAAAAAbAZ+wdEEvAAADAAADAAADACw5HZnUhBaAhVKBAAAAGwGfsmpB\n",
              "LwAAAwAAAwAAAwAsO/2p1ahRaVtSgAAAACFBm7dJqEFsmUwILf/+1qVQAAADAADUcbiUAK6K0sAA\n",
              "B8wAAAAmQZ/VRRUsFP8AAAjlx+h2tgtB8ygAA6PKx6JOix5D+2Bd5/2AtoEAAAAbAZ/0dEEvAAAD\n",
              "AAADAAADACw5HZnUhBaAhVKAAAAAGwGf9mpBLwAAAwAAAwAAAwAsO/2p1ahRaVtSgQAAABxBm/tJ\n",
              "qEFsmUwILf/+1qVQAAADAAADAAADAD7hAAAAJkGeGUUVLBT/AAAI5cfodrYLQfMoAAOjyseiTose\n",
              "Q/tgXef9gLaAAAAAGwGeOHRBLwAAAwAAAwAAAwAsOR2Z1IQWgIVSgQAAABsBnjpqQS8AAAMAAAMA\n",
              "AAMALDv9qdWoUWlbUoAAAAAcQZo/SahBbJlMCCv//talUAAAAwAAAwAAAwA+4QAAACZBnl1FFSwU\n",
              "/wAACOXH6Ha2C0HzKAADo8rHok6LHkP7YF3n/YC2gQAAABsBnnx0QS8AAAMAAAMAAAMALDkdmdSE\n",
              "FoCFUoAAAAAbAZ5+akEvAAADAAADAAADACw7/anVqFFpW1KAAAAAG0GaY0moQWyZTAgl//61KoAA\n",
              "AAMAAAMAAAMB6wAAACZBnoFFFSwU/wAACOXH6Ha2C0HzKAADo8rHok6LHkP7YF3n/YC2gAAAABsB\n",
              "nqB0QS8AAAMAAAMAAAMALDkdmdSEFoCFUoEAAAAbAZ6iakEvAAADAAADAAADACw7/anVqFFpW1KA\n",
              "AAAHvm1vb3YAAABsbXZoZAAAAAAAAAAAAAAAAAAAA+gAAMNQAAEAAAEAAAAAAAAAAAAAAAABAAAA\n",
              "AAAAAAAAAAAAAAAAAQAAAAAAAAAAAAAAAAAAQAAAAAAAAAAAAAAAAAAAAAAAAAAAAAAAAAAAAAAA\n",
              "AAIAAAbodHJhawAAAFx0a2hkAAAAAwAAAAAAAAAAAAAAAQAAAAAAAMNQAAAAAAAAAAAAAAAAAAAA\n",
              "AAABAAAAAAAAAAAAAAAAAAAAAQAAAAAAAAAAAAAAAAAAQAAAAANgAAABsAAAAAAAJGVkdHMAAAAc\n",
              "ZWxzdAAAAAAAAAABAADDUAAAQAAAAQAAAAAGYG1kaWEAAAAgbWRoZAAAAAAAAAAAAAAAAAAAQAAA\n",
              "DIAAVcQAAAAAAC1oZGxyAAAAAAAAAAB2aWRlAAAAAAAAAAAAAAAAVmlkZW9IYW5kbGVyAAAABgtt\n",
              "aW5mAAAAFHZtaGQAAAABAAAAAAAAAAAAAAAkZGluZgAAABxkcmVmAAAAAAAAAAEAAAAMdXJsIAAA\n",
              "AAEAAAXLc3RibAAAALNzdHNkAAAAAAAAAAEAAACjYXZjMQAAAAAAAAABAAAAAAAAAAAAAAAAAAAA\n",
              "AANgAbAASAAAAEgAAAAAAAAAAQAAAAAAAAAAAAAAAAAAAAAAAAAAAAAAAAAAAAAAAAAAABj//wAA\n",
              "ADFhdmNDAWQAFv/hABhnZAAWrNlA2DehAAADAAEAAAMABA8WLZYBAAZo6+PLIsAAAAAcdXVpZGto\n",
              "QPJfJE/FujmlG88DI/MAAAAAAAAAGHN0dHMAAAAAAAAAAQAAAGQAACAAAAAAFHN0c3MAAAAAAAAA\n",
              "AQAAAAEAAAMQY3R0cwAAAAAAAABgAAAAAgAAQAAAAAABAACgAAAAAAEAAEAAAAAAAQAAAAAAAAAB\n",
              "AAAgAAAAAAEAAIAAAAAAAgAAIAAAAAABAACAAAAAAAIAACAAAAAAAQAAoAAAAAABAABAAAAAAAEA\n",
              "AAAAAAAAAQAAIAAAAAABAABgAAAAAAEAACAAAAAAAQAAYAAAAAABAAAgAAAAAAEAAGAAAAAAAQAA\n",
              "IAAAAAABAACgAAAAAAEAAEAAAAAAAQAAAAAAAAABAAAgAAAAAAIAAEAAAAAAAQAAoAAAAAABAABA\n",
              "AAAAAAEAAAAAAAAAAQAAIAAAAAABAACgAAAAAAEAAEAAAAAAAQAAAAAAAAABAAAgAAAAAAEAAKAA\n",
              "AAAAAQAAQAAAAAABAAAAAAAAAAEAACAAAAAAAQAAoAAAAAABAABAAAAAAAEAAAAAAAAAAQAAIAAA\n",
              "AAABAACgAAAAAAEAAEAAAAAAAQAAAAAAAAABAAAgAAAAAAEAAKAAAAAAAQAAQAAAAAABAAAAAAAA\n",
              "AAEAACAAAAAAAQAAoAAAAAABAABAAAAAAAEAAAAAAAAAAQAAIAAAAAABAACgAAAAAAEAAEAAAAAA\n",
              "AQAAAAAAAAABAAAgAAAAAAEAAKAAAAAAAQAAQAAAAAABAAAAAAAAAAEAACAAAAAAAQAAoAAAAAAB\n",
              "AABAAAAAAAEAAAAAAAAAAQAAIAAAAAABAACgAAAAAAEAAEAAAAAAAQAAAAAAAAABAAAgAAAAAAEA\n",
              "AKAAAAAAAQAAQAAAAAABAAAAAAAAAAEAACAAAAAAAQAAoAAAAAABAABAAAAAAAEAAAAAAAAAAQAA\n",
              "IAAAAAABAACgAAAAAAEAAEAAAAAAAQAAAAAAAAABAAAgAAAAAAEAAKAAAAAAAQAAQAAAAAABAAAA\n",
              "AAAAAAEAACAAAAAAAQAAoAAAAAABAABAAAAAAAEAAAAAAAAAAQAAIAAAAAABAACgAAAAAAEAAEAA\n",
              "AAAAAQAAAAAAAAABAAAgAAAAAAEAAKAAAAAAAQAAQAAAAAABAAAAAAAAAAEAACAAAAAAHHN0c2MA\n",
              "AAAAAAAAAQAAAAEAAABkAAAAAQAAAaRzdHN6AAAAAAAAAAAAAABkAAAlwQAAB+MAAAa3AAAGlQAA\n",
              "BJMAAAeOAAAFXQAABmAAAAdgAAAHpQAABPwAAAXoAAALLgAACWwAAATyAAAGnwAABhoAAAhDAAAD\n",
              "rgAAAUgAAAmqAAAFjQAADRAAAAifAAAF5gAABe4AAAeaAAADQQAAA8AAAABRAAAAQwAAAB8AAABG\n",
              "AAAALQAAAB8AAAAfAAAANgAAAC0AAAAfAAAAHwAAADQAAAAtAAAAHwAAAB8AAAAvAAAAKgAAAB8A\n",
              "AAAfAAAALwAAACoAAAAfAAAAHwAAAC8AAAAqAAAAHwAAAB8AAAAvAAAAKgAAAB8AAAAfAAAALwAA\n",
              "ACoAAAAfAAAAHwAAAC8AAAAqAAAAHwAAAB8AAAAlAAAAKgAAAB8AAAAfAAAAJQAAACoAAAAfAAAA\n",
              "HwAAACUAAAAqAAAAHwAAAB8AAAAlAAAAKgAAAB8AAAAfAAAAJQAAACoAAAAfAAAAHwAAACAAAAAq\n",
              "AAAAHwAAAB8AAAAgAAAAKgAAAB8AAAAfAAAAHwAAACoAAAAfAAAAHwAAABRzdGNvAAAAAAAAAAEA\n",
              "AAAsAAAAYnVkdGEAAABabWV0YQAAAAAAAAAhaGRscgAAAAAAAAAAbWRpcmFwcGwAAAAAAAAAAAAA\n",
              "AAAtaWxzdAAAACWpdG9vAAAAHWRhdGEAAAABAAAAAExhdmY1Ny44My4xMDA=\n",
              "\">\n",
              "  Your browser does not support the video tag.\n",
              "</video>"
            ],
            "text/plain": [
              "<IPython.core.display.HTML object>"
            ]
          },
          "metadata": {
            "tags": []
          },
          "execution_count": 452
        },
        {
          "output_type": "display_data",
          "data": {
            "image/png": "[encoded data removed]",
            "text/plain": [
              "<Figure size 864x432 with 1 Axes>"
            ]
          },
          "metadata": {
            "tags": [],
            "needs_background": "light"
          }
        }
      ]
    },
    {
      "cell_type": "markdown",
      "metadata": {
        "id": "OVp0Kex2Z6iH"
      },
      "source": [
        "# Referências"
      ]
    },
    {
      "cell_type": "markdown",
      "metadata": {
        "id": "7z_VzqSBZ_Dc"
      },
      "source": [
        "*   https://docs.scipy.org/doc/scipy/reference/stats.html\n",
        "*   https://matplotlib.org/stable/api/_as_gen/matplotlib.pyplot.hist.html\n",
        "*   https://olympics.com/ioc/faq/history-and-origin-of-the-games/since-when-have-the-summer-and-winter-games-no-longer-been-held-in-the-same-year\n",
        "*   https://towardsdatascience.com/learn-how-to-create-animated-graphs-in-python-fce780421afe\n",
        "*   https://matplotlib.org/stable/gallery/color/named_colors.html\n"
      ]
    }
  ]
}